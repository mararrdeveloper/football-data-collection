{
 "cells": [
  {
   "cell_type": "code",
   "execution_count": 1,
   "metadata": {},
   "outputs": [],
   "source": [
    "#DB Connection \n",
    "import pymssql\n",
    "import pandas as pd\n",
    "import pyodbc\n",
    "import numpy as np\n",
    "conn = pyodbc.connect(\"Driver={SQL Server Native Client 11.0};\"\n",
    "                     \"Server=Martin-PC\\SQLEXPRESS;\"\n",
    "                     \"Database=FootballData;\"\n",
    "                     \"Trusted_Connection=yes;\")\n",
    "#conn = pymssql.connect(server=\"localhost\", user=\"\",password=\"\", port=63642)  # You can lookup the port number inside SQL server. \n",
    "\n",
    "data_folder = 'data/'"
   ]
  },
  {
   "cell_type": "code",
   "execution_count": 2,
   "metadata": {
    "scrolled": false
   },
   "outputs": [
    {
     "name": "stdout",
     "output_type": "stream",
     "text": [
      "(7750, 12)\n"
     ]
    },
    {
     "data": {
      "text/html": [
       "<div>\n",
       "<style scoped>\n",
       "    .dataframe tbody tr th:only-of-type {\n",
       "        vertical-align: middle;\n",
       "    }\n",
       "\n",
       "    .dataframe tbody tr th {\n",
       "        vertical-align: top;\n",
       "    }\n",
       "\n",
       "    .dataframe thead th {\n",
       "        text-align: right;\n",
       "    }\n",
       "</style>\n",
       "<table border=\"1\" class=\"dataframe\">\n",
       "  <thead>\n",
       "    <tr style=\"text-align: right;\">\n",
       "      <th></th>\n",
       "      <th>HomeTeam</th>\n",
       "      <th>AwayTeam</th>\n",
       "      <th>HomeTeamId</th>\n",
       "      <th>AwayTeamId</th>\n",
       "      <th>ExternalId</th>\n",
       "      <th>Date</th>\n",
       "      <th>Country</th>\n",
       "      <th>League</th>\n",
       "      <th>Season</th>\n",
       "      <th>Stage</th>\n",
       "      <th>AwayTeam_Id</th>\n",
       "      <th>HomeTeam_Id</th>\n",
       "    </tr>\n",
       "  </thead>\n",
       "  <tbody>\n",
       "    <tr>\n",
       "      <th>0</th>\n",
       "      <td>Leicester</td>\n",
       "      <td>Everton</td>\n",
       "      <td>8197</td>\n",
       "      <td>8668</td>\n",
       "      <td>1723984</td>\n",
       "      <td>2014-08-18 15:00:00</td>\n",
       "      <td>England</td>\n",
       "      <td>Premier League</td>\n",
       "      <td>2014/2015</td>\n",
       "      <td>1</td>\n",
       "      <td>13</td>\n",
       "      <td>9</td>\n",
       "    </tr>\n",
       "    <tr>\n",
       "      <th>1</th>\n",
       "      <td>Burnley</td>\n",
       "      <td>Chelsea</td>\n",
       "      <td>8191</td>\n",
       "      <td>8455</td>\n",
       "      <td>1723983</td>\n",
       "      <td>2014-08-18 15:00:00</td>\n",
       "      <td>England</td>\n",
       "      <td>Premier League</td>\n",
       "      <td>2014/2015</td>\n",
       "      <td>1</td>\n",
       "      <td>14</td>\n",
       "      <td>10</td>\n",
       "    </tr>\n",
       "    <tr>\n",
       "      <th>2</th>\n",
       "      <td>Liverpool</td>\n",
       "      <td>Southampton</td>\n",
       "      <td>8650</td>\n",
       "      <td>8466</td>\n",
       "      <td>1723985</td>\n",
       "      <td>2014-08-18 15:00:00</td>\n",
       "      <td>England</td>\n",
       "      <td>Premier League</td>\n",
       "      <td>2014/2015</td>\n",
       "      <td>1</td>\n",
       "      <td>15</td>\n",
       "      <td>12</td>\n",
       "    </tr>\n",
       "  </tbody>\n",
       "</table>\n",
       "</div>"
      ],
      "text/plain": [
       "    HomeTeam     AwayTeam HomeTeamId AwayTeamId ExternalId  \\\n",
       "0  Leicester      Everton       8197       8668    1723984   \n",
       "1    Burnley      Chelsea       8191       8455    1723983   \n",
       "2  Liverpool  Southampton       8650       8466    1723985   \n",
       "\n",
       "                 Date  Country          League     Season Stage  AwayTeam_Id  \\\n",
       "0 2014-08-18 15:00:00  England  Premier League  2014/2015     1           13   \n",
       "1 2014-08-18 15:00:00  England  Premier League  2014/2015     1           14   \n",
       "2 2014-08-18 15:00:00  England  Premier League  2014/2015     1           15   \n",
       "\n",
       "   HomeTeam_Id  \n",
       "0            9  \n",
       "1           10  \n",
       "2           12  "
      ]
     },
     "execution_count": 2,
     "metadata": {},
     "output_type": "execute_result"
    }
   ],
   "source": [
    "#Matches select\n",
    "stmt = \"\"\"SELECT Teams.FullName as HomeTeam, Teams2.FullName as AwayTeam, \n",
    "        Teams.ExternalId as HomeTeamId, Teams2.ExternalId as AwayTeamId\n",
    "\t  ,[Matches].ExternalId as ExternalId\n",
    "      ,[Date]\n",
    "      ,[Country]\n",
    "      ,[League]\n",
    "      ,[Season]\n",
    "      ,[Stage]\n",
    "      ,[AwayTeam_Id]\n",
    "      ,[HomeTeam_Id]\n",
    "FROM  [FootballData].[dbo].[Matches]\n",
    "LEFT JOIN [Teams] ON Matches.HomeTeam_Id = Teams.Id\n",
    "LEFT JOIN [Teams] as Teams2 ON Matches.AwayTeam_Id = Teams2.Id\"\"\"\n",
    "# Excute Query here\n",
    "df_matches = pd.read_sql(stmt,conn)\n",
    "df_matches.drop_duplicates(['ExternalId'], inplace=True)\n",
    "df_matches['Date']=pd.to_datetime(df_matches['Date'])\n",
    "print(df_matches.shape)\n",
    "df_matches.head(3)"
   ]
  },
  {
   "cell_type": "code",
   "execution_count": 3,
   "metadata": {},
   "outputs": [
    {
     "data": {
      "text/plain": [
       "Timestamp('2014-08-10 15:00:00')"
      ]
     },
     "execution_count": 3,
     "metadata": {},
     "output_type": "execute_result"
    }
   ],
   "source": [
    "df_matches['Date'].min()"
   ]
  },
  {
   "cell_type": "code",
   "execution_count": 4,
   "metadata": {},
   "outputs": [
    {
     "data": {
      "text/plain": [
       "Timestamp('2019-05-12 14:00:00')"
      ]
     },
     "execution_count": 4,
     "metadata": {},
     "output_type": "execute_result"
    }
   ],
   "source": [
    "df_matches['Date'].max()"
   ]
  },
  {
   "cell_type": "code",
   "execution_count": null,
   "metadata": {},
   "outputs": [],
   "source": []
  },
  {
   "cell_type": "code",
   "execution_count": 5,
   "metadata": {},
   "outputs": [
    {
     "name": "stdout",
     "output_type": "stream",
     "text": [
      "(83999, 6)\n",
      "(82698, 6)\n",
      "(104795, 7)\n"
     ]
    },
    {
     "data": {
      "text/html": [
       "<div>\n",
       "<style scoped>\n",
       "    .dataframe tbody tr th:only-of-type {\n",
       "        vertical-align: middle;\n",
       "    }\n",
       "\n",
       "    .dataframe tbody tr th {\n",
       "        vertical-align: top;\n",
       "    }\n",
       "\n",
       "    .dataframe thead th {\n",
       "        text-align: right;\n",
       "    }\n",
       "</style>\n",
       "<table border=\"1\" class=\"dataframe\">\n",
       "  <thead>\n",
       "    <tr style=\"text-align: right;\">\n",
       "      <th></th>\n",
       "      <th>Id</th>\n",
       "      <th>ExternalId</th>\n",
       "      <th>MatchId</th>\n",
       "      <th>Minute</th>\n",
       "      <th>HomePossession</th>\n",
       "      <th>AwayPossession</th>\n",
       "      <th>TeamId</th>\n",
       "    </tr>\n",
       "  </thead>\n",
       "  <tbody>\n",
       "    <tr>\n",
       "      <th>23575</th>\n",
       "      <td>23576</td>\n",
       "      <td>5608920</td>\n",
       "      <td>1990109</td>\n",
       "      <td>45</td>\n",
       "      <td>48</td>\n",
       "      <td>52</td>\n",
       "      <td>0</td>\n",
       "    </tr>\n",
       "    <tr>\n",
       "      <th>101845</th>\n",
       "      <td>101846</td>\n",
       "      <td>9473086</td>\n",
       "      <td>2782309</td>\n",
       "      <td>75</td>\n",
       "      <td>70</td>\n",
       "      <td>30</td>\n",
       "      <td>0</td>\n",
       "    </tr>\n",
       "    <tr>\n",
       "      <th>78144</th>\n",
       "      <td>78145</td>\n",
       "      <td>6424716</td>\n",
       "      <td>2300743</td>\n",
       "      <td>90</td>\n",
       "      <td>41</td>\n",
       "      <td>59</td>\n",
       "      <td>0</td>\n",
       "    </tr>\n",
       "    <tr>\n",
       "      <th>84183</th>\n",
       "      <td>84184</td>\n",
       "      <td>7510596</td>\n",
       "      <td>2580724</td>\n",
       "      <td>25</td>\n",
       "      <td>42</td>\n",
       "      <td>58</td>\n",
       "      <td>0</td>\n",
       "    </tr>\n",
       "    <tr>\n",
       "      <th>41102</th>\n",
       "      <td>41103</td>\n",
       "      <td>5265253</td>\n",
       "      <td>2002267</td>\n",
       "      <td>45</td>\n",
       "      <td>59</td>\n",
       "      <td>41</td>\n",
       "      <td>0</td>\n",
       "    </tr>\n",
       "  </tbody>\n",
       "</table>\n",
       "</div>"
      ],
      "text/plain": [
       "            Id ExternalId  MatchId  Minute  HomePossession  AwayPossession  \\\n",
       "23575    23576    5608920  1990109      45              48              52   \n",
       "101845  101846    9473086  2782309      75              70              30   \n",
       "78144    78145    6424716  2300743      90              41              59   \n",
       "84183    84184    7510596  2580724      25              42              58   \n",
       "41102    41103    5265253  2002267      45              59              41   \n",
       "\n",
       "        TeamId  \n",
       "23575        0  \n",
       "101845       0  \n",
       "78144        0  \n",
       "84183        0  \n",
       "41102        0  "
      ]
     },
     "execution_count": 5,
     "metadata": {},
     "output_type": "execute_result"
    }
   ],
   "source": [
    "#Shots on select\n",
    "stmt = \"SELECT * FROM ShotOns\"\n",
    "# Excute Query here\n",
    "df_shots_on = pd.read_sql(stmt,conn)\n",
    "#df_corners = df_corners['Minute'].notnull()\n",
    "print(df_shots_on.shape)\n",
    "df_shots_on.drop_duplicates(['ExternalId'], inplace=True)\n",
    "\n",
    "#Shots off select\n",
    "stmt = \"SELECT * FROM ShotOffs\"\n",
    "# Excute Query here\n",
    "df_shots_off = pd.read_sql(stmt,conn)\n",
    "#df_corners = df_corners['Minute'].notnull()\n",
    "print(df_shots_off.shape)\n",
    "df_shots_off.drop_duplicates(['ExternalId'], inplace=True)\n",
    "\n",
    "#Possessions select\n",
    "stmt = \"SELECT * FROM Possessions\"\n",
    "# Excute Query here\n",
    "df_possessions = pd.read_sql(stmt,conn)\n",
    "#df_corners = df_corners['Minute'].notnull()\n",
    "print(df_possessions.shape)\n",
    "df_possessions.drop_duplicates(['ExternalId'], inplace=True)\n",
    "df_possessions.replace('', np.nan, inplace=True)\n",
    "df_possessions.dropna(axis=0, how='any', inplace=True)\n",
    "\n",
    "df_possessions['HomePossession'] = df_possessions['HomePossession'].astype(int)\n",
    "df_possessions['AwayPossession'] = df_possessions['AwayPossession'].astype(int)\n",
    "df_possessions['Minute'] = df_possessions['Minute'].astype(int)\n",
    "#df_possessions['TeamId'] = df_possessions['TeamId'].astype(str)\n",
    "df_possessions.sample(5)\n"
   ]
  },
  {
   "cell_type": "code",
   "execution_count": 6,
   "metadata": {},
   "outputs": [
    {
     "name": "stdout",
     "output_type": "stream",
     "text": [
      "(22244, 8)\n"
     ]
    }
   ],
   "source": [
    "#Goals select\n",
    "stmt = \"SELECT * FROM Goals\"\n",
    "# Excute Query here\n",
    "df_goals = pd.read_sql(stmt,conn)\n",
    "print(df_goals.shape)\n",
    "df_goals.drop('Id', inplace=True, axis=1)\n",
    "df_goals.drop_duplicates(inplace=True)"
   ]
  },
  {
   "cell_type": "code",
   "execution_count": 7,
   "metadata": {},
   "outputs": [
    {
     "name": "stdout",
     "output_type": "stream",
     "text": [
      "(78204, 6)\n"
     ]
    },
    {
     "data": {
      "text/html": [
       "<div>\n",
       "<style scoped>\n",
       "    .dataframe tbody tr th:only-of-type {\n",
       "        vertical-align: middle;\n",
       "    }\n",
       "\n",
       "    .dataframe tbody tr th {\n",
       "        vertical-align: top;\n",
       "    }\n",
       "\n",
       "    .dataframe thead th {\n",
       "        text-align: right;\n",
       "    }\n",
       "</style>\n",
       "<table border=\"1\" class=\"dataframe\">\n",
       "  <thead>\n",
       "    <tr style=\"text-align: right;\">\n",
       "      <th></th>\n",
       "      <th>Id</th>\n",
       "      <th>ExternalId</th>\n",
       "      <th>MatchId</th>\n",
       "      <th>Minute</th>\n",
       "      <th>Player1</th>\n",
       "      <th>TeamId</th>\n",
       "    </tr>\n",
       "  </thead>\n",
       "  <tbody>\n",
       "    <tr>\n",
       "      <th>17836</th>\n",
       "      <td>17837</td>\n",
       "      <td>4116414</td>\n",
       "      <td>1709918</td>\n",
       "      <td>28</td>\n",
       "      <td>157859</td>\n",
       "      <td>9853</td>\n",
       "    </tr>\n",
       "    <tr>\n",
       "      <th>27924</th>\n",
       "      <td>27925</td>\n",
       "      <td>7411058</td>\n",
       "      <td>2525251</td>\n",
       "      <td>47</td>\n",
       "      <td>230900</td>\n",
       "      <td>9747</td>\n",
       "    </tr>\n",
       "    <tr>\n",
       "      <th>56188</th>\n",
       "      <td>56189</td>\n",
       "      <td>7565869</td>\n",
       "      <td>2588541</td>\n",
       "      <td>60</td>\n",
       "      <td>304733</td>\n",
       "      <td>8564</td>\n",
       "    </tr>\n",
       "  </tbody>\n",
       "</table>\n",
       "</div>"
      ],
      "text/plain": [
       "          Id ExternalId  MatchId Minute Player1 TeamId\n",
       "17836  17837    4116414  1709918     28  157859   9853\n",
       "27924  27925    7411058  2525251     47  230900   9747\n",
       "56188  56189    7565869  2588541     60  304733   8564"
      ]
     },
     "execution_count": 7,
     "metadata": {},
     "output_type": "execute_result"
    }
   ],
   "source": [
    "#Corners select\n",
    "stmt = \"SELECT * FROM Corners\"\n",
    "# Excute Query here\n",
    "df_corners = pd.read_sql(stmt,conn)\n",
    "#df_corners = df_corners['Minute'].notnull()\n",
    "print(df_corners.shape)\n",
    "df_corners.drop_duplicates(['ExternalId'], inplace=True)\n",
    "df_corners.sample(3)"
   ]
  },
  {
   "cell_type": "code",
   "execution_count": 8,
   "metadata": {},
   "outputs": [
    {
     "name": "stdout",
     "output_type": "stream",
     "text": [
      "(135, 1)\n"
     ]
    },
    {
     "data": {
      "text/html": [
       "<div>\n",
       "<style scoped>\n",
       "    .dataframe tbody tr th:only-of-type {\n",
       "        vertical-align: middle;\n",
       "    }\n",
       "\n",
       "    .dataframe tbody tr th {\n",
       "        vertical-align: top;\n",
       "    }\n",
       "\n",
       "    .dataframe thead th {\n",
       "        text-align: right;\n",
       "    }\n",
       "</style>\n",
       "<table border=\"1\" class=\"dataframe\">\n",
       "  <thead>\n",
       "    <tr style=\"text-align: right;\">\n",
       "      <th></th>\n",
       "      <th>ExternalId</th>\n",
       "    </tr>\n",
       "  </thead>\n",
       "  <tbody>\n",
       "    <tr>\n",
       "      <th>0</th>\n",
       "      <td>10242</td>\n",
       "    </tr>\n",
       "    <tr>\n",
       "      <th>1</th>\n",
       "      <td>9941</td>\n",
       "    </tr>\n",
       "  </tbody>\n",
       "</table>\n",
       "</div>"
      ],
      "text/plain": [
       "  ExternalId\n",
       "0      10242\n",
       "1       9941"
      ]
     },
     "execution_count": 8,
     "metadata": {},
     "output_type": "execute_result"
    }
   ],
   "source": [
    "#Teams select\n",
    "stmt = \"SELECT DISTINCT ExternalId FROM Teams\"\n",
    "# Excute Query here\n",
    "df_teams = pd.read_sql(stmt,conn)\n",
    "print(df_teams.shape)\n",
    "df_teams.head(2)\n",
    "#df_teams.count"
   ]
  },
  {
   "cell_type": "code",
   "execution_count": 9,
   "metadata": {},
   "outputs": [
    {
     "name": "stdout",
     "output_type": "stream",
     "text": [
      "(77384, 7)\n"
     ]
    },
    {
     "data": {
      "text/html": [
       "<div>\n",
       "<style scoped>\n",
       "    .dataframe tbody tr th:only-of-type {\n",
       "        vertical-align: middle;\n",
       "    }\n",
       "\n",
       "    .dataframe tbody tr th {\n",
       "        vertical-align: top;\n",
       "    }\n",
       "\n",
       "    .dataframe thead th {\n",
       "        text-align: right;\n",
       "    }\n",
       "</style>\n",
       "<table border=\"1\" class=\"dataframe\">\n",
       "  <thead>\n",
       "    <tr style=\"text-align: right;\">\n",
       "      <th></th>\n",
       "      <th>MatchId</th>\n",
       "      <th>ExternalId</th>\n",
       "      <th>Minute</th>\n",
       "      <th>TeamId</th>\n",
       "      <th>FullName</th>\n",
       "      <th>Acronym</th>\n",
       "      <th>Season</th>\n",
       "    </tr>\n",
       "  </thead>\n",
       "  <tbody>\n",
       "    <tr>\n",
       "      <th>30311</th>\n",
       "      <td>NaN</td>\n",
       "      <td>5164134</td>\n",
       "      <td>76</td>\n",
       "      <td>8535</td>\n",
       "      <td>Fiorentina</td>\n",
       "      <td>FIO</td>\n",
       "      <td>None</td>\n",
       "    </tr>\n",
       "    <tr>\n",
       "      <th>33808</th>\n",
       "      <td>NaN</td>\n",
       "      <td>5316460</td>\n",
       "      <td>40</td>\n",
       "      <td>208931</td>\n",
       "      <td>Carpi</td>\n",
       "      <td>CAP</td>\n",
       "      <td>None</td>\n",
       "    </tr>\n",
       "    <tr>\n",
       "      <th>41023</th>\n",
       "      <td>NaN</td>\n",
       "      <td>5805000</td>\n",
       "      <td>74</td>\n",
       "      <td>8634</td>\n",
       "      <td>Barcelona</td>\n",
       "      <td>BAR</td>\n",
       "      <td>None</td>\n",
       "    </tr>\n",
       "  </tbody>\n",
       "</table>\n",
       "</div>"
      ],
      "text/plain": [
       "       MatchId ExternalId  Minute  TeamId    FullName Acronym Season\n",
       "30311      NaN    5164134      76    8535  Fiorentina     FIO   None\n",
       "33808      NaN    5316460      40  208931       Carpi     CAP   None\n",
       "41023      NaN    5805000      74    8634   Barcelona     BAR   None"
      ]
     },
     "execution_count": 9,
     "metadata": {},
     "output_type": "execute_result"
    }
   ],
   "source": [
    "# Group by corners teams matches not working\n",
    "# stmt = \"\"\"SELECT  Corners.TeamId, convert (bigint, minute  ) as Minute, count(*) as count\n",
    "#   FROM [FootballData].[dbo].[Corners] \n",
    "#   LEFT JOIN [Teams] ON Corners.TeamId = Teams.ExternalId\n",
    "#   LEFT JOIN [Matches] ON MatchId = Corners.MatchId\n",
    "#   group by convert (bigint, minute  ),TeamId\n",
    "#   order by 1,2\"\"\"\n",
    "# # Excute Query here\n",
    "\n",
    "#Corners select\n",
    "stmt = \"\"\"SELECT DISTINCT  Matches.Id as MatchId, Corners.ExternalId, convert (bigint,  Corners.Minute) as Minute, Teams.ExternalId as TeamId,\n",
    "    Teams.FullName, Teams.Acronym,Matches.Season\n",
    " FROM [FootballData].[dbo].[Teams]\n",
    "RIGHT JOIN [Corners] ON Corners.TeamId = Teams.ExternalId\n",
    "LEFT JOIN [Matches] ON [Matches].ExternalId = Corners.MatchId\n",
    "\n",
    "AND Matches.Season = '2018/2019'\n",
    "\"\"\"\n",
    "#WHERE League like 'Premier League'\n",
    "df_corners_per_team = pd.read_sql(stmt,conn)\n",
    "#df_corners = df_corners['Minute'].notnull()\n",
    "\n",
    "df_corners_per_team.drop_duplicates(['ExternalId'], inplace=True)\n",
    "print(df_corners_per_team.shape)\n",
    "df_corners_per_team.sample(3)"
   ]
  },
  {
   "cell_type": "code",
   "execution_count": 10,
   "metadata": {},
   "outputs": [
    {
     "data": {
      "text/html": [
       "<div>\n",
       "<style scoped>\n",
       "    .dataframe tbody tr th:only-of-type {\n",
       "        vertical-align: middle;\n",
       "    }\n",
       "\n",
       "    .dataframe tbody tr th {\n",
       "        vertical-align: top;\n",
       "    }\n",
       "\n",
       "    .dataframe thead th {\n",
       "        text-align: right;\n",
       "    }\n",
       "</style>\n",
       "<table border=\"1\" class=\"dataframe\">\n",
       "  <thead>\n",
       "    <tr style=\"text-align: right;\">\n",
       "      <th></th>\n",
       "      <th>MatchId</th>\n",
       "      <th>CornerMatchId</th>\n",
       "      <th>Minute</th>\n",
       "      <th>TeamId</th>\n",
       "      <th>FullName</th>\n",
       "      <th>Season</th>\n",
       "    </tr>\n",
       "  </thead>\n",
       "  <tbody>\n",
       "    <tr>\n",
       "      <th>0</th>\n",
       "      <td>1709697</td>\n",
       "      <td>1709697.0</td>\n",
       "      <td>15.0</td>\n",
       "      <td>9837</td>\n",
       "      <td>Reims</td>\n",
       "      <td>2014/2015</td>\n",
       "    </tr>\n",
       "    <tr>\n",
       "      <th>1</th>\n",
       "      <td>1709697</td>\n",
       "      <td>1709697.0</td>\n",
       "      <td>15.0</td>\n",
       "      <td>9847</td>\n",
       "      <td>Paris Saint Germain</td>\n",
       "      <td>2014/2015</td>\n",
       "    </tr>\n",
       "    <tr>\n",
       "      <th>2</th>\n",
       "      <td>1709697</td>\n",
       "      <td>1709697.0</td>\n",
       "      <td>52.0</td>\n",
       "      <td>9837</td>\n",
       "      <td>Reims</td>\n",
       "      <td>2014/2015</td>\n",
       "    </tr>\n",
       "    <tr>\n",
       "      <th>3</th>\n",
       "      <td>1709697</td>\n",
       "      <td>1709697.0</td>\n",
       "      <td>52.0</td>\n",
       "      <td>9847</td>\n",
       "      <td>Paris Saint Germain</td>\n",
       "      <td>2014/2015</td>\n",
       "    </tr>\n",
       "    <tr>\n",
       "      <th>4</th>\n",
       "      <td>1709698</td>\n",
       "      <td>1709698.0</td>\n",
       "      <td>20.0</td>\n",
       "      <td>7794</td>\n",
       "      <td>SC Bastia</td>\n",
       "      <td>2014/2015</td>\n",
       "    </tr>\n",
       "  </tbody>\n",
       "</table>\n",
       "</div>"
      ],
      "text/plain": [
       "   MatchId  CornerMatchId  Minute TeamId             FullName     Season\n",
       "0  1709697      1709697.0    15.0   9837                Reims  2014/2015\n",
       "1  1709697      1709697.0    15.0   9847  Paris Saint Germain  2014/2015\n",
       "2  1709697      1709697.0    52.0   9837                Reims  2014/2015\n",
       "3  1709697      1709697.0    52.0   9847  Paris Saint Germain  2014/2015\n",
       "4  1709698      1709698.0    20.0   7794            SC Bastia  2014/2015"
      ]
     },
     "execution_count": 10,
     "metadata": {},
     "output_type": "execute_result"
    }
   ],
   "source": [
    "stmt = \"\"\"SELECT DISTINCT  Matches.EXTERNALID as MatchId, Corners.MatchId as CornerMatchId, convert (bigint,  Corners.Minute) as Minute, Teams.ExternalId as TeamId,\n",
    "    Teams.FullName,Matches.Season\n",
    "From MAtches \n",
    " LEFT Join \n",
    "\t(SELECT MatchId, TeamId, Min(Minute) as Minute\n",
    "            FROM Corners\n",
    "            GROUP BY MatchId, TeamId) Corners\n",
    "ON Corners.MatchID= MAtches.eXTERNALId\n",
    "LEFT JOIN [FootballData].[dbo].[Teams]\n",
    "on Matches.HomeTeam_Id = Teams.Id OR Matches.AwayTeam_Id = Teams.ID\n",
    "\"\"\"\n",
    "#WHERE CORNERS.MATCHID IS NULL \n",
    "#WHERE League like 'Premier League'\n",
    "\n",
    "df_first_corner = pd.read_sql(stmt,conn)\n",
    "#df_corners = df_corners['Minute'].notnull()\n",
    "\n",
    "df_first_corner.head(5)"
   ]
  },
  {
   "cell_type": "code",
   "execution_count": 11,
   "metadata": {},
   "outputs": [
    {
     "data": {
      "text/html": [
       "<div>\n",
       "<style scoped>\n",
       "    .dataframe tbody tr th:only-of-type {\n",
       "        vertical-align: middle;\n",
       "    }\n",
       "\n",
       "    .dataframe tbody tr th {\n",
       "        vertical-align: top;\n",
       "    }\n",
       "\n",
       "    .dataframe thead th {\n",
       "        text-align: right;\n",
       "    }\n",
       "</style>\n",
       "<table border=\"1\" class=\"dataframe\">\n",
       "  <thead>\n",
       "    <tr style=\"text-align: right;\">\n",
       "      <th></th>\n",
       "      <th>MatchId</th>\n",
       "      <th>CornerMatchId</th>\n",
       "      <th>Minute</th>\n",
       "      <th>TeamId</th>\n",
       "      <th>FullName</th>\n",
       "      <th>FullName</th>\n",
       "      <th>Season</th>\n",
       "    </tr>\n",
       "  </thead>\n",
       "  <tbody>\n",
       "    <tr>\n",
       "      <th>0</th>\n",
       "      <td>1709697</td>\n",
       "      <td>1709697.0</td>\n",
       "      <td>19.0</td>\n",
       "      <td>9837</td>\n",
       "      <td>Paris Saint Germain</td>\n",
       "      <td>Reims</td>\n",
       "      <td>2014/2015</td>\n",
       "    </tr>\n",
       "    <tr>\n",
       "      <th>1</th>\n",
       "      <td>1709697</td>\n",
       "      <td>1709697.0</td>\n",
       "      <td>22.0</td>\n",
       "      <td>9837</td>\n",
       "      <td>Paris Saint Germain</td>\n",
       "      <td>Reims</td>\n",
       "      <td>2014/2015</td>\n",
       "    </tr>\n",
       "    <tr>\n",
       "      <th>2</th>\n",
       "      <td>1709698</td>\n",
       "      <td>1709698.0</td>\n",
       "      <td>12.0</td>\n",
       "      <td>7794</td>\n",
       "      <td>Marseille</td>\n",
       "      <td>SC Bastia</td>\n",
       "      <td>2014/2015</td>\n",
       "    </tr>\n",
       "    <tr>\n",
       "      <th>3</th>\n",
       "      <td>1709698</td>\n",
       "      <td>1709698.0</td>\n",
       "      <td>17.0</td>\n",
       "      <td>7794</td>\n",
       "      <td>Marseille</td>\n",
       "      <td>SC Bastia</td>\n",
       "      <td>2014/2015</td>\n",
       "    </tr>\n",
       "    <tr>\n",
       "      <th>4</th>\n",
       "      <td>1709699</td>\n",
       "      <td>1709699.0</td>\n",
       "      <td>12.0</td>\n",
       "      <td>4087</td>\n",
       "      <td>Caen</td>\n",
       "      <td>Evian Thonon Gaillard</td>\n",
       "      <td>2014/2015</td>\n",
       "    </tr>\n",
       "    <tr>\n",
       "      <th>5</th>\n",
       "      <td>1709700</td>\n",
       "      <td>1709700.0</td>\n",
       "      <td>39.0</td>\n",
       "      <td>9747</td>\n",
       "      <td>Saint-Etienne</td>\n",
       "      <td>Guingamp</td>\n",
       "      <td>2014/2015</td>\n",
       "    </tr>\n",
       "    <tr>\n",
       "      <th>6</th>\n",
       "      <td>1709701</td>\n",
       "      <td>NaN</td>\n",
       "      <td>NaN</td>\n",
       "      <td>8639</td>\n",
       "      <td>Metz</td>\n",
       "      <td>Lille</td>\n",
       "      <td>2014/2015</td>\n",
       "    </tr>\n",
       "    <tr>\n",
       "      <th>7</th>\n",
       "      <td>1709702</td>\n",
       "      <td>1709702.0</td>\n",
       "      <td>64.0</td>\n",
       "      <td>9748</td>\n",
       "      <td>Rennes</td>\n",
       "      <td>Lyon</td>\n",
       "      <td>2014/2015</td>\n",
       "    </tr>\n",
       "    <tr>\n",
       "      <th>8</th>\n",
       "      <td>1709703</td>\n",
       "      <td>1709703.0</td>\n",
       "      <td>10.0</td>\n",
       "      <td>9829</td>\n",
       "      <td>Lorient</td>\n",
       "      <td>Monaco</td>\n",
       "      <td>2014/2015</td>\n",
       "    </tr>\n",
       "    <tr>\n",
       "      <th>9</th>\n",
       "      <td>1709703</td>\n",
       "      <td>1709703.0</td>\n",
       "      <td>78.0</td>\n",
       "      <td>9829</td>\n",
       "      <td>Lorient</td>\n",
       "      <td>Monaco</td>\n",
       "      <td>2014/2015</td>\n",
       "    </tr>\n",
       "    <tr>\n",
       "      <th>10</th>\n",
       "      <td>1709704</td>\n",
       "      <td>1709704.0</td>\n",
       "      <td>17.0</td>\n",
       "      <td>10249</td>\n",
       "      <td>Bordeaux</td>\n",
       "      <td>Montpellier</td>\n",
       "      <td>2014/2015</td>\n",
       "    </tr>\n",
       "    <tr>\n",
       "      <th>11</th>\n",
       "      <td>1709705</td>\n",
       "      <td>1709705.0</td>\n",
       "      <td>65.0</td>\n",
       "      <td>9830</td>\n",
       "      <td>Lens</td>\n",
       "      <td>Nantes</td>\n",
       "      <td>2014/2015</td>\n",
       "    </tr>\n",
       "    <tr>\n",
       "      <th>12</th>\n",
       "      <td>1709706</td>\n",
       "      <td>1709706.0</td>\n",
       "      <td>23.0</td>\n",
       "      <td>9831</td>\n",
       "      <td>Toulouse</td>\n",
       "      <td>Nice</td>\n",
       "      <td>2014/2015</td>\n",
       "    </tr>\n",
       "    <tr>\n",
       "      <th>13</th>\n",
       "      <td>1709706</td>\n",
       "      <td>1709706.0</td>\n",
       "      <td>45.0</td>\n",
       "      <td>9831</td>\n",
       "      <td>Toulouse</td>\n",
       "      <td>Nice</td>\n",
       "      <td>2014/2015</td>\n",
       "    </tr>\n",
       "    <tr>\n",
       "      <th>14</th>\n",
       "      <td>1709707</td>\n",
       "      <td>1709707.0</td>\n",
       "      <td>45.0</td>\n",
       "      <td>9827</td>\n",
       "      <td>Monaco</td>\n",
       "      <td>Bordeaux</td>\n",
       "      <td>2014/2015</td>\n",
       "    </tr>\n",
       "    <tr>\n",
       "      <th>15</th>\n",
       "      <td>1709707</td>\n",
       "      <td>1709707.0</td>\n",
       "      <td>48.0</td>\n",
       "      <td>9827</td>\n",
       "      <td>Monaco</td>\n",
       "      <td>Bordeaux</td>\n",
       "      <td>2014/2015</td>\n",
       "    </tr>\n",
       "    <tr>\n",
       "      <th>16</th>\n",
       "      <td>1709708</td>\n",
       "      <td>1709708.0</td>\n",
       "      <td>69.0</td>\n",
       "      <td>7819</td>\n",
       "      <td>Lille</td>\n",
       "      <td>Caen</td>\n",
       "      <td>2014/2015</td>\n",
       "    </tr>\n",
       "    <tr>\n",
       "      <th>17</th>\n",
       "      <td>1709709</td>\n",
       "      <td>1709709.0</td>\n",
       "      <td>90.0</td>\n",
       "      <td>8588</td>\n",
       "      <td>Guingamp</td>\n",
       "      <td>Lens</td>\n",
       "      <td>2014/2015</td>\n",
       "    </tr>\n",
       "    <tr>\n",
       "      <th>18</th>\n",
       "      <td>1709710</td>\n",
       "      <td>NaN</td>\n",
       "      <td>NaN</td>\n",
       "      <td>8689</td>\n",
       "      <td>Nice</td>\n",
       "      <td>Lorient</td>\n",
       "      <td>2014/2015</td>\n",
       "    </tr>\n",
       "    <tr>\n",
       "      <th>19</th>\n",
       "      <td>1709711</td>\n",
       "      <td>1709711.0</td>\n",
       "      <td>19.0</td>\n",
       "      <td>8592</td>\n",
       "      <td>Montpellier</td>\n",
       "      <td>Marseille</td>\n",
       "      <td>2014/2015</td>\n",
       "    </tr>\n",
       "  </tbody>\n",
       "</table>\n",
       "</div>"
      ],
      "text/plain": [
       "    MatchId  CornerMatchId  Minute TeamId             FullName  \\\n",
       "0   1709697      1709697.0    19.0   9837  Paris Saint Germain   \n",
       "1   1709697      1709697.0    22.0   9837  Paris Saint Germain   \n",
       "2   1709698      1709698.0    12.0   7794            Marseille   \n",
       "3   1709698      1709698.0    17.0   7794            Marseille   \n",
       "4   1709699      1709699.0    12.0   4087                 Caen   \n",
       "5   1709700      1709700.0    39.0   9747        Saint-Etienne   \n",
       "6   1709701            NaN     NaN   8639                 Metz   \n",
       "7   1709702      1709702.0    64.0   9748               Rennes   \n",
       "8   1709703      1709703.0    10.0   9829              Lorient   \n",
       "9   1709703      1709703.0    78.0   9829              Lorient   \n",
       "10  1709704      1709704.0    17.0  10249             Bordeaux   \n",
       "11  1709705      1709705.0    65.0   9830                 Lens   \n",
       "12  1709706      1709706.0    23.0   9831             Toulouse   \n",
       "13  1709706      1709706.0    45.0   9831             Toulouse   \n",
       "14  1709707      1709707.0    45.0   9827               Monaco   \n",
       "15  1709707      1709707.0    48.0   9827               Monaco   \n",
       "16  1709708      1709708.0    69.0   7819                Lille   \n",
       "17  1709709      1709709.0    90.0   8588             Guingamp   \n",
       "18  1709710            NaN     NaN   8689                 Nice   \n",
       "19  1709711      1709711.0    19.0   8592          Montpellier   \n",
       "\n",
       "                 FullName     Season  \n",
       "0                   Reims  2014/2015  \n",
       "1                   Reims  2014/2015  \n",
       "2               SC Bastia  2014/2015  \n",
       "3               SC Bastia  2014/2015  \n",
       "4   Evian Thonon Gaillard  2014/2015  \n",
       "5                Guingamp  2014/2015  \n",
       "6                   Lille  2014/2015  \n",
       "7                    Lyon  2014/2015  \n",
       "8                  Monaco  2014/2015  \n",
       "9                  Monaco  2014/2015  \n",
       "10            Montpellier  2014/2015  \n",
       "11                 Nantes  2014/2015  \n",
       "12                   Nice  2014/2015  \n",
       "13                   Nice  2014/2015  \n",
       "14               Bordeaux  2014/2015  \n",
       "15               Bordeaux  2014/2015  \n",
       "16                   Caen  2014/2015  \n",
       "17                   Lens  2014/2015  \n",
       "18                Lorient  2014/2015  \n",
       "19              Marseille  2014/2015  "
      ]
     },
     "execution_count": 11,
     "metadata": {},
     "output_type": "execute_result"
    }
   ],
   "source": [
    "stmt = \"\"\"\n",
    "SELECT DISTINCT  Matches.EXTERNALID as MatchId, Goals.MatchId as CornerMatchId, convert (bigint,  Goals.Minute) as Minute, Teams.ExternalId as TeamId, Teams2.FullName,\n",
    "    Teams.FullName,Matches.Season\n",
    "From MAtches \n",
    " left Join \n",
    "\t(SELECT MatchId, TeamId, Min(Minute) as Minute\n",
    "            FROM Goals\n",
    "            GROUP BY MatchId, TeamId) Goals\n",
    "ON Goals.MatchID= MAtches.eXTERNALId\n",
    "LEFT JOIN [Teams] ON Matches.HomeTeam_Id = Teams.Id\n",
    "LEFT JOIN [Teams] as Teams2 ON Matches.AwayTeam_Id = Teams2.Id\n",
    "\"\"\"\n",
    "#WHERE CORNERS.MATCHID IS NULL \n",
    "#WHERE League like 'Premier League'\n",
    "\n",
    "df_first_goal = pd.read_sql(stmt,conn)\n",
    "#df_corners = df_corners['Minute'].notnull()\n",
    "\n",
    "df_first_goal.head(20)"
   ]
  },
  {
   "cell_type": "code",
   "execution_count": 12,
   "metadata": {},
   "outputs": [
    {
     "data": {
      "text/plain": [
       "(6, 1)"
      ]
     },
     "execution_count": 12,
     "metadata": {},
     "output_type": "execute_result"
    }
   ],
   "source": [
    "stmt = \"\"\"SELECT EXTERNALID FROM MATCHES \n",
    "EXCEPT \n",
    "SELECT MATCHID FROM CORNERS\n",
    "\"\"\"\n",
    "#WHERE CORNERS.MATCHID IS NULL \n",
    "#WHERE League like 'Premier League'\n",
    "\n",
    "df_matches_no_corner = pd.read_sql(stmt,conn)\n",
    "#df_corners = df_corners['Minute'].notnull()\n",
    "df_matches_no_corner.shape"
   ]
  },
  {
   "cell_type": "code",
   "execution_count": 13,
   "metadata": {},
   "outputs": [
    {
     "data": {
      "text/plain": [
       "(513, 1)"
      ]
     },
     "execution_count": 13,
     "metadata": {},
     "output_type": "execute_result"
    }
   ],
   "source": [
    "stmt = \"\"\"SELECT EXTERNALID FROM MATCHES \n",
    "EXCEPT \n",
    "SELECT MATCHID FROM GOALS\n",
    "\"\"\"\n",
    "#WHERE CORNERS.MATCHID IS NULL \n",
    "#WHERE League like 'Premier League'\n",
    "\n",
    "df_matches_no_goals = pd.read_sql(stmt,conn)\n",
    "#df_corners = df_corners['Minute'].notnull()\n",
    "df_matches_no_goals.shape"
   ]
  },
  {
   "cell_type": "code",
   "execution_count": 14,
   "metadata": {},
   "outputs": [
    {
     "name": "stdout",
     "output_type": "stream",
     "text": [
      "       MatchId ExternalId  Minute  TeamId                 FullName Acronym  \\\n",
      "0          NaN    3631175      15    9847      Paris Saint Germain     PSG   \n",
      "1          NaN    3631254      44    9847      Paris Saint Germain     PSG   \n",
      "2          NaN    3631293      51    9847      Paris Saint Germain     PSG   \n",
      "3          NaN    3631297      52    9837                    Reims     REI   \n",
      "4          NaN    3631347      73    9847      Paris Saint Germain     PSG   \n",
      "5          NaN    3631409      90    9847      Paris Saint Germain     PSG   \n",
      "6          NaN    3633517       3    None                     None    None   \n",
      "7          NaN    3633530       4    9831                     Nice     NIC   \n",
      "8          NaN    3633536       5    9831                     Nice     NIC   \n",
      "9          NaN    3633540       5    9831                     Nice     NIC   \n",
      "10         NaN    3633542       5    9831                     Nice     NIC   \n",
      "11         NaN    3633590       9    8639                    Lille     LIL   \n",
      "12         NaN    3633629      11    8639                    Lille     LIL   \n",
      "13         NaN    3633634      12    8550                     Metz     MET   \n",
      "14         NaN    3633661      13    9827                 Bordeaux     BOR   \n",
      "15         NaN    3633682      15    9941                 Toulouse     TOU   \n",
      "16         NaN    3633745      19    7819                     Caen     CAE   \n",
      "17         NaN    3633747      19    9941                 Toulouse     TOU   \n",
      "18         NaN    3633758      20    9830                   Nantes     NAN   \n",
      "19         NaN    3633760      20    9853            Saint-Etienne     ETI   \n",
      "20         NaN    3633773      20    8592                Marseille     MAR   \n",
      "21         NaN    3633777      21    4087    Evian Thonon Gaillard     ETG   \n",
      "22         NaN    3633779      20    8592                Marseille     MAR   \n",
      "23         NaN    3633804      23    9853            Saint-Etienne     ETI   \n",
      "24         NaN    3633823      24    9747                 Guingamp     GUI   \n",
      "25         NaN    3633849      26    8639                    Lille     LIL   \n",
      "26         NaN    3633866      27    9831                     Nice     NIC   \n",
      "27         NaN    3633896      29    9941                 Toulouse     TOU   \n",
      "28         NaN    3633901      29    9941                 Toulouse     TOU   \n",
      "29         NaN    3633909      30    7819                     Caen     CAE   \n",
      "...        ...        ...     ...     ...                      ...     ...   \n",
      "80176   1521.0    8227483      60    8344                  Cardiff     CAC   \n",
      "80178   1521.0    8227500      61    8344                  Cardiff     CAC   \n",
      "80180   1521.0    8227595      65    8344                  Cardiff     CAC   \n",
      "80182   1521.0    8227754      73    8344                  Cardiff     CAC   \n",
      "80208   1523.0    8226402       4    9879                   Fulham     FUL   \n",
      "80209   1523.0    8226543      13    9879                   Fulham     FUL   \n",
      "80212   1523.0    8227065      45    9879                   Fulham     FUL   \n",
      "80217   1523.0    8227407      58    9879                   Fulham     FUL   \n",
      "80220   1523.0    8227751      73    9879                   Fulham     FUL   \n",
      "80271   1528.0    8228498       6    8602  Wolverhampton Wanderers     WOL   \n",
      "80283   1528.0    8229526      73    8602  Wolverhampton Wanderers     WOL   \n",
      "80285   1528.0    8229664      78    8602  Wolverhampton Wanderers     WOL   \n",
      "80318   1531.0    8255138      10    8344                  Cardiff     CAC   \n",
      "80352   1533.0    8257174       6    8602  Wolverhampton Wanderers     WOL   \n",
      "80354   1533.0    8257186       6    8602  Wolverhampton Wanderers     WOL   \n",
      "80874   3087.0    8231209      67    6394                    Nimes     NIM   \n",
      "81020   3103.0    8272075       8    6394                    Nimes     NIM   \n",
      "81021   3103.0    8272213      13    6394                    Nimes     NIM   \n",
      "81022   3103.0    8272224      13    6394                    Nimes     NIM   \n",
      "81025   3103.0    8273481      54    6394                    Nimes     NIM   \n",
      "81190   5866.0    8271496      11  674792        Parma Calcio 1913     PAR   \n",
      "81193   5866.0    8271923      30  674792        Parma Calcio 1913     PAR   \n",
      "81194   5866.0    8271952      31  674792        Parma Calcio 1913     PAR   \n",
      "81198   5866.0    8273487      82  674792        Parma Calcio 1913     PAR   \n",
      "81264   5876.0    8303927       4  674792        Parma Calcio 1913     PAR   \n",
      "81342   7402.0    8252895      26   10281          Real Valladolid     VAL   \n",
      "81343   7402.0    8253086      43   10281          Real Valladolid     VAL   \n",
      "81398   7409.0    8298558       8   10281          Real Valladolid     VAL   \n",
      "81403   7409.0    8298855      30   10281          Real Valladolid     VAL   \n",
      "81409   7409.0    8298966      54   10281          Real Valladolid     VAL   \n",
      "\n",
      "          Season  \n",
      "0           None  \n",
      "1           None  \n",
      "2           None  \n",
      "3           None  \n",
      "4           None  \n",
      "5           None  \n",
      "6           None  \n",
      "7           None  \n",
      "8           None  \n",
      "9           None  \n",
      "10          None  \n",
      "11          None  \n",
      "12          None  \n",
      "13          None  \n",
      "14          None  \n",
      "15          None  \n",
      "16          None  \n",
      "17          None  \n",
      "18          None  \n",
      "19          None  \n",
      "20          None  \n",
      "21          None  \n",
      "22          None  \n",
      "23          None  \n",
      "24          None  \n",
      "25          None  \n",
      "26          None  \n",
      "27          None  \n",
      "28          None  \n",
      "29          None  \n",
      "...          ...  \n",
      "80176  2018/2019  \n",
      "80178  2018/2019  \n",
      "80180  2018/2019  \n",
      "80182  2018/2019  \n",
      "80208  2018/2019  \n",
      "80209  2018/2019  \n",
      "80212  2018/2019  \n",
      "80217  2018/2019  \n",
      "80220  2018/2019  \n",
      "80271  2018/2019  \n",
      "80283  2018/2019  \n",
      "80285  2018/2019  \n",
      "80318  2018/2019  \n",
      "80352  2018/2019  \n",
      "80354  2018/2019  \n",
      "80874  2018/2019  \n",
      "81020  2018/2019  \n",
      "81021  2018/2019  \n",
      "81022  2018/2019  \n",
      "81025  2018/2019  \n",
      "81190  2018/2019  \n",
      "81193  2018/2019  \n",
      "81194  2018/2019  \n",
      "81198  2018/2019  \n",
      "81264  2018/2019  \n",
      "81342  2018/2019  \n",
      "81343  2018/2019  \n",
      "81398  2018/2019  \n",
      "81403  2018/2019  \n",
      "81409  2018/2019  \n",
      "\n",
      "[675 rows x 7 columns]\n",
      "AC Milan\n"
     ]
    },
    {
     "data": {
      "text/plain": [
       "<Figure size 640x480 with 1 Axes>"
      ]
     },
     "metadata": {},
     "output_type": "display_data"
    },
    {
     "name": "stdout",
     "output_type": "stream",
     "text": [
      "Almeria\n"
     ]
    },
    {
     "data": {
      "text/plain": [
       "<Figure size 640x480 with 1 Axes>"
      ]
     },
     "metadata": {},
     "output_type": "display_data"
    },
    {
     "name": "stdout",
     "output_type": "stream",
     "text": [
      "Amiens\n"
     ]
    },
    {
     "data": {
      "text/plain": [
       "<Figure size 640x480 with 1 Axes>"
      ]
     },
     "metadata": {},
     "output_type": "display_data"
    },
    {
     "name": "stdout",
     "output_type": "stream",
     "text": [
      "Angers\n"
     ]
    },
    {
     "data": {
      "text/plain": [
       "<Figure size 640x480 with 1 Axes>"
      ]
     },
     "metadata": {},
     "output_type": "display_data"
    },
    {
     "name": "stdout",
     "output_type": "stream",
     "text": [
      "Arsenal\n"
     ]
    },
    {
     "data": {
      "text/plain": [
       "<Figure size 640x480 with 1 Axes>"
      ]
     },
     "metadata": {},
     "output_type": "display_data"
    },
    {
     "name": "stdout",
     "output_type": "stream",
     "text": [
      "Aston Villa\n"
     ]
    },
    {
     "data": {
      "text/plain": [
       "<Figure size 640x480 with 1 Axes>"
      ]
     },
     "metadata": {},
     "output_type": "display_data"
    },
    {
     "name": "stdout",
     "output_type": "stream",
     "text": [
      "Atalanta\n"
     ]
    },
    {
     "data": {
      "text/plain": [
       "<Figure size 640x480 with 1 Axes>"
      ]
     },
     "metadata": {},
     "output_type": "display_data"
    },
    {
     "name": "stdout",
     "output_type": "stream",
     "text": [
      "Athletic Bilbao\n"
     ]
    },
    {
     "data": {
      "text/plain": [
       "<Figure size 640x480 with 1 Axes>"
      ]
     },
     "metadata": {},
     "output_type": "display_data"
    },
    {
     "name": "stdout",
     "output_type": "stream",
     "text": [
      "Atletico Madrid\n"
     ]
    },
    {
     "data": {
      "text/plain": [
       "<Figure size 640x480 with 1 Axes>"
      ]
     },
     "metadata": {},
     "output_type": "display_data"
    },
    {
     "name": "stdout",
     "output_type": "stream",
     "text": [
      "Augsburg\n"
     ]
    },
    {
     "data": {
      "text/plain": [
       "<Figure size 640x480 with 1 Axes>"
      ]
     },
     "metadata": {},
     "output_type": "display_data"
    },
    {
     "name": "stdout",
     "output_type": "stream",
     "text": [
      "Barcelona\n"
     ]
    },
    {
     "data": {
      "text/plain": [
       "<Figure size 640x480 with 1 Axes>"
      ]
     },
     "metadata": {},
     "output_type": "display_data"
    },
    {
     "name": "stdout",
     "output_type": "stream",
     "text": [
      "Bayer Leverkusen\n"
     ]
    },
    {
     "data": {
      "text/plain": [
       "<Figure size 640x480 with 1 Axes>"
      ]
     },
     "metadata": {},
     "output_type": "display_data"
    },
    {
     "name": "stdout",
     "output_type": "stream",
     "text": [
      "Bayern Munich\n"
     ]
    },
    {
     "data": {
      "text/plain": [
       "<Figure size 640x480 with 1 Axes>"
      ]
     },
     "metadata": {},
     "output_type": "display_data"
    },
    {
     "name": "stdout",
     "output_type": "stream",
     "text": [
      "Benevento\n"
     ]
    },
    {
     "data": {
      "text/plain": [
       "<Figure size 640x480 with 1 Axes>"
      ]
     },
     "metadata": {},
     "output_type": "display_data"
    },
    {
     "name": "stdout",
     "output_type": "stream",
     "text": [
      "Bologna\n"
     ]
    },
    {
     "data": {
      "text/plain": [
       "<Figure size 640x480 with 1 Axes>"
      ]
     },
     "metadata": {},
     "output_type": "display_data"
    },
    {
     "name": "stdout",
     "output_type": "stream",
     "text": [
      "Bordeaux\n"
     ]
    },
    {
     "data": {
      "text/plain": [
       "<Figure size 640x480 with 1 Axes>"
      ]
     },
     "metadata": {},
     "output_type": "display_data"
    },
    {
     "name": "stdout",
     "output_type": "stream",
     "text": [
      "Borussia Dortmund\n"
     ]
    },
    {
     "data": {
      "text/plain": [
       "<Figure size 640x480 with 1 Axes>"
      ]
     },
     "metadata": {},
     "output_type": "display_data"
    },
    {
     "name": "stdout",
     "output_type": "stream",
     "text": [
      "Borussia Moenchengladbach\n"
     ]
    },
    {
     "data": {
      "text/plain": [
       "<Figure size 640x480 with 1 Axes>"
      ]
     },
     "metadata": {},
     "output_type": "display_data"
    },
    {
     "name": "stdout",
     "output_type": "stream",
     "text": [
      "Bournemouth\n"
     ]
    },
    {
     "data": {
      "text/plain": [
       "<Figure size 640x480 with 1 Axes>"
      ]
     },
     "metadata": {},
     "output_type": "display_data"
    },
    {
     "name": "stdout",
     "output_type": "stream",
     "text": [
      "Brighton\n"
     ]
    },
    {
     "data": {
      "text/plain": [
       "<Figure size 640x480 with 1 Axes>"
      ]
     },
     "metadata": {},
     "output_type": "display_data"
    },
    {
     "name": "stdout",
     "output_type": "stream",
     "text": [
      "Burnley\n"
     ]
    },
    {
     "data": {
      "text/plain": [
       "<Figure size 640x480 with 1 Axes>"
      ]
     },
     "metadata": {},
     "output_type": "display_data"
    },
    {
     "name": "stdout",
     "output_type": "stream",
     "text": [
      "Caen\n"
     ]
    },
    {
     "data": {
      "text/plain": [
       "<Figure size 640x480 with 1 Axes>"
      ]
     },
     "metadata": {},
     "output_type": "display_data"
    },
    {
     "name": "stdout",
     "output_type": "stream",
     "text": [
      "Cagliari\n"
     ]
    },
    {
     "data": {
      "text/plain": [
       "<Figure size 640x480 with 1 Axes>"
      ]
     },
     "metadata": {},
     "output_type": "display_data"
    },
    {
     "name": "stdout",
     "output_type": "stream",
     "text": [
      "Cardiff\n"
     ]
    },
    {
     "data": {
      "text/plain": [
       "<Figure size 640x480 with 1 Axes>"
      ]
     },
     "metadata": {},
     "output_type": "display_data"
    },
    {
     "name": "stdout",
     "output_type": "stream",
     "text": [
      "Carpi\n"
     ]
    },
    {
     "data": {
      "text/plain": [
       "<Figure size 640x480 with 1 Axes>"
      ]
     },
     "metadata": {},
     "output_type": "display_data"
    },
    {
     "name": "stdout",
     "output_type": "stream",
     "text": [
      "Celta Vigo\n"
     ]
    },
    {
     "data": {
      "text/plain": [
       "<Figure size 640x480 with 1 Axes>"
      ]
     },
     "metadata": {},
     "output_type": "display_data"
    },
    {
     "name": "stdout",
     "output_type": "stream",
     "text": [
      "Cesena\n"
     ]
    },
    {
     "data": {
      "text/plain": [
       "<Figure size 640x480 with 1 Axes>"
      ]
     },
     "metadata": {},
     "output_type": "display_data"
    },
    {
     "name": "stdout",
     "output_type": "stream",
     "text": [
      "Chelsea\n"
     ]
    },
    {
     "data": {
      "text/plain": [
       "<Figure size 640x480 with 1 Axes>"
      ]
     },
     "metadata": {},
     "output_type": "display_data"
    },
    {
     "name": "stdout",
     "output_type": "stream",
     "text": [
      "Chievo\n"
     ]
    },
    {
     "data": {
      "text/plain": [
       "<Figure size 640x480 with 1 Axes>"
      ]
     },
     "metadata": {},
     "output_type": "display_data"
    },
    {
     "name": "stdout",
     "output_type": "stream",
     "text": [
      "Cordoba\n"
     ]
    },
    {
     "data": {
      "text/plain": [
       "<Figure size 640x480 with 1 Axes>"
      ]
     },
     "metadata": {},
     "output_type": "display_data"
    },
    {
     "name": "stdout",
     "output_type": "stream",
     "text": [
      "Crotone\n"
     ]
    },
    {
     "data": {
      "text/plain": [
       "<Figure size 640x480 with 1 Axes>"
      ]
     },
     "metadata": {},
     "output_type": "display_data"
    },
    {
     "name": "stdout",
     "output_type": "stream",
     "text": [
      "Crystal Palace\n"
     ]
    },
    {
     "data": {
      "text/plain": [
       "<Figure size 640x480 with 1 Axes>"
      ]
     },
     "metadata": {},
     "output_type": "display_data"
    },
    {
     "name": "stdout",
     "output_type": "stream",
     "text": [
      "Darmstadt\n"
     ]
    },
    {
     "data": {
      "text/plain": [
       "<Figure size 640x480 with 1 Axes>"
      ]
     },
     "metadata": {},
     "output_type": "display_data"
    },
    {
     "name": "stdout",
     "output_type": "stream",
     "text": [
      "Deportivo Alaves\n"
     ]
    },
    {
     "data": {
      "text/plain": [
       "<Figure size 640x480 with 1 Axes>"
      ]
     },
     "metadata": {},
     "output_type": "display_data"
    },
    {
     "name": "stdout",
     "output_type": "stream",
     "text": [
      "Deportivo La Coruna\n"
     ]
    },
    {
     "data": {
      "text/plain": [
       "<Figure size 640x480 with 1 Axes>"
      ]
     },
     "metadata": {},
     "output_type": "display_data"
    },
    {
     "name": "stdout",
     "output_type": "stream",
     "text": [
      "Dijon\n"
     ]
    },
    {
     "data": {
      "text/plain": [
       "<Figure size 640x480 with 1 Axes>"
      ]
     },
     "metadata": {},
     "output_type": "display_data"
    },
    {
     "name": "stdout",
     "output_type": "stream",
     "text": [
      "Eibar\n"
     ]
    },
    {
     "data": {
      "text/plain": [
       "<Figure size 640x480 with 1 Axes>"
      ]
     },
     "metadata": {},
     "output_type": "display_data"
    },
    {
     "name": "stdout",
     "output_type": "stream",
     "text": [
      "Eintracht Frankfurt\n"
     ]
    },
    {
     "data": {
      "text/plain": [
       "<Figure size 640x480 with 1 Axes>"
      ]
     },
     "metadata": {},
     "output_type": "display_data"
    },
    {
     "name": "stdout",
     "output_type": "stream",
     "text": [
      "Elche\n"
     ]
    },
    {
     "data": {
      "text/plain": [
       "<Figure size 640x480 with 1 Axes>"
      ]
     },
     "metadata": {},
     "output_type": "display_data"
    },
    {
     "name": "stdout",
     "output_type": "stream",
     "text": [
      "Empoli\n"
     ]
    },
    {
     "data": {
      "text/plain": [
       "<Figure size 640x480 with 1 Axes>"
      ]
     },
     "metadata": {},
     "output_type": "display_data"
    },
    {
     "name": "stdout",
     "output_type": "stream",
     "text": [
      "Espanyol\n"
     ]
    },
    {
     "data": {
      "text/plain": [
       "<Figure size 640x480 with 1 Axes>"
      ]
     },
     "metadata": {},
     "output_type": "display_data"
    },
    {
     "name": "stdout",
     "output_type": "stream",
     "text": [
      "Everton\n"
     ]
    },
    {
     "data": {
      "text/plain": [
       "<Figure size 640x480 with 1 Axes>"
      ]
     },
     "metadata": {},
     "output_type": "display_data"
    },
    {
     "name": "stdout",
     "output_type": "stream",
     "text": [
      "Evian Thonon Gaillard\n"
     ]
    },
    {
     "data": {
      "text/plain": [
       "<Figure size 640x480 with 1 Axes>"
      ]
     },
     "metadata": {},
     "output_type": "display_data"
    },
    {
     "name": "stdout",
     "output_type": "stream",
     "text": [
      "FC Cologne\n"
     ]
    },
    {
     "data": {
      "text/plain": [
       "<Figure size 640x480 with 1 Axes>"
      ]
     },
     "metadata": {},
     "output_type": "display_data"
    },
    {
     "name": "stdout",
     "output_type": "stream",
     "text": [
      "Fiorentina\n"
     ]
    },
    {
     "data": {
      "text/plain": [
       "<Figure size 640x480 with 1 Axes>"
      ]
     },
     "metadata": {},
     "output_type": "display_data"
    },
    {
     "name": "stdout",
     "output_type": "stream",
     "text": [
      "Freiburg\n"
     ]
    },
    {
     "data": {
      "text/plain": [
       "<Figure size 640x480 with 1 Axes>"
      ]
     },
     "metadata": {},
     "output_type": "display_data"
    },
    {
     "name": "stdout",
     "output_type": "stream",
     "text": [
      "Frosinone\n"
     ]
    },
    {
     "data": {
      "text/plain": [
       "<Figure size 640x480 with 1 Axes>"
      ]
     },
     "metadata": {},
     "output_type": "display_data"
    },
    {
     "name": "stdout",
     "output_type": "stream",
     "text": [
      "Fulham\n"
     ]
    },
    {
     "data": {
      "text/plain": [
       "<Figure size 640x480 with 1 Axes>"
      ]
     },
     "metadata": {},
     "output_type": "display_data"
    },
    {
     "name": "stdout",
     "output_type": "stream",
     "text": [
      "GFC Ajaccio\n"
     ]
    },
    {
     "data": {
      "text/plain": [
       "<Figure size 640x480 with 1 Axes>"
      ]
     },
     "metadata": {},
     "output_type": "display_data"
    },
    {
     "name": "stdout",
     "output_type": "stream",
     "text": [
      "Genoa\n"
     ]
    },
    {
     "data": {
      "text/plain": [
       "<Figure size 640x480 with 1 Axes>"
      ]
     },
     "metadata": {},
     "output_type": "display_data"
    },
    {
     "name": "stdout",
     "output_type": "stream",
     "text": [
      "Getafe\n"
     ]
    },
    {
     "data": {
      "text/plain": [
       "<Figure size 640x480 with 1 Axes>"
      ]
     },
     "metadata": {},
     "output_type": "display_data"
    },
    {
     "name": "stdout",
     "output_type": "stream",
     "text": [
      "Girona\n"
     ]
    },
    {
     "data": {
      "text/plain": [
       "<Figure size 640x480 with 1 Axes>"
      ]
     },
     "metadata": {},
     "output_type": "display_data"
    },
    {
     "name": "stdout",
     "output_type": "stream",
     "text": [
      "Granada\n"
     ]
    },
    {
     "data": {
      "text/plain": [
       "<Figure size 640x480 with 1 Axes>"
      ]
     },
     "metadata": {},
     "output_type": "display_data"
    },
    {
     "name": "stdout",
     "output_type": "stream",
     "text": [
      "Guingamp\n"
     ]
    },
    {
     "data": {
      "text/plain": [
       "<Figure size 640x480 with 1 Axes>"
      ]
     },
     "metadata": {},
     "output_type": "display_data"
    },
    {
     "name": "stdout",
     "output_type": "stream",
     "text": [
      "Hamburger SV\n"
     ]
    },
    {
     "data": {
      "text/plain": [
       "<Figure size 640x480 with 1 Axes>"
      ]
     },
     "metadata": {},
     "output_type": "display_data"
    },
    {
     "name": "stdout",
     "output_type": "stream",
     "text": [
      "Hannover 96\n"
     ]
    },
    {
     "data": {
      "text/plain": [
       "<Figure size 640x480 with 1 Axes>"
      ]
     },
     "metadata": {},
     "output_type": "display_data"
    },
    {
     "name": "stdout",
     "output_type": "stream",
     "text": [
      "Hertha Berlin\n"
     ]
    },
    {
     "data": {
      "text/plain": [
       "<Figure size 640x480 with 1 Axes>"
      ]
     },
     "metadata": {},
     "output_type": "display_data"
    },
    {
     "name": "stdout",
     "output_type": "stream",
     "text": [
      "Hoffenheim\n"
     ]
    },
    {
     "data": {
      "text/plain": [
       "<Figure size 640x480 with 1 Axes>"
      ]
     },
     "metadata": {},
     "output_type": "display_data"
    },
    {
     "name": "stdout",
     "output_type": "stream",
     "text": [
      "Huddersfield\n"
     ]
    },
    {
     "data": {
      "text/plain": [
       "<Figure size 640x480 with 1 Axes>"
      ]
     },
     "metadata": {},
     "output_type": "display_data"
    },
    {
     "name": "stdout",
     "output_type": "stream",
     "text": [
      "Hull\n"
     ]
    },
    {
     "data": {
      "text/plain": [
       "<Figure size 640x480 with 1 Axes>"
      ]
     },
     "metadata": {},
     "output_type": "display_data"
    },
    {
     "name": "stdout",
     "output_type": "stream",
     "text": [
      "Ingolstadt\n"
     ]
    },
    {
     "data": {
      "text/plain": [
       "<Figure size 640x480 with 1 Axes>"
      ]
     },
     "metadata": {},
     "output_type": "display_data"
    },
    {
     "name": "stdout",
     "output_type": "stream",
     "text": [
      "Inter\n"
     ]
    },
    {
     "data": {
      "text/plain": [
       "<Figure size 640x480 with 1 Axes>"
      ]
     },
     "metadata": {},
     "output_type": "display_data"
    },
    {
     "name": "stdout",
     "output_type": "stream",
     "text": [
      "Juventus\n"
     ]
    },
    {
     "data": {
      "text/plain": [
       "<Figure size 640x480 with 1 Axes>"
      ]
     },
     "metadata": {},
     "output_type": "display_data"
    },
    {
     "name": "stdout",
     "output_type": "stream",
     "text": [
      "Las Palmas\n"
     ]
    },
    {
     "data": {
      "text/plain": [
       "<Figure size 640x480 with 1 Axes>"
      ]
     },
     "metadata": {},
     "output_type": "display_data"
    },
    {
     "name": "stdout",
     "output_type": "stream",
     "text": [
      "Lazio\n"
     ]
    },
    {
     "data": {
      "text/plain": [
       "<Figure size 640x480 with 1 Axes>"
      ]
     },
     "metadata": {},
     "output_type": "display_data"
    },
    {
     "name": "stdout",
     "output_type": "stream",
     "text": [
      "Leganes\n"
     ]
    },
    {
     "data": {
      "text/plain": [
       "<Figure size 640x480 with 1 Axes>"
      ]
     },
     "metadata": {},
     "output_type": "display_data"
    },
    {
     "name": "stdout",
     "output_type": "stream",
     "text": [
      "Leicester\n"
     ]
    },
    {
     "data": {
      "text/plain": [
       "<Figure size 640x480 with 1 Axes>"
      ]
     },
     "metadata": {},
     "output_type": "display_data"
    },
    {
     "name": "stdout",
     "output_type": "stream",
     "text": [
      "Lens\n"
     ]
    },
    {
     "data": {
      "text/plain": [
       "<Figure size 640x480 with 1 Axes>"
      ]
     },
     "metadata": {},
     "output_type": "display_data"
    },
    {
     "name": "stdout",
     "output_type": "stream",
     "text": [
      "Levante\n"
     ]
    },
    {
     "data": {
      "text/plain": [
       "<Figure size 640x480 with 1 Axes>"
      ]
     },
     "metadata": {},
     "output_type": "display_data"
    },
    {
     "name": "stdout",
     "output_type": "stream",
     "text": [
      "Lille\n"
     ]
    },
    {
     "data": {
      "text/plain": [
       "<Figure size 640x480 with 1 Axes>"
      ]
     },
     "metadata": {},
     "output_type": "display_data"
    },
    {
     "name": "stdout",
     "output_type": "stream",
     "text": [
      "Liverpool\n"
     ]
    },
    {
     "data": {
      "text/plain": [
       "<Figure size 640x480 with 1 Axes>"
      ]
     },
     "metadata": {},
     "output_type": "display_data"
    },
    {
     "name": "stdout",
     "output_type": "stream",
     "text": [
      "Lorient\n"
     ]
    },
    {
     "data": {
      "text/plain": [
       "<Figure size 640x480 with 1 Axes>"
      ]
     },
     "metadata": {},
     "output_type": "display_data"
    },
    {
     "name": "stdout",
     "output_type": "stream",
     "text": [
      "Lyon\n"
     ]
    },
    {
     "data": {
      "text/plain": [
       "<Figure size 640x480 with 1 Axes>"
      ]
     },
     "metadata": {},
     "output_type": "display_data"
    },
    {
     "name": "stdout",
     "output_type": "stream",
     "text": [
      "Mainz 05\n"
     ]
    },
    {
     "data": {
      "text/plain": [
       "<Figure size 640x480 with 1 Axes>"
      ]
     },
     "metadata": {},
     "output_type": "display_data"
    },
    {
     "name": "stdout",
     "output_type": "stream",
     "text": [
      "Malaga\n"
     ]
    },
    {
     "data": {
      "text/plain": [
       "<Figure size 640x480 with 1 Axes>"
      ]
     },
     "metadata": {},
     "output_type": "display_data"
    },
    {
     "name": "stdout",
     "output_type": "stream",
     "text": [
      "Manchester City\n"
     ]
    },
    {
     "data": {
      "text/plain": [
       "<Figure size 640x480 with 1 Axes>"
      ]
     },
     "metadata": {},
     "output_type": "display_data"
    },
    {
     "name": "stdout",
     "output_type": "stream",
     "text": [
      "Manchester United\n"
     ]
    },
    {
     "data": {
      "text/plain": [
       "<Figure size 640x480 with 1 Axes>"
      ]
     },
     "metadata": {},
     "output_type": "display_data"
    },
    {
     "name": "stdout",
     "output_type": "stream",
     "text": [
      "Marseille\n"
     ]
    },
    {
     "data": {
      "text/plain": [
       "<Figure size 640x480 with 1 Axes>"
      ]
     },
     "metadata": {},
     "output_type": "display_data"
    },
    {
     "name": "stdout",
     "output_type": "stream",
     "text": [
      "Metz\n"
     ]
    },
    {
     "data": {
      "text/plain": [
       "<Figure size 640x480 with 1 Axes>"
      ]
     },
     "metadata": {},
     "output_type": "display_data"
    },
    {
     "name": "stdout",
     "output_type": "stream",
     "text": [
      "Middlesbrough\n"
     ]
    },
    {
     "data": {
      "text/plain": [
       "<Figure size 640x480 with 1 Axes>"
      ]
     },
     "metadata": {},
     "output_type": "display_data"
    },
    {
     "name": "stdout",
     "output_type": "stream",
     "text": [
      "Monaco\n"
     ]
    },
    {
     "data": {
      "text/plain": [
       "<Figure size 640x480 with 1 Axes>"
      ]
     },
     "metadata": {},
     "output_type": "display_data"
    },
    {
     "name": "stdout",
     "output_type": "stream",
     "text": [
      "Montpellier\n"
     ]
    },
    {
     "data": {
      "text/plain": [
       "<Figure size 640x480 with 1 Axes>"
      ]
     },
     "metadata": {},
     "output_type": "display_data"
    },
    {
     "name": "stdout",
     "output_type": "stream",
     "text": [
      "Nancy\n"
     ]
    },
    {
     "data": {
      "text/plain": [
       "<Figure size 640x480 with 1 Axes>"
      ]
     },
     "metadata": {},
     "output_type": "display_data"
    },
    {
     "name": "stdout",
     "output_type": "stream",
     "text": [
      "Nantes\n"
     ]
    },
    {
     "data": {
      "text/plain": [
       "<Figure size 640x480 with 1 Axes>"
      ]
     },
     "metadata": {},
     "output_type": "display_data"
    },
    {
     "name": "stdout",
     "output_type": "stream",
     "text": [
      "Newcastle United\n"
     ]
    },
    {
     "data": {
      "text/plain": [
       "<Figure size 640x480 with 1 Axes>"
      ]
     },
     "metadata": {},
     "output_type": "display_data"
    },
    {
     "name": "stdout",
     "output_type": "stream",
     "text": [
      "Nice\n"
     ]
    },
    {
     "data": {
      "text/plain": [
       "<Figure size 640x480 with 1 Axes>"
      ]
     },
     "metadata": {},
     "output_type": "display_data"
    },
    {
     "name": "stdout",
     "output_type": "stream",
     "text": [
      "Nimes\n"
     ]
    },
    {
     "data": {
      "text/plain": [
       "<Figure size 640x480 with 1 Axes>"
      ]
     },
     "metadata": {},
     "output_type": "display_data"
    },
    {
     "name": "stdout",
     "output_type": "stream",
     "text": [
      "Norwich\n"
     ]
    },
    {
     "data": {
      "text/plain": [
       "<Figure size 640x480 with 1 Axes>"
      ]
     },
     "metadata": {},
     "output_type": "display_data"
    },
    {
     "name": "stdout",
     "output_type": "stream",
     "text": [
      "Osasuna\n"
     ]
    },
    {
     "data": {
      "text/plain": [
       "<Figure size 640x480 with 1 Axes>"
      ]
     },
     "metadata": {},
     "output_type": "display_data"
    },
    {
     "name": "stdout",
     "output_type": "stream",
     "text": [
      "Paderborn\n"
     ]
    },
    {
     "data": {
      "text/plain": [
       "<Figure size 640x480 with 1 Axes>"
      ]
     },
     "metadata": {},
     "output_type": "display_data"
    },
    {
     "name": "stdout",
     "output_type": "stream",
     "text": [
      "Palermo\n"
     ]
    },
    {
     "data": {
      "text/plain": [
       "<Figure size 640x480 with 1 Axes>"
      ]
     },
     "metadata": {},
     "output_type": "display_data"
    },
    {
     "name": "stdout",
     "output_type": "stream",
     "text": [
      "Paris Saint Germain\n"
     ]
    },
    {
     "data": {
      "text/plain": [
       "<Figure size 640x480 with 1 Axes>"
      ]
     },
     "metadata": {},
     "output_type": "display_data"
    },
    {
     "name": "stdout",
     "output_type": "stream",
     "text": [
      "Parma\n"
     ]
    },
    {
     "data": {
      "text/plain": [
       "<Figure size 640x480 with 1 Axes>"
      ]
     },
     "metadata": {},
     "output_type": "display_data"
    },
    {
     "name": "stdout",
     "output_type": "stream",
     "text": [
      "Parma Calcio 1913\n"
     ]
    },
    {
     "data": {
      "text/plain": [
       "<Figure size 640x480 with 1 Axes>"
      ]
     },
     "metadata": {},
     "output_type": "display_data"
    },
    {
     "name": "stdout",
     "output_type": "stream",
     "text": [
      "Pescara\n"
     ]
    },
    {
     "data": {
      "text/plain": [
       "<Figure size 640x480 with 1 Axes>"
      ]
     },
     "metadata": {},
     "output_type": "display_data"
    },
    {
     "name": "stdout",
     "output_type": "stream",
     "text": [
      "Queens Park Rangers\n"
     ]
    },
    {
     "data": {
      "text/plain": [
       "<Figure size 640x480 with 1 Axes>"
      ]
     },
     "metadata": {},
     "output_type": "display_data"
    },
    {
     "name": "stdout",
     "output_type": "stream",
     "text": [
      "RasenBallsport Leipzig\n"
     ]
    },
    {
     "data": {
      "text/plain": [
       "<Figure size 640x480 with 1 Axes>"
      ]
     },
     "metadata": {},
     "output_type": "display_data"
    },
    {
     "name": "stdout",
     "output_type": "stream",
     "text": [
      "Rayo Vallecano\n"
     ]
    },
    {
     "data": {
      "text/plain": [
       "<Figure size 640x480 with 1 Axes>"
      ]
     },
     "metadata": {},
     "output_type": "display_data"
    },
    {
     "name": "stdout",
     "output_type": "stream",
     "text": [
      "Real Betis\n"
     ]
    },
    {
     "data": {
      "text/plain": [
       "<Figure size 640x480 with 1 Axes>"
      ]
     },
     "metadata": {},
     "output_type": "display_data"
    },
    {
     "name": "stdout",
     "output_type": "stream",
     "text": [
      "Real Madrid\n"
     ]
    },
    {
     "data": {
      "text/plain": [
       "<Figure size 640x480 with 1 Axes>"
      ]
     },
     "metadata": {},
     "output_type": "display_data"
    },
    {
     "name": "stdout",
     "output_type": "stream",
     "text": [
      "Real Sociedad\n"
     ]
    },
    {
     "data": {
      "text/plain": [
       "<Figure size 640x480 with 1 Axes>"
      ]
     },
     "metadata": {},
     "output_type": "display_data"
    },
    {
     "name": "stdout",
     "output_type": "stream",
     "text": [
      "Real Valladolid\n"
     ]
    },
    {
     "data": {
      "text/plain": [
       "<Figure size 640x480 with 1 Axes>"
      ]
     },
     "metadata": {},
     "output_type": "display_data"
    },
    {
     "name": "stdout",
     "output_type": "stream",
     "text": [
      "Reims\n"
     ]
    },
    {
     "data": {
      "text/plain": [
       "<Figure size 640x480 with 1 Axes>"
      ]
     },
     "metadata": {},
     "output_type": "display_data"
    },
    {
     "name": "stdout",
     "output_type": "stream",
     "text": [
      "Rennes\n"
     ]
    },
    {
     "data": {
      "text/plain": [
       "<Figure size 640x480 with 1 Axes>"
      ]
     },
     "metadata": {},
     "output_type": "display_data"
    },
    {
     "name": "stdout",
     "output_type": "stream",
     "text": [
      "Roma\n"
     ]
    },
    {
     "data": {
      "text/plain": [
       "<Figure size 640x480 with 1 Axes>"
      ]
     },
     "metadata": {},
     "output_type": "display_data"
    },
    {
     "name": "stdout",
     "output_type": "stream",
     "text": [
      "SC Bastia\n"
     ]
    },
    {
     "data": {
      "text/plain": [
       "<Figure size 640x480 with 1 Axes>"
      ]
     },
     "metadata": {},
     "output_type": "display_data"
    },
    {
     "name": "stdout",
     "output_type": "stream",
     "text": [
      "SPAL 2013\n"
     ]
    },
    {
     "data": {
      "text/plain": [
       "<Figure size 640x480 with 1 Axes>"
      ]
     },
     "metadata": {},
     "output_type": "display_data"
    },
    {
     "name": "stdout",
     "output_type": "stream",
     "text": [
      "SSC Napoli\n"
     ]
    },
    {
     "data": {
      "text/plain": [
       "<Figure size 640x480 with 1 Axes>"
      ]
     },
     "metadata": {},
     "output_type": "display_data"
    },
    {
     "name": "stdout",
     "output_type": "stream",
     "text": [
      "Saint-Etienne\n"
     ]
    },
    {
     "data": {
      "text/plain": [
       "<Figure size 640x480 with 1 Axes>"
      ]
     },
     "metadata": {},
     "output_type": "display_data"
    },
    {
     "name": "stdout",
     "output_type": "stream",
     "text": [
      "Sampdoria\n"
     ]
    },
    {
     "data": {
      "text/plain": [
       "<Figure size 640x480 with 1 Axes>"
      ]
     },
     "metadata": {},
     "output_type": "display_data"
    },
    {
     "name": "stdout",
     "output_type": "stream",
     "text": [
      "Sassuolo\n"
     ]
    },
    {
     "data": {
      "text/plain": [
       "<Figure size 640x480 with 1 Axes>"
      ]
     },
     "metadata": {},
     "output_type": "display_data"
    },
    {
     "name": "stdout",
     "output_type": "stream",
     "text": [
      "Schalke 04\n"
     ]
    },
    {
     "data": {
      "text/plain": [
       "<Figure size 640x480 with 1 Axes>"
      ]
     },
     "metadata": {},
     "output_type": "display_data"
    },
    {
     "name": "stdout",
     "output_type": "stream",
     "text": [
      "Sevilla\n"
     ]
    },
    {
     "data": {
      "text/plain": [
       "<Figure size 640x480 with 1 Axes>"
      ]
     },
     "metadata": {},
     "output_type": "display_data"
    },
    {
     "name": "stdout",
     "output_type": "stream",
     "text": [
      "Southampton\n"
     ]
    },
    {
     "data": {
      "text/plain": [
       "<Figure size 640x480 with 1 Axes>"
      ]
     },
     "metadata": {},
     "output_type": "display_data"
    },
    {
     "name": "stdout",
     "output_type": "stream",
     "text": [
      "Sporting Gijon\n"
     ]
    },
    {
     "data": {
      "text/plain": [
       "<Figure size 640x480 with 1 Axes>"
      ]
     },
     "metadata": {},
     "output_type": "display_data"
    },
    {
     "name": "stdout",
     "output_type": "stream",
     "text": [
      "Stoke\n"
     ]
    },
    {
     "data": {
      "text/plain": [
       "<Figure size 640x480 with 1 Axes>"
      ]
     },
     "metadata": {},
     "output_type": "display_data"
    },
    {
     "name": "stdout",
     "output_type": "stream",
     "text": [
      "Strasbourg\n"
     ]
    },
    {
     "data": {
      "text/plain": [
       "<Figure size 640x480 with 1 Axes>"
      ]
     },
     "metadata": {},
     "output_type": "display_data"
    },
    {
     "name": "stdout",
     "output_type": "stream",
     "text": [
      "Sunderland\n"
     ]
    },
    {
     "data": {
      "text/plain": [
       "<Figure size 640x480 with 1 Axes>"
      ]
     },
     "metadata": {},
     "output_type": "display_data"
    },
    {
     "name": "stdout",
     "output_type": "stream",
     "text": [
      "Swansea\n"
     ]
    },
    {
     "data": {
      "text/plain": [
       "<Figure size 640x480 with 1 Axes>"
      ]
     },
     "metadata": {},
     "output_type": "display_data"
    },
    {
     "name": "stdout",
     "output_type": "stream",
     "text": [
      "Torino\n"
     ]
    },
    {
     "data": {
      "text/plain": [
       "<Figure size 640x480 with 1 Axes>"
      ]
     },
     "metadata": {},
     "output_type": "display_data"
    },
    {
     "name": "stdout",
     "output_type": "stream",
     "text": [
      "Tottenham\n"
     ]
    },
    {
     "data": {
      "text/plain": [
       "<Figure size 640x480 with 1 Axes>"
      ]
     },
     "metadata": {},
     "output_type": "display_data"
    },
    {
     "name": "stdout",
     "output_type": "stream",
     "text": [
      "Toulouse\n"
     ]
    },
    {
     "data": {
      "text/plain": [
       "<Figure size 640x480 with 1 Axes>"
      ]
     },
     "metadata": {},
     "output_type": "display_data"
    },
    {
     "name": "stdout",
     "output_type": "stream",
     "text": [
      "Troyes\n"
     ]
    },
    {
     "data": {
      "text/plain": [
       "<Figure size 640x480 with 1 Axes>"
      ]
     },
     "metadata": {},
     "output_type": "display_data"
    },
    {
     "name": "stdout",
     "output_type": "stream",
     "text": [
      "Udinese\n"
     ]
    },
    {
     "data": {
      "text/plain": [
       "<Figure size 640x480 with 1 Axes>"
      ]
     },
     "metadata": {},
     "output_type": "display_data"
    },
    {
     "name": "stdout",
     "output_type": "stream",
     "text": [
      "Valencia\n"
     ]
    },
    {
     "data": {
      "text/plain": [
       "<Figure size 640x480 with 1 Axes>"
      ]
     },
     "metadata": {},
     "output_type": "display_data"
    },
    {
     "name": "stdout",
     "output_type": "stream",
     "text": [
      "Verona\n"
     ]
    },
    {
     "data": {
      "text/plain": [
       "<Figure size 640x480 with 1 Axes>"
      ]
     },
     "metadata": {},
     "output_type": "display_data"
    },
    {
     "name": "stdout",
     "output_type": "stream",
     "text": [
      "VfB Stuttgart\n"
     ]
    },
    {
     "data": {
      "text/plain": [
       "<Figure size 640x480 with 1 Axes>"
      ]
     },
     "metadata": {},
     "output_type": "display_data"
    },
    {
     "name": "stdout",
     "output_type": "stream",
     "text": [
      "Villarreal\n"
     ]
    },
    {
     "data": {
      "text/plain": [
       "<Figure size 640x480 with 1 Axes>"
      ]
     },
     "metadata": {},
     "output_type": "display_data"
    },
    {
     "name": "stdout",
     "output_type": "stream",
     "text": [
      "Watford\n"
     ]
    },
    {
     "data": {
      "text/plain": [
       "<Figure size 640x480 with 1 Axes>"
      ]
     },
     "metadata": {},
     "output_type": "display_data"
    },
    {
     "name": "stdout",
     "output_type": "stream",
     "text": [
      "Werder Bremen\n"
     ]
    },
    {
     "data": {
      "text/plain": [
       "<Figure size 640x480 with 1 Axes>"
      ]
     },
     "metadata": {},
     "output_type": "display_data"
    },
    {
     "name": "stdout",
     "output_type": "stream",
     "text": [
      "West Bromwich Albion\n"
     ]
    },
    {
     "data": {
      "text/plain": [
       "<Figure size 640x480 with 1 Axes>"
      ]
     },
     "metadata": {},
     "output_type": "display_data"
    },
    {
     "name": "stdout",
     "output_type": "stream",
     "text": [
      "West Ham\n"
     ]
    },
    {
     "data": {
      "text/plain": [
       "<Figure size 640x480 with 1 Axes>"
      ]
     },
     "metadata": {},
     "output_type": "display_data"
    },
    {
     "name": "stdout",
     "output_type": "stream",
     "text": [
      "Wolfsburg\n"
     ]
    },
    {
     "data": {
      "text/plain": [
       "<Figure size 640x480 with 1 Axes>"
      ]
     },
     "metadata": {},
     "output_type": "display_data"
    },
    {
     "name": "stdout",
     "output_type": "stream",
     "text": [
      "Wolverhampton Wanderers\n"
     ]
    },
    {
     "data": {
      "text/plain": [
       "<Figure size 640x480 with 1 Axes>"
      ]
     },
     "metadata": {},
     "output_type": "display_data"
    }
   ],
   "source": [
    "#df_teams_corners_per_minute['Season'] == '2016/2017'\n",
    "#df_teams_corners_per_minute = df_teams_corners_per_minute[(df_teams_corners_per_minute['League'] == 'Premier League') ]\n",
    "\n",
    "#print(df_teams_corners_per_minute.head(5))\n",
    "#df_teams_corners_per_minute.head()\n",
    "\n",
    "groups = df_corners_per_team.groupby(['FullName'])\n",
    "\n",
    "print(groups.head())\n",
    "groups.describe()\n",
    "import matplotlib.pyplot as plt\n",
    "for group in groups:\n",
    "    #figure()\n",
    "    #plt.\n",
    "    print(group[1].FullName.values[0])\n",
    "    plt.hist(group[1].Minute, bins=45)\n",
    "    #cumulative=1, density=True, histtype='step'\n",
    "    axes = plt.gca()\n",
    "    axes.set_xlim([0,90])\n",
    "    #axes.set_ylim([0,50])\n",
    "    plt.show()\n",
    "   \n"
   ]
  },
  {
   "cell_type": "code",
   "execution_count": 26,
   "metadata": {},
   "outputs": [],
   "source": [
    "#df_teams_corners_per_minute['Minute'].hist(by=df_teams_corners_per_minute['count'])"
   ]
  },
  {
   "cell_type": "code",
   "execution_count": 27,
   "metadata": {},
   "outputs": [
    {
     "name": "stdout",
     "output_type": "stream",
     "text": [
      "(21985, 7)\n"
     ]
    },
    {
     "data": {
      "text/html": [
       "<div>\n",
       "<style scoped>\n",
       "    .dataframe tbody tr th:only-of-type {\n",
       "        vertical-align: middle;\n",
       "    }\n",
       "\n",
       "    .dataframe tbody tr th {\n",
       "        vertical-align: top;\n",
       "    }\n",
       "\n",
       "    .dataframe thead th {\n",
       "        text-align: right;\n",
       "    }\n",
       "</style>\n",
       "<table border=\"1\" class=\"dataframe\">\n",
       "  <thead>\n",
       "    <tr style=\"text-align: right;\">\n",
       "      <th></th>\n",
       "      <th>MatchId</th>\n",
       "      <th>ExternalId</th>\n",
       "      <th>Minute</th>\n",
       "      <th>TeamId</th>\n",
       "      <th>FullName</th>\n",
       "      <th>Acronym</th>\n",
       "      <th>Season</th>\n",
       "    </tr>\n",
       "  </thead>\n",
       "  <tbody>\n",
       "    <tr>\n",
       "      <th>15112</th>\n",
       "      <td>NaN</td>\n",
       "      <td>6449564</td>\n",
       "      <td>42</td>\n",
       "      <td>8529</td>\n",
       "      <td>Cagliari</td>\n",
       "      <td>CAG</td>\n",
       "      <td>None</td>\n",
       "    </tr>\n",
       "    <tr>\n",
       "      <th>8629</th>\n",
       "      <td>NaN</td>\n",
       "      <td>5219799</td>\n",
       "      <td>47</td>\n",
       "      <td>8581</td>\n",
       "      <td>Levante</td>\n",
       "      <td>LEV</td>\n",
       "      <td>None</td>\n",
       "    </tr>\n",
       "    <tr>\n",
       "      <th>12895</th>\n",
       "      <td>NaN</td>\n",
       "      <td>6126964</td>\n",
       "      <td>84</td>\n",
       "      <td>8472</td>\n",
       "      <td>Sunderland</td>\n",
       "      <td>SUN</td>\n",
       "      <td>None</td>\n",
       "    </tr>\n",
       "    <tr>\n",
       "      <th>13769</th>\n",
       "      <td>NaN</td>\n",
       "      <td>6232717</td>\n",
       "      <td>78</td>\n",
       "      <td>8654</td>\n",
       "      <td>West Ham</td>\n",
       "      <td>WHU</td>\n",
       "      <td>None</td>\n",
       "    </tr>\n",
       "    <tr>\n",
       "      <th>10262</th>\n",
       "      <td>NaN</td>\n",
       "      <td>5502374</td>\n",
       "      <td>64</td>\n",
       "      <td>9837</td>\n",
       "      <td>Reims</td>\n",
       "      <td>REI</td>\n",
       "      <td>None</td>\n",
       "    </tr>\n",
       "    <tr>\n",
       "      <th>4069</th>\n",
       "      <td>NaN</td>\n",
       "      <td>4289861</td>\n",
       "      <td>30</td>\n",
       "      <td>9788</td>\n",
       "      <td>Borussia Moenchengladbach</td>\n",
       "      <td>GLA</td>\n",
       "      <td>None</td>\n",
       "    </tr>\n",
       "    <tr>\n",
       "      <th>20500</th>\n",
       "      <td>NaN</td>\n",
       "      <td>7589762</td>\n",
       "      <td>22</td>\n",
       "      <td>10261</td>\n",
       "      <td>Newcastle United</td>\n",
       "      <td>NCU</td>\n",
       "      <td>None</td>\n",
       "    </tr>\n",
       "    <tr>\n",
       "      <th>13472</th>\n",
       "      <td>NaN</td>\n",
       "      <td>6201207</td>\n",
       "      <td>87</td>\n",
       "      <td>8600</td>\n",
       "      <td>Udinese</td>\n",
       "      <td>UDI</td>\n",
       "      <td>None</td>\n",
       "    </tr>\n",
       "    <tr>\n",
       "      <th>6104</th>\n",
       "      <td>NaN</td>\n",
       "      <td>4793085</td>\n",
       "      <td>76</td>\n",
       "      <td>8721</td>\n",
       "      <td>Wolfsburg</td>\n",
       "      <td>WOL</td>\n",
       "      <td>None</td>\n",
       "    </tr>\n",
       "    <tr>\n",
       "      <th>20263</th>\n",
       "      <td>NaN</td>\n",
       "      <td>7556271</td>\n",
       "      <td>90</td>\n",
       "      <td>9789</td>\n",
       "      <td>Borussia Dortmund</td>\n",
       "      <td>BVB</td>\n",
       "      <td>None</td>\n",
       "    </tr>\n",
       "  </tbody>\n",
       "</table>\n",
       "</div>"
      ],
      "text/plain": [
       "       MatchId ExternalId  Minute TeamId                   FullName Acronym  \\\n",
       "15112      NaN    6449564      42   8529                   Cagliari     CAG   \n",
       "8629       NaN    5219799      47   8581                    Levante     LEV   \n",
       "12895      NaN    6126964      84   8472                 Sunderland     SUN   \n",
       "13769      NaN    6232717      78   8654                   West Ham     WHU   \n",
       "10262      NaN    5502374      64   9837                      Reims     REI   \n",
       "4069       NaN    4289861      30   9788  Borussia Moenchengladbach     GLA   \n",
       "20500      NaN    7589762      22  10261           Newcastle United     NCU   \n",
       "13472      NaN    6201207      87   8600                    Udinese     UDI   \n",
       "6104       NaN    4793085      76   8721                  Wolfsburg     WOL   \n",
       "20263      NaN    7556271      90   9789          Borussia Dortmund     BVB   \n",
       "\n",
       "      Season  \n",
       "15112   None  \n",
       "8629    None  \n",
       "12895   None  \n",
       "13769   None  \n",
       "10262   None  \n",
       "4069    None  \n",
       "20500   None  \n",
       "13472   None  \n",
       "6104    None  \n",
       "20263   None  "
      ]
     },
     "execution_count": 27,
     "metadata": {},
     "output_type": "execute_result"
    }
   ],
   "source": [
    "stmt = \"\"\"SELECT DISTINCT  Matches.Id as MatchId, Goals.ExternalId, convert (bigint,  Goals.Minute) as Minute, Teams.ExternalId as TeamId,\n",
    "    Teams.FullName, Teams.Acronym,Matches.Season\n",
    " FROM [FootballData].[dbo].[Teams]\n",
    "RIGHT JOIN [Goals] ON Goals.TeamId = Teams.ExternalId\n",
    "LEFT JOIN [Matches] ON [Matches].ExternalId = Goals.MatchId\n",
    "AND Matches.Season = '2018/2019'\n",
    "\"\"\"\n",
    "#WHERE League like 'Premier League'\n",
    "\n",
    "df_goals_per_team = pd.read_sql(stmt,conn)\n",
    "#df_goals_per_team = df_goals_per_team['Minute'].notnull()\n",
    "\n",
    "df_goals_per_team.drop_duplicates(['ExternalId'], inplace=True)\n",
    "print(df_goals_per_team.shape)\n",
    "df_goals_per_team.sample(10)"
   ]
  },
  {
   "cell_type": "code",
   "execution_count": 28,
   "metadata": {},
   "outputs": [
    {
     "name": "stdout",
     "output_type": "stream",
     "text": [
      "       MatchId ExternalId  Minute  TeamId                 FullName Acronym  \\\n",
      "0          NaN    3631155       7    9847      Paris Saint Germain     PSG   \n",
      "1          NaN    3631192      19    9847      Paris Saint Germain     PSG   \n",
      "2          NaN    3631201      22    9837                    Reims     REI   \n",
      "3          NaN    3631233      34    9837                    Reims     REI   \n",
      "4          NaN    3631325      63    9847      Paris Saint Germain     PSG   \n",
      "5          NaN    3633614       9    7794                SC Bastia     BBO   \n",
      "6          NaN    3633645      12    7819                     Caen     CAE   \n",
      "7          NaN    3633655      12    8592                Marseille     MAR   \n",
      "8          NaN    3633713      17    9827                 Bordeaux     BOR   \n",
      "9          NaN    3633733      17    7794                SC Bastia     BBO   \n",
      "10         NaN    3633808      23    9831                     Nice     NIC   \n",
      "11         NaN    3633950      32    7819                     Caen     CAE   \n",
      "12         NaN    3634035      37    7819                     Caen     CAE   \n",
      "13         NaN    3634049      39    9853            Saint-Etienne     ETI   \n",
      "14         NaN    3634139      45    9941                 Toulouse     TOU   \n",
      "15         NaN    3634164      45    9941                 Toulouse     TOU   \n",
      "16         NaN    3634503      63    9831                     Nice     NIC   \n",
      "17         NaN    3634529      62    8592                Marseille     MAR   \n",
      "18         NaN    3634545      65    9830                   Nantes     NAN   \n",
      "19         NaN    3634600      66    7794                SC Bastia     BBO   \n",
      "20         NaN    3634606      69    9831                     Nice     NIC   \n",
      "21         NaN    3634705      73    7794                SC Bastia     BBO   \n",
      "22         NaN    3634977      90    9853            Saint-Etienne     ETI   \n",
      "23         NaN    3637174      64    9748                     Lyon     LYO   \n",
      "24         NaN    3637258      74    9748                     Lyon     LYO   \n",
      "25         NaN    3638174      10    8689                  Lorient     LOR   \n",
      "26         NaN    3638410      78    9829                   Monaco     MON   \n",
      "27         NaN    3638439      87    8689                  Lorient     LOR   \n",
      "28         NaN    3645030      69    8639                    Lille     LIL   \n",
      "29         NaN    3645551      28   10003                  Swansea     SWA   \n",
      "...        ...        ...     ...     ...                      ...     ...   \n",
      "17800      NaN    7115107      78    8547                SPAL 2013     SPA   \n",
      "17853      NaN    7123185      86    6266                Benevento     BEN   \n",
      "17856      NaN    7123700      10    9848               Strasbourg     STR   \n",
      "17994      NaN    7155419      42    6266                Benevento     BEN   \n",
      "18244      NaN    7224994      28    9796             Huddersfield     HUD   \n",
      "18293      NaN    7230522      64    8587                   Amiens     AMI   \n",
      "22724   1528.0    8229008      44    8602  Wolverhampton Wanderers     WOL   \n",
      "22728   1528.0    8229739      80    8602  Wolverhampton Wanderers     WOL   \n",
      "22741   1533.0    8257485      29    8602  Wolverhampton Wanderers     WOL   \n",
      "22751   1535.0    8257914      52    9879                   Fulham     FUL   \n",
      "22870   1560.0    8302910       4    9879                   Fulham     FUL   \n",
      "22872   1560.0    8303526      36    9879                   Fulham     FUL   \n",
      "22873   1560.0    8303554      38    9879                   Fulham     FUL   \n",
      "22875   1560.0    8304907      83    9879                   Fulham     FUL   \n",
      "22896   1567.0    8289517      57    8602  Wolverhampton Wanderers     WOL   \n",
      "22900   3087.0    8229603       4    6394                    Nimes     NIM   \n",
      "22904   3087.0    8231427      76    6394                    Nimes     NIM   \n",
      "22905   3087.0    8231572      85    6394                    Nimes     NIM   \n",
      "22947   3103.0    8272606      34    6394                    Nimes     NIM   \n",
      "22949   3103.0    8273702      62    6394                    Nimes     NIM   \n",
      "23004   5866.0    8272253      43  674792        Parma Calcio 1913     PAR   \n",
      "23005   5866.0    8272947      59  674792        Parma Calcio 1913     PAR   \n",
      "23050   7401.0    8269128       5   96925                SD Huesca     HUE   \n",
      "23051   7401.0    8269974      40   96925                SD Huesca     HUE   \n",
      "23239   7449.0    8339686      45    8344                  Cardiff     CAC   \n",
      "23242   7449.0    8340442      70    8344                  Cardiff     CAC   \n",
      "23271   7456.0    8330365      90    8602  Wolverhampton Wanderers     WOL   \n",
      "23339   7471.0    8616345      77    8344                  Cardiff     CAC   \n",
      "23415   7488.0    8689864      28    8344                  Cardiff     CAC   \n",
      "23417   7488.0    8690662      90    8344                  Cardiff     CAC   \n",
      "\n",
      "          Season  \n",
      "0           None  \n",
      "1           None  \n",
      "2           None  \n",
      "3           None  \n",
      "4           None  \n",
      "5           None  \n",
      "6           None  \n",
      "7           None  \n",
      "8           None  \n",
      "9           None  \n",
      "10          None  \n",
      "11          None  \n",
      "12          None  \n",
      "13          None  \n",
      "14          None  \n",
      "15          None  \n",
      "16          None  \n",
      "17          None  \n",
      "18          None  \n",
      "19          None  \n",
      "20          None  \n",
      "21          None  \n",
      "22          None  \n",
      "23          None  \n",
      "24          None  \n",
      "25          None  \n",
      "26          None  \n",
      "27          None  \n",
      "28          None  \n",
      "29          None  \n",
      "...          ...  \n",
      "17800       None  \n",
      "17853       None  \n",
      "17856       None  \n",
      "17994       None  \n",
      "18244       None  \n",
      "18293       None  \n",
      "22724  2018/2019  \n",
      "22728  2018/2019  \n",
      "22741  2018/2019  \n",
      "22751  2018/2019  \n",
      "22870  2018/2019  \n",
      "22872  2018/2019  \n",
      "22873  2018/2019  \n",
      "22875  2018/2019  \n",
      "22896  2018/2019  \n",
      "22900  2018/2019  \n",
      "22904  2018/2019  \n",
      "22905  2018/2019  \n",
      "22947  2018/2019  \n",
      "22949  2018/2019  \n",
      "23004  2018/2019  \n",
      "23005  2018/2019  \n",
      "23050  2018/2019  \n",
      "23051  2018/2019  \n",
      "23239  2018/2019  \n",
      "23242  2018/2019  \n",
      "23271  2018/2019  \n",
      "23339  2018/2019  \n",
      "23415  2018/2019  \n",
      "23417  2018/2019  \n",
      "\n",
      "[669 rows x 7 columns]\n",
      "AC Milan\n"
     ]
    },
    {
     "data": {
      "image/png": "[encoded data removed]",
      "text/plain": [
       "<Figure size 432x288 with 1 Axes>"
      ]
     },
     "metadata": {
      "needs_background": "light"
     },
     "output_type": "display_data"
    },
    {
     "name": "stdout",
     "output_type": "stream",
     "text": [
      "Almeria\n"
     ]
    },
    {
     "data": {
      "image/png": "[encoded data removed]",
      "text/plain": [
       "<Figure size 432x288 with 1 Axes>"
      ]
     },
     "metadata": {
      "needs_background": "light"
     },
     "output_type": "display_data"
    },
    {
     "name": "stdout",
     "output_type": "stream",
     "text": [
      "Amiens\n"
     ]
    },
    {
     "data": {
      "image/png": "[encoded data removed]",
      "text/plain": [
       "<Figure size 432x288 with 1 Axes>"
      ]
     },
     "metadata": {
      "needs_background": "light"
     },
     "output_type": "display_data"
    },
    {
     "name": "stdout",
     "output_type": "stream",
     "text": [
      "Angers\n"
     ]
    },
    {
     "data": {
      "image/png": "[encoded data removed]",
      "text/plain": [
       "<Figure size 432x288 with 1 Axes>"
      ]
     },
     "metadata": {
      "needs_background": "light"
     },
     "output_type": "display_data"
    },
    {
     "name": "stdout",
     "output_type": "stream",
     "text": [
      "Arsenal\n"
     ]
    },
    {
     "data": {
      "image/png": "[encoded data removed]",
      "text/plain": [
       "<Figure size 432x288 with 1 Axes>"
      ]
     },
     "metadata": {
      "needs_background": "light"
     },
     "output_type": "display_data"
    },
    {
     "name": "stdout",
     "output_type": "stream",
     "text": [
      "Aston Villa\n"
     ]
    },
    {
     "data": {
      "image/png": "[encoded data removed]",
      "text/plain": [
       "<Figure size 432x288 with 1 Axes>"
      ]
     },
     "metadata": {
      "needs_background": "light"
     },
     "output_type": "display_data"
    },
    {
     "name": "stdout",
     "output_type": "stream",
     "text": [
      "Atalanta\n"
     ]
    },
    {
     "data": {
      "image/png": "[encoded data removed]",
      "text/plain": [
       "<Figure size 432x288 with 1 Axes>"
      ]
     },
     "metadata": {
      "needs_background": "light"
     },
     "output_type": "display_data"
    },
    {
     "name": "stdout",
     "output_type": "stream",
     "text": [
      "Athletic Bilbao\n"
     ]
    },
    {
     "data": {
      "image/png": "[encoded data removed]",
      "text/plain": [
       "<Figure size 432x288 with 1 Axes>"
      ]
     },
     "metadata": {
      "needs_background": "light"
     },
     "output_type": "display_data"
    },
    {
     "name": "stdout",
     "output_type": "stream",
     "text": [
      "Atletico Madrid\n"
     ]
    },
    {
     "data": {
      "image/png": "[encoded data removed]",
      "text/plain": [
       "<Figure size 432x288 with 1 Axes>"
      ]
     },
     "metadata": {
      "needs_background": "light"
     },
     "output_type": "display_data"
    },
    {
     "name": "stdout",
     "output_type": "stream",
     "text": [
      "Augsburg\n"
     ]
    },
    {
     "data": {
      "image/png": "[encoded data removed]",
      "text/plain": [
       "<Figure size 432x288 with 1 Axes>"
      ]
     },
     "metadata": {
      "needs_background": "light"
     },
     "output_type": "display_data"
    },
    {
     "name": "stdout",
     "output_type": "stream",
     "text": [
      "Barcelona\n"
     ]
    },
    {
     "data": {
      "image/png": "[encoded data removed]",
      "text/plain": [
       "<Figure size 432x288 with 1 Axes>"
      ]
     },
     "metadata": {
      "needs_background": "light"
     },
     "output_type": "display_data"
    },
    {
     "name": "stdout",
     "output_type": "stream",
     "text": [
      "Bayer Leverkusen\n"
     ]
    },
    {
     "data": {
      "image/png": "[encoded data removed]",
      "text/plain": [
       "<Figure size 432x288 with 1 Axes>"
      ]
     },
     "metadata": {
      "needs_background": "light"
     },
     "output_type": "display_data"
    },
    {
     "name": "stdout",
     "output_type": "stream",
     "text": [
      "Bayern Munich\n"
     ]
    },
    {
     "data": {
      "image/png": "[encoded data removed]",
      "text/plain": [
       "<Figure size 432x288 with 1 Axes>"
      ]
     },
     "metadata": {
      "needs_background": "light"
     },
     "output_type": "display_data"
    },
    {
     "name": "stdout",
     "output_type": "stream",
     "text": [
      "Benevento\n"
     ]
    },
    {
     "data": {
      "image/png": "[encoded data removed]",
      "text/plain": [
       "<Figure size 432x288 with 1 Axes>"
      ]
     },
     "metadata": {
      "needs_background": "light"
     },
     "output_type": "display_data"
    },
    {
     "name": "stdout",
     "output_type": "stream",
     "text": [
      "Bologna\n"
     ]
    },
    {
     "data": {
      "image/png": "[encoded data removed]",
      "text/plain": [
       "<Figure size 432x288 with 1 Axes>"
      ]
     },
     "metadata": {
      "needs_background": "light"
     },
     "output_type": "display_data"
    },
    {
     "name": "stdout",
     "output_type": "stream",
     "text": [
      "Bordeaux\n"
     ]
    },
    {
     "data": {
      "image/png": "[encoded data removed]",
      "text/plain": [
       "<Figure size 432x288 with 1 Axes>"
      ]
     },
     "metadata": {
      "needs_background": "light"
     },
     "output_type": "display_data"
    },
    {
     "name": "stdout",
     "output_type": "stream",
     "text": [
      "Borussia Dortmund\n"
     ]
    },
    {
     "data": {
      "image/png": "[encoded data removed]",
      "text/plain": [
       "<Figure size 432x288 with 1 Axes>"
      ]
     },
     "metadata": {
      "needs_background": "light"
     },
     "output_type": "display_data"
    },
    {
     "name": "stdout",
     "output_type": "stream",
     "text": [
      "Borussia Moenchengladbach\n"
     ]
    },
    {
     "data": {
      "image/png": "[encoded data removed]",
      "text/plain": [
       "<Figure size 432x288 with 1 Axes>"
      ]
     },
     "metadata": {
      "needs_background": "light"
     },
     "output_type": "display_data"
    },
    {
     "name": "stdout",
     "output_type": "stream",
     "text": [
      "Bournemouth\n"
     ]
    },
    {
     "data": {
      "image/png": "[encoded data removed]",
      "text/plain": [
       "<Figure size 432x288 with 1 Axes>"
      ]
     },
     "metadata": {
      "needs_background": "light"
     },
     "output_type": "display_data"
    },
    {
     "name": "stdout",
     "output_type": "stream",
     "text": [
      "Brighton\n"
     ]
    },
    {
     "data": {
      "image/png": "[encoded data removed]",
      "text/plain": [
       "<Figure size 432x288 with 1 Axes>"
      ]
     },
     "metadata": {
      "needs_background": "light"
     },
     "output_type": "display_data"
    },
    {
     "name": "stdout",
     "output_type": "stream",
     "text": [
      "Burnley\n"
     ]
    },
    {
     "data": {
      "image/png": "[encoded data removed]",
      "text/plain": [
       "<Figure size 432x288 with 1 Axes>"
      ]
     },
     "metadata": {
      "needs_background": "light"
     },
     "output_type": "display_data"
    },
    {
     "name": "stdout",
     "output_type": "stream",
     "text": [
      "Caen\n"
     ]
    },
    {
     "data": {
      "image/png": "[encoded data removed]",
      "text/plain": [
       "<Figure size 432x288 with 1 Axes>"
      ]
     },
     "metadata": {
      "needs_background": "light"
     },
     "output_type": "display_data"
    },
    {
     "name": "stdout",
     "output_type": "stream",
     "text": [
      "Cagliari\n"
     ]
    },
    {
     "data": {
      "image/png": "[encoded data removed]",
      "text/plain": [
       "<Figure size 432x288 with 1 Axes>"
      ]
     },
     "metadata": {
      "needs_background": "light"
     },
     "output_type": "display_data"
    },
    {
     "name": "stdout",
     "output_type": "stream",
     "text": [
      "Cardiff\n"
     ]
    },
    {
     "data": {
      "image/png": "[encoded data removed]",
      "text/plain": [
       "<Figure size 432x288 with 1 Axes>"
      ]
     },
     "metadata": {
      "needs_background": "light"
     },
     "output_type": "display_data"
    },
    {
     "name": "stdout",
     "output_type": "stream",
     "text": [
      "Carpi\n"
     ]
    },
    {
     "data": {
      "image/png": "[encoded data removed]",
      "text/plain": [
       "<Figure size 432x288 with 1 Axes>"
      ]
     },
     "metadata": {
      "needs_background": "light"
     },
     "output_type": "display_data"
    },
    {
     "name": "stdout",
     "output_type": "stream",
     "text": [
      "Celta Vigo\n"
     ]
    },
    {
     "data": {
      "image/png": "[encoded data removed]",
      "text/plain": [
       "<Figure size 432x288 with 1 Axes>"
      ]
     },
     "metadata": {
      "needs_background": "light"
     },
     "output_type": "display_data"
    },
    {
     "name": "stdout",
     "output_type": "stream",
     "text": [
      "Cesena\n"
     ]
    },
    {
     "data": {
      "image/png": "[encoded data removed]",
      "text/plain": [
       "<Figure size 432x288 with 1 Axes>"
      ]
     },
     "metadata": {
      "needs_background": "light"
     },
     "output_type": "display_data"
    },
    {
     "name": "stdout",
     "output_type": "stream",
     "text": [
      "Chelsea\n"
     ]
    },
    {
     "data": {
      "image/png": "[encoded data removed]",
      "text/plain": [
       "<Figure size 432x288 with 1 Axes>"
      ]
     },
     "metadata": {
      "needs_background": "light"
     },
     "output_type": "display_data"
    },
    {
     "name": "stdout",
     "output_type": "stream",
     "text": [
      "Chievo\n"
     ]
    },
    {
     "data": {
      "image/png": "[encoded data removed]",
      "text/plain": [
       "<Figure size 432x288 with 1 Axes>"
      ]
     },
     "metadata": {
      "needs_background": "light"
     },
     "output_type": "display_data"
    },
    {
     "name": "stdout",
     "output_type": "stream",
     "text": [
      "Cordoba\n"
     ]
    },
    {
     "data": {
      "image/png": "[encoded data removed]",
      "text/plain": [
       "<Figure size 432x288 with 1 Axes>"
      ]
     },
     "metadata": {
      "needs_background": "light"
     },
     "output_type": "display_data"
    },
    {
     "name": "stdout",
     "output_type": "stream",
     "text": [
      "Crotone\n"
     ]
    },
    {
     "data": {
      "image/png": "[encoded data removed]",
      "text/plain": [
       "<Figure size 432x288 with 1 Axes>"
      ]
     },
     "metadata": {
      "needs_background": "light"
     },
     "output_type": "display_data"
    },
    {
     "name": "stdout",
     "output_type": "stream",
     "text": [
      "Crystal Palace\n"
     ]
    },
    {
     "data": {
      "image/png": "[encoded data removed]",
      "text/plain": [
       "<Figure size 432x288 with 1 Axes>"
      ]
     },
     "metadata": {
      "needs_background": "light"
     },
     "output_type": "display_data"
    },
    {
     "name": "stdout",
     "output_type": "stream",
     "text": [
      "Darmstadt\n"
     ]
    },
    {
     "data": {
      "image/png": "[encoded data removed]",
      "text/plain": [
       "<Figure size 432x288 with 1 Axes>"
      ]
     },
     "metadata": {
      "needs_background": "light"
     },
     "output_type": "display_data"
    },
    {
     "name": "stdout",
     "output_type": "stream",
     "text": [
      "Deportivo Alaves\n"
     ]
    },
    {
     "data": {
      "image/png": "[encoded data removed]",
      "text/plain": [
       "<Figure size 432x288 with 1 Axes>"
      ]
     },
     "metadata": {
      "needs_background": "light"
     },
     "output_type": "display_data"
    },
    {
     "name": "stdout",
     "output_type": "stream",
     "text": [
      "Deportivo La Coruna\n"
     ]
    },
    {
     "data": {
      "image/png": "[encoded data removed]",
      "text/plain": [
       "<Figure size 432x288 with 1 Axes>"
      ]
     },
     "metadata": {
      "needs_background": "light"
     },
     "output_type": "display_data"
    },
    {
     "name": "stdout",
     "output_type": "stream",
     "text": [
      "Dijon\n"
     ]
    },
    {
     "data": {
      "image/png": "[encoded data removed]",
      "text/plain": [
       "<Figure size 432x288 with 1 Axes>"
      ]
     },
     "metadata": {
      "needs_background": "light"
     },
     "output_type": "display_data"
    },
    {
     "name": "stdout",
     "output_type": "stream",
     "text": [
      "Eibar\n"
     ]
    },
    {
     "data": {
      "image/png": "[encoded data removed]",
      "text/plain": [
       "<Figure size 432x288 with 1 Axes>"
      ]
     },
     "metadata": {
      "needs_background": "light"
     },
     "output_type": "display_data"
    },
    {
     "name": "stdout",
     "output_type": "stream",
     "text": [
      "Eintracht Frankfurt\n"
     ]
    },
    {
     "data": {
      "image/png": "[encoded data removed]",
      "text/plain": [
       "<Figure size 432x288 with 1 Axes>"
      ]
     },
     "metadata": {
      "needs_background": "light"
     },
     "output_type": "display_data"
    },
    {
     "name": "stdout",
     "output_type": "stream",
     "text": [
      "Elche\n"
     ]
    },
    {
     "data": {
      "image/png": "[encoded data removed]",
      "text/plain": [
       "<Figure size 432x288 with 1 Axes>"
      ]
     },
     "metadata": {
      "needs_background": "light"
     },
     "output_type": "display_data"
    },
    {
     "name": "stdout",
     "output_type": "stream",
     "text": [
      "Empoli\n"
     ]
    },
    {
     "data": {
      "image/png": "[encoded data removed]",
      "text/plain": [
       "<Figure size 432x288 with 1 Axes>"
      ]
     },
     "metadata": {
      "needs_background": "light"
     },
     "output_type": "display_data"
    },
    {
     "name": "stdout",
     "output_type": "stream",
     "text": [
      "Espanyol\n"
     ]
    },
    {
     "data": {
      "image/png": "[encoded data removed]",
      "text/plain": [
       "<Figure size 432x288 with 1 Axes>"
      ]
     },
     "metadata": {
      "needs_background": "light"
     },
     "output_type": "display_data"
    },
    {
     "name": "stdout",
     "output_type": "stream",
     "text": [
      "Everton\n"
     ]
    },
    {
     "data": {
      "image/png": "[encoded data removed]",
      "text/plain": [
       "<Figure size 432x288 with 1 Axes>"
      ]
     },
     "metadata": {
      "needs_background": "light"
     },
     "output_type": "display_data"
    },
    {
     "name": "stdout",
     "output_type": "stream",
     "text": [
      "Evian Thonon Gaillard\n"
     ]
    },
    {
     "data": {
      "image/png": "[encoded data removed]",
      "text/plain": [
       "<Figure size 432x288 with 1 Axes>"
      ]
     },
     "metadata": {
      "needs_background": "light"
     },
     "output_type": "display_data"
    },
    {
     "name": "stdout",
     "output_type": "stream",
     "text": [
      "FC Cologne\n"
     ]
    },
    {
     "data": {
      "image/png": "[encoded data removed]",
      "text/plain": [
       "<Figure size 432x288 with 1 Axes>"
      ]
     },
     "metadata": {
      "needs_background": "light"
     },
     "output_type": "display_data"
    },
    {
     "name": "stdout",
     "output_type": "stream",
     "text": [
      "Fiorentina\n"
     ]
    },
    {
     "data": {
      "image/png": "[encoded data removed]",
      "text/plain": [
       "<Figure size 432x288 with 1 Axes>"
      ]
     },
     "metadata": {
      "needs_background": "light"
     },
     "output_type": "display_data"
    },
    {
     "name": "stdout",
     "output_type": "stream",
     "text": [
      "Freiburg\n"
     ]
    },
    {
     "data": {
      "image/png": "[encoded data removed]",
      "text/plain": [
       "<Figure size 432x288 with 1 Axes>"
      ]
     },
     "metadata": {
      "needs_background": "light"
     },
     "output_type": "display_data"
    },
    {
     "name": "stdout",
     "output_type": "stream",
     "text": [
      "Frosinone\n"
     ]
    },
    {
     "data": {
      "image/png": "[encoded data removed]",
      "text/plain": [
       "<Figure size 432x288 with 1 Axes>"
      ]
     },
     "metadata": {
      "needs_background": "light"
     },
     "output_type": "display_data"
    },
    {
     "name": "stdout",
     "output_type": "stream",
     "text": [
      "Fulham\n"
     ]
    },
    {
     "data": {
      "image/png": "[encoded data removed]",
      "text/plain": [
       "<Figure size 432x288 with 1 Axes>"
      ]
     },
     "metadata": {
      "needs_background": "light"
     },
     "output_type": "display_data"
    },
    {
     "name": "stdout",
     "output_type": "stream",
     "text": [
      "GFC Ajaccio\n"
     ]
    },
    {
     "data": {
      "image/png": "[encoded data removed]",
      "text/plain": [
       "<Figure size 432x288 with 1 Axes>"
      ]
     },
     "metadata": {
      "needs_background": "light"
     },
     "output_type": "display_data"
    },
    {
     "name": "stdout",
     "output_type": "stream",
     "text": [
      "Genoa\n"
     ]
    },
    {
     "data": {
      "image/png": "[encoded data removed]",
      "text/plain": [
       "<Figure size 432x288 with 1 Axes>"
      ]
     },
     "metadata": {
      "needs_background": "light"
     },
     "output_type": "display_data"
    },
    {
     "name": "stdout",
     "output_type": "stream",
     "text": [
      "Getafe\n"
     ]
    },
    {
     "data": {
      "image/png": "[encoded data removed]",
      "text/plain": [
       "<Figure size 432x288 with 1 Axes>"
      ]
     },
     "metadata": {
      "needs_background": "light"
     },
     "output_type": "display_data"
    },
    {
     "name": "stdout",
     "output_type": "stream",
     "text": [
      "Girona\n"
     ]
    },
    {
     "data": {
      "image/png": "[encoded data removed]",
      "text/plain": [
       "<Figure size 432x288 with 1 Axes>"
      ]
     },
     "metadata": {
      "needs_background": "light"
     },
     "output_type": "display_data"
    },
    {
     "name": "stdout",
     "output_type": "stream",
     "text": [
      "Granada\n"
     ]
    },
    {
     "data": {
      "image/png": "[encoded data removed]",
      "text/plain": [
       "<Figure size 432x288 with 1 Axes>"
      ]
     },
     "metadata": {
      "needs_background": "light"
     },
     "output_type": "display_data"
    },
    {
     "name": "stdout",
     "output_type": "stream",
     "text": [
      "Guingamp\n"
     ]
    },
    {
     "data": {
      "image/png": "[encoded data removed]",
      "text/plain": [
       "<Figure size 432x288 with 1 Axes>"
      ]
     },
     "metadata": {
      "needs_background": "light"
     },
     "output_type": "display_data"
    },
    {
     "name": "stdout",
     "output_type": "stream",
     "text": [
      "Hamburger SV\n"
     ]
    },
    {
     "data": {
      "image/png": "[encoded data removed]",
      "text/plain": [
       "<Figure size 432x288 with 1 Axes>"
      ]
     },
     "metadata": {
      "needs_background": "light"
     },
     "output_type": "display_data"
    },
    {
     "name": "stdout",
     "output_type": "stream",
     "text": [
      "Hannover 96\n"
     ]
    },
    {
     "data": {
      "image/png": "[encoded data removed]",
      "text/plain": [
       "<Figure size 432x288 with 1 Axes>"
      ]
     },
     "metadata": {
      "needs_background": "light"
     },
     "output_type": "display_data"
    },
    {
     "name": "stdout",
     "output_type": "stream",
     "text": [
      "Hertha Berlin\n"
     ]
    },
    {
     "data": {
      "image/png": "[encoded data removed]",
      "text/plain": [
       "<Figure size 432x288 with 1 Axes>"
      ]
     },
     "metadata": {
      "needs_background": "light"
     },
     "output_type": "display_data"
    },
    {
     "name": "stdout",
     "output_type": "stream",
     "text": [
      "Hoffenheim\n"
     ]
    },
    {
     "data": {
      "image/png": "[encoded data removed]",
      "text/plain": [
       "<Figure size 432x288 with 1 Axes>"
      ]
     },
     "metadata": {
      "needs_background": "light"
     },
     "output_type": "display_data"
    },
    {
     "name": "stdout",
     "output_type": "stream",
     "text": [
      "Huddersfield\n"
     ]
    },
    {
     "data": {
      "image/png": "[encoded data removed]",
      "text/plain": [
       "<Figure size 432x288 with 1 Axes>"
      ]
     },
     "metadata": {
      "needs_background": "light"
     },
     "output_type": "display_data"
    },
    {
     "name": "stdout",
     "output_type": "stream",
     "text": [
      "Hull\n"
     ]
    },
    {
     "data": {
      "image/png": "[encoded data removed]",
      "text/plain": [
       "<Figure size 432x288 with 1 Axes>"
      ]
     },
     "metadata": {
      "needs_background": "light"
     },
     "output_type": "display_data"
    },
    {
     "name": "stdout",
     "output_type": "stream",
     "text": [
      "Ingolstadt\n"
     ]
    },
    {
     "data": {
      "image/png": "[encoded data removed]",
      "text/plain": [
       "<Figure size 432x288 with 1 Axes>"
      ]
     },
     "metadata": {
      "needs_background": "light"
     },
     "output_type": "display_data"
    },
    {
     "name": "stdout",
     "output_type": "stream",
     "text": [
      "Inter\n"
     ]
    },
    {
     "data": {
      "image/png": "[encoded data removed]",
      "text/plain": [
       "<Figure size 432x288 with 1 Axes>"
      ]
     },
     "metadata": {
      "needs_background": "light"
     },
     "output_type": "display_data"
    },
    {
     "name": "stdout",
     "output_type": "stream",
     "text": [
      "Juventus\n"
     ]
    },
    {
     "data": {
      "image/png": "[encoded data removed]",
      "text/plain": [
       "<Figure size 432x288 with 1 Axes>"
      ]
     },
     "metadata": {
      "needs_background": "light"
     },
     "output_type": "display_data"
    },
    {
     "name": "stdout",
     "output_type": "stream",
     "text": [
      "Las Palmas\n"
     ]
    },
    {
     "data": {
      "image/png": "[encoded data removed]",
      "text/plain": [
       "<Figure size 432x288 with 1 Axes>"
      ]
     },
     "metadata": {
      "needs_background": "light"
     },
     "output_type": "display_data"
    },
    {
     "name": "stdout",
     "output_type": "stream",
     "text": [
      "Lazio\n"
     ]
    },
    {
     "data": {
      "image/png": "[encoded data removed]",
      "text/plain": [
       "<Figure size 432x288 with 1 Axes>"
      ]
     },
     "metadata": {
      "needs_background": "light"
     },
     "output_type": "display_data"
    },
    {
     "name": "stdout",
     "output_type": "stream",
     "text": [
      "Leganes\n"
     ]
    },
    {
     "data": {
      "image/png": "[encoded data removed]",
      "text/plain": [
       "<Figure size 432x288 with 1 Axes>"
      ]
     },
     "metadata": {
      "needs_background": "light"
     },
     "output_type": "display_data"
    },
    {
     "name": "stdout",
     "output_type": "stream",
     "text": [
      "Leicester\n"
     ]
    },
    {
     "data": {
      "image/png": "[encoded data removed]",
      "text/plain": [
       "<Figure size 432x288 with 1 Axes>"
      ]
     },
     "metadata": {
      "needs_background": "light"
     },
     "output_type": "display_data"
    },
    {
     "name": "stdout",
     "output_type": "stream",
     "text": [
      "Lens\n"
     ]
    },
    {
     "data": {
      "image/png": "[encoded data removed]",
      "text/plain": [
       "<Figure size 432x288 with 1 Axes>"
      ]
     },
     "metadata": {
      "needs_background": "light"
     },
     "output_type": "display_data"
    },
    {
     "name": "stdout",
     "output_type": "stream",
     "text": [
      "Levante\n"
     ]
    },
    {
     "data": {
      "image/png": "[encoded data removed]",
      "text/plain": [
       "<Figure size 432x288 with 1 Axes>"
      ]
     },
     "metadata": {
      "needs_background": "light"
     },
     "output_type": "display_data"
    },
    {
     "name": "stdout",
     "output_type": "stream",
     "text": [
      "Lille\n"
     ]
    },
    {
     "data": {
      "image/png": "[encoded data removed]",
      "text/plain": [
       "<Figure size 432x288 with 1 Axes>"
      ]
     },
     "metadata": {
      "needs_background": "light"
     },
     "output_type": "display_data"
    },
    {
     "name": "stdout",
     "output_type": "stream",
     "text": [
      "Liverpool\n"
     ]
    },
    {
     "data": {
      "image/png": "[encoded data removed]",
      "text/plain": [
       "<Figure size 432x288 with 1 Axes>"
      ]
     },
     "metadata": {
      "needs_background": "light"
     },
     "output_type": "display_data"
    },
    {
     "name": "stdout",
     "output_type": "stream",
     "text": [
      "Lorient\n"
     ]
    },
    {
     "data": {
      "image/png": "[encoded data removed]",
      "text/plain": [
       "<Figure size 432x288 with 1 Axes>"
      ]
     },
     "metadata": {
      "needs_background": "light"
     },
     "output_type": "display_data"
    },
    {
     "name": "stdout",
     "output_type": "stream",
     "text": [
      "Lyon\n"
     ]
    },
    {
     "data": {
      "image/png": "[encoded data removed]",
      "text/plain": [
       "<Figure size 432x288 with 1 Axes>"
      ]
     },
     "metadata": {
      "needs_background": "light"
     },
     "output_type": "display_data"
    },
    {
     "name": "stdout",
     "output_type": "stream",
     "text": [
      "Mainz 05\n"
     ]
    },
    {
     "data": {
      "image/png": "[encoded data removed]",
      "text/plain": [
       "<Figure size 432x288 with 1 Axes>"
      ]
     },
     "metadata": {
      "needs_background": "light"
     },
     "output_type": "display_data"
    },
    {
     "name": "stdout",
     "output_type": "stream",
     "text": [
      "Malaga\n"
     ]
    },
    {
     "data": {
      "image/png": "[encoded data removed]",
      "text/plain": [
       "<Figure size 432x288 with 1 Axes>"
      ]
     },
     "metadata": {
      "needs_background": "light"
     },
     "output_type": "display_data"
    },
    {
     "name": "stdout",
     "output_type": "stream",
     "text": [
      "Manchester City\n"
     ]
    },
    {
     "data": {
      "image/png": "[encoded data removed]",
      "text/plain": [
       "<Figure size 432x288 with 1 Axes>"
      ]
     },
     "metadata": {
      "needs_background": "light"
     },
     "output_type": "display_data"
    },
    {
     "name": "stdout",
     "output_type": "stream",
     "text": [
      "Manchester United\n"
     ]
    },
    {
     "data": {
      "image/png": "[encoded data removed]",
      "text/plain": [
       "<Figure size 432x288 with 1 Axes>"
      ]
     },
     "metadata": {
      "needs_background": "light"
     },
     "output_type": "display_data"
    },
    {
     "name": "stdout",
     "output_type": "stream",
     "text": [
      "Marseille\n"
     ]
    },
    {
     "data": {
      "image/png": "[encoded data removed]",
      "text/plain": [
       "<Figure size 432x288 with 1 Axes>"
      ]
     },
     "metadata": {
      "needs_background": "light"
     },
     "output_type": "display_data"
    },
    {
     "name": "stdout",
     "output_type": "stream",
     "text": [
      "Metz\n"
     ]
    },
    {
     "data": {
      "image/png": "[encoded data removed]",
      "text/plain": [
       "<Figure size 432x288 with 1 Axes>"
      ]
     },
     "metadata": {
      "needs_background": "light"
     },
     "output_type": "display_data"
    },
    {
     "name": "stdout",
     "output_type": "stream",
     "text": [
      "Middlesbrough\n"
     ]
    },
    {
     "data": {
      "image/png": "[encoded data removed]",
      "text/plain": [
       "<Figure size 432x288 with 1 Axes>"
      ]
     },
     "metadata": {
      "needs_background": "light"
     },
     "output_type": "display_data"
    },
    {
     "name": "stdout",
     "output_type": "stream",
     "text": [
      "Monaco\n"
     ]
    },
    {
     "data": {
      "image/png": "[encoded data removed]",
      "text/plain": [
       "<Figure size 432x288 with 1 Axes>"
      ]
     },
     "metadata": {
      "needs_background": "light"
     },
     "output_type": "display_data"
    },
    {
     "name": "stdout",
     "output_type": "stream",
     "text": [
      "Montpellier\n"
     ]
    },
    {
     "data": {
      "image/png": "[encoded data removed]",
      "text/plain": [
       "<Figure size 432x288 with 1 Axes>"
      ]
     },
     "metadata": {
      "needs_background": "light"
     },
     "output_type": "display_data"
    },
    {
     "name": "stdout",
     "output_type": "stream",
     "text": [
      "Nancy\n"
     ]
    },
    {
     "data": {
      "image/png": "[encoded data removed]",
      "text/plain": [
       "<Figure size 432x288 with 1 Axes>"
      ]
     },
     "metadata": {
      "needs_background": "light"
     },
     "output_type": "display_data"
    },
    {
     "name": "stdout",
     "output_type": "stream",
     "text": [
      "Nantes\n"
     ]
    },
    {
     "data": {
      "image/png": "[encoded data removed]",
      "text/plain": [
       "<Figure size 432x288 with 1 Axes>"
      ]
     },
     "metadata": {
      "needs_background": "light"
     },
     "output_type": "display_data"
    },
    {
     "name": "stdout",
     "output_type": "stream",
     "text": [
      "Newcastle United\n"
     ]
    },
    {
     "data": {
      "image/png": "[encoded data removed]",
      "text/plain": [
       "<Figure size 432x288 with 1 Axes>"
      ]
     },
     "metadata": {
      "needs_background": "light"
     },
     "output_type": "display_data"
    },
    {
     "name": "stdout",
     "output_type": "stream",
     "text": [
      "Nice\n"
     ]
    },
    {
     "data": {
      "image/png": "[encoded data removed]",
      "text/plain": [
       "<Figure size 432x288 with 1 Axes>"
      ]
     },
     "metadata": {
      "needs_background": "light"
     },
     "output_type": "display_data"
    },
    {
     "name": "stdout",
     "output_type": "stream",
     "text": [
      "Nimes\n"
     ]
    },
    {
     "data": {
      "image/png": "[encoded data removed]",
      "text/plain": [
       "<Figure size 432x288 with 1 Axes>"
      ]
     },
     "metadata": {
      "needs_background": "light"
     },
     "output_type": "display_data"
    },
    {
     "name": "stdout",
     "output_type": "stream",
     "text": [
      "Norwich\n"
     ]
    },
    {
     "data": {
      "image/png": "[encoded data removed]",
      "text/plain": [
       "<Figure size 432x288 with 1 Axes>"
      ]
     },
     "metadata": {
      "needs_background": "light"
     },
     "output_type": "display_data"
    },
    {
     "name": "stdout",
     "output_type": "stream",
     "text": [
      "Osasuna\n"
     ]
    },
    {
     "data": {
      "image/png": "[encoded data removed]",
      "text/plain": [
       "<Figure size 432x288 with 1 Axes>"
      ]
     },
     "metadata": {
      "needs_background": "light"
     },
     "output_type": "display_data"
    },
    {
     "name": "stdout",
     "output_type": "stream",
     "text": [
      "Paderborn\n"
     ]
    },
    {
     "data": {
      "image/png": "[encoded data removed]",
      "text/plain": [
       "<Figure size 432x288 with 1 Axes>"
      ]
     },
     "metadata": {
      "needs_background": "light"
     },
     "output_type": "display_data"
    },
    {
     "name": "stdout",
     "output_type": "stream",
     "text": [
      "Palermo\n"
     ]
    },
    {
     "data": {
      "image/png": "[encoded data removed]",
      "text/plain": [
       "<Figure size 432x288 with 1 Axes>"
      ]
     },
     "metadata": {
      "needs_background": "light"
     },
     "output_type": "display_data"
    },
    {
     "name": "stdout",
     "output_type": "stream",
     "text": [
      "Paris Saint Germain\n"
     ]
    },
    {
     "data": {
      "image/png": "[encoded data removed]",
      "text/plain": [
       "<Figure size 432x288 with 1 Axes>"
      ]
     },
     "metadata": {
      "needs_background": "light"
     },
     "output_type": "display_data"
    },
    {
     "name": "stdout",
     "output_type": "stream",
     "text": [
      "Parma\n"
     ]
    },
    {
     "data": {
      "image/png": "[encoded data removed]",
      "text/plain": [
       "<Figure size 432x288 with 1 Axes>"
      ]
     },
     "metadata": {
      "needs_background": "light"
     },
     "output_type": "display_data"
    },
    {
     "name": "stdout",
     "output_type": "stream",
     "text": [
      "Parma Calcio 1913\n"
     ]
    },
    {
     "data": {
      "image/png": "[encoded data removed]",
      "text/plain": [
       "<Figure size 432x288 with 1 Axes>"
      ]
     },
     "metadata": {
      "needs_background": "light"
     },
     "output_type": "display_data"
    },
    {
     "name": "stdout",
     "output_type": "stream",
     "text": [
      "Pescara\n"
     ]
    },
    {
     "data": {
      "image/png": "[encoded data removed]",
      "text/plain": [
       "<Figure size 432x288 with 1 Axes>"
      ]
     },
     "metadata": {
      "needs_background": "light"
     },
     "output_type": "display_data"
    },
    {
     "name": "stdout",
     "output_type": "stream",
     "text": [
      "Queens Park Rangers\n"
     ]
    },
    {
     "data": {
      "image/png": "[encoded data removed]",
      "text/plain": [
       "<Figure size 432x288 with 1 Axes>"
      ]
     },
     "metadata": {
      "needs_background": "light"
     },
     "output_type": "display_data"
    },
    {
     "name": "stdout",
     "output_type": "stream",
     "text": [
      "RasenBallsport Leipzig\n"
     ]
    },
    {
     "data": {
      "image/png": "[encoded data removed]",
      "text/plain": [
       "<Figure size 432x288 with 1 Axes>"
      ]
     },
     "metadata": {
      "needs_background": "light"
     },
     "output_type": "display_data"
    },
    {
     "name": "stdout",
     "output_type": "stream",
     "text": [
      "Rayo Vallecano\n"
     ]
    },
    {
     "data": {
      "image/png": "[encoded data removed]",
      "text/plain": [
       "<Figure size 432x288 with 1 Axes>"
      ]
     },
     "metadata": {
      "needs_background": "light"
     },
     "output_type": "display_data"
    },
    {
     "name": "stdout",
     "output_type": "stream",
     "text": [
      "Real Betis\n"
     ]
    },
    {
     "data": {
      "image/png": "[encoded data removed]",
      "text/plain": [
       "<Figure size 432x288 with 1 Axes>"
      ]
     },
     "metadata": {
      "needs_background": "light"
     },
     "output_type": "display_data"
    },
    {
     "name": "stdout",
     "output_type": "stream",
     "text": [
      "Real Madrid\n"
     ]
    },
    {
     "data": {
      "image/png": "[encoded data removed]",
      "text/plain": [
       "<Figure size 432x288 with 1 Axes>"
      ]
     },
     "metadata": {
      "needs_background": "light"
     },
     "output_type": "display_data"
    },
    {
     "name": "stdout",
     "output_type": "stream",
     "text": [
      "Real Sociedad\n"
     ]
    },
    {
     "data": {
      "image/png": "[encoded data removed]",
      "text/plain": [
       "<Figure size 432x288 with 1 Axes>"
      ]
     },
     "metadata": {
      "needs_background": "light"
     },
     "output_type": "display_data"
    },
    {
     "name": "stdout",
     "output_type": "stream",
     "text": [
      "Reims\n"
     ]
    },
    {
     "data": {
      "image/png": "[encoded data removed]",
      "text/plain": [
       "<Figure size 432x288 with 1 Axes>"
      ]
     },
     "metadata": {
      "needs_background": "light"
     },
     "output_type": "display_data"
    },
    {
     "name": "stdout",
     "output_type": "stream",
     "text": [
      "Rennes\n"
     ]
    },
    {
     "data": {
      "image/png": "[encoded data removed]",
      "text/plain": [
       "<Figure size 432x288 with 1 Axes>"
      ]
     },
     "metadata": {
      "needs_background": "light"
     },
     "output_type": "display_data"
    },
    {
     "name": "stdout",
     "output_type": "stream",
     "text": [
      "Roma\n"
     ]
    },
    {
     "data": {
      "image/png": "[encoded data removed]",
      "text/plain": [
       "<Figure size 432x288 with 1 Axes>"
      ]
     },
     "metadata": {
      "needs_background": "light"
     },
     "output_type": "display_data"
    },
    {
     "name": "stdout",
     "output_type": "stream",
     "text": [
      "SC Bastia\n"
     ]
    },
    {
     "data": {
      "image/png": "[encoded data removed]",
      "text/plain": [
       "<Figure size 432x288 with 1 Axes>"
      ]
     },
     "metadata": {
      "needs_background": "light"
     },
     "output_type": "display_data"
    },
    {
     "name": "stdout",
     "output_type": "stream",
     "text": [
      "SD Huesca\n"
     ]
    },
    {
     "data": {
      "image/png": "[encoded data removed]",
      "text/plain": [
       "<Figure size 432x288 with 1 Axes>"
      ]
     },
     "metadata": {
      "needs_background": "light"
     },
     "output_type": "display_data"
    },
    {
     "name": "stdout",
     "output_type": "stream",
     "text": [
      "SPAL 2013\n"
     ]
    },
    {
     "data": {
      "image/png": "[encoded data removed]",
      "text/plain": [
       "<Figure size 432x288 with 1 Axes>"
      ]
     },
     "metadata": {
      "needs_background": "light"
     },
     "output_type": "display_data"
    },
    {
     "name": "stdout",
     "output_type": "stream",
     "text": [
      "SSC Napoli\n"
     ]
    },
    {
     "data": {
      "image/png": "[encoded data removed]",
      "text/plain": [
       "<Figure size 432x288 with 1 Axes>"
      ]
     },
     "metadata": {
      "needs_background": "light"
     },
     "output_type": "display_data"
    },
    {
     "name": "stdout",
     "output_type": "stream",
     "text": [
      "Saint-Etienne\n"
     ]
    },
    {
     "data": {
      "image/png": "[encoded data removed]",
      "text/plain": [
       "<Figure size 432x288 with 1 Axes>"
      ]
     },
     "metadata": {
      "needs_background": "light"
     },
     "output_type": "display_data"
    },
    {
     "name": "stdout",
     "output_type": "stream",
     "text": [
      "Sampdoria\n"
     ]
    },
    {
     "data": {
      "image/png": "[encoded data removed]",
      "text/plain": [
       "<Figure size 432x288 with 1 Axes>"
      ]
     },
     "metadata": {
      "needs_background": "light"
     },
     "output_type": "display_data"
    },
    {
     "name": "stdout",
     "output_type": "stream",
     "text": [
      "Sassuolo\n"
     ]
    },
    {
     "data": {
      "image/png": "[encoded data removed]",
      "text/plain": [
       "<Figure size 432x288 with 1 Axes>"
      ]
     },
     "metadata": {
      "needs_background": "light"
     },
     "output_type": "display_data"
    },
    {
     "name": "stdout",
     "output_type": "stream",
     "text": [
      "Schalke 04\n"
     ]
    },
    {
     "data": {
      "image/png": "[encoded data removed]",
      "text/plain": [
       "<Figure size 432x288 with 1 Axes>"
      ]
     },
     "metadata": {
      "needs_background": "light"
     },
     "output_type": "display_data"
    },
    {
     "name": "stdout",
     "output_type": "stream",
     "text": [
      "Sevilla\n"
     ]
    },
    {
     "data": {
      "image/png": "[encoded data removed]",
      "text/plain": [
       "<Figure size 432x288 with 1 Axes>"
      ]
     },
     "metadata": {
      "needs_background": "light"
     },
     "output_type": "display_data"
    },
    {
     "name": "stdout",
     "output_type": "stream",
     "text": [
      "Southampton\n"
     ]
    },
    {
     "data": {
      "image/png": "[encoded data removed]",
      "text/plain": [
       "<Figure size 432x288 with 1 Axes>"
      ]
     },
     "metadata": {
      "needs_background": "light"
     },
     "output_type": "display_data"
    },
    {
     "name": "stdout",
     "output_type": "stream",
     "text": [
      "Sporting Gijon\n"
     ]
    },
    {
     "data": {
      "image/png": "[encoded data removed]",
      "text/plain": [
       "<Figure size 432x288 with 1 Axes>"
      ]
     },
     "metadata": {
      "needs_background": "light"
     },
     "output_type": "display_data"
    },
    {
     "name": "stdout",
     "output_type": "stream",
     "text": [
      "Stoke\n"
     ]
    },
    {
     "data": {
      "image/png": "[encoded data removed]",
      "text/plain": [
       "<Figure size 432x288 with 1 Axes>"
      ]
     },
     "metadata": {
      "needs_background": "light"
     },
     "output_type": "display_data"
    },
    {
     "name": "stdout",
     "output_type": "stream",
     "text": [
      "Strasbourg\n"
     ]
    },
    {
     "data": {
      "image/png": "[encoded data removed]",
      "text/plain": [
       "<Figure size 432x288 with 1 Axes>"
      ]
     },
     "metadata": {
      "needs_background": "light"
     },
     "output_type": "display_data"
    },
    {
     "name": "stdout",
     "output_type": "stream",
     "text": [
      "Sunderland\n"
     ]
    },
    {
     "data": {
      "image/png": "[encoded data removed]",
      "text/plain": [
       "<Figure size 432x288 with 1 Axes>"
      ]
     },
     "metadata": {
      "needs_background": "light"
     },
     "output_type": "display_data"
    },
    {
     "name": "stdout",
     "output_type": "stream",
     "text": [
      "Swansea\n"
     ]
    },
    {
     "data": {
      "image/png": "[encoded data removed]",
      "text/plain": [
       "<Figure size 432x288 with 1 Axes>"
      ]
     },
     "metadata": {
      "needs_background": "light"
     },
     "output_type": "display_data"
    },
    {
     "name": "stdout",
     "output_type": "stream",
     "text": [
      "Torino\n"
     ]
    },
    {
     "data": {
      "image/png": "[encoded data removed]",
      "text/plain": [
       "<Figure size 432x288 with 1 Axes>"
      ]
     },
     "metadata": {
      "needs_background": "light"
     },
     "output_type": "display_data"
    },
    {
     "name": "stdout",
     "output_type": "stream",
     "text": [
      "Tottenham\n"
     ]
    },
    {
     "data": {
      "image/png": "[encoded data removed]",
      "text/plain": [
       "<Figure size 432x288 with 1 Axes>"
      ]
     },
     "metadata": {
      "needs_background": "light"
     },
     "output_type": "display_data"
    },
    {
     "name": "stdout",
     "output_type": "stream",
     "text": [
      "Toulouse\n"
     ]
    },
    {
     "data": {
      "image/png": "[encoded data removed]",
      "text/plain": [
       "<Figure size 432x288 with 1 Axes>"
      ]
     },
     "metadata": {
      "needs_background": "light"
     },
     "output_type": "display_data"
    },
    {
     "name": "stdout",
     "output_type": "stream",
     "text": [
      "Troyes\n"
     ]
    },
    {
     "data": {
      "image/png": "[encoded data removed]",
      "text/plain": [
       "<Figure size 432x288 with 1 Axes>"
      ]
     },
     "metadata": {
      "needs_background": "light"
     },
     "output_type": "display_data"
    },
    {
     "name": "stdout",
     "output_type": "stream",
     "text": [
      "Udinese\n"
     ]
    },
    {
     "data": {
      "image/png": "[encoded data removed]",
      "text/plain": [
       "<Figure size 432x288 with 1 Axes>"
      ]
     },
     "metadata": {
      "needs_background": "light"
     },
     "output_type": "display_data"
    },
    {
     "name": "stdout",
     "output_type": "stream",
     "text": [
      "Valencia\n"
     ]
    },
    {
     "data": {
      "image/png": "[encoded data removed]",
      "text/plain": [
       "<Figure size 432x288 with 1 Axes>"
      ]
     },
     "metadata": {
      "needs_background": "light"
     },
     "output_type": "display_data"
    },
    {
     "name": "stdout",
     "output_type": "stream",
     "text": [
      "Verona\n"
     ]
    },
    {
     "data": {
      "image/png": "[encoded data removed]",
      "text/plain": [
       "<Figure size 432x288 with 1 Axes>"
      ]
     },
     "metadata": {
      "needs_background": "light"
     },
     "output_type": "display_data"
    },
    {
     "name": "stdout",
     "output_type": "stream",
     "text": [
      "VfB Stuttgart\n"
     ]
    },
    {
     "data": {
      "image/png": "[encoded data removed]",
      "text/plain": [
       "<Figure size 432x288 with 1 Axes>"
      ]
     },
     "metadata": {
      "needs_background": "light"
     },
     "output_type": "display_data"
    },
    {
     "name": "stdout",
     "output_type": "stream",
     "text": [
      "Villarreal\n"
     ]
    },
    {
     "data": {
      "image/png": "[encoded data removed]",
      "text/plain": [
       "<Figure size 432x288 with 1 Axes>"
      ]
     },
     "metadata": {
      "needs_background": "light"
     },
     "output_type": "display_data"
    },
    {
     "name": "stdout",
     "output_type": "stream",
     "text": [
      "Watford\n"
     ]
    },
    {
     "data": {
      "image/png": "[encoded data removed]",
      "text/plain": [
       "<Figure size 432x288 with 1 Axes>"
      ]
     },
     "metadata": {
      "needs_background": "light"
     },
     "output_type": "display_data"
    },
    {
     "name": "stdout",
     "output_type": "stream",
     "text": [
      "Werder Bremen\n"
     ]
    },
    {
     "data": {
      "image/png": "[encoded data removed]",
      "text/plain": [
       "<Figure size 432x288 with 1 Axes>"
      ]
     },
     "metadata": {
      "needs_background": "light"
     },
     "output_type": "display_data"
    },
    {
     "name": "stdout",
     "output_type": "stream",
     "text": [
      "West Bromwich Albion\n"
     ]
    },
    {
     "data": {
      "image/png": "[encoded data removed]",
      "text/plain": [
       "<Figure size 432x288 with 1 Axes>"
      ]
     },
     "metadata": {
      "needs_background": "light"
     },
     "output_type": "display_data"
    },
    {
     "name": "stdout",
     "output_type": "stream",
     "text": [
      "West Ham\n"
     ]
    },
    {
     "data": {
      "image/png": "[encoded data removed]",
      "text/plain": [
       "<Figure size 432x288 with 1 Axes>"
      ]
     },
     "metadata": {
      "needs_background": "light"
     },
     "output_type": "display_data"
    },
    {
     "name": "stdout",
     "output_type": "stream",
     "text": [
      "Wolfsburg\n"
     ]
    },
    {
     "data": {
      "image/png": "[encoded data removed]",
      "text/plain": [
       "<Figure size 432x288 with 1 Axes>"
      ]
     },
     "metadata": {
      "needs_background": "light"
     },
     "output_type": "display_data"
    },
    {
     "name": "stdout",
     "output_type": "stream",
     "text": [
      "Wolverhampton Wanderers\n"
     ]
    },
    {
     "data": {
      "image/png": "[encoded data removed]",
      "text/plain": [
       "<Figure size 432x288 with 1 Axes>"
      ]
     },
     "metadata": {
      "needs_background": "light"
     },
     "output_type": "display_data"
    }
   ],
   "source": [
    "groups = df_goals_per_team.groupby(['FullName'])\n",
    "\n",
    "print(groups.head())\n",
    "groups.describe()\n",
    "import matplotlib.pyplot as plt\n",
    "for group in groups:\n",
    "    #figure()\n",
    "    #plt.\n",
    "    print(group[1].FullName.values[0])\n",
    "    plt.hist(group[1].Minute, bins=45)\n",
    "    #cumulative=1, density=True, histtype='step'\n",
    "    axes = plt.gca()\n",
    "    axes.set_xlim([0,90])\n",
    "    #axes.set_ylim([0,50])\n",
    "    plt.show()"
   ]
  },
  {
   "cell_type": "code",
   "execution_count": 36,
   "metadata": {},
   "outputs": [
    {
     "name": "stdout",
     "output_type": "stream",
     "text": [
      "(78204, 6)\n",
      "(7836, 10)\n",
      "(78204, 13)\n",
      "(380, 13)\n"
     ]
    },
    {
     "data": {
      "text/plain": [
       "MatchId  TeamId\n",
       "1709697  9837                                                  {52 }\n",
       "         9847                              {15 , 44 , 51 , 73 , 90 }\n",
       "1709698  7794                                                  {36 }\n",
       "         8592                                   {20 , 20 , 43 , 52 }\n",
       "1709699  4087                              {21 , 67 , 83 , 84 , 88 }\n",
       "         7819                         {19 , 30 , 54 , 58 , 60 , 63 }\n",
       "1709700  9747                                   {24 , 45 , 54 , 58 }\n",
       "         9853                              {20 , 23 , 37 , 52 , 75 }\n",
       "1709701  8550                                        {12 , 63 , 63 }\n",
       "         8639                {9 , 11 , 26 , 36 , 40 , 71 , 85 , 87 }\n",
       "1709702  9748                               {6 , 18 , 45 , 48 , 23 }\n",
       "         9851                                                  {60 }\n",
       "1709703  8689                                   {38 , 42 , 46 , 81 }\n",
       "         9829      {19 , 20 , 43 , 43 , 49 , 50 , 50 , 54 , 71 , ...\n",
       "1709704  10249                             {30 , 45 , 45 , 80 , 82 }\n",
       "         9827                                                  {13 }\n",
       "1709705  8588                                             {38 , 46 }\n",
       "         9830                                        {20 , 49 , 57 }\n",
       "1709706  9831      {4 , 5 , 5 , 5 , 27 , 30 , 35 , 36 , 54 , 61 ,...\n",
       "         9941                         {15 , 19 , 29 , 29 , 76 , 90 }\n",
       "1709707  9827                                          {1 , 2 , 10 }\n",
       "         9829                                    {7 , 42 , 43 , 90 }\n",
       "1709708  7819                                        {20 , 52 , 90 }\n",
       "         8639           {4 , 15 , 16 , 18 , 18 , 38 , 44 , 64 , 78 }\n",
       "1709709  8588                    {10 , 11 , 41 , 54 , 69 , 81 , 85 }\n",
       "         9747                                             {18 , 24 }\n",
       "1709710  8689                 {2 , 4 , 38 , 41 , 68 , 71 , 76 , 79 }\n",
       "         9831                                             {14 , 83 }\n",
       "1709711  10249                                                 {43 }\n",
       "         8592                         {38 , 41 , 49 , 67 , 76 , 79 }\n",
       "                                         ...                        \n",
       "2846844  8529                         {44 , 57 , 78 , 84 , 89 , 90 }\n",
       "         8534                          {6 , 11 , 45 , 49 , 54 , 55 }\n",
       "2846845  8543                                     {6 , 7 , 55 , 90 }\n",
       "         9875                    {41 , 45 , 62 , 65 , 66 , 87 , 90 }\n",
       "2846847  674792                                 {11 , 30 , 31 , 82 }\n",
       "         8600                              {16 , 19 , 49 , 63 , 80 }\n",
       "2846848  7943                                    {4 , 10 , 38 , 63 }\n",
       "         8636                                   {21 , 21 , 46 , 90 }\n",
       "2846849  8686                              {33 , 56 , 63 , 65 , 77 }\n",
       "         9804                          {6 , 47 , 68 , 69 , 90 , 90 }\n",
       "2846851  7943                                             {42 , 90 }\n",
       "         8529                    {15 , 40 , 46 , 51 , 73 , 87 , 90 }\n",
       "2846852  8533                                        {56 , 76 , 86 }\n",
       "         8535                                              {5 , 42 }\n",
       "2846853  9857                               {6 , 11 , 32 , 77 , 89 }\n",
       "         9891                                             {29 , 59 }\n",
       "2846854  10233                                       {30 , 70 , 88 }\n",
       "         8534                          {4 , 45 , 48 , 49 , 80 , 90 }\n",
       "2846855  8636                              {30 , 35 , 84 , 85 , 86 }\n",
       "         9804                                   {58 , 73 , 78 , 80 }\n",
       "2846856  8543                                             {12 , 12 }\n",
       "         9885                         {20 , 23 , 63 , 68 , 71 , 83 }\n",
       "2846857  8564                                                  {77 }\n",
       "         9875                              {21 , 21 , 35 , 45 , 67 }\n",
       "2846858  8524      {4 , 4 , 6 , 8 , 9 , 15 , 18 , 34 , 34 , 80 , ...\n",
       "         8686                                        {11 , 24 , 90 }\n",
       "2846859  674792                                            {4 , 55 }\n",
       "         8547                    {13 , 31 , 37 , 38 , 39 , 76 , 87 }\n",
       "2846860  8600                 {7 , 8 , 18 , 27 , 28 , 46 , 64 , 90 }\n",
       "         9882                    {20 , 84 , 85 , 87 , 88 , 90 , 90 }\n",
       "Length: 15152, dtype: object"
      ]
     },
     "execution_count": 36,
     "metadata": {},
     "output_type": "execute_result"
    }
   ],
   "source": [
    "stmt = \"SELECT * FROM Corners\"\n",
    "df_corners = pd.read_sql(stmt,conn)\n",
    "#df_corners = df_corners['Minute'].notnull()\n",
    "print(df_corners.shape)\n",
    "df_corners.head()\n",
    "\n",
    "stmt = \"SELECT * FROM Matches\"\n",
    "df_matches = pd.read_sql(stmt,conn)\n",
    "print(df_matches.shape)\n",
    "df_matches.head()\n",
    "\n",
    "result = pd.merge(df_corners.set_index(\"MatchId\"),df_matches.set_index(\"ExternalId\"), how='left')\n",
    "#result_1718 = result[result.Season == '2017/2018']\n",
    "\n",
    "#premier_league = result[(result['Season']  == '2017/2018') & (result['League']  == 'Premier League')]\n",
    "premier_league = result[ (result['Season'] == '2017/2018') & (result['League'] == 'Ligue 1')]\n",
    "\n",
    "print(result.shape)\n",
    "\n",
    "#groups = premier_league.groupby(['MatchId'])\n",
    "#groups.groups.keys()\n",
    "#df_goals.head()\n",
    "#groups = df_corners.groupby(['MatchId'])\n",
    "#groups.groups.keys()\n",
    "df_goals.head()\n",
    "\n",
    "minutes_sum = df_corners.groupby(['MatchId', 'TeamId']).apply(\n",
    "    lambda x: \"{%s}\" % ', '.join(x.Minute + ' '))\n",
    "#minutes_sum = df_corners.groupby('MatchId')['MatchId', 'TeamId','Minute']\n",
    "#print(premier_league[:10].head())\n",
    "#print(result_premier_league_1718)\n",
    "premier_league_minutes = premier_league[premier_league['Minute'].notnull()]\n",
    "print(premier_league_minutes.shape)\n",
    "minutes_sum\n",
    "#print(list(premier_league_minutes.columns.values))"
   ]
  },
  {
   "cell_type": "code",
   "execution_count": 37,
   "metadata": {},
   "outputs": [
    {
     "name": "stdout",
     "output_type": "stream",
     "text": [
      "(22244, 8)\n"
     ]
    },
    {
     "data": {
      "text/html": [
       "<div>\n",
       "<style scoped>\n",
       "    .dataframe tbody tr th:only-of-type {\n",
       "        vertical-align: middle;\n",
       "    }\n",
       "\n",
       "    .dataframe tbody tr th {\n",
       "        vertical-align: top;\n",
       "    }\n",
       "\n",
       "    .dataframe thead th {\n",
       "        text-align: right;\n",
       "    }\n",
       "</style>\n",
       "<table border=\"1\" class=\"dataframe\">\n",
       "  <thead>\n",
       "    <tr style=\"text-align: right;\">\n",
       "      <th></th>\n",
       "      <th>Id</th>\n",
       "      <th>MatchId</th>\n",
       "      <th>ExternalId</th>\n",
       "      <th>Minute</th>\n",
       "      <th>ScorerId</th>\n",
       "      <th>AssistId</th>\n",
       "      <th>Type</th>\n",
       "      <th>TeamId</th>\n",
       "    </tr>\n",
       "  </thead>\n",
       "  <tbody>\n",
       "    <tr>\n",
       "      <th>0</th>\n",
       "      <td>1</td>\n",
       "      <td>1723982</td>\n",
       "      <td>3647567</td>\n",
       "      <td>35</td>\n",
       "      <td>26777</td>\n",
       "      <td>35345</td>\n",
       "      <td>header</td>\n",
       "      <td>9826</td>\n",
       "    </tr>\n",
       "    <tr>\n",
       "      <th>1</th>\n",
       "      <td>2</td>\n",
       "      <td>1723985</td>\n",
       "      <td>3649433</td>\n",
       "      <td>23</td>\n",
       "      <td>246575</td>\n",
       "      <td>156008</td>\n",
       "      <td>shot</td>\n",
       "      <td>8650</td>\n",
       "    </tr>\n",
       "    <tr>\n",
       "      <th>2</th>\n",
       "      <td>3</td>\n",
       "      <td>1723983</td>\n",
       "      <td>3652629</td>\n",
       "      <td>14</td>\n",
       "      <td>37240</td>\n",
       "      <td>24372</td>\n",
       "      <td>shot</td>\n",
       "      <td>8191</td>\n",
       "    </tr>\n",
       "    <tr>\n",
       "      <th>3</th>\n",
       "      <td>4</td>\n",
       "      <td>1723984</td>\n",
       "      <td>3645927</td>\n",
       "      <td>20</td>\n",
       "      <td>32448</td>\n",
       "      <td>None</td>\n",
       "      <td>shot</td>\n",
       "      <td>8668</td>\n",
       "    </tr>\n",
       "    <tr>\n",
       "      <th>4</th>\n",
       "      <td>5</td>\n",
       "      <td>1723982</td>\n",
       "      <td>3647657</td>\n",
       "      <td>45</td>\n",
       "      <td>46539</td>\n",
       "      <td>50047</td>\n",
       "      <td>header</td>\n",
       "      <td>9825</td>\n",
       "    </tr>\n",
       "  </tbody>\n",
       "</table>\n",
       "</div>"
      ],
      "text/plain": [
       "   Id  MatchId ExternalId Minute ScorerId AssistId    Type TeamId\n",
       "0   1  1723982    3647567     35    26777    35345  header   9826\n",
       "1   2  1723985    3649433     23   246575   156008    shot   8650\n",
       "2   3  1723983    3652629     14    37240    24372    shot   8191\n",
       "3   4  1723984    3645927     20    32448     None    shot   8668\n",
       "4   5  1723982    3647657     45    46539    50047  header   9825"
      ]
     },
     "execution_count": 37,
     "metadata": {},
     "output_type": "execute_result"
    }
   ],
   "source": [
    "stmt = \"SELECT * FROM Goals\"\n",
    "# Excute Query here\n",
    "df_goals = pd.read_sql(stmt,conn)\n",
    "print(df_goals.shape)\n",
    "df_goals.head()\n"
   ]
  },
  {
   "cell_type": "code",
   "execution_count": 38,
   "metadata": {
    "scrolled": false
   },
   "outputs": [
    {
     "name": "stdout",
     "output_type": "stream",
     "text": [
      "(7836, 10)\n",
      "(22244, 8)\n",
      "(7836, 15)\n"
     ]
    },
    {
     "name": "stderr",
     "output_type": "stream",
     "text": [
      "c:\\users\\martin\\anaconda3\\envs\\tensorflow\\lib\\site-packages\\ipykernel_launcher.py:10: SettingWithCopyWarning: \n",
      "A value is trying to be set on a copy of a slice from a DataFrame.\n",
      "Try using .loc[row_indexer,col_indexer] = value instead\n",
      "\n",
      "See the caveats in the documentation: http://pandas.pydata.org/pandas-docs/stable/indexing.html#indexing-view-versus-copy\n",
      "  # Remove the CWD from sys.path while we load stuff.\n"
     ]
    },
    {
     "data": {
      "text/html": [
       "<div>\n",
       "<style scoped>\n",
       "    .dataframe tbody tr th:only-of-type {\n",
       "        vertical-align: middle;\n",
       "    }\n",
       "\n",
       "    .dataframe tbody tr th {\n",
       "        vertical-align: top;\n",
       "    }\n",
       "\n",
       "    .dataframe thead th {\n",
       "        text-align: right;\n",
       "    }\n",
       "</style>\n",
       "<table border=\"1\" class=\"dataframe\">\n",
       "  <thead>\n",
       "    <tr style=\"text-align: right;\">\n",
       "      <th></th>\n",
       "      <th>Id</th>\n",
       "      <th>Date</th>\n",
       "      <th>Country</th>\n",
       "      <th>League</th>\n",
       "      <th>Season</th>\n",
       "      <th>Stage</th>\n",
       "      <th>Player_Id</th>\n",
       "      <th>AwayTeam_Id</th>\n",
       "      <th>HomeTeam_Id</th>\n",
       "      <th>ExternalId</th>\n",
       "      <th>Minute</th>\n",
       "      <th>ScorerId</th>\n",
       "      <th>AssistId</th>\n",
       "      <th>Type</th>\n",
       "      <th>TeamId</th>\n",
       "    </tr>\n",
       "  </thead>\n",
       "  <tbody>\n",
       "    <tr>\n",
       "      <th>760</th>\n",
       "      <td>761</td>\n",
       "      <td>2016-08-15 15:00:00</td>\n",
       "      <td>England</td>\n",
       "      <td>Premier League</td>\n",
       "      <td>2016/2017</td>\n",
       "      <td>1</td>\n",
       "      <td>None</td>\n",
       "      <td>1544</td>\n",
       "      <td>1545</td>\n",
       "      <td>4453319</td>\n",
       "      <td>7</td>\n",
       "      <td>278343</td>\n",
       "      <td>26554</td>\n",
       "      <td>distance</td>\n",
       "      <td>8197</td>\n",
       "    </tr>\n",
       "    <tr>\n",
       "      <th>761</th>\n",
       "      <td>762</td>\n",
       "      <td>2016-08-15 15:00:00</td>\n",
       "      <td>England</td>\n",
       "      <td>Premier League</td>\n",
       "      <td>2016/2017</td>\n",
       "      <td>1</td>\n",
       "      <td>None</td>\n",
       "      <td>1546</td>\n",
       "      <td>1547</td>\n",
       "      <td>4453624</td>\n",
       "      <td>19</td>\n",
       "      <td>278343</td>\n",
       "      <td>286119</td>\n",
       "      <td>shot</td>\n",
       "      <td>8197</td>\n",
       "    </tr>\n",
       "  </tbody>\n",
       "</table>\n",
       "</div>"
      ],
      "text/plain": [
       "      Id                Date  Country          League     Season Stage  \\\n",
       "760  761 2016-08-15 15:00:00  England  Premier League  2016/2017     1   \n",
       "761  762 2016-08-15 15:00:00  England  Premier League  2016/2017     1   \n",
       "\n",
       "    Player_Id  AwayTeam_Id  HomeTeam_Id ExternalId  Minute ScorerId AssistId  \\\n",
       "760      None         1544         1545    4453319       7   278343    26554   \n",
       "761      None         1546         1547    4453624      19   278343   286119   \n",
       "\n",
       "         Type TeamId  \n",
       "760  distance   8197  \n",
       "761      shot   8197  "
      ]
     },
     "execution_count": 38,
     "metadata": {},
     "output_type": "execute_result"
    }
   ],
   "source": [
    "print(df_matches.shape)\n",
    "print(df_goals.shape)\n",
    "goals = pd.merge(df_matches.set_index(\"ExternalId\"), df_goals.set_index(\"MatchId\"),  how='left')\n",
    "#result = goals[goals['Minute'].notnull()]\n",
    "print(goals.shape)\n",
    "#group by season\n",
    "premier_league = goals[(goals['League'] == 'Premier League') & (goals['Season'] == '2016/2017')]\n",
    "premier_league.head()\n",
    "\n",
    "premier_league['Minute'] = premier_league['Minute'].astype(int)\n",
    "#premier_league.loc[premier_league['Minute']] = premier_league['Minute'].astype(int)\n",
    "\n",
    "for number in range(0, 90, 10):\n",
    "    from_minute = number\n",
    "    to_minute = number + 10\n",
    "    goals_by_minute = premier_league.groupby(['TeamId'])['Minute'].apply(\n",
    "        lambda x: len(x.where(\n",
    "            lambda y : y > from_minute).where(lambda z:z < to_minute).dropna()))   \n",
    "    #print(goals)\n",
    "    #with pd.option_context('display.max_rows', None, 'display.max_columns', 3):\n",
    "       # print(goals)\n",
    "#goals_teams = goa\n",
    "#len(teams.groups)\n",
    "premier_league.head(2)"
   ]
  },
  {
   "cell_type": "code",
   "execution_count": 39,
   "metadata": {},
   "outputs": [
    {
     "data": {
      "text/html": [
       "<div>\n",
       "<style scoped>\n",
       "    .dataframe tbody tr th:only-of-type {\n",
       "        vertical-align: middle;\n",
       "    }\n",
       "\n",
       "    .dataframe tbody tr th {\n",
       "        vertical-align: top;\n",
       "    }\n",
       "\n",
       "    .dataframe thead th {\n",
       "        text-align: right;\n",
       "    }\n",
       "</style>\n",
       "<table border=\"1\" class=\"dataframe\">\n",
       "  <thead>\n",
       "    <tr style=\"text-align: right;\">\n",
       "      <th></th>\n",
       "      <th>Id</th>\n",
       "      <th>Date</th>\n",
       "      <th>Country</th>\n",
       "      <th>League</th>\n",
       "      <th>Season</th>\n",
       "      <th>Stage</th>\n",
       "      <th>Player_Id</th>\n",
       "      <th>AwayTeam_Id</th>\n",
       "      <th>HomeTeam_Id</th>\n",
       "      <th>ExternalId</th>\n",
       "      <th>Minute</th>\n",
       "      <th>Player1</th>\n",
       "      <th>TeamId</th>\n",
       "    </tr>\n",
       "  </thead>\n",
       "  <tbody>\n",
       "    <tr>\n",
       "      <th>0</th>\n",
       "      <td>1</td>\n",
       "      <td>2014-08-18 15:00:00</td>\n",
       "      <td>England</td>\n",
       "      <td>Premier League</td>\n",
       "      <td>2014/2015</td>\n",
       "      <td>1</td>\n",
       "      <td>None</td>\n",
       "      <td>15</td>\n",
       "      <td>12</td>\n",
       "      <td>3647429</td>\n",
       "      <td>15</td>\n",
       "      <td>37436</td>\n",
       "      <td>9825</td>\n",
       "    </tr>\n",
       "    <tr>\n",
       "      <th>1</th>\n",
       "      <td>2</td>\n",
       "      <td>2014-08-18 15:00:00</td>\n",
       "      <td>England</td>\n",
       "      <td>Premier League</td>\n",
       "      <td>2014/2015</td>\n",
       "      <td>1</td>\n",
       "      <td>None</td>\n",
       "      <td>14</td>\n",
       "      <td>10</td>\n",
       "      <td>3649357</td>\n",
       "      <td>9</td>\n",
       "      <td>30618</td>\n",
       "      <td>8650</td>\n",
       "    </tr>\n",
       "  </tbody>\n",
       "</table>\n",
       "</div>"
      ],
      "text/plain": [
       "   Id                Date  Country          League     Season Stage Player_Id  \\\n",
       "0   1 2014-08-18 15:00:00  England  Premier League  2014/2015     1      None   \n",
       "1   2 2014-08-18 15:00:00  England  Premier League  2014/2015     1      None   \n",
       "\n",
       "   AwayTeam_Id  HomeTeam_Id ExternalId Minute Player1 TeamId  \n",
       "0           15           12    3647429     15   37436   9825  \n",
       "1           14           10    3649357      9   30618   8650  "
      ]
     },
     "execution_count": 39,
     "metadata": {},
     "output_type": "execute_result"
    }
   ],
   "source": [
    "result = pd.merge(df_matches.set_index(\"ExternalId\"), df_corners.set_index(\"MatchId\"),  how='left')\n",
    "#premier_league = result[(result['Season']  == '2017/2018') & (result['League']  == 'Premier League')]\n",
    "premier_league = result[ (result['Season'] == '2017/2018') & (result['League'] == 'Ligue 1')]\n",
    "#print(result.shape)\n",
    "\n",
    "\n",
    "#teams_coreners = df_corners.groupby('TeamId')\n",
    "goal_matches = pd.merge(df_corners.set_index(\"MatchId\"), df_matches.set_index(\"ExternalId\"), how='right')\n",
    "\n",
    "#goal_matches_home_team = pd.merge(goal_matches.set_index(\"HomeTeam_Id\"), df_teams.set_index(\"ExternalId\"), how='left')\n",
    "#goal_matches_home_team.rename(columns={'Ful': 'FullNameHome'}, inplace=True)\n",
    "#goal_matches_home_team.rename(columns={'Acronym': 'AcronymHome'}, inplace=True)\n",
    "#goal_matches_home_team.rename(columns={'TeamId': 'HomeTeamId'}, inplace=True)\n",
    "#goal_matches_home_team_away_team = pd.merge(goal_matches_home_team.set_index(\"AwayTeam_Id\"), df_teams.set_index(\"ExternalId\"), how='left')\n",
    "#goal_matches_home_team_away_team\n",
    "#goal_matches_home_team\n",
    "result.head(2)\n",
    "#goal_matches_home_team_away_team\n",
    "#['Minute','TeamId'].apply(\n",
    "#    lambda x: \"{%s}\" % ', '.join(x.Minute + ' ' + x.TeamId))\n",
    "#minutes_sum = result.groupby(['TeamId'], as_index=True)['Minute']hg\n",
    "#minutes_sum\n",
    "#['Minute']\n",
    "#minutes_sum = df_corners.groupby('MatchId')['MatchId', 'TeamId','Minute']\n",
    "#print(premier_league[:10].head())\n",
    "#print(result_premier_league_1718)\n",
    "#premier_league_minutes = premier_league[premier_league['Minute'].notnull()]\n",
    "#print(premier_league_minutes.shape)\n",
    "#minutes_sum.first()\n",
    "#print(list(premier_league_minutes.columns.values))"
   ]
  },
  {
   "cell_type": "markdown",
   "metadata": {},
   "source": []
  },
  {
   "cell_type": "code",
   "execution_count": 40,
   "metadata": {
    "scrolled": false
   },
   "outputs": [
    {
     "name": "stdout",
     "output_type": "stream",
     "text": [
      "(7836, 13)\n"
     ]
    },
    {
     "data": {
      "text/html": [
       "<div>\n",
       "<style scoped>\n",
       "    .dataframe tbody tr th:only-of-type {\n",
       "        vertical-align: middle;\n",
       "    }\n",
       "\n",
       "    .dataframe tbody tr th {\n",
       "        vertical-align: top;\n",
       "    }\n",
       "\n",
       "    .dataframe thead th {\n",
       "        text-align: right;\n",
       "    }\n",
       "</style>\n",
       "<table border=\"1\" class=\"dataframe\">\n",
       "  <thead>\n",
       "    <tr style=\"text-align: right;\">\n",
       "      <th></th>\n",
       "      <th>Id</th>\n",
       "      <th>Date</th>\n",
       "      <th>Country</th>\n",
       "      <th>League</th>\n",
       "      <th>Season</th>\n",
       "      <th>Stage</th>\n",
       "      <th>Player_Id</th>\n",
       "      <th>AwayTeam_Id</th>\n",
       "      <th>HomeTeam_Id</th>\n",
       "      <th>ExternalId</th>\n",
       "      <th>Minute</th>\n",
       "      <th>ScorerId</th>\n",
       "      <th>AssistId</th>\n",
       "      <th>Type</th>\n",
       "      <th>TeamId</th>\n",
       "    </tr>\n",
       "  </thead>\n",
       "  <tbody>\n",
       "    <tr>\n",
       "      <th>760</th>\n",
       "      <td>761</td>\n",
       "      <td>2016-08-15 15:00:00</td>\n",
       "      <td>England</td>\n",
       "      <td>Premier League</td>\n",
       "      <td>2016/2017</td>\n",
       "      <td>1</td>\n",
       "      <td>None</td>\n",
       "      <td>1544</td>\n",
       "      <td>1545</td>\n",
       "      <td>4453319</td>\n",
       "      <td>7</td>\n",
       "      <td>278343</td>\n",
       "      <td>26554</td>\n",
       "      <td>distance</td>\n",
       "      <td>8197</td>\n",
       "    </tr>\n",
       "    <tr>\n",
       "      <th>761</th>\n",
       "      <td>762</td>\n",
       "      <td>2016-08-15 15:00:00</td>\n",
       "      <td>England</td>\n",
       "      <td>Premier League</td>\n",
       "      <td>2016/2017</td>\n",
       "      <td>1</td>\n",
       "      <td>None</td>\n",
       "      <td>1546</td>\n",
       "      <td>1547</td>\n",
       "      <td>4453624</td>\n",
       "      <td>19</td>\n",
       "      <td>278343</td>\n",
       "      <td>286119</td>\n",
       "      <td>shot</td>\n",
       "      <td>8197</td>\n",
       "    </tr>\n",
       "  </tbody>\n",
       "</table>\n",
       "</div>"
      ],
      "text/plain": [
       "      Id                Date  Country          League     Season Stage  \\\n",
       "760  761 2016-08-15 15:00:00  England  Premier League  2016/2017     1   \n",
       "761  762 2016-08-15 15:00:00  England  Premier League  2016/2017     1   \n",
       "\n",
       "    Player_Id  AwayTeam_Id  HomeTeam_Id ExternalId Minute ScorerId AssistId  \\\n",
       "760      None         1544         1545    4453319      7   278343    26554   \n",
       "761      None         1546         1547    4453624     19   278343   286119   \n",
       "\n",
       "         Type TeamId  \n",
       "760  distance   8197  \n",
       "761      shot   8197  "
      ]
     },
     "execution_count": 40,
     "metadata": {},
     "output_type": "execute_result"
    }
   ],
   "source": [
    "goals = pd.merge( df_matches.set_index(\"ExternalId\"), df_goals.set_index(\"MatchId\"), how='left')\n",
    "#result = goals[goals['Minute'].notnull()]\n",
    "print(result.shape)\n",
    "premier_league = goals[(goals['League'] == 'Premier League') & (goals['Season'] == '2016/2017')]\n",
    "premier_league.head(2)\n",
    "\n",
    "#premier_league['Minute'] = premier_league['Minute'].astype(int)\n",
    "#premier_league.loc[premier_league['Minute']] = premier_league['Minute'].astype(int)\n",
    "\n",
    "#premier_league['TeamId'].hist(by=premier_league['Minute'])\n",
    "\n",
    "# for number in range(0, 90, 10):\n",
    "#     from_minute = number\n",
    "#     to_minute = number + 10\n",
    "#     goals = premier_league.groupby(['TeamId'])['Minute'].apply(lambda x: len(x.where(lambda y : y > from_minute).where(lambda z:z < to_minute).dropna()))   \n",
    "#     print(goals)\n",
    "# #goals_teams = goa\n",
    "# #len(teams.groups)\n",
    "\n",
    "#print(teams.groups.keys())"
   ]
  },
  {
   "cell_type": "code",
   "execution_count": 41,
   "metadata": {},
   "outputs": [
    {
     "data": {
      "text/html": [
       "<div>\n",
       "<style scoped>\n",
       "    .dataframe tbody tr th:only-of-type {\n",
       "        vertical-align: middle;\n",
       "    }\n",
       "\n",
       "    .dataframe tbody tr th {\n",
       "        vertical-align: top;\n",
       "    }\n",
       "\n",
       "    .dataframe thead th {\n",
       "        text-align: right;\n",
       "    }\n",
       "</style>\n",
       "<table border=\"1\" class=\"dataframe\">\n",
       "  <thead>\n",
       "    <tr style=\"text-align: right;\">\n",
       "      <th></th>\n",
       "      <th></th>\n",
       "      <th>Id</th>\n",
       "      <th>ExternalId</th>\n",
       "      <th>Minute</th>\n",
       "      <th>ScorerId</th>\n",
       "      <th>AssistId</th>\n",
       "      <th>Type</th>\n",
       "    </tr>\n",
       "    <tr>\n",
       "      <th>MatchId</th>\n",
       "      <th>TeamId</th>\n",
       "      <th></th>\n",
       "      <th></th>\n",
       "      <th></th>\n",
       "      <th></th>\n",
       "      <th></th>\n",
       "      <th></th>\n",
       "    </tr>\n",
       "  </thead>\n",
       "  <tbody>\n",
       "    <tr>\n",
       "      <th rowspan=\"2\" valign=\"top\">1709697</th>\n",
       "      <th>9837</th>\n",
       "      <td>2</td>\n",
       "      <td>2</td>\n",
       "      <td>2</td>\n",
       "      <td>2</td>\n",
       "      <td>2</td>\n",
       "      <td>2</td>\n",
       "    </tr>\n",
       "    <tr>\n",
       "      <th>9847</th>\n",
       "      <td>3</td>\n",
       "      <td>3</td>\n",
       "      <td>3</td>\n",
       "      <td>3</td>\n",
       "      <td>2</td>\n",
       "      <td>3</td>\n",
       "    </tr>\n",
       "    <tr>\n",
       "      <th rowspan=\"2\" valign=\"top\">1709698</th>\n",
       "      <th>7794</th>\n",
       "      <td>4</td>\n",
       "      <td>4</td>\n",
       "      <td>4</td>\n",
       "      <td>4</td>\n",
       "      <td>1</td>\n",
       "      <td>2</td>\n",
       "    </tr>\n",
       "    <tr>\n",
       "      <th>8592</th>\n",
       "      <td>2</td>\n",
       "      <td>2</td>\n",
       "      <td>2</td>\n",
       "      <td>2</td>\n",
       "      <td>1</td>\n",
       "      <td>1</td>\n",
       "    </tr>\n",
       "    <tr>\n",
       "      <th>1709699</th>\n",
       "      <th>7819</th>\n",
       "      <td>3</td>\n",
       "      <td>3</td>\n",
       "      <td>3</td>\n",
       "      <td>3</td>\n",
       "      <td>2</td>\n",
       "      <td>3</td>\n",
       "    </tr>\n",
       "    <tr>\n",
       "      <th>1709700</th>\n",
       "      <th>9853</th>\n",
       "      <td>2</td>\n",
       "      <td>2</td>\n",
       "      <td>2</td>\n",
       "      <td>2</td>\n",
       "      <td>0</td>\n",
       "      <td>1</td>\n",
       "    </tr>\n",
       "    <tr>\n",
       "      <th>1709702</th>\n",
       "      <th>9748</th>\n",
       "      <td>2</td>\n",
       "      <td>2</td>\n",
       "      <td>2</td>\n",
       "      <td>2</td>\n",
       "      <td>1</td>\n",
       "      <td>1</td>\n",
       "    </tr>\n",
       "    <tr>\n",
       "      <th rowspan=\"2\" valign=\"top\">1709703</th>\n",
       "      <th>8689</th>\n",
       "      <td>2</td>\n",
       "      <td>2</td>\n",
       "      <td>2</td>\n",
       "      <td>2</td>\n",
       "      <td>1</td>\n",
       "      <td>1</td>\n",
       "    </tr>\n",
       "    <tr>\n",
       "      <th>9829</th>\n",
       "      <td>1</td>\n",
       "      <td>1</td>\n",
       "      <td>1</td>\n",
       "      <td>1</td>\n",
       "      <td>0</td>\n",
       "      <td>0</td>\n",
       "    </tr>\n",
       "    <tr>\n",
       "      <th>1709704</th>\n",
       "      <th>9827</th>\n",
       "      <td>1</td>\n",
       "      <td>1</td>\n",
       "      <td>1</td>\n",
       "      <td>1</td>\n",
       "      <td>1</td>\n",
       "      <td>1</td>\n",
       "    </tr>\n",
       "    <tr>\n",
       "      <th>1709705</th>\n",
       "      <th>9830</th>\n",
       "      <td>1</td>\n",
       "      <td>1</td>\n",
       "      <td>1</td>\n",
       "      <td>1</td>\n",
       "      <td>1</td>\n",
       "      <td>1</td>\n",
       "    </tr>\n",
       "    <tr>\n",
       "      <th rowspan=\"2\" valign=\"top\">1709706</th>\n",
       "      <th>9831</th>\n",
       "      <td>3</td>\n",
       "      <td>3</td>\n",
       "      <td>3</td>\n",
       "      <td>3</td>\n",
       "      <td>3</td>\n",
       "      <td>3</td>\n",
       "    </tr>\n",
       "    <tr>\n",
       "      <th>9941</th>\n",
       "      <td>2</td>\n",
       "      <td>2</td>\n",
       "      <td>2</td>\n",
       "      <td>2</td>\n",
       "      <td>2</td>\n",
       "      <td>2</td>\n",
       "    </tr>\n",
       "    <tr>\n",
       "      <th rowspan=\"2\" valign=\"top\">1709707</th>\n",
       "      <th>9827</th>\n",
       "      <td>4</td>\n",
       "      <td>4</td>\n",
       "      <td>4</td>\n",
       "      <td>4</td>\n",
       "      <td>2</td>\n",
       "      <td>2</td>\n",
       "    </tr>\n",
       "    <tr>\n",
       "      <th>9829</th>\n",
       "      <td>1</td>\n",
       "      <td>1</td>\n",
       "      <td>1</td>\n",
       "      <td>1</td>\n",
       "      <td>1</td>\n",
       "      <td>1</td>\n",
       "    </tr>\n",
       "    <tr>\n",
       "      <th>1709708</th>\n",
       "      <th>8639</th>\n",
       "      <td>1</td>\n",
       "      <td>1</td>\n",
       "      <td>1</td>\n",
       "      <td>1</td>\n",
       "      <td>0</td>\n",
       "      <td>0</td>\n",
       "    </tr>\n",
       "    <tr>\n",
       "      <th>1709709</th>\n",
       "      <th>9747</th>\n",
       "      <td>1</td>\n",
       "      <td>1</td>\n",
       "      <td>1</td>\n",
       "      <td>1</td>\n",
       "      <td>0</td>\n",
       "      <td>1</td>\n",
       "    </tr>\n",
       "    <tr>\n",
       "      <th rowspan=\"2\" valign=\"top\">1709711</th>\n",
       "      <th>10249</th>\n",
       "      <td>2</td>\n",
       "      <td>2</td>\n",
       "      <td>2</td>\n",
       "      <td>2</td>\n",
       "      <td>2</td>\n",
       "      <td>2</td>\n",
       "    </tr>\n",
       "    <tr>\n",
       "      <th>8592</th>\n",
       "      <td>1</td>\n",
       "      <td>1</td>\n",
       "      <td>1</td>\n",
       "      <td>0</td>\n",
       "      <td>0</td>\n",
       "      <td>0</td>\n",
       "    </tr>\n",
       "    <tr>\n",
       "      <th rowspan=\"2\" valign=\"top\">1709712</th>\n",
       "      <th>8550</th>\n",
       "      <td>1</td>\n",
       "      <td>1</td>\n",
       "      <td>1</td>\n",
       "      <td>1</td>\n",
       "      <td>0</td>\n",
       "      <td>0</td>\n",
       "    </tr>\n",
       "    <tr>\n",
       "      <th>9830</th>\n",
       "      <td>1</td>\n",
       "      <td>1</td>\n",
       "      <td>1</td>\n",
       "      <td>1</td>\n",
       "      <td>0</td>\n",
       "      <td>1</td>\n",
       "    </tr>\n",
       "    <tr>\n",
       "      <th>1709713</th>\n",
       "      <th>9847</th>\n",
       "      <td>2</td>\n",
       "      <td>2</td>\n",
       "      <td>2</td>\n",
       "      <td>2</td>\n",
       "      <td>2</td>\n",
       "      <td>2</td>\n",
       "    </tr>\n",
       "    <tr>\n",
       "      <th rowspan=\"2\" valign=\"top\">1709714</th>\n",
       "      <th>4087</th>\n",
       "      <td>2</td>\n",
       "      <td>2</td>\n",
       "      <td>2</td>\n",
       "      <td>2</td>\n",
       "      <td>1</td>\n",
       "      <td>2</td>\n",
       "    </tr>\n",
       "    <tr>\n",
       "      <th>9851</th>\n",
       "      <td>6</td>\n",
       "      <td>6</td>\n",
       "      <td>6</td>\n",
       "      <td>6</td>\n",
       "      <td>6</td>\n",
       "      <td>6</td>\n",
       "    </tr>\n",
       "    <tr>\n",
       "      <th>1709715</th>\n",
       "      <th>9853</th>\n",
       "      <td>4</td>\n",
       "      <td>4</td>\n",
       "      <td>4</td>\n",
       "      <td>4</td>\n",
       "      <td>2</td>\n",
       "      <td>3</td>\n",
       "    </tr>\n",
       "    <tr>\n",
       "      <th rowspan=\"2\" valign=\"top\">1709716</th>\n",
       "      <th>9748</th>\n",
       "      <td>1</td>\n",
       "      <td>1</td>\n",
       "      <td>1</td>\n",
       "      <td>1</td>\n",
       "      <td>1</td>\n",
       "      <td>1</td>\n",
       "    </tr>\n",
       "    <tr>\n",
       "      <th>9941</th>\n",
       "      <td>3</td>\n",
       "      <td>3</td>\n",
       "      <td>3</td>\n",
       "      <td>2</td>\n",
       "      <td>1</td>\n",
       "      <td>2</td>\n",
       "    </tr>\n",
       "    <tr>\n",
       "      <th>1709717</th>\n",
       "      <th>7794</th>\n",
       "      <td>1</td>\n",
       "      <td>1</td>\n",
       "      <td>1</td>\n",
       "      <td>1</td>\n",
       "      <td>0</td>\n",
       "      <td>0</td>\n",
       "    </tr>\n",
       "    <tr>\n",
       "      <th>1709719</th>\n",
       "      <th>8592</th>\n",
       "      <td>1</td>\n",
       "      <td>1</td>\n",
       "      <td>1</td>\n",
       "      <td>1</td>\n",
       "      <td>1</td>\n",
       "      <td>1</td>\n",
       "    </tr>\n",
       "    <tr>\n",
       "      <th>1709720</th>\n",
       "      <th>8639</th>\n",
       "      <td>2</td>\n",
       "      <td>2</td>\n",
       "      <td>2</td>\n",
       "      <td>2</td>\n",
       "      <td>0</td>\n",
       "      <td>2</td>\n",
       "    </tr>\n",
       "    <tr>\n",
       "      <th>...</th>\n",
       "      <th>...</th>\n",
       "      <td>...</td>\n",
       "      <td>...</td>\n",
       "      <td>...</td>\n",
       "      <td>...</td>\n",
       "      <td>...</td>\n",
       "      <td>...</td>\n",
       "    </tr>\n",
       "    <tr>\n",
       "      <th>2844469</th>\n",
       "      <th>8633</th>\n",
       "      <td>4</td>\n",
       "      <td>4</td>\n",
       "      <td>4</td>\n",
       "      <td>4</td>\n",
       "      <td>2</td>\n",
       "      <td>2</td>\n",
       "    </tr>\n",
       "    <tr>\n",
       "      <th>2844470</th>\n",
       "      <th>8558</th>\n",
       "      <td>2</td>\n",
       "      <td>2</td>\n",
       "      <td>2</td>\n",
       "      <td>2</td>\n",
       "      <td>1</td>\n",
       "      <td>2</td>\n",
       "    </tr>\n",
       "    <tr>\n",
       "      <th>2844471</th>\n",
       "      <th>9906</th>\n",
       "      <td>1</td>\n",
       "      <td>1</td>\n",
       "      <td>1</td>\n",
       "      <td>1</td>\n",
       "      <td>1</td>\n",
       "      <td>1</td>\n",
       "    </tr>\n",
       "    <tr>\n",
       "      <th>2844473</th>\n",
       "      <th>8305</th>\n",
       "      <td>2</td>\n",
       "      <td>2</td>\n",
       "      <td>2</td>\n",
       "      <td>2</td>\n",
       "      <td>1</td>\n",
       "      <td>2</td>\n",
       "    </tr>\n",
       "    <tr>\n",
       "      <th>2846841</th>\n",
       "      <th>8524</th>\n",
       "      <td>4</td>\n",
       "      <td>4</td>\n",
       "      <td>4</td>\n",
       "      <td>4</td>\n",
       "      <td>4</td>\n",
       "      <td>4</td>\n",
       "    </tr>\n",
       "    <tr>\n",
       "      <th>2846842</th>\n",
       "      <th>8547</th>\n",
       "      <td>1</td>\n",
       "      <td>1</td>\n",
       "      <td>1</td>\n",
       "      <td>1</td>\n",
       "      <td>1</td>\n",
       "      <td>1</td>\n",
       "    </tr>\n",
       "    <tr>\n",
       "      <th rowspan=\"2\" valign=\"top\">2846843</th>\n",
       "      <th>8533</th>\n",
       "      <td>3</td>\n",
       "      <td>3</td>\n",
       "      <td>3</td>\n",
       "      <td>3</td>\n",
       "      <td>1</td>\n",
       "      <td>1</td>\n",
       "    </tr>\n",
       "    <tr>\n",
       "      <th>9885</th>\n",
       "      <td>2</td>\n",
       "      <td>2</td>\n",
       "      <td>2</td>\n",
       "      <td>2</td>\n",
       "      <td>2</td>\n",
       "      <td>2</td>\n",
       "    </tr>\n",
       "    <tr>\n",
       "      <th>2846844</th>\n",
       "      <th>8534</th>\n",
       "      <td>2</td>\n",
       "      <td>2</td>\n",
       "      <td>2</td>\n",
       "      <td>2</td>\n",
       "      <td>1</td>\n",
       "      <td>2</td>\n",
       "    </tr>\n",
       "    <tr>\n",
       "      <th rowspan=\"2\" valign=\"top\">2846845</th>\n",
       "      <th>8543</th>\n",
       "      <td>1</td>\n",
       "      <td>1</td>\n",
       "      <td>1</td>\n",
       "      <td>1</td>\n",
       "      <td>1</td>\n",
       "      <td>1</td>\n",
       "    </tr>\n",
       "    <tr>\n",
       "      <th>9875</th>\n",
       "      <td>2</td>\n",
       "      <td>2</td>\n",
       "      <td>2</td>\n",
       "      <td>2</td>\n",
       "      <td>2</td>\n",
       "      <td>2</td>\n",
       "    </tr>\n",
       "    <tr>\n",
       "      <th rowspan=\"2\" valign=\"top\">2846847</th>\n",
       "      <th>674792</th>\n",
       "      <td>2</td>\n",
       "      <td>2</td>\n",
       "      <td>2</td>\n",
       "      <td>2</td>\n",
       "      <td>1</td>\n",
       "      <td>2</td>\n",
       "    </tr>\n",
       "    <tr>\n",
       "      <th>8600</th>\n",
       "      <td>2</td>\n",
       "      <td>2</td>\n",
       "      <td>2</td>\n",
       "      <td>2</td>\n",
       "      <td>1</td>\n",
       "      <td>1</td>\n",
       "    </tr>\n",
       "    <tr>\n",
       "      <th>2846848</th>\n",
       "      <th>7943</th>\n",
       "      <td>1</td>\n",
       "      <td>1</td>\n",
       "      <td>1</td>\n",
       "      <td>1</td>\n",
       "      <td>0</td>\n",
       "      <td>0</td>\n",
       "    </tr>\n",
       "    <tr>\n",
       "      <th>2846849</th>\n",
       "      <th>8686</th>\n",
       "      <td>1</td>\n",
       "      <td>1</td>\n",
       "      <td>1</td>\n",
       "      <td>1</td>\n",
       "      <td>1</td>\n",
       "      <td>1</td>\n",
       "    </tr>\n",
       "    <tr>\n",
       "      <th rowspan=\"2\" valign=\"top\">2846851</th>\n",
       "      <th>7943</th>\n",
       "      <td>2</td>\n",
       "      <td>2</td>\n",
       "      <td>2</td>\n",
       "      <td>2</td>\n",
       "      <td>1</td>\n",
       "      <td>1</td>\n",
       "    </tr>\n",
       "    <tr>\n",
       "      <th>8529</th>\n",
       "      <td>2</td>\n",
       "      <td>2</td>\n",
       "      <td>2</td>\n",
       "      <td>2</td>\n",
       "      <td>2</td>\n",
       "      <td>2</td>\n",
       "    </tr>\n",
       "    <tr>\n",
       "      <th rowspan=\"2\" valign=\"top\">2846852</th>\n",
       "      <th>8533</th>\n",
       "      <td>1</td>\n",
       "      <td>1</td>\n",
       "      <td>1</td>\n",
       "      <td>1</td>\n",
       "      <td>1</td>\n",
       "      <td>1</td>\n",
       "    </tr>\n",
       "    <tr>\n",
       "      <th>8535</th>\n",
       "      <td>6</td>\n",
       "      <td>6</td>\n",
       "      <td>6</td>\n",
       "      <td>6</td>\n",
       "      <td>4</td>\n",
       "      <td>6</td>\n",
       "    </tr>\n",
       "    <tr>\n",
       "      <th rowspan=\"2\" valign=\"top\">2846854</th>\n",
       "      <th>10233</th>\n",
       "      <td>2</td>\n",
       "      <td>2</td>\n",
       "      <td>2</td>\n",
       "      <td>2</td>\n",
       "      <td>2</td>\n",
       "      <td>2</td>\n",
       "    </tr>\n",
       "    <tr>\n",
       "      <th>8534</th>\n",
       "      <td>1</td>\n",
       "      <td>1</td>\n",
       "      <td>1</td>\n",
       "      <td>1</td>\n",
       "      <td>1</td>\n",
       "      <td>1</td>\n",
       "    </tr>\n",
       "    <tr>\n",
       "      <th rowspan=\"2\" valign=\"top\">2846855</th>\n",
       "      <th>8636</th>\n",
       "      <td>2</td>\n",
       "      <td>2</td>\n",
       "      <td>2</td>\n",
       "      <td>2</td>\n",
       "      <td>2</td>\n",
       "      <td>2</td>\n",
       "    </tr>\n",
       "    <tr>\n",
       "      <th>9804</th>\n",
       "      <td>2</td>\n",
       "      <td>2</td>\n",
       "      <td>2</td>\n",
       "      <td>2</td>\n",
       "      <td>1</td>\n",
       "      <td>2</td>\n",
       "    </tr>\n",
       "    <tr>\n",
       "      <th>2846856</th>\n",
       "      <th>9885</th>\n",
       "      <td>2</td>\n",
       "      <td>2</td>\n",
       "      <td>2</td>\n",
       "      <td>2</td>\n",
       "      <td>1</td>\n",
       "      <td>2</td>\n",
       "    </tr>\n",
       "    <tr>\n",
       "      <th rowspan=\"2\" valign=\"top\">2846857</th>\n",
       "      <th>8564</th>\n",
       "      <td>2</td>\n",
       "      <td>2</td>\n",
       "      <td>2</td>\n",
       "      <td>2</td>\n",
       "      <td>2</td>\n",
       "      <td>2</td>\n",
       "    </tr>\n",
       "    <tr>\n",
       "      <th>9875</th>\n",
       "      <td>3</td>\n",
       "      <td>3</td>\n",
       "      <td>3</td>\n",
       "      <td>3</td>\n",
       "      <td>2</td>\n",
       "      <td>3</td>\n",
       "    </tr>\n",
       "    <tr>\n",
       "      <th rowspan=\"2\" valign=\"top\">2846858</th>\n",
       "      <th>8524</th>\n",
       "      <td>3</td>\n",
       "      <td>3</td>\n",
       "      <td>3</td>\n",
       "      <td>3</td>\n",
       "      <td>2</td>\n",
       "      <td>3</td>\n",
       "    </tr>\n",
       "    <tr>\n",
       "      <th>8686</th>\n",
       "      <td>3</td>\n",
       "      <td>3</td>\n",
       "      <td>3</td>\n",
       "      <td>3</td>\n",
       "      <td>2</td>\n",
       "      <td>3</td>\n",
       "    </tr>\n",
       "    <tr>\n",
       "      <th>2846859</th>\n",
       "      <th>8547</th>\n",
       "      <td>1</td>\n",
       "      <td>1</td>\n",
       "      <td>1</td>\n",
       "      <td>1</td>\n",
       "      <td>1</td>\n",
       "      <td>1</td>\n",
       "    </tr>\n",
       "    <tr>\n",
       "      <th>2846860</th>\n",
       "      <th>8600</th>\n",
       "      <td>1</td>\n",
       "      <td>1</td>\n",
       "      <td>1</td>\n",
       "      <td>1</td>\n",
       "      <td>1</td>\n",
       "      <td>1</td>\n",
       "    </tr>\n",
       "  </tbody>\n",
       "</table>\n",
       "<p>11349 rows × 6 columns</p>\n",
       "</div>"
      ],
      "text/plain": [
       "                Id  ExternalId  Minute  ScorerId  AssistId  Type\n",
       "MatchId TeamId                                                  \n",
       "1709697 9837     2           2       2         2         2     2\n",
       "        9847     3           3       3         3         2     3\n",
       "1709698 7794     4           4       4         4         1     2\n",
       "        8592     2           2       2         2         1     1\n",
       "1709699 7819     3           3       3         3         2     3\n",
       "1709700 9853     2           2       2         2         0     1\n",
       "1709702 9748     2           2       2         2         1     1\n",
       "1709703 8689     2           2       2         2         1     1\n",
       "        9829     1           1       1         1         0     0\n",
       "1709704 9827     1           1       1         1         1     1\n",
       "1709705 9830     1           1       1         1         1     1\n",
       "1709706 9831     3           3       3         3         3     3\n",
       "        9941     2           2       2         2         2     2\n",
       "1709707 9827     4           4       4         4         2     2\n",
       "        9829     1           1       1         1         1     1\n",
       "1709708 8639     1           1       1         1         0     0\n",
       "1709709 9747     1           1       1         1         0     1\n",
       "1709711 10249    2           2       2         2         2     2\n",
       "        8592     1           1       1         0         0     0\n",
       "1709712 8550     1           1       1         1         0     0\n",
       "        9830     1           1       1         1         0     1\n",
       "1709713 9847     2           2       2         2         2     2\n",
       "1709714 4087     2           2       2         2         1     2\n",
       "        9851     6           6       6         6         6     6\n",
       "1709715 9853     4           4       4         4         2     3\n",
       "1709716 9748     1           1       1         1         1     1\n",
       "        9941     3           3       3         2         1     2\n",
       "1709717 7794     1           1       1         1         0     0\n",
       "1709719 8592     1           1       1         1         1     1\n",
       "1709720 8639     2           2       2         2         0     2\n",
       "...             ..         ...     ...       ...       ...   ...\n",
       "2844469 8633     4           4       4         4         2     2\n",
       "2844470 8558     2           2       2         2         1     2\n",
       "2844471 9906     1           1       1         1         1     1\n",
       "2844473 8305     2           2       2         2         1     2\n",
       "2846841 8524     4           4       4         4         4     4\n",
       "2846842 8547     1           1       1         1         1     1\n",
       "2846843 8533     3           3       3         3         1     1\n",
       "        9885     2           2       2         2         2     2\n",
       "2846844 8534     2           2       2         2         1     2\n",
       "2846845 8543     1           1       1         1         1     1\n",
       "        9875     2           2       2         2         2     2\n",
       "2846847 674792   2           2       2         2         1     2\n",
       "        8600     2           2       2         2         1     1\n",
       "2846848 7943     1           1       1         1         0     0\n",
       "2846849 8686     1           1       1         1         1     1\n",
       "2846851 7943     2           2       2         2         1     1\n",
       "        8529     2           2       2         2         2     2\n",
       "2846852 8533     1           1       1         1         1     1\n",
       "        8535     6           6       6         6         4     6\n",
       "2846854 10233    2           2       2         2         2     2\n",
       "        8534     1           1       1         1         1     1\n",
       "2846855 8636     2           2       2         2         2     2\n",
       "        9804     2           2       2         2         1     2\n",
       "2846856 9885     2           2       2         2         1     2\n",
       "2846857 8564     2           2       2         2         2     2\n",
       "        9875     3           3       3         3         2     3\n",
       "2846858 8524     3           3       3         3         2     3\n",
       "        8686     3           3       3         3         2     3\n",
       "2846859 8547     1           1       1         1         1     1\n",
       "2846860 8600     1           1       1         1         1     1\n",
       "\n",
       "[11349 rows x 6 columns]"
      ]
     },
     "execution_count": 41,
     "metadata": {},
     "output_type": "execute_result"
    }
   ],
   "source": [
    "#groups = df_goals.groupby(['MatchId'])\n",
    "#groups.groups.keys()\n",
    "#df_goals.head()\n",
    "minutes_sum = df_goals.groupby(['MatchId', 'TeamId',], as_index=True, sort=True)\n",
    "#minutes_sum.last()\n",
    "minutes_sum.count()\n",
    "#print(minutes_sum.shape)\n",
    "#df_goals.head(10)\n",
    "#groups.groups['1709877']\n",
    "#minutes_sum.groups\n",
    "#result = minutes_sum.get_group(('1709702','9748'))"
   ]
  },
  {
   "cell_type": "code",
   "execution_count": 42,
   "metadata": {},
   "outputs": [],
   "source": [
    "# def get_last_matches(date, team, x = 10):\n",
    "#     ''' Get the last x matches of a given team. '''\n",
    "    \n",
    "#     #Filter team matches from matches\n",
    "#     team_matches = df_matches[(df_matches['HomeTeam'] == team) | (df_matches['AwayTeam'] == team)].drop_duplicates(['ExternalId'])\n",
    "#     team_matches['ExternalId'] = team_matches['ExternalId'].astype(int)\n",
    "#     #Filter x last matches from team matches\n",
    "#     last_matches = team_matches[team_matches.Date < date].sort_values(by = 'Date', ascending = False).iloc[0:x,:]\n",
    "\n",
    "#     #Return last matches\n",
    "#     return last_matches\n",
    "\n",
    "# last_matches = get_last_matches(\"2018-08-27 15:00:00\", \"Arsenal\")\n",
    "# last_matches.head()"
   ]
  },
  {
   "cell_type": "code",
   "execution_count": null,
   "metadata": {},
   "outputs": [],
   "source": []
  },
  {
   "cell_type": "code",
   "execution_count": null,
   "metadata": {},
   "outputs": [],
   "source": []
  }
 ],
 "metadata": {
  "kernelspec": {
   "display_name": "Python 3",
   "language": "python",
   "name": "python3"
  },
  "language_info": {
   "codemirror_mode": {
    "name": "ipython",
    "version": 3
   },
   "file_extension": ".py",
   "mimetype": "text/x-python",
   "name": "python",
   "nbconvert_exporter": "python",
   "pygments_lexer": "ipython3",
   "version": "3.6.5"
  }
 },
 "nbformat": 4,
 "nbformat_minor": 2
}
