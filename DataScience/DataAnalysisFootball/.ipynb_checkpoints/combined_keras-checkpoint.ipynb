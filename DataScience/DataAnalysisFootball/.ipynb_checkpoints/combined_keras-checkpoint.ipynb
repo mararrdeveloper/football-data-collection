{
 "cells": [
  {
   "cell_type": "code",
   "execution_count": 46,
   "metadata": {},
   "outputs": [],
   "source": [
    "import pandas as pd\n",
    "import numpy as np\n",
    "from helpers import calibrate_train_clfs, load_data, get_baseline, print_results, run_clf"
   ]
  },
  {
   "cell_type": "code",
   "execution_count": 47,
   "metadata": {},
   "outputs": [
    {
     "name": "stdout",
     "output_type": "stream",
     "text": [
      "KEEEP\n",
      "LENGTH800\n"
     ]
    }
   ],
   "source": [
    "keep_columns =  ['IsTraining','FTR', 'Div', 'Date', 'HomeTeam', 'AwayTeam', \n",
    "    'away_away_team_corners_against', 'away_away_team_corners_for',\t'away_away_team_goals_against',\t'away_away_team_goals_for',\t\n",
    "    'away_away_team_possession',\t'away_away_team_shotsoff_against',\t'away_away_team_shotsoff_for',\t'away_away_team_shotson_against',\n",
    "    \t'away_away_team_shotson_for',\t'away_direct_team_corners_against',\t'away_direct_team_corners_for',\t'away_direct_team_goals_against',\n",
    "        'away_direct_team_goals_for',\t'away_direct_team_possession',\t'away_direct_team_shotsoff_against',\t'away_direct_team_shotsoff_for',\n",
    "        'away_direct_team_shotson_against',\t'away_direct_team_shotson_for',\t'home_direct_team_corners_against',\t'home_direct_team_corners_for',\t\n",
    "        'home_direct_team_goals_against',\t'home_direct_team_goals_for',\t'home_direct_team_possession',\t'home_direct_team_shotsoff_against',\n",
    "        'home_direct_team_shotsoff_for',\t'home_direct_team_shotson_against',\t'home_direct_team_shotson_for',\t\n",
    "        'home_home_team_corners_against',\t'home_home_team_corners_for',\t'home_home_team_goals_against',\t'home_home_team_goals_for',\t\n",
    "        'home_home_team_possession',\t'home_home_team_shotsoff_against',\t'home_home_team_shotsoff_for',\t'home_home_team_shotson_against',\n",
    "                 'home_home_team_shotson_for','Referee' \n",
    "]\n",
    " \n",
    "drop_columns = [\n",
    "    'B365H', 'B365D', 'B365A',\n",
    "    'AC', 'AF', 'AR', 'AS', 'AST', 'AY', \n",
    "    'BWA', 'BWD', 'BWH', 'Bb1X2', 'BbAH', 'BbAHh', 'BbAv<2.5', 'BbAv>2.5', 'BbAvA', 'BbAvAHA', \n",
    "    'BbAvAHH', 'BbAvD', 'BbAvH', 'BbMx<2.5', 'BbMx>2.5', 'BbMxA', 'BbMxAHA', 'BbMxAHH', 'BbMxD',\n",
    "    'BbMxH', 'BbOU', 'FTAG', \n",
    "    'HC', 'HF', 'HR', 'HS', 'HST', \n",
    "    'HTAG', 'HTHG', 'HTR', 'HY', 'IWA', 'IWD', 'IWH', \n",
    "    'LBA', 'LBD', 'LBH', 'PSA', 'PSCA', 'PSCD', 'PSCH', 'PSD', 'PSH', \n",
    "    'VCA', 'VCD', 'VCH', 'WHA', 'WHD', 'WHH', 'GoalFirstHalf', 'SHHG', 'SHAG', 'GoalSecondHalf','FTR','BothToScore',\n",
    "]\n",
    "\n",
    "#\n",
    "target_column = \"FTR\"\n",
    "drop_columns.remove(target_column)\n",
    "X,y = load_data(columns_to_drop=drop_columns, is_training=True, target_name=target_column)"
   ]
  },
  {
   "cell_type": "code",
   "execution_count": null,
   "metadata": {},
   "outputs": [],
   "source": []
  },
  {
   "cell_type": "code",
   "execution_count": 79,
   "metadata": {},
   "outputs": [
    {
     "data": {
      "text/plain": [
       "numpy.ndarray"
      ]
     },
     "execution_count": 79,
     "metadata": {},
     "output_type": "execute_result"
    }
   ],
   "source": [
    "type(y)"
   ]
  },
  {
   "cell_type": "code",
   "execution_count": 80,
   "metadata": {},
   "outputs": [],
   "source": [
    "import numpy\n",
    "import pandas\n",
    "import keras\n",
    "from keras.models import Sequential\n",
    "from keras.layers import Dense\n",
    "from keras.wrappers.scikit_learn import KerasClassifier, KerasRegressor\n",
    "from keras.utils import np_utils\n",
    "from keras.layers import Bidirectional, LSTM\n",
    "from keras.initializers import glorot_normal\n",
    "\n",
    "from sklearn.model_selection import cross_val_score, train_test_split, TimeSeriesSplit\n",
    "from sklearn.model_selection import KFold\n",
    "from sklearn.preprocessing import LabelEncoder\n",
    "from sklearn.pipeline import Pipeline"
   ]
  },
  {
   "cell_type": "code",
   "execution_count": 81,
   "metadata": {},
   "outputs": [
    {
     "ename": "AttributeError",
     "evalue": "'numpy.ndarray' object has no attribute 'values'",
     "output_type": "error",
     "traceback": [
      "\u001b[1;31m---------------------------------------------------------------------------\u001b[0m",
      "\u001b[1;31mAttributeError\u001b[0m                            Traceback (most recent call last)",
      "\u001b[1;32m<ipython-input-81-63eaefc4db77>\u001b[0m in \u001b[0;36m<module>\u001b[1;34m\u001b[0m\n\u001b[1;32m----> 1\u001b[1;33m \u001b[0my\u001b[0m\u001b[1;33m=\u001b[0m\u001b[0my\u001b[0m\u001b[1;33m.\u001b[0m\u001b[0mvalues\u001b[0m\u001b[1;33m\u001b[0m\u001b[0m\n\u001b[0m\u001b[0;32m      2\u001b[0m \u001b[0mX\u001b[0m\u001b[1;33m=\u001b[0m\u001b[0mX\u001b[0m\u001b[1;33m.\u001b[0m\u001b[0mvalues\u001b[0m\u001b[1;33m\u001b[0m\u001b[0m\n\u001b[0;32m      3\u001b[0m \u001b[1;33m\u001b[0m\u001b[0m\n\u001b[0;32m      4\u001b[0m \u001b[0mencoder\u001b[0m \u001b[1;33m=\u001b[0m \u001b[0mLabelEncoder\u001b[0m\u001b[1;33m(\u001b[0m\u001b[1;33m)\u001b[0m\u001b[1;33m\u001b[0m\u001b[0m\n\u001b[0;32m      5\u001b[0m \u001b[0mencoder\u001b[0m\u001b[1;33m.\u001b[0m\u001b[0mfit\u001b[0m\u001b[1;33m(\u001b[0m\u001b[0my\u001b[0m\u001b[1;33m)\u001b[0m\u001b[1;33m\u001b[0m\u001b[0m\n",
      "\u001b[1;31mAttributeError\u001b[0m: 'numpy.ndarray' object has no attribute 'values'"
     ]
    }
   ],
   "source": [
    "y=y.values\n",
    "X=X.values\n",
    "\n",
    "encoder = LabelEncoder()\n",
    "encoder.fit(y)\n",
    "encoded_Y = encoder.transform(y)\n",
    "# convert integers to dummy variables (i.e. one hot encoded)\n",
    "dummy_y = np_utils.to_categorical(encoded_Y)\n"
   ]
  },
  {
   "cell_type": "code",
   "execution_count": 82,
   "metadata": {},
   "outputs": [],
   "source": [
    "from keras import backend as K\n",
    "def recall_m(y_true, y_pred):\n",
    "        true_positives = K.sum(K.round(K.clip(y_true * y_pred, 0, 1)))\n",
    "        possible_positives = K.sum(K.round(K.clip(y_true, 0, 1)))\n",
    "        recall = true_positives / (possible_positives + K.epsilon())\n",
    "        return recall\n",
    "\n",
    "def precision_m(y_true, y_pred):\n",
    "        true_positives = K.sum(K.round(K.clip(y_true * y_pred, 0, 1)))\n",
    "        predicted_positives = K.sum(K.round(K.clip(y_pred, 0, 1)))\n",
    "        precision = true_positives / (predicted_positives + K.epsilon())\n",
    "        return precision\n",
    "def f1_m(y_true, y_pred):\n",
    "    precision = precision_m(y_true, y_pred)\n",
    "    recall = recall_m(y_true, y_pred)\n",
    "    return 2*((precision*recall)/(precision+recall+K.epsilon()))\n",
    "\n",
    "def baseline_model():\n",
    "    # create model\n",
    "    model = Sequential()\n",
    "    model.add(Dense(12,  activation='relu')) # input_dim=314,\n",
    "#   model.add(Bidirectional(LSTM(256,  return_sequences=True, dropout=0.1, recurrent_dropout=0.1,kernel_initializer=glorot_normal(seed=None)),name = 'BDLSTM1')) #Best = 300,0.25,0.25\n",
    "#    model.add(Dense(8, activation='relu'))\n",
    "#    model.add(Dense(1, activation='linear'))\n",
    "    model.add(Dense(3, activation='softmax'))\n",
    "#     # Compile model\n",
    "    model.compile(loss='categorical_crossentropy', optimizer='adam', metrics=['accuracy', 'mae', 'mse', f1_m], verbose=1)\n",
    "    #model.compile(loss='mse', optimizer='adam', metrics=['mse','mae']) \n",
    "    return model\n",
    "estimator = KerasClassifier(build_fn=baseline_model, epochs=10, batch_size=2, verbose=1)"
   ]
  },
  {
   "cell_type": "code",
   "execution_count": 83,
   "metadata": {},
   "outputs": [
    {
     "name": "stdout",
     "output_type": "stream",
     "text": [
      "Epoch 1/10\n",
      "200/200 [==============================] - 2s 9ms/step - loss: 1.7145 - acc: 0.4850 - mean_absolute_error: 0.5101 - mean_squared_error: 0.3807 - f1_m: 0.4850\n",
      "Epoch 2/10\n",
      "200/200 [==============================] - 1s 4ms/step - loss: 0.7344 - acc: 0.5350 - mean_absolute_error: 0.5049 - mean_squared_error: 0.2619 - f1_m: 0.5350A: 0s - loss: 0.7428 - acc: 0.5833 - mean_absolute_error: 0.5050 - mean_squared_error: 0.2702 - \n",
      "Epoch 3/10\n",
      "200/200 [==============================] - 1s 3ms/step - loss: 0.7021 - acc: 0.5550 - mean_absolute_error: 0.5002 - mean_squared_error: 0.2533 - f1_m: 0.5550\n",
      "Epoch 4/10\n",
      "200/200 [==============================] - 1s 3ms/step - loss: 0.6861 - acc: 0.5600 - mean_absolute_error: 0.4949 - mean_squared_error: 0.2470 - f1_m: 0.5600\n",
      "Epoch 5/10\n",
      "200/200 [==============================] - 1s 3ms/step - loss: 0.6799 - acc: 0.5650 - mean_absolute_error: 0.4913 - mean_squared_error: 0.2441 - f1_m: 0.5650\n",
      "Epoch 6/10\n",
      "200/200 [==============================] - 1s 3ms/step - loss: 0.6787 - acc: 0.5650 - mean_absolute_error: 0.4901 - mean_squared_error: 0.2437 - f1_m: 0.5650\n",
      "Epoch 7/10\n",
      "200/200 [==============================] - 1s 3ms/step - loss: 0.6786 - acc: 0.5650 - mean_absolute_error: 0.4904 - mean_squared_error: 0.2434 - f1_m: 0.5650\n",
      "Epoch 8/10\n",
      "200/200 [==============================] - 1s 3ms/step - loss: 0.6766 - acc: 0.5650 - mean_absolute_error: 0.4883 - mean_squared_error: 0.2429 - f1_m: 0.5650\n",
      "Epoch 9/10\n",
      "200/200 [==============================] - 1s 4ms/step - loss: 0.6759 - acc: 0.5650 - mean_absolute_error: 0.4877 - mean_squared_error: 0.2428 - f1_m: 0.5650\n",
      "Epoch 10/10\n",
      "200/200 [==============================] - 1s 3ms/step - loss: 0.6754 - acc: 0.5650 - mean_absolute_error: 0.4874 - mean_squared_error: 0.2425 - f1_m: 0.5650\n",
      "200/200 [==============================] - 1s 4ms/step\n",
      "Epoch 1/10\n",
      "400/400 [==============================] - 2s 6ms/step - loss: 0.8979 - acc: 0.5500 - mean_absolute_error: 0.4828 - mean_squared_error: 0.2983 - f1_m: 0.5500\n",
      "Epoch 2/10\n",
      "400/400 [==============================] - 1s 3ms/step - loss: 0.6928 - acc: 0.5700 - mean_absolute_error: 0.4929 - mean_squared_error: 0.2481 - f1_m: 0.5700\n",
      "Epoch 3/10\n",
      "400/400 [==============================] - 1s 4ms/step - loss: 0.6800 - acc: 0.5675 - mean_absolute_error: 0.4882 - mean_squared_error: 0.2441 - f1_m: 0.5675\n",
      "Epoch 4/10\n",
      "100/400 [======>.......................] - ETA: 0s - loss: 0.6799 - acc: 0.5600 - mean_absolute_error: 0.4908 - mean_squared_error: 0.2435 - f1_m: 0.5600   "
     ]
    },
    {
     "ename": "KeyboardInterrupt",
     "evalue": "",
     "output_type": "error",
     "traceback": [
      "\u001b[1;31m---------------------------------------------------------------------------\u001b[0m",
      "\u001b[1;31mKeyboardInterrupt\u001b[0m                         Traceback (most recent call last)",
      "\u001b[1;32m<ipython-input-83-5535841978cf>\u001b[0m in \u001b[0;36m<module>\u001b[1;34m\u001b[0m\n\u001b[0;32m     10\u001b[0m \u001b[1;31m# #kfold = KFold(n_splits=10)\u001b[0m\u001b[1;33m\u001b[0m\u001b[1;33m\u001b[0m\u001b[0m\n\u001b[0;32m     11\u001b[0m \u001b[1;31m# # shuffle=True, random_state=seed\u001b[0m\u001b[1;33m\u001b[0m\u001b[1;33m\u001b[0m\u001b[0m\n\u001b[1;32m---> 12\u001b[1;33m \u001b[0mresults\u001b[0m \u001b[1;33m=\u001b[0m \u001b[0mcross_val_score\u001b[0m\u001b[1;33m(\u001b[0m\u001b[0mestimator\u001b[0m\u001b[1;33m,\u001b[0m \u001b[0mX\u001b[0m\u001b[1;33m,\u001b[0m \u001b[0mdummy_y\u001b[0m\u001b[1;33m,\u001b[0m \u001b[0mcv\u001b[0m\u001b[1;33m=\u001b[0m\u001b[0mtscv\u001b[0m\u001b[1;33m.\u001b[0m\u001b[0msplit\u001b[0m\u001b[1;33m(\u001b[0m\u001b[0mX\u001b[0m\u001b[1;33m)\u001b[0m\u001b[1;33m)\u001b[0m\u001b[1;33m\u001b[0m\u001b[0m\n\u001b[0m",
      "\u001b[1;32mc:\\users\\martin\\anaconda3\\envs\\tensorflow\\lib\\site-packages\\sklearn\\model_selection\\_validation.py\u001b[0m in \u001b[0;36mcross_val_score\u001b[1;34m(estimator, X, y, groups, scoring, cv, n_jobs, verbose, fit_params, pre_dispatch, error_score)\u001b[0m\n\u001b[0;32m    400\u001b[0m                                 \u001b[0mfit_params\u001b[0m\u001b[1;33m=\u001b[0m\u001b[0mfit_params\u001b[0m\u001b[1;33m,\u001b[0m\u001b[1;33m\u001b[0m\u001b[0m\n\u001b[0;32m    401\u001b[0m                                 \u001b[0mpre_dispatch\u001b[0m\u001b[1;33m=\u001b[0m\u001b[0mpre_dispatch\u001b[0m\u001b[1;33m,\u001b[0m\u001b[1;33m\u001b[0m\u001b[0m\n\u001b[1;32m--> 402\u001b[1;33m                                 error_score=error_score)\n\u001b[0m\u001b[0;32m    403\u001b[0m     \u001b[1;32mreturn\u001b[0m \u001b[0mcv_results\u001b[0m\u001b[1;33m[\u001b[0m\u001b[1;34m'test_score'\u001b[0m\u001b[1;33m]\u001b[0m\u001b[1;33m\u001b[0m\u001b[0m\n\u001b[0;32m    404\u001b[0m \u001b[1;33m\u001b[0m\u001b[0m\n",
      "\u001b[1;32mc:\\users\\martin\\anaconda3\\envs\\tensorflow\\lib\\site-packages\\sklearn\\model_selection\\_validation.py\u001b[0m in \u001b[0;36mcross_validate\u001b[1;34m(estimator, X, y, groups, scoring, cv, n_jobs, verbose, fit_params, pre_dispatch, return_train_score, return_estimator, error_score)\u001b[0m\n\u001b[0;32m    238\u001b[0m             \u001b[0mreturn_times\u001b[0m\u001b[1;33m=\u001b[0m\u001b[1;32mTrue\u001b[0m\u001b[1;33m,\u001b[0m \u001b[0mreturn_estimator\u001b[0m\u001b[1;33m=\u001b[0m\u001b[0mreturn_estimator\u001b[0m\u001b[1;33m,\u001b[0m\u001b[1;33m\u001b[0m\u001b[0m\n\u001b[0;32m    239\u001b[0m             error_score=error_score)\n\u001b[1;32m--> 240\u001b[1;33m         for train, test in cv.split(X, y, groups))\n\u001b[0m\u001b[0;32m    241\u001b[0m \u001b[1;33m\u001b[0m\u001b[0m\n\u001b[0;32m    242\u001b[0m     \u001b[0mzipped_scores\u001b[0m \u001b[1;33m=\u001b[0m \u001b[0mlist\u001b[0m\u001b[1;33m(\u001b[0m\u001b[0mzip\u001b[0m\u001b[1;33m(\u001b[0m\u001b[1;33m*\u001b[0m\u001b[0mscores\u001b[0m\u001b[1;33m)\u001b[0m\u001b[1;33m)\u001b[0m\u001b[1;33m\u001b[0m\u001b[0m\n",
      "\u001b[1;32mc:\\users\\martin\\anaconda3\\envs\\tensorflow\\lib\\site-packages\\sklearn\\externals\\joblib\\parallel.py\u001b[0m in \u001b[0;36m__call__\u001b[1;34m(self, iterable)\u001b[0m\n\u001b[0;32m    984\u001b[0m                 \u001b[0mself\u001b[0m\u001b[1;33m.\u001b[0m\u001b[0m_iterating\u001b[0m \u001b[1;33m=\u001b[0m \u001b[0mself\u001b[0m\u001b[1;33m.\u001b[0m\u001b[0m_original_iterator\u001b[0m \u001b[1;32mis\u001b[0m \u001b[1;32mnot\u001b[0m \u001b[1;32mNone\u001b[0m\u001b[1;33m\u001b[0m\u001b[0m\n\u001b[0;32m    985\u001b[0m \u001b[1;33m\u001b[0m\u001b[0m\n\u001b[1;32m--> 986\u001b[1;33m             \u001b[1;32mwhile\u001b[0m \u001b[0mself\u001b[0m\u001b[1;33m.\u001b[0m\u001b[0mdispatch_one_batch\u001b[0m\u001b[1;33m(\u001b[0m\u001b[0miterator\u001b[0m\u001b[1;33m)\u001b[0m\u001b[1;33m:\u001b[0m\u001b[1;33m\u001b[0m\u001b[0m\n\u001b[0m\u001b[0;32m    987\u001b[0m                 \u001b[1;32mpass\u001b[0m\u001b[1;33m\u001b[0m\u001b[0m\n\u001b[0;32m    988\u001b[0m \u001b[1;33m\u001b[0m\u001b[0m\n",
      "\u001b[1;32mc:\\users\\martin\\anaconda3\\envs\\tensorflow\\lib\\site-packages\\sklearn\\externals\\joblib\\parallel.py\u001b[0m in \u001b[0;36mdispatch_one_batch\u001b[1;34m(self, iterator)\u001b[0m\n\u001b[0;32m    823\u001b[0m                 \u001b[1;32mreturn\u001b[0m \u001b[1;32mFalse\u001b[0m\u001b[1;33m\u001b[0m\u001b[0m\n\u001b[0;32m    824\u001b[0m             \u001b[1;32melse\u001b[0m\u001b[1;33m:\u001b[0m\u001b[1;33m\u001b[0m\u001b[0m\n\u001b[1;32m--> 825\u001b[1;33m                 \u001b[0mself\u001b[0m\u001b[1;33m.\u001b[0m\u001b[0m_dispatch\u001b[0m\u001b[1;33m(\u001b[0m\u001b[0mtasks\u001b[0m\u001b[1;33m)\u001b[0m\u001b[1;33m\u001b[0m\u001b[0m\n\u001b[0m\u001b[0;32m    826\u001b[0m                 \u001b[1;32mreturn\u001b[0m \u001b[1;32mTrue\u001b[0m\u001b[1;33m\u001b[0m\u001b[0m\n\u001b[0;32m    827\u001b[0m \u001b[1;33m\u001b[0m\u001b[0m\n",
      "\u001b[1;32mc:\\users\\martin\\anaconda3\\envs\\tensorflow\\lib\\site-packages\\sklearn\\externals\\joblib\\parallel.py\u001b[0m in \u001b[0;36m_dispatch\u001b[1;34m(self, batch)\u001b[0m\n\u001b[0;32m    780\u001b[0m         \u001b[1;32mwith\u001b[0m \u001b[0mself\u001b[0m\u001b[1;33m.\u001b[0m\u001b[0m_lock\u001b[0m\u001b[1;33m:\u001b[0m\u001b[1;33m\u001b[0m\u001b[0m\n\u001b[0;32m    781\u001b[0m             \u001b[0mjob_idx\u001b[0m \u001b[1;33m=\u001b[0m \u001b[0mlen\u001b[0m\u001b[1;33m(\u001b[0m\u001b[0mself\u001b[0m\u001b[1;33m.\u001b[0m\u001b[0m_jobs\u001b[0m\u001b[1;33m)\u001b[0m\u001b[1;33m\u001b[0m\u001b[0m\n\u001b[1;32m--> 782\u001b[1;33m             \u001b[0mjob\u001b[0m \u001b[1;33m=\u001b[0m \u001b[0mself\u001b[0m\u001b[1;33m.\u001b[0m\u001b[0m_backend\u001b[0m\u001b[1;33m.\u001b[0m\u001b[0mapply_async\u001b[0m\u001b[1;33m(\u001b[0m\u001b[0mbatch\u001b[0m\u001b[1;33m,\u001b[0m \u001b[0mcallback\u001b[0m\u001b[1;33m=\u001b[0m\u001b[0mcb\u001b[0m\u001b[1;33m)\u001b[0m\u001b[1;33m\u001b[0m\u001b[0m\n\u001b[0m\u001b[0;32m    783\u001b[0m             \u001b[1;31m# A job can complete so quickly than its callback is\u001b[0m\u001b[1;33m\u001b[0m\u001b[1;33m\u001b[0m\u001b[0m\n\u001b[0;32m    784\u001b[0m             \u001b[1;31m# called before we get here, causing self._jobs to\u001b[0m\u001b[1;33m\u001b[0m\u001b[1;33m\u001b[0m\u001b[0m\n",
      "\u001b[1;32mc:\\users\\martin\\anaconda3\\envs\\tensorflow\\lib\\site-packages\\sklearn\\externals\\joblib\\_parallel_backends.py\u001b[0m in \u001b[0;36mapply_async\u001b[1;34m(self, func, callback)\u001b[0m\n\u001b[0;32m    180\u001b[0m     \u001b[1;32mdef\u001b[0m \u001b[0mapply_async\u001b[0m\u001b[1;33m(\u001b[0m\u001b[0mself\u001b[0m\u001b[1;33m,\u001b[0m \u001b[0mfunc\u001b[0m\u001b[1;33m,\u001b[0m \u001b[0mcallback\u001b[0m\u001b[1;33m=\u001b[0m\u001b[1;32mNone\u001b[0m\u001b[1;33m)\u001b[0m\u001b[1;33m:\u001b[0m\u001b[1;33m\u001b[0m\u001b[0m\n\u001b[0;32m    181\u001b[0m         \u001b[1;34m\"\"\"Schedule a func to be run\"\"\"\u001b[0m\u001b[1;33m\u001b[0m\u001b[0m\n\u001b[1;32m--> 182\u001b[1;33m         \u001b[0mresult\u001b[0m \u001b[1;33m=\u001b[0m \u001b[0mImmediateResult\u001b[0m\u001b[1;33m(\u001b[0m\u001b[0mfunc\u001b[0m\u001b[1;33m)\u001b[0m\u001b[1;33m\u001b[0m\u001b[0m\n\u001b[0m\u001b[0;32m    183\u001b[0m         \u001b[1;32mif\u001b[0m \u001b[0mcallback\u001b[0m\u001b[1;33m:\u001b[0m\u001b[1;33m\u001b[0m\u001b[0m\n\u001b[0;32m    184\u001b[0m             \u001b[0mcallback\u001b[0m\u001b[1;33m(\u001b[0m\u001b[0mresult\u001b[0m\u001b[1;33m)\u001b[0m\u001b[1;33m\u001b[0m\u001b[0m\n",
      "\u001b[1;32mc:\\users\\martin\\anaconda3\\envs\\tensorflow\\lib\\site-packages\\sklearn\\externals\\joblib\\_parallel_backends.py\u001b[0m in \u001b[0;36m__init__\u001b[1;34m(self, batch)\u001b[0m\n\u001b[0;32m    543\u001b[0m         \u001b[1;31m# Don't delay the application, to avoid keeping the input\u001b[0m\u001b[1;33m\u001b[0m\u001b[1;33m\u001b[0m\u001b[0m\n\u001b[0;32m    544\u001b[0m         \u001b[1;31m# arguments in memory\u001b[0m\u001b[1;33m\u001b[0m\u001b[1;33m\u001b[0m\u001b[0m\n\u001b[1;32m--> 545\u001b[1;33m         \u001b[0mself\u001b[0m\u001b[1;33m.\u001b[0m\u001b[0mresults\u001b[0m \u001b[1;33m=\u001b[0m \u001b[0mbatch\u001b[0m\u001b[1;33m(\u001b[0m\u001b[1;33m)\u001b[0m\u001b[1;33m\u001b[0m\u001b[0m\n\u001b[0m\u001b[0;32m    546\u001b[0m \u001b[1;33m\u001b[0m\u001b[0m\n\u001b[0;32m    547\u001b[0m     \u001b[1;32mdef\u001b[0m \u001b[0mget\u001b[0m\u001b[1;33m(\u001b[0m\u001b[0mself\u001b[0m\u001b[1;33m)\u001b[0m\u001b[1;33m:\u001b[0m\u001b[1;33m\u001b[0m\u001b[0m\n",
      "\u001b[1;32mc:\\users\\martin\\anaconda3\\envs\\tensorflow\\lib\\site-packages\\sklearn\\externals\\joblib\\parallel.py\u001b[0m in \u001b[0;36m__call__\u001b[1;34m(self)\u001b[0m\n\u001b[0;32m    259\u001b[0m         \u001b[1;32mwith\u001b[0m \u001b[0mparallel_backend\u001b[0m\u001b[1;33m(\u001b[0m\u001b[0mself\u001b[0m\u001b[1;33m.\u001b[0m\u001b[0m_backend\u001b[0m\u001b[1;33m)\u001b[0m\u001b[1;33m:\u001b[0m\u001b[1;33m\u001b[0m\u001b[0m\n\u001b[0;32m    260\u001b[0m             return [func(*args, **kwargs)\n\u001b[1;32m--> 261\u001b[1;33m                     for func, args, kwargs in self.items]\n\u001b[0m\u001b[0;32m    262\u001b[0m \u001b[1;33m\u001b[0m\u001b[0m\n\u001b[0;32m    263\u001b[0m     \u001b[1;32mdef\u001b[0m \u001b[0m__len__\u001b[0m\u001b[1;33m(\u001b[0m\u001b[0mself\u001b[0m\u001b[1;33m)\u001b[0m\u001b[1;33m:\u001b[0m\u001b[1;33m\u001b[0m\u001b[0m\n",
      "\u001b[1;32mc:\\users\\martin\\anaconda3\\envs\\tensorflow\\lib\\site-packages\\sklearn\\externals\\joblib\\parallel.py\u001b[0m in \u001b[0;36m<listcomp>\u001b[1;34m(.0)\u001b[0m\n\u001b[0;32m    259\u001b[0m         \u001b[1;32mwith\u001b[0m \u001b[0mparallel_backend\u001b[0m\u001b[1;33m(\u001b[0m\u001b[0mself\u001b[0m\u001b[1;33m.\u001b[0m\u001b[0m_backend\u001b[0m\u001b[1;33m)\u001b[0m\u001b[1;33m:\u001b[0m\u001b[1;33m\u001b[0m\u001b[0m\n\u001b[0;32m    260\u001b[0m             return [func(*args, **kwargs)\n\u001b[1;32m--> 261\u001b[1;33m                     for func, args, kwargs in self.items]\n\u001b[0m\u001b[0;32m    262\u001b[0m \u001b[1;33m\u001b[0m\u001b[0m\n\u001b[0;32m    263\u001b[0m     \u001b[1;32mdef\u001b[0m \u001b[0m__len__\u001b[0m\u001b[1;33m(\u001b[0m\u001b[0mself\u001b[0m\u001b[1;33m)\u001b[0m\u001b[1;33m:\u001b[0m\u001b[1;33m\u001b[0m\u001b[0m\n",
      "\u001b[1;32mc:\\users\\martin\\anaconda3\\envs\\tensorflow\\lib\\site-packages\\sklearn\\model_selection\\_validation.py\u001b[0m in \u001b[0;36m_fit_and_score\u001b[1;34m(estimator, X, y, scorer, train, test, verbose, parameters, fit_params, return_train_score, return_parameters, return_n_test_samples, return_times, return_estimator, error_score)\u001b[0m\n\u001b[0;32m    526\u001b[0m             \u001b[0mestimator\u001b[0m\u001b[1;33m.\u001b[0m\u001b[0mfit\u001b[0m\u001b[1;33m(\u001b[0m\u001b[0mX_train\u001b[0m\u001b[1;33m,\u001b[0m \u001b[1;33m**\u001b[0m\u001b[0mfit_params\u001b[0m\u001b[1;33m)\u001b[0m\u001b[1;33m\u001b[0m\u001b[0m\n\u001b[0;32m    527\u001b[0m         \u001b[1;32melse\u001b[0m\u001b[1;33m:\u001b[0m\u001b[1;33m\u001b[0m\u001b[0m\n\u001b[1;32m--> 528\u001b[1;33m             \u001b[0mestimator\u001b[0m\u001b[1;33m.\u001b[0m\u001b[0mfit\u001b[0m\u001b[1;33m(\u001b[0m\u001b[0mX_train\u001b[0m\u001b[1;33m,\u001b[0m \u001b[0my_train\u001b[0m\u001b[1;33m,\u001b[0m \u001b[1;33m**\u001b[0m\u001b[0mfit_params\u001b[0m\u001b[1;33m)\u001b[0m\u001b[1;33m\u001b[0m\u001b[0m\n\u001b[0m\u001b[0;32m    529\u001b[0m \u001b[1;33m\u001b[0m\u001b[0m\n\u001b[0;32m    530\u001b[0m     \u001b[1;32mexcept\u001b[0m \u001b[0mException\u001b[0m \u001b[1;32mas\u001b[0m \u001b[0me\u001b[0m\u001b[1;33m:\u001b[0m\u001b[1;33m\u001b[0m\u001b[0m\n",
      "\u001b[1;32mc:\\users\\martin\\anaconda3\\envs\\tensorflow\\lib\\site-packages\\keras\\wrappers\\scikit_learn.py\u001b[0m in \u001b[0;36mfit\u001b[1;34m(self, x, y, sample_weight, **kwargs)\u001b[0m\n\u001b[0;32m    208\u001b[0m         \u001b[1;32mif\u001b[0m \u001b[0msample_weight\u001b[0m \u001b[1;32mis\u001b[0m \u001b[1;32mnot\u001b[0m \u001b[1;32mNone\u001b[0m\u001b[1;33m:\u001b[0m\u001b[1;33m\u001b[0m\u001b[0m\n\u001b[0;32m    209\u001b[0m             \u001b[0mkwargs\u001b[0m\u001b[1;33m[\u001b[0m\u001b[1;34m'sample_weight'\u001b[0m\u001b[1;33m]\u001b[0m \u001b[1;33m=\u001b[0m \u001b[0msample_weight\u001b[0m\u001b[1;33m\u001b[0m\u001b[0m\n\u001b[1;32m--> 210\u001b[1;33m         \u001b[1;32mreturn\u001b[0m \u001b[0msuper\u001b[0m\u001b[1;33m(\u001b[0m\u001b[0mKerasClassifier\u001b[0m\u001b[1;33m,\u001b[0m \u001b[0mself\u001b[0m\u001b[1;33m)\u001b[0m\u001b[1;33m.\u001b[0m\u001b[0mfit\u001b[0m\u001b[1;33m(\u001b[0m\u001b[0mx\u001b[0m\u001b[1;33m,\u001b[0m \u001b[0my\u001b[0m\u001b[1;33m,\u001b[0m \u001b[1;33m**\u001b[0m\u001b[0mkwargs\u001b[0m\u001b[1;33m)\u001b[0m\u001b[1;33m\u001b[0m\u001b[0m\n\u001b[0m\u001b[0;32m    211\u001b[0m \u001b[1;33m\u001b[0m\u001b[0m\n\u001b[0;32m    212\u001b[0m     \u001b[1;32mdef\u001b[0m \u001b[0mpredict\u001b[0m\u001b[1;33m(\u001b[0m\u001b[0mself\u001b[0m\u001b[1;33m,\u001b[0m \u001b[0mx\u001b[0m\u001b[1;33m,\u001b[0m \u001b[1;33m**\u001b[0m\u001b[0mkwargs\u001b[0m\u001b[1;33m)\u001b[0m\u001b[1;33m:\u001b[0m\u001b[1;33m\u001b[0m\u001b[0m\n",
      "\u001b[1;32mc:\\users\\martin\\anaconda3\\envs\\tensorflow\\lib\\site-packages\\keras\\wrappers\\scikit_learn.py\u001b[0m in \u001b[0;36mfit\u001b[1;34m(self, x, y, **kwargs)\u001b[0m\n\u001b[0;32m    150\u001b[0m         \u001b[0mfit_args\u001b[0m\u001b[1;33m.\u001b[0m\u001b[0mupdate\u001b[0m\u001b[1;33m(\u001b[0m\u001b[0mkwargs\u001b[0m\u001b[1;33m)\u001b[0m\u001b[1;33m\u001b[0m\u001b[0m\n\u001b[0;32m    151\u001b[0m \u001b[1;33m\u001b[0m\u001b[0m\n\u001b[1;32m--> 152\u001b[1;33m         \u001b[0mhistory\u001b[0m \u001b[1;33m=\u001b[0m \u001b[0mself\u001b[0m\u001b[1;33m.\u001b[0m\u001b[0mmodel\u001b[0m\u001b[1;33m.\u001b[0m\u001b[0mfit\u001b[0m\u001b[1;33m(\u001b[0m\u001b[0mx\u001b[0m\u001b[1;33m,\u001b[0m \u001b[0my\u001b[0m\u001b[1;33m,\u001b[0m \u001b[1;33m**\u001b[0m\u001b[0mfit_args\u001b[0m\u001b[1;33m)\u001b[0m\u001b[1;33m\u001b[0m\u001b[0m\n\u001b[0m\u001b[0;32m    153\u001b[0m \u001b[1;33m\u001b[0m\u001b[0m\n\u001b[0;32m    154\u001b[0m         \u001b[1;32mreturn\u001b[0m \u001b[0mhistory\u001b[0m\u001b[1;33m\u001b[0m\u001b[0m\n",
      "\u001b[1;32mc:\\users\\martin\\anaconda3\\envs\\tensorflow\\lib\\site-packages\\keras\\engine\\training.py\u001b[0m in \u001b[0;36mfit\u001b[1;34m(self, x, y, batch_size, epochs, verbose, callbacks, validation_split, validation_data, shuffle, class_weight, sample_weight, initial_epoch, steps_per_epoch, validation_steps, **kwargs)\u001b[0m\n\u001b[0;32m   1037\u001b[0m                                         \u001b[0minitial_epoch\u001b[0m\u001b[1;33m=\u001b[0m\u001b[0minitial_epoch\u001b[0m\u001b[1;33m,\u001b[0m\u001b[1;33m\u001b[0m\u001b[0m\n\u001b[0;32m   1038\u001b[0m                                         \u001b[0msteps_per_epoch\u001b[0m\u001b[1;33m=\u001b[0m\u001b[0msteps_per_epoch\u001b[0m\u001b[1;33m,\u001b[0m\u001b[1;33m\u001b[0m\u001b[0m\n\u001b[1;32m-> 1039\u001b[1;33m                                         validation_steps=validation_steps)\n\u001b[0m\u001b[0;32m   1040\u001b[0m \u001b[1;33m\u001b[0m\u001b[0m\n\u001b[0;32m   1041\u001b[0m     def evaluate(self, x=None, y=None,\n",
      "\u001b[1;32mc:\\users\\martin\\anaconda3\\envs\\tensorflow\\lib\\site-packages\\keras\\engine\\training_arrays.py\u001b[0m in \u001b[0;36mfit_loop\u001b[1;34m(model, f, ins, out_labels, batch_size, epochs, verbose, callbacks, val_f, val_ins, shuffle, callback_metrics, initial_epoch, steps_per_epoch, validation_steps)\u001b[0m\n\u001b[0;32m    197\u001b[0m                     \u001b[0mins_batch\u001b[0m\u001b[1;33m[\u001b[0m\u001b[0mi\u001b[0m\u001b[1;33m]\u001b[0m \u001b[1;33m=\u001b[0m \u001b[0mins_batch\u001b[0m\u001b[1;33m[\u001b[0m\u001b[0mi\u001b[0m\u001b[1;33m]\u001b[0m\u001b[1;33m.\u001b[0m\u001b[0mtoarray\u001b[0m\u001b[1;33m(\u001b[0m\u001b[1;33m)\u001b[0m\u001b[1;33m\u001b[0m\u001b[0m\n\u001b[0;32m    198\u001b[0m \u001b[1;33m\u001b[0m\u001b[0m\n\u001b[1;32m--> 199\u001b[1;33m                 \u001b[0mouts\u001b[0m \u001b[1;33m=\u001b[0m \u001b[0mf\u001b[0m\u001b[1;33m(\u001b[0m\u001b[0mins_batch\u001b[0m\u001b[1;33m)\u001b[0m\u001b[1;33m\u001b[0m\u001b[0m\n\u001b[0m\u001b[0;32m    200\u001b[0m                 \u001b[0mouts\u001b[0m \u001b[1;33m=\u001b[0m \u001b[0mto_list\u001b[0m\u001b[1;33m(\u001b[0m\u001b[0mouts\u001b[0m\u001b[1;33m)\u001b[0m\u001b[1;33m\u001b[0m\u001b[0m\n\u001b[0;32m    201\u001b[0m                 \u001b[1;32mfor\u001b[0m \u001b[0ml\u001b[0m\u001b[1;33m,\u001b[0m \u001b[0mo\u001b[0m \u001b[1;32min\u001b[0m \u001b[0mzip\u001b[0m\u001b[1;33m(\u001b[0m\u001b[0mout_labels\u001b[0m\u001b[1;33m,\u001b[0m \u001b[0mouts\u001b[0m\u001b[1;33m)\u001b[0m\u001b[1;33m:\u001b[0m\u001b[1;33m\u001b[0m\u001b[0m\n",
      "\u001b[1;32mc:\\users\\martin\\anaconda3\\envs\\tensorflow\\lib\\site-packages\\keras\\backend\\tensorflow_backend.py\u001b[0m in \u001b[0;36m__call__\u001b[1;34m(self, inputs)\u001b[0m\n\u001b[0;32m   2719\u001b[0m                     \u001b[1;34m'In order to feed symbolic tensors to a Keras model '\u001b[0m\u001b[1;33m\u001b[0m\u001b[0m\n\u001b[0;32m   2720\u001b[0m                     'in TensorFlow, you need tensorflow 1.8 or higher.')\n\u001b[1;32m-> 2721\u001b[1;33m             \u001b[1;32mreturn\u001b[0m \u001b[0mself\u001b[0m\u001b[1;33m.\u001b[0m\u001b[0m_legacy_call\u001b[0m\u001b[1;33m(\u001b[0m\u001b[0minputs\u001b[0m\u001b[1;33m)\u001b[0m\u001b[1;33m\u001b[0m\u001b[0m\n\u001b[0m\u001b[0;32m   2722\u001b[0m \u001b[1;33m\u001b[0m\u001b[0m\n\u001b[0;32m   2723\u001b[0m \u001b[1;33m\u001b[0m\u001b[0m\n",
      "\u001b[1;32mc:\\users\\martin\\anaconda3\\envs\\tensorflow\\lib\\site-packages\\keras\\backend\\tensorflow_backend.py\u001b[0m in \u001b[0;36m_legacy_call\u001b[1;34m(self, inputs)\u001b[0m\n\u001b[0;32m   2691\u001b[0m         \u001b[0msession\u001b[0m \u001b[1;33m=\u001b[0m \u001b[0mget_session\u001b[0m\u001b[1;33m(\u001b[0m\u001b[1;33m)\u001b[0m\u001b[1;33m\u001b[0m\u001b[0m\n\u001b[0;32m   2692\u001b[0m         updated = session.run(fetches=fetches, feed_dict=feed_dict,\n\u001b[1;32m-> 2693\u001b[1;33m                               **self.session_kwargs)\n\u001b[0m\u001b[0;32m   2694\u001b[0m         \u001b[1;32mreturn\u001b[0m \u001b[0mupdated\u001b[0m\u001b[1;33m[\u001b[0m\u001b[1;33m:\u001b[0m\u001b[0mlen\u001b[0m\u001b[1;33m(\u001b[0m\u001b[0mself\u001b[0m\u001b[1;33m.\u001b[0m\u001b[0moutputs\u001b[0m\u001b[1;33m)\u001b[0m\u001b[1;33m]\u001b[0m\u001b[1;33m\u001b[0m\u001b[0m\n\u001b[0;32m   2695\u001b[0m \u001b[1;33m\u001b[0m\u001b[0m\n",
      "\u001b[1;32mc:\\users\\martin\\anaconda3\\envs\\tensorflow\\lib\\site-packages\\tensorflow\\python\\client\\session.py\u001b[0m in \u001b[0;36mrun\u001b[1;34m(self, fetches, feed_dict, options, run_metadata)\u001b[0m\n\u001b[0;32m    903\u001b[0m     \u001b[1;32mtry\u001b[0m\u001b[1;33m:\u001b[0m\u001b[1;33m\u001b[0m\u001b[0m\n\u001b[0;32m    904\u001b[0m       result = self._run(None, fetches, feed_dict, options_ptr,\n\u001b[1;32m--> 905\u001b[1;33m                          run_metadata_ptr)\n\u001b[0m\u001b[0;32m    906\u001b[0m       \u001b[1;32mif\u001b[0m \u001b[0mrun_metadata\u001b[0m\u001b[1;33m:\u001b[0m\u001b[1;33m\u001b[0m\u001b[0m\n\u001b[0;32m    907\u001b[0m         \u001b[0mproto_data\u001b[0m \u001b[1;33m=\u001b[0m \u001b[0mtf_session\u001b[0m\u001b[1;33m.\u001b[0m\u001b[0mTF_GetBuffer\u001b[0m\u001b[1;33m(\u001b[0m\u001b[0mrun_metadata_ptr\u001b[0m\u001b[1;33m)\u001b[0m\u001b[1;33m\u001b[0m\u001b[0m\n",
      "\u001b[1;32mc:\\users\\martin\\anaconda3\\envs\\tensorflow\\lib\\site-packages\\tensorflow\\python\\client\\session.py\u001b[0m in \u001b[0;36m_run\u001b[1;34m(self, handle, fetches, feed_dict, options, run_metadata)\u001b[0m\n\u001b[0;32m   1107\u001b[0m             \u001b[0mfeed_handles\u001b[0m\u001b[1;33m[\u001b[0m\u001b[0msubfeed_t\u001b[0m\u001b[1;33m]\u001b[0m \u001b[1;33m=\u001b[0m \u001b[0msubfeed_val\u001b[0m\u001b[1;33m\u001b[0m\u001b[0m\n\u001b[0;32m   1108\u001b[0m           \u001b[1;32melse\u001b[0m\u001b[1;33m:\u001b[0m\u001b[1;33m\u001b[0m\u001b[0m\n\u001b[1;32m-> 1109\u001b[1;33m             \u001b[0mnp_val\u001b[0m \u001b[1;33m=\u001b[0m \u001b[0mnp\u001b[0m\u001b[1;33m.\u001b[0m\u001b[0masarray\u001b[0m\u001b[1;33m(\u001b[0m\u001b[0msubfeed_val\u001b[0m\u001b[1;33m,\u001b[0m \u001b[0mdtype\u001b[0m\u001b[1;33m=\u001b[0m\u001b[0msubfeed_dtype\u001b[0m\u001b[1;33m)\u001b[0m\u001b[1;33m\u001b[0m\u001b[0m\n\u001b[0m\u001b[0;32m   1110\u001b[0m \u001b[1;33m\u001b[0m\u001b[0m\n\u001b[0;32m   1111\u001b[0m           if (not is_tensor_handle_feed and\n",
      "\u001b[1;32mc:\\users\\martin\\anaconda3\\envs\\tensorflow\\lib\\site-packages\\numpy\\core\\numeric.py\u001b[0m in \u001b[0;36masarray\u001b[1;34m(a, dtype, order)\u001b[0m\n\u001b[0;32m    490\u001b[0m \u001b[1;33m\u001b[0m\u001b[0m\n\u001b[0;32m    491\u001b[0m     \"\"\"\n\u001b[1;32m--> 492\u001b[1;33m     \u001b[1;32mreturn\u001b[0m \u001b[0marray\u001b[0m\u001b[1;33m(\u001b[0m\u001b[0ma\u001b[0m\u001b[1;33m,\u001b[0m \u001b[0mdtype\u001b[0m\u001b[1;33m,\u001b[0m \u001b[0mcopy\u001b[0m\u001b[1;33m=\u001b[0m\u001b[1;32mFalse\u001b[0m\u001b[1;33m,\u001b[0m \u001b[0morder\u001b[0m\u001b[1;33m=\u001b[0m\u001b[0morder\u001b[0m\u001b[1;33m)\u001b[0m\u001b[1;33m\u001b[0m\u001b[0m\n\u001b[0m\u001b[0;32m    493\u001b[0m \u001b[1;33m\u001b[0m\u001b[0m\n\u001b[0;32m    494\u001b[0m \u001b[1;33m\u001b[0m\u001b[0m\n",
      "\u001b[1;31mKeyboardInterrupt\u001b[0m: "
     ]
    }
   ],
   "source": [
    "# #seed = 7\n",
    "# #numpy.random.seed(seed)\n",
    "# from sklearn.model_selection import TimeSeriesSplit\n",
    "tscv = TimeSeriesSplit(n_splits=3)# max_train_size=100\n",
    "# for train_index, test_index in tscv.split(X):\n",
    "#     print(\"TRAIN:\", train_index.shape, \"TEST:\", test_index.shape)\n",
    "#     X_train, X_test = X[train_index], X[test_index]\n",
    "#     y_train, y_test = y[train_index], y[test_index]\n",
    "\n",
    "# #kfold = KFold(n_splits=10)\n",
    "# # shuffle=True, random_state=seed\n",
    "results = cross_val_score(estimator, X, dummy_y, cv=tscv.split(X))"
   ]
  },
  {
   "cell_type": "code",
   "execution_count": 77,
   "metadata": {
    "scrolled": true
   },
   "outputs": [
    {
     "data": {
      "text/plain": [
       "array([0.515, 0.475, 0.465])"
      ]
     },
     "execution_count": 77,
     "metadata": {},
     "output_type": "execute_result"
    }
   ],
   "source": [
    "results"
   ]
  },
  {
   "cell_type": "code",
   "execution_count": 78,
   "metadata": {},
   "outputs": [
    {
     "data": {
      "text/plain": [
       "0.485"
      ]
     },
     "execution_count": 78,
     "metadata": {},
     "output_type": "execute_result"
    }
   ],
   "source": [
    "import statistics \n",
    "x = statistics.mean(results)\n",
    "x"
   ]
  },
  {
   "cell_type": "code",
   "execution_count": 64,
   "metadata": {},
   "outputs": [],
   "source": [
    "X_train_calibrate, X_test, y_train_calibrate, y_test = train_test_split(X, y, test_size=0.20)\n",
    "X_train, X_calibrate, y_train, y_calibrate = train_test_split(X_train_calibrate, y_train_calibrate, test_size = 0.3, random_state = 42)"
   ]
  },
  {
   "cell_type": "code",
   "execution_count": 65,
   "metadata": {},
   "outputs": [
    {
     "name": "stderr",
     "output_type": "stream",
     "text": [
      "c:\\users\\martin\\anaconda3\\envs\\tensorflow\\lib\\site-packages\\ipykernel_launcher.py:2: UserWarning: The `nb_epoch` argument in `fit` has been renamed `epochs`.\n",
      "  \n"
     ]
    },
    {
     "name": "stdout",
     "output_type": "stream",
     "text": [
      "Train on 640 samples, validate on 160 samples\n",
      "Epoch 1/30\n",
      "640/640 [==============================] - 1s 2ms/step - loss: 0.7122 - acc: 0.5063 - mean_absolute_error: 0.4978 - mean_squared_error: 0.2525 - f1_m: 0.4984 - val_loss: 0.6935 - val_acc: 0.4750 - val_mean_absolute_error: 0.5002 - val_mean_squared_error: 0.2502 - val_f1_m: 0.4750\n",
      "Epoch 2/30\n",
      "640/640 [==============================] - 0s 741us/step - loss: 0.6920 - acc: 0.5063 - mean_absolute_error: 0.4992 - mean_squared_error: 0.2496 - f1_m: 0.5062 - val_loss: 0.6936 - val_acc: 0.4750 - val_mean_absolute_error: 0.5002 - val_mean_squared_error: 0.2502 - val_f1_m: 0.4750\n",
      "Epoch 3/30\n",
      "640/640 [==============================] - 0s 721us/step - loss: 0.6914 - acc: 0.5063 - mean_absolute_error: 0.4987 - mean_squared_error: 0.2493 - f1_m: 0.5062 - val_loss: 0.6936 - val_acc: 0.4750 - val_mean_absolute_error: 0.5002 - val_mean_squared_error: 0.2502 - val_f1_m: 0.4750\n",
      "Epoch 4/30\n",
      "640/640 [==============================] - 1s 835us/step - loss: 0.6920 - acc: 0.5047 - mean_absolute_error: 0.4990 - mean_squared_error: 0.2496 - f1_m: 0.5047 - val_loss: 0.6935 - val_acc: 0.4750 - val_mean_absolute_error: 0.5002 - val_mean_squared_error: 0.2502 - val_f1_m: 0.4750\n",
      "Epoch 5/30\n",
      "640/640 [==============================] - 1s 860us/step - loss: 0.6923 - acc: 0.5047 - mean_absolute_error: 0.4994 - mean_squared_error: 0.2497 - f1_m: 0.5047 - val_loss: 0.6934 - val_acc: 0.4750 - val_mean_absolute_error: 0.5001 - val_mean_squared_error: 0.2501 - val_f1_m: 0.4750\n",
      "Epoch 6/30\n",
      "640/640 [==============================] - 0s 739us/step - loss: 0.6923 - acc: 0.5047 - mean_absolute_error: 0.4994 - mean_squared_error: 0.2497 - f1_m: 0.5047 - val_loss: 0.6937 - val_acc: 0.4750 - val_mean_absolute_error: 0.5002 - val_mean_squared_error: 0.2503 - val_f1_m: 0.4750\n",
      "Epoch 7/30\n",
      "640/640 [==============================] - 1s 794us/step - loss: 0.6922 - acc: 0.5047 - mean_absolute_error: 0.4993 - mean_squared_error: 0.2496 - f1_m: 0.5047 - val_loss: 0.6935 - val_acc: 0.4750 - val_mean_absolute_error: 0.5002 - val_mean_squared_error: 0.2502 - val_f1_m: 0.4750\n",
      "Epoch 8/30\n",
      "640/640 [==============================] - 0s 711us/step - loss: 0.6923 - acc: 0.5047 - mean_absolute_error: 0.4993 - mean_squared_error: 0.2497 - f1_m: 0.5047 - val_loss: 0.6935 - val_acc: 0.4750 - val_mean_absolute_error: 0.5001 - val_mean_squared_error: 0.2502 - val_f1_m: 0.4750\n",
      "Epoch 9/30\n",
      "640/640 [==============================] - 0s 769us/step - loss: 0.6922 - acc: 0.5047 - mean_absolute_error: 0.4993 - mean_squared_error: 0.2496 - f1_m: 0.5047 - val_loss: 0.6936 - val_acc: 0.4750 - val_mean_absolute_error: 0.5002 - val_mean_squared_error: 0.2502 - val_f1_m: 0.4750\n",
      "Epoch 10/30\n",
      "640/640 [==============================] - 1s 797us/step - loss: 0.6920 - acc: 0.5063 - mean_absolute_error: 0.4992 - mean_squared_error: 0.2496 - f1_m: 0.5062 - val_loss: 0.6936 - val_acc: 0.4750 - val_mean_absolute_error: 0.5002 - val_mean_squared_error: 0.2502 - val_f1_m: 0.4750\n",
      "Epoch 11/30\n",
      "640/640 [==============================] - 0s 692us/step - loss: 0.6924 - acc: 0.5047 - mean_absolute_error: 0.4991 - mean_squared_error: 0.2498 - f1_m: 0.5047 - val_loss: 0.6934 - val_acc: 0.4750 - val_mean_absolute_error: 0.5001 - val_mean_squared_error: 0.2501 - val_f1_m: 0.4750\n",
      "Epoch 12/30\n",
      "640/640 [==============================] - 0s 777us/step - loss: 0.6923 - acc: 0.4609 - mean_absolute_error: 0.4994 - mean_squared_error: 0.2497 - f1_m: 0.4609 - val_loss: 0.6934 - val_acc: 0.4750 - val_mean_absolute_error: 0.5001 - val_mean_squared_error: 0.2501 - val_f1_m: 0.4750\n",
      "Epoch 13/30\n",
      "640/640 [==============================] - 0s 735us/step - loss: 0.6921 - acc: 0.5047 - mean_absolute_error: 0.4993 - mean_squared_error: 0.2496 - f1_m: 0.5047 - val_loss: 0.6936 - val_acc: 0.4750 - val_mean_absolute_error: 0.5002 - val_mean_squared_error: 0.2502 - val_f1_m: 0.4750\n",
      "Epoch 14/30\n",
      "640/640 [==============================] - 1s 819us/step - loss: 0.6922 - acc: 0.5047 - mean_absolute_error: 0.4993 - mean_squared_error: 0.2497 - f1_m: 0.5047 - val_loss: 0.6937 - val_acc: 0.4750 - val_mean_absolute_error: 0.5003 - val_mean_squared_error: 0.2503 - val_f1_m: 0.4750\n",
      "Epoch 15/30\n",
      "640/640 [==============================] - 0s 713us/step - loss: 0.6922 - acc: 0.5047 - mean_absolute_error: 0.4993 - mean_squared_error: 0.2497 - f1_m: 0.5047 - val_loss: 0.6937 - val_acc: 0.4750 - val_mean_absolute_error: 0.5002 - val_mean_squared_error: 0.2503 - val_f1_m: 0.4750\n",
      "Epoch 16/30\n",
      "640/640 [==============================] - 0s 711us/step - loss: 0.6921 - acc: 0.5063 - mean_absolute_error: 0.4992 - mean_squared_error: 0.2496 - f1_m: 0.5062 - val_loss: 0.6935 - val_acc: 0.4750 - val_mean_absolute_error: 0.5002 - val_mean_squared_error: 0.2502 - val_f1_m: 0.4750\n",
      "Epoch 17/30\n",
      "640/640 [==============================] - 1s 790us/step - loss: 0.6932 - acc: 0.5063 - mean_absolute_error: 0.4990 - mean_squared_error: 0.2500 - f1_m: 0.5062 - val_loss: 0.6937 - val_acc: 0.4750 - val_mean_absolute_error: 0.5002 - val_mean_squared_error: 0.2503 - val_f1_m: 0.4750\n",
      "Epoch 18/30\n",
      "640/640 [==============================] - 0s 721us/step - loss: 0.6921 - acc: 0.5047 - mean_absolute_error: 0.4992 - mean_squared_error: 0.2496 - f1_m: 0.5047 - val_loss: 0.6937 - val_acc: 0.4750 - val_mean_absolute_error: 0.5003 - val_mean_squared_error: 0.2503 - val_f1_m: 0.4750\n",
      "Epoch 19/30\n",
      "640/640 [==============================] - 1s 869us/step - loss: 0.6922 - acc: 0.5047 - mean_absolute_error: 0.4993 - mean_squared_error: 0.2497 - f1_m: 0.5047 - val_loss: 0.6936 - val_acc: 0.4750 - val_mean_absolute_error: 0.5002 - val_mean_squared_error: 0.2502 - val_f1_m: 0.4750\n",
      "Epoch 20/30\n",
      "640/640 [==============================] - 1s 827us/step - loss: 0.6922 - acc: 0.5047 - mean_absolute_error: 0.4993 - mean_squared_error: 0.2496 - f1_m: 0.5047 - val_loss: 0.6935 - val_acc: 0.4750 - val_mean_absolute_error: 0.5002 - val_mean_squared_error: 0.2502 - val_f1_m: 0.4750\n",
      "Epoch 21/30\n",
      "640/640 [==============================] - 1s 1ms/step - loss: 0.6921 - acc: 0.5047 - mean_absolute_error: 0.4992 - mean_squared_error: 0.2496 - f1_m: 0.5047 - val_loss: 0.6936 - val_acc: 0.4750 - val_mean_absolute_error: 0.5002 - val_mean_squared_error: 0.2502 - val_f1_m: 0.4750\n",
      "Epoch 22/30\n",
      "640/640 [==============================] - 1s 1ms/step - loss: 0.6921 - acc: 0.5047 - mean_absolute_error: 0.4993 - mean_squared_error: 0.2496 - f1_m: 0.5047 - val_loss: 0.6936 - val_acc: 0.4750 - val_mean_absolute_error: 0.5002 - val_mean_squared_error: 0.2502 - val_f1_m: 0.4750\n",
      "Epoch 23/30\n",
      "640/640 [==============================] - 1s 1ms/step - loss: 0.6922 - acc: 0.5047 - mean_absolute_error: 0.4993 - mean_squared_error: 0.2496 - f1_m: 0.5047 - val_loss: 0.6935 - val_acc: 0.4750 - val_mean_absolute_error: 0.5002 - val_mean_squared_error: 0.2502 - val_f1_m: 0.4750\n",
      "Epoch 24/30\n",
      "640/640 [==============================] - 1s 1ms/step - loss: 0.6923 - acc: 0.5047 - mean_absolute_error: 0.4993 - mean_squared_error: 0.2497 - f1_m: 0.5047 - val_loss: 0.6938 - val_acc: 0.4750 - val_mean_absolute_error: 0.5003 - val_mean_squared_error: 0.2503 - val_f1_m: 0.4750\n",
      "Epoch 25/30\n",
      "640/640 [==============================] - 1s 1ms/step - loss: 0.6921 - acc: 0.5047 - mean_absolute_error: 0.4992 - mean_squared_error: 0.2496 - f1_m: 0.5047 - val_loss: 0.6936 - val_acc: 0.4750 - val_mean_absolute_error: 0.5002 - val_mean_squared_error: 0.2502 - val_f1_m: 0.4750\n",
      "Epoch 26/30\n",
      "640/640 [==============================] - 1s 1ms/step - loss: 0.6922 - acc: 0.5047 - mean_absolute_error: 0.4993 - mean_squared_error: 0.2497 - f1_m: 0.5047 - val_loss: 0.6935 - val_acc: 0.4750 - val_mean_absolute_error: 0.5002 - val_mean_squared_error: 0.2502 - val_f1_m: 0.4750\n",
      "Epoch 27/30\n",
      "640/640 [==============================] - 1s 1ms/step - loss: 0.6923 - acc: 0.5047 - mean_absolute_error: 0.4993 - mean_squared_error: 0.2497 - f1_m: 0.5047 - val_loss: 0.6936 - val_acc: 0.4750 - val_mean_absolute_error: 0.5002 - val_mean_squared_error: 0.2502 - val_f1_m: 0.4750\n",
      "Epoch 28/30\n",
      "640/640 [==============================] - 1s 993us/step - loss: 0.6921 - acc: 0.5047 - mean_absolute_error: 0.4993 - mean_squared_error: 0.2496 - f1_m: 0.5047 - val_loss: 0.6935 - val_acc: 0.4750 - val_mean_absolute_error: 0.5002 - val_mean_squared_error: 0.2502 - val_f1_m: 0.4750\n"
     ]
    },
    {
     "name": "stdout",
     "output_type": "stream",
     "text": [
      "Epoch 29/30\n",
      "640/640 [==============================] - 1s 1ms/step - loss: 0.6922 - acc: 0.5047 - mean_absolute_error: 0.4993 - mean_squared_error: 0.2497 - f1_m: 0.5047 - val_loss: 0.6934 - val_acc: 0.4750 - val_mean_absolute_error: 0.5001 - val_mean_squared_error: 0.2501 - val_f1_m: 0.4750\n",
      "Epoch 30/30\n",
      "640/640 [==============================] - 1s 946us/step - loss: 0.6921 - acc: 0.5063 - mean_absolute_error: 0.4992 - mean_squared_error: 0.2496 - f1_m: 0.5062 - val_loss: 0.6938 - val_acc: 0.4750 - val_mean_absolute_error: 0.5003 - val_mean_squared_error: 0.2503 - val_f1_m: 0.4750\n"
     ]
    },
    {
     "data": {
      "text/plain": [
       "<keras.callbacks.History at 0xba1ea49080>"
      ]
     },
     "execution_count": 65,
     "metadata": {},
     "output_type": "execute_result"
    }
   ],
   "source": [
    "model = baseline_model()\n",
    "model.fit(X, dummy_y, nb_epoch=30, batch_size=10, validation_split=0.2, verbose=1)"
   ]
  },
  {
   "cell_type": "code",
   "execution_count": 66,
   "metadata": {},
   "outputs": [
    {
     "data": {
      "text/plain": [
       "array([[0.18287867, 0.8171214 ],\n",
       "       [0.50548416, 0.49451578],\n",
       "       [0.50548416, 0.49451578],\n",
       "       [0.39425713, 0.6057429 ],\n",
       "       [0.50548416, 0.49451578],\n",
       "       [0.0017372 , 0.9982628 ],\n",
       "       [0.4726415 , 0.52735853],\n",
       "       [0.11052071, 0.8894793 ],\n",
       "       [0.00744223, 0.99255776],\n",
       "       [0.50548416, 0.49451578],\n",
       "       [0.50548416, 0.49451578],\n",
       "       [0.35010922, 0.6498908 ],\n",
       "       [0.15637366, 0.8436264 ],\n",
       "       [0.16503695, 0.834963  ],\n",
       "       [0.50548416, 0.49451578],\n",
       "       [0.50548416, 0.49451578],\n",
       "       [0.2151622 , 0.7848377 ],\n",
       "       [0.11095495, 0.88904506],\n",
       "       [0.50548416, 0.49451578],\n",
       "       [0.50548416, 0.49451578],\n",
       "       [0.50548416, 0.49451578],\n",
       "       [0.50548416, 0.49451578],\n",
       "       [0.50548416, 0.49451578],\n",
       "       [0.4064248 , 0.59357524],\n",
       "       [0.2861712 , 0.7138288 ],\n",
       "       [0.50548416, 0.49451578],\n",
       "       [0.50548416, 0.49451578],\n",
       "       [0.07429695, 0.92570305],\n",
       "       [0.50548416, 0.49451578],\n",
       "       [0.50548416, 0.49451578],\n",
       "       [0.50548416, 0.49451578],\n",
       "       [0.50548416, 0.49451578],\n",
       "       [0.50548416, 0.49451578],\n",
       "       [0.50548416, 0.49451578],\n",
       "       [0.50548416, 0.49451578],\n",
       "       [0.50548416, 0.49451578],\n",
       "       [0.50548416, 0.49451578],\n",
       "       [0.50548416, 0.49451578],\n",
       "       [0.50548416, 0.49451578],\n",
       "       [0.4693407 , 0.5306593 ],\n",
       "       [0.50548416, 0.49451578],\n",
       "       [0.50548416, 0.49451578],\n",
       "       [0.43337774, 0.56662226],\n",
       "       [0.50548416, 0.49451578],\n",
       "       [0.50548416, 0.49451578],\n",
       "       [0.50548416, 0.49451578],\n",
       "       [0.50548416, 0.49451578],\n",
       "       [0.50548416, 0.49451578],\n",
       "       [0.50548416, 0.49451578],\n",
       "       [0.50548416, 0.49451578],\n",
       "       [0.50548416, 0.49451578],\n",
       "       [0.50548416, 0.49451578],\n",
       "       [0.50548416, 0.49451578],\n",
       "       [0.50548416, 0.49451578],\n",
       "       [0.50548416, 0.49451578],\n",
       "       [0.50548416, 0.49451578],\n",
       "       [0.50548416, 0.49451578],\n",
       "       [0.50548416, 0.49451578],\n",
       "       [0.50548416, 0.49451578],\n",
       "       [0.50548416, 0.49451578],\n",
       "       [0.50548416, 0.49451578],\n",
       "       [0.50548416, 0.49451578],\n",
       "       [0.50548416, 0.49451578],\n",
       "       [0.50548416, 0.49451578],\n",
       "       [0.50548416, 0.49451578],\n",
       "       [0.50548416, 0.49451578],\n",
       "       [0.50548416, 0.49451578],\n",
       "       [0.50548416, 0.49451578],\n",
       "       [0.50548416, 0.49451578],\n",
       "       [0.50548416, 0.49451578],\n",
       "       [0.50548416, 0.49451578],\n",
       "       [0.50548416, 0.49451578],\n",
       "       [0.50548416, 0.49451578],\n",
       "       [0.50548416, 0.49451578],\n",
       "       [0.50548416, 0.49451578],\n",
       "       [0.50548416, 0.49451578],\n",
       "       [0.50548416, 0.49451578],\n",
       "       [0.50548416, 0.49451578],\n",
       "       [0.50548416, 0.49451578],\n",
       "       [0.50548416, 0.49451578],\n",
       "       [0.50548416, 0.49451578],\n",
       "       [0.50548416, 0.49451578],\n",
       "       [0.50548416, 0.49451578],\n",
       "       [0.50548416, 0.49451578],\n",
       "       [0.50548416, 0.49451578],\n",
       "       [0.50548416, 0.49451578],\n",
       "       [0.50548416, 0.49451578],\n",
       "       [0.50548416, 0.49451578],\n",
       "       [0.50548416, 0.49451578],\n",
       "       [0.50548416, 0.49451578],\n",
       "       [0.50548416, 0.49451578],\n",
       "       [0.50548416, 0.49451578],\n",
       "       [0.50548416, 0.49451578],\n",
       "       [0.50548416, 0.49451578],\n",
       "       [0.50548416, 0.49451578],\n",
       "       [0.50548416, 0.49451578],\n",
       "       [0.50548416, 0.49451578],\n",
       "       [0.50548416, 0.49451578],\n",
       "       [0.50548416, 0.49451578],\n",
       "       [0.50548416, 0.49451578]], dtype=float32)"
      ]
     },
     "execution_count": 66,
     "metadata": {},
     "output_type": "execute_result"
    }
   ],
   "source": [
    "model.predict(X[0:100])"
   ]
  },
  {
   "cell_type": "code",
   "execution_count": null,
   "metadata": {},
   "outputs": [],
   "source": []
  },
  {
   "cell_type": "code",
   "execution_count": null,
   "metadata": {},
   "outputs": [],
   "source": []
  },
  {
   "cell_type": "code",
   "execution_count": null,
   "metadata": {},
   "outputs": [],
   "source": []
  }
 ],
 "metadata": {
  "kernelspec": {
   "display_name": "Python 3",
   "language": "python",
   "name": "python3"
  },
  "language_info": {
   "codemirror_mode": {
    "name": "ipython",
    "version": 3
   },
   "file_extension": ".py",
   "mimetype": "text/x-python",
   "name": "python",
   "nbconvert_exporter": "python",
   "pygments_lexer": "ipython3",
   "version": "3.6.5"
  }
 },
 "nbformat": 4,
 "nbformat_minor": 2
}
