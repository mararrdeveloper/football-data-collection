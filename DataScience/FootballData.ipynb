{
 "cells": [
  {
   "cell_type": "code",
   "execution_count": 3,
   "metadata": {
    "collapsed": true
   },
   "outputs": [],
   "source": [
    "#DB Connection \n",
    "import pymssql\n",
    "import pandas as pd\n",
    "import pyodbc\n",
    "conn = pyodbc.connect(\"Driver={SQL Server Native Client 11.0};\"\n",
    "                     \"Server=Martin-PC\\SQLEXPRESS;\"\n",
    "                     \"Database=FootballData;\"\n",
    "                     \"Trusted_Connection=yes;\")\n",
    "#conn = pymssql.connect(server=\"localhost\", user=\"\",password=\"\", port=63642)  # You can lookup the port number inside SQL server. \n",
    "\n"
   ]
  },
  {
   "cell_type": "code",
   "execution_count": 5,
   "metadata": {},
   "outputs": [
    {
     "name": "stdout",
     "output_type": "stream",
     "text": [
      "(5070, 10)\n"
     ]
    },
    {
     "data": {
      "text/html": [
       "<div>\n",
       "<style>\n",
       "    .dataframe thead tr:only-child th {\n",
       "        text-align: right;\n",
       "    }\n",
       "\n",
       "    .dataframe thead th {\n",
       "        text-align: left;\n",
       "    }\n",
       "\n",
       "    .dataframe tbody tr th {\n",
       "        vertical-align: top;\n",
       "    }\n",
       "</style>\n",
       "<table border=\"1\" class=\"dataframe\">\n",
       "  <thead>\n",
       "    <tr style=\"text-align: right;\">\n",
       "      <th></th>\n",
       "      <th>Id</th>\n",
       "      <th>ExternalId</th>\n",
       "      <th>Date</th>\n",
       "      <th>Country</th>\n",
       "      <th>League</th>\n",
       "      <th>Season</th>\n",
       "      <th>Stage</th>\n",
       "      <th>Player_Id</th>\n",
       "      <th>AwayTeam_Id</th>\n",
       "      <th>HomeTeam_Id</th>\n",
       "    </tr>\n",
       "  </thead>\n",
       "  <tbody>\n",
       "    <tr>\n",
       "      <th>0</th>\n",
       "      <td>1</td>\n",
       "      <td>1723985</td>\n",
       "      <td>2014-08-18 15:00:00</td>\n",
       "      <td>England</td>\n",
       "      <td>Premier League</td>\n",
       "      <td>2014/2015</td>\n",
       "      <td>1</td>\n",
       "      <td>None</td>\n",
       "      <td>16</td>\n",
       "      <td>15</td>\n",
       "    </tr>\n",
       "    <tr>\n",
       "      <th>1</th>\n",
       "      <td>2</td>\n",
       "      <td>1723982</td>\n",
       "      <td>2014-08-18 15:00:00</td>\n",
       "      <td>England</td>\n",
       "      <td>Premier League</td>\n",
       "      <td>2014/2015</td>\n",
       "      <td>1</td>\n",
       "      <td>None</td>\n",
       "      <td>12</td>\n",
       "      <td>9</td>\n",
       "    </tr>\n",
       "    <tr>\n",
       "      <th>2</th>\n",
       "      <td>3</td>\n",
       "      <td>1723983</td>\n",
       "      <td>2014-08-18 15:00:00</td>\n",
       "      <td>England</td>\n",
       "      <td>Premier League</td>\n",
       "      <td>2014/2015</td>\n",
       "      <td>1</td>\n",
       "      <td>None</td>\n",
       "      <td>14</td>\n",
       "      <td>11</td>\n",
       "    </tr>\n",
       "  </tbody>\n",
       "</table>\n",
       "</div>"
      ],
      "text/plain": [
       "   Id ExternalId                Date  Country          League     Season  \\\n",
       "0   1    1723985 2014-08-18 15:00:00  England  Premier League  2014/2015   \n",
       "1   2    1723982 2014-08-18 15:00:00  England  Premier League  2014/2015   \n",
       "2   3    1723983 2014-08-18 15:00:00  England  Premier League  2014/2015   \n",
       "\n",
       "  Stage Player_Id  AwayTeam_Id  HomeTeam_Id  \n",
       "0     1      None           16           15  \n",
       "1     1      None           12            9  \n",
       "2     1      None           14           11  "
      ]
     },
     "execution_count": 5,
     "metadata": {},
     "output_type": "execute_result"
    }
   ],
   "source": [
    "#Matches select\n",
    "stmt = \"SELECT * FROM Matches\"\n",
    "# Excute Query here\n",
    "df_matches = pd.read_sql(stmt,conn)\n",
    "print(df_matches.shape)\n",
    "df_matches.head(3)"
   ]
  },
  {
   "cell_type": "code",
   "execution_count": 7,
   "metadata": {},
   "outputs": [
    {
     "name": "stdout",
     "output_type": "stream",
     "text": [
      "(30029, 6)\n"
     ]
    },
    {
     "data": {
      "text/html": [
       "<div>\n",
       "<style>\n",
       "    .dataframe thead tr:only-child th {\n",
       "        text-align: right;\n",
       "    }\n",
       "\n",
       "    .dataframe thead th {\n",
       "        text-align: left;\n",
       "    }\n",
       "\n",
       "    .dataframe tbody tr th {\n",
       "        vertical-align: top;\n",
       "    }\n",
       "</style>\n",
       "<table border=\"1\" class=\"dataframe\">\n",
       "  <thead>\n",
       "    <tr style=\"text-align: right;\">\n",
       "      <th></th>\n",
       "      <th>Id</th>\n",
       "      <th>ExternalId</th>\n",
       "      <th>MatchId</th>\n",
       "      <th>Minute</th>\n",
       "      <th>Player1</th>\n",
       "      <th>TeamId</th>\n",
       "    </tr>\n",
       "  </thead>\n",
       "  <tbody>\n",
       "    <tr>\n",
       "      <th>0</th>\n",
       "      <td>1</td>\n",
       "      <td>3652595</td>\n",
       "      <td>1723983</td>\n",
       "      <td>5</td>\n",
       "      <td>None</td>\n",
       "      <td>8455</td>\n",
       "    </tr>\n",
       "    <tr>\n",
       "      <th>1</th>\n",
       "      <td>2</td>\n",
       "      <td>3647429</td>\n",
       "      <td>1723982</td>\n",
       "      <td>15</td>\n",
       "      <td>None</td>\n",
       "      <td>9825</td>\n",
       "    </tr>\n",
       "    <tr>\n",
       "      <th>2</th>\n",
       "      <td>3</td>\n",
       "      <td>3649357</td>\n",
       "      <td>1723985</td>\n",
       "      <td>9</td>\n",
       "      <td>None</td>\n",
       "      <td>8650</td>\n",
       "    </tr>\n",
       "    <tr>\n",
       "      <th>3</th>\n",
       "      <td>4</td>\n",
       "      <td>3645873</td>\n",
       "      <td>1723984</td>\n",
       "      <td>16</td>\n",
       "      <td>None</td>\n",
       "      <td>8197</td>\n",
       "    </tr>\n",
       "    <tr>\n",
       "      <th>4</th>\n",
       "      <td>5</td>\n",
       "      <td>3647542</td>\n",
       "      <td>1723982</td>\n",
       "      <td>30</td>\n",
       "      <td>None</td>\n",
       "      <td>9825</td>\n",
       "    </tr>\n",
       "  </tbody>\n",
       "</table>\n",
       "</div>"
      ],
      "text/plain": [
       "   Id ExternalId  MatchId Minute Player1 TeamId\n",
       "0   1    3652595  1723983      5    None   8455\n",
       "1   2    3647429  1723982     15    None   9825\n",
       "2   3    3649357  1723985      9    None   8650\n",
       "3   4    3645873  1723984     16    None   8197\n",
       "4   5    3647542  1723982     30    None   9825"
      ]
     },
     "execution_count": 7,
     "metadata": {},
     "output_type": "execute_result"
    }
   ],
   "source": [
    "#Corners select\n",
    "stmt = \"SELECT * FROM Corners\"\n",
    "# Excute Query here\n",
    "df_corners = pd.read_sql(stmt,conn)\n",
    "#df_corners = df_corners['Minute'].notnull()\n",
    "print(df_corners.shape)\n",
    "df_corners.head()"
   ]
  },
  {
   "cell_type": "code",
   "execution_count": 9,
   "metadata": {},
   "outputs": [
    {
     "name": "stdout",
     "output_type": "stream",
     "text": [
      "(8299, 8)\n"
     ]
    },
    {
     "data": {
      "text/html": [
       "<div>\n",
       "<style>\n",
       "    .dataframe thead tr:only-child th {\n",
       "        text-align: right;\n",
       "    }\n",
       "\n",
       "    .dataframe thead th {\n",
       "        text-align: left;\n",
       "    }\n",
       "\n",
       "    .dataframe tbody tr th {\n",
       "        vertical-align: top;\n",
       "    }\n",
       "</style>\n",
       "<table border=\"1\" class=\"dataframe\">\n",
       "  <thead>\n",
       "    <tr style=\"text-align: right;\">\n",
       "      <th></th>\n",
       "      <th>Id</th>\n",
       "      <th>MatchId</th>\n",
       "      <th>ExternalId</th>\n",
       "      <th>Minute</th>\n",
       "      <th>ScorerId</th>\n",
       "      <th>AssistId</th>\n",
       "      <th>Type</th>\n",
       "      <th>TeamId</th>\n",
       "    </tr>\n",
       "  </thead>\n",
       "  <tbody>\n",
       "    <tr>\n",
       "      <th>0</th>\n",
       "      <td>1</td>\n",
       "      <td>1723983</td>\n",
       "      <td>3652629</td>\n",
       "      <td>14</td>\n",
       "      <td>37240</td>\n",
       "      <td>24372</td>\n",
       "      <td>shot</td>\n",
       "      <td>8191</td>\n",
       "    </tr>\n",
       "    <tr>\n",
       "      <th>1</th>\n",
       "      <td>2</td>\n",
       "      <td>1723985</td>\n",
       "      <td>3649433</td>\n",
       "      <td>23</td>\n",
       "      <td>246575</td>\n",
       "      <td>156008</td>\n",
       "      <td>shot</td>\n",
       "      <td>8650</td>\n",
       "    </tr>\n",
       "    <tr>\n",
       "      <th>2</th>\n",
       "      <td>3</td>\n",
       "      <td>1723984</td>\n",
       "      <td>3645927</td>\n",
       "      <td>20</td>\n",
       "      <td>32448</td>\n",
       "      <td>None</td>\n",
       "      <td>shot</td>\n",
       "      <td>8668</td>\n",
       "    </tr>\n",
       "    <tr>\n",
       "      <th>3</th>\n",
       "      <td>4</td>\n",
       "      <td>1723982</td>\n",
       "      <td>3647567</td>\n",
       "      <td>35</td>\n",
       "      <td>26777</td>\n",
       "      <td>35345</td>\n",
       "      <td>header</td>\n",
       "      <td>9826</td>\n",
       "    </tr>\n",
       "    <tr>\n",
       "      <th>4</th>\n",
       "      <td>5</td>\n",
       "      <td>1723984</td>\n",
       "      <td>3645943</td>\n",
       "      <td>22</td>\n",
       "      <td>26554</td>\n",
       "      <td>None</td>\n",
       "      <td>loose_ball</td>\n",
       "      <td>8197</td>\n",
       "    </tr>\n",
       "  </tbody>\n",
       "</table>\n",
       "</div>"
      ],
      "text/plain": [
       "   Id  MatchId ExternalId Minute ScorerId AssistId        Type TeamId\n",
       "0   1  1723983    3652629     14    37240    24372        shot   8191\n",
       "1   2  1723985    3649433     23   246575   156008        shot   8650\n",
       "2   3  1723984    3645927     20    32448     None        shot   8668\n",
       "3   4  1723982    3647567     35    26777    35345      header   9826\n",
       "4   5  1723984    3645943     22    26554     None  loose_ball   8197"
      ]
     },
     "execution_count": 9,
     "metadata": {},
     "output_type": "execute_result"
    }
   ],
   "source": [
    "#Goals select\n",
    "stmt = \"SELECT * FROM Goals\"\n",
    "# Excute Query here\n",
    "df_goals = pd.read_sql(stmt,conn)\n",
    "print(df_goals.shape)\n",
    "df_goals.head()"
   ]
  },
  {
   "cell_type": "code",
   "execution_count": 11,
   "metadata": {},
   "outputs": [
    {
     "name": "stdout",
     "output_type": "stream",
     "text": [
      "(10991, 4)\n"
     ]
    },
    {
     "data": {
      "text/html": [
       "<div>\n",
       "<style>\n",
       "    .dataframe thead tr:only-child th {\n",
       "        text-align: right;\n",
       "    }\n",
       "\n",
       "    .dataframe thead th {\n",
       "        text-align: left;\n",
       "    }\n",
       "\n",
       "    .dataframe tbody tr th {\n",
       "        vertical-align: top;\n",
       "    }\n",
       "</style>\n",
       "<table border=\"1\" class=\"dataframe\">\n",
       "  <thead>\n",
       "    <tr style=\"text-align: right;\">\n",
       "      <th></th>\n",
       "      <th>Id</th>\n",
       "      <th>ExternalId</th>\n",
       "      <th>FullName</th>\n",
       "      <th>Acronym</th>\n",
       "    </tr>\n",
       "  </thead>\n",
       "  <tbody>\n",
       "    <tr>\n",
       "      <th>0</th>\n",
       "      <td>1</td>\n",
       "      <td>8650</td>\n",
       "      <td>Liverpool</td>\n",
       "      <td>SOU</td>\n",
       "    </tr>\n",
       "    <tr>\n",
       "      <th>1</th>\n",
       "      <td>2</td>\n",
       "      <td>8191</td>\n",
       "      <td>Burnley</td>\n",
       "      <td>CHE</td>\n",
       "    </tr>\n",
       "    <tr>\n",
       "      <th>2</th>\n",
       "      <td>3</td>\n",
       "      <td>8197</td>\n",
       "      <td>Leicester</td>\n",
       "      <td>EVE</td>\n",
       "    </tr>\n",
       "    <tr>\n",
       "      <th>3</th>\n",
       "      <td>4</td>\n",
       "      <td>9825</td>\n",
       "      <td>Arsenal</td>\n",
       "      <td>CRY</td>\n",
       "    </tr>\n",
       "    <tr>\n",
       "      <th>4</th>\n",
       "      <td>5</td>\n",
       "      <td>8668</td>\n",
       "      <td>Everton</td>\n",
       "      <td>LEI</td>\n",
       "    </tr>\n",
       "  </tbody>\n",
       "</table>\n",
       "</div>"
      ],
      "text/plain": [
       "   Id ExternalId   FullName Acronym\n",
       "0   1       8650  Liverpool     SOU\n",
       "1   2       8191    Burnley     CHE\n",
       "2   3       8197  Leicester     EVE\n",
       "3   4       9825    Arsenal     CRY\n",
       "4   5       8668    Everton     LEI"
      ]
     },
     "execution_count": 11,
     "metadata": {},
     "output_type": "execute_result"
    }
   ],
   "source": [
    "#Teams select\n",
    "stmt = \"SELECT * FROM Teams\"\n",
    "# Excute Query here\n",
    "df_teams = pd.read_sql(stmt,conn)\n",
    "print(df_teams.shape)\n",
    "df_teams.head()"
   ]
  },
  {
   "cell_type": "code",
   "execution_count": 12,
   "metadata": {},
   "outputs": [
    {
     "name": "stdout",
     "output_type": "stream",
     "text": [
      "(4526, 3)\n",
      "10003\n"
     ]
    },
    {
     "data": {
      "image/png": "[encoded data removed]",
      "text/plain": [
       "<matplotlib.figure.Figure at 0x9979ae60b8>"
      ]
     },
     "metadata": {},
     "output_type": "display_data"
    },
    {
     "name": "stdout",
     "output_type": "stream",
     "text": [
      "10172\n"
     ]
    },
    {
     "data": {
      "image/png": "[encoded data removed]",
      "text/plain": [
       "<matplotlib.figure.Figure at 0x9973cd9278>"
      ]
     },
     "metadata": {},
     "output_type": "display_data"
    },
    {
     "name": "stdout",
     "output_type": "stream",
     "text": [
      "10194\n"
     ]
    },
    {
     "data": {
      "image/png": "[encoded data removed]",
      "text/plain": [
       "<matplotlib.figure.Figure at 0x997a1706d8>"
      ]
     },
     "metadata": {},
     "output_type": "display_data"
    },
    {
     "name": "stdout",
     "output_type": "stream",
     "text": [
      "10204\n"
     ]
    },
    {
     "data": {
      "image/png": "[encoded data removed]",
      "text/plain": [
       "<matplotlib.figure.Figure at 0x997a1fbc18>"
      ]
     },
     "metadata": {},
     "output_type": "display_data"
    },
    {
     "name": "stdout",
     "output_type": "stream",
     "text": [
      "10242\n"
     ]
    },
    {
     "data": {
      "image/png": "[encoded data removed]",
      "text/plain": [
       "<matplotlib.figure.Figure at 0x997a262eb8>"
      ]
     },
     "metadata": {},
     "output_type": "display_data"
    },
    {
     "name": "stdout",
     "output_type": "stream",
     "text": [
      "10249\n"
     ]
    },
    {
     "data": {
      "image/png": "[encoded data removed]",
      "text/plain": [
       "<matplotlib.figure.Figure at 0x997a2d62b0>"
      ]
     },
     "metadata": {},
     "output_type": "display_data"
    },
    {
     "name": "stdout",
     "output_type": "stream",
     "text": [
      "10252\n"
     ]
    },
    {
     "data": {
      "image/png": "[encoded data removed]",
      "text/plain": [
       "<matplotlib.figure.Figure at 0x997a1a11d0>"
      ]
     },
     "metadata": {},
     "output_type": "display_data"
    },
    {
     "name": "stdout",
     "output_type": "stream",
     "text": [
      "10260\n"
     ]
    },
    {
     "data": {
      "image/png": "[encoded data removed]",
      "text/plain": [
       "<matplotlib.figure.Figure at 0x997a1e1ba8>"
      ]
     },
     "metadata": {},
     "output_type": "display_data"
    },
    {
     "name": "stdout",
     "output_type": "stream",
     "text": [
      "10261\n"
     ]
    },
    {
     "data": {
      "image/png": "[encoded data removed]",
      "text/plain": [
       "<matplotlib.figure.Figure at 0x9976d6f1d0>"
      ]
     },
     "metadata": {},
     "output_type": "display_data"
    },
    {
     "name": "stdout",
     "output_type": "stream",
     "text": [
      "4087\n"
     ]
    },
    {
     "data": {
      "image/png": "[encoded data removed]",
      "text/plain": [
       "<matplotlib.figure.Figure at 0x9978f6eef0>"
      ]
     },
     "metadata": {},
     "output_type": "display_data"
    },
    {
     "name": "stdout",
     "output_type": "stream",
     "text": [
      "6391\n"
     ]
    },
    {
     "data": {
      "image/png": "[encoded data removed]",
      "text/plain": [
       "<matplotlib.figure.Figure at 0x997a20e588>"
      ]
     },
     "metadata": {},
     "output_type": "display_data"
    },
    {
     "name": "stdout",
     "output_type": "stream",
     "text": [
      "7794\n"
     ]
    },
    {
     "data": {
      "image/png": "[encoded data removed]",
      "text/plain": [
       "<matplotlib.figure.Figure at 0x997a32b470>"
      ]
     },
     "metadata": {},
     "output_type": "display_data"
    },
    {
     "name": "stdout",
     "output_type": "stream",
     "text": [
      "7819\n"
     ]
    },
    {
     "data": {
      "image/png": "[encoded data removed]",
      "text/plain": [
       "<matplotlib.figure.Figure at 0x997a3a6ba8>"
      ]
     },
     "metadata": {},
     "output_type": "display_data"
    },
    {
     "name": "stdout",
     "output_type": "stream",
     "text": [
      "8121\n"
     ]
    },
    {
     "data": {
      "image/png": "[encoded data removed]",
      "text/plain": [
       "<matplotlib.figure.Figure at 0x997a3db550>"
      ]
     },
     "metadata": {},
     "output_type": "display_data"
    },
    {
     "name": "stdout",
     "output_type": "stream",
     "text": [
      "8191\n"
     ]
    },
    {
     "data": {
      "image/png": "[encoded data removed]",
      "text/plain": [
       "<matplotlib.figure.Figure at 0x997a39a2e8>"
      ]
     },
     "metadata": {},
     "output_type": "display_data"
    },
    {
     "name": "stdout",
     "output_type": "stream",
     "text": [
      "8197\n"
     ]
    },
    {
     "data": {
      "image/png": "[encoded data removed]",
      "text/plain": [
       "<matplotlib.figure.Figure at 0x997a4fc630>"
      ]
     },
     "metadata": {},
     "output_type": "display_data"
    },
    {
     "name": "stdout",
     "output_type": "stream",
     "text": [
      "8455\n"
     ]
    },
    {
     "data": {
      "image/png": "[encoded data removed]",
      "text/plain": [
       "<matplotlib.figure.Figure at 0x997a5258d0>"
      ]
     },
     "metadata": {},
     "output_type": "display_data"
    },
    {
     "name": "stdout",
     "output_type": "stream",
     "text": [
      "8456\n"
     ]
    },
    {
     "data": {
      "image/png": "[encoded data removed]",
      "text/plain": [
       "<matplotlib.figure.Figure at 0x997a5e4898>"
      ]
     },
     "metadata": {},
     "output_type": "display_data"
    },
    {
     "name": "stdout",
     "output_type": "stream",
     "text": [
      "8466\n"
     ]
    },
    {
     "data": {
      "image/png": "[encoded data removed]",
      "text/plain": [
       "<matplotlib.figure.Figure at 0x997a4fc6d8>"
      ]
     },
     "metadata": {},
     "output_type": "display_data"
    },
    {
     "name": "stdout",
     "output_type": "stream",
     "text": [
      "8472\n"
     ]
    },
    {
     "data": {
      "image/png": "[encoded data removed]",
      "text/plain": [
       "<matplotlib.figure.Figure at 0x997a4038d0>"
      ]
     },
     "metadata": {},
     "output_type": "display_data"
    },
    {
     "name": "stdout",
     "output_type": "stream",
     "text": [
      "8481\n"
     ]
    },
    {
     "data": {
      "image/png": "[encoded data removed]",
      "text/plain": [
       "<matplotlib.figure.Figure at 0x9979d53940>"
      ]
     },
     "metadata": {},
     "output_type": "display_data"
    },
    {
     "name": "stdout",
     "output_type": "stream",
     "text": [
      "8549\n"
     ]
    },
    {
     "data": {
      "image/png": "[encoded data removed]",
      "text/plain": [
       "<matplotlib.figure.Figure at 0x9979d4fb70>"
      ]
     },
     "metadata": {},
     "output_type": "display_data"
    },
    {
     "name": "stdout",
     "output_type": "stream",
     "text": [
      "8550\n"
     ]
    },
    {
     "data": {
      "image/png": "[encoded data removed]",
      "text/plain": [
       "<matplotlib.figure.Figure at 0x9979ffdc18>"
      ]
     },
     "metadata": {},
     "output_type": "display_data"
    },
    {
     "name": "stdout",
     "output_type": "stream",
     "text": [
      "8583\n"
     ]
    },
    {
     "data": {
      "image/png": "[encoded data removed]",
      "text/plain": [
       "<matplotlib.figure.Figure at 0x997a412ba8>"
      ]
     },
     "metadata": {},
     "output_type": "display_data"
    },
    {
     "name": "stdout",
     "output_type": "stream",
     "text": [
      "8586\n"
     ]
    },
    {
     "data": {
      "image/png": "[encoded data removed]",
      "text/plain": [
       "<matplotlib.figure.Figure at 0x997a40a9e8>"
      ]
     },
     "metadata": {},
     "output_type": "display_data"
    },
    {
     "name": "stdout",
     "output_type": "stream",
     "text": [
      "8587\n"
     ]
    },
    {
     "data": {
      "image/png": "[encoded data removed]",
      "text/plain": [
       "<matplotlib.figure.Figure at 0x997a187e10>"
      ]
     },
     "metadata": {},
     "output_type": "display_data"
    },
    {
     "name": "stdout",
     "output_type": "stream",
     "text": [
      "8588\n"
     ]
    },
    {
     "data": {
      "image/png": "[encoded data removed]",
      "text/plain": [
       "<matplotlib.figure.Figure at 0x997a333748>"
      ]
     },
     "metadata": {},
     "output_type": "display_data"
    },
    {
     "name": "stdout",
     "output_type": "stream",
     "text": [
      "8592\n"
     ]
    },
    {
     "data": {
      "image/png": "[encoded data removed]",
      "text/plain": [
       "<matplotlib.figure.Figure at 0x997a1a77f0>"
      ]
     },
     "metadata": {},
     "output_type": "display_data"
    },
    {
     "name": "stdout",
     "output_type": "stream",
     "text": [
      "8639\n"
     ]
    },
    {
     "data": {
      "image/png": "[encoded data removed]",
      "text/plain": [
       "<matplotlib.figure.Figure at 0x997a302390>"
      ]
     },
     "metadata": {},
     "output_type": "display_data"
    },
    {
     "name": "stdout",
     "output_type": "stream",
     "text": [
      "8650\n"
     ]
    },
    {
     "data": {
      "image/png": "[encoded data removed]",
      "text/plain": [
       "<matplotlib.figure.Figure at 0x997a377550>"
      ]
     },
     "metadata": {},
     "output_type": "display_data"
    },
    {
     "name": "stdout",
     "output_type": "stream",
     "text": [
      "8654\n"
     ]
    },
    {
     "data": {
      "image/png": "[encoded data removed]",
      "text/plain": [
       "<matplotlib.figure.Figure at 0x9978e74240>"
      ]
     },
     "metadata": {},
     "output_type": "display_data"
    },
    {
     "name": "stdout",
     "output_type": "stream",
     "text": [
      "8659\n"
     ]
    },
    {
     "data": {
      "image/png": "[encoded data removed]",
      "text/plain": [
       "<matplotlib.figure.Figure at 0x997a380710>"
      ]
     },
     "metadata": {},
     "output_type": "display_data"
    },
    {
     "name": "stdout",
     "output_type": "stream",
     "text": [
      "8667\n"
     ]
    },
    {
     "data": {
      "image/png": "[encoded data removed]",
      "text/plain": [
       "<matplotlib.figure.Figure at 0x9979d4cf60>"
      ]
     },
     "metadata": {},
     "output_type": "display_data"
    },
    {
     "name": "stdout",
     "output_type": "stream",
     "text": [
      "8668\n"
     ]
    },
    {
     "data": {
      "image/png": "[encoded data removed]",
      "text/plain": [
       "<matplotlib.figure.Figure at 0x997a13def0>"
      ]
     },
     "metadata": {},
     "output_type": "display_data"
    },
    {
     "name": "stdout",
     "output_type": "stream",
     "text": [
      "8678\n"
     ]
    },
    {
     "data": {
      "image/png": "[encoded data removed]",
      "text/plain": [
       "<matplotlib.figure.Figure at 0x9977116390>"
      ]
     },
     "metadata": {},
     "output_type": "display_data"
    },
    {
     "name": "stdout",
     "output_type": "stream",
     "text": [
      "8689\n"
     ]
    },
    {
     "data": {
      "image/png": "[encoded data removed]",
      "text/plain": [
       "<matplotlib.figure.Figure at 0x997a380b38>"
      ]
     },
     "metadata": {},
     "output_type": "display_data"
    },
    {
     "name": "stdout",
     "output_type": "stream",
     "text": [
      "9747\n"
     ]
    },
    {
     "data": {
      "image/png": "[encoded data removed]",
      "text/plain": [
       "<matplotlib.figure.Figure at 0x997a4c5a20>"
      ]
     },
     "metadata": {},
     "output_type": "display_data"
    },
    {
     "name": "stdout",
     "output_type": "stream",
     "text": [
      "9748\n"
     ]
    },
    {
     "data": {
      "image/png": "[encoded data removed]",
      "text/plain": [
       "<matplotlib.figure.Figure at 0x997a42f4a8>"
      ]
     },
     "metadata": {},
     "output_type": "display_data"
    },
    {
     "name": "stdout",
     "output_type": "stream",
     "text": [
      "9796\n"
     ]
    },
    {
     "data": {
      "image/png": "[encoded data removed]",
      "text/plain": [
       "<matplotlib.figure.Figure at 0x997a52cb00>"
      ]
     },
     "metadata": {},
     "output_type": "display_data"
    },
    {
     "name": "stdout",
     "output_type": "stream",
     "text": [
      "9817\n"
     ]
    },
    {
     "data": {
      "image/png": "[encoded data removed]",
      "text/plain": [
       "<matplotlib.figure.Figure at 0x997a522278>"
      ]
     },
     "metadata": {},
     "output_type": "display_data"
    },
    {
     "name": "stdout",
     "output_type": "stream",
     "text": [
      "9825\n"
     ]
    },
    {
     "data": {
      "image/png": "[encoded data removed]",
      "text/plain": [
       "<matplotlib.figure.Figure at 0x997a54c0f0>"
      ]
     },
     "metadata": {},
     "output_type": "display_data"
    },
    {
     "name": "stdout",
     "output_type": "stream",
     "text": [
      "9826\n"
     ]
    },
    {
     "data": {
      "image/png": "[encoded data removed]",
      "text/plain": [
       "<matplotlib.figure.Figure at 0x997a5220f0>"
      ]
     },
     "metadata": {},
     "output_type": "display_data"
    },
    {
     "name": "stdout",
     "output_type": "stream",
     "text": [
      "9827\n"
     ]
    },
    {
     "data": {
      "image/png": "[encoded data removed]",
      "text/plain": [
       "<matplotlib.figure.Figure at 0x997712f358>"
      ]
     },
     "metadata": {},
     "output_type": "display_data"
    },
    {
     "name": "stdout",
     "output_type": "stream",
     "text": [
      "9829\n"
     ]
    },
    {
     "data": {
      "image/png": "[encoded data removed]",
      "text/plain": [
       "<matplotlib.figure.Figure at 0x9979d53c50>"
      ]
     },
     "metadata": {},
     "output_type": "display_data"
    },
    {
     "name": "stdout",
     "output_type": "stream",
     "text": [
      "9830\n"
     ]
    },
    {
     "data": {
      "image/png": "[encoded data removed]",
      "text/plain": [
       "<matplotlib.figure.Figure at 0x9978f67ef0>"
      ]
     },
     "metadata": {},
     "output_type": "display_data"
    },
    {
     "name": "stdout",
     "output_type": "stream",
     "text": [
      "9831\n"
     ]
    },
    {
     "data": {
      "image/png": "[encoded data removed]",
      "text/plain": [
       "<matplotlib.figure.Figure at 0x9979fe0ef0>"
      ]
     },
     "metadata": {},
     "output_type": "display_data"
    },
    {
     "name": "stdout",
     "output_type": "stream",
     "text": [
      "9836\n"
     ]
    },
    {
     "data": {
      "image/png": "[encoded data removed]",
      "text/plain": [
       "<matplotlib.figure.Figure at 0x997a41d4e0>"
      ]
     },
     "metadata": {},
     "output_type": "display_data"
    },
    {
     "name": "stdout",
     "output_type": "stream",
     "text": [
      "9837\n"
     ]
    },
    {
     "data": {
      "image/png": "[encoded data removed]",
      "text/plain": [
       "<matplotlib.figure.Figure at 0x997a4c4198>"
      ]
     },
     "metadata": {},
     "output_type": "display_data"
    },
    {
     "name": "stdout",
     "output_type": "stream",
     "text": [
      "9847\n"
     ]
    },
    {
     "data": {
      "image/png": "[encoded data removed]",
      "text/plain": [
       "<matplotlib.figure.Figure at 0x997a13b668>"
      ]
     },
     "metadata": {},
     "output_type": "display_data"
    },
    {
     "name": "stdout",
     "output_type": "stream",
     "text": [
      "9848\n"
     ]
    },
    {
     "data": {
      "image/png": "[encoded data removed]",
      "text/plain": [
       "<matplotlib.figure.Figure at 0x997a32d390>"
      ]
     },
     "metadata": {},
     "output_type": "display_data"
    },
    {
     "name": "stdout",
     "output_type": "stream",
     "text": [
      "9850\n"
     ]
    },
    {
     "data": {
      "image/png": "[encoded data removed]",
      "text/plain": [
       "<matplotlib.figure.Figure at 0x997a24ee80>"
      ]
     },
     "metadata": {},
     "output_type": "display_data"
    },
    {
     "name": "stdout",
     "output_type": "stream",
     "text": [
      "9851\n"
     ]
    },
    {
     "data": {
      "image/png": "[encoded data removed]",
      "text/plain": [
       "<matplotlib.figure.Figure at 0x997a1c0470>"
      ]
     },
     "metadata": {},
     "output_type": "display_data"
    },
    {
     "name": "stdout",
     "output_type": "stream",
     "text": [
      "9853\n"
     ]
    },
    {
     "data": {
      "image/png": "[encoded data removed]",
      "text/plain": [
       "<matplotlib.figure.Figure at 0x997a28db70>"
      ]
     },
     "metadata": {},
     "output_type": "display_data"
    },
    {
     "name": "stdout",
     "output_type": "stream",
     "text": [
      "9941\n"
     ]
    },
    {
     "data": {
      "image/png": "[encoded data removed]",
      "text/plain": [
       "<matplotlib.figure.Figure at 0x997a2319e8>"
      ]
     },
     "metadata": {},
     "output_type": "display_data"
    }
   ],
   "source": [
    "#Teams select\n",
    "stmt = \"\"\"SELECT  TeamId, convert (bigint, minute  ) as Minute, count(*) as count\n",
    "  FROM [FootballData].[dbo].[Corners]\n",
    "  group by convert (bigint, minute  ),TeamId\n",
    "  order by 1,2\"\"\"\n",
    "# Excute Query here\n",
    "df_teams_corners_per_minute = pd.read_sql(stmt,conn)\n",
    "print(df_teams_corners_per_minute.shape)\n",
    "#df_teams_corners_per_minute.head()\n",
    "groups = df_teams_corners_per_minute.groupby(['TeamId'])\n",
    "df_teams_corners_per_minute.describe()\n",
    "import matplotlib.pyplot as plt\n",
    "for group in groups:\n",
    "    #figure()\n",
    "    #plt.\n",
    "    print(group[1].TeamId.values[0])\n",
    "    plt.hist(group[1].Minute, bins=9)\n",
    "    #cumulative=1, density=True, histtype='step'\n",
    "    axes = plt.gca()\n",
    "    axes.set_xlim([0,90])\n",
    "    #axes.set_ylim([0,50])\n",
    "    plt.show()\n",
    "   \n",
    "#hist = df_teams_corners_per_minute.hist(by='Minute')\n",
    "##\n",
    "#df_teams_corners_per_minute['Minute'].hist(by=df_teams_corners_per_minute['count'])\n",
    "  \n",
    "\n",
    "#for group in df_teams_corners_per_minute.groupby(['TeamId']).groups:\n",
    "\n",
    "# import matplotlib.pyplot as plt\n",
    "# import numpy as np\n",
    "# import matplotlib.pyplot as plt\n",
    "# df_teams_corners_per_minute.plot.hist()\n",
    "# plt.show()\n",
    "# plt.hist(df_teams_corners_per_minute, bins='auto')  # arguments are passed to np.histogram\n",
    "# plt.title(\"Histogram with 'auto' bins\")\n",
    "# plt.show()\n",
    "# for team in df_teams_corners_per_minute.groupby(['TeamId']).groups.values:\n",
    "#     team.hist()"
   ]
  },
  {
   "cell_type": "code",
   "execution_count": 94,
   "metadata": {
    "collapsed": true
   },
   "outputs": [],
   "source": [
    "hist = df_corners.groupby(['Minute','TeamId']).head(10).hist(color='k', alpha=0.5, bins=3)\n"
   ]
  },
  {
   "cell_type": "code",
   "execution_count": 95,
   "metadata": {
    "scrolled": false
   },
   "outputs": [
    {
     "name": "stdout",
     "output_type": "stream",
     "text": [
      "(30029, 13)\n"
     ]
    },
    {
     "name": "stderr",
     "output_type": "stream",
     "text": [
      "C:\\Users\\martin\\Anaconda3\\lib\\site-packages\\ipykernel_launcher.py:7: SettingWithCopyWarning: \n",
      "A value is trying to be set on a copy of a slice from a DataFrame.\n",
      "Try using .loc[row_indexer,col_indexer] = value instead\n",
      "\n",
      "See the caveats in the documentation: http://pandas.pydata.org/pandas-docs/stable/indexing.html#indexing-view-versus-copy\n",
      "  import sys\n"
     ]
    },
    {
     "name": "stdout",
     "output_type": "stream",
     "text": [
      "TeamId\n",
      "10003    0\n",
      "10172    1\n",
      "10194    0\n",
      "10252    1\n",
      "10260    1\n",
      "10261    0\n",
      "8191     1\n",
      "8197     1\n",
      "8455     4\n",
      "8456     3\n",
      "8466     1\n",
      "8472     2\n",
      "8586     3\n",
      "8650     0\n",
      "8654     2\n",
      "8659     2\n",
      "8667     0\n",
      "8668     3\n",
      "8678     1\n",
      "9817     0\n",
      "9825     1\n",
      "9826     0\n",
      "9850     0\n",
      "Name: Minute, dtype: int64\n",
      "TeamId\n",
      "10003    1\n",
      "10172    1\n",
      "10194    3\n",
      "10252    0\n",
      "10260    3\n",
      "10261    0\n",
      "8191     0\n",
      "8197     5\n",
      "8455     1\n",
      "8456     2\n",
      "8466     5\n",
      "8472     1\n",
      "8586     3\n",
      "8650     0\n",
      "8654     1\n",
      "8659     0\n",
      "8667     2\n",
      "8668     2\n",
      "8678     0\n",
      "9817     1\n",
      "9825     3\n",
      "9826     1\n",
      "9850     0\n",
      "Name: Minute, dtype: int64\n",
      "TeamId\n",
      "10003    1\n",
      "10172    0\n",
      "10194    3\n",
      "10252    0\n",
      "10260    3\n",
      "10261    2\n",
      "8191     0\n",
      "8197     1\n",
      "8455     2\n",
      "8456     4\n",
      "8466     2\n",
      "8472     2\n",
      "8586     2\n",
      "8650     2\n",
      "8654     1\n",
      "8659     0\n",
      "8667     0\n",
      "8668     1\n",
      "8678     0\n",
      "9817     0\n",
      "9825     0\n",
      "9826     1\n",
      "9850     0\n",
      "Name: Minute, dtype: int64\n",
      "TeamId\n",
      "10003    2\n",
      "10172    0\n",
      "10194    1\n",
      "10252    2\n",
      "10260    1\n",
      "10261    0\n",
      "8191     1\n",
      "8197     1\n",
      "8455     1\n",
      "8456     4\n",
      "8466     5\n",
      "8472     0\n",
      "8586     1\n",
      "8650     0\n",
      "8654     1\n",
      "8659     2\n",
      "8667     2\n",
      "8668     1\n",
      "8678     0\n",
      "9817     1\n",
      "9825     5\n",
      "9826     1\n",
      "9850     0\n",
      "Name: Minute, dtype: int64\n",
      "TeamId\n",
      "10003    1\n",
      "10172    1\n",
      "10194    3\n",
      "10252    1\n",
      "10260    2\n",
      "10261    5\n",
      "8191     0\n",
      "8197     2\n",
      "8455     2\n",
      "8456     0\n",
      "8466     0\n",
      "8472     2\n",
      "8586     2\n",
      "8650     4\n",
      "8654     1\n",
      "8659     3\n",
      "8667     3\n",
      "8668     4\n",
      "8678     0\n",
      "9817     2\n",
      "9825     1\n",
      "9826     3\n",
      "9850     0\n",
      "Name: Minute, dtype: int64\n",
      "TeamId\n",
      "10003    2\n",
      "10172    2\n",
      "10194    2\n",
      "10252    0\n",
      "10260    3\n",
      "10261    2\n",
      "8191     0\n",
      "8197     4\n",
      "8455     5\n",
      "8456     1\n",
      "8466     2\n",
      "8472     2\n",
      "8586     3\n",
      "8650     0\n",
      "8654     3\n",
      "8659     4\n",
      "8667     0\n",
      "8668     1\n",
      "8678     0\n",
      "9817     0\n",
      "9825     0\n",
      "9826     5\n",
      "9850     0\n",
      "Name: Minute, dtype: int64\n",
      "TeamId\n",
      "10003    3\n",
      "10172    4\n",
      "10194    0\n",
      "10252    1\n",
      "10260    1\n",
      "10261    0\n",
      "8191     1\n",
      "8197     6\n",
      "8455     1\n",
      "8456     4\n",
      "8466     3\n",
      "8472     2\n",
      "8586     3\n",
      "8650     2\n",
      "8654     2\n",
      "8659     1\n",
      "8667     3\n",
      "8668     3\n",
      "8678     0\n",
      "9817     1\n",
      "9825     2\n",
      "9826     0\n",
      "9850     1\n",
      "Name: Minute, dtype: int64\n",
      "TeamId\n",
      "10003    0\n",
      "10172    0\n",
      "10194    1\n",
      "10252    2\n",
      "10260    1\n",
      "10261    3\n",
      "8191     0\n",
      "8197     2\n",
      "8455     3\n",
      "8456     3\n",
      "8466     3\n",
      "8472     2\n",
      "8586     0\n",
      "8650     2\n",
      "8654     2\n",
      "8659     1\n",
      "8667     0\n",
      "8668     3\n",
      "8678     0\n",
      "9817     1\n",
      "9825     4\n",
      "9826     0\n",
      "9850     1\n",
      "Name: Minute, dtype: int64\n",
      "TeamId\n",
      "10003    2\n",
      "10172    2\n",
      "10194    1\n",
      "10252    0\n",
      "10260    2\n",
      "10261    2\n",
      "8191     1\n",
      "8197     2\n",
      "8455     2\n",
      "8456     8\n",
      "8466     2\n",
      "8472     3\n",
      "8586     2\n",
      "8650     2\n",
      "8654     2\n",
      "8659     1\n",
      "8667     1\n",
      "8668     3\n",
      "8678     0\n",
      "9817     1\n",
      "9825     0\n",
      "9826     1\n",
      "9850     1\n",
      "Name: Minute, dtype: int64\n"
     ]
    }
   ],
   "source": [
    "goals = pd.merge(df_goals.set_index(\"MatchId\"), df_matches.set_index(\"ExternalId\"), how='left')\n",
    "#result = goals[goals['Minute'].notnull()]\n",
    "print(result.shape)\n",
    "premier_league = goals[(goals['League'] == 'Premier League') & (goals['Season'] == '2016/2017')]\n",
    "premier_league.head()\n",
    "\n",
    "premier_league['Minute'] = premier_league['Minute'].astype(int)\n",
    "#premier_league.loc[premier_league['Minute']] = premier_league['Minute'].astype(int)\n",
    "\n",
    "for number in range(0, 90, 10):\n",
    "    from_minute = number\n",
    "    to_minute = number + 10\n",
    "    goals = premier_league.groupby(['TeamId'])['Minute'].apply(lambda x: len(x.where(lambda y : y > from_minute).where(lambda z:z < to_minute).dropna()))   \n",
    "    print(goals)\n",
    "#goals_teams = goa\n",
    "#len(teams.groups)"
   ]
  },
  {
   "cell_type": "code",
   "execution_count": 96,
   "metadata": {},
   "outputs": [
    {
     "name": "stdout",
     "output_type": "stream",
     "text": [
      "(30029, 13)\n"
     ]
    },
    {
     "data": {
      "text/html": [
       "<div>\n",
       "<style>\n",
       "    .dataframe thead tr:only-child th {\n",
       "        text-align: right;\n",
       "    }\n",
       "\n",
       "    .dataframe thead th {\n",
       "        text-align: left;\n",
       "    }\n",
       "\n",
       "    .dataframe tbody tr th {\n",
       "        vertical-align: top;\n",
       "    }\n",
       "</style>\n",
       "<table border=\"1\" class=\"dataframe\">\n",
       "  <thead>\n",
       "    <tr style=\"text-align: right;\">\n",
       "      <th></th>\n",
       "      <th>Id</th>\n",
       "      <th>ExternalId</th>\n",
       "      <th>Minute</th>\n",
       "      <th>Player1</th>\n",
       "      <th>HomeTeamId</th>\n",
       "      <th>Date</th>\n",
       "      <th>Country</th>\n",
       "      <th>League</th>\n",
       "      <th>Season</th>\n",
       "      <th>Stage</th>\n",
       "      <th>Player_Id</th>\n",
       "      <th>FullNameHome</th>\n",
       "      <th>AcronymHome</th>\n",
       "      <th>FullName</th>\n",
       "      <th>Acronym</th>\n",
       "    </tr>\n",
       "  </thead>\n",
       "  <tbody>\n",
       "    <tr>\n",
       "      <th>0</th>\n",
       "      <td>1</td>\n",
       "      <td>3652595</td>\n",
       "      <td>5</td>\n",
       "      <td>None</td>\n",
       "      <td>8455</td>\n",
       "      <td>2014-08-18 15:00:00</td>\n",
       "      <td>England</td>\n",
       "      <td>Premier League</td>\n",
       "      <td>2014/2015</td>\n",
       "      <td>1</td>\n",
       "      <td>None</td>\n",
       "      <td>Liverpool</td>\n",
       "      <td>SOU</td>\n",
       "      <td>Liverpool</td>\n",
       "      <td>SOU</td>\n",
       "    </tr>\n",
       "    <tr>\n",
       "      <th>1</th>\n",
       "      <td>2</td>\n",
       "      <td>3647429</td>\n",
       "      <td>15</td>\n",
       "      <td>None</td>\n",
       "      <td>9825</td>\n",
       "      <td>2014-08-18 15:00:00</td>\n",
       "      <td>England</td>\n",
       "      <td>Premier League</td>\n",
       "      <td>2014/2015</td>\n",
       "      <td>1</td>\n",
       "      <td>None</td>\n",
       "      <td>Burnley</td>\n",
       "      <td>CHE</td>\n",
       "      <td>Burnley</td>\n",
       "      <td>CHE</td>\n",
       "    </tr>\n",
       "    <tr>\n",
       "      <th>2</th>\n",
       "      <td>3</td>\n",
       "      <td>3649357</td>\n",
       "      <td>9</td>\n",
       "      <td>None</td>\n",
       "      <td>8650</td>\n",
       "      <td>2014-08-18 15:00:00</td>\n",
       "      <td>England</td>\n",
       "      <td>Premier League</td>\n",
       "      <td>2014/2015</td>\n",
       "      <td>1</td>\n",
       "      <td>None</td>\n",
       "      <td>Leicester</td>\n",
       "      <td>EVE</td>\n",
       "      <td>Leicester</td>\n",
       "      <td>EVE</td>\n",
       "    </tr>\n",
       "    <tr>\n",
       "      <th>3</th>\n",
       "      <td>4</td>\n",
       "      <td>3645873</td>\n",
       "      <td>16</td>\n",
       "      <td>None</td>\n",
       "      <td>8197</td>\n",
       "      <td>2014-08-18 15:00:00</td>\n",
       "      <td>England</td>\n",
       "      <td>Premier League</td>\n",
       "      <td>2014/2015</td>\n",
       "      <td>1</td>\n",
       "      <td>None</td>\n",
       "      <td>Arsenal</td>\n",
       "      <td>CRY</td>\n",
       "      <td>Arsenal</td>\n",
       "      <td>CRY</td>\n",
       "    </tr>\n",
       "    <tr>\n",
       "      <th>4</th>\n",
       "      <td>5</td>\n",
       "      <td>3647542</td>\n",
       "      <td>30</td>\n",
       "      <td>None</td>\n",
       "      <td>9825</td>\n",
       "      <td>2014-08-18 15:00:00</td>\n",
       "      <td>England</td>\n",
       "      <td>Premier League</td>\n",
       "      <td>2014/2015</td>\n",
       "      <td>1</td>\n",
       "      <td>None</td>\n",
       "      <td>Everton</td>\n",
       "      <td>LEI</td>\n",
       "      <td>Everton</td>\n",
       "      <td>LEI</td>\n",
       "    </tr>\n",
       "    <tr>\n",
       "      <th>5</th>\n",
       "      <td>6</td>\n",
       "      <td>3645920</td>\n",
       "      <td>20</td>\n",
       "      <td>None</td>\n",
       "      <td>8668</td>\n",
       "      <td>2014-08-18 15:00:00</td>\n",
       "      <td>England</td>\n",
       "      <td>Premier League</td>\n",
       "      <td>2014/2015</td>\n",
       "      <td>1</td>\n",
       "      <td>None</td>\n",
       "      <td>Chelsea</td>\n",
       "      <td>BUR</td>\n",
       "      <td>Chelsea</td>\n",
       "      <td>BUR</td>\n",
       "    </tr>\n",
       "    <tr>\n",
       "      <th>6</th>\n",
       "      <td>7</td>\n",
       "      <td>3649428</td>\n",
       "      <td>22</td>\n",
       "      <td>None</td>\n",
       "      <td>8466</td>\n",
       "      <td>2014-08-18 15:00:00</td>\n",
       "      <td>England</td>\n",
       "      <td>Premier League</td>\n",
       "      <td>2014/2015</td>\n",
       "      <td>1</td>\n",
       "      <td>None</td>\n",
       "      <td>Crystal Palace</td>\n",
       "      <td>ARS</td>\n",
       "      <td>Crystal Palace</td>\n",
       "      <td>ARS</td>\n",
       "    </tr>\n",
       "    <tr>\n",
       "      <th>7</th>\n",
       "      <td>8</td>\n",
       "      <td>3652617</td>\n",
       "      <td>11</td>\n",
       "      <td>None</td>\n",
       "      <td>8455</td>\n",
       "      <td>2014-08-18 15:00:00</td>\n",
       "      <td>England</td>\n",
       "      <td>Premier League</td>\n",
       "      <td>2014/2015</td>\n",
       "      <td>1</td>\n",
       "      <td>None</td>\n",
       "      <td>Southampton</td>\n",
       "      <td>LIV</td>\n",
       "      <td>Southampton</td>\n",
       "      <td>LIV</td>\n",
       "    </tr>\n",
       "    <tr>\n",
       "      <th>8</th>\n",
       "      <td>9</td>\n",
       "      <td>3647566</td>\n",
       "      <td>35</td>\n",
       "      <td>None</td>\n",
       "      <td>9826</td>\n",
       "      <td>2014-08-18 15:00:00</td>\n",
       "      <td>England</td>\n",
       "      <td>Premier League</td>\n",
       "      <td>2014/2015</td>\n",
       "      <td>1</td>\n",
       "      <td>None</td>\n",
       "      <td>Arsenal</td>\n",
       "      <td>CRY</td>\n",
       "      <td>Arsenal</td>\n",
       "      <td>CRY</td>\n",
       "    </tr>\n",
       "    <tr>\n",
       "      <th>9</th>\n",
       "      <td>10</td>\n",
       "      <td>3649444</td>\n",
       "      <td>28</td>\n",
       "      <td>None</td>\n",
       "      <td>8650</td>\n",
       "      <td>2014-11-03 15:00:00</td>\n",
       "      <td>England</td>\n",
       "      <td>Premier League</td>\n",
       "      <td>2014/2015</td>\n",
       "      <td>10</td>\n",
       "      <td>None</td>\n",
       "      <td>Leicester</td>\n",
       "      <td>EVE</td>\n",
       "      <td>Leicester</td>\n",
       "      <td>EVE</td>\n",
       "    </tr>\n",
       "    <tr>\n",
       "      <th>10</th>\n",
       "      <td>11</td>\n",
       "      <td>3645940</td>\n",
       "      <td>22</td>\n",
       "      <td>None</td>\n",
       "      <td>8197</td>\n",
       "      <td>2014-08-18 15:00:00</td>\n",
       "      <td>England</td>\n",
       "      <td>Premier League</td>\n",
       "      <td>2014/2015</td>\n",
       "      <td>1</td>\n",
       "      <td>None</td>\n",
       "      <td>Burnley</td>\n",
       "      <td>CHE</td>\n",
       "      <td>Burnley</td>\n",
       "      <td>CHE</td>\n",
       "    </tr>\n",
       "    <tr>\n",
       "      <th>11</th>\n",
       "      <td>12</td>\n",
       "      <td>3652626</td>\n",
       "      <td>13</td>\n",
       "      <td>None</td>\n",
       "      <td>8191</td>\n",
       "      <td>2014-11-03 15:00:00</td>\n",
       "      <td>England</td>\n",
       "      <td>Premier League</td>\n",
       "      <td>2014/2015</td>\n",
       "      <td>10</td>\n",
       "      <td>None</td>\n",
       "      <td>Crystal Palace</td>\n",
       "      <td>ARS</td>\n",
       "      <td>Crystal Palace</td>\n",
       "      <td>ARS</td>\n",
       "    </tr>\n",
       "    <tr>\n",
       "      <th>12</th>\n",
       "      <td>13</td>\n",
       "      <td>3649474</td>\n",
       "      <td>35</td>\n",
       "      <td>None</td>\n",
       "      <td>8466</td>\n",
       "      <td>2014-11-03 15:00:00</td>\n",
       "      <td>England</td>\n",
       "      <td>Premier League</td>\n",
       "      <td>2014/2015</td>\n",
       "      <td>10</td>\n",
       "      <td>None</td>\n",
       "      <td>Everton</td>\n",
       "      <td>LEI</td>\n",
       "      <td>Everton</td>\n",
       "      <td>LEI</td>\n",
       "    </tr>\n",
       "    <tr>\n",
       "      <th>13</th>\n",
       "      <td>14</td>\n",
       "      <td>3645992</td>\n",
       "      <td>26</td>\n",
       "      <td>None</td>\n",
       "      <td>8668</td>\n",
       "      <td>2014-11-03 15:00:00</td>\n",
       "      <td>England</td>\n",
       "      <td>Premier League</td>\n",
       "      <td>2014/2015</td>\n",
       "      <td>10</td>\n",
       "      <td>None</td>\n",
       "      <td>Chelsea</td>\n",
       "      <td>BUR</td>\n",
       "      <td>Chelsea</td>\n",
       "      <td>BUR</td>\n",
       "    </tr>\n",
       "    <tr>\n",
       "      <th>14</th>\n",
       "      <td>15</td>\n",
       "      <td>3652667</td>\n",
       "      <td>29</td>\n",
       "      <td>None</td>\n",
       "      <td>8191</td>\n",
       "      <td>2014-11-03 15:00:00</td>\n",
       "      <td>England</td>\n",
       "      <td>Premier League</td>\n",
       "      <td>2014/2015</td>\n",
       "      <td>10</td>\n",
       "      <td>None</td>\n",
       "      <td>Liverpool</td>\n",
       "      <td>SOU</td>\n",
       "      <td>Liverpool</td>\n",
       "      <td>SOU</td>\n",
       "    </tr>\n",
       "    <tr>\n",
       "      <th>15</th>\n",
       "      <td>16</td>\n",
       "      <td>3647584</td>\n",
       "      <td>38</td>\n",
       "      <td>None</td>\n",
       "      <td>9825</td>\n",
       "      <td>2014-11-03 15:00:00</td>\n",
       "      <td>England</td>\n",
       "      <td>Premier League</td>\n",
       "      <td>2014/2015</td>\n",
       "      <td>10</td>\n",
       "      <td>None</td>\n",
       "      <td>Southampton</td>\n",
       "      <td>LIV</td>\n",
       "      <td>Southampton</td>\n",
       "      <td>LIV</td>\n",
       "    </tr>\n",
       "    <tr>\n",
       "      <th>16</th>\n",
       "      <td>17</td>\n",
       "      <td>3646069</td>\n",
       "      <td>34</td>\n",
       "      <td>None</td>\n",
       "      <td>8668</td>\n",
       "      <td>2014-11-03 15:00:00</td>\n",
       "      <td>England</td>\n",
       "      <td>Premier League</td>\n",
       "      <td>2014/2015</td>\n",
       "      <td>10</td>\n",
       "      <td>None</td>\n",
       "      <td>Stoke</td>\n",
       "      <td>AVL</td>\n",
       "      <td>Stoke</td>\n",
       "      <td>AVL</td>\n",
       "    </tr>\n",
       "    <tr>\n",
       "      <th>17</th>\n",
       "      <td>18</td>\n",
       "      <td>3647664</td>\n",
       "      <td>45</td>\n",
       "      <td>None</td>\n",
       "      <td>9825</td>\n",
       "      <td>2014-11-03 15:00:00</td>\n",
       "      <td>England</td>\n",
       "      <td>Premier League</td>\n",
       "      <td>2014/2015</td>\n",
       "      <td>10</td>\n",
       "      <td>None</td>\n",
       "      <td>Manchester United</td>\n",
       "      <td>SWA</td>\n",
       "      <td>Manchester United</td>\n",
       "      <td>SWA</td>\n",
       "    </tr>\n",
       "    <tr>\n",
       "      <th>18</th>\n",
       "      <td>19</td>\n",
       "      <td>3649522</td>\n",
       "      <td>41</td>\n",
       "      <td>None</td>\n",
       "      <td>8466</td>\n",
       "      <td>2014-11-03 15:00:00</td>\n",
       "      <td>England</td>\n",
       "      <td>Premier League</td>\n",
       "      <td>2014/2015</td>\n",
       "      <td>10</td>\n",
       "      <td>None</td>\n",
       "      <td>Queens Park Rangers</td>\n",
       "      <td>HUL</td>\n",
       "      <td>Queens Park Rangers</td>\n",
       "      <td>HUL</td>\n",
       "    </tr>\n",
       "    <tr>\n",
       "      <th>19</th>\n",
       "      <td>20</td>\n",
       "      <td>3652682</td>\n",
       "      <td>34</td>\n",
       "      <td>None</td>\n",
       "      <td>8455</td>\n",
       "      <td>2014-11-03 15:00:00</td>\n",
       "      <td>England</td>\n",
       "      <td>Premier League</td>\n",
       "      <td>2014/2015</td>\n",
       "      <td>10</td>\n",
       "      <td>None</td>\n",
       "      <td>Newcastle United</td>\n",
       "      <td>MCI</td>\n",
       "      <td>Newcastle United</td>\n",
       "      <td>MCI</td>\n",
       "    </tr>\n",
       "    <tr>\n",
       "      <th>20</th>\n",
       "      <td>21</td>\n",
       "      <td>3652741</td>\n",
       "      <td>49</td>\n",
       "      <td>None</td>\n",
       "      <td>8191</td>\n",
       "      <td>2014-11-09 11:00:00</td>\n",
       "      <td>England</td>\n",
       "      <td>Premier League</td>\n",
       "      <td>2014/2015</td>\n",
       "      <td>11</td>\n",
       "      <td>None</td>\n",
       "      <td>Swansea</td>\n",
       "      <td>MUN</td>\n",
       "      <td>Swansea</td>\n",
       "      <td>MUN</td>\n",
       "    </tr>\n",
       "    <tr>\n",
       "      <th>21</th>\n",
       "      <td>22</td>\n",
       "      <td>3649557</td>\n",
       "      <td>45</td>\n",
       "      <td>None</td>\n",
       "      <td>8466</td>\n",
       "      <td>2014-11-09 11:00:00</td>\n",
       "      <td>England</td>\n",
       "      <td>Premier League</td>\n",
       "      <td>2014/2015</td>\n",
       "      <td>11</td>\n",
       "      <td>None</td>\n",
       "      <td>Aston Villa</td>\n",
       "      <td>STK</td>\n",
       "      <td>Aston Villa</td>\n",
       "      <td>STK</td>\n",
       "    </tr>\n",
       "    <tr>\n",
       "      <th>22</th>\n",
       "      <td>23</td>\n",
       "      <td>3647790</td>\n",
       "      <td>48</td>\n",
       "      <td>None</td>\n",
       "      <td>9826</td>\n",
       "      <td>2014-11-09 11:00:00</td>\n",
       "      <td>England</td>\n",
       "      <td>Premier League</td>\n",
       "      <td>2014/2015</td>\n",
       "      <td>11</td>\n",
       "      <td>None</td>\n",
       "      <td>Hull</td>\n",
       "      <td>QPR</td>\n",
       "      <td>Hull</td>\n",
       "      <td>QPR</td>\n",
       "    </tr>\n",
       "    <tr>\n",
       "      <th>23</th>\n",
       "      <td>24</td>\n",
       "      <td>3646077</td>\n",
       "      <td>34</td>\n",
       "      <td>None</td>\n",
       "      <td>8668</td>\n",
       "      <td>2014-11-09 11:00:00</td>\n",
       "      <td>England</td>\n",
       "      <td>Premier League</td>\n",
       "      <td>2014/2015</td>\n",
       "      <td>11</td>\n",
       "      <td>None</td>\n",
       "      <td>Manchester City</td>\n",
       "      <td>NEW</td>\n",
       "      <td>Manchester City</td>\n",
       "      <td>NEW</td>\n",
       "    </tr>\n",
       "    <tr>\n",
       "      <th>24</th>\n",
       "      <td>25</td>\n",
       "      <td>3652747</td>\n",
       "      <td>50</td>\n",
       "      <td>None</td>\n",
       "      <td>8191</td>\n",
       "      <td>2014-11-09 11:00:00</td>\n",
       "      <td>England</td>\n",
       "      <td>Premier League</td>\n",
       "      <td>2014/2015</td>\n",
       "      <td>11</td>\n",
       "      <td>None</td>\n",
       "      <td>Manchester United</td>\n",
       "      <td>SWA</td>\n",
       "      <td>Manchester United</td>\n",
       "      <td>SWA</td>\n",
       "    </tr>\n",
       "    <tr>\n",
       "      <th>25</th>\n",
       "      <td>26</td>\n",
       "      <td>3646676</td>\n",
       "      <td>74</td>\n",
       "      <td>None</td>\n",
       "      <td>8197</td>\n",
       "      <td>2014-11-09 11:00:00</td>\n",
       "      <td>England</td>\n",
       "      <td>Premier League</td>\n",
       "      <td>2014/2015</td>\n",
       "      <td>11</td>\n",
       "      <td>None</td>\n",
       "      <td>Swansea</td>\n",
       "      <td>MUN</td>\n",
       "      <td>Swansea</td>\n",
       "      <td>MUN</td>\n",
       "    </tr>\n",
       "    <tr>\n",
       "      <th>26</th>\n",
       "      <td>27</td>\n",
       "      <td>3649645</td>\n",
       "      <td>51</td>\n",
       "      <td>None</td>\n",
       "      <td>8466</td>\n",
       "      <td>2014-11-09 11:00:00</td>\n",
       "      <td>England</td>\n",
       "      <td>Premier League</td>\n",
       "      <td>2014/2015</td>\n",
       "      <td>11</td>\n",
       "      <td>None</td>\n",
       "      <td>Newcastle United</td>\n",
       "      <td>MCI</td>\n",
       "      <td>Newcastle United</td>\n",
       "      <td>MCI</td>\n",
       "    </tr>\n",
       "    <tr>\n",
       "      <th>27</th>\n",
       "      <td>28</td>\n",
       "      <td>3647887</td>\n",
       "      <td>59</td>\n",
       "      <td>None</td>\n",
       "      <td>9825</td>\n",
       "      <td>2014-11-09 11:00:00</td>\n",
       "      <td>England</td>\n",
       "      <td>Premier League</td>\n",
       "      <td>2014/2015</td>\n",
       "      <td>11</td>\n",
       "      <td>None</td>\n",
       "      <td>Manchester City</td>\n",
       "      <td>NEW</td>\n",
       "      <td>Manchester City</td>\n",
       "      <td>NEW</td>\n",
       "    </tr>\n",
       "    <tr>\n",
       "      <th>28</th>\n",
       "      <td>29</td>\n",
       "      <td>3646888</td>\n",
       "      <td>89</td>\n",
       "      <td>None</td>\n",
       "      <td>8668</td>\n",
       "      <td>2014-11-09 11:00:00</td>\n",
       "      <td>England</td>\n",
       "      <td>Premier League</td>\n",
       "      <td>2014/2015</td>\n",
       "      <td>11</td>\n",
       "      <td>None</td>\n",
       "      <td>Stoke</td>\n",
       "      <td>AVL</td>\n",
       "      <td>Stoke</td>\n",
       "      <td>AVL</td>\n",
       "    </tr>\n",
       "    <tr>\n",
       "      <th>29</th>\n",
       "      <td>30</td>\n",
       "      <td>3647945</td>\n",
       "      <td>65</td>\n",
       "      <td>None</td>\n",
       "      <td>9825</td>\n",
       "      <td>2014-11-09 11:00:00</td>\n",
       "      <td>England</td>\n",
       "      <td>Premier League</td>\n",
       "      <td>2014/2015</td>\n",
       "      <td>11</td>\n",
       "      <td>None</td>\n",
       "      <td>Aston Villa</td>\n",
       "      <td>STK</td>\n",
       "      <td>Aston Villa</td>\n",
       "      <td>STK</td>\n",
       "    </tr>\n",
       "    <tr>\n",
       "      <th>...</th>\n",
       "      <td>...</td>\n",
       "      <td>...</td>\n",
       "      <td>...</td>\n",
       "      <td>...</td>\n",
       "      <td>...</td>\n",
       "      <td>...</td>\n",
       "      <td>...</td>\n",
       "      <td>...</td>\n",
       "      <td>...</td>\n",
       "      <td>...</td>\n",
       "      <td>...</td>\n",
       "      <td>...</td>\n",
       "      <td>...</td>\n",
       "      <td>...</td>\n",
       "      <td>...</td>\n",
       "    </tr>\n",
       "    <tr>\n",
       "      <th>5040</th>\n",
       "      <td>5041</td>\n",
       "      <td>5132371</td>\n",
       "      <td>48</td>\n",
       "      <td>None</td>\n",
       "      <td>9817</td>\n",
       "      <td>2017-09-16 09:00:00</td>\n",
       "      <td>France</td>\n",
       "      <td>Ligue 2</td>\n",
       "      <td>2017/2018</td>\n",
       "      <td>7</td>\n",
       "      <td>None</td>\n",
       "      <td>Lorient</td>\n",
       "      <td>REN</td>\n",
       "      <td>Lorient</td>\n",
       "      <td>REN</td>\n",
       "    </tr>\n",
       "    <tr>\n",
       "      <th>5041</th>\n",
       "      <td>5042</td>\n",
       "      <td>5132236</td>\n",
       "      <td>42</td>\n",
       "      <td>None</td>\n",
       "      <td>8456</td>\n",
       "      <td>2017-09-16 09:00:00</td>\n",
       "      <td>France</td>\n",
       "      <td>Ligue 2</td>\n",
       "      <td>2017/2018</td>\n",
       "      <td>7</td>\n",
       "      <td>None</td>\n",
       "      <td>Rennes</td>\n",
       "      <td>LOR</td>\n",
       "      <td>Rennes</td>\n",
       "      <td>LOR</td>\n",
       "    </tr>\n",
       "    <tr>\n",
       "      <th>5042</th>\n",
       "      <td>5043</td>\n",
       "      <td>5132375</td>\n",
       "      <td>49</td>\n",
       "      <td>None</td>\n",
       "      <td>8456</td>\n",
       "      <td>2017-09-16 09:00:00</td>\n",
       "      <td>France</td>\n",
       "      <td>Ligue 2</td>\n",
       "      <td>2017/2018</td>\n",
       "      <td>7</td>\n",
       "      <td>None</td>\n",
       "      <td>Lille</td>\n",
       "      <td>REI</td>\n",
       "      <td>Lille</td>\n",
       "      <td>REI</td>\n",
       "    </tr>\n",
       "    <tr>\n",
       "      <th>5043</th>\n",
       "      <td>5044</td>\n",
       "      <td>5132389</td>\n",
       "      <td>49</td>\n",
       "      <td>None</td>\n",
       "      <td>8455</td>\n",
       "      <td>2017-09-16 09:00:00</td>\n",
       "      <td>France</td>\n",
       "      <td>Ligue 2</td>\n",
       "      <td>2017/2018</td>\n",
       "      <td>7</td>\n",
       "      <td>None</td>\n",
       "      <td>Reims</td>\n",
       "      <td>LIL</td>\n",
       "      <td>Reims</td>\n",
       "      <td>LIL</td>\n",
       "    </tr>\n",
       "    <tr>\n",
       "      <th>5044</th>\n",
       "      <td>5045</td>\n",
       "      <td>5132401</td>\n",
       "      <td>50</td>\n",
       "      <td>None</td>\n",
       "      <td>8455</td>\n",
       "      <td>2017-09-16 09:00:00</td>\n",
       "      <td>France</td>\n",
       "      <td>Ligue 2</td>\n",
       "      <td>2017/2018</td>\n",
       "      <td>7</td>\n",
       "      <td>None</td>\n",
       "      <td>Metz</td>\n",
       "      <td>TOU</td>\n",
       "      <td>Metz</td>\n",
       "      <td>TOU</td>\n",
       "    </tr>\n",
       "    <tr>\n",
       "      <th>5045</th>\n",
       "      <td>5046</td>\n",
       "      <td>5132410</td>\n",
       "      <td>51</td>\n",
       "      <td>None</td>\n",
       "      <td>8456</td>\n",
       "      <td>2017-09-16 09:00:00</td>\n",
       "      <td>France</td>\n",
       "      <td>Ligue 2</td>\n",
       "      <td>2017/2018</td>\n",
       "      <td>7</td>\n",
       "      <td>None</td>\n",
       "      <td>Toulouse</td>\n",
       "      <td>MET</td>\n",
       "      <td>Toulouse</td>\n",
       "      <td>MET</td>\n",
       "    </tr>\n",
       "    <tr>\n",
       "      <th>5046</th>\n",
       "      <td>5047</td>\n",
       "      <td>5132537</td>\n",
       "      <td>58</td>\n",
       "      <td>None</td>\n",
       "      <td>8472</td>\n",
       "      <td>2017-09-16 09:00:00</td>\n",
       "      <td>France</td>\n",
       "      <td>Ligue 2</td>\n",
       "      <td>2017/2018</td>\n",
       "      <td>7</td>\n",
       "      <td>None</td>\n",
       "      <td>Monaco</td>\n",
       "      <td>ETI</td>\n",
       "      <td>Monaco</td>\n",
       "      <td>ETI</td>\n",
       "    </tr>\n",
       "    <tr>\n",
       "      <th>5047</th>\n",
       "      <td>5048</td>\n",
       "      <td>5132647</td>\n",
       "      <td>65</td>\n",
       "      <td>None</td>\n",
       "      <td>8456</td>\n",
       "      <td>2017-09-16 09:00:00</td>\n",
       "      <td>France</td>\n",
       "      <td>Ligue 2</td>\n",
       "      <td>2017/2018</td>\n",
       "      <td>7</td>\n",
       "      <td>None</td>\n",
       "      <td>Saint-Etienne</td>\n",
       "      <td>MON</td>\n",
       "      <td>Saint-Etienne</td>\n",
       "      <td>MON</td>\n",
       "    </tr>\n",
       "    <tr>\n",
       "      <th>5048</th>\n",
       "      <td>5049</td>\n",
       "      <td>5133055</td>\n",
       "      <td>90</td>\n",
       "      <td>None</td>\n",
       "      <td>8456</td>\n",
       "      <td>2017-09-16 09:00:00</td>\n",
       "      <td>France</td>\n",
       "      <td>Ligue 2</td>\n",
       "      <td>2017/2018</td>\n",
       "      <td>7</td>\n",
       "      <td>None</td>\n",
       "      <td>Marseille</td>\n",
       "      <td>PSG</td>\n",
       "      <td>Marseille</td>\n",
       "      <td>PSG</td>\n",
       "    </tr>\n",
       "    <tr>\n",
       "      <th>5049</th>\n",
       "      <td>5050</td>\n",
       "      <td>5133283</td>\n",
       "      <td>7</td>\n",
       "      <td>None</td>\n",
       "      <td>8668</td>\n",
       "      <td>2017-09-19 15:00:00</td>\n",
       "      <td>France</td>\n",
       "      <td>Ligue 2</td>\n",
       "      <td>2017/2018</td>\n",
       "      <td>8</td>\n",
       "      <td>None</td>\n",
       "      <td>Paris Saint Germain</td>\n",
       "      <td>MAR</td>\n",
       "      <td>Paris Saint Germain</td>\n",
       "      <td>MAR</td>\n",
       "    </tr>\n",
       "    <tr>\n",
       "      <th>5050</th>\n",
       "      <td>5051</td>\n",
       "      <td>5133460</td>\n",
       "      <td>50</td>\n",
       "      <td>None</td>\n",
       "      <td>10261</td>\n",
       "      <td>2017-09-19 15:00:00</td>\n",
       "      <td>France</td>\n",
       "      <td>Ligue 2</td>\n",
       "      <td>2017/2018</td>\n",
       "      <td>8</td>\n",
       "      <td>None</td>\n",
       "      <td>Rennes</td>\n",
       "      <td>GUI</td>\n",
       "      <td>Rennes</td>\n",
       "      <td>GUI</td>\n",
       "    </tr>\n",
       "    <tr>\n",
       "      <th>5051</th>\n",
       "      <td>5052</td>\n",
       "      <td>5133471</td>\n",
       "      <td>52</td>\n",
       "      <td>None</td>\n",
       "      <td>10261</td>\n",
       "      <td>2017-09-16 09:00:00</td>\n",
       "      <td>France</td>\n",
       "      <td>Ligue 2</td>\n",
       "      <td>2017/2018</td>\n",
       "      <td>7</td>\n",
       "      <td>None</td>\n",
       "      <td>Guingamp</td>\n",
       "      <td>REN</td>\n",
       "      <td>Guingamp</td>\n",
       "      <td>REN</td>\n",
       "    </tr>\n",
       "    <tr>\n",
       "      <th>5052</th>\n",
       "      <td>5053</td>\n",
       "      <td>5133491</td>\n",
       "      <td>57</td>\n",
       "      <td>None</td>\n",
       "      <td>8668</td>\n",
       "      <td>2017-09-19 15:00:00</td>\n",
       "      <td>France</td>\n",
       "      <td>Ligue 2</td>\n",
       "      <td>2017/2018</td>\n",
       "      <td>8</td>\n",
       "      <td>None</td>\n",
       "      <td>Bordeaux</td>\n",
       "      <td>MAR</td>\n",
       "      <td>Bordeaux</td>\n",
       "      <td>MAR</td>\n",
       "    </tr>\n",
       "    <tr>\n",
       "      <th>5053</th>\n",
       "      <td>5054</td>\n",
       "      <td>5133508</td>\n",
       "      <td>60</td>\n",
       "      <td>None</td>\n",
       "      <td>8668</td>\n",
       "      <td>2017-09-19 15:00:00</td>\n",
       "      <td>France</td>\n",
       "      <td>Ligue 2</td>\n",
       "      <td>2017/2018</td>\n",
       "      <td>8</td>\n",
       "      <td>None</td>\n",
       "      <td>Marseille</td>\n",
       "      <td>BOR</td>\n",
       "      <td>Marseille</td>\n",
       "      <td>BOR</td>\n",
       "    </tr>\n",
       "    <tr>\n",
       "      <th>5054</th>\n",
       "      <td>5055</td>\n",
       "      <td>5133571</td>\n",
       "      <td>77</td>\n",
       "      <td>None</td>\n",
       "      <td>10261</td>\n",
       "      <td>2017-09-19 15:00:00</td>\n",
       "      <td>France</td>\n",
       "      <td>Ligue 2</td>\n",
       "      <td>2017/2018</td>\n",
       "      <td>8</td>\n",
       "      <td>None</td>\n",
       "      <td>Evian Thonon Gaillard</td>\n",
       "      <td>LIL</td>\n",
       "      <td>Evian Thonon Gaillard</td>\n",
       "      <td>LIL</td>\n",
       "    </tr>\n",
       "    <tr>\n",
       "      <th>5055</th>\n",
       "      <td>5056</td>\n",
       "      <td>5133572</td>\n",
       "      <td>78</td>\n",
       "      <td>None</td>\n",
       "      <td>8668</td>\n",
       "      <td>2017-09-19 15:00:00</td>\n",
       "      <td>France</td>\n",
       "      <td>Ligue 2</td>\n",
       "      <td>2017/2018</td>\n",
       "      <td>8</td>\n",
       "      <td>None</td>\n",
       "      <td>Lille</td>\n",
       "      <td>ETG</td>\n",
       "      <td>Lille</td>\n",
       "      <td>ETG</td>\n",
       "    </tr>\n",
       "    <tr>\n",
       "      <th>5056</th>\n",
       "      <td>5057</td>\n",
       "      <td>5133590</td>\n",
       "      <td>85</td>\n",
       "      <td>None</td>\n",
       "      <td>8668</td>\n",
       "      <td>2017-09-19 15:00:00</td>\n",
       "      <td>France</td>\n",
       "      <td>Ligue 2</td>\n",
       "      <td>2017/2018</td>\n",
       "      <td>8</td>\n",
       "      <td>None</td>\n",
       "      <td>Caen</td>\n",
       "      <td>MON</td>\n",
       "      <td>Caen</td>\n",
       "      <td>MON</td>\n",
       "    </tr>\n",
       "    <tr>\n",
       "      <th>5057</th>\n",
       "      <td>5058</td>\n",
       "      <td>5133598</td>\n",
       "      <td>90</td>\n",
       "      <td>None</td>\n",
       "      <td>8668</td>\n",
       "      <td>2017-09-19 15:00:00</td>\n",
       "      <td>France</td>\n",
       "      <td>Ligue 2</td>\n",
       "      <td>2017/2018</td>\n",
       "      <td>8</td>\n",
       "      <td>None</td>\n",
       "      <td>Monaco</td>\n",
       "      <td>CAE</td>\n",
       "      <td>Monaco</td>\n",
       "      <td>CAE</td>\n",
       "    </tr>\n",
       "    <tr>\n",
       "      <th>5058</th>\n",
       "      <td>5059</td>\n",
       "      <td>5133606</td>\n",
       "      <td>90</td>\n",
       "      <td>None</td>\n",
       "      <td>8668</td>\n",
       "      <td>2017-09-25 14:45:00</td>\n",
       "      <td>France</td>\n",
       "      <td>Ligue 2</td>\n",
       "      <td>2017/2018</td>\n",
       "      <td>9</td>\n",
       "      <td>None</td>\n",
       "      <td>Lens</td>\n",
       "      <td>LOR</td>\n",
       "      <td>Lens</td>\n",
       "      <td>LOR</td>\n",
       "    </tr>\n",
       "    <tr>\n",
       "      <th>5059</th>\n",
       "      <td>5060</td>\n",
       "      <td>5133617</td>\n",
       "      <td>2</td>\n",
       "      <td>None</td>\n",
       "      <td>9825</td>\n",
       "      <td>2017-09-19 15:00:00</td>\n",
       "      <td>France</td>\n",
       "      <td>Ligue 2</td>\n",
       "      <td>2017/2018</td>\n",
       "      <td>8</td>\n",
       "      <td>None</td>\n",
       "      <td>Lorient</td>\n",
       "      <td>LEN</td>\n",
       "      <td>Lorient</td>\n",
       "      <td>LEN</td>\n",
       "    </tr>\n",
       "    <tr>\n",
       "      <th>5060</th>\n",
       "      <td>5061</td>\n",
       "      <td>5133634</td>\n",
       "      <td>15</td>\n",
       "      <td>None</td>\n",
       "      <td>9825</td>\n",
       "      <td>2017-09-19 15:00:00</td>\n",
       "      <td>France</td>\n",
       "      <td>Ligue 2</td>\n",
       "      <td>2017/2018</td>\n",
       "      <td>8</td>\n",
       "      <td>None</td>\n",
       "      <td>Saint-Etienne</td>\n",
       "      <td>NAN</td>\n",
       "      <td>Saint-Etienne</td>\n",
       "      <td>NAN</td>\n",
       "    </tr>\n",
       "    <tr>\n",
       "      <th>5061</th>\n",
       "      <td>5062</td>\n",
       "      <td>5133682</td>\n",
       "      <td>36</td>\n",
       "      <td>None</td>\n",
       "      <td>9825</td>\n",
       "      <td>2017-09-25 14:45:00</td>\n",
       "      <td>France</td>\n",
       "      <td>Ligue 2</td>\n",
       "      <td>2017/2018</td>\n",
       "      <td>9</td>\n",
       "      <td>None</td>\n",
       "      <td>Nantes</td>\n",
       "      <td>ETI</td>\n",
       "      <td>Nantes</td>\n",
       "      <td>ETI</td>\n",
       "    </tr>\n",
       "    <tr>\n",
       "      <th>5062</th>\n",
       "      <td>5063</td>\n",
       "      <td>5133689</td>\n",
       "      <td>39</td>\n",
       "      <td>None</td>\n",
       "      <td>9825</td>\n",
       "      <td>2017-09-25 14:45:00</td>\n",
       "      <td>France</td>\n",
       "      <td>Ligue 2</td>\n",
       "      <td>2017/2018</td>\n",
       "      <td>9</td>\n",
       "      <td>None</td>\n",
       "      <td>Paris Saint Germain</td>\n",
       "      <td>MET</td>\n",
       "      <td>Paris Saint Germain</td>\n",
       "      <td>MET</td>\n",
       "    </tr>\n",
       "    <tr>\n",
       "      <th>5063</th>\n",
       "      <td>5064</td>\n",
       "      <td>5131878</td>\n",
       "      <td>19</td>\n",
       "      <td>None</td>\n",
       "      <td>8659</td>\n",
       "      <td>2017-09-25 14:45:00</td>\n",
       "      <td>France</td>\n",
       "      <td>Ligue 2</td>\n",
       "      <td>2017/2018</td>\n",
       "      <td>9</td>\n",
       "      <td>None</td>\n",
       "      <td>Metz</td>\n",
       "      <td>PSG</td>\n",
       "      <td>Metz</td>\n",
       "      <td>PSG</td>\n",
       "    </tr>\n",
       "    <tr>\n",
       "      <th>5064</th>\n",
       "      <td>5065</td>\n",
       "      <td>5133749</td>\n",
       "      <td>69</td>\n",
       "      <td>None</td>\n",
       "      <td>8466</td>\n",
       "      <td>2017-09-25 14:45:00</td>\n",
       "      <td>France</td>\n",
       "      <td>Ligue 2</td>\n",
       "      <td>2017/2018</td>\n",
       "      <td>9</td>\n",
       "      <td>None</td>\n",
       "      <td>Toulouse</td>\n",
       "      <td>MON</td>\n",
       "      <td>Toulouse</td>\n",
       "      <td>MON</td>\n",
       "    </tr>\n",
       "    <tr>\n",
       "      <th>5065</th>\n",
       "      <td>5066</td>\n",
       "      <td>5131885</td>\n",
       "      <td>19</td>\n",
       "      <td>None</td>\n",
       "      <td>8659</td>\n",
       "      <td>2017-09-25 14:45:00</td>\n",
       "      <td>France</td>\n",
       "      <td>Ligue 2</td>\n",
       "      <td>2017/2018</td>\n",
       "      <td>9</td>\n",
       "      <td>None</td>\n",
       "      <td>Montpellier</td>\n",
       "      <td>TOU</td>\n",
       "      <td>Montpellier</td>\n",
       "      <td>TOU</td>\n",
       "    </tr>\n",
       "    <tr>\n",
       "      <th>5066</th>\n",
       "      <td>5067</td>\n",
       "      <td>5133755</td>\n",
       "      <td>72</td>\n",
       "      <td>None</td>\n",
       "      <td>8466</td>\n",
       "      <td>2017-09-25 14:45:00</td>\n",
       "      <td>France</td>\n",
       "      <td>Ligue 2</td>\n",
       "      <td>2017/2018</td>\n",
       "      <td>9</td>\n",
       "      <td>None</td>\n",
       "      <td>Reims</td>\n",
       "      <td>NIC</td>\n",
       "      <td>Reims</td>\n",
       "      <td>NIC</td>\n",
       "    </tr>\n",
       "    <tr>\n",
       "      <th>5067</th>\n",
       "      <td>5068</td>\n",
       "      <td>5131953</td>\n",
       "      <td>23</td>\n",
       "      <td>None</td>\n",
       "      <td>8659</td>\n",
       "      <td>2017-09-25 14:45:00</td>\n",
       "      <td>France</td>\n",
       "      <td>Ligue 2</td>\n",
       "      <td>2017/2018</td>\n",
       "      <td>9</td>\n",
       "      <td>None</td>\n",
       "      <td>Nice</td>\n",
       "      <td>REI</td>\n",
       "      <td>Nice</td>\n",
       "      <td>REI</td>\n",
       "    </tr>\n",
       "    <tr>\n",
       "      <th>5068</th>\n",
       "      <td>5069</td>\n",
       "      <td>5133810</td>\n",
       "      <td>90</td>\n",
       "      <td>None</td>\n",
       "      <td>8466</td>\n",
       "      <td>2017-09-25 14:45:00</td>\n",
       "      <td>France</td>\n",
       "      <td>Ligue 2</td>\n",
       "      <td>2017/2018</td>\n",
       "      <td>9</td>\n",
       "      <td>None</td>\n",
       "      <td>Guingamp</td>\n",
       "      <td>ETG</td>\n",
       "      <td>Guingamp</td>\n",
       "      <td>ETG</td>\n",
       "    </tr>\n",
       "    <tr>\n",
       "      <th>5069</th>\n",
       "      <td>5070</td>\n",
       "      <td>5132029</td>\n",
       "      <td>29</td>\n",
       "      <td>None</td>\n",
       "      <td>8659</td>\n",
       "      <td>2017-09-25 14:45:00</td>\n",
       "      <td>France</td>\n",
       "      <td>Ligue 2</td>\n",
       "      <td>2017/2018</td>\n",
       "      <td>9</td>\n",
       "      <td>None</td>\n",
       "      <td>Evian Thonon Gaillard</td>\n",
       "      <td>GUI</td>\n",
       "      <td>Evian Thonon Gaillard</td>\n",
       "      <td>GUI</td>\n",
       "    </tr>\n",
       "  </tbody>\n",
       "</table>\n",
       "<p>5070 rows × 15 columns</p>\n",
       "</div>"
      ],
      "text/plain": [
       "        Id ExternalId Minute Player1 HomeTeamId                Date  Country  \\\n",
       "0        1    3652595      5    None       8455 2014-08-18 15:00:00  England   \n",
       "1        2    3647429     15    None       9825 2014-08-18 15:00:00  England   \n",
       "2        3    3649357      9    None       8650 2014-08-18 15:00:00  England   \n",
       "3        4    3645873     16    None       8197 2014-08-18 15:00:00  England   \n",
       "4        5    3647542     30    None       9825 2014-08-18 15:00:00  England   \n",
       "5        6    3645920     20    None       8668 2014-08-18 15:00:00  England   \n",
       "6        7    3649428     22    None       8466 2014-08-18 15:00:00  England   \n",
       "7        8    3652617     11    None       8455 2014-08-18 15:00:00  England   \n",
       "8        9    3647566     35    None       9826 2014-08-18 15:00:00  England   \n",
       "9       10    3649444     28    None       8650 2014-11-03 15:00:00  England   \n",
       "10      11    3645940     22    None       8197 2014-08-18 15:00:00  England   \n",
       "11      12    3652626     13    None       8191 2014-11-03 15:00:00  England   \n",
       "12      13    3649474     35    None       8466 2014-11-03 15:00:00  England   \n",
       "13      14    3645992     26    None       8668 2014-11-03 15:00:00  England   \n",
       "14      15    3652667     29    None       8191 2014-11-03 15:00:00  England   \n",
       "15      16    3647584     38    None       9825 2014-11-03 15:00:00  England   \n",
       "16      17    3646069     34    None       8668 2014-11-03 15:00:00  England   \n",
       "17      18    3647664     45    None       9825 2014-11-03 15:00:00  England   \n",
       "18      19    3649522     41    None       8466 2014-11-03 15:00:00  England   \n",
       "19      20    3652682     34    None       8455 2014-11-03 15:00:00  England   \n",
       "20      21    3652741     49    None       8191 2014-11-09 11:00:00  England   \n",
       "21      22    3649557     45    None       8466 2014-11-09 11:00:00  England   \n",
       "22      23    3647790     48    None       9826 2014-11-09 11:00:00  England   \n",
       "23      24    3646077     34    None       8668 2014-11-09 11:00:00  England   \n",
       "24      25    3652747     50    None       8191 2014-11-09 11:00:00  England   \n",
       "25      26    3646676     74    None       8197 2014-11-09 11:00:00  England   \n",
       "26      27    3649645     51    None       8466 2014-11-09 11:00:00  England   \n",
       "27      28    3647887     59    None       9825 2014-11-09 11:00:00  England   \n",
       "28      29    3646888     89    None       8668 2014-11-09 11:00:00  England   \n",
       "29      30    3647945     65    None       9825 2014-11-09 11:00:00  England   \n",
       "...    ...        ...    ...     ...        ...                 ...      ...   \n",
       "5040  5041    5132371     48    None       9817 2017-09-16 09:00:00   France   \n",
       "5041  5042    5132236     42    None       8456 2017-09-16 09:00:00   France   \n",
       "5042  5043    5132375     49    None       8456 2017-09-16 09:00:00   France   \n",
       "5043  5044    5132389     49    None       8455 2017-09-16 09:00:00   France   \n",
       "5044  5045    5132401     50    None       8455 2017-09-16 09:00:00   France   \n",
       "5045  5046    5132410     51    None       8456 2017-09-16 09:00:00   France   \n",
       "5046  5047    5132537     58    None       8472 2017-09-16 09:00:00   France   \n",
       "5047  5048    5132647     65    None       8456 2017-09-16 09:00:00   France   \n",
       "5048  5049    5133055     90    None       8456 2017-09-16 09:00:00   France   \n",
       "5049  5050    5133283      7    None       8668 2017-09-19 15:00:00   France   \n",
       "5050  5051    5133460     50    None      10261 2017-09-19 15:00:00   France   \n",
       "5051  5052    5133471     52    None      10261 2017-09-16 09:00:00   France   \n",
       "5052  5053    5133491     57    None       8668 2017-09-19 15:00:00   France   \n",
       "5053  5054    5133508     60    None       8668 2017-09-19 15:00:00   France   \n",
       "5054  5055    5133571     77    None      10261 2017-09-19 15:00:00   France   \n",
       "5055  5056    5133572     78    None       8668 2017-09-19 15:00:00   France   \n",
       "5056  5057    5133590     85    None       8668 2017-09-19 15:00:00   France   \n",
       "5057  5058    5133598     90    None       8668 2017-09-19 15:00:00   France   \n",
       "5058  5059    5133606     90    None       8668 2017-09-25 14:45:00   France   \n",
       "5059  5060    5133617      2    None       9825 2017-09-19 15:00:00   France   \n",
       "5060  5061    5133634     15    None       9825 2017-09-19 15:00:00   France   \n",
       "5061  5062    5133682     36    None       9825 2017-09-25 14:45:00   France   \n",
       "5062  5063    5133689     39    None       9825 2017-09-25 14:45:00   France   \n",
       "5063  5064    5131878     19    None       8659 2017-09-25 14:45:00   France   \n",
       "5064  5065    5133749     69    None       8466 2017-09-25 14:45:00   France   \n",
       "5065  5066    5131885     19    None       8659 2017-09-25 14:45:00   France   \n",
       "5066  5067    5133755     72    None       8466 2017-09-25 14:45:00   France   \n",
       "5067  5068    5131953     23    None       8659 2017-09-25 14:45:00   France   \n",
       "5068  5069    5133810     90    None       8466 2017-09-25 14:45:00   France   \n",
       "5069  5070    5132029     29    None       8659 2017-09-25 14:45:00   France   \n",
       "\n",
       "              League     Season Stage Player_Id           FullNameHome  \\\n",
       "0     Premier League  2014/2015     1      None              Liverpool   \n",
       "1     Premier League  2014/2015     1      None                Burnley   \n",
       "2     Premier League  2014/2015     1      None              Leicester   \n",
       "3     Premier League  2014/2015     1      None                Arsenal   \n",
       "4     Premier League  2014/2015     1      None                Everton   \n",
       "5     Premier League  2014/2015     1      None                Chelsea   \n",
       "6     Premier League  2014/2015     1      None         Crystal Palace   \n",
       "7     Premier League  2014/2015     1      None            Southampton   \n",
       "8     Premier League  2014/2015     1      None                Arsenal   \n",
       "9     Premier League  2014/2015    10      None              Leicester   \n",
       "10    Premier League  2014/2015     1      None                Burnley   \n",
       "11    Premier League  2014/2015    10      None         Crystal Palace   \n",
       "12    Premier League  2014/2015    10      None                Everton   \n",
       "13    Premier League  2014/2015    10      None                Chelsea   \n",
       "14    Premier League  2014/2015    10      None              Liverpool   \n",
       "15    Premier League  2014/2015    10      None            Southampton   \n",
       "16    Premier League  2014/2015    10      None                  Stoke   \n",
       "17    Premier League  2014/2015    10      None      Manchester United   \n",
       "18    Premier League  2014/2015    10      None    Queens Park Rangers   \n",
       "19    Premier League  2014/2015    10      None       Newcastle United   \n",
       "20    Premier League  2014/2015    11      None                Swansea   \n",
       "21    Premier League  2014/2015    11      None            Aston Villa   \n",
       "22    Premier League  2014/2015    11      None                   Hull   \n",
       "23    Premier League  2014/2015    11      None        Manchester City   \n",
       "24    Premier League  2014/2015    11      None      Manchester United   \n",
       "25    Premier League  2014/2015    11      None                Swansea   \n",
       "26    Premier League  2014/2015    11      None       Newcastle United   \n",
       "27    Premier League  2014/2015    11      None        Manchester City   \n",
       "28    Premier League  2014/2015    11      None                  Stoke   \n",
       "29    Premier League  2014/2015    11      None            Aston Villa   \n",
       "...              ...        ...   ...       ...                    ...   \n",
       "5040         Ligue 2  2017/2018     7      None                Lorient   \n",
       "5041         Ligue 2  2017/2018     7      None                 Rennes   \n",
       "5042         Ligue 2  2017/2018     7      None                  Lille   \n",
       "5043         Ligue 2  2017/2018     7      None                  Reims   \n",
       "5044         Ligue 2  2017/2018     7      None                   Metz   \n",
       "5045         Ligue 2  2017/2018     7      None               Toulouse   \n",
       "5046         Ligue 2  2017/2018     7      None                 Monaco   \n",
       "5047         Ligue 2  2017/2018     7      None          Saint-Etienne   \n",
       "5048         Ligue 2  2017/2018     7      None              Marseille   \n",
       "5049         Ligue 2  2017/2018     8      None    Paris Saint Germain   \n",
       "5050         Ligue 2  2017/2018     8      None                 Rennes   \n",
       "5051         Ligue 2  2017/2018     7      None               Guingamp   \n",
       "5052         Ligue 2  2017/2018     8      None               Bordeaux   \n",
       "5053         Ligue 2  2017/2018     8      None              Marseille   \n",
       "5054         Ligue 2  2017/2018     8      None  Evian Thonon Gaillard   \n",
       "5055         Ligue 2  2017/2018     8      None                  Lille   \n",
       "5056         Ligue 2  2017/2018     8      None                   Caen   \n",
       "5057         Ligue 2  2017/2018     8      None                 Monaco   \n",
       "5058         Ligue 2  2017/2018     9      None                   Lens   \n",
       "5059         Ligue 2  2017/2018     8      None                Lorient   \n",
       "5060         Ligue 2  2017/2018     8      None          Saint-Etienne   \n",
       "5061         Ligue 2  2017/2018     9      None                 Nantes   \n",
       "5062         Ligue 2  2017/2018     9      None    Paris Saint Germain   \n",
       "5063         Ligue 2  2017/2018     9      None                   Metz   \n",
       "5064         Ligue 2  2017/2018     9      None               Toulouse   \n",
       "5065         Ligue 2  2017/2018     9      None            Montpellier   \n",
       "5066         Ligue 2  2017/2018     9      None                  Reims   \n",
       "5067         Ligue 2  2017/2018     9      None                   Nice   \n",
       "5068         Ligue 2  2017/2018     9      None               Guingamp   \n",
       "5069         Ligue 2  2017/2018     9      None  Evian Thonon Gaillard   \n",
       "\n",
       "     AcronymHome               FullName Acronym  \n",
       "0            SOU              Liverpool     SOU  \n",
       "1            CHE                Burnley     CHE  \n",
       "2            EVE              Leicester     EVE  \n",
       "3            CRY                Arsenal     CRY  \n",
       "4            LEI                Everton     LEI  \n",
       "5            BUR                Chelsea     BUR  \n",
       "6            ARS         Crystal Palace     ARS  \n",
       "7            LIV            Southampton     LIV  \n",
       "8            CRY                Arsenal     CRY  \n",
       "9            EVE              Leicester     EVE  \n",
       "10           CHE                Burnley     CHE  \n",
       "11           ARS         Crystal Palace     ARS  \n",
       "12           LEI                Everton     LEI  \n",
       "13           BUR                Chelsea     BUR  \n",
       "14           SOU              Liverpool     SOU  \n",
       "15           LIV            Southampton     LIV  \n",
       "16           AVL                  Stoke     AVL  \n",
       "17           SWA      Manchester United     SWA  \n",
       "18           HUL    Queens Park Rangers     HUL  \n",
       "19           MCI       Newcastle United     MCI  \n",
       "20           MUN                Swansea     MUN  \n",
       "21           STK            Aston Villa     STK  \n",
       "22           QPR                   Hull     QPR  \n",
       "23           NEW        Manchester City     NEW  \n",
       "24           SWA      Manchester United     SWA  \n",
       "25           MUN                Swansea     MUN  \n",
       "26           MCI       Newcastle United     MCI  \n",
       "27           NEW        Manchester City     NEW  \n",
       "28           AVL                  Stoke     AVL  \n",
       "29           STK            Aston Villa     STK  \n",
       "...          ...                    ...     ...  \n",
       "5040         REN                Lorient     REN  \n",
       "5041         LOR                 Rennes     LOR  \n",
       "5042         REI                  Lille     REI  \n",
       "5043         LIL                  Reims     LIL  \n",
       "5044         TOU                   Metz     TOU  \n",
       "5045         MET               Toulouse     MET  \n",
       "5046         ETI                 Monaco     ETI  \n",
       "5047         MON          Saint-Etienne     MON  \n",
       "5048         PSG              Marseille     PSG  \n",
       "5049         MAR    Paris Saint Germain     MAR  \n",
       "5050         GUI                 Rennes     GUI  \n",
       "5051         REN               Guingamp     REN  \n",
       "5052         MAR               Bordeaux     MAR  \n",
       "5053         BOR              Marseille     BOR  \n",
       "5054         LIL  Evian Thonon Gaillard     LIL  \n",
       "5055         ETG                  Lille     ETG  \n",
       "5056         MON                   Caen     MON  \n",
       "5057         CAE                 Monaco     CAE  \n",
       "5058         LOR                   Lens     LOR  \n",
       "5059         LEN                Lorient     LEN  \n",
       "5060         NAN          Saint-Etienne     NAN  \n",
       "5061         ETI                 Nantes     ETI  \n",
       "5062         MET    Paris Saint Germain     MET  \n",
       "5063         PSG                   Metz     PSG  \n",
       "5064         MON               Toulouse     MON  \n",
       "5065         TOU            Montpellier     TOU  \n",
       "5066         NIC                  Reims     NIC  \n",
       "5067         REI                   Nice     REI  \n",
       "5068         ETG               Guingamp     ETG  \n",
       "5069         GUI  Evian Thonon Gaillard     GUI  \n",
       "\n",
       "[5070 rows x 15 columns]"
      ]
     },
     "execution_count": 96,
     "metadata": {},
     "output_type": "execute_result"
    }
   ],
   "source": [
    "result = pd.merge(df_corners.set_index(\"MatchId\"), df_matches.set_index(\"ExternalId\"), how='left')\n",
    "#premier_league = result[(result['Season']  == '2017/2018') & (result['League']  == 'Premier League')]\n",
    "premier_league = result[ (result['Season'] == '2017/2018') & (result['League'] == 'Ligue 1')]\n",
    "print(result.shape)\n",
    "\n",
    "df_goals.head()\n",
    "teams_coreners = df_corners.groupby('TeamId')\n",
    "goal_matches = pd.merge(df_corners.set_index(\"MatchId\"), df_matches.set_index(\"ExternalId\"), how='right')\n",
    "\n",
    "goal_matches_home_team = pd.merge(goal_matches.set_index(\"HomeTeam_Id\"), df_teams.set_index(\"ExternalId\"), how='left')\n",
    "goal_matches_home_team.rename(columns={'FullName': 'FullNameHome'}, inplace=True)\n",
    "goal_matches_home_team.rename(columns={'Acronym': 'AcronymHome'}, inplace=True)\n",
    "goal_matches_home_team.rename(columns={'TeamId': 'HomeTeamId'}, inplace=True)\n",
    "goal_matches_home_team_away_team = pd.merge(goal_matches_home_team.set_index(\"AwayTeam_Id\"), df_teams.set_index(\"ExternalId\"), how='left')\n",
    "#goal_matches_home_team_away_team\n",
    "#goal_matches_home_team\n",
    "\n",
    "goal_matches_home_team_away_team\n",
    "#['Minute','TeamId'].apply(\n",
    "#    lambda x: \"{%s}\" % ', '.join(x.Minute + ' ' + x.TeamId))\n",
    "#minutes_sum = result.groupby(['TeamId'], as_index=True)['Minute']hg\n",
    "#minutes_sum\n",
    "#['Minute']\n",
    "#minutes_sum = df_corners.groupby('MatchId')['MatchId', 'TeamId','Minute']\n",
    "#print(premier_league[:10].head())\n",
    "#print(result_premier_league_1718)\n",
    "#premier_league_minutes = premier_league[premier_league['Minute'].notnull()]\n",
    "#print(premier_league_minutes.shape)\n",
    "#minutes_sum.first()\n",
    "#print(list(premier_league_minutes.columns.values))"
   ]
  },
  {
   "cell_type": "code",
   "execution_count": null,
   "metadata": {
    "collapsed": true
   },
   "outputs": [],
   "source": []
  },
  {
   "cell_type": "raw",
   "metadata": {},
   "source": []
  },
  {
   "cell_type": "markdown",
   "metadata": {},
   "source": []
  },
  {
   "cell_type": "code",
   "execution_count": 107,
   "metadata": {
    "scrolled": false
   },
   "outputs": [
    {
     "name": "stdout",
     "output_type": "stream",
     "text": [
      "(30029, 13)\n"
     ]
    },
    {
     "name": "stderr",
     "output_type": "stream",
     "text": [
      "C:\\Users\\martin\\Anaconda3\\lib\\site-packages\\ipykernel_launcher.py:7: SettingWithCopyWarning: \n",
      "A value is trying to be set on a copy of a slice from a DataFrame.\n",
      "Try using .loc[row_indexer,col_indexer] = value instead\n",
      "\n",
      "See the caveats in the documentation: http://pandas.pydata.org/pandas-docs/stable/indexing.html#indexing-view-versus-copy\n",
      "  import sys\n"
     ]
    },
    {
     "data": {
      "text/plain": [
       "array([[<matplotlib.axes._subplots.AxesSubplot object at 0x0000006CD266B8D0>,\n",
       "        <matplotlib.axes._subplots.AxesSubplot object at 0x0000006CB6C9E438>,\n",
       "        <matplotlib.axes._subplots.AxesSubplot object at 0x0000006CA4BD7C18>,\n",
       "        <matplotlib.axes._subplots.AxesSubplot object at 0x0000006CA5F0BB00>,\n",
       "        <matplotlib.axes._subplots.AxesSubplot object at 0x0000006CAD50C6A0>,\n",
       "        <matplotlib.axes._subplots.AxesSubplot object at 0x0000006CAD50CEF0>,\n",
       "        <matplotlib.axes._subplots.AxesSubplot object at 0x0000006C9E611B38>,\n",
       "        <matplotlib.axes._subplots.AxesSubplot object at 0x0000006CD251EBA8>,\n",
       "        <matplotlib.axes._subplots.AxesSubplot object at 0x0000006CD2513908>],\n",
       "       [<matplotlib.axes._subplots.AxesSubplot object at 0x0000006CA30C6BE0>,\n",
       "        <matplotlib.axes._subplots.AxesSubplot object at 0x0000006CB633DE80>,\n",
       "        <matplotlib.axes._subplots.AxesSubplot object at 0x0000006CA5FE9B38>,\n",
       "        <matplotlib.axes._subplots.AxesSubplot object at 0x0000006CD32DB7B8>,\n",
       "        <matplotlib.axes._subplots.AxesSubplot object at 0x0000006CA5F15588>,\n",
       "        <matplotlib.axes._subplots.AxesSubplot object at 0x0000006CB682F9B0>,\n",
       "        <matplotlib.axes._subplots.AxesSubplot object at 0x0000006CA3332048>,\n",
       "        <matplotlib.axes._subplots.AxesSubplot object at 0x0000006CA496A278>,\n",
       "        <matplotlib.axes._subplots.AxesSubplot object at 0x0000006C9F9785C0>],\n",
       "       [<matplotlib.axes._subplots.AxesSubplot object at 0x0000006CD33B3828>,\n",
       "        <matplotlib.axes._subplots.AxesSubplot object at 0x0000006CCB9557B8>,\n",
       "        <matplotlib.axes._subplots.AxesSubplot object at 0x0000006CB3FF4390>,\n",
       "        <matplotlib.axes._subplots.AxesSubplot object at 0x0000006CA59BFC88>,\n",
       "        <matplotlib.axes._subplots.AxesSubplot object at 0x0000006CA50AE0B8>,\n",
       "        <matplotlib.axes._subplots.AxesSubplot object at 0x0000006CD2805C18>,\n",
       "        <matplotlib.axes._subplots.AxesSubplot object at 0x0000006CB41129B0>,\n",
       "        <matplotlib.axes._subplots.AxesSubplot object at 0x0000006CB727F438>,\n",
       "        <matplotlib.axes._subplots.AxesSubplot object at 0x0000006CB5FCC358>],\n",
       "       [<matplotlib.axes._subplots.AxesSubplot object at 0x0000006CA5E3D1D0>,\n",
       "        <matplotlib.axes._subplots.AxesSubplot object at 0x0000006CB4127B70>,\n",
       "        <matplotlib.axes._subplots.AxesSubplot object at 0x0000006CB71048D0>,\n",
       "        <matplotlib.axes._subplots.AxesSubplot object at 0x0000006CD249C240>,\n",
       "        <matplotlib.axes._subplots.AxesSubplot object at 0x0000006CB32DCF98>,\n",
       "        <matplotlib.axes._subplots.AxesSubplot object at 0x0000006CD2CF8C50>,\n",
       "        <matplotlib.axes._subplots.AxesSubplot object at 0x0000006CB65EA0F0>,\n",
       "        <matplotlib.axes._subplots.AxesSubplot object at 0x0000006CD2D5E0F0>,\n",
       "        <matplotlib.axes._subplots.AxesSubplot object at 0x0000006CB6F51FD0>],\n",
       "       [<matplotlib.axes._subplots.AxesSubplot object at 0x0000006CD6878710>,\n",
       "        <matplotlib.axes._subplots.AxesSubplot object at 0x0000006CB6B32BE0>,\n",
       "        <matplotlib.axes._subplots.AxesSubplot object at 0x0000006CD2637BE0>,\n",
       "        <matplotlib.axes._subplots.AxesSubplot object at 0x0000006CB3DCEB00>,\n",
       "        <matplotlib.axes._subplots.AxesSubplot object at 0x0000006CB71F5710>,\n",
       "        <matplotlib.axes._subplots.AxesSubplot object at 0x0000006CB6AA0780>,\n",
       "        <matplotlib.axes._subplots.AxesSubplot object at 0x0000006CB6B10710>,\n",
       "        <matplotlib.axes._subplots.AxesSubplot object at 0x0000006CB6F74710>,\n",
       "        <matplotlib.axes._subplots.AxesSubplot object at 0x0000006CB6B18908>],\n",
       "       [<matplotlib.axes._subplots.AxesSubplot object at 0x0000006CB6B77320>,\n",
       "        <matplotlib.axes._subplots.AxesSubplot object at 0x0000006CB7021320>,\n",
       "        <matplotlib.axes._subplots.AxesSubplot object at 0x0000006CB651A2B0>,\n",
       "        <matplotlib.axes._subplots.AxesSubplot object at 0x0000006CB65317F0>,\n",
       "        <matplotlib.axes._subplots.AxesSubplot object at 0x0000006CB69C7DA0>,\n",
       "        <matplotlib.axes._subplots.AxesSubplot object at 0x0000006CB6727CC0>,\n",
       "        <matplotlib.axes._subplots.AxesSubplot object at 0x0000006CB6CD0BE0>,\n",
       "        <matplotlib.axes._subplots.AxesSubplot object at 0x0000006CB708ABE0>,\n",
       "        <matplotlib.axes._subplots.AxesSubplot object at 0x0000006CB3F18A90>],\n",
       "       [<matplotlib.axes._subplots.AxesSubplot object at 0x0000006CB65B3470>,\n",
       "        <matplotlib.axes._subplots.AxesSubplot object at 0x0000006CB699F4E0>,\n",
       "        <matplotlib.axes._subplots.AxesSubplot object at 0x0000006CB3D6B470>,\n",
       "        <matplotlib.axes._subplots.AxesSubplot object at 0x0000006CD2B80390>,\n",
       "        <matplotlib.axes._subplots.AxesSubplot object at 0x0000006CB6FADA90>,\n",
       "        <matplotlib.axes._subplots.AxesSubplot object at 0x0000006CB3A45080>,\n",
       "        <matplotlib.axes._subplots.AxesSubplot object at 0x0000006CB0783F60>,\n",
       "        <matplotlib.axes._subplots.AxesSubplot object at 0x0000006CD2DD8470>,\n",
       "        <matplotlib.axes._subplots.AxesSubplot object at 0x0000006CB665C278>],\n",
       "       [<matplotlib.axes._subplots.AxesSubplot object at 0x0000006CA5E7B8D0>,\n",
       "        <matplotlib.axes._subplots.AxesSubplot object at 0x0000006CB3C258D0>,\n",
       "        <matplotlib.axes._subplots.AxesSubplot object at 0x0000006CD27EDDA0>,\n",
       "        <matplotlib.axes._subplots.AxesSubplot object at 0x0000006CD27FCE80>,\n",
       "        <matplotlib.axes._subplots.AxesSubplot object at 0x0000006CB6E32470>,\n",
       "        <matplotlib.axes._subplots.AxesSubplot object at 0x0000006CD2B44470>,\n",
       "        <matplotlib.axes._subplots.AxesSubplot object at 0x0000006CD28709B0>,\n",
       "        <matplotlib.axes._subplots.AxesSubplot object at 0x0000006CD28CA940>,\n",
       "        <matplotlib.axes._subplots.AxesSubplot object at 0x0000006CD2A24E10>],\n",
       "       [<matplotlib.axes._subplots.AxesSubplot object at 0x0000006CB343AE10>,\n",
       "        <matplotlib.axes._subplots.AxesSubplot object at 0x0000006CB66822B0>,\n",
       "        <matplotlib.axes._subplots.AxesSubplot object at 0x0000006CB4114DA0>,\n",
       "        <matplotlib.axes._subplots.AxesSubplot object at 0x0000006CD28BEE10>,\n",
       "        <matplotlib.axes._subplots.AxesSubplot object at 0x0000006CD277E8D0>,\n",
       "        <matplotlib.axes._subplots.AxesSubplot object at 0x0000006CB6712D30>,\n",
       "        <matplotlib.axes._subplots.AxesSubplot object at 0x0000006CB30173C8>,\n",
       "        <matplotlib.axes._subplots.AxesSubplot object at 0x0000006CD2987C50>,\n",
       "        <matplotlib.axes._subplots.AxesSubplot object at 0x0000006CD2A50390>],\n",
       "       [<matplotlib.axes._subplots.AxesSubplot object at 0x0000006CB07707F0>,\n",
       "        <matplotlib.axes._subplots.AxesSubplot object at 0x0000006CA5DEC7F0>,\n",
       "        <matplotlib.axes._subplots.AxesSubplot object at 0x0000006CD32427F0>,\n",
       "        <matplotlib.axes._subplots.AxesSubplot object at 0x0000006CD27892B0>,\n",
       "        <matplotlib.axes._subplots.AxesSubplot object at 0x0000006CB36AC320>,\n",
       "        <matplotlib.axes._subplots.AxesSubplot object at 0x0000006CB3B18550>,\n",
       "        <matplotlib.axes._subplots.AxesSubplot object at 0x0000006CB2EFE240>,\n",
       "        <matplotlib.axes._subplots.AxesSubplot object at 0x0000006CB3B29DA0>,\n",
       "        <matplotlib.axes._subplots.AxesSubplot object at 0x0000006CD2ABCE80>]], dtype=object)"
      ]
     },
     "execution_count": 107,
     "metadata": {},
     "output_type": "execute_result"
    }
   ],
   "source": [
    "goals = pd.merge(df_goals.set_index(\"MatchId\"), df_matches.set_index(\"ExternalId\"), how='left')\n",
    "#result = goals[goals['Minute'].notnull()]\n",
    "print(result.shape)\n",
    "premier_league = goals[(goals['League'] == 'Premier League') & (goals['Season'] == '2016/2017')]\n",
    "premier_league.head()\n",
    "\n",
    "premier_league['Minute'] = premier_league['Minute'].astype(int)\n",
    "#premier_league.loc[premier_league['Minute']] = premier_league['Minute'].astype(int)\n",
    "\n",
    "premier_league['TeamId'].hist(by=premier_league['Minute'])\n",
    "\n",
    "# for number in range(0, 90, 10):\n",
    "#     from_minute = number\n",
    "#     to_minute = number + 10\n",
    "#     goals = premier_league.groupby(['TeamId'])['Minute'].apply(lambda x: len(x.where(lambda y : y > from_minute).where(lambda z:z < to_minute).dropna()))   \n",
    "#     print(goals)\n",
    "# #goals_teams = goa\n",
    "# #len(teams.groups)\n",
    "\n",
    "#print(teams.groups.keys())"
   ]
  },
  {
   "cell_type": "code",
   "execution_count": 83,
   "metadata": {},
   "outputs": [
    {
     "data": {
      "text/plain": [
       "MatchId  TeamId\n",
       "1709697  9837      22\n",
       "         9847       7\n",
       "1709698  7794       9\n",
       "         8592      12\n",
       "1709699  7819      12\n",
       "1709700  9853      39\n",
       "1709702  9748      64\n",
       "1709703  8689      10\n",
       "         9829      78\n",
       "1709704  9827      17\n",
       "1709705  9830      65\n",
       "1709706  9831      23\n",
       "         9941      45\n",
       "1709707  9827      48\n",
       "         9829      45\n",
       "1709708  8639      69\n",
       "1709709  9747      90\n",
       "1709711  10249     19\n",
       "1709712  8550      12\n",
       "         9830       3\n",
       "1709713  9847      26\n",
       "1709714  4087      35\n",
       "         9851       7\n",
       "1709715  9853      27\n",
       "1709716  9941      10\n",
       "1709717  7794      24\n",
       "1709719  8592      46\n",
       "1709720  8639      58\n",
       "1709721  8588      11\n",
       "1709722  10249     44\n",
       "                   ..\n",
       "2525452  8592       2\n",
       "         9747      42\n",
       "2525453  8639      18\n",
       "         9836      11\n",
       "2525454  9829      90\n",
       "2525455  10242     31\n",
       "         10249     58\n",
       "2525456  7819      76\n",
       "         9831       3\n",
       "2525457  9851      52\n",
       "2525458  9748      50\n",
       "         9848      22\n",
       "2525460  8121      22\n",
       "         9836      75\n",
       "2525461  9748      48\n",
       "         9831      18\n",
       "2525462  8587      30\n",
       "         8592      10\n",
       "2525463  9827      11\n",
       "2525464  9830      32\n",
       "2525465  10249     17\n",
       "         9851      13\n",
       "2525466  8639      66\n",
       "         9853       7\n",
       "2525467  9747      66\n",
       "         9941      59\n",
       "2525468  9829      22\n",
       "2667989  8587      36\n",
       "2713901  9847       8\n",
       "2748438  9847      26\n",
       "Name: Minute, Length: 4367, dtype: object"
      ]
     },
     "execution_count": 83,
     "metadata": {},
     "output_type": "execute_result"
    }
   ],
   "source": [
    "#groups = df_goals.groupby(['MatchId'])\n",
    "#groups.groups.keys()\n",
    "#df_goals.head()\n",
    "minutes_sum = df_goals.groupby(['MatchId', 'TeamId',], as_index=True, sort=True)['Minute']\n",
    "#minutes_sum.last()\n",
    "minutes_sum.first()\n",
    "\n",
    "#print(minutes_sum.shape)\n",
    "#df_goals.head(10)\n",
    "#groups.groups['1709877']\n",
    "#minutes_sum.groups\n",
    "#result = minutes_sum.get_group(('1709702','9748'))"
   ]
  }
 ],
 "metadata": {
  "kernelspec": {
   "display_name": "Python 3",
   "language": "python",
   "name": "python3"
  },
  "language_info": {
   "codemirror_mode": {
    "name": "ipython",
    "version": 3
   },
   "file_extension": ".py",
   "mimetype": "text/x-python",
   "name": "python",
   "nbconvert_exporter": "python",
   "pygments_lexer": "ipython3",
   "version": "3.6.3"
  }
 },
 "nbformat": 4,
 "nbformat_minor": 2
}
