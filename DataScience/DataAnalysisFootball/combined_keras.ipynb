{
 "cells": [
  {
   "cell_type": "code",
   "execution_count": 1,
   "metadata": {},
   "outputs": [],
   "source": [
    "import pandas as pd\n",
    "import numpy as np\n",
    "from helpers import calibrate_train_clfs, load_data, get_baseline, print_results, run_clf"
   ]
  },
  {
   "cell_type": "code",
   "execution_count": 2,
   "metadata": {},
   "outputs": [
    {
     "name": "stdout",
     "output_type": "stream",
     "text": [
      "KEEEP\n",
      "LENGTH1180\n"
     ]
    }
   ],
   "source": [
    "keep_columns =  ['IsTraining','FTR', 'Div', 'Date', 'HomeTeam', 'AwayTeam', \n",
    "    'away_away_team_corners_against', 'away_away_team_corners_for',\t'away_away_team_goals_against',\t'away_away_team_goals_for',\t\n",
    "    'away_away_team_possession',\t'away_away_team_shotsoff_against',\t'away_away_team_shotsoff_for',\t'away_away_team_shotson_against',\n",
    "    \t'away_away_team_shotson_for',\t'away_direct_team_corners_against',\t'away_direct_team_corners_for',\t'away_direct_team_goals_against',\n",
    "        'away_direct_team_goals_for',\t'away_direct_team_possession',\t'away_direct_team_shotsoff_against',\t'away_direct_team_shotsoff_for',\n",
    "        'away_direct_team_shotson_against',\t'away_direct_team_shotson_for',\t'home_direct_team_corners_against',\t'home_direct_team_corners_for',\t\n",
    "        'home_direct_team_goals_against',\t'home_direct_team_goals_for',\t'home_direct_team_possession',\t'home_direct_team_shotsoff_against',\n",
    "        'home_direct_team_shotsoff_for',\t'home_direct_team_shotson_against',\t'home_direct_team_shotson_for',\t\n",
    "        'home_home_team_corners_against',\t'home_home_team_corners_for',\t'home_home_team_goals_against',\t'home_home_team_goals_for',\t\n",
    "        'home_home_team_possession',\t'home_home_team_shotsoff_against',\t'home_home_team_shotsoff_for',\t'home_home_team_shotson_against',\n",
    "                 'home_home_team_shotson_for','Referee' \n",
    "]\n",
    " \n",
    "drop_columns = [\n",
    "    'B365H', 'B365D', 'B365A',\n",
    "    'AC', 'AF', 'AR', 'AS', 'AST', 'AY', \n",
    "    'BWA', 'BWD', 'BWH', 'Bb1X2', 'BbAH', 'BbAHh', 'BbAv<2.5', 'BbAv>2.5', 'BbAvA', 'BbAvAHA', \n",
    "    'BbAvAHH', 'BbAvD', 'BbAvH', 'BbMx<2.5', 'BbMx>2.5', 'BbMxA', 'BbMxAHA', 'BbMxAHH', 'BbMxD',\n",
    "    'BbMxH', 'BbOU', 'FTAG', \n",
    "    'HC', 'HF', 'HR', 'HS', 'HST', \n",
    "    'HTAG', 'HTHG', 'HTR', 'HY', 'IWA', 'IWD', 'IWH', \n",
    "    'LBA', 'LBD', 'LBH', 'PSA', 'PSCA', 'PSCD', 'PSCH', 'PSD', 'PSH', \n",
    "    'VCA', 'VCD', 'VCH', 'WHA', 'WHD', 'WHH', 'GoalFirstHalf', 'SHHG', 'SHAG', 'GoalSecondHalf','FTR','BothToScore',\n",
    "]\n",
    "\n",
    "#\n",
    "target_column = \"FTR\"\n",
    "drop_columns.remove(target_column)\n",
    "X,y = load_data(columns_to_drop=drop_columns, is_training=True, target_name=target_column)"
   ]
  },
  {
   "cell_type": "code",
   "execution_count": null,
   "metadata": {},
   "outputs": [],
   "source": []
  },
  {
   "cell_type": "code",
   "execution_count": 3,
   "metadata": {
    "scrolled": true
   },
   "outputs": [
    {
     "data": {
      "text/plain": [
       "pandas.core.series.Series"
      ]
     },
     "execution_count": 3,
     "metadata": {},
     "output_type": "execute_result"
    }
   ],
   "source": [
    "type(y)"
   ]
  },
  {
   "cell_type": "code",
   "execution_count": 4,
   "metadata": {},
   "outputs": [
    {
     "name": "stderr",
     "output_type": "stream",
     "text": [
      "Using TensorFlow backend.\n"
     ]
    }
   ],
   "source": [
    "import numpy\n",
    "import pandas\n",
    "import keras\n",
    "from keras.models import Sequential\n",
    "from keras.layers import Dense\n",
    "from keras.wrappers.scikit_learn import KerasClassifier, KerasRegressor\n",
    "from keras.utils import np_utils\n",
    "from keras.layers import Bidirectional, LSTM\n",
    "from keras.initializers import glorot_normal\n",
    "\n",
    "from sklearn.model_selection import cross_val_score, train_test_split, TimeSeriesSplit\n",
    "from sklearn.model_selection import KFold\n",
    "from sklearn.preprocessing import LabelEncoder\n",
    "from sklearn.pipeline import Pipeline"
   ]
  },
  {
   "cell_type": "code",
   "execution_count": 5,
   "metadata": {},
   "outputs": [],
   "source": [
    "y=y.values\n",
    "X=X.values\n",
    "\n",
    "encoder = LabelEncoder()\n",
    "encoder.fit(y)\n",
    "encoded_Y = encoder.transform(y)\n",
    "# convert integers to dummy variables (i.e. one hot encoded)\n",
    "dummy_y = np_utils.to_categorical(encoded_Y)\n"
   ]
  },
  {
   "cell_type": "code",
   "execution_count": 6,
   "metadata": {},
   "outputs": [],
   "source": [
    "from keras import backend as K\n",
    "def recall_m(y_true, y_pred):\n",
    "        true_positives = K.sum(K.round(K.clip(y_true * y_pred, 0, 1)))\n",
    "        possible_positives = K.sum(K.round(K.clip(y_true, 0, 1)))\n",
    "        recall = true_positives / (possible_positives + K.epsilon())\n",
    "        return recall\n",
    "\n",
    "def precision_m(y_true, y_pred):\n",
    "        true_positives = K.sum(K.round(K.clip(y_true * y_pred, 0, 1)))\n",
    "        predicted_positives = K.sum(K.round(K.clip(y_pred, 0, 1)))\n",
    "        precision = true_positives / (predicted_positives + K.epsilon())\n",
    "        return precision\n",
    "def f1_m(y_true, y_pred):\n",
    "    precision = precision_m(y_true, y_pred)\n",
    "    recall = recall_m(y_true, y_pred)\n",
    "    return 2*((precision*recall)/(precision+recall+K.epsilon()))\n",
    "\n",
    "def baseline_model():\n",
    "    # create model\n",
    "    model = Sequential()\n",
    "    model.add(Dense(12,  activation='relu')) # input_dim=314,\n",
    "#   model.add(Bidirectional(LSTM(256,  return_sequences=True, dropout=0.1, recurrent_dropout=0.1,kernel_initializer=glorot_normal(seed=None)),name = 'BDLSTM1')) #Best = 300,0.25,0.25\n",
    "#    model.add(Dense(8, activation='relu'))\n",
    "#    model.add(Dense(1, activation='linear'))\n",
    "    model.add(Dense(3, activation='softmax'))\n",
    "#     # Compile model\n",
    "    model.compile(loss='categorical_crossentropy', optimizer='adam', metrics=['accuracy', 'mae', 'mse', f1_m], verbose=1)\n",
    "    #model.compile(loss='mse', optimizer='adam', metrics=['mse','mae']) \n",
    "    return model\n",
    "estimator = KerasClassifier(build_fn=baseline_model, epochs=10, batch_size=2, verbose=1)"
   ]
  },
  {
   "cell_type": "code",
   "execution_count": 7,
   "metadata": {},
   "outputs": [
    {
     "name": "stdout",
     "output_type": "stream",
     "text": [
      "Epoch 1/10\n",
      "295/295 [==============================] - 7s 25ms/step - loss: 2.6350 - acc: 0.3729 - mean_absolute_error: 0.4165 - mean_squared_error: 0.3120 - f1_m: 0.3593\n",
      "Epoch 2/10\n",
      "295/295 [==============================] - 2s 7ms/step - loss: 1.6631 - acc: 0.3695 - mean_absolute_error: 0.4319 - mean_squared_error: 0.2861 - f1_m: 0.3085\n",
      "Epoch 3/10\n",
      "295/295 [==============================] - 2s 7ms/step - loss: 1.3183 - acc: 0.3898 - mean_absolute_error: 0.4167 - mean_squared_error: 0.2515 - f1_m: 0.3085A: 0s - loss: 1.3638 - acc: 0.4225 - mean_absolute_error: 0.4021 - mean_squared_error: 0\n",
      "Epoch 4/10\n",
      "295/295 [==============================] - 2s 6ms/step - loss: 1.2416 - acc: 0.4339 - mean_absolute_error: 0.4049 - mean_squared_error: 0.2353 - f1_m: 0.3605\n",
      "Epoch 5/10\n",
      "295/295 [==============================] - 2s 6ms/step - loss: 1.2240 - acc: 0.4576 - mean_absolute_error: 0.3910 - mean_squared_error: 0.2324 - f1_m: 0.3774\n",
      "Epoch 6/10\n",
      "295/295 [==============================] - 2s 7ms/step - loss: 1.1499 - acc: 0.4814 - mean_absolute_error: 0.3865 - mean_squared_error: 0.2214 - f1_m: 0.4328\n",
      "Epoch 7/10\n",
      "295/295 [==============================] - 2s 6ms/step - loss: 1.0810 - acc: 0.5356 - mean_absolute_error: 0.3678 - mean_squared_error: 0.2078 - f1_m: 0.4678\n",
      "Epoch 8/10\n",
      "295/295 [==============================] - 2s 8ms/step - loss: 1.0841 - acc: 0.5017 - mean_absolute_error: 0.3742 - mean_squared_error: 0.2109 - f1_m: 0.4282\n",
      "Epoch 9/10\n",
      "295/295 [==============================] - 3s 10ms/step - loss: 1.0446 - acc: 0.4712 - mean_absolute_error: 0.3699 - mean_squared_error: 0.2075 - f1_m: 0.4395\n",
      "Epoch 10/10\n",
      "295/295 [==============================] - ETA: 0s - loss: 0.9911 - acc: 0.5548 - mean_absolute_error: 0.3603 - mean_squared_error: 0.1932 - f1_m: 0.489 - 3s 9ms/step - loss: 0.9869 - acc: 0.5593 - mean_absolute_error: 0.3595 - mean_squared_error: 0.1923 - f1_m: 0.4915\n",
      "295/295 [==============================] - 1s 3ms/step\n",
      "Epoch 1/10\n",
      "590/590 [==============================] - 4s 8ms/step - loss: 3.2747 - acc: 0.3881 - mean_absolute_error: 0.4187 - mean_squared_error: 0.2864 - f1_m: 0.2520\n",
      "Epoch 2/10\n",
      "590/590 [==============================] - 4s 7ms/step - loss: 1.0941 - acc: 0.4441 - mean_absolute_error: 0.4344 - mean_squared_error: 0.2175 - f1_m: 0.0480\n",
      "Epoch 3/10\n",
      "590/590 [==============================] - 5s 8ms/step - loss: 1.0710 - acc: 0.4407 - mean_absolute_error: 0.4263 - mean_squared_error: 0.2138 - f1_m: 0.0949A: 0s - loss: 1.0691 - acc: 0.4372 - mean_absolute_error: 0.4235 - mean_squared_error: 0.2130 -\n",
      "Epoch 4/10\n",
      "590/590 [==============================] - 4s 7ms/step - loss: 1.0783 - acc: 0.4407 - mean_absolute_error: 0.4374 - mean_squared_error: 0.2180 - f1_m: 0.0068\n",
      "Epoch 5/10\n",
      "590/590 [==============================] - 4s 7ms/step - loss: 1.0744 - acc: 0.4407 - mean_absolute_error: 0.4357 - mean_squared_error: 0.2171 - f1_m: 0.0068\n",
      "Epoch 6/10\n",
      "590/590 [==============================] - 5s 9ms/step - loss: 1.0681 - acc: 0.4441 - mean_absolute_error: 0.4334 - mean_squared_error: 0.2156 - f1_m: 0.0090\n",
      "Epoch 7/10\n",
      "590/590 [==============================] - 4s 7ms/step - loss: 1.0782 - acc: 0.4390 - mean_absolute_error: 0.4339 - mean_squared_error: 0.2171 - f1_m: 0.0068\n",
      "Epoch 8/10\n",
      "590/590 [==============================] - 5s 8ms/step - loss: 1.0674 - acc: 0.4424 - mean_absolute_error: 0.4318 - mean_squared_error: 0.2154 - f1_m: 0.0090\n",
      "Epoch 9/10\n",
      "590/590 [==============================] - 5s 8ms/step - loss: 1.0747 - acc: 0.4407 - mean_absolute_error: 0.4327 - mean_squared_error: 0.2164 - f1_m: 0.0090- ETA: 3s - loss: 1.0715 - acc: 0.4324 - m\n",
      "Epoch 10/10\n",
      "590/590 [==============================] - 4s 7ms/step - loss: 1.0715 - acc: 0.4390 - mean_absolute_error: 0.4323 - mean_squared_error: 0.2165 - f1_m: 0.0068- ETA: 5s - loss: 1.1896 - acc: 0.2000 - m\n",
      "295/295 [==============================] - 1s 4ms/step\n",
      "Epoch 1/10\n",
      "885/885 [==============================] - 6s 7ms/step - loss: 2.2950 - acc: 0.4260 - mean_absolute_error: 0.3901 - mean_squared_error: 0.2833 - f1_m: 0.4181\n",
      "Epoch 2/10\n",
      "885/885 [==============================] - 10s 11ms/step - loss: 1.3175 - acc: 0.4960 - mean_absolute_error: 0.3667 - mean_squared_error: 0.2282 - f1_m: 0.4610\n",
      "Epoch 3/10\n",
      "885/885 [==============================] - 18s 20ms/step - loss: 1.1660 - acc: 0.5119 - mean_absolute_error: 0.3575 - mean_squared_error: 0.2092 - f1_m: 0.4652\n",
      "Epoch 4/10\n",
      "885/885 [==============================] - 12s 13ms/step - loss: 1.0473 - acc: 0.5559 - mean_absolute_error: 0.3403 - mean_squared_error: 0.1950 - f1_m: 0.5036\n",
      "Epoch 5/10\n",
      "885/885 [==============================] - 19s 21ms/step - loss: 1.0410 - acc: 0.5469 - mean_absolute_error: 0.3428 - mean_squared_error: 0.1923 - f1_m: 0.5066\n",
      "Epoch 6/10\n",
      "885/885 [==============================] - 8s 9ms/step - loss: 0.9335 - acc: 0.5944 - mean_absolute_error: 0.3213 - mean_squared_error: 0.1758 - f1_m: 0.5518\n",
      "Epoch 7/10\n",
      "885/885 [==============================] - 9s 10ms/step - loss: 0.9348 - acc: 0.6011 - mean_absolute_error: 0.3166 - mean_squared_error: 0.1734 - f1_m: 0.5571\n",
      "Epoch 8/10\n",
      "885/885 [==============================] - 9s 11ms/step - loss: 0.8460 - acc: 0.6305 - mean_absolute_error: 0.3109 - mean_squared_error: 0.1625 - f1_m: 0.5627\n",
      "Epoch 9/10\n",
      "885/885 [==============================] - 9s 11ms/step - loss: 0.8974 - acc: 0.6147 - mean_absolute_error: 0.3110 - mean_squared_error: 0.1714 - f1_m: 0.5563\n",
      "Epoch 10/10\n",
      "885/885 [==============================] - 7s 8ms/step - loss: 0.8428 - acc: 0.6249 - mean_absolute_error: 0.3034 - mean_squared_error: 0.1614 - f1_m: 0.5672A: 5s - loss: 0.9326 - acc: 0.5918 - mean_absolute_ - ETA: 2s - loss: 0.8240 - acc: 0.6186 - mean_absolute_\n",
      "295/295 [==============================] - 1s 5ms/step\n"
     ]
    }
   ],
   "source": [
    "# #seed = 7\n",
    "# #numpy.random.seed(seed)\n",
    "# from sklearn.model_selection import TimeSeriesSplit\n",
    "tscv = TimeSeriesSplit(n_splits=3)# max_train_size=100\n",
    "# for train_index, test_index in tscv.split(X):\n",
    "#     print(\"TRAIN:\", train_index.shape, \"TEST:\", test_index.shape)\n",
    "#     X_train, X_test = X[train_index], X[test_index]\n",
    "#     y_train, y_test = y[train_index], y[test_index]\n",
    "\n",
    "# #kfold = KFold(n_splits=10)\n",
    "# # shuffle=True, random_state=seed\n",
    "results = cross_val_score(estimator, X, dummy_y, cv=tscv.split(X))"
   ]
  },
  {
   "cell_type": "code",
   "execution_count": 8,
   "metadata": {
    "scrolled": true
   },
   "outputs": [
    {
     "data": {
      "text/plain": [
       "array([0.54915254, 0.48474576, 0.6440678 ])"
      ]
     },
     "execution_count": 8,
     "metadata": {},
     "output_type": "execute_result"
    }
   ],
   "source": [
    "results"
   ]
  },
  {
   "cell_type": "code",
   "execution_count": 9,
   "metadata": {},
   "outputs": [
    {
     "data": {
      "text/plain": [
       "0.559322033898305"
      ]
     },
     "execution_count": 9,
     "metadata": {},
     "output_type": "execute_result"
    }
   ],
   "source": [
    "import statistics \n",
    "x = statistics.mean(results)\n",
    "x"
   ]
  },
  {
   "cell_type": "code",
   "execution_count": 10,
   "metadata": {},
   "outputs": [],
   "source": [
    "X_train_calibrate, X_test, y_train_calibrate, y_test = train_test_split(X, y, test_size=0.20)\n",
    "X_train, X_calibrate, y_train, y_calibrate = train_test_split(X_train_calibrate, y_train_calibrate, test_size = 0.3, random_state = 42)"
   ]
  },
  {
   "cell_type": "code",
   "execution_count": 11,
   "metadata": {},
   "outputs": [
    {
     "name": "stderr",
     "output_type": "stream",
     "text": [
      "c:\\users\\martin\\anaconda3\\envs\\tensorflow\\lib\\site-packages\\ipykernel_launcher.py:2: UserWarning: The `nb_epoch` argument in `fit` has been renamed `epochs`.\n",
      "  \n"
     ]
    },
    {
     "name": "stdout",
     "output_type": "stream",
     "text": [
      "Train on 944 samples, validate on 236 samples\n",
      "Epoch 1/30\n",
      "944/944 [==============================] - 2s 2ms/step - loss: 4.2608 - acc: 0.4131 - mean_absolute_error: 0.3957 - mean_squared_error: 0.3338 - f1_m: 0.4067 - val_loss: 2.7519 - val_acc: 0.5169 - val_mean_absolute_error: 0.3372 - val_mean_squared_error: 0.2668 - val_f1_m: 0.5183\n",
      "Epoch 2/30\n",
      "944/944 [==============================] - 2s 2ms/step - loss: 1.8324 - acc: 0.4714 - mean_absolute_error: 0.3680 - mean_squared_error: 0.2650 - f1_m: 0.4586 - val_loss: 1.9954 - val_acc: 0.4492 - val_mean_absolute_error: 0.3822 - val_mean_squared_error: 0.2935 - val_f1_m: 0.4282\n",
      "Epoch 3/30\n",
      "944/944 [==============================] - 2s 2ms/step - loss: 1.5595 - acc: 0.4905 - mean_absolute_error: 0.3621 - mean_squared_error: 0.2502 - f1_m: 0.4751 - val_loss: 1.1822 - val_acc: 0.5720 - val_mean_absolute_error: 0.3341 - val_mean_squared_error: 0.2099 - val_f1_m: 0.5310\n",
      "Epoch 4/30\n",
      "944/944 [==============================] - 2s 2ms/step - loss: 1.3044 - acc: 0.5064 - mean_absolute_error: 0.3525 - mean_squared_error: 0.2285 - f1_m: 0.4983 - val_loss: 1.4772 - val_acc: 0.5551 - val_mean_absolute_error: 0.3194 - val_mean_squared_error: 0.2242 - val_f1_m: 0.5575\n",
      "Epoch 5/30\n",
      "944/944 [==============================] - 2s 2ms/step - loss: 1.2384 - acc: 0.5233 - mean_absolute_error: 0.3474 - mean_squared_error: 0.2214 - f1_m: 0.5029 - val_loss: 1.0098 - val_acc: 0.5847 - val_mean_absolute_error: 0.3246 - val_mean_squared_error: 0.1907 - val_f1_m: 0.5608\n",
      "Epoch 6/30\n",
      "944/944 [==============================] - 2s 2ms/step - loss: 1.1127 - acc: 0.5445 - mean_absolute_error: 0.3348 - mean_squared_error: 0.2042 - f1_m: 0.5238 - val_loss: 1.6900 - val_acc: 0.4788 - val_mean_absolute_error: 0.3390 - val_mean_squared_error: 0.2772 - val_f1_m: 0.4795\n",
      "Epoch 7/30\n",
      "944/944 [==============================] - 2s 2ms/step - loss: 1.1169 - acc: 0.5445 - mean_absolute_error: 0.3341 - mean_squared_error: 0.2045 - f1_m: 0.5242 - val_loss: 1.0412 - val_acc: 0.5551 - val_mean_absolute_error: 0.3417 - val_mean_squared_error: 0.2026 - val_f1_m: 0.5296\n",
      "Epoch 8/30\n",
      "944/944 [==============================] - 2s 2ms/step - loss: 0.9657 - acc: 0.5816 - mean_absolute_error: 0.3153 - mean_squared_error: 0.1829 - f1_m: 0.5670 - val_loss: 1.0035 - val_acc: 0.5890 - val_mean_absolute_error: 0.2971 - val_mean_squared_error: 0.1830 - val_f1_m: 0.5896\n",
      "Epoch 9/30\n",
      "944/944 [==============================] - 2s 2ms/step - loss: 0.9966 - acc: 0.5858 - mean_absolute_error: 0.3117 - mean_squared_error: 0.1838 - f1_m: 0.5746 - val_loss: 1.3702 - val_acc: 0.4831 - val_mean_absolute_error: 0.3586 - val_mean_squared_error: 0.2461 - val_f1_m: 0.4765\n",
      "Epoch 10/30\n",
      "944/944 [==============================] - 2s 2ms/step - loss: 0.9103 - acc: 0.6144 - mean_absolute_error: 0.3036 - mean_squared_error: 0.1740 - f1_m: 0.5985 - val_loss: 1.2191 - val_acc: 0.5805 - val_mean_absolute_error: 0.2964 - val_mean_squared_error: 0.2125 - val_f1_m: 0.5821\n",
      "Epoch 11/30\n",
      "944/944 [==============================] - 2s 2ms/step - loss: 0.8851 - acc: 0.6123 - mean_absolute_error: 0.3039 - mean_squared_error: 0.1702 - f1_m: 0.5790 - val_loss: 1.2607 - val_acc: 0.5042 - val_mean_absolute_error: 0.3454 - val_mean_squared_error: 0.2332 - val_f1_m: 0.4908\n",
      "Epoch 12/30\n",
      "944/944 [==============================] - 2s 2ms/step - loss: 0.7748 - acc: 0.6631 - mean_absolute_error: 0.2840 - mean_squared_error: 0.1487 - f1_m: 0.6468 - val_loss: 0.9929 - val_acc: 0.6017 - val_mean_absolute_error: 0.2932 - val_mean_squared_error: 0.1792 - val_f1_m: 0.5949\n",
      "Epoch 13/30\n",
      "944/944 [==============================] - 2s 2ms/step - loss: 0.8598 - acc: 0.6208 - mean_absolute_error: 0.2893 - mean_squared_error: 0.1624 - f1_m: 0.6169 - val_loss: 1.4361 - val_acc: 0.6271 - val_mean_absolute_error: 0.2841 - val_mean_squared_error: 0.2011 - val_f1_m: 0.6218\n",
      "Epoch 14/30\n",
      "944/944 [==============================] - 2s 2ms/step - loss: 0.7791 - acc: 0.6578 - mean_absolute_error: 0.2838 - mean_squared_error: 0.1508 - f1_m: 0.6455 - val_loss: 1.7012 - val_acc: 0.6186 - val_mean_absolute_error: 0.2800 - val_mean_squared_error: 0.2018 - val_f1_m: 0.6186\n",
      "Epoch 15/30\n",
      "944/944 [==============================] - 2s 2ms/step - loss: 0.8014 - acc: 0.6578 - mean_absolute_error: 0.2792 - mean_squared_error: 0.1526 - f1_m: 0.6506 - val_loss: 1.2926 - val_acc: 0.5000 - val_mean_absolute_error: 0.3492 - val_mean_squared_error: 0.2388 - val_f1_m: 0.4901\n",
      "Epoch 16/30\n",
      "944/944 [==============================] - 2s 2ms/step - loss: 0.9514 - acc: 0.6324 - mean_absolute_error: 0.2910 - mean_squared_error: 0.1745 - f1_m: 0.6277 - val_loss: 0.8144 - val_acc: 0.6398 - val_mean_absolute_error: 0.2782 - val_mean_squared_error: 0.1544 - val_f1_m: 0.6469\n",
      "Epoch 17/30\n",
      "944/944 [==============================] - 2s 2ms/step - loss: 0.7872 - acc: 0.6737 - mean_absolute_error: 0.2706 - mean_squared_error: 0.1487 - f1_m: 0.6626 - val_loss: 0.8273 - val_acc: 0.6356 - val_mean_absolute_error: 0.2839 - val_mean_squared_error: 0.1587 - val_f1_m: 0.6275\n",
      "Epoch 18/30\n",
      "944/944 [==============================] - 2s 2ms/step - loss: 0.8068 - acc: 0.6557 - mean_absolute_error: 0.2686 - mean_squared_error: 0.1521 - f1_m: 0.6530 - val_loss: 1.4451 - val_acc: 0.5847 - val_mean_absolute_error: 0.2893 - val_mean_squared_error: 0.2104 - val_f1_m: 0.5843\n",
      "Epoch 19/30\n",
      "944/944 [==============================] - 2s 2ms/step - loss: 0.7357 - acc: 0.6801 - mean_absolute_error: 0.2585 - mean_squared_error: 0.1406 - f1_m: 0.6783 - val_loss: 0.9865 - val_acc: 0.5890 - val_mean_absolute_error: 0.3087 - val_mean_squared_error: 0.1835 - val_f1_m: 0.5733\n",
      "Epoch 20/30\n",
      "944/944 [==============================] - 2s 2ms/step - loss: 0.7368 - acc: 0.6843 - mean_absolute_error: 0.2598 - mean_squared_error: 0.1403 - f1_m: 0.6800 - val_loss: 1.4645 - val_acc: 0.5339 - val_mean_absolute_error: 0.3118 - val_mean_squared_error: 0.2357 - val_f1_m: 0.5331\n",
      "Epoch 21/30\n",
      "944/944 [==============================] - 2s 2ms/step - loss: 0.7340 - acc: 0.7044 - mean_absolute_error: 0.2550 - mean_squared_error: 0.1382 - f1_m: 0.6929 - val_loss: 0.8922 - val_acc: 0.6271 - val_mean_absolute_error: 0.2818 - val_mean_squared_error: 0.1680 - val_f1_m: 0.6143\n",
      "Epoch 22/30\n",
      "944/944 [==============================] - 2s 2ms/step - loss: 0.7643 - acc: 0.6758 - mean_absolute_error: 0.2643 - mean_squared_error: 0.1456 - f1_m: 0.6602 - val_loss: 1.1320 - val_acc: 0.6144 - val_mean_absolute_error: 0.2735 - val_mean_squared_error: 0.1865 - val_f1_m: 0.6271\n",
      "Epoch 23/30\n",
      "944/944 [==============================] - 2s 2ms/step - loss: 0.6924 - acc: 0.7076 - mean_absolute_error: 0.2480 - mean_squared_error: 0.1312 - f1_m: 0.7008 - val_loss: 0.9675 - val_acc: 0.5932 - val_mean_absolute_error: 0.2958 - val_mean_squared_error: 0.1817 - val_f1_m: 0.5799\n",
      "Epoch 24/30\n",
      "944/944 [==============================] - 2s 2ms/step - loss: 0.6369 - acc: 0.7299 - mean_absolute_error: 0.2399 - mean_squared_error: 0.1228 - f1_m: 0.7253 - val_loss: 0.8254 - val_acc: 0.6271 - val_mean_absolute_error: 0.2954 - val_mean_squared_error: 0.1655 - val_f1_m: 0.6133\n",
      "Epoch 25/30\n",
      "944/944 [==============================] - 2s 2ms/step - loss: 0.6199 - acc: 0.7426 - mean_absolute_error: 0.2378 - mean_squared_error: 0.1190 - f1_m: 0.7240 - val_loss: 0.8000 - val_acc: 0.6441 - val_mean_absolute_error: 0.2866 - val_mean_squared_error: 0.1582 - val_f1_m: 0.6118\n",
      "Epoch 26/30\n",
      "944/944 [==============================] - 2s 2ms/step - loss: 0.6774 - acc: 0.7161 - mean_absolute_error: 0.2460 - mean_squared_error: 0.1290 - f1_m: 0.7060 - val_loss: 1.1303 - val_acc: 0.5508 - val_mean_absolute_error: 0.3214 - val_mean_squared_error: 0.2039 - val_f1_m: 0.5417\n",
      "Epoch 27/30\n",
      "944/944 [==============================] - 2s 2ms/step - loss: 0.7845 - acc: 0.6589 - mean_absolute_error: 0.2586 - mean_squared_error: 0.1506 - f1_m: 0.6538 - val_loss: 1.0628 - val_acc: 0.5297 - val_mean_absolute_error: 0.3316 - val_mean_squared_error: 0.2100 - val_f1_m: 0.5203\n",
      "Epoch 28/30\n",
      "944/944 [==============================] - 2s 2ms/step - loss: 0.6571 - acc: 0.7278 - mean_absolute_error: 0.2387 - mean_squared_error: 0.1253 - f1_m: 0.7209 - val_loss: 0.8158 - val_acc: 0.6017 - val_mean_absolute_error: 0.2919 - val_mean_squared_error: 0.1589 - val_f1_m: 0.6105\n"
     ]
    },
    {
     "name": "stdout",
     "output_type": "stream",
     "text": [
      "Epoch 29/30\n",
      "944/944 [==============================] - 2s 2ms/step - loss: 0.6666 - acc: 0.7066 - mean_absolute_error: 0.2424 - mean_squared_error: 0.1284 - f1_m: 0.6986 - val_loss: 0.8395 - val_acc: 0.6483 - val_mean_absolute_error: 0.2750 - val_mean_squared_error: 0.1591 - val_f1_m: 0.6289\n",
      "Epoch 30/30\n",
      "944/944 [==============================] - 2s 2ms/step - loss: 0.6831 - acc: 0.7066 - mean_absolute_error: 0.2395 - mean_squared_error: 0.1325 - f1_m: 0.7019 - val_loss: 1.0621 - val_acc: 0.5636 - val_mean_absolute_error: 0.2893 - val_mean_squared_error: 0.2007 - val_f1_m: 0.5654\n"
     ]
    },
    {
     "data": {
      "text/plain": [
       "<keras.callbacks.History at 0x948f74048>"
      ]
     },
     "execution_count": 11,
     "metadata": {},
     "output_type": "execute_result"
    }
   ],
   "source": [
    "model = baseline_model()\n",
    "model.fit(X, dummy_y, nb_epoch=30, batch_size=10, validation_split=0.2, verbose=1)"
   ]
  },
  {
   "cell_type": "code",
   "execution_count": 12,
   "metadata": {},
   "outputs": [
    {
     "data": {
      "text/plain": [
       "array([[9.95674431e-01, 4.32524923e-03, 2.59739380e-07],\n",
       "       [5.69902398e-02, 3.12833115e-02, 9.11726475e-01],\n",
       "       [4.67384458e-02, 9.32029903e-01, 2.12316737e-02],\n",
       "       [4.96488588e-04, 3.72496457e-03, 9.95778561e-01],\n",
       "       [1.70534253e-01, 3.59123081e-01, 4.70342696e-01],\n",
       "       [9.95621204e-01, 4.37571248e-03, 3.11455028e-06],\n",
       "       [5.56902528e-01, 2.45877370e-01, 1.97220132e-01],\n",
       "       [5.71253121e-01, 1.69066906e-01, 2.59679943e-01],\n",
       "       [8.05065453e-01, 1.11366078e-01, 8.35685059e-02],\n",
       "       [8.40273201e-01, 4.48878594e-02, 1.14838965e-01],\n",
       "       [6.75323009e-01, 1.55406967e-01, 1.69270068e-01],\n",
       "       [5.44393539e-01, 2.75240034e-01, 1.80366412e-01],\n",
       "       [8.52769732e-01, 6.68345466e-02, 8.03956687e-02],\n",
       "       [7.46895522e-02, 9.52452943e-02, 8.30065191e-01],\n",
       "       [2.96437413e-01, 3.80091220e-01, 3.23471397e-01],\n",
       "       [3.69575799e-01, 3.53354603e-01, 2.77069658e-01],\n",
       "       [3.77992839e-01, 5.17454267e-01, 1.04552910e-01],\n",
       "       [7.71432161e-01, 7.90895522e-02, 1.49478376e-01],\n",
       "       [2.65522487e-02, 8.35395604e-02, 8.89908195e-01],\n",
       "       [5.56384623e-02, 3.87548596e-01, 5.56813002e-01],\n",
       "       [1.46699874e-02, 5.28212935e-02, 9.32508707e-01],\n",
       "       [1.90608323e-01, 2.90086687e-01, 5.19304991e-01],\n",
       "       [6.63004369e-02, 7.84927249e-01, 1.48772359e-01],\n",
       "       [6.31750748e-02, 7.49916077e-01, 1.86908826e-01],\n",
       "       [4.62262005e-01, 1.30791873e-01, 4.06946152e-01],\n",
       "       [1.20182298e-01, 2.44229794e-01, 6.35587931e-01],\n",
       "       [7.00617671e-01, 2.08949372e-01, 9.04329419e-02],\n",
       "       [1.12695821e-01, 7.60431707e-01, 1.26872495e-01],\n",
       "       [5.11091352e-01, 1.90008044e-01, 2.98900664e-01],\n",
       "       [9.60428715e-02, 1.50856346e-01, 7.53100812e-01],\n",
       "       [1.15082294e-01, 2.60551482e-01, 6.24366224e-01],\n",
       "       [2.83310860e-01, 5.99682748e-01, 1.17006361e-01],\n",
       "       [5.66824675e-01, 2.18448907e-01, 2.14726478e-01],\n",
       "       [7.77982652e-01, 1.89886019e-01, 3.21313664e-02],\n",
       "       [1.69916954e-02, 1.10882014e-01, 8.72126341e-01],\n",
       "       [7.07623899e-01, 1.38777778e-01, 1.53598353e-01],\n",
       "       [3.99618834e-01, 3.76387596e-01, 2.23993599e-01],\n",
       "       [3.70752215e-01, 4.41282123e-01, 1.87965676e-01],\n",
       "       [4.28589694e-02, 1.81453619e-02, 9.38995659e-01],\n",
       "       [8.27282965e-02, 6.75399303e-02, 8.49731743e-01],\n",
       "       [6.92827851e-02, 5.09155877e-02, 8.79801691e-01],\n",
       "       [5.90962827e-01, 6.22219518e-02, 3.46815258e-01],\n",
       "       [3.69873308e-02, 6.94197649e-03, 9.56070662e-01],\n",
       "       [6.18663616e-02, 1.75075427e-01, 7.63058186e-01],\n",
       "       [9.51652452e-02, 2.31815930e-02, 8.81653130e-01],\n",
       "       [3.15549970e-02, 7.11178109e-02, 8.97327244e-01],\n",
       "       [4.69785422e-01, 1.88092113e-01, 3.42122465e-01],\n",
       "       [2.49799201e-03, 5.27315633e-03, 9.92228866e-01],\n",
       "       [8.02746415e-01, 1.37865186e-01, 5.93883395e-02],\n",
       "       [1.38925537e-02, 3.56814936e-02, 9.50425982e-01],\n",
       "       [4.88881618e-01, 3.28295648e-01, 1.82822704e-01],\n",
       "       [8.60131606e-02, 1.17763884e-01, 7.96222985e-01],\n",
       "       [1.91400707e-01, 4.40074086e-01, 3.68525207e-01],\n",
       "       [3.04325968e-01, 1.60114706e-01, 5.35559356e-01],\n",
       "       [7.21084118e-01, 8.95459130e-02, 1.89369947e-01],\n",
       "       [9.90116373e-02, 2.36607075e-01, 6.64381325e-01],\n",
       "       [3.52139115e-01, 5.18536329e-01, 1.29324511e-01],\n",
       "       [5.25644481e-01, 2.94335008e-01, 1.80020526e-01],\n",
       "       [2.12086394e-01, 3.05736177e-02, 7.57340014e-01],\n",
       "       [2.38067344e-01, 2.94840097e-01, 4.67092633e-01],\n",
       "       [4.32297647e-01, 1.07270189e-01, 4.60432172e-01],\n",
       "       [4.03604098e-03, 3.84800695e-02, 9.57483888e-01],\n",
       "       [3.46736191e-03, 1.16552003e-02, 9.84877467e-01],\n",
       "       [1.38592407e-01, 1.16082348e-01, 7.45325267e-01],\n",
       "       [1.84587985e-02, 5.12316748e-02, 9.30309534e-01],\n",
       "       [6.25870749e-02, 1.74449548e-01, 7.62963414e-01],\n",
       "       [3.42036299e-02, 5.76673746e-02, 9.08128977e-01],\n",
       "       [1.99713618e-01, 2.93541819e-01, 5.06744623e-01],\n",
       "       [5.24493814e-01, 3.84019643e-01, 9.14865583e-02],\n",
       "       [4.25287277e-01, 1.33743986e-01, 4.40968722e-01],\n",
       "       [8.41217935e-01, 9.62147340e-02, 6.25672415e-02],\n",
       "       [3.39091808e-01, 1.82830513e-01, 4.78077680e-01],\n",
       "       [5.81015587e-01, 2.91580141e-01, 1.27404287e-01],\n",
       "       [3.71521674e-02, 9.90795810e-03, 9.52939928e-01],\n",
       "       [2.41939895e-04, 1.22743077e-03, 9.98530626e-01],\n",
       "       [8.80815566e-01, 1.17734246e-01, 1.45020895e-03],\n",
       "       [2.61729836e-01, 1.87869936e-01, 5.50400257e-01],\n",
       "       [2.46859528e-02, 6.67587249e-03, 9.68638182e-01],\n",
       "       [2.94228882e-01, 5.61386347e-01, 1.44384801e-01],\n",
       "       [4.53835428e-01, 7.87941813e-02, 4.67370421e-01],\n",
       "       [1.87540781e-02, 1.03254415e-01, 8.77991498e-01],\n",
       "       [2.50396967e-01, 1.78647116e-01, 5.70955932e-01],\n",
       "       [9.17788804e-01, 4.75146174e-02, 3.46965604e-02],\n",
       "       [3.62039020e-04, 2.67563667e-03, 9.96962309e-01],\n",
       "       [6.79151639e-02, 3.01102102e-01, 6.30982757e-01],\n",
       "       [3.91174912e-01, 4.50918078e-01, 1.57907039e-01],\n",
       "       [6.95358515e-01, 2.94582456e-01, 1.00590456e-02],\n",
       "       [1.58339560e-01, 1.56531125e-01, 6.85129285e-01],\n",
       "       [7.02404534e-04, 5.89277130e-03, 9.93404806e-01],\n",
       "       [6.16426885e-01, 3.07991445e-01, 7.55817145e-02],\n",
       "       [2.29436066e-02, 5.74253798e-02, 9.19631004e-01],\n",
       "       [5.92517197e-01, 1.15870193e-01, 2.91612566e-01],\n",
       "       [1.04959778e-01, 1.24224760e-01, 7.70815432e-01],\n",
       "       [8.45927179e-01, 1.35504365e-01, 1.85685139e-02],\n",
       "       [6.65863514e-01, 1.42461747e-01, 1.91674694e-01],\n",
       "       [3.94724905e-02, 1.63859148e-02, 9.44141567e-01],\n",
       "       [5.51776767e-01, 3.99310857e-01, 4.89124320e-02],\n",
       "       [6.23393841e-02, 3.21343541e-01, 6.16317093e-01],\n",
       "       [4.40838128e-01, 4.76569682e-01, 8.25921819e-02],\n",
       "       [4.33527492e-02, 1.57327801e-01, 7.99319446e-01]], dtype=float32)"
      ]
     },
     "execution_count": 12,
     "metadata": {},
     "output_type": "execute_result"
    }
   ],
   "source": [
    "prediction = model.predict(X[0:100])\n",
    "prediction /= prediction.sum(axis=1).reshape((-1, 1))\n",
    "prediction"
   ]
  }
 ],
 "metadata": {
  "kernelspec": {
   "display_name": "Python 3",
   "language": "python",
   "name": "python3"
  },
  "language_info": {
   "codemirror_mode": {
    "name": "ipython",
    "version": 3
   },
   "file_extension": ".py",
   "mimetype": "text/x-python",
   "name": "python",
   "nbconvert_exporter": "python",
   "pygments_lexer": "ipython3",
   "version": "3.6.5"
  }
 },
 "nbformat": 4,
 "nbformat_minor": 2
}
