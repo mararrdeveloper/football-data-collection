{
 "cells": [
  {
   "cell_type": "code",
   "execution_count": 13,
   "metadata": {
    "collapsed": true
   },
   "outputs": [],
   "source": [
    "#DB Connection \n",
    "import pymssql\n",
    "import pandas as pd\n",
    "import pyodbc\n",
    "import numpy as np\n",
    "conn = pyodbc.connect(\"Driver={SQL Server Native Client 11.0};\"\n",
    "                     \"Server=Martin-PC\\SQLEXPRESS;\"\n",
    "                     \"Database=FootballData;\"\n",
    "                     \"Trusted_Connection=yes;\")\n",
    "#conn = pymssql.connect(server=\"localhost\", user=\"\",password=\"\", port=63642)  # You can lookup the port number inside SQL server. \n",
    "\n",
    "data_folder = 'DataAnalysisFootball/data/'"
   ]
  },
  {
   "cell_type": "code",
   "execution_count": 5,
   "metadata": {},
   "outputs": [
    {
     "name": "stdout",
     "output_type": "stream",
     "text": [
      "(7400, 12)\n"
     ]
    },
    {
     "data": {
      "text/html": [
       "<div>\n",
       "<style>\n",
       "    .dataframe thead tr:only-child th {\n",
       "        text-align: right;\n",
       "    }\n",
       "\n",
       "    .dataframe thead th {\n",
       "        text-align: left;\n",
       "    }\n",
       "\n",
       "    .dataframe tbody tr th {\n",
       "        vertical-align: top;\n",
       "    }\n",
       "</style>\n",
       "<table border=\"1\" class=\"dataframe\">\n",
       "  <thead>\n",
       "    <tr style=\"text-align: right;\">\n",
       "      <th></th>\n",
       "      <th>HomeTeam</th>\n",
       "      <th>AwayTeam</th>\n",
       "      <th>HomeTeamId</th>\n",
       "      <th>AwayTeamId</th>\n",
       "      <th>ExternalId</th>\n",
       "      <th>Date</th>\n",
       "      <th>Country</th>\n",
       "      <th>League</th>\n",
       "      <th>Season</th>\n",
       "      <th>Stage</th>\n",
       "      <th>AwayTeam_Id</th>\n",
       "      <th>HomeTeam_Id</th>\n",
       "    </tr>\n",
       "  </thead>\n",
       "  <tbody>\n",
       "    <tr>\n",
       "      <th>0</th>\n",
       "      <td>Leicester</td>\n",
       "      <td>Everton</td>\n",
       "      <td>8197</td>\n",
       "      <td>8668</td>\n",
       "      <td>1723984</td>\n",
       "      <td>2014-08-18 15:00:00</td>\n",
       "      <td>England</td>\n",
       "      <td>Premier League</td>\n",
       "      <td>2014/2015</td>\n",
       "      <td>1</td>\n",
       "      <td>13</td>\n",
       "      <td>9</td>\n",
       "    </tr>\n",
       "    <tr>\n",
       "      <th>1</th>\n",
       "      <td>Burnley</td>\n",
       "      <td>Chelsea</td>\n",
       "      <td>8191</td>\n",
       "      <td>8455</td>\n",
       "      <td>1723983</td>\n",
       "      <td>2014-08-18 15:00:00</td>\n",
       "      <td>England</td>\n",
       "      <td>Premier League</td>\n",
       "      <td>2014/2015</td>\n",
       "      <td>1</td>\n",
       "      <td>14</td>\n",
       "      <td>10</td>\n",
       "    </tr>\n",
       "    <tr>\n",
       "      <th>2</th>\n",
       "      <td>Liverpool</td>\n",
       "      <td>Southampton</td>\n",
       "      <td>8650</td>\n",
       "      <td>8466</td>\n",
       "      <td>1723985</td>\n",
       "      <td>2014-08-18 15:00:00</td>\n",
       "      <td>England</td>\n",
       "      <td>Premier League</td>\n",
       "      <td>2014/2015</td>\n",
       "      <td>1</td>\n",
       "      <td>15</td>\n",
       "      <td>12</td>\n",
       "    </tr>\n",
       "    <tr>\n",
       "      <th>3</th>\n",
       "      <td>Arsenal</td>\n",
       "      <td>Crystal Palace</td>\n",
       "      <td>9825</td>\n",
       "      <td>9826</td>\n",
       "      <td>1723982</td>\n",
       "      <td>2014-08-18 15:00:00</td>\n",
       "      <td>England</td>\n",
       "      <td>Premier League</td>\n",
       "      <td>2014/2015</td>\n",
       "      <td>1</td>\n",
       "      <td>16</td>\n",
       "      <td>11</td>\n",
       "    </tr>\n",
       "    <tr>\n",
       "      <th>4</th>\n",
       "      <td>Manchester United</td>\n",
       "      <td>Swansea</td>\n",
       "      <td>10260</td>\n",
       "      <td>10003</td>\n",
       "      <td>1723986</td>\n",
       "      <td>2014-08-18 15:00:00</td>\n",
       "      <td>England</td>\n",
       "      <td>Premier League</td>\n",
       "      <td>2014/2015</td>\n",
       "      <td>1</td>\n",
       "      <td>26</td>\n",
       "      <td>25</td>\n",
       "    </tr>\n",
       "    <tr>\n",
       "      <th>5</th>\n",
       "      <td>Newcastle United</td>\n",
       "      <td>Manchester City</td>\n",
       "      <td>10261</td>\n",
       "      <td>8456</td>\n",
       "      <td>1723987</td>\n",
       "      <td>2014-08-18 15:00:00</td>\n",
       "      <td>England</td>\n",
       "      <td>Premier League</td>\n",
       "      <td>2014/2015</td>\n",
       "      <td>1</td>\n",
       "      <td>28</td>\n",
       "      <td>27</td>\n",
       "    </tr>\n",
       "    <tr>\n",
       "      <th>6</th>\n",
       "      <td>Stoke</td>\n",
       "      <td>Aston Villa</td>\n",
       "      <td>10194</td>\n",
       "      <td>10252</td>\n",
       "      <td>1723989</td>\n",
       "      <td>2014-08-18 15:00:00</td>\n",
       "      <td>England</td>\n",
       "      <td>Premier League</td>\n",
       "      <td>2014/2015</td>\n",
       "      <td>1</td>\n",
       "      <td>34</td>\n",
       "      <td>33</td>\n",
       "    </tr>\n",
       "    <tr>\n",
       "      <th>7</th>\n",
       "      <td>Queens Park Rangers</td>\n",
       "      <td>Hull</td>\n",
       "      <td>10172</td>\n",
       "      <td>8667</td>\n",
       "      <td>1723988</td>\n",
       "      <td>2014-08-18 15:00:00</td>\n",
       "      <td>England</td>\n",
       "      <td>Premier League</td>\n",
       "      <td>2014/2015</td>\n",
       "      <td>1</td>\n",
       "      <td>36</td>\n",
       "      <td>35</td>\n",
       "    </tr>\n",
       "    <tr>\n",
       "      <th>8</th>\n",
       "      <td>West Bromwich Albion</td>\n",
       "      <td>Sunderland</td>\n",
       "      <td>8659</td>\n",
       "      <td>8472</td>\n",
       "      <td>1723990</td>\n",
       "      <td>2014-08-18 15:00:00</td>\n",
       "      <td>England</td>\n",
       "      <td>Premier League</td>\n",
       "      <td>2014/2015</td>\n",
       "      <td>1</td>\n",
       "      <td>38</td>\n",
       "      <td>37</td>\n",
       "    </tr>\n",
       "    <tr>\n",
       "      <th>9</th>\n",
       "      <td>West Ham</td>\n",
       "      <td>Tottenham</td>\n",
       "      <td>8654</td>\n",
       "      <td>8586</td>\n",
       "      <td>1723991</td>\n",
       "      <td>2014-08-18 15:00:00</td>\n",
       "      <td>England</td>\n",
       "      <td>Premier League</td>\n",
       "      <td>2014/2015</td>\n",
       "      <td>1</td>\n",
       "      <td>40</td>\n",
       "      <td>39</td>\n",
       "    </tr>\n",
       "  </tbody>\n",
       "</table>\n",
       "</div>"
      ],
      "text/plain": [
       "               HomeTeam         AwayTeam HomeTeamId AwayTeamId ExternalId  \\\n",
       "0             Leicester          Everton       8197       8668    1723984   \n",
       "1               Burnley          Chelsea       8191       8455    1723983   \n",
       "2             Liverpool      Southampton       8650       8466    1723985   \n",
       "3               Arsenal   Crystal Palace       9825       9826    1723982   \n",
       "4     Manchester United          Swansea      10260      10003    1723986   \n",
       "5      Newcastle United  Manchester City      10261       8456    1723987   \n",
       "6                 Stoke      Aston Villa      10194      10252    1723989   \n",
       "7   Queens Park Rangers             Hull      10172       8667    1723988   \n",
       "8  West Bromwich Albion       Sunderland       8659       8472    1723990   \n",
       "9              West Ham        Tottenham       8654       8586    1723991   \n",
       "\n",
       "                 Date  Country          League     Season Stage  AwayTeam_Id  \\\n",
       "0 2014-08-18 15:00:00  England  Premier League  2014/2015     1           13   \n",
       "1 2014-08-18 15:00:00  England  Premier League  2014/2015     1           14   \n",
       "2 2014-08-18 15:00:00  England  Premier League  2014/2015     1           15   \n",
       "3 2014-08-18 15:00:00  England  Premier League  2014/2015     1           16   \n",
       "4 2014-08-18 15:00:00  England  Premier League  2014/2015     1           26   \n",
       "5 2014-08-18 15:00:00  England  Premier League  2014/2015     1           28   \n",
       "6 2014-08-18 15:00:00  England  Premier League  2014/2015     1           34   \n",
       "7 2014-08-18 15:00:00  England  Premier League  2014/2015     1           36   \n",
       "8 2014-08-18 15:00:00  England  Premier League  2014/2015     1           38   \n",
       "9 2014-08-18 15:00:00  England  Premier League  2014/2015     1           40   \n",
       "\n",
       "   HomeTeam_Id  \n",
       "0            9  \n",
       "1           10  \n",
       "2           12  \n",
       "3           11  \n",
       "4           25  \n",
       "5           27  \n",
       "6           33  \n",
       "7           35  \n",
       "8           37  \n",
       "9           39  "
      ]
     },
     "execution_count": 5,
     "metadata": {},
     "output_type": "execute_result"
    }
   ],
   "source": [
    "#Matches select\n",
    "stmt = \"\"\"SELECT  Teams.FullName as HomeTeam, Teams2.FullName as AwayTeam, \n",
    "        Teams.ExternalId as HomeTeamId, Teams2.ExternalId as AwayTeamId\n",
    "\t  ,[Matches].ExternalId as ExternalId\n",
    "      ,[Date]\n",
    "      ,[Country]\n",
    "      ,[League]\n",
    "      ,[Season]\n",
    "      ,[Stage]\n",
    "      ,[AwayTeam_Id]\n",
    "      ,[HomeTeam_Id]\n",
    "FROM  [FootballData].[dbo].[Matches]\n",
    "LEFT JOIN [Teams] ON Matches.HomeTeam_Id = Teams.Id\n",
    "LEFT JOIN [Teams] as Teams2 ON Matches.AwayTeam_Id = Teams2.Id\"\"\"\n",
    "# Excute Query here\n",
    "df_matches = pd.read_sql(stmt,conn)\n",
    "df_matches.drop_duplicates(['ExternalId'], inplace=True)\n",
    "df_matches['Date']=pd.to_datetime(df_matches['Date'])\n",
    "print(df_matches.shape)\n",
    "df_matches.head(10)"
   ]
  },
  {
   "cell_type": "code",
   "execution_count": 7,
   "metadata": {},
   "outputs": [
    {
     "name": "stdout",
     "output_type": "stream",
     "text": [
      "(73909, 6)\n"
     ]
    },
    {
     "data": {
      "text/html": [
       "<div>\n",
       "<style>\n",
       "    .dataframe thead tr:only-child th {\n",
       "        text-align: right;\n",
       "    }\n",
       "\n",
       "    .dataframe thead th {\n",
       "        text-align: left;\n",
       "    }\n",
       "\n",
       "    .dataframe tbody tr th {\n",
       "        vertical-align: top;\n",
       "    }\n",
       "</style>\n",
       "<table border=\"1\" class=\"dataframe\">\n",
       "  <thead>\n",
       "    <tr style=\"text-align: right;\">\n",
       "      <th></th>\n",
       "      <th>Id</th>\n",
       "      <th>ExternalId</th>\n",
       "      <th>MatchId</th>\n",
       "      <th>Minute</th>\n",
       "      <th>Player1</th>\n",
       "      <th>TeamId</th>\n",
       "    </tr>\n",
       "  </thead>\n",
       "  <tbody>\n",
       "    <tr>\n",
       "      <th>0</th>\n",
       "      <td>1</td>\n",
       "      <td>3647429</td>\n",
       "      <td>1723982</td>\n",
       "      <td>15</td>\n",
       "      <td>37436</td>\n",
       "      <td>9825</td>\n",
       "    </tr>\n",
       "    <tr>\n",
       "      <th>1</th>\n",
       "      <td>2</td>\n",
       "      <td>3649357</td>\n",
       "      <td>1723985</td>\n",
       "      <td>9</td>\n",
       "      <td>30618</td>\n",
       "      <td>8650</td>\n",
       "    </tr>\n",
       "  </tbody>\n",
       "</table>\n",
       "</div>"
      ],
      "text/plain": [
       "   Id ExternalId  MatchId Minute Player1 TeamId\n",
       "0   1    3647429  1723982     15   37436   9825\n",
       "1   2    3649357  1723985      9   30618   8650"
      ]
     },
     "execution_count": 7,
     "metadata": {},
     "output_type": "execute_result"
    }
   ],
   "source": [
    "#Corners select\n",
    "stmt = \"SELECT * FROM Corners\"\n",
    "# Excute Query here\n",
    "df_corners = pd.read_sql(stmt,conn)\n",
    "#df_corners = df_corners['Minute'].notnull()\n",
    "print(df_corners.shape)\n",
    "df_corners.drop_duplicates(['ExternalId'], inplace=True)\n",
    "df_corners.head(2)"
   ]
  },
  {
   "cell_type": "code",
   "execution_count": 8,
   "metadata": {},
   "outputs": [
    {
     "name": "stdout",
     "output_type": "stream",
     "text": [
      "(79153, 6)\n",
      "(78322, 6)\n",
      "(90166, 7)\n"
     ]
    },
    {
     "data": {
      "text/html": [
       "<div>\n",
       "<style>\n",
       "    .dataframe thead tr:only-child th {\n",
       "        text-align: right;\n",
       "    }\n",
       "\n",
       "    .dataframe thead th {\n",
       "        text-align: left;\n",
       "    }\n",
       "\n",
       "    .dataframe tbody tr th {\n",
       "        vertical-align: top;\n",
       "    }\n",
       "</style>\n",
       "<table border=\"1\" class=\"dataframe\">\n",
       "  <thead>\n",
       "    <tr style=\"text-align: right;\">\n",
       "      <th></th>\n",
       "      <th>Id</th>\n",
       "      <th>ExternalId</th>\n",
       "      <th>MatchId</th>\n",
       "      <th>Minute</th>\n",
       "      <th>HomePossession</th>\n",
       "      <th>AwayPossession</th>\n",
       "      <th>TeamId</th>\n",
       "    </tr>\n",
       "  </thead>\n",
       "  <tbody>\n",
       "    <tr>\n",
       "      <th>0</th>\n",
       "      <td>1</td>\n",
       "      <td>3645948</td>\n",
       "      <td>1723984</td>\n",
       "      <td>23</td>\n",
       "      <td>39</td>\n",
       "      <td>61</td>\n",
       "      <td>0</td>\n",
       "    </tr>\n",
       "    <tr>\n",
       "      <th>1</th>\n",
       "      <td>2</td>\n",
       "      <td>3652653</td>\n",
       "      <td>1723983</td>\n",
       "      <td>23</td>\n",
       "      <td>35</td>\n",
       "      <td>65</td>\n",
       "      <td>0</td>\n",
       "    </tr>\n",
       "    <tr>\n",
       "      <th>2</th>\n",
       "      <td>3</td>\n",
       "      <td>3646197</td>\n",
       "      <td>1723984</td>\n",
       "      <td>44</td>\n",
       "      <td>36</td>\n",
       "      <td>64</td>\n",
       "      <td>0</td>\n",
       "    </tr>\n",
       "    <tr>\n",
       "      <th>3</th>\n",
       "      <td>4</td>\n",
       "      <td>3652713</td>\n",
       "      <td>1723983</td>\n",
       "      <td>44</td>\n",
       "      <td>35</td>\n",
       "      <td>65</td>\n",
       "      <td>0</td>\n",
       "    </tr>\n",
       "    <tr>\n",
       "      <th>4</th>\n",
       "      <td>5</td>\n",
       "      <td>3646619</td>\n",
       "      <td>1723984</td>\n",
       "      <td>69</td>\n",
       "      <td>37</td>\n",
       "      <td>63</td>\n",
       "      <td>0</td>\n",
       "    </tr>\n",
       "  </tbody>\n",
       "</table>\n",
       "</div>"
      ],
      "text/plain": [
       "   Id ExternalId  MatchId  Minute  HomePossession  AwayPossession  TeamId\n",
       "0   1    3645948  1723984      23              39              61       0\n",
       "1   2    3652653  1723983      23              35              65       0\n",
       "2   3    3646197  1723984      44              36              64       0\n",
       "3   4    3652713  1723983      44              35              65       0\n",
       "4   5    3646619  1723984      69              37              63       0"
      ]
     },
     "execution_count": 8,
     "metadata": {},
     "output_type": "execute_result"
    }
   ],
   "source": [
    "#Shots on select\n",
    "stmt = \"SELECT * FROM ShotOns\"\n",
    "# Excute Query here\n",
    "df_shots_on = pd.read_sql(stmt,conn)\n",
    "#df_corners = df_corners['Minute'].notnull()\n",
    "print(df_shots_on.shape)\n",
    "df_shots_on.drop_duplicates(['ExternalId'], inplace=True)\n",
    "\n",
    "#Shots off select\n",
    "stmt = \"SELECT * FROM ShotOffs\"\n",
    "# Excute Query here\n",
    "df_shots_off = pd.read_sql(stmt,conn)\n",
    "#df_corners = df_corners['Minute'].notnull()\n",
    "print(df_shots_off.shape)\n",
    "df_shots_off.drop_duplicates(['ExternalId'], inplace=True)\n",
    "\n",
    "#Possessions select\n",
    "stmt = \"SELECT * FROM Possessions\"\n",
    "# Excute Query here\n",
    "df_possessions = pd.read_sql(stmt,conn)\n",
    "#df_corners = df_corners['Minute'].notnull()\n",
    "print(df_possessions.shape)\n",
    "df_possessions.drop_duplicates(['ExternalId'], inplace=True)\n",
    "df_possessions.replace('', np.nan, inplace=True)\n",
    "df_possessions.dropna(axis=0, how='any', inplace=True)\n",
    "\n",
    "df_possessions['HomePossession'] = df_possessions['HomePossession'].astype(int)\n",
    "df_possessions['AwayPossession'] = df_possessions['AwayPossession'].astype(int)\n",
    "df_possessions['Minute'] = df_possessions['Minute'].astype(int)\n",
    "#df_possessions['TeamId'] = df_possessions['TeamId'].astype(str)\n",
    "df_possessions.head()\n"
   ]
  },
  {
   "cell_type": "code",
   "execution_count": 20,
   "metadata": {},
   "outputs": [
    {
     "name": "stdout",
     "output_type": "stream",
     "text": [
      "(21028, 8)\n",
      "(20983, 7)\n"
     ]
    }
   ],
   "source": [
    "#Goals select\n",
    "stmt = \"SELECT * FROM Goals\"\n",
    "# Excute Query here\n",
    "df_goals = pd.read_sql(stmt,conn)\n",
    "print(df_goals.shape)\n",
    "df_goals.drop('Id', inplace=True, axis=1)\n",
    "df_goals.drop_duplicates(inplace=True)\n",
    "print(df_goals.shape)"
   ]
  },
  {
   "cell_type": "code",
   "execution_count": 21,
   "metadata": {},
   "outputs": [
    {
     "name": "stdout",
     "output_type": "stream",
     "text": [
      "(14967, 4)\n"
     ]
    },
    {
     "data": {
      "text/html": [
       "<div>\n",
       "<style>\n",
       "    .dataframe thead tr:only-child th {\n",
       "        text-align: right;\n",
       "    }\n",
       "\n",
       "    .dataframe thead th {\n",
       "        text-align: left;\n",
       "    }\n",
       "\n",
       "    .dataframe tbody tr th {\n",
       "        vertical-align: top;\n",
       "    }\n",
       "</style>\n",
       "<table border=\"1\" class=\"dataframe\">\n",
       "  <thead>\n",
       "    <tr style=\"text-align: right;\">\n",
       "      <th></th>\n",
       "      <th>Id</th>\n",
       "      <th>ExternalId</th>\n",
       "      <th>FullName</th>\n",
       "      <th>Acronym</th>\n",
       "    </tr>\n",
       "  </thead>\n",
       "  <tbody>\n",
       "    <tr>\n",
       "      <th>0</th>\n",
       "      <td>1</td>\n",
       "      <td>9825</td>\n",
       "      <td>Arsenal</td>\n",
       "      <td>ARS</td>\n",
       "    </tr>\n",
       "    <tr>\n",
       "      <th>1</th>\n",
       "      <td>2</td>\n",
       "      <td>8650</td>\n",
       "      <td>Liverpool</td>\n",
       "      <td>LIV</td>\n",
       "    </tr>\n",
       "  </tbody>\n",
       "</table>\n",
       "</div>"
      ],
      "text/plain": [
       "   Id ExternalId   FullName Acronym\n",
       "0   1       9825    Arsenal     ARS\n",
       "1   2       8650  Liverpool     LIV"
      ]
     },
     "execution_count": 21,
     "metadata": {},
     "output_type": "execute_result"
    }
   ],
   "source": [
    "#Teams select\n",
    "stmt = \"SELECT * FROM Teams\"\n",
    "# Excute Query here\n",
    "df_teams = pd.read_sql(stmt,conn)\n",
    "print(df_teams.shape)\n",
    "df_teams.head(2)\n",
    "#df_teams.count"
   ]
  },
  {
   "cell_type": "code",
   "execution_count": 11,
   "metadata": {},
   "outputs": [
    {
     "name": "stdout",
     "output_type": "stream",
     "text": [
      "(11109, 3)\n",
      "10003\n"
     ]
    },
    {
     "data": {
      "image/png": "[encoded data removed]",
      "text/plain": [
       "<matplotlib.figure.Figure at 0x251b01978>"
      ]
     },
     "metadata": {},
     "output_type": "display_data"
    },
    {
     "name": "stdout",
     "output_type": "stream",
     "text": [
      "10167\n"
     ]
    },
    {
     "data": {
      "image/png": "[encoded data removed]",
      "text/plain": [
       "<matplotlib.figure.Figure at 0x251af1a20>"
      ]
     },
     "metadata": {},
     "output_type": "display_data"
    },
    {
     "name": "stdout",
     "output_type": "stream",
     "text": [
      "10172\n"
     ]
    },
    {
     "data": {
      "image/png": "[encoded data removed]",
      "text/plain": [
       "<matplotlib.figure.Figure at 0x251acb7f0>"
      ]
     },
     "metadata": {},
     "output_type": "display_data"
    },
    {
     "name": "stdout",
     "output_type": "stream",
     "text": [
      "10189\n"
     ]
    },
    {
     "data": {
      "image/png": "[encoded data removed]",
      "text/plain": [
       "<matplotlib.figure.Figure at 0x251ab20b8>"
      ]
     },
     "metadata": {},
     "output_type": "display_data"
    },
    {
     "name": "stdout",
     "output_type": "stream",
     "text": [
      "10194\n"
     ]
    },
    {
     "data": {
      "image/png": "[encoded data removed]",
      "text/plain": [
       "<matplotlib.figure.Figure at 0x251a98f98>"
      ]
     },
     "metadata": {},
     "output_type": "display_data"
    },
    {
     "name": "stdout",
     "output_type": "stream",
     "text": [
      "10204\n"
     ]
    },
    {
     "data": {
      "image/png": "[encoded data removed]",
      "text/plain": [
       "<matplotlib.figure.Figure at 0x251a8fef0>"
      ]
     },
     "metadata": {},
     "output_type": "display_data"
    },
    {
     "name": "stdout",
     "output_type": "stream",
     "text": [
      "10205\n"
     ]
    },
    {
     "data": {
      "image/png": "[encoded data removed]",
      "text/plain": [
       "<matplotlib.figure.Figure at 0x251aa1c18>"
      ]
     },
     "metadata": {},
     "output_type": "display_data"
    },
    {
     "name": "stdout",
     "output_type": "stream",
     "text": [
      "10233\n"
     ]
    },
    {
     "data": {
      "image/png": "[encoded data removed]",
      "text/plain": [
       "<matplotlib.figure.Figure at 0x251a7c518>"
      ]
     },
     "metadata": {},
     "output_type": "display_data"
    },
    {
     "name": "stdout",
     "output_type": "stream",
     "text": [
      "10242\n"
     ]
    },
    {
     "data": {
      "image/png": "[encoded data removed]",
      "text/plain": [
       "<matplotlib.figure.Figure at 0x251ae75c0>"
      ]
     },
     "metadata": {},
     "output_type": "display_data"
    },
    {
     "name": "stdout",
     "output_type": "stream",
     "text": [
      "10249\n"
     ]
    },
    {
     "data": {
      "image/png": "[encoded data removed]",
      "text/plain": [
       "<matplotlib.figure.Figure at 0x251abf780>"
      ]
     },
     "metadata": {},
     "output_type": "display_data"
    },
    {
     "name": "stdout",
     "output_type": "stream",
     "text": [
      "10252\n"
     ]
    },
    {
     "data": {
      "image/png": "[encoded data removed]",
      "text/plain": [
       "<matplotlib.figure.Figure at 0x251a657f0>"
      ]
     },
     "metadata": {},
     "output_type": "display_data"
    },
    {
     "name": "stdout",
     "output_type": "stream",
     "text": [
      "10260\n"
     ]
    },
    {
     "data": {
      "image/png": "[encoded data removed]",
      "text/plain": [
       "<matplotlib.figure.Figure at 0x251a4f390>"
      ]
     },
     "metadata": {},
     "output_type": "display_data"
    },
    {
     "name": "stdout",
     "output_type": "stream",
     "text": [
      "10261\n"
     ]
    },
    {
     "data": {
      "image/png": "[encoded data removed]",
      "text/plain": [
       "<matplotlib.figure.Figure at 0x251a309e8>"
      ]
     },
     "metadata": {},
     "output_type": "display_data"
    },
    {
     "name": "stdout",
     "output_type": "stream",
     "text": [
      "10267\n"
     ]
    },
    {
     "data": {
      "image/png": "[encoded data removed]",
      "text/plain": [
       "<matplotlib.figure.Figure at 0x251a14208>"
      ]
     },
     "metadata": {},
     "output_type": "display_data"
    },
    {
     "name": "stdout",
     "output_type": "stream",
     "text": [
      "10268\n"
     ]
    },
    {
     "data": {
      "image/png": "[encoded data removed]",
      "text/plain": [
       "<matplotlib.figure.Figure at 0x2519fc0b8>"
      ]
     },
     "metadata": {},
     "output_type": "display_data"
    },
    {
     "name": "stdout",
     "output_type": "stream",
     "text": [
      "10269\n"
     ]
    },
    {
     "data": {
      "image/png": "[encoded data removed]",
      "text/plain": [
       "<matplotlib.figure.Figure at 0x2519e5f60>"
      ]
     },
     "metadata": {},
     "output_type": "display_data"
    },
    {
     "name": "stdout",
     "output_type": "stream",
     "text": [
      "10281\n"
     ]
    },
    {
     "data": {
      "image/png": "[encoded data removed]",
      "text/plain": [
       "<matplotlib.figure.Figure at 0x2519c7ba8>"
      ]
     },
     "metadata": {},
     "output_type": "display_data"
    },
    {
     "name": "stdout",
     "output_type": "stream",
     "text": [
      "178475\n"
     ]
    },
    {
     "data": {
      "image/png": "[encoded data removed]",
      "text/plain": [
       "<matplotlib.figure.Figure at 0x2519ac160>"
      ]
     },
     "metadata": {},
     "output_type": "display_data"
    },
    {
     "name": "stdout",
     "output_type": "stream",
     "text": [
      "208931\n"
     ]
    },
    {
     "data": {
      "image/png": "[encoded data removed]",
      "text/plain": [
       "<matplotlib.figure.Figure at 0x2519dfeb8>"
      ]
     },
     "metadata": {},
     "output_type": "display_data"
    },
    {
     "name": "stdout",
     "output_type": "stream",
     "text": [
      "4087\n"
     ]
    },
    {
     "data": {
      "image/png": "[encoded data removed]",
      "text/plain": [
       "<matplotlib.figure.Figure at 0x251a00cf8>"
      ]
     },
     "metadata": {},
     "output_type": "display_data"
    },
    {
     "name": "stdout",
     "output_type": "stream",
     "text": [
      "6266\n"
     ]
    },
    {
     "data": {
      "image/png": "[encoded data removed]",
      "text/plain": [
       "<matplotlib.figure.Figure at 0x2519df0b8>"
      ]
     },
     "metadata": {},
     "output_type": "display_data"
    },
    {
     "name": "stdout",
     "output_type": "stream",
     "text": [
      "6391\n"
     ]
    },
    {
     "data": {
      "image/png": "[encoded data removed]",
      "text/plain": [
       "<matplotlib.figure.Figure at 0x251a41e80>"
      ]
     },
     "metadata": {},
     "output_type": "display_data"
    },
    {
     "name": "stdout",
     "output_type": "stream",
     "text": [
      "6394\n"
     ]
    },
    {
     "data": {
      "image/png": "[encoded data removed]",
      "text/plain": [
       "<matplotlib.figure.Figure at 0x251a50cc0>"
      ]
     },
     "metadata": {},
     "output_type": "display_data"
    },
    {
     "name": "stdout",
     "output_type": "stream",
     "text": [
      "674792\n"
     ]
    },
    {
     "data": {
      "image/png": "[encoded data removed]",
      "text/plain": [
       "<matplotlib.figure.Figure at 0x251a60390>"
      ]
     },
     "metadata": {},
     "output_type": "display_data"
    },
    {
     "name": "stdout",
     "output_type": "stream",
     "text": [
      "7732\n"
     ]
    },
    {
     "data": {
      "image/png": "[encoded data removed]",
      "text/plain": [
       "<matplotlib.figure.Figure at 0x251ae7cc0>"
      ]
     },
     "metadata": {},
     "output_type": "display_data"
    },
    {
     "name": "stdout",
     "output_type": "stream",
     "text": [
      "7794\n"
     ]
    },
    {
     "data": {
      "image/png": "[encoded data removed]",
      "text/plain": [
       "<matplotlib.figure.Figure at 0x251aa40b8>"
      ]
     },
     "metadata": {},
     "output_type": "display_data"
    },
    {
     "name": "stdout",
     "output_type": "stream",
     "text": [
      "7819\n"
     ]
    },
    {
     "data": {
      "image/png": "[encoded data removed]",
      "text/plain": [
       "<matplotlib.figure.Figure at 0x251a9e240>"
      ]
     },
     "metadata": {},
     "output_type": "display_data"
    },
    {
     "name": "stdout",
     "output_type": "stream",
     "text": [
      "7854\n"
     ]
    },
    {
     "data": {
      "image/png": "[encoded data removed]",
      "text/plain": [
       "<matplotlib.figure.Figure at 0x251a885f8>"
      ]
     },
     "metadata": {},
     "output_type": "display_data"
    },
    {
     "name": "stdout",
     "output_type": "stream",
     "text": [
      "7869\n"
     ]
    },
    {
     "data": {
      "image/png": "[encoded data removed]",
      "text/plain": [
       "<matplotlib.figure.Figure at 0x251a8ab70>"
      ]
     },
     "metadata": {},
     "output_type": "display_data"
    },
    {
     "name": "stdout",
     "output_type": "stream",
     "text": [
      "7878\n"
     ]
    },
    {
     "data": {
      "image/png": "[encoded data removed]",
      "text/plain": [
       "<matplotlib.figure.Figure at 0x251a7c6d8>"
      ]
     },
     "metadata": {},
     "output_type": "display_data"
    },
    {
     "name": "stdout",
     "output_type": "stream",
     "text": [
      "7943\n"
     ]
    },
    {
     "data": {
      "image/png": "[encoded data removed]",
      "text/plain": [
       "<matplotlib.figure.Figure at 0x251abb518>"
      ]
     },
     "metadata": {},
     "output_type": "display_data"
    },
    {
     "name": "stdout",
     "output_type": "stream",
     "text": [
      "8121\n"
     ]
    },
    {
     "data": {
      "image/png": "[encoded data removed]",
      "text/plain": [
       "<matplotlib.figure.Figure at 0x251ae9438>"
      ]
     },
     "metadata": {},
     "output_type": "display_data"
    },
    {
     "name": "stdout",
     "output_type": "stream",
     "text": [
      "8177\n"
     ]
    },
    {
     "data": {
      "image/png": "[encoded data removed]",
      "text/plain": [
       "<matplotlib.figure.Figure at 0x251a74c50>"
      ]
     },
     "metadata": {},
     "output_type": "display_data"
    },
    {
     "name": "stdout",
     "output_type": "stream",
     "text": [
      "8178\n"
     ]
    },
    {
     "data": {
      "image/png": "[encoded data removed]",
      "text/plain": [
       "<matplotlib.figure.Figure at 0x251a59240>"
      ]
     },
     "metadata": {},
     "output_type": "display_data"
    },
    {
     "name": "stdout",
     "output_type": "stream",
     "text": [
      "8191\n"
     ]
    },
    {
     "data": {
      "image/png": "[encoded data removed]",
      "text/plain": [
       "<matplotlib.figure.Figure at 0x251a2e630>"
      ]
     },
     "metadata": {},
     "output_type": "display_data"
    },
    {
     "name": "stdout",
     "output_type": "stream",
     "text": [
      "8197\n"
     ]
    },
    {
     "data": {
      "image/png": "[encoded data removed]",
      "text/plain": [
       "<matplotlib.figure.Figure at 0x251a15cf8>"
      ]
     },
     "metadata": {},
     "output_type": "display_data"
    },
    {
     "name": "stdout",
     "output_type": "stream",
     "text": [
      "8226\n"
     ]
    },
    {
     "data": {
      "image/png": "[encoded data removed]",
      "text/plain": [
       "<matplotlib.figure.Figure at 0x2519ac7f0>"
      ]
     },
     "metadata": {},
     "output_type": "display_data"
    },
    {
     "name": "stdout",
     "output_type": "stream",
     "text": [
      "8234\n"
     ]
    },
    {
     "data": {
      "image/png": "[encoded data removed]",
      "text/plain": [
       "<matplotlib.figure.Figure at 0x2519beb70>"
      ]
     },
     "metadata": {},
     "output_type": "display_data"
    },
    {
     "name": "stdout",
     "output_type": "stream",
     "text": [
      "8262\n"
     ]
    },
    {
     "data": {
      "image/png": "[encoded data removed]",
      "text/plain": [
       "<matplotlib.figure.Figure at 0x2519c6240>"
      ]
     },
     "metadata": {},
     "output_type": "display_data"
    },
    {
     "name": "stdout",
     "output_type": "stream",
     "text": [
      "8302\n"
     ]
    },
    {
     "data": {
      "image/png": "[encoded data removed]",
      "text/plain": [
       "<matplotlib.figure.Figure at 0x251a23048>"
      ]
     },
     "metadata": {},
     "output_type": "display_data"
    },
    {
     "name": "stdout",
     "output_type": "stream",
     "text": [
      "8305\n"
     ]
    },
    {
     "data": {
      "image/png": "[encoded data removed]",
      "text/plain": [
       "<matplotlib.figure.Figure at 0x251aef320>"
      ]
     },
     "metadata": {},
     "output_type": "display_data"
    },
    {
     "name": "stdout",
     "output_type": "stream",
     "text": [
      "8306\n"
     ]
    },
    {
     "data": {
      "image/png": "[encoded data removed]",
      "text/plain": [
       "<matplotlib.figure.Figure at 0x251a00080>"
      ]
     },
     "metadata": {},
     "output_type": "display_data"
    },
    {
     "name": "stdout",
     "output_type": "stream",
     "text": [
      "8315\n"
     ]
    },
    {
     "data": {
      "image/png": "[encoded data removed]",
      "text/plain": [
       "<matplotlib.figure.Figure at 0x2519b2048>"
      ]
     },
     "metadata": {},
     "output_type": "display_data"
    },
    {
     "name": "stdout",
     "output_type": "stream",
     "text": [
      "8344\n"
     ]
    },
    {
     "data": {
      "image/png": "[encoded data removed]",
      "text/plain": [
       "<matplotlib.figure.Figure at 0x2519f7b00>"
      ]
     },
     "metadata": {},
     "output_type": "display_data"
    },
    {
     "name": "stdout",
     "output_type": "stream",
     "text": [
      "8358\n"
     ]
    },
    {
     "data": {
      "image/png": "[encoded data removed]",
      "text/plain": [
       "<matplotlib.figure.Figure at 0x251a07a90>"
      ]
     },
     "metadata": {},
     "output_type": "display_data"
    },
    {
     "name": "stdout",
     "output_type": "stream",
     "text": [
      "8370\n"
     ]
    },
    {
     "data": {
      "image/png": "[encoded data removed]",
      "text/plain": [
       "<matplotlib.figure.Figure at 0x251a4bc50>"
      ]
     },
     "metadata": {},
     "output_type": "display_data"
    },
    {
     "name": "stdout",
     "output_type": "stream",
     "text": [
      "8371\n"
     ]
    },
    {
     "data": {
      "image/png": "[encoded data removed]",
      "text/plain": [
       "<matplotlib.figure.Figure at 0x251af1cf8>"
      ]
     },
     "metadata": {},
     "output_type": "display_data"
    },
    {
     "name": "stdout",
     "output_type": "stream",
     "text": [
      "8372\n"
     ]
    },
    {
     "data": {
      "image/png": "[encoded data removed]",
      "text/plain": [
       "<matplotlib.figure.Figure at 0x251acd7b8>"
      ]
     },
     "metadata": {},
     "output_type": "display_data"
    },
    {
     "name": "stdout",
     "output_type": "stream",
     "text": [
      "8406\n"
     ]
    },
    {
     "data": {
      "image/png": "[encoded data removed]",
      "text/plain": [
       "<matplotlib.figure.Figure at 0x251a9d780>"
      ]
     },
     "metadata": {},
     "output_type": "display_data"
    },
    {
     "name": "stdout",
     "output_type": "stream",
     "text": [
      "8455\n"
     ]
    },
    {
     "data": {
      "image/png": "[encoded data removed]",
      "text/plain": [
       "<matplotlib.figure.Figure at 0x251ab3400>"
      ]
     },
     "metadata": {},
     "output_type": "display_data"
    },
    {
     "name": "stdout",
     "output_type": "stream",
     "text": [
      "8456\n"
     ]
    },
    {
     "data": {
      "image/png": "[encoded data removed]",
      "text/plain": [
       "<matplotlib.figure.Figure at 0x251aadcc0>"
      ]
     },
     "metadata": {},
     "output_type": "display_data"
    },
    {
     "name": "stdout",
     "output_type": "stream",
     "text": [
      "8460\n"
     ]
    },
    {
     "data": {
      "image/png": "[encoded data removed]",
      "text/plain": [
       "<matplotlib.figure.Figure at 0x251a9fe10>"
      ]
     },
     "metadata": {},
     "output_type": "display_data"
    },
    {
     "name": "stdout",
     "output_type": "stream",
     "text": [
      "8466\n"
     ]
    },
    {
     "data": {
      "image/png": "[encoded data removed]",
      "text/plain": [
       "<matplotlib.figure.Figure at 0x251aa11d0>"
      ]
     },
     "metadata": {},
     "output_type": "display_data"
    },
    {
     "name": "stdout",
     "output_type": "stream",
     "text": [
      "8472\n"
     ]
    },
    {
     "data": {
      "image/png": "[encoded data removed]",
      "text/plain": [
       "<matplotlib.figure.Figure at 0x251a9d7b8>"
      ]
     },
     "metadata": {},
     "output_type": "display_data"
    },
    {
     "name": "stdout",
     "output_type": "stream",
     "text": [
      "8481\n"
     ]
    },
    {
     "data": {
      "image/png": "[encoded data removed]",
      "text/plain": [
       "<matplotlib.figure.Figure at 0x251ae9a58>"
      ]
     },
     "metadata": {},
     "output_type": "display_data"
    },
    {
     "name": "stdout",
     "output_type": "stream",
     "text": [
      "8524\n"
     ]
    },
    {
     "data": {
      "image/png": "[encoded data removed]",
      "text/plain": [
       "<matplotlib.figure.Figure at 0x251af2b00>"
      ]
     },
     "metadata": {},
     "output_type": "display_data"
    },
    {
     "name": "stdout",
     "output_type": "stream",
     "text": [
      "8529\n"
     ]
    },
    {
     "data": {
      "image/png": "[encoded data removed]",
      "text/plain": [
       "<matplotlib.figure.Figure at 0x251a20d30>"
      ]
     },
     "metadata": {},
     "output_type": "display_data"
    },
    {
     "name": "stdout",
     "output_type": "stream",
     "text": [
      "8533\n"
     ]
    },
    {
     "data": {
      "image/png": "[encoded data removed]",
      "text/plain": [
       "<matplotlib.figure.Figure at 0x2519f27f0>"
      ]
     },
     "metadata": {},
     "output_type": "display_data"
    },
    {
     "name": "stdout",
     "output_type": "stream",
     "text": [
      "8534\n"
     ]
    },
    {
     "data": {
      "image/png": "[encoded data removed]",
      "text/plain": [
       "<matplotlib.figure.Figure at 0x2519b8e10>"
      ]
     },
     "metadata": {},
     "output_type": "display_data"
    },
    {
     "name": "stdout",
     "output_type": "stream",
     "text": [
      "8535\n"
     ]
    },
    {
     "data": {
      "image/png": "[encoded data removed]",
      "text/plain": [
       "<matplotlib.figure.Figure at 0x2519e7a20>"
      ]
     },
     "metadata": {},
     "output_type": "display_data"
    },
    {
     "name": "stdout",
     "output_type": "stream",
     "text": [
      "8540\n"
     ]
    },
    {
     "data": {
      "image/png": "[encoded data removed]",
      "text/plain": [
       "<matplotlib.figure.Figure at 0x251a479b0>"
      ]
     },
     "metadata": {},
     "output_type": "display_data"
    },
    {
     "name": "stdout",
     "output_type": "stream",
     "text": [
      "8543\n"
     ]
    },
    {
     "data": {
      "image/png": "[encoded data removed]",
      "text/plain": [
       "<matplotlib.figure.Figure at 0x2519eb8d0>"
      ]
     },
     "metadata": {},
     "output_type": "display_data"
    },
    {
     "name": "stdout",
     "output_type": "stream",
     "text": [
      "8547\n"
     ]
    },
    {
     "data": {
      "image/png": "[encoded data removed]",
      "text/plain": [
       "<matplotlib.figure.Figure at 0x2519cd710>"
      ]
     },
     "metadata": {},
     "output_type": "display_data"
    },
    {
     "name": "stdout",
     "output_type": "stream",
     "text": [
      "8549\n"
     ]
    },
    {
     "data": {
      "image/png": "[encoded data removed]",
      "text/plain": [
       "<matplotlib.figure.Figure at 0x251a7e5c0>"
      ]
     },
     "metadata": {},
     "output_type": "display_data"
    },
    {
     "name": "stdout",
     "output_type": "stream",
     "text": [
      "8550\n"
     ]
    },
    {
     "data": {
      "image/png": "[encoded data removed]",
      "text/plain": [
       "<matplotlib.figure.Figure at 0x251a01128>"
      ]
     },
     "metadata": {},
     "output_type": "display_data"
    },
    {
     "name": "stdout",
     "output_type": "stream",
     "text": [
      "8558\n"
     ]
    },
    {
     "data": {
      "image/png": "[encoded data removed]",
      "text/plain": [
       "<matplotlib.figure.Figure at 0x251a23390>"
      ]
     },
     "metadata": {},
     "output_type": "display_data"
    },
    {
     "name": "stdout",
     "output_type": "stream",
     "text": [
      "8560\n"
     ]
    },
    {
     "data": {
      "image/png": "[encoded data removed]",
      "text/plain": [
       "<matplotlib.figure.Figure at 0x2519ebcf8>"
      ]
     },
     "metadata": {},
     "output_type": "display_data"
    },
    {
     "name": "stdout",
     "output_type": "stream",
     "text": [
      "8564\n"
     ]
    },
    {
     "data": {
      "image/png": "[encoded data removed]",
      "text/plain": [
       "<matplotlib.figure.Figure at 0x2519fa518>"
      ]
     },
     "metadata": {},
     "output_type": "display_data"
    },
    {
     "name": "stdout",
     "output_type": "stream",
     "text": [
      "8581\n"
     ]
    },
    {
     "data": {
      "image/png": "[encoded data removed]",
      "text/plain": [
       "<matplotlib.figure.Figure at 0x2519fd0f0>"
      ]
     },
     "metadata": {},
     "output_type": "display_data"
    },
    {
     "name": "stdout",
     "output_type": "stream",
     "text": [
      "8586\n"
     ]
    },
    {
     "data": {
      "image/png": "[encoded data removed]",
      "text/plain": [
       "<matplotlib.figure.Figure at 0x251a30080>"
      ]
     },
     "metadata": {},
     "output_type": "display_data"
    },
    {
     "name": "stdout",
     "output_type": "stream",
     "text": [
      "8587\n"
     ]
    },
    {
     "data": {
      "image/png": "[encoded data removed]",
      "text/plain": [
       "<matplotlib.figure.Figure at 0x24a138ef0>"
      ]
     },
     "metadata": {},
     "output_type": "display_data"
    },
    {
     "name": "stdout",
     "output_type": "stream",
     "text": [
      "8588\n"
     ]
    },
    {
     "data": {
      "image/png": "[encoded data removed]",
      "text/plain": [
       "<matplotlib.figure.Figure at 0x251a68390>"
      ]
     },
     "metadata": {},
     "output_type": "display_data"
    },
    {
     "name": "stdout",
     "output_type": "stream",
     "text": [
      "8592\n"
     ]
    },
    {
     "data": {
      "image/png": "[encoded data removed]",
      "text/plain": [
       "<matplotlib.figure.Figure at 0x251aad358>"
      ]
     },
     "metadata": {},
     "output_type": "display_data"
    },
    {
     "name": "stdout",
     "output_type": "stream",
     "text": [
      "8600\n"
     ]
    },
    {
     "data": {
      "image/png": "[encoded data removed]",
      "text/plain": [
       "<matplotlib.figure.Figure at 0x251aa3320>"
      ]
     },
     "metadata": {},
     "output_type": "display_data"
    },
    {
     "name": "stdout",
     "output_type": "stream",
     "text": [
      "8602\n"
     ]
    },
    {
     "data": {
      "image/png": "[encoded data removed]",
      "text/plain": [
       "<matplotlib.figure.Figure at 0x251ab4b00>"
      ]
     },
     "metadata": {},
     "output_type": "display_data"
    },
    {
     "name": "stdout",
     "output_type": "stream",
     "text": [
      "8603\n"
     ]
    },
    {
     "data": {
      "image/png": "[encoded data removed]",
      "text/plain": [
       "<matplotlib.figure.Figure at 0x251a4ff98>"
      ]
     },
     "metadata": {},
     "output_type": "display_data"
    },
    {
     "name": "stdout",
     "output_type": "stream",
     "text": [
      "8633\n"
     ]
    },
    {
     "data": {
      "image/png": "[encoded data removed]",
      "text/plain": [
       "<matplotlib.figure.Figure at 0x251a800b8>"
      ]
     },
     "metadata": {},
     "output_type": "display_data"
    },
    {
     "name": "stdout",
     "output_type": "stream",
     "text": [
      "8634\n"
     ]
    },
    {
     "data": {
      "image/png": "[encoded data removed]",
      "text/plain": [
       "<matplotlib.figure.Figure at 0x251a0af98>"
      ]
     },
     "metadata": {},
     "output_type": "display_data"
    },
    {
     "name": "stdout",
     "output_type": "stream",
     "text": [
      "8636\n"
     ]
    },
    {
     "data": {
      "image/png": "[encoded data removed]",
      "text/plain": [
       "<matplotlib.figure.Figure at 0x2519ef668>"
      ]
     },
     "metadata": {},
     "output_type": "display_data"
    },
    {
     "name": "stdout",
     "output_type": "stream",
     "text": [
      "8639\n"
     ]
    },
    {
     "data": {
      "image/png": "[encoded data removed]",
      "text/plain": [
       "<matplotlib.figure.Figure at 0x251aa68d0>"
      ]
     },
     "metadata": {},
     "output_type": "display_data"
    },
    {
     "name": "stdout",
     "output_type": "stream",
     "text": [
      "8650\n"
     ]
    },
    {
     "data": {
      "image/png": "[encoded data removed]",
      "text/plain": [
       "<matplotlib.figure.Figure at 0x251abcd30>"
      ]
     },
     "metadata": {},
     "output_type": "display_data"
    },
    {
     "name": "stdout",
     "output_type": "stream",
     "text": [
      "8654\n"
     ]
    },
    {
     "data": {
      "image/png": "[encoded data removed]",
      "text/plain": [
       "<matplotlib.figure.Figure at 0x251a26828>"
      ]
     },
     "metadata": {},
     "output_type": "display_data"
    },
    {
     "name": "stdout",
     "output_type": "stream",
     "text": [
      "8659\n"
     ]
    },
    {
     "data": {
      "image/png": "[encoded data removed]",
      "text/plain": [
       "<matplotlib.figure.Figure at 0x251a99e10>"
      ]
     },
     "metadata": {},
     "output_type": "display_data"
    },
    {
     "name": "stdout",
     "output_type": "stream",
     "text": [
      "8667\n"
     ]
    },
    {
     "data": {
      "image/png": "[encoded data removed]",
      "text/plain": [
       "<matplotlib.figure.Figure at 0x2519c66a0>"
      ]
     },
     "metadata": {},
     "output_type": "display_data"
    },
    {
     "name": "stdout",
     "output_type": "stream",
     "text": [
      "8668\n"
     ]
    },
    {
     "data": {
      "image/png": "[encoded data removed]",
      "text/plain": [
       "<matplotlib.figure.Figure at 0x251a04898>"
      ]
     },
     "metadata": {},
     "output_type": "display_data"
    },
    {
     "name": "stdout",
     "output_type": "stream",
     "text": [
      "8678\n"
     ]
    },
    {
     "data": {
      "image/png": "[encoded data removed]",
      "text/plain": [
       "<matplotlib.figure.Figure at 0x251a05908>"
      ]
     },
     "metadata": {},
     "output_type": "display_data"
    },
    {
     "name": "stdout",
     "output_type": "stream",
     "text": [
      "8686\n"
     ]
    },
    {
     "data": {
      "image/png": "[encoded data removed]",
      "text/plain": [
       "<matplotlib.figure.Figure at 0x251ab66a0>"
      ]
     },
     "metadata": {},
     "output_type": "display_data"
    },
    {
     "name": "stdout",
     "output_type": "stream",
     "text": [
      "8689\n"
     ]
    },
    {
     "data": {
      "image/png": "[encoded data removed]",
      "text/plain": [
       "<matplotlib.figure.Figure at 0x2519dfe80>"
      ]
     },
     "metadata": {},
     "output_type": "display_data"
    },
    {
     "name": "stdout",
     "output_type": "stream",
     "text": [
      "8697\n"
     ]
    },
    {
     "data": {
      "image/png": "[encoded data removed]",
      "text/plain": [
       "<matplotlib.figure.Figure at 0x251a3e588>"
      ]
     },
     "metadata": {},
     "output_type": "display_data"
    },
    {
     "name": "stdout",
     "output_type": "stream",
     "text": [
      "8721\n"
     ]
    },
    {
     "data": {
      "image/png": "[encoded data removed]",
      "text/plain": [
       "<matplotlib.figure.Figure at 0x2519c7eb8>"
      ]
     },
     "metadata": {},
     "output_type": "display_data"
    },
    {
     "name": "stdout",
     "output_type": "stream",
     "text": [
      "8722\n"
     ]
    },
    {
     "data": {
      "image/png": "[encoded data removed]",
      "text/plain": [
       "<matplotlib.figure.Figure at 0x2519f2748>"
      ]
     },
     "metadata": {},
     "output_type": "display_data"
    },
    {
     "name": "stdout",
     "output_type": "stream",
     "text": [
      "9747\n"
     ]
    },
    {
     "data": {
      "image/png": "[encoded data removed]",
      "text/plain": [
       "<matplotlib.figure.Figure at 0x251a2cb70>"
      ]
     },
     "metadata": {},
     "output_type": "display_data"
    },
    {
     "name": "stdout",
     "output_type": "stream",
     "text": [
      "9748\n"
     ]
    },
    {
     "data": {
      "image/png": "[encoded data removed]",
      "text/plain": [
       "<matplotlib.figure.Figure at 0x251adabe0>"
      ]
     },
     "metadata": {},
     "output_type": "display_data"
    },
    {
     "name": "stdout",
     "output_type": "stream",
     "text": [
      "9783\n"
     ]
    },
    {
     "data": {
      "image/png": "[encoded data removed]",
      "text/plain": [
       "<matplotlib.figure.Figure at 0x2519d2e48>"
      ]
     },
     "metadata": {},
     "output_type": "display_data"
    },
    {
     "name": "stdout",
     "output_type": "stream",
     "text": [
      "9788\n"
     ]
    },
    {
     "data": {
      "image/png": "[encoded data removed]",
      "text/plain": [
       "<matplotlib.figure.Figure at 0x251ab04e0>"
      ]
     },
     "metadata": {},
     "output_type": "display_data"
    },
    {
     "name": "stdout",
     "output_type": "stream",
     "text": [
      "9789\n"
     ]
    },
    {
     "data": {
      "image/png": "[encoded data removed]",
      "text/plain": [
       "<matplotlib.figure.Figure at 0x2519a7080>"
      ]
     },
     "metadata": {},
     "output_type": "display_data"
    },
    {
     "name": "stdout",
     "output_type": "stream",
     "text": [
      "9790\n"
     ]
    },
    {
     "data": {
      "image/png": "[encoded data removed]",
      "text/plain": [
       "<matplotlib.figure.Figure at 0x251aa1f60>"
      ]
     },
     "metadata": {},
     "output_type": "display_data"
    },
    {
     "name": "stdout",
     "output_type": "stream",
     "text": [
      "9796\n"
     ]
    },
    {
     "data": {
      "image/png": "[encoded data removed]",
      "text/plain": [
       "<matplotlib.figure.Figure at 0x251a118d0>"
      ]
     },
     "metadata": {},
     "output_type": "display_data"
    },
    {
     "name": "stdout",
     "output_type": "stream",
     "text": [
      "9804\n"
     ]
    },
    {
     "data": {
      "image/png": "[encoded data removed]",
      "text/plain": [
       "<matplotlib.figure.Figure at 0x251a1bf60>"
      ]
     },
     "metadata": {},
     "output_type": "display_data"
    },
    {
     "name": "stdout",
     "output_type": "stream",
     "text": [
      "9810\n"
     ]
    },
    {
     "data": {
      "image/png": "[encoded data removed]",
      "text/plain": [
       "<matplotlib.figure.Figure at 0x251a5a978>"
      ]
     },
     "metadata": {},
     "output_type": "display_data"
    },
    {
     "name": "stdout",
     "output_type": "stream",
     "text": [
      "9817\n"
     ]
    },
    {
     "data": {
      "image/png": "[encoded data removed]",
      "text/plain": [
       "<matplotlib.figure.Figure at 0x251acd0b8>"
      ]
     },
     "metadata": {},
     "output_type": "display_data"
    },
    {
     "name": "stdout",
     "output_type": "stream",
     "text": [
      "9823\n"
     ]
    },
    {
     "data": {
      "image/png": "[encoded data removed]",
      "text/plain": [
       "<matplotlib.figure.Figure at 0x251b07438>"
      ]
     },
     "metadata": {},
     "output_type": "display_data"
    },
    {
     "name": "stdout",
     "output_type": "stream",
     "text": [
      "9825\n"
     ]
    },
    {
     "data": {
      "image/png": "[encoded data removed]",
      "text/plain": [
       "<matplotlib.figure.Figure at 0x251a2e2b0>"
      ]
     },
     "metadata": {},
     "output_type": "display_data"
    },
    {
     "name": "stdout",
     "output_type": "stream",
     "text": [
      "9826\n"
     ]
    },
    {
     "data": {
      "image/png": "[encoded data removed]",
      "text/plain": [
       "<matplotlib.figure.Figure at 0x2519c7d30>"
      ]
     },
     "metadata": {},
     "output_type": "display_data"
    },
    {
     "name": "stdout",
     "output_type": "stream",
     "text": [
      "9827\n"
     ]
    },
    {
     "data": {
      "image/png": "[encoded data removed]",
      "text/plain": [
       "<matplotlib.figure.Figure at 0x2519cc240>"
      ]
     },
     "metadata": {},
     "output_type": "display_data"
    },
    {
     "name": "stdout",
     "output_type": "stream",
     "text": [
      "9829\n"
     ]
    },
    {
     "data": {
      "image/png": "[encoded data removed]",
      "text/plain": [
       "<matplotlib.figure.Figure at 0x251a95f98>"
      ]
     },
     "metadata": {},
     "output_type": "display_data"
    },
    {
     "name": "stdout",
     "output_type": "stream",
     "text": [
      "9830\n"
     ]
    },
    {
     "data": {
      "image/png": "[encoded data removed]",
      "text/plain": [
       "<matplotlib.figure.Figure at 0x251a23710>"
      ]
     },
     "metadata": {},
     "output_type": "display_data"
    },
    {
     "name": "stdout",
     "output_type": "stream",
     "text": [
      "9831\n"
     ]
    },
    {
     "data": {
      "image/png": "[encoded data removed]",
      "text/plain": [
       "<matplotlib.figure.Figure at 0x251a79978>"
      ]
     },
     "metadata": {},
     "output_type": "display_data"
    },
    {
     "name": "stdout",
     "output_type": "stream",
     "text": [
      "9836\n"
     ]
    },
    {
     "data": {
      "image/png": "[encoded data removed]",
      "text/plain": [
       "<matplotlib.figure.Figure at 0x2519c0e10>"
      ]
     },
     "metadata": {},
     "output_type": "display_data"
    },
    {
     "name": "stdout",
     "output_type": "stream",
     "text": [
      "9837\n"
     ]
    },
    {
     "data": {
      "image/png": "[encoded data removed]",
      "text/plain": [
       "<matplotlib.figure.Figure at 0x251a50630>"
      ]
     },
     "metadata": {},
     "output_type": "display_data"
    },
    {
     "name": "stdout",
     "output_type": "stream",
     "text": [
      "9847\n"
     ]
    },
    {
     "data": {
      "image/png": "[encoded data removed]",
      "text/plain": [
       "<matplotlib.figure.Figure at 0x251a4de80>"
      ]
     },
     "metadata": {},
     "output_type": "display_data"
    },
    {
     "name": "stdout",
     "output_type": "stream",
     "text": [
      "9848\n"
     ]
    },
    {
     "data": {
      "image/png": "[encoded data removed]",
      "text/plain": [
       "<matplotlib.figure.Figure at 0x251a1f908>"
      ]
     },
     "metadata": {},
     "output_type": "display_data"
    },
    {
     "name": "stdout",
     "output_type": "stream",
     "text": [
      "9850\n"
     ]
    },
    {
     "data": {
      "image/png": "[encoded data removed]",
      "text/plain": [
       "<matplotlib.figure.Figure at 0x251ab8358>"
      ]
     },
     "metadata": {},
     "output_type": "display_data"
    },
    {
     "name": "stdout",
     "output_type": "stream",
     "text": [
      "9851\n"
     ]
    },
    {
     "data": {
      "image/png": "[encoded data removed]",
      "text/plain": [
       "<matplotlib.figure.Figure at 0x251b01a58>"
      ]
     },
     "metadata": {},
     "output_type": "display_data"
    },
    {
     "name": "stdout",
     "output_type": "stream",
     "text": [
      "9853\n"
     ]
    },
    {
     "data": {
      "image/png": "[encoded data removed]",
      "text/plain": [
       "<matplotlib.figure.Figure at 0x251a1a940>"
      ]
     },
     "metadata": {},
     "output_type": "display_data"
    },
    {
     "name": "stdout",
     "output_type": "stream",
     "text": [
      "9857\n"
     ]
    },
    {
     "data": {
      "image/png": "[encoded data removed]",
      "text/plain": [
       "<matplotlib.figure.Figure at 0x2435fdfd0>"
      ]
     },
     "metadata": {},
     "output_type": "display_data"
    },
    {
     "name": "stdout",
     "output_type": "stream",
     "text": [
      "9864\n"
     ]
    },
    {
     "data": {
      "image/png": "[encoded data removed]",
      "text/plain": [
       "<matplotlib.figure.Figure at 0x251acd320>"
      ]
     },
     "metadata": {},
     "output_type": "display_data"
    },
    {
     "name": "stdout",
     "output_type": "stream",
     "text": [
      "9865\n"
     ]
    },
    {
     "data": {
      "image/png": "[encoded data removed]",
      "text/plain": [
       "<matplotlib.figure.Figure at 0x251ac16d8>"
      ]
     },
     "metadata": {},
     "output_type": "display_data"
    },
    {
     "name": "stdout",
     "output_type": "stream",
     "text": [
      "9866\n"
     ]
    },
    {
     "data": {
      "image/png": "[encoded data removed]",
      "text/plain": [
       "<matplotlib.figure.Figure at 0x2519dde10>"
      ]
     },
     "metadata": {},
     "output_type": "display_data"
    },
    {
     "name": "stdout",
     "output_type": "stream",
     "text": [
      "9869\n"
     ]
    },
    {
     "data": {
      "image/png": "[encoded data removed]",
      "text/plain": [
       "<matplotlib.figure.Figure at 0x251aec5c0>"
      ]
     },
     "metadata": {},
     "output_type": "display_data"
    },
    {
     "name": "stdout",
     "output_type": "stream",
     "text": [
      "9875\n"
     ]
    },
    {
     "data": {
      "image/png": "[encoded data removed]",
      "text/plain": [
       "<matplotlib.figure.Figure at 0x251adca90>"
      ]
     },
     "metadata": {},
     "output_type": "display_data"
    },
    {
     "name": "stdout",
     "output_type": "stream",
     "text": [
      "9876\n"
     ]
    },
    {
     "data": {
      "image/png": "[encoded data removed]",
      "text/plain": [
       "<matplotlib.figure.Figure at 0x251a11ef0>"
      ]
     },
     "metadata": {},
     "output_type": "display_data"
    },
    {
     "name": "stdout",
     "output_type": "stream",
     "text": [
      "9878\n"
     ]
    },
    {
     "data": {
      "image/png": "[encoded data removed]",
      "text/plain": [
       "<matplotlib.figure.Figure at 0x251a52518>"
      ]
     },
     "metadata": {},
     "output_type": "display_data"
    },
    {
     "name": "stdout",
     "output_type": "stream",
     "text": [
      "9879\n"
     ]
    },
    {
     "data": {
      "image/png": "[encoded data removed]",
      "text/plain": [
       "<matplotlib.figure.Figure at 0x251a24d30>"
      ]
     },
     "metadata": {},
     "output_type": "display_data"
    },
    {
     "name": "stdout",
     "output_type": "stream",
     "text": [
      "9880\n"
     ]
    },
    {
     "data": {
      "image/png": "[encoded data removed]",
      "text/plain": [
       "<matplotlib.figure.Figure at 0x251aacdd8>"
      ]
     },
     "metadata": {},
     "output_type": "display_data"
    },
    {
     "name": "stdout",
     "output_type": "stream",
     "text": [
      "9882\n"
     ]
    },
    {
     "data": {
      "image/png": "[encoded data removed]",
      "text/plain": [
       "<matplotlib.figure.Figure at 0x251add978>"
      ]
     },
     "metadata": {},
     "output_type": "display_data"
    },
    {
     "name": "stdout",
     "output_type": "stream",
     "text": [
      "9884\n"
     ]
    },
    {
     "data": {
      "image/png": "[encoded data removed]",
      "text/plain": [
       "<matplotlib.figure.Figure at 0x251a6f198>"
      ]
     },
     "metadata": {},
     "output_type": "display_data"
    },
    {
     "name": "stdout",
     "output_type": "stream",
     "text": [
      "9885\n"
     ]
    },
    {
     "data": {
      "image/png": "[encoded data removed]",
      "text/plain": [
       "<matplotlib.figure.Figure at 0x251a0b828>"
      ]
     },
     "metadata": {},
     "output_type": "display_data"
    },
    {
     "name": "stdout",
     "output_type": "stream",
     "text": [
      "9891\n"
     ]
    },
    {
     "data": {
      "image/png": "[encoded data removed]",
      "text/plain": [
       "<matplotlib.figure.Figure at 0x251ab8978>"
      ]
     },
     "metadata": {},
     "output_type": "display_data"
    },
    {
     "name": "stdout",
     "output_type": "stream",
     "text": [
      "9904\n"
     ]
    },
    {
     "data": {
      "image/png": "[encoded data removed]",
      "text/plain": [
       "<matplotlib.figure.Figure at 0x251a4af98>"
      ]
     },
     "metadata": {},
     "output_type": "display_data"
    },
    {
     "name": "stdout",
     "output_type": "stream",
     "text": [
      "9905\n"
     ]
    },
    {
     "data": {
      "image/png": "[encoded data removed]",
      "text/plain": [
       "<matplotlib.figure.Figure at 0x2519d6358>"
      ]
     },
     "metadata": {},
     "output_type": "display_data"
    },
    {
     "name": "stdout",
     "output_type": "stream",
     "text": [
      "9906\n"
     ]
    },
    {
     "data": {
      "image/png": "[encoded data removed]",
      "text/plain": [
       "<matplotlib.figure.Figure at 0x2519d7048>"
      ]
     },
     "metadata": {},
     "output_type": "display_data"
    },
    {
     "name": "stdout",
     "output_type": "stream",
     "text": [
      "9910\n"
     ]
    },
    {
     "data": {
      "image/png": "[encoded data removed]",
      "text/plain": [
       "<matplotlib.figure.Figure at 0x251a12470>"
      ]
     },
     "metadata": {},
     "output_type": "display_data"
    },
    {
     "name": "stdout",
     "output_type": "stream",
     "text": [
      "9941\n"
     ]
    },
    {
     "data": {
      "image/png": "[encoded data removed]",
      "text/plain": [
       "<matplotlib.figure.Figure at 0x251a5c320>"
      ]
     },
     "metadata": {},
     "output_type": "display_data"
    }
   ],
   "source": [
    "#Teams select\n",
    "stmt = \"\"\"SELECT  TeamId, convert (bigint, minute  ) as Minute, count(*) as count\n",
    "  FROM [FootballData].[dbo].[Corners]\n",
    "  group by convert (bigint, minute  ),TeamId\n",
    "  order by 1,2\"\"\"\n",
    "# Excute Query here\n",
    "df_teams_corners_per_minute = pd.read_sql(stmt,conn)\n",
    "print(df_teams_corners_per_minute.shape)\n",
    "#df_teams_corners_per_minute.head()\n",
    "groups = df_teams_corners_per_minute.groupby(['TeamId'])\n",
    "df_teams_corners_per_minute.describe()\n",
    "import matplotlib.pyplot as plt\n",
    "for group in groups:\n",
    "    #figure()\n",
    "    #plt.\n",
    "    print(group[1].TeamId.values[0])\n",
    "    plt.hist(group[1].Minute, bins=9)\n",
    "    #cumulative=1, density=True, histtype='step'\n",
    "    axes = plt.gca()\n",
    "    axes.set_xlim([0,90])\n",
    "    #axes.set_ylim([0,50])\n",
    "    plt.show()\n",
    "   \n",
    "#hist = df_teams_corners_per_minute.hist(by='Minute')\n",
    "##\n",
    "#df_teams_corners_per_minute['Minute'].hist(by=df_teams_corners_per_minute['count'])\n",
    "  \n",
    "\n",
    "#for group in df_teams_corners_per_minute.groupby(['TeamId']).groups:\n",
    "\n",
    "# import matplotlib.pyplot as plt\n",
    "# import numpy as np\n",
    "# import matplotlib.pyplot as plt\n",
    "# df_teams_corners_per_minute.plot.hist()\n",
    "# plt.show()\n",
    "# plt.hist(df_teams_corners_per_minute, bins='auto')  # arguments are passed to np.histogram\n",
    "# plt.title(\"Histogram with 'auto' bins\")\n",
    "# plt.show()\n",
    "# for team in df_teams_corners_per_minute.groupby(['TeamId']).groups.values:\n",
    "#     team.hist()"
   ]
  },
  {
   "cell_type": "code",
   "execution_count": 152,
   "metadata": {
    "collapsed": true
   },
   "outputs": [],
   "source": [
    "#hist = df_corners.groupby(['Minute','TeamId']).head(10).hist(color='k', alpha=0.5, bins=3)\n",
    "#not working"
   ]
  },
  {
   "cell_type": "code",
   "execution_count": 160,
   "metadata": {
    "scrolled": false
   },
   "outputs": [
    {
     "name": "stdout",
     "output_type": "stream",
     "text": [
      "(7416, 17)\n"
     ]
    },
    {
     "name": "stderr",
     "output_type": "stream",
     "text": [
      "C:\\Users\\martin\\Anaconda3\\lib\\site-packages\\ipykernel_launcher.py:7: SettingWithCopyWarning: \n",
      "A value is trying to be set on a copy of a slice from a DataFrame.\n",
      "Try using .loc[row_indexer,col_indexer] = value instead\n",
      "\n",
      "See the caveats in the documentation: http://pandas.pydata.org/pandas-docs/stable/indexing.html#indexing-view-versus-copy\n",
      "  import sys\n"
     ]
    },
    {
     "data": {
      "text/html": [
       "<div>\n",
       "<style>\n",
       "    .dataframe thead tr:only-child th {\n",
       "        text-align: right;\n",
       "    }\n",
       "\n",
       "    .dataframe thead th {\n",
       "        text-align: left;\n",
       "    }\n",
       "\n",
       "    .dataframe tbody tr th {\n",
       "        vertical-align: top;\n",
       "    }\n",
       "</style>\n",
       "<table border=\"1\" class=\"dataframe\">\n",
       "  <thead>\n",
       "    <tr style=\"text-align: right;\">\n",
       "      <th></th>\n",
       "      <th>HomeTeam</th>\n",
       "      <th>AwayTeam</th>\n",
       "      <th>Id</th>\n",
       "      <th>Date</th>\n",
       "      <th>Country</th>\n",
       "      <th>League</th>\n",
       "      <th>Season</th>\n",
       "      <th>Stage</th>\n",
       "      <th>Player_Id</th>\n",
       "      <th>AwayTeam_Id</th>\n",
       "      <th>HomeTeam_Id</th>\n",
       "      <th>ExternalId</th>\n",
       "      <th>Minute</th>\n",
       "      <th>ScorerId</th>\n",
       "      <th>AssistId</th>\n",
       "      <th>Type</th>\n",
       "      <th>TeamId</th>\n",
       "    </tr>\n",
       "  </thead>\n",
       "  <tbody>\n",
       "    <tr>\n",
       "      <th>760</th>\n",
       "      <td>Arsenal</td>\n",
       "      <td>Liverpool</td>\n",
       "      <td>1545</td>\n",
       "      <td>2016-08-15 15:00:00</td>\n",
       "      <td>England</td>\n",
       "      <td>Premier League</td>\n",
       "      <td>2016/2017</td>\n",
       "      <td>1</td>\n",
       "      <td>None</td>\n",
       "      <td>1544</td>\n",
       "      <td>1545</td>\n",
       "      <td>5334816</td>\n",
       "      <td>20</td>\n",
       "      <td>169162</td>\n",
       "      <td>25075</td>\n",
       "      <td>header</td>\n",
       "      <td>8659</td>\n",
       "    </tr>\n",
       "    <tr>\n",
       "      <th>761</th>\n",
       "      <td>Bournemouth</td>\n",
       "      <td>Manchester United</td>\n",
       "      <td>1547</td>\n",
       "      <td>2016-08-15 15:00:00</td>\n",
       "      <td>England</td>\n",
       "      <td>Premier League</td>\n",
       "      <td>2016/2017</td>\n",
       "      <td>1</td>\n",
       "      <td>None</td>\n",
       "      <td>1546</td>\n",
       "      <td>1547</td>\n",
       "      <td>5335412</td>\n",
       "      <td>49</td>\n",
       "      <td>169721</td>\n",
       "      <td>23030</td>\n",
       "      <td>shot</td>\n",
       "      <td>9826</td>\n",
       "    </tr>\n",
       "  </tbody>\n",
       "</table>\n",
       "</div>"
      ],
      "text/plain": [
       "        HomeTeam           AwayTeam    Id                Date  Country  \\\n",
       "760      Arsenal          Liverpool  1545 2016-08-15 15:00:00  England   \n",
       "761  Bournemouth  Manchester United  1547 2016-08-15 15:00:00  England   \n",
       "\n",
       "             League     Season Stage Player_Id  AwayTeam_Id  HomeTeam_Id  \\\n",
       "760  Premier League  2016/2017     1      None         1544         1545   \n",
       "761  Premier League  2016/2017     1      None         1546         1547   \n",
       "\n",
       "    ExternalId  Minute ScorerId AssistId    Type TeamId  \n",
       "760    5334816      20   169162    25075  header   8659  \n",
       "761    5335412      49   169721    23030    shot   9826  "
      ]
     },
     "execution_count": 160,
     "metadata": {},
     "output_type": "execute_result"
    }
   ],
   "source": [
    "goals = pd.merge(df_matches.set_index(\"ExternalId\"), df_goals.set_index(\"MatchId\"),  how='left')\n",
    "#result = goals[goals['Minute'].notnull()]\n",
    "print(goals.shape)\n",
    "premier_league = goals[(goals['League'] == 'Premier League') & (goals['Season'] == '2016/2017')]\n",
    "premier_league.head()\n",
    "\n",
    "premier_league['Minute'] = premier_league['Minute'].astype(int)\n",
    "#premier_league.loc[premier_league['Minute']] = premier_league['Minute'].astype(int)\n",
    "\n",
    "for number in range(0, 90, 10):\n",
    "    from_minute = number\n",
    "    to_minute = number + 10\n",
    "    goals_by_minute = premier_league.groupby(['TeamId'])['Minute'].apply(\n",
    "        lambda x: len(x.where(\n",
    "            lambda y : y > from_minute).where(lambda z:z < to_minute).dropna()))   \n",
    "    #print(goals)\n",
    "    #with pd.option_context('display.max_rows', None, 'display.max_columns', 3):\n",
    "       # print(goals)\n",
    "#goals_teams = goa\n",
    "#len(teams.groups)\n",
    "premier_league.head(2)"
   ]
  },
  {
   "cell_type": "code",
   "execution_count": 161,
   "metadata": {},
   "outputs": [
    {
     "data": {
      "text/html": [
       "<div>\n",
       "<style>\n",
       "    .dataframe thead tr:only-child th {\n",
       "        text-align: right;\n",
       "    }\n",
       "\n",
       "    .dataframe thead th {\n",
       "        text-align: left;\n",
       "    }\n",
       "\n",
       "    .dataframe tbody tr th {\n",
       "        vertical-align: top;\n",
       "    }\n",
       "</style>\n",
       "<table border=\"1\" class=\"dataframe\">\n",
       "  <thead>\n",
       "    <tr style=\"text-align: right;\">\n",
       "      <th></th>\n",
       "      <th>HomeTeam</th>\n",
       "      <th>AwayTeam</th>\n",
       "      <th>Id</th>\n",
       "      <th>Date</th>\n",
       "      <th>Country</th>\n",
       "      <th>League</th>\n",
       "      <th>Season</th>\n",
       "      <th>Stage</th>\n",
       "      <th>Player_Id</th>\n",
       "      <th>AwayTeam_Id</th>\n",
       "      <th>HomeTeam_Id</th>\n",
       "      <th>ExternalId</th>\n",
       "      <th>Minute</th>\n",
       "      <th>Player1</th>\n",
       "      <th>TeamId</th>\n",
       "    </tr>\n",
       "  </thead>\n",
       "  <tbody>\n",
       "    <tr>\n",
       "      <th>0</th>\n",
       "      <td>Leicester</td>\n",
       "      <td>Everton</td>\n",
       "      <td>9</td>\n",
       "      <td>2014-08-18 15:00:00</td>\n",
       "      <td>England</td>\n",
       "      <td>Premier League</td>\n",
       "      <td>2014/2015</td>\n",
       "      <td>1</td>\n",
       "      <td>None</td>\n",
       "      <td>13</td>\n",
       "      <td>9</td>\n",
       "      <td>3649444</td>\n",
       "      <td>28</td>\n",
       "      <td>184536</td>\n",
       "      <td>8650</td>\n",
       "    </tr>\n",
       "    <tr>\n",
       "      <th>1</th>\n",
       "      <td>Burnley</td>\n",
       "      <td>Chelsea</td>\n",
       "      <td>10</td>\n",
       "      <td>2014-08-18 15:00:00</td>\n",
       "      <td>England</td>\n",
       "      <td>Premier League</td>\n",
       "      <td>2014/2015</td>\n",
       "      <td>1</td>\n",
       "      <td>None</td>\n",
       "      <td>14</td>\n",
       "      <td>10</td>\n",
       "      <td>3652626</td>\n",
       "      <td>13</td>\n",
       "      <td>24372</td>\n",
       "      <td>8191</td>\n",
       "    </tr>\n",
       "  </tbody>\n",
       "</table>\n",
       "</div>"
      ],
      "text/plain": [
       "    HomeTeam AwayTeam  Id                Date  Country          League  \\\n",
       "0  Leicester  Everton   9 2014-08-18 15:00:00  England  Premier League   \n",
       "1    Burnley  Chelsea  10 2014-08-18 15:00:00  England  Premier League   \n",
       "\n",
       "      Season Stage Player_Id  AwayTeam_Id  HomeTeam_Id ExternalId Minute  \\\n",
       "0  2014/2015     1      None           13            9    3649444     28   \n",
       "1  2014/2015     1      None           14           10    3652626     13   \n",
       "\n",
       "  Player1 TeamId  \n",
       "0  184536   8650  \n",
       "1   24372   8191  "
      ]
     },
     "execution_count": 161,
     "metadata": {},
     "output_type": "execute_result"
    }
   ],
   "source": [
    "result = pd.merge(df_matches.set_index(\"ExternalId\"), df_corners.set_index(\"MatchId\"),  how='left')\n",
    "#premier_league = result[(result['Season']  == '2017/2018') & (result['League']  == 'Premier League')]\n",
    "premier_league = result[ (result['Season'] == '2017/2018') & (result['League'] == 'Ligue 1')]\n",
    "#print(result.shape)\n",
    "\n",
    "\n",
    "#teams_coreners = df_corners.groupby('TeamId')\n",
    "goal_matches = pd.merge(df_corners.set_index(\"MatchId\"), df_matches.set_index(\"ExternalId\"), how='right')\n",
    "\n",
    "#goal_matches_home_team = pd.merge(goal_matches.set_index(\"HomeTeam_Id\"), df_teams.set_index(\"ExternalId\"), how='left')\n",
    "#goal_matches_home_team.rename(columns={'FullName': 'FullNameHome'}, inplace=True)\n",
    "#goal_matches_home_team.rename(columns={'Acronym': 'AcronymHome'}, inplace=True)\n",
    "#goal_matches_home_team.rename(columns={'TeamId': 'HomeTeamId'}, inplace=True)\n",
    "#goal_matches_home_team_away_team = pd.merge(goal_matches_home_team.set_index(\"AwayTeam_Id\"), df_teams.set_index(\"ExternalId\"), how='left')\n",
    "#goal_matches_home_team_away_team\n",
    "#goal_matches_home_team\n",
    "result.head(2)\n",
    "#goal_matches_home_team_away_team\n",
    "#['Minute','TeamId'].apply(\n",
    "#    lambda x: \"{%s}\" % ', '.join(x.Minute + ' ' + x.TeamId))\n",
    "#minutes_sum = result.groupby(['TeamId'], as_index=True)['Minute']hg\n",
    "#minutes_sum\n",
    "#['Minute']\n",
    "#minutes_sum = df_corners.groupby('MatchId')['MatchId', 'TeamId','Minute']\n",
    "#print(premier_league[:10].head())\n",
    "#print(result_premier_league_1718)\n",
    "#premier_league_minutes = premier_league[premier_league['Minute'].notnull()]\n",
    "#print(premier_league_minutes.shape)\n",
    "#minutes_sum.first()\n",
    "#print(list(premier_league_minutes.columns.values))"
   ]
  },
  {
   "cell_type": "markdown",
   "metadata": {},
   "source": []
  },
  {
   "cell_type": "code",
   "execution_count": null,
   "metadata": {
    "collapsed": true,
    "scrolled": false
   },
   "outputs": [],
   "source": [
    "goals = pd.merge( df_matches.set_index(\"ExternalId\"), df_goals.set_index(\"MatchId\"), how='left')\n",
    "#result = goals[goals['Minute'].notnull()]\n",
    "print(result.shape)\n",
    "premier_league = goals[(goals['League'] == 'Premier League') & (goals['Season'] == '2016/2017')]\n",
    "premier_league.head(2)\n",
    "\n",
    "#premier_league['Minute'] = premier_league['Minute'].astype(int)\n",
    "#premier_league.loc[premier_league['Minute']] = premier_league['Minute'].astype(int)\n",
    "\n",
    "#premier_league['TeamId'].hist(by=premier_league['Minute'])\n",
    "\n",
    "# for number in range(0, 90, 10):\n",
    "#     from_minute = number\n",
    "#     to_minute = number + 10\n",
    "#     goals = premier_league.groupby(['TeamId'])['Minute'].apply(lambda x: len(x.where(lambda y : y > from_minute).where(lambda z:z < to_minute).dropna()))   \n",
    "#     print(goals)\n",
    "# #goals_teams = goa\n",
    "# #len(teams.groups)\n",
    "\n",
    "#print(teams.groups.keys())"
   ]
  },
  {
   "cell_type": "code",
   "execution_count": null,
   "metadata": {
    "collapsed": true
   },
   "outputs": [],
   "source": [
    "#groups = df_goals.groupby(['MatchId'])\n",
    "#groups.groups.keys()\n",
    "#df_goals.head()\n",
    "minutes_sum = df_goals.groupby(['MatchId', 'TeamId',], as_index=True, sort=True)['Minute']\n",
    "#minutes_sum.last()\n",
    "minutes_sum.first()\n",
    "\n",
    "#print(minutes_sum.shape)\n",
    "#df_goals.head(10)\n",
    "#groups.groups['1709877']\n",
    "#minutes_sum.groups\n",
    "#result = minutes_sum.get_group(('1709702','9748'))"
   ]
  },
  {
   "cell_type": "code",
   "execution_count": 17,
   "metadata": {
    "scrolled": false
   },
   "outputs": [
    {
     "data": {
      "text/html": [
       "<div>\n",
       "<style>\n",
       "    .dataframe thead tr:only-child th {\n",
       "        text-align: right;\n",
       "    }\n",
       "\n",
       "    .dataframe thead th {\n",
       "        text-align: left;\n",
       "    }\n",
       "\n",
       "    .dataframe tbody tr th {\n",
       "        vertical-align: top;\n",
       "    }\n",
       "</style>\n",
       "<table border=\"1\" class=\"dataframe\">\n",
       "  <thead>\n",
       "    <tr style=\"text-align: right;\">\n",
       "      <th></th>\n",
       "      <th>HomeTeam</th>\n",
       "      <th>AwayTeam</th>\n",
       "      <th>HomeTeamId</th>\n",
       "      <th>AwayTeamId</th>\n",
       "      <th>ExternalId</th>\n",
       "      <th>Date</th>\n",
       "      <th>Country</th>\n",
       "      <th>League</th>\n",
       "      <th>Season</th>\n",
       "      <th>Stage</th>\n",
       "      <th>AwayTeam_Id</th>\n",
       "      <th>HomeTeam_Id</th>\n",
       "    </tr>\n",
       "  </thead>\n",
       "  <tbody>\n",
       "    <tr>\n",
       "      <th>1527</th>\n",
       "      <td>Wolverhampton Wanderers</td>\n",
       "      <td>Everton</td>\n",
       "      <td>8602</td>\n",
       "      <td>8668</td>\n",
       "      <td>2781959</td>\n",
       "      <td>2018-08-18 12:30:00</td>\n",
       "      <td>England</td>\n",
       "      <td>Premier League</td>\n",
       "      <td>2018/2019</td>\n",
       "      <td>1</td>\n",
       "      <td>3084</td>\n",
       "      <td>3085</td>\n",
       "    </tr>\n",
       "    <tr>\n",
       "      <th>1532</th>\n",
       "      <td>Leicester</td>\n",
       "      <td>Wolverhampton Wanderers</td>\n",
       "      <td>8197</td>\n",
       "      <td>8602</td>\n",
       "      <td>2781970</td>\n",
       "      <td>2018-08-18 12:30:00</td>\n",
       "      <td>England</td>\n",
       "      <td>Premier League</td>\n",
       "      <td>2018/2019</td>\n",
       "      <td>2</td>\n",
       "      <td>3094</td>\n",
       "      <td>3095</td>\n",
       "    </tr>\n",
       "  </tbody>\n",
       "</table>\n",
       "</div>"
      ],
      "text/plain": [
       "                     HomeTeam                 AwayTeam HomeTeamId AwayTeamId  \\\n",
       "1527  Wolverhampton Wanderers                  Everton       8602       8668   \n",
       "1532                Leicester  Wolverhampton Wanderers       8197       8602   \n",
       "\n",
       "      ExternalId                Date  Country          League     Season  \\\n",
       "1527     2781959 2018-08-18 12:30:00  England  Premier League  2018/2019   \n",
       "1532     2781970 2018-08-18 12:30:00  England  Premier League  2018/2019   \n",
       "\n",
       "     Stage  AwayTeam_Id  HomeTeam_Id  \n",
       "1527     1         3084         3085  \n",
       "1532     2         3094         3095  "
      ]
     },
     "execution_count": 17,
     "metadata": {},
     "output_type": "execute_result"
    }
   ],
   "source": [
    "def get_last_matches(date, team, x = 10):\n",
    "    ''' Get the last x matches of a given team. '''\n",
    "    \n",
    "    #Filter team matches from matches\n",
    "    team_matches = df_matches[(df_matches['HomeTeam'] == team) | (df_matches['AwayTeam'] == team)].drop_duplicates(['ExternalId'])\n",
    "    team_matches['ExternalId'] = team_matches['ExternalId'].astype(int)\n",
    "    #Filter x last matches from team matches\n",
    "    last_matches = team_matches[team_matches.Date < date].sort_values(by = 'Date', ascending = False).iloc[0:x,:]\n",
    "\n",
    "    #Return last matches\n",
    "    return last_matches\n",
    "\n",
    "last_matches = get_last_matches(\"2018-08-27 15:00:00\", \"Wolverhampton Wanderers\")\n",
    "last_matches.head()\n"
   ]
  },
  {
   "cell_type": "code",
   "execution_count": 15,
   "metadata": {
    "collapsed": true
   },
   "outputs": [],
   "source": [
    "def get_full_name(name):\n",
    "    name_dict = {\n",
    "        \"Man United\" : \"Manchester United\",\n",
    "        \"Man City\" : \"Manchester City\",\n",
    "        \"Wolves\" : \"Wolverhampton Wanderers\",\n",
    "        \"Newcastle\" : \"Newcastle United\",\n",
    "        \"West Brom\" : \"West Bromwich Albion\",\n",
    "        \"QPR\" : \"Queens Park Rangers\",\n",
    "    }\n",
    "    if name in name_dict:\n",
    "        return name_dict[name]\n",
    "    return name\n",
    "    \n",
    "def get_match_features(match, x = 10):\n",
    "    ''' Create match specific features for a given match. '''\n",
    "    \n",
    "    #Define variables\n",
    "    date = match.Date\n",
    "    home_team = get_full_name(match.HomeTeam)\n",
    "    away_team = get_full_name(match.AwayTeam)\n",
    "    print(date)\n",
    "    #Get last x matches of home and away team\n",
    "    matches_home_team = get_last_matches(date, home_team, x = 10)\n",
    "    matches_away_team = get_last_matches(date, away_team, x = 10)\n",
    "    \n",
    "    goals_for_home = goals_against_home = corners_for_home = corners_against_home = shotson_for_home = shotson_against_home = shotsoff_for_home = shotsoff_against_home = 0\n",
    "    \n",
    "    for index, row in matches_home_team.iterrows():\n",
    "        isHome = True if  row['HomeTeam'] == home_team else False\n",
    "        teamId = row['HomeTeamId'] if isHome else row['AwayTeamId']\n",
    "        teamAgainstId = row['HomeTeamId'] if not isHome else row['AwayTeamId']\n",
    "\n",
    "        match_goals_for = df_goals[(df_goals['TeamId'] == teamId) & (df_goals['MatchId'] == row['ExternalId'])]\n",
    "        goals_for_home += match_goals_for.shape[0]\n",
    "        \n",
    "        match_goals_against = df_goals[(df_goals['TeamId'] == teamAgainstId) & (df_goals['MatchId'] == row['ExternalId'])]\n",
    "        goals_against_home += match_goals_against.shape[0]\n",
    "        \n",
    "        match_corners_for = df_corners[(df_corners['TeamId'] == teamId) & (df_corners['MatchId'] == row['ExternalId'])]\n",
    "        corners_for_home += match_corners_for.shape[0]\n",
    "        \n",
    "        match_corners_against = df_corners[(df_corners['TeamId'] == teamAgainstId) & (df_corners['MatchId'] == row['ExternalId'])]\n",
    "        corners_against_home += match_corners_against.shape[0]\n",
    "        \n",
    "        match_shotson_for = df_shots_on[(df_shots_on['TeamId'] == teamId) & (df_shots_on['MatchId'] == row['ExternalId'])]\n",
    "        shotson_for_home += match_shotson_for.shape[0]\n",
    "        \n",
    "        match_shotson_against = df_shots_on[(df_shots_on['TeamId'] == teamAgainstId) & (df_shots_on['MatchId'] == row['ExternalId'])]\n",
    "        shotson_against_home += match_shotson_against.shape[0]\n",
    "        \n",
    "        match_shotsoff_for = df_shots_off[(df_shots_off['TeamId'] == teamId) & (df_shots_off['MatchId'] == row['ExternalId'])]\n",
    "        shotsoff_for_home += match_shotson_for.shape[0]\n",
    "        \n",
    "        match_shotsoff_against = df_shots_off[(df_shots_off['TeamId'] == teamAgainstId) & (df_shots_off['MatchId'] == row['ExternalId'])]\n",
    "        shotsoff_against_home += match_shotson_against.shape[0]\n",
    "        \n",
    "        match_possession_for = df_possessions[(df_possessions['MatchId'] == row['ExternalId'])]['HomePossession']\n",
    "        match_possession_against = df_possessions[(df_possessions['MatchId'] == row['ExternalId'])]['AwayPossession']\n",
    "        \n",
    "    goals_for_away = goals_against_away = corners_for_away = corners_against_away = shotson_for_away = shotson_against_away = shotsoff_for_away = shotsoff_against_away = 0\n",
    "    for index, row in matches_home_team.iterrows():\n",
    "        isHome = True if  row['HomeTeam'] == away_team else False\n",
    "        teamId = row['HomeTeamId'] if isHome else row['AwayTeamId']\n",
    "        teamAgainstId = row['HomeTeamId'] if not isHome else row['AwayTeamId']\n",
    "\n",
    "        match_goals_for = df_goals[(df_goals['TeamId'] == teamId) & (df_goals['MatchId'] == row['ExternalId'])]\n",
    "        goals_for_away += match_goals_for.shape[0]\n",
    "        \n",
    "        match_goals_against = df_goals[(df_goals['TeamId'] == teamAgainstId) & (df_goals['MatchId'] == row['ExternalId'])]\n",
    "        goals_against_away += match_goals_against.shape[0]\n",
    "        \n",
    "        match_corners_for = df_corners[(df_corners['TeamId'] == teamId) & (df_corners['MatchId'] == row['ExternalId'])]\n",
    "        corners_for_away += match_corners_for.shape[0]\n",
    "        \n",
    "        match_corners_against = df_corners[(df_corners['TeamId'] == teamAgainstId) & (df_corners['MatchId'] == row['ExternalId'])]\n",
    "        corners_against_away += match_corners_against.shape[0]\n",
    "        \n",
    "        match_shotson_for = df_shots_on[(df_shots_on['TeamId'] == teamId) & (df_shots_on['MatchId'] == row['ExternalId'])]\n",
    "        shotson_for_away += match_shotson_for.shape[0]\n",
    "        \n",
    "        match_shotson_against = df_shots_on[(df_shots_on['TeamId'] == teamAgainstId) & (df_shots_on['MatchId'] == row['ExternalId'])]\n",
    "        shotson_against_away += match_shotson_against.shape[0]\n",
    "        \n",
    "        match_shotsoff_for = df_shots_off[(df_shots_off['TeamId'] == teamId) & (df_shots_off['MatchId'] == row['ExternalId'])]\n",
    "        shotsoff_for_away += match_shotson_for.shape[0]\n",
    "        \n",
    "        match_shotsoff_against = df_shots_off[(df_shots_off['TeamId'] == teamAgainstId) & (df_shots_off['MatchId'] == row['ExternalId'])]\n",
    "        shotsoff_against_away += match_shotson_against.shape[0]\n",
    "        \n",
    "        match_possession_for = df_possessions[(df_possessions['MatchId'] == row['ExternalId'])]['HomePossession']\n",
    "        match_possession_against = df_possessions[(df_possessions['MatchId'] == row['ExternalId'])]['AwayPossession']\n",
    "    \n",
    "        #print(\"for \" + str(match_goals_for.shape[0]))\n",
    "        #print(\"against \" +  str(match_goals_against.shape[0]))\n",
    "\n",
    "        #print(\"for \" + str(np.mean(match_possession_for)))\n",
    "        #print(\"against \" +  str(np.mean(match_possession_against)))\n",
    "#     #Get last x matches of both teams against each other\n",
    "#     last_matches_against = get_last_matches_against_eachother(matches, date, home_team, away_team, x = 3)\n",
    "    \n",
    "    result = pd.DataFrame()\n",
    "    \n",
    "   # result.loc[0, 'match_api_id'] = match.match_api_id\n",
    "    result.loc[0, 'league_id'] = match.Div\n",
    "\n",
    "#     #Create match features\n",
    "    result.loc[0, 'home_team_goals_for'] = goals_for_home\n",
    "    result.loc[0, 'home_team_goals_against'] = goals_against_home\n",
    "    \n",
    "    result.loc[0, 'home_team_corners_for'] = corners_for_home\n",
    "    result.loc[0, 'home_team_corners_against'] = corners_against_home\n",
    "    \n",
    "    result.loc[0, 'home_team_shotson_for'] = shotson_for_home\n",
    "    result.loc[0, 'home_team_shotson_against'] = shotson_against_home\n",
    "    \n",
    "    result.loc[0, 'home_team_shotsoff_for'] = shotsoff_for_home\n",
    "    result.loc[0, 'home_team_shotsoff_against'] = shotsoff_against_home\n",
    "    \n",
    "    result.loc[0, 'away_team_goals_for'] = goals_for_away\n",
    "    result.loc[0, 'away_team_goals_against'] = goals_against_away\n",
    "    \n",
    "    result.loc[0, 'away_team_corners_for'] = corners_for_away\n",
    "    result.loc[0, 'away_team_corners_against'] = corners_against_away\n",
    "    \n",
    "    result.loc[0, 'away_team_shotson_for'] = shotson_for_away\n",
    "    result.loc[0, 'away_team_shotson_against'] = shotson_against_away\n",
    "    \n",
    "    result.loc[0, 'away_team_shotsoff_for'] = shotsoff_for_away\n",
    "    result.loc[0, 'away_team_shotsoff_against'] = shotsoff_against_away\n",
    "#     result.loc[0, 'away_team_goals_difference'] = away_goals - away_goals_conceided\n",
    "#     result.loc[0, 'games_won_home_team'] = get_wins(matches_home_team, home_team) \n",
    "#     result.loc[0, 'games_won_away_team'] = get_wins(matches_away_team, away_team)\n",
    "#     result.loc[0, 'games_against_won'] = get_wins(last_matches_against, home_team)\n",
    "#     result.loc[0, 'games_against_lost'] = get_wins(last_matches_against, away_team)\n",
    "    \n",
    "    #Return match features\n",
    "    return result.iloc[0]"
   ]
  },
  {
   "cell_type": "code",
   "execution_count": 339,
   "metadata": {},
   "outputs": [
    {
     "name": "stdout",
     "output_type": "stream",
     "text": [
      "2016-08-13 00:00:00\n",
      "2016-08-13 00:00:00\n",
      "2016-08-13 00:00:00\n",
      "2016-08-13 00:00:00\n",
      "2016-08-13 00:00:00\n",
      "2016-08-13 00:00:00\n",
      "2016-08-13 00:00:00\n",
      "2016-08-14 00:00:00\n",
      "2016-08-14 00:00:00\n",
      "2016-08-15 00:00:00\n",
      "2016-08-19 00:00:00\n",
      "2016-08-20 00:00:00\n",
      "2016-08-20 00:00:00\n",
      "2016-08-20 00:00:00\n",
      "2016-08-20 00:00:00\n",
      "2016-08-20 00:00:00\n",
      "2016-08-20 00:00:00\n",
      "2016-08-20 00:00:00\n",
      "2016-08-21 00:00:00\n",
      "2016-08-21 00:00:00\n",
      "2016-08-27 00:00:00\n",
      "2016-08-27 00:00:00\n",
      "2016-08-27 00:00:00\n",
      "2016-08-27 00:00:00\n",
      "2016-08-27 00:00:00\n",
      "2016-08-27 00:00:00\n",
      "2016-08-27 00:00:00\n",
      "2016-08-27 00:00:00\n",
      "2016-08-28 00:00:00\n",
      "2016-08-28 00:00:00\n",
      "2016-10-09 00:00:00\n",
      "2016-10-09 00:00:00\n",
      "2016-10-09 00:00:00\n",
      "2016-10-09 00:00:00\n",
      "2016-10-09 00:00:00\n",
      "2016-10-09 00:00:00\n",
      "2016-10-09 00:00:00\n",
      "2016-10-09 00:00:00\n",
      "2016-11-09 00:00:00\n",
      "2016-12-09 00:00:00\n",
      "2016-09-16 00:00:00\n",
      "2016-09-17 00:00:00\n",
      "2016-09-17 00:00:00\n",
      "2016-09-17 00:00:00\n",
      "2016-09-17 00:00:00\n",
      "2016-09-17 00:00:00\n",
      "2016-09-18 00:00:00\n",
      "2016-09-18 00:00:00\n",
      "2016-09-18 00:00:00\n",
      "2016-09-18 00:00:00\n",
      "2016-09-24 00:00:00\n",
      "2016-09-24 00:00:00\n",
      "2016-09-24 00:00:00\n",
      "2016-09-24 00:00:00\n",
      "2016-09-24 00:00:00\n",
      "2016-09-24 00:00:00\n",
      "2016-09-24 00:00:00\n",
      "2016-09-24 00:00:00\n",
      "2016-09-25 00:00:00\n",
      "2016-09-26 00:00:00\n",
      "2016-09-30 00:00:00\n",
      "2016-01-10 00:00:00\n",
      "2016-01-10 00:00:00\n",
      "2016-01-10 00:00:00\n",
      "2016-01-10 00:00:00\n",
      "2016-01-10 00:00:00\n",
      "2016-02-10 00:00:00\n",
      "2016-02-10 00:00:00\n",
      "2016-02-10 00:00:00\n",
      "2016-02-10 00:00:00\n",
      "2016-10-15 00:00:00\n",
      "2016-10-15 00:00:00\n",
      "2016-10-15 00:00:00\n",
      "2016-10-15 00:00:00\n",
      "2016-10-15 00:00:00\n",
      "2016-10-15 00:00:00\n",
      "2016-10-15 00:00:00\n",
      "2016-10-16 00:00:00\n",
      "2016-10-16 00:00:00\n",
      "2016-10-17 00:00:00\n",
      "2016-10-22 00:00:00\n",
      "2016-10-22 00:00:00\n",
      "2016-10-22 00:00:00\n",
      "2016-10-22 00:00:00\n",
      "2016-10-22 00:00:00\n",
      "2016-10-22 00:00:00\n",
      "2016-10-22 00:00:00\n",
      "2016-10-22 00:00:00\n",
      "2016-10-23 00:00:00\n",
      "2016-10-23 00:00:00\n",
      "2016-10-29 00:00:00\n",
      "2016-10-29 00:00:00\n",
      "2016-10-29 00:00:00\n",
      "2016-10-29 00:00:00\n",
      "2016-10-29 00:00:00\n",
      "2016-10-29 00:00:00\n",
      "2016-10-29 00:00:00\n",
      "2016-10-30 00:00:00\n",
      "2016-10-30 00:00:00\n",
      "2016-10-31 00:00:00\n",
      "2016-05-11 00:00:00\n",
      "2016-05-11 00:00:00\n",
      "2016-05-11 00:00:00\n",
      "2016-05-11 00:00:00\n",
      "2016-05-11 00:00:00\n",
      "2016-06-11 00:00:00\n",
      "2016-06-11 00:00:00\n",
      "2016-06-11 00:00:00\n",
      "2016-06-11 00:00:00\n",
      "2016-06-11 00:00:00\n",
      "2016-11-19 00:00:00\n",
      "2016-11-19 00:00:00\n",
      "2016-11-19 00:00:00\n",
      "2016-11-19 00:00:00\n",
      "2016-11-19 00:00:00\n",
      "2016-11-19 00:00:00\n",
      "2016-11-19 00:00:00\n",
      "2016-11-19 00:00:00\n",
      "2016-11-20 00:00:00\n",
      "2016-11-21 00:00:00\n",
      "2016-11-26 00:00:00\n",
      "2016-11-26 00:00:00\n",
      "2016-11-26 00:00:00\n",
      "2016-11-26 00:00:00\n",
      "2016-11-26 00:00:00\n",
      "2016-11-26 00:00:00\n",
      "2016-11-27 00:00:00\n",
      "2016-11-27 00:00:00\n",
      "2016-11-27 00:00:00\n",
      "2016-11-27 00:00:00\n",
      "2016-03-12 00:00:00\n",
      "2016-03-12 00:00:00\n",
      "2016-03-12 00:00:00\n",
      "2016-03-12 00:00:00\n",
      "2016-03-12 00:00:00\n",
      "2016-03-12 00:00:00\n",
      "2016-03-12 00:00:00\n",
      "2016-04-12 00:00:00\n",
      "2016-04-12 00:00:00\n",
      "2016-05-12 00:00:00\n",
      "2016-10-12 00:00:00\n",
      "2016-10-12 00:00:00\n",
      "2016-10-12 00:00:00\n",
      "2016-10-12 00:00:00\n",
      "2016-10-12 00:00:00\n",
      "2016-10-12 00:00:00\n",
      "2016-11-12 00:00:00\n",
      "2016-11-12 00:00:00\n",
      "2016-11-12 00:00:00\n",
      "2016-11-12 00:00:00\n",
      "2016-12-13 00:00:00\n",
      "2016-12-13 00:00:00\n",
      "2016-12-14 00:00:00\n",
      "2016-12-14 00:00:00\n",
      "2016-12-14 00:00:00\n",
      "2016-12-14 00:00:00\n",
      "2016-12-14 00:00:00\n",
      "2016-12-14 00:00:00\n",
      "2016-12-14 00:00:00\n",
      "2016-12-14 00:00:00\n",
      "2016-12-17 00:00:00\n",
      "2016-12-17 00:00:00\n",
      "2016-12-17 00:00:00\n",
      "2016-12-17 00:00:00\n",
      "2016-12-17 00:00:00\n",
      "2016-12-17 00:00:00\n",
      "2016-12-18 00:00:00\n",
      "2016-12-18 00:00:00\n",
      "2016-12-18 00:00:00\n",
      "2016-12-19 00:00:00\n",
      "2016-12-26 00:00:00\n",
      "2016-12-26 00:00:00\n",
      "2016-12-26 00:00:00\n",
      "2016-12-26 00:00:00\n",
      "2016-12-26 00:00:00\n",
      "2016-12-26 00:00:00\n",
      "2016-12-26 00:00:00\n",
      "2016-12-26 00:00:00\n",
      "2016-12-27 00:00:00\n",
      "2016-12-28 00:00:00\n",
      "2016-12-30 00:00:00\n",
      "2016-12-31 00:00:00\n",
      "2016-12-31 00:00:00\n",
      "2016-12-31 00:00:00\n",
      "2016-12-31 00:00:00\n",
      "2016-12-31 00:00:00\n",
      "2016-12-31 00:00:00\n",
      "2016-12-31 00:00:00\n",
      "2017-01-01 00:00:00\n",
      "2017-01-01 00:00:00\n",
      "2017-02-01 00:00:00\n",
      "2017-02-01 00:00:00\n",
      "2017-02-01 00:00:00\n",
      "2017-02-01 00:00:00\n",
      "2017-02-01 00:00:00\n",
      "2017-02-01 00:00:00\n",
      "2017-03-01 00:00:00\n",
      "2017-03-01 00:00:00\n",
      "2017-03-01 00:00:00\n",
      "2017-04-01 00:00:00\n",
      "2017-01-14 00:00:00\n",
      "2017-01-14 00:00:00\n",
      "2017-01-14 00:00:00\n",
      "2017-01-14 00:00:00\n",
      "2017-01-14 00:00:00\n",
      "2017-01-14 00:00:00\n",
      "2017-01-14 00:00:00\n",
      "2017-01-14 00:00:00\n",
      "2017-01-15 00:00:00\n",
      "2017-01-15 00:00:00\n",
      "2017-01-21 00:00:00\n",
      "2017-01-21 00:00:00\n",
      "2017-01-21 00:00:00\n",
      "2017-01-21 00:00:00\n",
      "2017-01-21 00:00:00\n",
      "2017-01-21 00:00:00\n",
      "2017-01-21 00:00:00\n",
      "2017-01-22 00:00:00\n",
      "2017-01-22 00:00:00\n",
      "2017-01-22 00:00:00\n",
      "2017-01-31 00:00:00\n",
      "2017-01-31 00:00:00\n",
      "2017-01-31 00:00:00\n",
      "2017-01-31 00:00:00\n",
      "2017-01-31 00:00:00\n",
      "2017-01-31 00:00:00\n",
      "2017-01-31 00:00:00\n",
      "2017-01-02 00:00:00\n",
      "2017-01-02 00:00:00\n",
      "2017-01-02 00:00:00\n",
      "2017-04-02 00:00:00\n",
      "2017-04-02 00:00:00\n",
      "2017-04-02 00:00:00\n",
      "2017-04-02 00:00:00\n",
      "2017-04-02 00:00:00\n",
      "2017-04-02 00:00:00\n",
      "2017-04-02 00:00:00\n",
      "2017-04-02 00:00:00\n",
      "2017-05-02 00:00:00\n",
      "2017-05-02 00:00:00\n",
      "2017-11-02 00:00:00\n",
      "2017-11-02 00:00:00\n",
      "2017-11-02 00:00:00\n",
      "2017-11-02 00:00:00\n",
      "2017-11-02 00:00:00\n",
      "2017-11-02 00:00:00\n",
      "2017-11-02 00:00:00\n",
      "2017-12-02 00:00:00\n",
      "2017-12-02 00:00:00\n",
      "2017-02-13 00:00:00\n",
      "2017-02-25 00:00:00\n",
      "2017-02-25 00:00:00\n",
      "2017-02-25 00:00:00\n",
      "2017-02-25 00:00:00\n",
      "2017-02-25 00:00:00\n",
      "2017-02-25 00:00:00\n",
      "2017-02-26 00:00:00\n",
      "2017-02-27 00:00:00\n",
      "2017-04-03 00:00:00\n",
      "2017-04-03 00:00:00\n",
      "2017-04-03 00:00:00\n",
      "2017-04-03 00:00:00\n",
      "2017-04-03 00:00:00\n",
      "2017-04-03 00:00:00\n",
      "2017-04-03 00:00:00\n",
      "2017-05-03 00:00:00\n",
      "2017-05-03 00:00:00\n",
      "2017-06-03 00:00:00\n",
      "2017-08-03 00:00:00\n",
      "2017-11-03 00:00:00\n",
      "2017-11-03 00:00:00\n",
      "2017-11-03 00:00:00\n",
      "2017-12-03 00:00:00\n",
      "2017-03-18 00:00:00\n",
      "2017-03-18 00:00:00\n",
      "2017-03-18 00:00:00\n",
      "2017-03-18 00:00:00\n",
      "2017-03-18 00:00:00\n",
      "2017-03-18 00:00:00\n",
      "2017-03-18 00:00:00\n",
      "2017-03-19 00:00:00\n",
      "2017-03-19 00:00:00\n",
      "2017-03-19 00:00:00\n",
      "2017-01-04 00:00:00\n",
      "2017-01-04 00:00:00\n",
      "2017-01-04 00:00:00\n",
      "2017-01-04 00:00:00\n",
      "2017-01-04 00:00:00\n",
      "2017-01-04 00:00:00\n",
      "2017-01-04 00:00:00\n",
      "2017-01-04 00:00:00\n",
      "2017-02-04 00:00:00\n",
      "2017-02-04 00:00:00\n",
      "2017-04-04 00:00:00\n",
      "2017-04-04 00:00:00\n",
      "2017-04-04 00:00:00\n",
      "2017-04-04 00:00:00\n",
      "2017-05-04 00:00:00\n",
      "2017-05-04 00:00:00\n",
      "2017-05-04 00:00:00\n",
      "2017-05-04 00:00:00\n",
      "2017-05-04 00:00:00\n",
      "2017-05-04 00:00:00\n",
      "2017-08-04 00:00:00\n",
      "2017-08-04 00:00:00\n",
      "2017-08-04 00:00:00\n",
      "2017-08-04 00:00:00\n",
      "2017-08-04 00:00:00\n",
      "2017-08-04 00:00:00\n",
      "2017-08-04 00:00:00\n",
      "2017-09-04 00:00:00\n",
      "2017-09-04 00:00:00\n",
      "2017-10-04 00:00:00\n",
      "2017-04-15 00:00:00\n",
      "2017-04-15 00:00:00\n",
      "2017-04-15 00:00:00\n",
      "2017-04-15 00:00:00\n",
      "2017-04-15 00:00:00\n",
      "2017-04-15 00:00:00\n",
      "2017-04-15 00:00:00\n",
      "2017-04-16 00:00:00\n",
      "2017-04-16 00:00:00\n",
      "2017-04-17 00:00:00\n",
      "2017-04-22 00:00:00\n",
      "2017-04-22 00:00:00\n",
      "2017-04-22 00:00:00\n",
      "2017-04-22 00:00:00\n",
      "2017-04-23 00:00:00\n",
      "2017-04-23 00:00:00\n",
      "2017-04-25 00:00:00\n",
      "2017-04-26 00:00:00\n",
      "2017-04-26 00:00:00\n",
      "2017-04-26 00:00:00\n",
      "2017-04-27 00:00:00\n",
      "2017-04-29 00:00:00\n",
      "2017-04-29 00:00:00\n",
      "2017-04-29 00:00:00\n",
      "2017-04-29 00:00:00\n",
      "2017-04-29 00:00:00\n",
      "2017-04-30 00:00:00\n",
      "2017-04-30 00:00:00\n",
      "2017-04-30 00:00:00\n",
      "2017-04-30 00:00:00\n",
      "2017-01-05 00:00:00\n",
      "2017-05-05 00:00:00\n",
      "2017-06-05 00:00:00\n",
      "2017-06-05 00:00:00\n",
      "2017-06-05 00:00:00\n",
      "2017-06-05 00:00:00\n",
      "2017-06-05 00:00:00\n",
      "2017-06-05 00:00:00\n",
      "2017-07-05 00:00:00\n",
      "2017-07-05 00:00:00\n",
      "2017-08-05 00:00:00\n",
      "2017-10-05 00:00:00\n",
      "2017-12-05 00:00:00\n",
      "2017-12-05 00:00:00\n",
      "2017-05-13 00:00:00\n",
      "2017-05-13 00:00:00\n",
      "2017-05-13 00:00:00\n",
      "2017-05-13 00:00:00\n",
      "2017-05-13 00:00:00\n",
      "2017-05-14 00:00:00\n",
      "2017-05-14 00:00:00\n",
      "2017-05-14 00:00:00\n",
      "2017-05-15 00:00:00\n",
      "2017-05-16 00:00:00\n",
      "2017-05-16 00:00:00\n",
      "2017-05-17 00:00:00\n",
      "2017-05-18 00:00:00\n",
      "2017-05-21 00:00:00\n",
      "2017-05-21 00:00:00\n",
      "2017-05-21 00:00:00\n",
      "2017-05-21 00:00:00\n",
      "2017-05-21 00:00:00\n",
      "2017-05-21 00:00:00\n",
      "2017-05-21 00:00:00\n",
      "2017-05-21 00:00:00\n",
      "2017-05-21 00:00:00\n",
      "2017-05-21 00:00:00\n",
      "2017-11-08 00:00:00\n",
      "2017-12-08 00:00:00\n",
      "2017-12-08 00:00:00\n",
      "2017-12-08 00:00:00\n",
      "2017-12-08 00:00:00\n",
      "2017-12-08 00:00:00\n",
      "2017-12-08 00:00:00\n",
      "2017-12-08 00:00:00\n",
      "2017-08-13 00:00:00\n",
      "2017-08-13 00:00:00\n",
      "2017-08-19 00:00:00\n",
      "2017-08-19 00:00:00\n",
      "2017-08-19 00:00:00\n",
      "2017-08-19 00:00:00\n",
      "2017-08-19 00:00:00\n",
      "2017-08-19 00:00:00\n",
      "2017-08-19 00:00:00\n",
      "2017-08-20 00:00:00\n",
      "2017-08-20 00:00:00\n",
      "2017-08-21 00:00:00\n",
      "2017-08-26 00:00:00\n",
      "2017-08-26 00:00:00\n",
      "2017-08-26 00:00:00\n",
      "2017-08-26 00:00:00\n",
      "2017-08-26 00:00:00\n",
      "2017-08-26 00:00:00\n",
      "2017-08-27 00:00:00\n",
      "2017-08-27 00:00:00\n",
      "2017-08-27 00:00:00\n",
      "2017-08-27 00:00:00\n"
     ]
    },
    {
     "name": "stdout",
     "output_type": "stream",
     "text": [
      "2017-09-09 00:00:00\n",
      "2017-09-09 00:00:00\n",
      "2017-09-09 00:00:00\n",
      "2017-09-09 00:00:00\n",
      "2017-09-09 00:00:00\n",
      "2017-09-09 00:00:00\n",
      "2017-09-09 00:00:00\n",
      "2017-10-09 00:00:00\n",
      "2017-10-09 00:00:00\n",
      "2017-11-09 00:00:00\n",
      "2017-09-15 00:00:00\n",
      "2017-09-16 00:00:00\n",
      "2017-09-16 00:00:00\n",
      "2017-09-16 00:00:00\n",
      "2017-09-16 00:00:00\n",
      "2017-09-16 00:00:00\n",
      "2017-09-16 00:00:00\n",
      "2017-09-16 00:00:00\n",
      "2017-09-17 00:00:00\n",
      "2017-09-17 00:00:00\n",
      "2017-09-23 00:00:00\n",
      "2017-09-23 00:00:00\n",
      "2017-09-23 00:00:00\n",
      "2017-09-23 00:00:00\n",
      "2017-09-23 00:00:00\n",
      "2017-09-23 00:00:00\n",
      "2017-09-23 00:00:00\n",
      "2017-09-23 00:00:00\n",
      "2017-09-24 00:00:00\n",
      "2017-09-25 00:00:00\n",
      "2017-09-30 00:00:00\n",
      "2017-09-30 00:00:00\n",
      "2017-09-30 00:00:00\n",
      "2017-09-30 00:00:00\n",
      "2017-09-30 00:00:00\n",
      "2017-09-30 00:00:00\n",
      "2017-09-30 00:00:00\n",
      "2017-01-10 00:00:00\n",
      "2017-01-10 00:00:00\n",
      "2017-01-10 00:00:00\n",
      "2017-10-14 00:00:00\n",
      "2017-10-14 00:00:00\n",
      "2017-10-14 00:00:00\n",
      "2017-10-14 00:00:00\n",
      "2017-10-14 00:00:00\n",
      "2017-10-14 00:00:00\n",
      "2017-10-14 00:00:00\n",
      "2017-10-15 00:00:00\n",
      "2017-10-15 00:00:00\n",
      "2017-10-16 00:00:00\n",
      "2017-10-20 00:00:00\n",
      "2017-10-21 00:00:00\n",
      "2017-10-21 00:00:00\n",
      "2017-10-21 00:00:00\n",
      "2017-10-21 00:00:00\n",
      "2017-10-21 00:00:00\n",
      "2017-10-21 00:00:00\n",
      "2017-10-21 00:00:00\n",
      "2017-10-22 00:00:00\n",
      "2017-10-22 00:00:00\n",
      "2017-10-28 00:00:00\n",
      "2017-10-28 00:00:00\n",
      "2017-10-28 00:00:00\n",
      "2017-10-28 00:00:00\n",
      "2017-10-28 00:00:00\n",
      "2017-10-28 00:00:00\n",
      "2017-10-28 00:00:00\n",
      "2017-10-29 00:00:00\n",
      "2017-10-29 00:00:00\n",
      "2017-10-30 00:00:00\n",
      "2017-04-11 00:00:00\n",
      "2017-04-11 00:00:00\n",
      "2017-04-11 00:00:00\n",
      "2017-04-11 00:00:00\n",
      "2017-04-11 00:00:00\n",
      "2017-04-11 00:00:00\n",
      "2017-05-11 00:00:00\n",
      "2017-05-11 00:00:00\n",
      "2017-05-11 00:00:00\n",
      "2017-05-11 00:00:00\n",
      "2017-11-18 00:00:00\n",
      "2017-11-18 00:00:00\n",
      "2017-11-18 00:00:00\n",
      "2017-11-18 00:00:00\n",
      "2017-11-18 00:00:00\n",
      "2017-11-18 00:00:00\n",
      "2017-11-18 00:00:00\n",
      "2017-11-18 00:00:00\n",
      "2017-11-19 00:00:00\n",
      "2017-11-20 00:00:00\n",
      "2017-11-24 00:00:00\n",
      "2017-11-25 00:00:00\n",
      "2017-11-25 00:00:00\n",
      "2017-11-25 00:00:00\n",
      "2017-11-25 00:00:00\n",
      "2017-11-25 00:00:00\n",
      "2017-11-25 00:00:00\n",
      "2017-11-26 00:00:00\n",
      "2017-11-26 00:00:00\n",
      "2017-11-26 00:00:00\n",
      "2017-11-28 00:00:00\n",
      "2017-11-28 00:00:00\n",
      "2017-11-28 00:00:00\n",
      "2017-11-28 00:00:00\n",
      "2017-11-29 00:00:00\n",
      "2017-11-29 00:00:00\n",
      "2017-11-29 00:00:00\n",
      "2017-11-29 00:00:00\n",
      "2017-11-29 00:00:00\n",
      "2017-11-29 00:00:00\n",
      "2017-02-12 00:00:00\n",
      "2017-02-12 00:00:00\n",
      "2017-02-12 00:00:00\n",
      "2017-02-12 00:00:00\n",
      "2017-02-12 00:00:00\n",
      "2017-02-12 00:00:00\n",
      "2017-02-12 00:00:00\n",
      "2017-02-12 00:00:00\n",
      "2017-03-12 00:00:00\n",
      "2017-03-12 00:00:00\n",
      "2017-09-12 00:00:00\n",
      "2017-09-12 00:00:00\n",
      "2017-09-12 00:00:00\n",
      "2017-09-12 00:00:00\n",
      "2017-09-12 00:00:00\n",
      "2017-09-12 00:00:00\n",
      "2017-09-12 00:00:00\n",
      "2017-10-12 00:00:00\n",
      "2017-10-12 00:00:00\n",
      "2017-10-12 00:00:00\n",
      "2017-12-12 00:00:00\n",
      "2017-12-12 00:00:00\n",
      "2017-12-12 00:00:00\n",
      "2017-12-13 00:00:00\n",
      "2017-12-13 00:00:00\n",
      "2017-12-13 00:00:00\n",
      "2017-12-13 00:00:00\n",
      "2017-12-13 00:00:00\n",
      "2017-12-13 00:00:00\n",
      "2017-12-13 00:00:00\n",
      "2017-12-16 00:00:00\n",
      "2017-12-16 00:00:00\n",
      "2017-12-16 00:00:00\n",
      "2017-12-16 00:00:00\n",
      "2017-12-16 00:00:00\n",
      "2017-12-16 00:00:00\n",
      "2017-12-16 00:00:00\n",
      "2017-12-17 00:00:00\n",
      "2017-12-17 00:00:00\n",
      "2017-12-18 00:00:00\n",
      "2017-12-22 00:00:00\n",
      "2017-12-23 00:00:00\n",
      "2017-12-23 00:00:00\n",
      "2017-12-23 00:00:00\n",
      "2017-12-23 00:00:00\n",
      "2017-12-23 00:00:00\n",
      "2017-12-23 00:00:00\n",
      "2017-12-23 00:00:00\n",
      "2017-12-23 00:00:00\n",
      "2017-12-23 00:00:00\n",
      "2017-12-26 00:00:00\n",
      "2017-12-26 00:00:00\n",
      "2017-12-26 00:00:00\n",
      "2017-12-26 00:00:00\n",
      "2017-12-26 00:00:00\n",
      "2017-12-26 00:00:00\n",
      "2017-12-26 00:00:00\n",
      "2017-12-26 00:00:00\n",
      "2017-12-27 00:00:00\n",
      "2017-12-28 00:00:00\n",
      "2017-12-30 00:00:00\n",
      "2017-12-30 00:00:00\n",
      "2017-12-30 00:00:00\n",
      "2017-12-30 00:00:00\n",
      "2017-12-30 00:00:00\n",
      "2017-12-30 00:00:00\n",
      "2017-12-30 00:00:00\n",
      "2017-12-31 00:00:00\n",
      "2017-12-31 00:00:00\n",
      "2018-01-01 00:00:00\n",
      "2018-01-01 00:00:00\n",
      "2018-01-01 00:00:00\n",
      "2018-01-01 00:00:00\n",
      "2018-01-01 00:00:00\n",
      "2018-02-01 00:00:00\n",
      "2018-02-01 00:00:00\n",
      "2018-02-01 00:00:00\n",
      "2018-02-01 00:00:00\n",
      "2018-03-01 00:00:00\n",
      "2018-04-01 00:00:00\n",
      "2018-01-13 00:00:00\n",
      "2018-01-13 00:00:00\n",
      "2018-01-13 00:00:00\n",
      "2018-01-13 00:00:00\n",
      "2018-01-13 00:00:00\n",
      "2018-01-13 00:00:00\n",
      "2018-01-13 00:00:00\n",
      "2018-01-14 00:00:00\n",
      "2018-01-14 00:00:00\n",
      "2018-01-15 00:00:00\n",
      "2018-01-20 00:00:00\n",
      "2018-01-20 00:00:00\n",
      "2018-01-20 00:00:00\n",
      "2018-01-20 00:00:00\n",
      "2018-01-20 00:00:00\n",
      "2018-01-20 00:00:00\n",
      "2018-01-20 00:00:00\n",
      "2018-01-20 00:00:00\n",
      "2018-01-21 00:00:00\n",
      "2018-01-22 00:00:00\n",
      "2018-01-30 00:00:00\n",
      "2018-01-30 00:00:00\n",
      "2018-01-30 00:00:00\n",
      "2018-01-31 00:00:00\n",
      "2018-01-31 00:00:00\n",
      "2018-01-31 00:00:00\n",
      "2018-01-31 00:00:00\n",
      "2018-01-31 00:00:00\n",
      "2018-01-31 00:00:00\n",
      "2018-01-31 00:00:00\n",
      "2018-03-02 00:00:00\n",
      "2018-03-02 00:00:00\n",
      "2018-03-02 00:00:00\n",
      "2018-03-02 00:00:00\n",
      "2018-03-02 00:00:00\n",
      "2018-03-02 00:00:00\n",
      "2018-03-02 00:00:00\n",
      "2018-04-02 00:00:00\n",
      "2018-04-02 00:00:00\n",
      "2018-05-02 00:00:00\n",
      "2018-10-02 00:00:00\n",
      "2018-10-02 00:00:00\n",
      "2018-10-02 00:00:00\n",
      "2018-10-02 00:00:00\n",
      "2018-10-02 00:00:00\n",
      "2018-10-02 00:00:00\n",
      "2018-11-02 00:00:00\n",
      "2018-11-02 00:00:00\n",
      "2018-11-02 00:00:00\n",
      "2018-12-02 00:00:00\n",
      "2018-02-24 00:00:00\n",
      "2018-02-24 00:00:00\n",
      "2018-02-24 00:00:00\n",
      "2018-02-24 00:00:00\n",
      "2018-02-24 00:00:00\n",
      "2018-02-24 00:00:00\n",
      "2018-02-24 00:00:00\n",
      "2018-02-25 00:00:00\n",
      "2018-02-25 00:00:00\n",
      "2018-01-03 00:00:00\n",
      "2018-03-03 00:00:00\n",
      "2018-03-03 00:00:00\n",
      "2018-03-03 00:00:00\n",
      "2018-03-03 00:00:00\n",
      "2018-03-03 00:00:00\n",
      "2018-03-03 00:00:00\n",
      "2018-03-03 00:00:00\n",
      "2018-04-03 00:00:00\n",
      "2018-04-03 00:00:00\n",
      "2018-05-03 00:00:00\n",
      "2018-10-03 00:00:00\n",
      "2018-10-03 00:00:00\n",
      "2018-10-03 00:00:00\n",
      "2018-10-03 00:00:00\n",
      "2018-10-03 00:00:00\n",
      "2018-10-03 00:00:00\n",
      "2018-10-03 00:00:00\n",
      "2018-11-03 00:00:00\n",
      "2018-11-03 00:00:00\n",
      "2018-12-03 00:00:00\n",
      "2018-03-17 00:00:00\n",
      "2018-03-17 00:00:00\n",
      "2018-03-17 00:00:00\n",
      "2018-03-17 00:00:00\n",
      "2018-03-31 00:00:00\n",
      "2018-03-31 00:00:00\n",
      "2018-03-31 00:00:00\n",
      "2018-03-31 00:00:00\n",
      "2018-03-31 00:00:00\n",
      "2018-03-31 00:00:00\n",
      "2018-03-31 00:00:00\n",
      "2018-03-31 00:00:00\n",
      "2018-01-04 00:00:00\n",
      "2018-01-04 00:00:00\n",
      "2018-07-04 00:00:00\n",
      "2018-07-04 00:00:00\n",
      "2018-07-04 00:00:00\n",
      "2018-07-04 00:00:00\n",
      "2018-07-04 00:00:00\n",
      "2018-07-04 00:00:00\n",
      "2018-07-04 00:00:00\n",
      "2018-07-04 00:00:00\n",
      "2018-08-04 00:00:00\n",
      "2018-08-04 00:00:00\n",
      "2018-04-14 00:00:00\n",
      "2018-04-14 00:00:00\n",
      "2018-04-14 00:00:00\n",
      "2018-04-14 00:00:00\n",
      "2018-04-14 00:00:00\n",
      "2018-04-14 00:00:00\n",
      "2018-04-14 00:00:00\n",
      "2018-04-15 00:00:00\n",
      "2018-04-15 00:00:00\n",
      "2018-04-16 00:00:00\n",
      "2018-04-17 00:00:00\n",
      "2018-04-18 00:00:00\n",
      "2018-04-19 00:00:00\n",
      "2018-04-19 00:00:00\n",
      "2018-04-21 00:00:00\n",
      "2018-04-21 00:00:00\n",
      "2018-04-22 00:00:00\n",
      "2018-04-22 00:00:00\n",
      "2018-04-22 00:00:00\n",
      "2018-04-23 00:00:00\n",
      "2018-04-28 00:00:00\n",
      "2018-04-28 00:00:00\n",
      "2018-04-28 00:00:00\n",
      "2018-04-28 00:00:00\n",
      "2018-04-28 00:00:00\n",
      "2018-04-28 00:00:00\n",
      "2018-04-28 00:00:00\n",
      "2018-04-29 00:00:00\n",
      "2018-04-29 00:00:00\n",
      "2018-04-30 00:00:00\n",
      "2018-04-05 00:00:00\n",
      "2018-05-05 00:00:00\n",
      "2018-05-05 00:00:00\n",
      "2018-05-05 00:00:00\n",
      "2018-05-05 00:00:00\n",
      "2018-05-05 00:00:00\n",
      "2018-05-05 00:00:00\n",
      "2018-06-05 00:00:00\n",
      "2018-06-05 00:00:00\n",
      "2018-06-05 00:00:00\n",
      "2018-08-05 00:00:00\n",
      "2018-09-05 00:00:00\n",
      "2018-09-05 00:00:00\n",
      "2018-09-05 00:00:00\n",
      "2018-09-05 00:00:00\n",
      "2018-10-05 00:00:00\n",
      "2018-05-13 00:00:00\n",
      "2018-05-13 00:00:00\n",
      "2018-05-13 00:00:00\n",
      "2018-05-13 00:00:00\n",
      "2018-05-13 00:00:00\n",
      "2018-05-13 00:00:00\n",
      "2018-05-13 00:00:00\n",
      "2018-05-13 00:00:00\n",
      "2018-05-13 00:00:00\n",
      "2018-05-13 00:00:00\n",
      "2018-10-08 00:00:00\n",
      "2018-11-08 00:00:00\n",
      "2018-11-08 00:00:00\n",
      "2018-11-08 00:00:00\n",
      "2018-11-08 00:00:00\n",
      "2018-11-08 00:00:00\n",
      "2018-11-08 00:00:00\n",
      "2018-12-08 00:00:00\n",
      "2018-12-08 00:00:00\n",
      "2018-12-08 00:00:00\n",
      "2018-08-18 00:00:00\n",
      "2018-08-18 00:00:00\n",
      "2018-08-18 00:00:00\n",
      "2018-08-18 00:00:00\n",
      "2018-08-18 00:00:00\n",
      "2018-08-18 00:00:00\n",
      "2018-08-19 00:00:00\n",
      "2018-08-19 00:00:00\n",
      "2018-08-19 00:00:00\n",
      "2018-08-20 00:00:00\n",
      "2018-08-25 00:00:00\n",
      "2018-08-25 00:00:00\n",
      "2018-08-25 00:00:00\n",
      "2018-08-25 00:00:00\n",
      "2018-08-25 00:00:00\n",
      "2018-08-25 00:00:00\n",
      "2018-08-26 00:00:00\n",
      "2018-08-26 00:00:00\n",
      "2018-08-26 00:00:00\n",
      "2018-08-27 00:00:00\n"
     ]
    }
   ],
   "source": [
    "import pandas as pd\n",
    "from random import random\n",
    "import numpy as np\n",
    "\n",
    "#player=pd.read_csv('data/player_stats.csv')\n",
    "#player['birthday']=pd.to_datetime(player['birthday'])\n",
    "#files=[2014,2015,2016,2017,2018]\n",
    "files=[2016,2017,2018]\n",
    "\n",
    "missing=[]    \n",
    "alldata=[]\n",
    "\n",
    "for f in files:\n",
    "    matches_with_odds = pd.read_csv(data_folder + str(f)+'.csv')\n",
    "    #keep only completed games\n",
    "    matches_with_odds['Date']=pd.to_datetime(matches_with_odds['Date'])\n",
    "    \n",
    "    #turn surface to lowrcase\n",
    "    \n",
    "    match_stats = matches_with_odds.apply(lambda x: get_match_features(x, x = 10), axis = 1)\n",
    "    alldata.append(pd.concat([matches_with_odds, match_stats], axis=1))\n",
    "\n",
    "match_stats_and_odds.head(30)\n",
    "#match_stats_and_odds.shape\n",
    "data=pd.concat(alldata,axis=0)\n",
    "data.to_csv(data_folder + '/data.csv',index=False)"
   ]
  },
  {
   "cell_type": "code",
   "execution_count": 22,
   "metadata": {},
   "outputs": [
    {
     "name": "stdout",
     "output_type": "stream",
     "text": [
      "1/10/2018\n",
      "1/10/2018\n",
      "1/10/2018\n",
      "1/10/2018\n",
      "1/10/2018\n",
      "1/10/2018\n",
      "1/10/2018\n",
      "1/10/2018\n",
      "nan\n"
     ]
    },
    {
     "ename": "TypeError",
     "evalue": "('invalid type comparison', 'occurred at index 7')",
     "output_type": "error",
     "traceback": [
      "\u001b[1;31m---------------------------------------------------------------------------\u001b[0m",
      "\u001b[1;31mTypeError\u001b[0m                                 Traceback (most recent call last)",
      "\u001b[1;32m<ipython-input-22-785a94321277>\u001b[0m in \u001b[0;36m<module>\u001b[1;34m()\u001b[0m\n\u001b[0;32m      1\u001b[0m \u001b[0mmatches_to_predict\u001b[0m \u001b[1;33m=\u001b[0m \u001b[0mpd\u001b[0m\u001b[1;33m.\u001b[0m\u001b[0mread_csv\u001b[0m\u001b[1;33m(\u001b[0m\u001b[0mdata_folder\u001b[0m \u001b[1;33m+\u001b[0m \u001b[1;34m'predict.csv'\u001b[0m\u001b[1;33m)\u001b[0m\u001b[1;33m\u001b[0m\u001b[0m\n\u001b[1;32m----> 2\u001b[1;33m \u001b[0mmatches_to_predict_with_stats\u001b[0m \u001b[1;33m=\u001b[0m \u001b[0mmatches_to_predict\u001b[0m\u001b[1;33m.\u001b[0m\u001b[0mapply\u001b[0m\u001b[1;33m(\u001b[0m\u001b[1;32mlambda\u001b[0m \u001b[0mx\u001b[0m\u001b[1;33m:\u001b[0m \u001b[0mget_match_features\u001b[0m\u001b[1;33m(\u001b[0m\u001b[0mx\u001b[0m\u001b[1;33m,\u001b[0m \u001b[0mx\u001b[0m \u001b[1;33m=\u001b[0m \u001b[1;36m10\u001b[0m\u001b[1;33m)\u001b[0m\u001b[1;33m,\u001b[0m \u001b[0maxis\u001b[0m \u001b[1;33m=\u001b[0m \u001b[1;36m1\u001b[0m\u001b[1;33m)\u001b[0m\u001b[1;33m\u001b[0m\u001b[0m\n\u001b[0m\u001b[0;32m      3\u001b[0m \u001b[0mmatches_to_predict_with_stats\u001b[0m\u001b[1;33m.\u001b[0m\u001b[0mto_csv\u001b[0m\u001b[1;33m(\u001b[0m\u001b[0mdata_folder\u001b[0m \u001b[1;33m+\u001b[0m \u001b[1;34m'/predict_stats.csv'\u001b[0m\u001b[1;33m,\u001b[0m\u001b[0mindex\u001b[0m\u001b[1;33m=\u001b[0m\u001b[1;32mFalse\u001b[0m\u001b[1;33m)\u001b[0m\u001b[1;33m\u001b[0m\u001b[0m\n",
      "\u001b[1;32m~\\Anaconda3\\lib\\site-packages\\pandas\\core\\frame.py\u001b[0m in \u001b[0;36mapply\u001b[1;34m(self, func, axis, broadcast, raw, reduce, args, **kwds)\u001b[0m\n\u001b[0;32m   4260\u001b[0m                         \u001b[0mf\u001b[0m\u001b[1;33m,\u001b[0m \u001b[0maxis\u001b[0m\u001b[1;33m,\u001b[0m\u001b[1;33m\u001b[0m\u001b[0m\n\u001b[0;32m   4261\u001b[0m                         \u001b[0mreduce\u001b[0m\u001b[1;33m=\u001b[0m\u001b[0mreduce\u001b[0m\u001b[1;33m,\u001b[0m\u001b[1;33m\u001b[0m\u001b[0m\n\u001b[1;32m-> 4262\u001b[1;33m                         ignore_failures=ignore_failures)\n\u001b[0m\u001b[0;32m   4263\u001b[0m             \u001b[1;32melse\u001b[0m\u001b[1;33m:\u001b[0m\u001b[1;33m\u001b[0m\u001b[0m\n\u001b[0;32m   4264\u001b[0m                 \u001b[1;32mreturn\u001b[0m \u001b[0mself\u001b[0m\u001b[1;33m.\u001b[0m\u001b[0m_apply_broadcast\u001b[0m\u001b[1;33m(\u001b[0m\u001b[0mf\u001b[0m\u001b[1;33m,\u001b[0m \u001b[0maxis\u001b[0m\u001b[1;33m)\u001b[0m\u001b[1;33m\u001b[0m\u001b[0m\n",
      "\u001b[1;32m~\\Anaconda3\\lib\\site-packages\\pandas\\core\\frame.py\u001b[0m in \u001b[0;36m_apply_standard\u001b[1;34m(self, func, axis, ignore_failures, reduce)\u001b[0m\n\u001b[0;32m   4356\u001b[0m             \u001b[1;32mtry\u001b[0m\u001b[1;33m:\u001b[0m\u001b[1;33m\u001b[0m\u001b[0m\n\u001b[0;32m   4357\u001b[0m                 \u001b[1;32mfor\u001b[0m \u001b[0mi\u001b[0m\u001b[1;33m,\u001b[0m \u001b[0mv\u001b[0m \u001b[1;32min\u001b[0m \u001b[0menumerate\u001b[0m\u001b[1;33m(\u001b[0m\u001b[0mseries_gen\u001b[0m\u001b[1;33m)\u001b[0m\u001b[1;33m:\u001b[0m\u001b[1;33m\u001b[0m\u001b[0m\n\u001b[1;32m-> 4358\u001b[1;33m                     \u001b[0mresults\u001b[0m\u001b[1;33m[\u001b[0m\u001b[0mi\u001b[0m\u001b[1;33m]\u001b[0m \u001b[1;33m=\u001b[0m \u001b[0mfunc\u001b[0m\u001b[1;33m(\u001b[0m\u001b[0mv\u001b[0m\u001b[1;33m)\u001b[0m\u001b[1;33m\u001b[0m\u001b[0m\n\u001b[0m\u001b[0;32m   4359\u001b[0m                     \u001b[0mkeys\u001b[0m\u001b[1;33m.\u001b[0m\u001b[0mappend\u001b[0m\u001b[1;33m(\u001b[0m\u001b[0mv\u001b[0m\u001b[1;33m.\u001b[0m\u001b[0mname\u001b[0m\u001b[1;33m)\u001b[0m\u001b[1;33m\u001b[0m\u001b[0m\n\u001b[0;32m   4360\u001b[0m             \u001b[1;32mexcept\u001b[0m \u001b[0mException\u001b[0m \u001b[1;32mas\u001b[0m \u001b[0me\u001b[0m\u001b[1;33m:\u001b[0m\u001b[1;33m\u001b[0m\u001b[0m\n",
      "\u001b[1;32m<ipython-input-22-785a94321277>\u001b[0m in \u001b[0;36m<lambda>\u001b[1;34m(x)\u001b[0m\n\u001b[0;32m      1\u001b[0m \u001b[0mmatches_to_predict\u001b[0m \u001b[1;33m=\u001b[0m \u001b[0mpd\u001b[0m\u001b[1;33m.\u001b[0m\u001b[0mread_csv\u001b[0m\u001b[1;33m(\u001b[0m\u001b[0mdata_folder\u001b[0m \u001b[1;33m+\u001b[0m \u001b[1;34m'predict.csv'\u001b[0m\u001b[1;33m)\u001b[0m\u001b[1;33m\u001b[0m\u001b[0m\n\u001b[1;32m----> 2\u001b[1;33m \u001b[0mmatches_to_predict_with_stats\u001b[0m \u001b[1;33m=\u001b[0m \u001b[0mmatches_to_predict\u001b[0m\u001b[1;33m.\u001b[0m\u001b[0mapply\u001b[0m\u001b[1;33m(\u001b[0m\u001b[1;32mlambda\u001b[0m \u001b[0mx\u001b[0m\u001b[1;33m:\u001b[0m \u001b[0mget_match_features\u001b[0m\u001b[1;33m(\u001b[0m\u001b[0mx\u001b[0m\u001b[1;33m,\u001b[0m \u001b[0mx\u001b[0m \u001b[1;33m=\u001b[0m \u001b[1;36m10\u001b[0m\u001b[1;33m)\u001b[0m\u001b[1;33m,\u001b[0m \u001b[0maxis\u001b[0m \u001b[1;33m=\u001b[0m \u001b[1;36m1\u001b[0m\u001b[1;33m)\u001b[0m\u001b[1;33m\u001b[0m\u001b[0m\n\u001b[0m\u001b[0;32m      3\u001b[0m \u001b[0mmatches_to_predict_with_stats\u001b[0m\u001b[1;33m.\u001b[0m\u001b[0mto_csv\u001b[0m\u001b[1;33m(\u001b[0m\u001b[0mdata_folder\u001b[0m \u001b[1;33m+\u001b[0m \u001b[1;34m'/predict_stats.csv'\u001b[0m\u001b[1;33m,\u001b[0m\u001b[0mindex\u001b[0m\u001b[1;33m=\u001b[0m\u001b[1;32mFalse\u001b[0m\u001b[1;33m)\u001b[0m\u001b[1;33m\u001b[0m\u001b[0m\n",
      "\u001b[1;32m<ipython-input-15-ab770440b614>\u001b[0m in \u001b[0;36mget_match_features\u001b[1;34m(match, x)\u001b[0m\n\u001b[0;32m     21\u001b[0m     \u001b[0mprint\u001b[0m\u001b[1;33m(\u001b[0m\u001b[0mdate\u001b[0m\u001b[1;33m)\u001b[0m\u001b[1;33m\u001b[0m\u001b[0m\n\u001b[0;32m     22\u001b[0m     \u001b[1;31m#Get last x matches of home and away team\u001b[0m\u001b[1;33m\u001b[0m\u001b[1;33m\u001b[0m\u001b[0m\n\u001b[1;32m---> 23\u001b[1;33m     \u001b[0mmatches_home_team\u001b[0m \u001b[1;33m=\u001b[0m \u001b[0mget_last_matches\u001b[0m\u001b[1;33m(\u001b[0m\u001b[0mdate\u001b[0m\u001b[1;33m,\u001b[0m \u001b[0mhome_team\u001b[0m\u001b[1;33m,\u001b[0m \u001b[0mx\u001b[0m \u001b[1;33m=\u001b[0m \u001b[1;36m10\u001b[0m\u001b[1;33m)\u001b[0m\u001b[1;33m\u001b[0m\u001b[0m\n\u001b[0m\u001b[0;32m     24\u001b[0m     \u001b[0mmatches_away_team\u001b[0m \u001b[1;33m=\u001b[0m \u001b[0mget_last_matches\u001b[0m\u001b[1;33m(\u001b[0m\u001b[0mdate\u001b[0m\u001b[1;33m,\u001b[0m \u001b[0maway_team\u001b[0m\u001b[1;33m,\u001b[0m \u001b[0mx\u001b[0m \u001b[1;33m=\u001b[0m \u001b[1;36m10\u001b[0m\u001b[1;33m)\u001b[0m\u001b[1;33m\u001b[0m\u001b[0m\n\u001b[0;32m     25\u001b[0m \u001b[1;33m\u001b[0m\u001b[0m\n",
      "\u001b[1;32m<ipython-input-17-cc4731b4a933>\u001b[0m in \u001b[0;36mget_last_matches\u001b[1;34m(date, team, x)\u001b[0m\n\u001b[0;32m      6\u001b[0m     \u001b[0mteam_matches\u001b[0m\u001b[1;33m[\u001b[0m\u001b[1;34m'ExternalId'\u001b[0m\u001b[1;33m]\u001b[0m \u001b[1;33m=\u001b[0m \u001b[0mteam_matches\u001b[0m\u001b[1;33m[\u001b[0m\u001b[1;34m'ExternalId'\u001b[0m\u001b[1;33m]\u001b[0m\u001b[1;33m.\u001b[0m\u001b[0mastype\u001b[0m\u001b[1;33m(\u001b[0m\u001b[0mint\u001b[0m\u001b[1;33m)\u001b[0m\u001b[1;33m\u001b[0m\u001b[0m\n\u001b[0;32m      7\u001b[0m     \u001b[1;31m#Filter x last matches from team matches\u001b[0m\u001b[1;33m\u001b[0m\u001b[1;33m\u001b[0m\u001b[0m\n\u001b[1;32m----> 8\u001b[1;33m     \u001b[0mlast_matches\u001b[0m \u001b[1;33m=\u001b[0m \u001b[0mteam_matches\u001b[0m\u001b[1;33m[\u001b[0m\u001b[0mteam_matches\u001b[0m\u001b[1;33m.\u001b[0m\u001b[0mDate\u001b[0m \u001b[1;33m<\u001b[0m \u001b[0mdate\u001b[0m\u001b[1;33m]\u001b[0m\u001b[1;33m.\u001b[0m\u001b[0msort_values\u001b[0m\u001b[1;33m(\u001b[0m\u001b[0mby\u001b[0m \u001b[1;33m=\u001b[0m \u001b[1;34m'Date'\u001b[0m\u001b[1;33m,\u001b[0m \u001b[0mascending\u001b[0m \u001b[1;33m=\u001b[0m \u001b[1;32mFalse\u001b[0m\u001b[1;33m)\u001b[0m\u001b[1;33m.\u001b[0m\u001b[0miloc\u001b[0m\u001b[1;33m[\u001b[0m\u001b[1;36m0\u001b[0m\u001b[1;33m:\u001b[0m\u001b[0mx\u001b[0m\u001b[1;33m,\u001b[0m\u001b[1;33m:\u001b[0m\u001b[1;33m]\u001b[0m\u001b[1;33m\u001b[0m\u001b[0m\n\u001b[0m\u001b[0;32m      9\u001b[0m \u001b[1;33m\u001b[0m\u001b[0m\n\u001b[0;32m     10\u001b[0m     \u001b[1;31m#Return last matches\u001b[0m\u001b[1;33m\u001b[0m\u001b[1;33m\u001b[0m\u001b[0m\n",
      "\u001b[1;32m~\\Anaconda3\\lib\\site-packages\\pandas\\core\\ops.py\u001b[0m in \u001b[0;36mwrapper\u001b[1;34m(self, other, axis)\u001b[0m\n\u001b[0;32m    859\u001b[0m \u001b[1;33m\u001b[0m\u001b[0m\n\u001b[0;32m    860\u001b[0m             \u001b[1;32mwith\u001b[0m \u001b[0mnp\u001b[0m\u001b[1;33m.\u001b[0m\u001b[0merrstate\u001b[0m\u001b[1;33m(\u001b[0m\u001b[0mall\u001b[0m\u001b[1;33m=\u001b[0m\u001b[1;34m'ignore'\u001b[0m\u001b[1;33m)\u001b[0m\u001b[1;33m:\u001b[0m\u001b[1;33m\u001b[0m\u001b[0m\n\u001b[1;32m--> 861\u001b[1;33m                 \u001b[0mres\u001b[0m \u001b[1;33m=\u001b[0m \u001b[0mna_op\u001b[0m\u001b[1;33m(\u001b[0m\u001b[0mvalues\u001b[0m\u001b[1;33m,\u001b[0m \u001b[0mother\u001b[0m\u001b[1;33m)\u001b[0m\u001b[1;33m\u001b[0m\u001b[0m\n\u001b[0m\u001b[0;32m    862\u001b[0m             \u001b[1;32mif\u001b[0m \u001b[0mis_scalar\u001b[0m\u001b[1;33m(\u001b[0m\u001b[0mres\u001b[0m\u001b[1;33m)\u001b[0m\u001b[1;33m:\u001b[0m\u001b[1;33m\u001b[0m\u001b[0m\n\u001b[0;32m    863\u001b[0m                 raise TypeError('Could not compare %s type with Series' %\n",
      "\u001b[1;32m~\\Anaconda3\\lib\\site-packages\\pandas\\core\\ops.py\u001b[0m in \u001b[0;36mna_op\u001b[1;34m(x, y)\u001b[0m\n\u001b[0;32m    772\u001b[0m             \u001b[1;31m# integer comparisons\u001b[0m\u001b[1;33m\u001b[0m\u001b[1;33m\u001b[0m\u001b[0m\n\u001b[0;32m    773\u001b[0m             \u001b[1;32mif\u001b[0m \u001b[0mis_datetimelike_v_numeric\u001b[0m\u001b[1;33m(\u001b[0m\u001b[0mx\u001b[0m\u001b[1;33m,\u001b[0m \u001b[0my\u001b[0m\u001b[1;33m)\u001b[0m\u001b[1;33m:\u001b[0m\u001b[1;33m\u001b[0m\u001b[0m\n\u001b[1;32m--> 774\u001b[1;33m                 \u001b[1;32mraise\u001b[0m \u001b[0mTypeError\u001b[0m\u001b[1;33m(\u001b[0m\u001b[1;34m\"invalid type comparison\"\u001b[0m\u001b[1;33m)\u001b[0m\u001b[1;33m\u001b[0m\u001b[0m\n\u001b[0m\u001b[0;32m    775\u001b[0m \u001b[1;33m\u001b[0m\u001b[0m\n\u001b[0;32m    776\u001b[0m             \u001b[1;31m# numpy does not like comparisons vs None\u001b[0m\u001b[1;33m\u001b[0m\u001b[1;33m\u001b[0m\u001b[0m\n",
      "\u001b[1;31mTypeError\u001b[0m: ('invalid type comparison', 'occurred at index 7')"
     ]
    }
   ],
   "source": [
    "matches_to_predict = pd.read_csv(data_folder + 'predict.csv')\n",
    "matches_to_predict['Date']=pd.to_datetime(matches_to_predict['Date'])\n",
    "matches_to_predict_with_stats = matches_to_predict.apply(lambda x: get_match_features(x, x = 10), axis = 1)\n",
    "matches_to_predict_with_stats.to_csv(data_folder + '/predict_stats.csv',index=False)"
   ]
  }
 ],
 "metadata": {
  "kernelspec": {
   "display_name": "Python 3",
   "language": "python",
   "name": "python3"
  },
  "language_info": {
   "codemirror_mode": {
    "name": "ipython",
    "version": 3
   },
   "file_extension": ".py",
   "mimetype": "text/x-python",
   "name": "python",
   "nbconvert_exporter": "python",
   "pygments_lexer": "ipython3",
   "version": "3.6.3"
  }
 },
 "nbformat": 4,
 "nbformat_minor": 2
}
