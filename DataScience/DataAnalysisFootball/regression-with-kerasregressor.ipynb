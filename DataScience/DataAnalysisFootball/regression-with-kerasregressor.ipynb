{
 "cells": [
  {
   "cell_type": "code",
   "execution_count": 1,
   "metadata": {
    "_cell_guid": "990e83fc-c5bb-481c-846d-587d4ebb5bfe",
    "_uuid": "2f14fd3ba2252f74a22dc167c98869e599059883"
   },
   "outputs": [
    {
     "name": "stderr",
     "output_type": "stream",
     "text": [
      "Using TensorFlow backend.\n"
     ]
    }
   ],
   "source": [
    "# This Python 3 environment comes with many helpful analytics libraries installed\n",
    "# It is defined by the kaggle/python docker image: https://github.com/kaggle/docker-python\n",
    "# For example, here's several helpful packages to load in \n",
    "\n",
    "import numpy as np # linear algebra\n",
    "import pandas as pd # data processing, CSV file I/O (e.g. pd.read_csv)\n",
    "\n",
    "from keras.models import Sequential\n",
    "from keras.layers import Dense\n",
    "from keras.wrappers.scikit_learn import KerasRegressor\n",
    "from sklearn.model_selection import cross_val_score\n",
    "from sklearn.model_selection import KFold, TimeSeriesSplit\n",
    "from sklearn.preprocessing import StandardScaler\n",
    "from sklearn.pipeline import Pipeline\n",
    "\n",
    "# Input data files are available in the \"../input/\" directory.\n",
    "# For example, running this (by clicking run or pressing Shift+Enter) will list the files in the input directory\n",
    "\n",
    "from subprocess import check_output\n",
    "#print(check_output([\"ls\", \"../input\"]).decode(\"utf8\"))\n",
    "\n",
    "# Any results you write to the current directory are saved as output.\n",
    "import pandas as pd\n",
    "import numpy as np\n",
    "from helpers import calibrate_train_clfs, load_data, get_baseline, print_results, run_clf"
   ]
  },
  {
   "cell_type": "code",
   "execution_count": 25,
   "metadata": {
    "_cell_guid": "3c280a42-a13b-42a0-ad69-f1833158692b",
    "_uuid": "6abd828c926b8c64bd9b0ccb3a535ca355721a91"
   },
   "outputs": [
    {
     "name": "stdout",
     "output_type": "stream",
     "text": [
      "KEEEP\n",
      "LENGTH800\n"
     ]
    }
   ],
   "source": [
    "keep_columns =  ['IsTraining','FTR', 'Div', 'Date', 'HomeTeam', 'AwayTeam', \n",
    "    'away_away_team_corners_against', 'away_away_team_corners_for',\t'away_away_team_goals_against',\t'away_away_team_goals_for',\t\n",
    "    'away_away_team_possession',\t'away_away_team_shotsoff_against',\t'away_away_team_shotsoff_for',\t'away_away_team_shotson_against',\n",
    "    \t'away_away_team_shotson_for',\t'away_direct_team_corners_against',\t'away_direct_team_corners_for',\t'away_direct_team_goals_against',\n",
    "        'away_direct_team_goals_for',\t'away_direct_team_possession',\t'away_direct_team_shotsoff_against',\t'away_direct_team_shotsoff_for',\n",
    "        'away_direct_team_shotson_against',\t'away_direct_team_shotson_for',\t'home_direct_team_corners_against',\t'home_direct_team_corners_for',\t\n",
    "        'home_direct_team_goals_against',\t'home_direct_team_goals_for',\t'home_direct_team_possession',\t'home_direct_team_shotsoff_against',\n",
    "        'home_direct_team_shotsoff_for',\t'home_direct_team_shotson_against',\t'home_direct_team_shotson_for',\t\n",
    "        'home_home_team_corners_against',\t'home_home_team_corners_for',\t'home_home_team_goals_against',\t'home_home_team_goals_for',\t\n",
    "        'home_home_team_possession',\t'home_home_team_shotsoff_against',\t'home_home_team_shotsoff_for',\t'home_home_team_shotson_against',\n",
    "                 'home_home_team_shotson_for','Referee' \n",
    "]\n",
    "#'FTHG'\n",
    "\n",
    "drop_columns = ['B365H', 'B365D', 'B365A',\n",
    "    'AC', 'AF', 'AR', 'AS', 'AST', 'AY', 'BWA', 'BWD', 'BWH', 'Bb1X2', 'BbAH', 'BbAHh', 'BbAv<2.5', 'BbAv>2.5', 'BbAvA', 'BbAvAHA', \n",
    "    'BbAvAHH', 'BbAvD', 'BbAvH', 'BbMx<2.5', 'BbMx>2.5', 'BbMxA', 'BbMxAHA', 'BbMxAHH', 'BbMxD', 'BbMxH', 'BbOU', 'FTAG', 'HC', 'HF', 'HR', 'HS', 'HST', \n",
    "    'HTAG', 'HTHG', 'HTR', 'HY', 'IWA', 'IWD', 'IWH', 'LBA', 'LBD', 'LBH', 'PSA', 'PSCA', 'PSCD', 'PSCH', 'PSD', 'PSH', \n",
    "    'VCA', 'VCD', 'VCH', 'WHA', 'WHD', 'WHH', 'GoalFirstHalf', 'GoalSecondHalf', 'SHHG', 'SHAG', 'GoalSecondHalf','FTR'\n",
    "]\n",
    "\n",
    "#\n",
    "target_column = \"SHHG\"\n",
    "drop_columns.remove(target_column)\n",
    "X,Y = load_data(columns_to_drop=drop_columns, is_training=True, target_name=target_column)\n",
    "Y=[Y]"
   ]
  },
  {
   "cell_type": "code",
   "execution_count": 26,
   "metadata": {
    "_cell_guid": "f5f65af0-208c-46cd-a381-a15929bb6b0a",
    "_uuid": "32d2817ad3d40240a930a79bf71f63f8576eb52e",
    "collapsed": true
   },
   "outputs": [],
   "source": [
    "#X.head()"
   ]
  },
  {
   "cell_type": "code",
   "execution_count": 27,
   "metadata": {
    "_cell_guid": "f0e9529b-e249-44b3-a1e4-d1a7007bfc35",
    "_uuid": "9e6fd8bd1097c88689c6bf36b0b73283e0db80fe",
    "collapsed": true
   },
   "outputs": [],
   "source": [
    "#Y.head()"
   ]
  },
  {
   "cell_type": "markdown",
   "metadata": {
    "_cell_guid": "e19c833a-afc8-4a35-a644-1b183bc791a0",
    "_uuid": "9bf18e93ec1e9dcd38b0a7677c8f1bbe258f2ae2"
   },
   "source": [
    "# 2. Develop a Baseline Neural Network Model"
   ]
  },
  {
   "cell_type": "code",
   "execution_count": 28,
   "metadata": {
    "_cell_guid": "d48383d0-0a17-48bd-898e-7997dcafaf13",
    "_uuid": "fe18ed8485386e9f513afcf0c32abe1dfcb264c8",
    "collapsed": true
   },
   "outputs": [],
   "source": [
    "# define base model\n",
    "def baseline_model():\n",
    "\t# create model\n",
    "\tmodel = Sequential()\n",
    "    #input_dim=431,\n",
    "\tmodel.add(Dense(13,  kernel_initializer='normal', activation='relu'))\n",
    "\tmodel.add(Dense(1, kernel_initializer='normal'))\n",
    "\t# Compile model\n",
    "\tmodel.compile(loss='mean_squared_error', optimizer='adam', verbos=1)\n",
    "\treturn model"
   ]
  },
  {
   "cell_type": "code",
   "execution_count": 29,
   "metadata": {
    "_cell_guid": "7c7de245-0da6-4440-9b18-cc7d92502ce5",
    "_uuid": "15d35ff873fd496ad8e846b31a13c113658f8719",
    "collapsed": true
   },
   "outputs": [],
   "source": [
    "# fix random seed for reproducibility\n",
    "seed = 7\n",
    "np.random.seed(seed)\n",
    "# evaluate model with standardized dataset\n",
    "estimator = KerasRegressor(build_fn=baseline_model, nb_epoch=100, batch_size=1, verbose=1)"
   ]
  },
  {
   "cell_type": "code",
   "execution_count": 30,
   "metadata": {
    "_cell_guid": "3c77ecf1-84a2-4870-b15a-b3912cc417b9",
    "_uuid": "7d36773d43ae2b0b4aeedb7bc3157b2a01614049"
   },
   "outputs": [
    {
     "ename": "ValueError",
     "evalue": "Found input variables with inconsistent numbers of samples: [800, 1]",
     "output_type": "error",
     "traceback": [
      "\u001b[1;31m---------------------------------------------------------------------------\u001b[0m",
      "\u001b[1;31mValueError\u001b[0m                                Traceback (most recent call last)",
      "\u001b[1;32m<ipython-input-30-1821d3eaf15a>\u001b[0m in \u001b[0;36m<module>\u001b[1;34m\u001b[0m\n\u001b[0;32m      1\u001b[0m \u001b[0mkfold\u001b[0m \u001b[1;33m=\u001b[0m \u001b[0mTimeSeriesSplit\u001b[0m\u001b[1;33m(\u001b[0m\u001b[0mn_splits\u001b[0m\u001b[1;33m=\u001b[0m\u001b[1;36m5\u001b[0m\u001b[1;33m)\u001b[0m\u001b[1;33m\u001b[0m\u001b[0m\n\u001b[1;32m----> 2\u001b[1;33m \u001b[0mresults\u001b[0m \u001b[1;33m=\u001b[0m \u001b[0mcross_val_score\u001b[0m\u001b[1;33m(\u001b[0m\u001b[0mestimator\u001b[0m\u001b[1;33m,\u001b[0m \u001b[0mX\u001b[0m\u001b[1;33m,\u001b[0m \u001b[0mY\u001b[0m\u001b[1;33m,\u001b[0m \u001b[0mcv\u001b[0m\u001b[1;33m=\u001b[0m\u001b[0mkfold\u001b[0m\u001b[1;33m,\u001b[0m \u001b[0mn_jobs\u001b[0m\u001b[1;33m=\u001b[0m\u001b[1;36m1\u001b[0m\u001b[1;33m)\u001b[0m\u001b[1;33m\u001b[0m\u001b[0m\n\u001b[0m\u001b[0;32m      3\u001b[0m \u001b[0mprint\u001b[0m\u001b[1;33m(\u001b[0m\u001b[1;34m\"Results: %.2f (%.2f) MSE\"\u001b[0m \u001b[1;33m%\u001b[0m \u001b[1;33m(\u001b[0m\u001b[0mresults\u001b[0m\u001b[1;33m.\u001b[0m\u001b[0mmean\u001b[0m\u001b[1;33m(\u001b[0m\u001b[1;33m)\u001b[0m\u001b[1;33m,\u001b[0m \u001b[0mresults\u001b[0m\u001b[1;33m.\u001b[0m\u001b[0mstd\u001b[0m\u001b[1;33m(\u001b[0m\u001b[1;33m)\u001b[0m\u001b[1;33m)\u001b[0m\u001b[1;33m)\u001b[0m\u001b[1;33m\u001b[0m\u001b[0m\n",
      "\u001b[1;32mc:\\users\\martin\\anaconda3\\envs\\tensorflow\\lib\\site-packages\\sklearn\\model_selection\\_validation.py\u001b[0m in \u001b[0;36mcross_val_score\u001b[1;34m(estimator, X, y, groups, scoring, cv, n_jobs, verbose, fit_params, pre_dispatch, error_score)\u001b[0m\n\u001b[0;32m    400\u001b[0m                                 \u001b[0mfit_params\u001b[0m\u001b[1;33m=\u001b[0m\u001b[0mfit_params\u001b[0m\u001b[1;33m,\u001b[0m\u001b[1;33m\u001b[0m\u001b[0m\n\u001b[0;32m    401\u001b[0m                                 \u001b[0mpre_dispatch\u001b[0m\u001b[1;33m=\u001b[0m\u001b[0mpre_dispatch\u001b[0m\u001b[1;33m,\u001b[0m\u001b[1;33m\u001b[0m\u001b[0m\n\u001b[1;32m--> 402\u001b[1;33m                                 error_score=error_score)\n\u001b[0m\u001b[0;32m    403\u001b[0m     \u001b[1;32mreturn\u001b[0m \u001b[0mcv_results\u001b[0m\u001b[1;33m[\u001b[0m\u001b[1;34m'test_score'\u001b[0m\u001b[1;33m]\u001b[0m\u001b[1;33m\u001b[0m\u001b[0m\n\u001b[0;32m    404\u001b[0m \u001b[1;33m\u001b[0m\u001b[0m\n",
      "\u001b[1;32mc:\\users\\martin\\anaconda3\\envs\\tensorflow\\lib\\site-packages\\sklearn\\model_selection\\_validation.py\u001b[0m in \u001b[0;36mcross_validate\u001b[1;34m(estimator, X, y, groups, scoring, cv, n_jobs, verbose, fit_params, pre_dispatch, return_train_score, return_estimator, error_score)\u001b[0m\n\u001b[0;32m    223\u001b[0m \u001b[1;33m\u001b[0m\u001b[0m\n\u001b[0;32m    224\u001b[0m     \"\"\"\n\u001b[1;32m--> 225\u001b[1;33m     \u001b[0mX\u001b[0m\u001b[1;33m,\u001b[0m \u001b[0my\u001b[0m\u001b[1;33m,\u001b[0m \u001b[0mgroups\u001b[0m \u001b[1;33m=\u001b[0m \u001b[0mindexable\u001b[0m\u001b[1;33m(\u001b[0m\u001b[0mX\u001b[0m\u001b[1;33m,\u001b[0m \u001b[0my\u001b[0m\u001b[1;33m,\u001b[0m \u001b[0mgroups\u001b[0m\u001b[1;33m)\u001b[0m\u001b[1;33m\u001b[0m\u001b[0m\n\u001b[0m\u001b[0;32m    226\u001b[0m \u001b[1;33m\u001b[0m\u001b[0m\n\u001b[0;32m    227\u001b[0m     \u001b[0mcv\u001b[0m \u001b[1;33m=\u001b[0m \u001b[0mcheck_cv\u001b[0m\u001b[1;33m(\u001b[0m\u001b[0mcv\u001b[0m\u001b[1;33m,\u001b[0m \u001b[0my\u001b[0m\u001b[1;33m,\u001b[0m \u001b[0mclassifier\u001b[0m\u001b[1;33m=\u001b[0m\u001b[0mis_classifier\u001b[0m\u001b[1;33m(\u001b[0m\u001b[0mestimator\u001b[0m\u001b[1;33m)\u001b[0m\u001b[1;33m)\u001b[0m\u001b[1;33m\u001b[0m\u001b[0m\n",
      "\u001b[1;32mc:\\users\\martin\\anaconda3\\envs\\tensorflow\\lib\\site-packages\\sklearn\\utils\\validation.py\u001b[0m in \u001b[0;36mindexable\u001b[1;34m(*iterables)\u001b[0m\n\u001b[0;32m    253\u001b[0m         \u001b[1;32melse\u001b[0m\u001b[1;33m:\u001b[0m\u001b[1;33m\u001b[0m\u001b[0m\n\u001b[0;32m    254\u001b[0m             \u001b[0mresult\u001b[0m\u001b[1;33m.\u001b[0m\u001b[0mappend\u001b[0m\u001b[1;33m(\u001b[0m\u001b[0mnp\u001b[0m\u001b[1;33m.\u001b[0m\u001b[0marray\u001b[0m\u001b[1;33m(\u001b[0m\u001b[0mX\u001b[0m\u001b[1;33m)\u001b[0m\u001b[1;33m)\u001b[0m\u001b[1;33m\u001b[0m\u001b[0m\n\u001b[1;32m--> 255\u001b[1;33m     \u001b[0mcheck_consistent_length\u001b[0m\u001b[1;33m(\u001b[0m\u001b[1;33m*\u001b[0m\u001b[0mresult\u001b[0m\u001b[1;33m)\u001b[0m\u001b[1;33m\u001b[0m\u001b[0m\n\u001b[0m\u001b[0;32m    256\u001b[0m     \u001b[1;32mreturn\u001b[0m \u001b[0mresult\u001b[0m\u001b[1;33m\u001b[0m\u001b[0m\n\u001b[0;32m    257\u001b[0m \u001b[1;33m\u001b[0m\u001b[0m\n",
      "\u001b[1;32mc:\\users\\martin\\anaconda3\\envs\\tensorflow\\lib\\site-packages\\sklearn\\utils\\validation.py\u001b[0m in \u001b[0;36mcheck_consistent_length\u001b[1;34m(*arrays)\u001b[0m\n\u001b[0;32m    228\u001b[0m     \u001b[1;32mif\u001b[0m \u001b[0mlen\u001b[0m\u001b[1;33m(\u001b[0m\u001b[0muniques\u001b[0m\u001b[1;33m)\u001b[0m \u001b[1;33m>\u001b[0m \u001b[1;36m1\u001b[0m\u001b[1;33m:\u001b[0m\u001b[1;33m\u001b[0m\u001b[0m\n\u001b[0;32m    229\u001b[0m         raise ValueError(\"Found input variables with inconsistent numbers of\"\n\u001b[1;32m--> 230\u001b[1;33m                          \" samples: %r\" % [int(l) for l in lengths])\n\u001b[0m\u001b[0;32m    231\u001b[0m \u001b[1;33m\u001b[0m\u001b[0m\n\u001b[0;32m    232\u001b[0m \u001b[1;33m\u001b[0m\u001b[0m\n",
      "\u001b[1;31mValueError\u001b[0m: Found input variables with inconsistent numbers of samples: [800, 1]"
     ]
    }
   ],
   "source": [
    "kfold = TimeSeriesSplit(n_splits=5)\n",
    "results = cross_val_score(estimator, X, Y, cv=kfold, n_jobs=1)\n",
    "print(\"Results: %.2f (%.2f) MSE\" % (results.mean(), results.std()))"
   ]
  },
  {
   "cell_type": "code",
   "execution_count": 31,
   "metadata": {
    "collapsed": true
   },
   "outputs": [],
   "source": [
    "kfold = TimeSeriesSplit(n_splits=2)"
   ]
  },
  {
   "cell_type": "markdown",
   "metadata": {
    "_cell_guid": "4bee4ced-d7c9-4906-a765-ce6c555091bd",
    "_uuid": "ee4fdf0ccd16208d1157ce78d1fcbaefdb407790"
   },
   "source": [
    "# 3. Modeling The Standardized Dataset"
   ]
  },
  {
   "cell_type": "code",
   "execution_count": 21,
   "metadata": {
    "_cell_guid": "9e53c1f6-d2ad-4b66-94df-0bacbc9a1cf3",
    "_uuid": "e879c9448ef28259e4bd320c2b47ae4549fe8687"
   },
   "outputs": [
    {
     "name": "stderr",
     "output_type": "stream",
     "text": [
      "c:\\users\\martin\\anaconda3\\envs\\tensorflow\\lib\\site-packages\\sklearn\\model_selection\\_validation.py:542: FutureWarning: From version 0.22, errors during fit will result in a cross validation score of NaN by default. Use error_score='raise' if you want an exception raised or error_score=np.nan to adopt the behavior from version 0.22.\n",
      "  FutureWarning)\n"
     ]
    },
    {
     "ename": "ValueError",
     "evalue": "Please provide as model targets either a single array or a list of arrays. You passed: y=[0, 0, 0, 1, 1, 0, 1, 1, 1, 1, 1, 0, 0, 1, 0, 1, 1, 0, 1, 1, 1, 1, 1, 0, 1, 1, 1, 1, 1, 0, 1, 1, 1, 1, 0, 0, 0, 0, 1, 0, 1, 0, 1, 1, 1, 1, 1, 1, 1, 1, 0, 0, 1, 0, 1, 1, 1, 0, 0, 1, 0, 0, 1, 0, 1, 1, 0, 0, 1, 0, 1, 1, 1, 0, 1, 0, 1, 0, 1, 0, 0, 0, 1, 0, 1, 0, 0, 1, 1, 1, 0, 0, 1, 1, 0, 1, 0, 1, 0, 1, 0, 1, 1, 0, 1, 0, 1, 1, 1, 1, 1, 1, 1, 0, 0, 1, 1, 0, 0, 1, 0, 1, 1, 1, 1, 1, 1, 0, 0, 0, 1, 0, 0, 1, 1, 1, 1, 1, 1, 1, 1, 1, 1, 1, 1, 1, 1, 1, 0, 1, 0, 1, 1, 1, 0, 0, 0, 1, 1, 0, 0, 1, 0, 1, 0, 1, 0, 1, 1, 0, 1, 1, 1, 0, 0, 1, 1, 1, 1, 0, 1, 1, 1, 0, 0, 1, 0, 0, 1, 1, 1, 1, 0, 1, 1, 0, 1, 1, 1, 1, 1, 1, 0, 0, 0, 1, 0, 1, 1, 1, 1, 0, 1, 1, 0, 0, 0, 1, 1, 1, 1, 0, 1, 1, 0, 0, 1, 0, 0, 0, 1, 0, 1, 1, 0, 1, 0, 0, 0, 1, 1, 0, 1, 0, 1, 0, 1, 0, 0, 0, 1, 0, 1, 1, 0, 0, 0, 1, 1, 1, 0, 0, 1, 1, 0, 0, 1, 1]",
     "output_type": "error",
     "traceback": [
      "\u001b[1;31m---------------------------------------------------------------------------\u001b[0m",
      "\u001b[1;31mValueError\u001b[0m                                Traceback (most recent call last)",
      "\u001b[1;32m<ipython-input-21-9bc72aa5e2cc>\u001b[0m in \u001b[0;36m<module>\u001b[1;34m\u001b[0m\n\u001b[0;32m      6\u001b[0m \u001b[0mpipeline\u001b[0m \u001b[1;33m=\u001b[0m \u001b[0mPipeline\u001b[0m\u001b[1;33m(\u001b[0m\u001b[0mestimators\u001b[0m\u001b[1;33m)\u001b[0m\u001b[1;33m\u001b[0m\u001b[0m\n\u001b[0;32m      7\u001b[0m \u001b[1;33m\u001b[0m\u001b[0m\n\u001b[1;32m----> 8\u001b[1;33m \u001b[0mresults\u001b[0m \u001b[1;33m=\u001b[0m \u001b[0mcross_val_score\u001b[0m\u001b[1;33m(\u001b[0m\u001b[0mpipeline\u001b[0m\u001b[1;33m,\u001b[0m \u001b[0mX\u001b[0m\u001b[1;33m,\u001b[0m \u001b[0mY\u001b[0m\u001b[1;33m,\u001b[0m \u001b[0mcv\u001b[0m\u001b[1;33m=\u001b[0m\u001b[0mkfold\u001b[0m\u001b[1;33m,\u001b[0m \u001b[0mn_jobs\u001b[0m\u001b[1;33m=\u001b[0m\u001b[1;36m1\u001b[0m\u001b[1;33m)\u001b[0m\u001b[1;33m\u001b[0m\u001b[0m\n\u001b[0m\u001b[0;32m      9\u001b[0m \u001b[0mprint\u001b[0m\u001b[1;33m(\u001b[0m\u001b[1;34m\"Standardized: %.2f (%.2f) MSE\"\u001b[0m \u001b[1;33m%\u001b[0m \u001b[1;33m(\u001b[0m\u001b[0mresults\u001b[0m\u001b[1;33m.\u001b[0m\u001b[0mmean\u001b[0m\u001b[1;33m(\u001b[0m\u001b[1;33m)\u001b[0m\u001b[1;33m,\u001b[0m \u001b[0mresults\u001b[0m\u001b[1;33m.\u001b[0m\u001b[0mstd\u001b[0m\u001b[1;33m(\u001b[0m\u001b[1;33m)\u001b[0m\u001b[1;33m)\u001b[0m\u001b[1;33m)\u001b[0m\u001b[1;33m\u001b[0m\u001b[0m\n\u001b[0;32m     10\u001b[0m \u001b[0mprint\u001b[0m\u001b[1;33m(\u001b[0m\u001b[0mresults\u001b[0m\u001b[1;33m)\u001b[0m\u001b[1;33m\u001b[0m\u001b[0m\n",
      "\u001b[1;32mc:\\users\\martin\\anaconda3\\envs\\tensorflow\\lib\\site-packages\\sklearn\\model_selection\\_validation.py\u001b[0m in \u001b[0;36mcross_val_score\u001b[1;34m(estimator, X, y, groups, scoring, cv, n_jobs, verbose, fit_params, pre_dispatch, error_score)\u001b[0m\n\u001b[0;32m    400\u001b[0m                                 \u001b[0mfit_params\u001b[0m\u001b[1;33m=\u001b[0m\u001b[0mfit_params\u001b[0m\u001b[1;33m,\u001b[0m\u001b[1;33m\u001b[0m\u001b[0m\n\u001b[0;32m    401\u001b[0m                                 \u001b[0mpre_dispatch\u001b[0m\u001b[1;33m=\u001b[0m\u001b[0mpre_dispatch\u001b[0m\u001b[1;33m,\u001b[0m\u001b[1;33m\u001b[0m\u001b[0m\n\u001b[1;32m--> 402\u001b[1;33m                                 error_score=error_score)\n\u001b[0m\u001b[0;32m    403\u001b[0m     \u001b[1;32mreturn\u001b[0m \u001b[0mcv_results\u001b[0m\u001b[1;33m[\u001b[0m\u001b[1;34m'test_score'\u001b[0m\u001b[1;33m]\u001b[0m\u001b[1;33m\u001b[0m\u001b[0m\n\u001b[0;32m    404\u001b[0m \u001b[1;33m\u001b[0m\u001b[0m\n",
      "\u001b[1;32mc:\\users\\martin\\anaconda3\\envs\\tensorflow\\lib\\site-packages\\sklearn\\model_selection\\_validation.py\u001b[0m in \u001b[0;36mcross_validate\u001b[1;34m(estimator, X, y, groups, scoring, cv, n_jobs, verbose, fit_params, pre_dispatch, return_train_score, return_estimator, error_score)\u001b[0m\n\u001b[0;32m    238\u001b[0m             \u001b[0mreturn_times\u001b[0m\u001b[1;33m=\u001b[0m\u001b[1;32mTrue\u001b[0m\u001b[1;33m,\u001b[0m \u001b[0mreturn_estimator\u001b[0m\u001b[1;33m=\u001b[0m\u001b[0mreturn_estimator\u001b[0m\u001b[1;33m,\u001b[0m\u001b[1;33m\u001b[0m\u001b[0m\n\u001b[0;32m    239\u001b[0m             error_score=error_score)\n\u001b[1;32m--> 240\u001b[1;33m         for train, test in cv.split(X, y, groups))\n\u001b[0m\u001b[0;32m    241\u001b[0m \u001b[1;33m\u001b[0m\u001b[0m\n\u001b[0;32m    242\u001b[0m     \u001b[0mzipped_scores\u001b[0m \u001b[1;33m=\u001b[0m \u001b[0mlist\u001b[0m\u001b[1;33m(\u001b[0m\u001b[0mzip\u001b[0m\u001b[1;33m(\u001b[0m\u001b[1;33m*\u001b[0m\u001b[0mscores\u001b[0m\u001b[1;33m)\u001b[0m\u001b[1;33m)\u001b[0m\u001b[1;33m\u001b[0m\u001b[0m\n",
      "\u001b[1;32mc:\\users\\martin\\anaconda3\\envs\\tensorflow\\lib\\site-packages\\sklearn\\externals\\joblib\\parallel.py\u001b[0m in \u001b[0;36m__call__\u001b[1;34m(self, iterable)\u001b[0m\n\u001b[0;32m    981\u001b[0m             \u001b[1;31m# remaining jobs.\u001b[0m\u001b[1;33m\u001b[0m\u001b[1;33m\u001b[0m\u001b[0m\n\u001b[0;32m    982\u001b[0m             \u001b[0mself\u001b[0m\u001b[1;33m.\u001b[0m\u001b[0m_iterating\u001b[0m \u001b[1;33m=\u001b[0m \u001b[1;32mFalse\u001b[0m\u001b[1;33m\u001b[0m\u001b[0m\n\u001b[1;32m--> 983\u001b[1;33m             \u001b[1;32mif\u001b[0m \u001b[0mself\u001b[0m\u001b[1;33m.\u001b[0m\u001b[0mdispatch_one_batch\u001b[0m\u001b[1;33m(\u001b[0m\u001b[0miterator\u001b[0m\u001b[1;33m)\u001b[0m\u001b[1;33m:\u001b[0m\u001b[1;33m\u001b[0m\u001b[0m\n\u001b[0m\u001b[0;32m    984\u001b[0m                 \u001b[0mself\u001b[0m\u001b[1;33m.\u001b[0m\u001b[0m_iterating\u001b[0m \u001b[1;33m=\u001b[0m \u001b[0mself\u001b[0m\u001b[1;33m.\u001b[0m\u001b[0m_original_iterator\u001b[0m \u001b[1;32mis\u001b[0m \u001b[1;32mnot\u001b[0m \u001b[1;32mNone\u001b[0m\u001b[1;33m\u001b[0m\u001b[0m\n\u001b[0;32m    985\u001b[0m \u001b[1;33m\u001b[0m\u001b[0m\n",
      "\u001b[1;32mc:\\users\\martin\\anaconda3\\envs\\tensorflow\\lib\\site-packages\\sklearn\\externals\\joblib\\parallel.py\u001b[0m in \u001b[0;36mdispatch_one_batch\u001b[1;34m(self, iterator)\u001b[0m\n\u001b[0;32m    823\u001b[0m                 \u001b[1;32mreturn\u001b[0m \u001b[1;32mFalse\u001b[0m\u001b[1;33m\u001b[0m\u001b[0m\n\u001b[0;32m    824\u001b[0m             \u001b[1;32melse\u001b[0m\u001b[1;33m:\u001b[0m\u001b[1;33m\u001b[0m\u001b[0m\n\u001b[1;32m--> 825\u001b[1;33m                 \u001b[0mself\u001b[0m\u001b[1;33m.\u001b[0m\u001b[0m_dispatch\u001b[0m\u001b[1;33m(\u001b[0m\u001b[0mtasks\u001b[0m\u001b[1;33m)\u001b[0m\u001b[1;33m\u001b[0m\u001b[0m\n\u001b[0m\u001b[0;32m    826\u001b[0m                 \u001b[1;32mreturn\u001b[0m \u001b[1;32mTrue\u001b[0m\u001b[1;33m\u001b[0m\u001b[0m\n\u001b[0;32m    827\u001b[0m \u001b[1;33m\u001b[0m\u001b[0m\n",
      "\u001b[1;32mc:\\users\\martin\\anaconda3\\envs\\tensorflow\\lib\\site-packages\\sklearn\\externals\\joblib\\parallel.py\u001b[0m in \u001b[0;36m_dispatch\u001b[1;34m(self, batch)\u001b[0m\n\u001b[0;32m    780\u001b[0m         \u001b[1;32mwith\u001b[0m \u001b[0mself\u001b[0m\u001b[1;33m.\u001b[0m\u001b[0m_lock\u001b[0m\u001b[1;33m:\u001b[0m\u001b[1;33m\u001b[0m\u001b[0m\n\u001b[0;32m    781\u001b[0m             \u001b[0mjob_idx\u001b[0m \u001b[1;33m=\u001b[0m \u001b[0mlen\u001b[0m\u001b[1;33m(\u001b[0m\u001b[0mself\u001b[0m\u001b[1;33m.\u001b[0m\u001b[0m_jobs\u001b[0m\u001b[1;33m)\u001b[0m\u001b[1;33m\u001b[0m\u001b[0m\n\u001b[1;32m--> 782\u001b[1;33m             \u001b[0mjob\u001b[0m \u001b[1;33m=\u001b[0m \u001b[0mself\u001b[0m\u001b[1;33m.\u001b[0m\u001b[0m_backend\u001b[0m\u001b[1;33m.\u001b[0m\u001b[0mapply_async\u001b[0m\u001b[1;33m(\u001b[0m\u001b[0mbatch\u001b[0m\u001b[1;33m,\u001b[0m \u001b[0mcallback\u001b[0m\u001b[1;33m=\u001b[0m\u001b[0mcb\u001b[0m\u001b[1;33m)\u001b[0m\u001b[1;33m\u001b[0m\u001b[0m\n\u001b[0m\u001b[0;32m    783\u001b[0m             \u001b[1;31m# A job can complete so quickly than its callback is\u001b[0m\u001b[1;33m\u001b[0m\u001b[1;33m\u001b[0m\u001b[0m\n\u001b[0;32m    784\u001b[0m             \u001b[1;31m# called before we get here, causing self._jobs to\u001b[0m\u001b[1;33m\u001b[0m\u001b[1;33m\u001b[0m\u001b[0m\n",
      "\u001b[1;32mc:\\users\\martin\\anaconda3\\envs\\tensorflow\\lib\\site-packages\\sklearn\\externals\\joblib\\_parallel_backends.py\u001b[0m in \u001b[0;36mapply_async\u001b[1;34m(self, func, callback)\u001b[0m\n\u001b[0;32m    180\u001b[0m     \u001b[1;32mdef\u001b[0m \u001b[0mapply_async\u001b[0m\u001b[1;33m(\u001b[0m\u001b[0mself\u001b[0m\u001b[1;33m,\u001b[0m \u001b[0mfunc\u001b[0m\u001b[1;33m,\u001b[0m \u001b[0mcallback\u001b[0m\u001b[1;33m=\u001b[0m\u001b[1;32mNone\u001b[0m\u001b[1;33m)\u001b[0m\u001b[1;33m:\u001b[0m\u001b[1;33m\u001b[0m\u001b[0m\n\u001b[0;32m    181\u001b[0m         \u001b[1;34m\"\"\"Schedule a func to be run\"\"\"\u001b[0m\u001b[1;33m\u001b[0m\u001b[0m\n\u001b[1;32m--> 182\u001b[1;33m         \u001b[0mresult\u001b[0m \u001b[1;33m=\u001b[0m \u001b[0mImmediateResult\u001b[0m\u001b[1;33m(\u001b[0m\u001b[0mfunc\u001b[0m\u001b[1;33m)\u001b[0m\u001b[1;33m\u001b[0m\u001b[0m\n\u001b[0m\u001b[0;32m    183\u001b[0m         \u001b[1;32mif\u001b[0m \u001b[0mcallback\u001b[0m\u001b[1;33m:\u001b[0m\u001b[1;33m\u001b[0m\u001b[0m\n\u001b[0;32m    184\u001b[0m             \u001b[0mcallback\u001b[0m\u001b[1;33m(\u001b[0m\u001b[0mresult\u001b[0m\u001b[1;33m)\u001b[0m\u001b[1;33m\u001b[0m\u001b[0m\n",
      "\u001b[1;32mc:\\users\\martin\\anaconda3\\envs\\tensorflow\\lib\\site-packages\\sklearn\\externals\\joblib\\_parallel_backends.py\u001b[0m in \u001b[0;36m__init__\u001b[1;34m(self, batch)\u001b[0m\n\u001b[0;32m    543\u001b[0m         \u001b[1;31m# Don't delay the application, to avoid keeping the input\u001b[0m\u001b[1;33m\u001b[0m\u001b[1;33m\u001b[0m\u001b[0m\n\u001b[0;32m    544\u001b[0m         \u001b[1;31m# arguments in memory\u001b[0m\u001b[1;33m\u001b[0m\u001b[1;33m\u001b[0m\u001b[0m\n\u001b[1;32m--> 545\u001b[1;33m         \u001b[0mself\u001b[0m\u001b[1;33m.\u001b[0m\u001b[0mresults\u001b[0m \u001b[1;33m=\u001b[0m \u001b[0mbatch\u001b[0m\u001b[1;33m(\u001b[0m\u001b[1;33m)\u001b[0m\u001b[1;33m\u001b[0m\u001b[0m\n\u001b[0m\u001b[0;32m    546\u001b[0m \u001b[1;33m\u001b[0m\u001b[0m\n\u001b[0;32m    547\u001b[0m     \u001b[1;32mdef\u001b[0m \u001b[0mget\u001b[0m\u001b[1;33m(\u001b[0m\u001b[0mself\u001b[0m\u001b[1;33m)\u001b[0m\u001b[1;33m:\u001b[0m\u001b[1;33m\u001b[0m\u001b[0m\n",
      "\u001b[1;32mc:\\users\\martin\\anaconda3\\envs\\tensorflow\\lib\\site-packages\\sklearn\\externals\\joblib\\parallel.py\u001b[0m in \u001b[0;36m__call__\u001b[1;34m(self)\u001b[0m\n\u001b[0;32m    259\u001b[0m         \u001b[1;32mwith\u001b[0m \u001b[0mparallel_backend\u001b[0m\u001b[1;33m(\u001b[0m\u001b[0mself\u001b[0m\u001b[1;33m.\u001b[0m\u001b[0m_backend\u001b[0m\u001b[1;33m)\u001b[0m\u001b[1;33m:\u001b[0m\u001b[1;33m\u001b[0m\u001b[0m\n\u001b[0;32m    260\u001b[0m             return [func(*args, **kwargs)\n\u001b[1;32m--> 261\u001b[1;33m                     for func, args, kwargs in self.items]\n\u001b[0m\u001b[0;32m    262\u001b[0m \u001b[1;33m\u001b[0m\u001b[0m\n\u001b[0;32m    263\u001b[0m     \u001b[1;32mdef\u001b[0m \u001b[0m__len__\u001b[0m\u001b[1;33m(\u001b[0m\u001b[0mself\u001b[0m\u001b[1;33m)\u001b[0m\u001b[1;33m:\u001b[0m\u001b[1;33m\u001b[0m\u001b[0m\n",
      "\u001b[1;32mc:\\users\\martin\\anaconda3\\envs\\tensorflow\\lib\\site-packages\\sklearn\\externals\\joblib\\parallel.py\u001b[0m in \u001b[0;36m<listcomp>\u001b[1;34m(.0)\u001b[0m\n\u001b[0;32m    259\u001b[0m         \u001b[1;32mwith\u001b[0m \u001b[0mparallel_backend\u001b[0m\u001b[1;33m(\u001b[0m\u001b[0mself\u001b[0m\u001b[1;33m.\u001b[0m\u001b[0m_backend\u001b[0m\u001b[1;33m)\u001b[0m\u001b[1;33m:\u001b[0m\u001b[1;33m\u001b[0m\u001b[0m\n\u001b[0;32m    260\u001b[0m             return [func(*args, **kwargs)\n\u001b[1;32m--> 261\u001b[1;33m                     for func, args, kwargs in self.items]\n\u001b[0m\u001b[0;32m    262\u001b[0m \u001b[1;33m\u001b[0m\u001b[0m\n\u001b[0;32m    263\u001b[0m     \u001b[1;32mdef\u001b[0m \u001b[0m__len__\u001b[0m\u001b[1;33m(\u001b[0m\u001b[0mself\u001b[0m\u001b[1;33m)\u001b[0m\u001b[1;33m:\u001b[0m\u001b[1;33m\u001b[0m\u001b[0m\n",
      "\u001b[1;32mc:\\users\\martin\\anaconda3\\envs\\tensorflow\\lib\\site-packages\\sklearn\\model_selection\\_validation.py\u001b[0m in \u001b[0;36m_fit_and_score\u001b[1;34m(estimator, X, y, scorer, train, test, verbose, parameters, fit_params, return_train_score, return_parameters, return_n_test_samples, return_times, return_estimator, error_score)\u001b[0m\n\u001b[0;32m    526\u001b[0m             \u001b[0mestimator\u001b[0m\u001b[1;33m.\u001b[0m\u001b[0mfit\u001b[0m\u001b[1;33m(\u001b[0m\u001b[0mX_train\u001b[0m\u001b[1;33m,\u001b[0m \u001b[1;33m**\u001b[0m\u001b[0mfit_params\u001b[0m\u001b[1;33m)\u001b[0m\u001b[1;33m\u001b[0m\u001b[0m\n\u001b[0;32m    527\u001b[0m         \u001b[1;32melse\u001b[0m\u001b[1;33m:\u001b[0m\u001b[1;33m\u001b[0m\u001b[0m\n\u001b[1;32m--> 528\u001b[1;33m             \u001b[0mestimator\u001b[0m\u001b[1;33m.\u001b[0m\u001b[0mfit\u001b[0m\u001b[1;33m(\u001b[0m\u001b[0mX_train\u001b[0m\u001b[1;33m,\u001b[0m \u001b[0my_train\u001b[0m\u001b[1;33m,\u001b[0m \u001b[1;33m**\u001b[0m\u001b[0mfit_params\u001b[0m\u001b[1;33m)\u001b[0m\u001b[1;33m\u001b[0m\u001b[0m\n\u001b[0m\u001b[0;32m    529\u001b[0m \u001b[1;33m\u001b[0m\u001b[0m\n\u001b[0;32m    530\u001b[0m     \u001b[1;32mexcept\u001b[0m \u001b[0mException\u001b[0m \u001b[1;32mas\u001b[0m \u001b[0me\u001b[0m\u001b[1;33m:\u001b[0m\u001b[1;33m\u001b[0m\u001b[0m\n",
      "\u001b[1;32mc:\\users\\martin\\anaconda3\\envs\\tensorflow\\lib\\site-packages\\sklearn\\pipeline.py\u001b[0m in \u001b[0;36mfit\u001b[1;34m(self, X, y, **fit_params)\u001b[0m\n\u001b[0;32m    265\u001b[0m         \u001b[0mXt\u001b[0m\u001b[1;33m,\u001b[0m \u001b[0mfit_params\u001b[0m \u001b[1;33m=\u001b[0m \u001b[0mself\u001b[0m\u001b[1;33m.\u001b[0m\u001b[0m_fit\u001b[0m\u001b[1;33m(\u001b[0m\u001b[0mX\u001b[0m\u001b[1;33m,\u001b[0m \u001b[0my\u001b[0m\u001b[1;33m,\u001b[0m \u001b[1;33m**\u001b[0m\u001b[0mfit_params\u001b[0m\u001b[1;33m)\u001b[0m\u001b[1;33m\u001b[0m\u001b[0m\n\u001b[0;32m    266\u001b[0m         \u001b[1;32mif\u001b[0m \u001b[0mself\u001b[0m\u001b[1;33m.\u001b[0m\u001b[0m_final_estimator\u001b[0m \u001b[1;32mis\u001b[0m \u001b[1;32mnot\u001b[0m \u001b[1;32mNone\u001b[0m\u001b[1;33m:\u001b[0m\u001b[1;33m\u001b[0m\u001b[0m\n\u001b[1;32m--> 267\u001b[1;33m             \u001b[0mself\u001b[0m\u001b[1;33m.\u001b[0m\u001b[0m_final_estimator\u001b[0m\u001b[1;33m.\u001b[0m\u001b[0mfit\u001b[0m\u001b[1;33m(\u001b[0m\u001b[0mXt\u001b[0m\u001b[1;33m,\u001b[0m \u001b[0my\u001b[0m\u001b[1;33m,\u001b[0m \u001b[1;33m**\u001b[0m\u001b[0mfit_params\u001b[0m\u001b[1;33m)\u001b[0m\u001b[1;33m\u001b[0m\u001b[0m\n\u001b[0m\u001b[0;32m    268\u001b[0m         \u001b[1;32mreturn\u001b[0m \u001b[0mself\u001b[0m\u001b[1;33m\u001b[0m\u001b[0m\n\u001b[0;32m    269\u001b[0m \u001b[1;33m\u001b[0m\u001b[0m\n",
      "\u001b[1;32mc:\\users\\martin\\anaconda3\\envs\\tensorflow\\lib\\site-packages\\keras\\wrappers\\scikit_learn.py\u001b[0m in \u001b[0;36mfit\u001b[1;34m(self, x, y, **kwargs)\u001b[0m\n\u001b[0;32m    150\u001b[0m         \u001b[0mfit_args\u001b[0m\u001b[1;33m.\u001b[0m\u001b[0mupdate\u001b[0m\u001b[1;33m(\u001b[0m\u001b[0mkwargs\u001b[0m\u001b[1;33m)\u001b[0m\u001b[1;33m\u001b[0m\u001b[0m\n\u001b[0;32m    151\u001b[0m \u001b[1;33m\u001b[0m\u001b[0m\n\u001b[1;32m--> 152\u001b[1;33m         \u001b[0mhistory\u001b[0m \u001b[1;33m=\u001b[0m \u001b[0mself\u001b[0m\u001b[1;33m.\u001b[0m\u001b[0mmodel\u001b[0m\u001b[1;33m.\u001b[0m\u001b[0mfit\u001b[0m\u001b[1;33m(\u001b[0m\u001b[0mx\u001b[0m\u001b[1;33m,\u001b[0m \u001b[0my\u001b[0m\u001b[1;33m,\u001b[0m \u001b[1;33m**\u001b[0m\u001b[0mfit_args\u001b[0m\u001b[1;33m)\u001b[0m\u001b[1;33m\u001b[0m\u001b[0m\n\u001b[0m\u001b[0;32m    153\u001b[0m \u001b[1;33m\u001b[0m\u001b[0m\n\u001b[0;32m    154\u001b[0m         \u001b[1;32mreturn\u001b[0m \u001b[0mhistory\u001b[0m\u001b[1;33m\u001b[0m\u001b[0m\n",
      "\u001b[1;32mc:\\users\\martin\\anaconda3\\envs\\tensorflow\\lib\\site-packages\\keras\\engine\\training.py\u001b[0m in \u001b[0;36mfit\u001b[1;34m(self, x, y, batch_size, epochs, verbose, callbacks, validation_split, validation_data, shuffle, class_weight, sample_weight, initial_epoch, steps_per_epoch, validation_steps, **kwargs)\u001b[0m\n\u001b[0;32m    950\u001b[0m             \u001b[0msample_weight\u001b[0m\u001b[1;33m=\u001b[0m\u001b[0msample_weight\u001b[0m\u001b[1;33m,\u001b[0m\u001b[1;33m\u001b[0m\u001b[0m\n\u001b[0;32m    951\u001b[0m             \u001b[0mclass_weight\u001b[0m\u001b[1;33m=\u001b[0m\u001b[0mclass_weight\u001b[0m\u001b[1;33m,\u001b[0m\u001b[1;33m\u001b[0m\u001b[0m\n\u001b[1;32m--> 952\u001b[1;33m             batch_size=batch_size)\n\u001b[0m\u001b[0;32m    953\u001b[0m         \u001b[1;31m# Prepare validation data.\u001b[0m\u001b[1;33m\u001b[0m\u001b[1;33m\u001b[0m\u001b[0m\n\u001b[0;32m    954\u001b[0m         \u001b[0mdo_validation\u001b[0m \u001b[1;33m=\u001b[0m \u001b[1;32mFalse\u001b[0m\u001b[1;33m\u001b[0m\u001b[0m\n",
      "\u001b[1;32mc:\\users\\martin\\anaconda3\\envs\\tensorflow\\lib\\site-packages\\keras\\engine\\training.py\u001b[0m in \u001b[0;36m_standardize_user_data\u001b[1;34m(self, x, y, sample_weight, class_weight, check_array_lengths, batch_size)\u001b[0m\n\u001b[0;32m    691\u001b[0m                                          \u001b[1;34m'either a single '\u001b[0m\u001b[1;33m\u001b[0m\u001b[0m\n\u001b[0;32m    692\u001b[0m                                          \u001b[1;34m'array or a list of arrays. '\u001b[0m\u001b[1;33m\u001b[0m\u001b[0m\n\u001b[1;32m--> 693\u001b[1;33m                                          'You passed: y=' + str(y))\n\u001b[0m\u001b[0;32m    694\u001b[0m                 \u001b[1;32melif\u001b[0m \u001b[0misinstance\u001b[0m\u001b[1;33m(\u001b[0m\u001b[0my\u001b[0m\u001b[1;33m,\u001b[0m \u001b[0mdict\u001b[0m\u001b[1;33m)\u001b[0m\u001b[1;33m:\u001b[0m\u001b[1;33m\u001b[0m\u001b[0m\n\u001b[0;32m    695\u001b[0m                     raise ValueError('Please do not pass a dictionary '\n",
      "\u001b[1;31mValueError\u001b[0m: Please provide as model targets either a single array or a list of arrays. You passed: y=[0, 0, 0, 1, 1, 0, 1, 1, 1, 1, 1, 0, 0, 1, 0, 1, 1, 0, 1, 1, 1, 1, 1, 0, 1, 1, 1, 1, 1, 0, 1, 1, 1, 1, 0, 0, 0, 0, 1, 0, 1, 0, 1, 1, 1, 1, 1, 1, 1, 1, 0, 0, 1, 0, 1, 1, 1, 0, 0, 1, 0, 0, 1, 0, 1, 1, 0, 0, 1, 0, 1, 1, 1, 0, 1, 0, 1, 0, 1, 0, 0, 0, 1, 0, 1, 0, 0, 1, 1, 1, 0, 0, 1, 1, 0, 1, 0, 1, 0, 1, 0, 1, 1, 0, 1, 0, 1, 1, 1, 1, 1, 1, 1, 0, 0, 1, 1, 0, 0, 1, 0, 1, 1, 1, 1, 1, 1, 0, 0, 0, 1, 0, 0, 1, 1, 1, 1, 1, 1, 1, 1, 1, 1, 1, 1, 1, 1, 1, 0, 1, 0, 1, 1, 1, 0, 0, 0, 1, 1, 0, 0, 1, 0, 1, 0, 1, 0, 1, 1, 0, 1, 1, 1, 0, 0, 1, 1, 1, 1, 0, 1, 1, 1, 0, 0, 1, 0, 0, 1, 1, 1, 1, 0, 1, 1, 0, 1, 1, 1, 1, 1, 1, 0, 0, 0, 1, 0, 1, 1, 1, 1, 0, 1, 1, 0, 0, 0, 1, 1, 1, 1, 0, 1, 1, 0, 0, 1, 0, 0, 0, 1, 0, 1, 1, 0, 1, 0, 0, 0, 1, 1, 0, 1, 0, 1, 0, 1, 0, 0, 0, 1, 0, 1, 1, 0, 0, 0, 1, 1, 1, 0, 0, 1, 1, 0, 0, 1, 1]"
     ]
    }
   ],
   "source": [
    "# evaluate model with standardized dataset\n",
    "np.random.seed(seed)\n",
    "estimators = []\n",
    "estimators.append(('standardize', StandardScaler()))\n",
    "estimators.append(('mlp', KerasRegressor(build_fn=baseline_model, epochs=5, batch_size=5, verbose=1)))\n",
    "pipeline = Pipeline(estimators)\n",
    "\n",
    "results = cross_val_score(pipeline, X, Y, cv=kfold, n_jobs=1)\n",
    "print(\"Standardized: %.2f (%.2f) MSE\" % (results.mean(), results.std()))\n",
    "print(results)"
   ]
  },
  {
   "cell_type": "code",
   "execution_count": null,
   "metadata": {
    "collapsed": true
   },
   "outputs": [],
   "source": []
  },
  {
   "cell_type": "markdown",
   "metadata": {
    "_cell_guid": "a90b81c6-8cbd-4b27-9cd1-02c183cfca68",
    "_uuid": "fb0886843651633f99a4254b914674109e058a3c"
   },
   "source": [
    "# 4. Evaluate a Deeper Network Topology"
   ]
  },
  {
   "cell_type": "code",
   "execution_count": 22,
   "metadata": {
    "_cell_guid": "47d9eec5-d1d3-4418-aa6f-8cd6f21e4ff4",
    "_uuid": "f9b96627ba859a905fd383aae95614c690d1f396",
    "collapsed": true
   },
   "outputs": [],
   "source": [
    "# define the model\n",
    "def larger_model():\n",
    "\t# create model\n",
    "\tmodel = Sequential()\n",
    "    #input_dim=13,\n",
    "\tmodel.add(Dense(13,  kernel_initializer='normal', activation='relu'))\n",
    "\tmodel.add(Dense(6, kernel_initializer='normal', activation='relu'))\n",
    "\tmodel.add(Dense(1, kernel_initializer='normal'))\n",
    "\t# Compile model\n",
    "\tmodel.compile(loss='mean_squared_error', optimizer='adam')\n",
    "\treturn model"
   ]
  },
  {
   "cell_type": "code",
   "execution_count": null,
   "metadata": {
    "collapsed": true
   },
   "outputs": [],
   "source": []
  },
  {
   "cell_type": "code",
   "execution_count": null,
   "metadata": {
    "_cell_guid": "d71a5af8-706c-4962-83eb-ae2b1c0d5f34",
    "_uuid": "72eefc5d441d414d5b8e813061619320a52d6b9b",
    "collapsed": true
   },
   "outputs": [],
   "source": [
    "np.random.seed(seed)\n",
    "estimators = []\n",
    "estimators.append(('standardize', StandardScaler()))\n",
    "estimators.append(('mlp', KerasRegressor(build_fn=larger_model, epochs=10, batch_size=1, verbose=1)))\n",
    "pipeline = Pipeline(estimators)\n",
    "#kfold = KFold(n_splits=2, random_state=seed)\n",
    "results = cross_val_score(pipeline, X, Y, cv=kfold, n_jobs=1)\n",
    "\n",
    "print(\"Larger: %.2f (%.2f) MSE\" % (results.mean(), results.std()))"
   ]
  },
  {
   "cell_type": "code",
   "execution_count": null,
   "metadata": {
    "collapsed": true
   },
   "outputs": [],
   "source": [
    "results"
   ]
  },
  {
   "cell_type": "code",
   "execution_count": 3,
   "metadata": {},
   "outputs": [
    {
     "ename": "NameError",
     "evalue": "name 'larger_model' is not defined",
     "output_type": "error",
     "traceback": [
      "\u001b[1;31m---------------------------------------------------------------------------\u001b[0m",
      "\u001b[1;31mNameError\u001b[0m                                 Traceback (most recent call last)",
      "\u001b[1;32m<ipython-input-3-148af635a069>\u001b[0m in \u001b[0;36m<module>\u001b[1;34m\u001b[0m\n\u001b[1;32m----> 1\u001b[1;33m \u001b[0mmodel\u001b[0m \u001b[1;33m=\u001b[0m \u001b[0mlarger_model\u001b[0m\u001b[1;33m(\u001b[0m\u001b[1;33m)\u001b[0m\u001b[1;33m\u001b[0m\u001b[0m\n\u001b[0m\u001b[0;32m      2\u001b[0m \u001b[0mmodel\u001b[0m\u001b[1;33m.\u001b[0m\u001b[0mfit\u001b[0m\u001b[1;33m(\u001b[0m\u001b[0mX\u001b[0m\u001b[1;33m,\u001b[0m \u001b[0mY\u001b[0m\u001b[1;33m,\u001b[0m \u001b[0mnb_epoch\u001b[0m\u001b[1;33m=\u001b[0m\u001b[1;36m10\u001b[0m\u001b[1;33m,\u001b[0m \u001b[0mbatch_size\u001b[0m\u001b[1;33m=\u001b[0m\u001b[1;36m1\u001b[0m\u001b[1;33m,\u001b[0m \u001b[0mvalidation_split\u001b[0m\u001b[1;33m=\u001b[0m\u001b[1;36m0.2\u001b[0m\u001b[1;33m,\u001b[0m \u001b[0mverbose\u001b[0m\u001b[1;33m=\u001b[0m\u001b[1;36m1\u001b[0m\u001b[1;33m)\u001b[0m\u001b[1;33m\u001b[0m\u001b[0m\n",
      "\u001b[1;31mNameError\u001b[0m: name 'larger_model' is not defined"
     ]
    }
   ],
   "source": [
    "model = larger_model()\n",
    "model.fit(X, Y, nb_epoch=10, batch_size=1, validation_split=0.2, verbose=1)"
   ]
  },
  {
   "cell_type": "code",
   "execution_count": 4,
   "metadata": {},
   "outputs": [
    {
     "ename": "NameError",
     "evalue": "name 'model' is not defined",
     "output_type": "error",
     "traceback": [
      "\u001b[1;31m---------------------------------------------------------------------------\u001b[0m",
      "\u001b[1;31mNameError\u001b[0m                                 Traceback (most recent call last)",
      "\u001b[1;32m<ipython-input-4-6dc6022bb1ac>\u001b[0m in \u001b[0;36m<module>\u001b[1;34m\u001b[0m\n\u001b[0;32m      1\u001b[0m \u001b[1;31m#pipeline.fit(X[:100])\u001b[0m\u001b[1;33m\u001b[0m\u001b[1;33m\u001b[0m\u001b[0m\n\u001b[1;32m----> 2\u001b[1;33m \u001b[0mmodel\u001b[0m\u001b[1;33m.\u001b[0m\u001b[0mpredict\u001b[0m\u001b[1;33m(\u001b[0m\u001b[1;33m[\u001b[0m\u001b[0mX\u001b[0m\u001b[1;33m[\u001b[0m\u001b[1;36m0\u001b[0m\u001b[1;33m:\u001b[0m\u001b[1;36m20\u001b[0m\u001b[1;33m]\u001b[0m\u001b[1;33m]\u001b[0m\u001b[1;33m)\u001b[0m\u001b[1;33m\u001b[0m\u001b[0m\n\u001b[0m",
      "\u001b[1;31mNameError\u001b[0m: name 'model' is not defined"
     ]
    }
   ],
   "source": [
    "#pipeline.fit(X[:100])\n",
    "model.predict([X[0:20]])"
   ]
  },
  {
   "cell_type": "markdown",
   "metadata": {
    "_cell_guid": "41658300-55d3-4efc-83af-1023a1070a12",
    "_uuid": "fa3ec5d0f76d647c3fb373250f9dc50082a57e24"
   },
   "source": [
    "# 5. Evaluate a Wider Network Topology"
   ]
  },
  {
   "cell_type": "code",
   "execution_count": 101,
   "metadata": {
    "_cell_guid": "30dbf52e-dabf-43a0-8500-4f6ba6837fe9",
    "_uuid": "8b54f63637c3075105dbf0041cd5ddf51e7e31e5",
    "collapsed": true
   },
   "outputs": [],
   "source": [
    "# define wider model\n",
    "\n",
    "def wider_model():\n",
    "\t# create model\n",
    "\tmodel = Sequential()\n",
    "   #,input_dim=13\n",
    "\tmodel.add(Dense(20,  kernel_initializer='normal', activation='relu'))\n",
    "\tmodel.add(Dense(1, kernel_initializer='normal'))\n",
    "\t# Compile model\n",
    "\tmodel.compile(loss='mean_squared_error', optimizer='adam')\n",
    "\treturn model"
   ]
  },
  {
   "cell_type": "code",
   "execution_count": 103,
   "metadata": {
    "_cell_guid": "7b5bc02f-9f35-4958-9bc1-a569d9b744d0",
    "_uuid": "f88524026d29cc9f007c68f5583170fd7f4750ca"
   },
   "outputs": [
    {
     "name": "stdout",
     "output_type": "stream",
     "text": [
      "Epoch 1/100\n",
      "268/268 [==============================] - 2s 8ms/step - loss: 38.7355\n",
      "Epoch 2/100\n",
      "268/268 [==============================] - 0s 1ms/step - loss: 30.1291\n",
      "Epoch 3/100\n",
      "268/268 [==============================] - 0s 1ms/step - loss: 17.8789\n",
      "Epoch 4/100\n",
      "268/268 [==============================] - 0s 1ms/step - loss: 10.6424\n",
      "Epoch 5/100\n",
      "268/268 [==============================] - 0s 1ms/step - loss: 7.4601\n",
      "Epoch 6/100\n",
      "268/268 [==============================] - 0s 965us/step - loss: 5.5882\n",
      "Epoch 7/100\n",
      "268/268 [==============================] - 0s 1ms/step - loss: 4.4613\n",
      "Epoch 8/100\n",
      "268/268 [==============================] - 0s 1ms/step - loss: 3.5402\n",
      "Epoch 9/100\n",
      "268/268 [==============================] - 0s 1ms/step - loss: 2.8797\n",
      "Epoch 10/100\n",
      "268/268 [==============================] - 0s 995us/step - loss: 2.3600\n",
      "Epoch 11/100\n",
      "268/268 [==============================] - 0s 1ms/step - loss: 1.9540\n",
      "Epoch 12/100\n",
      "268/268 [==============================] - 0s 1ms/step - loss: 1.6388\n",
      "Epoch 13/100\n",
      "268/268 [==============================] - 0s 1ms/step - loss: 1.3374\n",
      "Epoch 14/100\n",
      "268/268 [==============================] - 0s 1ms/step - loss: 1.1232\n",
      "Epoch 15/100\n",
      "268/268 [==============================] - 0s 1ms/step - loss: 0.9302\n",
      "Epoch 16/100\n",
      "268/268 [==============================] - 0s 984us/step - loss: 0.7747\n",
      "Epoch 17/100\n",
      "268/268 [==============================] - 0s 980us/step - loss: 0.6389\n",
      "Epoch 18/100\n",
      "268/268 [==============================] - 0s 1ms/step - loss: 0.5361\n",
      "Epoch 19/100\n",
      "268/268 [==============================] - 0s 1ms/step - loss: 0.4382\n",
      "Epoch 20/100\n",
      "268/268 [==============================] - 0s 1ms/step - loss: 0.3656\n",
      "Epoch 21/100\n",
      "268/268 [==============================] - 0s 1ms/step - loss: 0.3056\n",
      "Epoch 22/100\n",
      "268/268 [==============================] - 0s 1ms/step - loss: 0.2527\n",
      "Epoch 23/100\n",
      "268/268 [==============================] - 0s 1ms/step - loss: 0.2114\n",
      "Epoch 24/100\n",
      "268/268 [==============================] - 0s 1ms/step - loss: 0.1673\n",
      "Epoch 25/100\n",
      "268/268 [==============================] - 0s 980us/step - loss: 0.1309\n",
      "Epoch 26/100\n",
      "268/268 [==============================] - 0s 995us/step - loss: 0.1063\n",
      "Epoch 27/100\n",
      "268/268 [==============================] - 0s 1ms/step - loss: 0.0871\n",
      "Epoch 28/100\n",
      "268/268 [==============================] - 0s 1ms/step - loss: 0.0719\n",
      "Epoch 29/100\n",
      "268/268 [==============================] - 0s 988us/step - loss: 0.0567\n",
      "Epoch 30/100\n",
      "268/268 [==============================] - 0s 1ms/step - loss: 0.0437\n",
      "Epoch 31/100\n",
      "268/268 [==============================] - 0s 1ms/step - loss: 0.0362\n",
      "Epoch 32/100\n",
      "268/268 [==============================] - 0s 1ms/step - loss: 0.0284\n",
      "Epoch 33/100\n",
      "268/268 [==============================] - 0s 1ms/step - loss: 0.0229\n",
      "Epoch 34/100\n",
      "268/268 [==============================] - 0s 984us/step - loss: 0.0169\n",
      "Epoch 35/100\n",
      "268/268 [==============================] - 0s 1ms/step - loss: 0.0138\n",
      "Epoch 36/100\n",
      "268/268 [==============================] - 0s 1ms/step - loss: 0.0106\n",
      "Epoch 37/100\n",
      "268/268 [==============================] - 0s 1ms/step - loss: 0.0079\n",
      "Epoch 38/100\n",
      "268/268 [==============================] - 0s 1ms/step - loss: 0.0063\n",
      "Epoch 39/100\n",
      "268/268 [==============================] - 0s 999us/step - loss: 0.0052\n",
      "Epoch 40/100\n",
      "268/268 [==============================] - 0s 1ms/step - loss: 0.0042\n",
      "Epoch 41/100\n",
      "268/268 [==============================] - 0s 1ms/step - loss: 0.0035\n",
      "Epoch 42/100\n",
      "268/268 [==============================] - 0s 1ms/step - loss: 0.0032\n",
      "Epoch 43/100\n",
      "268/268 [==============================] - 0s 1ms/step - loss: 0.0031\n",
      "Epoch 44/100\n",
      "268/268 [==============================] - 0s 973us/step - loss: 0.0043\n",
      "Epoch 45/100\n",
      "268/268 [==============================] - 0s 1ms/step - loss: 0.0046\n",
      "Epoch 46/100\n",
      "268/268 [==============================] - 0s 1ms/step - loss: 0.0027\n",
      "Epoch 47/100\n",
      "268/268 [==============================] - 0s 991us/step - loss: 0.0026\n",
      "Epoch 48/100\n",
      "268/268 [==============================] - 0s 1ms/step - loss: 0.0020\n",
      "Epoch 49/100\n",
      "268/268 [==============================] - 0s 1ms/step - loss: 0.0025\n",
      "Epoch 50/100\n",
      "268/268 [==============================] - 0s 1ms/step - loss: 0.0032\n",
      "Epoch 51/100\n",
      "268/268 [==============================] - 0s 1ms/step - loss: 0.0035\n",
      "Epoch 52/100\n",
      "268/268 [==============================] - 0s 1ms/step - loss: 0.0038\n",
      "Epoch 53/100\n",
      "268/268 [==============================] - 0s 1ms/step - loss: 0.0039\n",
      "Epoch 54/100\n",
      "268/268 [==============================] - 0s 1ms/step - loss: 0.0069\n",
      "Epoch 55/100\n",
      "268/268 [==============================] - 0s 988us/step - loss: 0.0286\n",
      "Epoch 56/100\n",
      "268/268 [==============================] - 0s 991us/step - loss: 0.0745\n",
      "Epoch 57/100\n",
      "268/268 [==============================] - 0s 1ms/step - loss: 0.0833\n",
      "Epoch 58/100\n",
      "268/268 [==============================] - 0s 1ms/step - loss: 0.0462\n",
      "Epoch 59/100\n",
      "268/268 [==============================] - 0s 962us/step - loss: 0.0194\n",
      "Epoch 60/100\n",
      "268/268 [==============================] - 0s 984us/step - loss: 0.0127\n",
      "Epoch 61/100\n",
      "268/268 [==============================] - 0s 984us/step - loss: 0.0220\n",
      "Epoch 62/100\n",
      "268/268 [==============================] - 0s 1ms/step - loss: 0.0121\n",
      "Epoch 63/100\n",
      "268/268 [==============================] - 0s 980us/step - loss: 0.0251\n",
      "Epoch 64/100\n",
      "268/268 [==============================] - 0s 988us/step - loss: 0.0143\n",
      "Epoch 65/100\n",
      "268/268 [==============================] - 0s 1ms/step - loss: 0.0172\n",
      "Epoch 66/100\n",
      "268/268 [==============================] - 0s 1ms/step - loss: 0.0412\n",
      "Epoch 67/100\n",
      "268/268 [==============================] - 0s 1ms/step - loss: 0.0466\n",
      "Epoch 68/100\n",
      "268/268 [==============================] - 0s 1ms/step - loss: 0.0336\n",
      "Epoch 69/100\n",
      "268/268 [==============================] - 0s 988us/step - loss: 0.0277\n",
      "Epoch 70/100\n",
      "268/268 [==============================] - 0s 1ms/step - loss: 0.0236\n",
      "Epoch 71/100\n",
      "268/268 [==============================] - 0s 1ms/step - loss: 0.0222\n",
      "Epoch 72/100\n",
      "268/268 [==============================] - 0s 988us/step - loss: 0.0317\n",
      "Epoch 73/100\n",
      "268/268 [==============================] - 0s 980us/step - loss: 0.0314\n",
      "Epoch 74/100\n",
      "268/268 [==============================] - 0s 1ms/step - loss: 0.0451\n",
      "Epoch 75/100\n",
      "268/268 [==============================] - 0s 1ms/step - loss: 0.0345\n",
      "Epoch 76/100\n",
      "268/268 [==============================] - 0s 973us/step - loss: 0.0620\n",
      "Epoch 77/100\n",
      "268/268 [==============================] - 0s 1ms/step - loss: 0.0533\n",
      "Epoch 78/100\n",
      "268/268 [==============================] - 0s 1ms/step - loss: 0.0327\n",
      "Epoch 79/100\n",
      "268/268 [==============================] - 0s 1ms/step - loss: 0.0594\n",
      "Epoch 80/100\n",
      "268/268 [==============================] - 0s 1ms/step - loss: 0.0438\n",
      "Epoch 81/100\n",
      "268/268 [==============================] - 0s 1ms/step - loss: 0.0432\n",
      "Epoch 82/100\n",
      "268/268 [==============================] - 0s 1ms/step - loss: 0.0521\n",
      "Epoch 83/100\n",
      "268/268 [==============================] - 0s 1ms/step - loss: 0.0410\n",
      "Epoch 84/100\n",
      "268/268 [==============================] - 0s 1ms/step - loss: 0.0714\n",
      "Epoch 85/100\n",
      "268/268 [==============================] - 0s 965us/step - loss: 0.0595\n",
      "Epoch 86/100\n",
      "268/268 [==============================] - 0s 1ms/step - loss: 0.0530\n",
      "Epoch 87/100\n",
      "268/268 [==============================] - 0s 1ms/step - loss: 0.0451\n",
      "Epoch 88/100\n",
      "268/268 [==============================] - 0s 1ms/step - loss: 0.0250\n",
      "Epoch 89/100\n",
      "268/268 [==============================] - 0s 1ms/step - loss: 0.0155\n",
      "Epoch 90/100\n",
      "268/268 [==============================] - 0s 988us/step - loss: 0.0111\n",
      "Epoch 91/100\n",
      "268/268 [==============================] - 0s 1ms/step - loss: 0.0086\n",
      "Epoch 92/100\n",
      "268/268 [==============================] - 0s 1ms/step - loss: 0.0075\n",
      "Epoch 93/100\n",
      "268/268 [==============================] - 0s 1ms/step - loss: 0.0071\n",
      "Epoch 94/100\n",
      "268/268 [==============================] - 0s 995us/step - loss: 0.0079\n",
      "Epoch 95/100\n",
      "268/268 [==============================] - 0s 1ms/step - loss: 0.0095\n",
      "Epoch 96/100\n",
      "268/268 [==============================] - 0s 1ms/step - loss: 0.0116\n",
      "Epoch 97/100\n",
      "268/268 [==============================] - 0s 1ms/step - loss: 0.0126\n",
      "Epoch 98/100\n",
      "268/268 [==============================] - 0s 1ms/step - loss: 0.0191\n",
      "Epoch 99/100\n",
      "268/268 [==============================] - 0s 1ms/step - loss: 0.0341\n",
      "Epoch 100/100\n",
      "268/268 [==============================] - 0s 1ms/step - loss: 0.0554\n",
      "266/266 [==============================] - 1s 4ms/step\n",
      "Epoch 1/100\n",
      "534/534 [==============================] - 2s 5ms/step - loss: 35.9328\n",
      "Epoch 2/100\n",
      "534/534 [==============================] - 1s 995us/step - loss: 15.4222\n",
      "Epoch 3/100\n",
      "534/534 [==============================] - 1s 1ms/step - loss: 7.6578\n",
      "Epoch 4/100\n",
      "534/534 [==============================] - 1s 1ms/step - loss: 5.6894\n",
      "Epoch 5/100\n",
      "534/534 [==============================] - 1s 1ms/step - loss: 4.6119\n",
      "Epoch 6/100\n",
      "534/534 [==============================] - 1s 1ms/step - loss: 3.7986\n",
      "Epoch 7/100\n",
      "534/534 [==============================] - 1s 1ms/step - loss: 3.2066\n",
      "Epoch 8/100\n",
      "534/534 [==============================] - 1s 1ms/step - loss: 2.7508\n",
      "Epoch 9/100\n",
      "534/534 [==============================] - 1s 1ms/step - loss: 2.3499\n",
      "Epoch 10/100\n",
      "534/534 [==============================] - 1s 1ms/step - loss: 2.0388\n",
      "Epoch 11/100\n",
      "534/534 [==============================] - 1s 1ms/step - loss: 1.7459\n",
      "Epoch 12/100\n",
      "534/534 [==============================] - 1s 1ms/step - loss: 1.4753\n",
      "Epoch 13/100\n",
      "534/534 [==============================] - 1s 1ms/step - loss: 1.2906\n",
      "Epoch 14/100\n",
      "534/534 [==============================] - 1s 1ms/step - loss: 1.1084\n",
      "Epoch 15/100\n",
      "534/534 [==============================] - 1s 1ms/step - loss: 0.9500\n",
      "Epoch 16/100\n",
      "534/534 [==============================] - 1s 1ms/step - loss: 0.8207\n",
      "Epoch 17/100\n",
      "534/534 [==============================] - 1s 1ms/step - loss: 0.6915\n",
      "Epoch 18/100\n",
      "534/534 [==============================] - 1s 1ms/step - loss: 0.5994\n",
      "Epoch 19/100\n",
      "534/534 [==============================] - 1s 1ms/step - loss: 0.5085\n",
      "Epoch 20/100\n",
      "534/534 [==============================] - 1s 1ms/step - loss: 0.4214\n",
      "Epoch 21/100\n",
      "534/534 [==============================] - 1s 1ms/step - loss: 0.3467\n",
      "Epoch 22/100\n",
      "534/534 [==============================] - 1s 1ms/step - loss: 0.2909\n",
      "Epoch 23/100\n",
      "534/534 [==============================] - 1s 1ms/step - loss: 0.2506\n",
      "Epoch 24/100\n",
      "534/534 [==============================] - 1s 1ms/step - loss: 0.2122\n",
      "Epoch 25/100\n",
      "534/534 [==============================] - 1s 1ms/step - loss: 0.1679\n",
      "Epoch 26/100\n",
      "534/534 [==============================] - 1s 1ms/step - loss: 0.1386\n",
      "Epoch 27/100\n",
      "534/534 [==============================] - 1s 1ms/step - loss: 0.1127\n",
      "Epoch 28/100\n",
      "534/534 [==============================] - 1s 1ms/step - loss: 0.0984\n",
      "Epoch 29/100\n",
      "534/534 [==============================] - 1s 1ms/step - loss: 0.0866\n",
      "Epoch 30/100\n",
      "534/534 [==============================] - 1s 1ms/step - loss: 0.0718\n",
      "Epoch 31/100\n",
      "534/534 [==============================] - 1s 1ms/step - loss: 0.0597\n",
      "Epoch 32/100\n",
      "534/534 [==============================] - 1s 1ms/step - loss: 0.0549\n",
      "Epoch 33/100\n",
      "534/534 [==============================] - 1s 1ms/step - loss: 0.0485\n",
      "Epoch 34/100\n",
      "534/534 [==============================] - ETA: 0s - loss: 0.048 - 1s 1ms/step - loss: 0.0489\n",
      "Epoch 35/100\n",
      "534/534 [==============================] - 1s 1ms/step - loss: 0.0530\n",
      "Epoch 36/100\n",
      "534/534 [==============================] - 1s 950us/step - loss: 0.0539\n",
      "Epoch 37/100\n",
      "534/534 [==============================] - 1s 1ms/step - loss: 0.0530\n",
      "Epoch 38/100\n",
      "534/534 [==============================] - 1s 961us/step - loss: 0.0623\n",
      "Epoch 39/100\n",
      "534/534 [==============================] - 1s 1ms/step - loss: 0.0784\n",
      "Epoch 40/100\n",
      "534/534 [==============================] - 1s 965us/step - loss: 0.0757\n",
      "Epoch 41/100\n",
      "534/534 [==============================] - 1s 1ms/step - loss: 0.0745\n",
      "Epoch 42/100\n",
      "534/534 [==============================] - 1s 973us/step - loss: 0.1034\n",
      "Epoch 43/100\n",
      "534/534 [==============================] - 1s 1ms/step - loss: 0.1169\n",
      "Epoch 44/100\n",
      "534/534 [==============================] - 1s 1ms/step - loss: 0.1032\n",
      "Epoch 45/100\n",
      "534/534 [==============================] - 1s 995us/step - loss: 0.0886\n",
      "Epoch 46/100\n",
      "534/534 [==============================] - 1s 991us/step - loss: 0.0624\n",
      "Epoch 47/100\n",
      "534/534 [==============================] - 1s 1ms/step - loss: 0.0521\n",
      "Epoch 48/100\n",
      "534/534 [==============================] - 1s 1ms/step - loss: 0.0486\n",
      "Epoch 49/100\n",
      "534/534 [==============================] - 1s 963us/step - loss: 0.0464\n",
      "Epoch 50/100\n",
      "534/534 [==============================] - 1s 1ms/step - loss: 0.0487\n",
      "Epoch 51/100\n",
      "534/534 [==============================] - 1s 959us/step - loss: 0.0649\n",
      "Epoch 52/100\n",
      "534/534 [==============================] - 1s 1ms/step - loss: 0.0681\n",
      "Epoch 53/100\n",
      "534/534 [==============================] - 1s 950us/step - loss: 0.0873\n",
      "Epoch 54/100\n",
      "534/534 [==============================] - 1s 1ms/step - loss: 0.0944\n",
      "Epoch 55/100\n",
      "534/534 [==============================] - 1s 967us/step - loss: 0.0967\n",
      "Epoch 56/100\n",
      "534/534 [==============================] - 1s 1ms/step - loss: 0.0903\n",
      "Epoch 57/100\n",
      "534/534 [==============================] - 1s 988us/step - loss: 0.0875\n",
      "Epoch 58/100\n",
      "534/534 [==============================] - 1s 1ms/step - loss: 0.0870\n",
      "Epoch 59/100\n",
      "534/534 [==============================] - 1s 997us/step - loss: 0.1002\n",
      "Epoch 60/100\n",
      "534/534 [==============================] - 1s 967us/step - loss: 0.1550\n",
      "Epoch 61/100\n",
      "534/534 [==============================] - 1s 1ms/step - loss: 0.1098\n",
      "Epoch 62/100\n",
      "534/534 [==============================] - 1s 956us/step - loss: 0.0696\n",
      "Epoch 63/100\n",
      "534/534 [==============================] - 1s 1ms/step - loss: 0.0700\n",
      "Epoch 64/100\n",
      "534/534 [==============================] - 1s 950us/step - loss: 0.0668\n",
      "Epoch 65/100\n",
      "534/534 [==============================] - 1s 1ms/step - loss: 0.0608\n",
      "Epoch 66/100\n",
      "534/534 [==============================] - 1s 984us/step - loss: 0.0593\n",
      "Epoch 67/100\n",
      "534/534 [==============================] - 1s 1ms/step - loss: 0.0651\n",
      "Epoch 68/100\n",
      "534/534 [==============================] - 1s 1ms/step - loss: 0.0744\n",
      "Epoch 69/100\n",
      "534/534 [==============================] - 1s 1ms/step - loss: 0.0706\n",
      "Epoch 70/100\n",
      "534/534 [==============================] - 1s 1ms/step - loss: 0.0661\n",
      "Epoch 71/100\n",
      "534/534 [==============================] - 1s 975us/step - loss: 0.0674\n",
      "Epoch 72/100\n",
      "534/534 [==============================] - 1s 1ms/step - loss: 0.0771\n",
      "Epoch 73/100\n",
      "534/534 [==============================] - 0s 931us/step - loss: 0.0781\n",
      "Epoch 74/100\n",
      "534/534 [==============================] - 1s 1ms/step - loss: 0.0667\n",
      "Epoch 75/100\n",
      "534/534 [==============================] - 1s 958us/step - loss: 0.0747\n",
      "Epoch 76/100\n",
      "534/534 [==============================] - 1s 1ms/step - loss: 0.0916\n",
      "Epoch 77/100\n",
      "534/534 [==============================] - 1s 980us/step - loss: 0.0893\n",
      "Epoch 78/100\n",
      "534/534 [==============================] - 1s 1ms/step - loss: 0.0840\n",
      "Epoch 79/100\n",
      "534/534 [==============================] - 1s 965us/step - loss: 0.0806\n",
      "Epoch 80/100\n",
      "534/534 [==============================] - 1s 1ms/step - loss: 0.0848\n",
      "Epoch 81/100\n",
      "534/534 [==============================] - 1s 1ms/step - loss: 0.0751\n",
      "Epoch 82/100\n",
      "534/534 [==============================] - 1s 1ms/step - loss: 0.0667\n",
      "Epoch 83/100\n",
      "534/534 [==============================] - 1s 1ms/step - loss: 0.0736\n",
      "Epoch 84/100\n",
      "534/534 [==============================] - 1s 1ms/step - loss: 0.0612\n",
      "Epoch 85/100\n",
      "534/534 [==============================] - 1s 1ms/step - loss: 0.0581\n",
      "Epoch 86/100\n",
      "534/534 [==============================] - 1s 1ms/step - loss: 0.0501\n",
      "Epoch 87/100\n",
      "534/534 [==============================] - 1s 1ms/step - loss: 0.0523\n",
      "Epoch 88/100\n",
      "534/534 [==============================] - 1s 1ms/step - loss: 0.0497\n",
      "Epoch 89/100\n",
      "534/534 [==============================] - 1s 1ms/step - loss: 0.0533\n",
      "Epoch 90/100\n",
      "534/534 [==============================] - 1s 1ms/step - loss: 0.0484\n",
      "Epoch 91/100\n",
      "534/534 [==============================] - 1s 1ms/step - loss: 0.0487\n",
      "Epoch 92/100\n",
      "534/534 [==============================] - 1s 1ms/step - loss: 0.0588\n",
      "Epoch 93/100\n",
      "534/534 [==============================] - 1s 1ms/step - loss: 0.0763\n",
      "Epoch 94/100\n",
      "534/534 [==============================] - 1s 1ms/step - loss: 0.0884\n",
      "Epoch 95/100\n",
      "534/534 [==============================] - 1s 1ms/step - loss: 0.0804\n",
      "Epoch 96/100\n"
     ]
    },
    {
     "name": "stdout",
     "output_type": "stream",
     "text": [
      "534/534 [==============================] - 1s 1ms/step - loss: 0.0613\n",
      "Epoch 97/100\n",
      "534/534 [==============================] - 1s 1ms/step - loss: 0.0660\n",
      "Epoch 98/100\n",
      "534/534 [==============================] - 1s 1ms/step - loss: 0.0607\n",
      "Epoch 99/100\n",
      "534/534 [==============================] - 1s 1ms/step - loss: 0.0463\n",
      "Epoch 100/100\n",
      "534/534 [==============================] - 1s 1ms/step - loss: 0.0582\n",
      "266/266 [==============================] - 1s 4ms/step\n",
      "Wider: -11.74 (0.43) MSE\n"
     ]
    }
   ],
   "source": [
    "np.random.seed(seed)\n",
    "estimators = []\n",
    "estimators.append(('standardize', StandardScaler()))\n",
    "estimators.append(('mlp', KerasRegressor(build_fn=wider_model, epochs=100, batch_size=5, verbose=1)))\n",
    "pipeline = Pipeline(estimators)\n",
    "#kfold = KFold(n_splits=10, random_state=seed)\n",
    "results = cross_val_score(pipeline, X, Y, cv=kfold, n_jobs=1)\n",
    "print(\"Wider: %.2f (%.2f) MSE\" % (results.mean(), results.std()))"
   ]
  },
  {
   "cell_type": "code",
   "execution_count": 135,
   "metadata": {
    "_cell_guid": "5d53155c-82d6-4048-b739-5a0521bcde90",
    "_uuid": "e106fc77dac08f6a3faa9520f44d4e90936c4299"
   },
   "outputs": [
    {
     "data": {
      "text/plain": [
       "array([-1.55653163, -1.63254036, -2.13038876, -1.845678  , -1.54794455])"
      ]
     },
     "execution_count": 135,
     "metadata": {},
     "output_type": "execute_result"
    }
   ],
   "source": [
    "results"
   ]
  }
 ],
 "metadata": {
  "kernelspec": {
   "display_name": "Python 3",
   "language": "python",
   "name": "python3"
  },
  "language_info": {
   "codemirror_mode": {
    "name": "ipython",
    "version": 3
   },
   "file_extension": ".py",
   "mimetype": "text/x-python",
   "name": "python",
   "nbconvert_exporter": "python",
   "pygments_lexer": "ipython3",
   "version": "3.6.3"
  }
 },
 "nbformat": 4,
 "nbformat_minor": 1
}
