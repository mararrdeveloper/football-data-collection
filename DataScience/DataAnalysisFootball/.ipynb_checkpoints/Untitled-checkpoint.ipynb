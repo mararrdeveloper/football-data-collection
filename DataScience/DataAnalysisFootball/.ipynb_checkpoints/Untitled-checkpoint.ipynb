{
 "cells": [
  {
   "cell_type": "code",
   "execution_count": null,
   "metadata": {},
   "outputs": [],
   "source": [
    "#importing libraries\n",
    "from sklearn.datasets import load_boston\n",
    "import pandas as pd\n",
    "import numpy as np\n",
    "import matplotlib\n",
    "import matplotlib.pyplot as plt\n",
    "import seaborn as sns\n",
    "import statsmodels.api as sm\n",
    "%matplotlib inline\n",
    "from sklearn.model_selection import train_test_split\n",
    "from sklearn.linear_model import LinearRegression\n",
    "from sklearn.feature_selection import RFE\n",
    "from sklearn.linear_model import RidgeCV, LassoCV, Ridge, Lasso\n",
    "#Loading the dataset\n",
    "\n",
    "target_column = \"FTR\"\n",
    "drop_columns.remove(target_column)\n",
    "x,y = load_data(columns_to_drop=drop_columns, is_training=True, target_name=target_column)"
   ]
  },
  {
   "cell_type": "code",
   "execution_count": null,
   "metadata": {},
   "outputs": [],
   "source": [
    "keep_columns =  ['IsTraining','FTR', 'Div', 'Date', 'HomeTeam', 'AwayTeam', \n",
    "    'away_away_team_corners_against', 'away_away_team_corners_for',\t'away_away_team_goals_against',\t'away_away_team_goals_for',\t\n",
    "    'away_away_team_possession',\t'away_away_team_shotsoff_against',\t'away_away_team_shotsoff_for',\t'away_away_team_shotson_against',\n",
    "    \t'away_away_team_shotson_for',\t'away_direct_team_corners_against',\t'away_direct_team_corners_for',\t'away_direct_team_goals_against',\n",
    "        'away_direct_team_goals_for',\t'away_direct_team_possession',\t'away_direct_team_shotsoff_against',\t'away_direct_team_shotsoff_for',\n",
    "        'away_direct_team_shotson_against',\t'away_direct_team_shotson_for',\t'home_direct_team_corners_against',\t'home_direct_team_corners_for',\t\n",
    "        'home_direct_team_goals_against',\t'home_direct_team_goals_for',\t'home_direct_team_possession',\t'home_direct_team_shotsoff_against',\n",
    "        'home_direct_team_shotsoff_for',\t'home_direct_team_shotson_against',\t'home_direct_team_shotson_for',\t\n",
    "        'home_home_team_corners_against',\t'home_home_team_corners_for',\t'home_home_team_goals_against',\t'home_home_team_goals_for',\t\n",
    "        'home_home_team_possession',\t'home_home_team_shotsoff_against',\t'home_home_team_shotsoff_for',\t'home_home_team_shotson_against',\n",
    "                 'home_home_team_shotson_for','Referee' \n",
    "]\n",
    " \n",
    "drop_columns = [\n",
    "    'B365H', 'B365D', 'B365A',\n",
    "    'AC', 'AF', 'AR', 'AS', 'AST', 'AY', \n",
    "    'BWA', 'BWD', 'BWH', 'Bb1X2', 'BbAH', 'BbAHh', 'BbAv<2.5', 'BbAv>2.5', 'BbAvA', 'BbAvAHA', \n",
    "    'BbAvAHH', 'BbAvD', 'BbAvH', 'BbMx<2.5', 'BbMx>2.5', 'BbMxA', 'BbMxAHA', 'BbMxAHH', 'BbMxD',\n",
    "    'BbMxH', 'BbOU', 'FTAG', \n",
    "    'HC', 'HF', 'HR', 'HS', 'HST', \n",
    "    'HTAG', 'HTHG', 'HTR', 'HY', 'IWA', 'IWD', 'IWH', \n",
    "    'LBA', 'LBD', 'LBH', 'PSA', 'PSCA', 'PSCD', 'PSCH', 'PSD', 'PSH', \n",
    "    'VCA', 'VCD', 'VCH', 'WHA', 'WHD', 'WHH', 'GoalFirstHalf', 'SHHG', 'SHAG', 'GoalSecondHalf','FTR','BothToScore',\n",
    "]\n",
    "\n",
    "#\n",
    "target_column = \"FTR\"\n",
    "drop_columns.remove(target_column)\n",
    "X,y = load_data(columns_to_drop=drop_columns, is_training=True, target_name=target_column)"
   ]
  }
 ],
 "metadata": {
  "kernelspec": {
   "display_name": "Python 3",
   "language": "python",
   "name": "python3"
  },
  "language_info": {
   "codemirror_mode": {
    "name": "ipython",
    "version": 3
   },
   "file_extension": ".py",
   "mimetype": "text/x-python",
   "name": "python",
   "nbconvert_exporter": "python",
   "pygments_lexer": "ipython3",
   "version": "3.6.5"
  }
 },
 "nbformat": 4,
 "nbformat_minor": 2
}
