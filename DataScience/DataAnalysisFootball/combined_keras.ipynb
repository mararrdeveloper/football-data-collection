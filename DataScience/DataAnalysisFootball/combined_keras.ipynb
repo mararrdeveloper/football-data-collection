{
 "cells": [
  {
   "cell_type": "code",
   "execution_count": 2,
   "metadata": {
    "collapsed": true
   },
   "outputs": [],
   "source": [
    "import pandas as pd\n",
    "import numpy as np\n",
    "from helpers import calibrate_train_clfs, load_data, get_baseline, print_results, run_clf"
   ]
  },
  {
   "cell_type": "code",
   "execution_count": 3,
   "metadata": {},
   "outputs": [
    {
     "name": "stdout",
     "output_type": "stream",
     "text": [
      "KEEEP\n",
      "LENGTH1180\n"
     ]
    }
   ],
   "source": [
    "keep_columns =  ['IsTraining','FTR', 'Div', 'Date', 'HomeTeam', 'AwayTeam', \n",
    "    'away_away_team_corners_against', 'away_away_team_corners_for',\t'away_away_team_goals_against',\t'away_away_team_goals_for',\t\n",
    "    'away_away_team_possession',\t'away_away_team_shotsoff_against',\t'away_away_team_shotsoff_for',\t'away_away_team_shotson_against',\n",
    "    \t'away_away_team_shotson_for',\t'away_direct_team_corners_against',\t'away_direct_team_corners_for',\t'away_direct_team_goals_against',\n",
    "        'away_direct_team_goals_for',\t'away_direct_team_possession',\t'away_direct_team_shotsoff_against',\t'away_direct_team_shotsoff_for',\n",
    "        'away_direct_team_shotson_against',\t'away_direct_team_shotson_for',\t'home_direct_team_corners_against',\t'home_direct_team_corners_for',\t\n",
    "        'home_direct_team_goals_against',\t'home_direct_team_goals_for',\t'home_direct_team_possession',\t'home_direct_team_shotsoff_against',\n",
    "        'home_direct_team_shotsoff_for',\t'home_direct_team_shotson_against',\t'home_direct_team_shotson_for',\t\n",
    "        'home_home_team_corners_against',\t'home_home_team_corners_for',\t'home_home_team_goals_against',\t'home_home_team_goals_for',\t\n",
    "        'home_home_team_possession',\t'home_home_team_shotsoff_against',\t'home_home_team_shotsoff_for',\t'home_home_team_shotson_against',\n",
    "                 'home_home_team_shotson_for','Referee' \n",
    "]\n",
    " \n",
    "drop_columns = [\n",
    "    'B365H', 'B365D', 'B365A',\n",
    "    'AC', 'AF', 'AR', 'AS', 'AST', 'AY', \n",
    "    'BWA', 'BWD', 'BWH', 'Bb1X2', 'BbAH', 'BbAHh', 'BbAv<2.5', 'BbAv>2.5', 'BbAvA', 'BbAvAHA', \n",
    "    'BbAvAHH', 'BbAvD', 'BbAvH', 'BbMx<2.5', 'BbMx>2.5', 'BbMxA', 'BbMxAHA', 'BbMxAHH', 'BbMxD',\n",
    "    'BbMxH', 'BbOU', 'FTAG', \n",
    "    'HC', 'HF', 'HR', 'HS', 'HST', \n",
    "    'HTAG', 'HTHG', 'HTR', 'HY', 'IWA', 'IWD', 'IWH', \n",
    "    'LBA', 'LBD', 'LBH', 'PSA', 'PSCA', 'PSCD', 'PSCH', 'PSD', 'PSH', \n",
    "    'VCA', 'VCD', 'VCH', 'WHA', 'WHD', 'WHH', 'GoalFirstHalf', 'SHHG', 'SHAG', 'GoalSecondHalf','FTR','BothToScore',\n",
    "]\n",
    "\n",
    "#\n",
    "target_column = \"FTR\"\n",
    "drop_columns.remove(target_column)\n",
    "X,y = load_data(columns_to_drop=drop_columns, is_training=True, target_name=target_column)"
   ]
  },
  {
   "cell_type": "code",
   "execution_count": null,
   "metadata": {
    "collapsed": true
   },
   "outputs": [],
   "source": []
  },
  {
   "cell_type": "code",
   "execution_count": 4,
   "metadata": {
    "scrolled": true
   },
   "outputs": [
    {
     "data": {
      "text/plain": [
       "pandas.core.series.Series"
      ]
     },
     "execution_count": 4,
     "metadata": {},
     "output_type": "execute_result"
    }
   ],
   "source": [
    "type(y)"
   ]
  },
  {
   "cell_type": "code",
   "execution_count": 5,
   "metadata": {},
   "outputs": [
    {
     "name": "stderr",
     "output_type": "stream",
     "text": [
      "C:\\Users\\martin\\Anaconda3\\lib\\site-packages\\h5py\\__init__.py:34: FutureWarning: Conversion of the second argument of issubdtype from `float` to `np.floating` is deprecated. In future, it will be treated as `np.float64 == np.dtype(float).type`.\n",
      "  from ._conv import register_converters as _register_converters\n",
      "Using TensorFlow backend.\n"
     ]
    }
   ],
   "source": [
    "import numpy\n",
    "import pandas\n",
    "import keras\n",
    "from keras.models import Sequential\n",
    "from keras.layers import Dense\n",
    "from keras.wrappers.scikit_learn import KerasClassifier, KerasRegressor\n",
    "from keras.utils import np_utils\n",
    "from keras.layers import Bidirectional, LSTM\n",
    "from keras.initializers import glorot_normal\n",
    "\n",
    "from sklearn.model_selection import cross_val_score, train_test_split, TimeSeriesSplit\n",
    "from sklearn.model_selection import KFold\n",
    "from sklearn.preprocessing import LabelEncoder\n",
    "from sklearn.pipeline import Pipeline"
   ]
  },
  {
   "cell_type": "code",
   "execution_count": 6,
   "metadata": {},
   "outputs": [],
   "source": [
    "y=y.values\n",
    "X=X.values\n",
    "\n",
    "encoder = LabelEncoder()\n",
    "encoder.fit(y)\n",
    "encoded_Y = encoder.transform(y)\n",
    "# convert integers to dummy variables (i.e. one hot encoded)\n",
    "dummy_y = np_utils.to_categorical(encoded_Y)\n"
   ]
  },
  {
   "cell_type": "code",
   "execution_count": 7,
   "metadata": {
    "collapsed": true
   },
   "outputs": [],
   "source": [
    "from keras import backend as K\n",
    "def recall_m(y_true, y_pred):\n",
    "        true_positives = K.sum(K.round(K.clip(y_true * y_pred, 0, 1)))\n",
    "        possible_positives = K.sum(K.round(K.clip(y_true, 0, 1)))\n",
    "        recall = true_positives / (possible_positives + K.epsilon())\n",
    "        return recall\n",
    "\n",
    "def precision_m(y_true, y_pred):\n",
    "        true_positives = K.sum(K.round(K.clip(y_true * y_pred, 0, 1)))\n",
    "        predicted_positives = K.sum(K.round(K.clip(y_pred, 0, 1)))\n",
    "        precision = true_positives / (predicted_positives + K.epsilon())\n",
    "        return precision\n",
    "def f1_m(y_true, y_pred):\n",
    "    precision = precision_m(y_true, y_pred)\n",
    "    recall = recall_m(y_true, y_pred)\n",
    "    return 2*((precision*recall)/(precision+recall+K.epsilon()))\n",
    "\n",
    "def baseline_model():\n",
    "    # create model\n",
    "    model = Sequential()\n",
    "    model.add(Dense(12,  activation='relu')) # input_dim=314,\n",
    "#   model.add(Bidirectional(LSTM(256,  return_sequences=True, dropout=0.1, recurrent_dropout=0.1,kernel_initializer=glorot_normal(seed=None)),name = 'BDLSTM1')) #Best = 300,0.25,0.25\n",
    "#    model.add(Dense(8, activation='relu'))\n",
    "#    model.add(Dense(1, activation='linear'))\n",
    "    model.add(Dense(3, activation='softmax'))\n",
    "#     # Compile model\n",
    "    model.compile(loss='categorical_crossentropy', optimizer='adam', metrics=['accuracy', 'mae', 'mse', f1_m], verbose=1)\n",
    "    #model.compile(loss='mse', optimizer='adam', metrics=['mse','mae']) \n",
    "    return model\n",
    "estimator = KerasClassifier(build_fn=baseline_model, epochs=10, batch_size=2, verbose=1)"
   ]
  },
  {
   "cell_type": "code",
   "execution_count": null,
   "metadata": {},
   "outputs": [
    {
     "name": "stdout",
     "output_type": "stream",
     "text": [
      "Epoch 1/10\n"
     ]
    }
   ],
   "source": [
    "# #seed = 7\n",
    "# #numpy.random.seed(seed)\n",
    "# from sklearn.model_selection import TimeSeriesSplit\n",
    "tscv = TimeSeriesSplit(n_splits=3)# max_train_size=100\n",
    "# for train_index, test_index in tscv.split(X):\n",
    "#     print(\"TRAIN:\", train_index.shape, \"TEST:\", test_index.shape)\n",
    "#     X_train, X_test = X[train_index], X[test_index]\n",
    "#     y_train, y_test = y[train_index], y[test_index]\n",
    "\n",
    "# #kfold = KFold(n_splits=10)\n",
    "# # shuffle=True, random_state=seed\n",
    "results = cross_val_score(estimator, X, dummy_y, cv=tscv.split(X))"
   ]
  },
  {
   "cell_type": "code",
   "execution_count": 13,
   "metadata": {
    "scrolled": true
   },
   "outputs": [
    {
     "ename": "NameError",
     "evalue": "name 'results' is not defined",
     "output_type": "error",
     "traceback": [
      "\u001b[1;31m---------------------------------------------------------------------------\u001b[0m",
      "\u001b[1;31mNameError\u001b[0m                                 Traceback (most recent call last)",
      "\u001b[1;32m<ipython-input-13-100f62972f2f>\u001b[0m in \u001b[0;36m<module>\u001b[1;34m\u001b[0m\n\u001b[1;32m----> 1\u001b[1;33m \u001b[0mresults\u001b[0m\u001b[1;33m\u001b[0m\u001b[0m\n\u001b[0m",
      "\u001b[1;31mNameError\u001b[0m: name 'results' is not defined"
     ]
    }
   ],
   "source": [
    "results"
   ]
  },
  {
   "cell_type": "code",
   "execution_count": 14,
   "metadata": {},
   "outputs": [
    {
     "ename": "NameError",
     "evalue": "name 'results' is not defined",
     "output_type": "error",
     "traceback": [
      "\u001b[1;31m---------------------------------------------------------------------------\u001b[0m",
      "\u001b[1;31mNameError\u001b[0m                                 Traceback (most recent call last)",
      "\u001b[1;32m<ipython-input-14-9ae7dacefb48>\u001b[0m in \u001b[0;36m<module>\u001b[1;34m\u001b[0m\n\u001b[0;32m      1\u001b[0m \u001b[1;32mimport\u001b[0m \u001b[0mstatistics\u001b[0m\u001b[1;33m\u001b[0m\u001b[0m\n\u001b[1;32m----> 2\u001b[1;33m \u001b[0mx\u001b[0m \u001b[1;33m=\u001b[0m \u001b[0mstatistics\u001b[0m\u001b[1;33m.\u001b[0m\u001b[0mmean\u001b[0m\u001b[1;33m(\u001b[0m\u001b[0mresults\u001b[0m\u001b[1;33m)\u001b[0m\u001b[1;33m\u001b[0m\u001b[0m\n\u001b[0m\u001b[0;32m      3\u001b[0m \u001b[0mx\u001b[0m\u001b[1;33m\u001b[0m\u001b[0m\n",
      "\u001b[1;31mNameError\u001b[0m: name 'results' is not defined"
     ]
    }
   ],
   "source": [
    "import statistics \n",
    "x = statistics.mean(results)\n",
    "x"
   ]
  },
  {
   "cell_type": "code",
   "execution_count": 15,
   "metadata": {
    "collapsed": true
   },
   "outputs": [],
   "source": [
    "X_train_calibrate, X_test, y_train_calibrate, y_test = train_test_split(X, y, test_size=0.20)\n",
    "X_train, X_calibrate, y_train, y_calibrate = train_test_split(X_train_calibrate, y_train_calibrate, test_size = 0.3, random_state = 42)"
   ]
  },
  {
   "cell_type": "code",
   "execution_count": 16,
   "metadata": {},
   "outputs": [
    {
     "ename": "NameError",
     "evalue": "name 'dummy_y' is not defined",
     "output_type": "error",
     "traceback": [
      "\u001b[1;31m---------------------------------------------------------------------------\u001b[0m",
      "\u001b[1;31mNameError\u001b[0m                                 Traceback (most recent call last)",
      "\u001b[1;32m<ipython-input-16-de0b1b3124f3>\u001b[0m in \u001b[0;36m<module>\u001b[1;34m\u001b[0m\n\u001b[0;32m      1\u001b[0m \u001b[0mmodel\u001b[0m \u001b[1;33m=\u001b[0m \u001b[0mbaseline_model\u001b[0m\u001b[1;33m(\u001b[0m\u001b[1;33m)\u001b[0m\u001b[1;33m\u001b[0m\u001b[0m\n\u001b[1;32m----> 2\u001b[1;33m \u001b[0mmodel\u001b[0m\u001b[1;33m.\u001b[0m\u001b[0mfit\u001b[0m\u001b[1;33m(\u001b[0m\u001b[0mX\u001b[0m\u001b[1;33m,\u001b[0m \u001b[0mdummy_y\u001b[0m\u001b[1;33m,\u001b[0m \u001b[0mnb_epoch\u001b[0m\u001b[1;33m=\u001b[0m\u001b[1;36m30\u001b[0m\u001b[1;33m,\u001b[0m \u001b[0mbatch_size\u001b[0m\u001b[1;33m=\u001b[0m\u001b[1;36m10\u001b[0m\u001b[1;33m,\u001b[0m \u001b[0mvalidation_split\u001b[0m\u001b[1;33m=\u001b[0m\u001b[1;36m0.2\u001b[0m\u001b[1;33m,\u001b[0m \u001b[0mverbose\u001b[0m\u001b[1;33m=\u001b[0m\u001b[1;36m1\u001b[0m\u001b[1;33m)\u001b[0m\u001b[1;33m\u001b[0m\u001b[0m\n\u001b[0m",
      "\u001b[1;31mNameError\u001b[0m: name 'dummy_y' is not defined"
     ]
    }
   ],
   "source": [
    "model = baseline_model()\n",
    "model.fit(X, dummy_y, nb_epoch=30, batch_size=10, validation_split=0.2, verbose=1)"
   ]
  },
  {
   "cell_type": "code",
   "execution_count": 17,
   "metadata": {},
   "outputs": [
    {
     "data": {
      "text/plain": [
       "array([[5.40943325e-01, 4.59051043e-01, 5.63213644e-06],\n",
       "       [4.89747226e-01, 5.10252655e-01, 1.57696221e-07],\n",
       "       [3.87462080e-01, 6.12536609e-01, 1.25861368e-06],\n",
       "       [9.44328308e-01, 5.56714162e-02, 3.15288446e-07],\n",
       "       [9.54535842e-01, 4.54641990e-02, 2.56716781e-09],\n",
       "       [5.46354381e-03, 3.50175016e-02, 9.59518969e-01],\n",
       "       [8.17269266e-01, 1.82730675e-01, 1.54837405e-08],\n",
       "       [2.13941976e-01, 7.86058009e-01, 8.05108868e-08],\n",
       "       [8.89203012e-01, 1.10795885e-01, 1.09787231e-06],\n",
       "       [6.88383698e-01, 3.11616272e-01, 8.17834760e-08],\n",
       "       [3.79423499e-01, 6.20576501e-01, 3.53568108e-09],\n",
       "       [6.08587384e-01, 3.91412079e-01, 5.24746611e-07],\n",
       "       [8.47293258e-01, 1.52706727e-01, 1.04482301e-09],\n",
       "       [8.94599080e-01, 1.05400935e-01, 7.45281525e-09],\n",
       "       [7.76467443e-01, 2.23532408e-01, 1.73402213e-07],\n",
       "       [1.35955825e-01, 8.64044011e-01, 1.75959173e-07],\n",
       "       [9.73133028e-01, 2.68670116e-02, 8.33837532e-09],\n",
       "       [9.87220168e-01, 1.27797807e-02, 1.33854638e-09],\n",
       "       [7.30971573e-03, 9.92648184e-01, 4.20670949e-05],\n",
       "       [9.83275354e-01, 1.67246722e-02, 1.17929888e-10],\n",
       "       [9.39909935e-01, 6.00900427e-02, 4.39028452e-10],\n",
       "       [7.88884103e-01, 2.11115822e-01, 3.69512101e-08],\n",
       "       [9.84770954e-01, 1.52290724e-02, 1.50591400e-10],\n",
       "       [9.80435371e-01, 1.95645764e-02, 3.30512400e-08],\n",
       "       [9.38381910e-01, 6.16180785e-02, 3.92169230e-09],\n",
       "       [9.75198090e-01, 2.48019435e-02, 3.13645949e-11],\n",
       "       [6.35570168e-01, 3.64429802e-01, 5.98967915e-08],\n",
       "       [9.25103486e-01, 7.48965517e-02, 9.20282406e-10],\n",
       "       [9.25185502e-01, 7.48145282e-02, 2.46379112e-10],\n",
       "       [5.95315099e-01, 4.04653072e-01, 3.18796883e-05],\n",
       "       [8.79569054e-01, 1.20430939e-01, 1.44303891e-09],\n",
       "       [9.64405715e-01, 3.55942883e-02, 2.50786725e-10],\n",
       "       [9.70195830e-01, 2.98041981e-02, 5.63149027e-10],\n",
       "       [7.94950902e-01, 2.05049083e-01, 2.61627431e-09],\n",
       "       [9.23864305e-01, 7.61357024e-02, 1.05649089e-09],\n",
       "       [9.93028939e-01, 6.97103655e-03, 8.67271463e-11],\n",
       "       [9.59450185e-01, 4.05498669e-02, 6.48107568e-09],\n",
       "       [9.90727544e-01, 9.27246269e-03, 1.05042043e-11],\n",
       "       [9.63236392e-01, 3.67636234e-02, 7.09890591e-10],\n",
       "       [9.91553187e-01, 8.44682939e-03, 9.75392545e-10],\n",
       "       [9.79456961e-01, 2.05430966e-02, 2.48606968e-10],\n",
       "       [8.51012245e-02, 9.14895594e-01, 3.16815522e-06],\n",
       "       [9.96646583e-01, 3.35343741e-03, 8.75507219e-12],\n",
       "       [9.92900968e-01, 7.09897839e-03, 1.73909272e-11],\n",
       "       [8.34443331e-01, 1.65556610e-01, 1.05917650e-10],\n",
       "       [8.78740847e-01, 1.21259123e-01, 2.70670875e-10],\n",
       "       [9.80748951e-01, 1.92510709e-02, 2.04037585e-11],\n",
       "       [8.79355133e-01, 1.20644860e-01, 1.06509113e-09],\n",
       "       [9.94450450e-01, 5.54949045e-03, 2.27141808e-12],\n",
       "       [9.93988156e-01, 6.01188792e-03, 3.68581693e-11],\n",
       "       [9.86112714e-01, 1.38872806e-02, 9.03337041e-12],\n",
       "       [9.96416390e-01, 3.58360773e-03, 2.33146818e-11],\n",
       "       [9.73652482e-01, 2.63475478e-02, 1.08986020e-09],\n",
       "       [9.96877789e-01, 3.12221772e-03, 1.44695196e-13],\n",
       "       [1.40321910e-01, 8.59667659e-01, 1.03996517e-05],\n",
       "       [9.98752475e-01, 1.24754605e-03, 8.44974535e-13],\n",
       "       [9.94357884e-01, 5.64216031e-03, 1.41512427e-10],\n",
       "       [9.91680682e-01, 8.31933413e-03, 1.18296978e-11],\n",
       "       [9.66494918e-01, 3.35050970e-02, 1.33737917e-11],\n",
       "       [1.93227470e-01, 8.06761980e-01, 1.06089883e-05],\n",
       "       [9.78739738e-01, 2.12602690e-02, 1.18327050e-11],\n",
       "       [9.61088061e-01, 3.89119647e-02, 8.80212347e-10],\n",
       "       [9.98097479e-01, 1.90253928e-03, 7.70260071e-12],\n",
       "       [9.43144500e-01, 5.68555146e-02, 3.38104544e-10],\n",
       "       [9.96794403e-01, 3.20561905e-03, 1.33309292e-11],\n",
       "       [6.24551177e-01, 3.75448823e-01, 2.92911757e-08],\n",
       "       [9.81626391e-01, 1.83736198e-02, 2.77913026e-10],\n",
       "       [9.96611297e-01, 3.38868145e-03, 7.53222137e-12],\n",
       "       [9.92666125e-01, 7.33387517e-03, 5.47547901e-13],\n",
       "       [6.77829206e-01, 3.22170794e-01, 6.02254704e-11],\n",
       "       [9.98801172e-01, 1.19884312e-03, 9.27480274e-14],\n",
       "       [5.71853280e-01, 4.28146571e-01, 1.93602233e-07],\n",
       "       [9.98357117e-01, 1.64289866e-03, 1.58151392e-13],\n",
       "       [9.72755671e-01, 2.72443481e-02, 2.82100229e-11],\n",
       "       [9.81090724e-01, 1.89092681e-02, 1.51322867e-12],\n",
       "       [9.92483199e-01, 7.51678273e-03, 5.02907785e-11],\n",
       "       [9.99603927e-01, 3.96045332e-04, 5.41121611e-14],\n",
       "       [4.14589643e-01, 5.85410237e-01, 1.66528238e-07],\n",
       "       [9.95919526e-01, 4.08048043e-03, 2.03389839e-14],\n",
       "       [9.17148709e-01, 8.28512758e-02, 6.43368995e-12],\n",
       "       [6.81857616e-02, 9.31814194e-01, 4.41620358e-08],\n",
       "       [9.98047829e-01, 1.95220404e-03, 5.03664764e-14],\n",
       "       [9.97369230e-01, 2.63077812e-03, 2.81359436e-13],\n",
       "       [9.98758674e-01, 1.24131027e-03, 1.64962187e-13],\n",
       "       [9.97448087e-01, 2.55191699e-03, 1.04554494e-13],\n",
       "       [9.96042967e-01, 3.95703455e-03, 6.14028888e-14],\n",
       "       [9.88609672e-01, 1.13903796e-02, 6.39948028e-14],\n",
       "       [9.88590777e-01, 1.14092296e-02, 1.81750893e-12],\n",
       "       [9.93884981e-01, 6.11500069e-03, 1.14578350e-13],\n",
       "       [8.68334889e-01, 1.31665170e-01, 3.25931361e-12],\n",
       "       [9.93391216e-01, 6.60881214e-03, 2.62717284e-13],\n",
       "       [9.99570429e-01, 4.29544481e-04, 9.95028577e-15],\n",
       "       [8.51229727e-02, 9.14874971e-01, 2.09263999e-06],\n",
       "       [9.96390045e-01, 3.60998488e-03, 1.34894082e-12],\n",
       "       [9.43468153e-01, 5.65318577e-02, 6.07313001e-14],\n",
       "       [3.10826153e-01, 6.89173877e-01, 3.86739103e-08],\n",
       "       [9.98092055e-01, 1.90797180e-03, 1.63202093e-13],\n",
       "       [9.96600986e-01, 3.39902309e-03, 4.80817033e-14],\n",
       "       [9.83966291e-01, 1.60337053e-02, 1.51115600e-12],\n",
       "       [9.97094870e-01, 2.90510315e-03, 3.23803353e-15]], dtype=float32)"
      ]
     },
     "execution_count": 17,
     "metadata": {},
     "output_type": "execute_result"
    }
   ],
   "source": [
    "\n",
    "prediction = model.predict(X[0:100])\n",
    "prediction /= prediction.sum(axis=1).reshape((-1, 1))\n",
    "prediction"
   ]
  },
  {
   "cell_type": "code",
   "execution_count": null,
   "metadata": {
    "collapsed": true
   },
   "outputs": [],
   "source": []
  },
  {
   "cell_type": "code",
   "execution_count": null,
   "metadata": {
    "collapsed": true
   },
   "outputs": [],
   "source": []
  },
  {
   "cell_type": "code",
   "execution_count": null,
   "metadata": {
    "collapsed": true
   },
   "outputs": [],
   "source": []
  },
  {
   "cell_type": "code",
   "execution_count": null,
   "metadata": {
    "collapsed": true
   },
   "outputs": [],
   "source": []
  },
  {
   "cell_type": "code",
   "execution_count": null,
   "metadata": {
    "collapsed": true
   },
   "outputs": [],
   "source": []
  }
 ],
 "metadata": {
  "kernelspec": {
   "display_name": "Python 3",
   "language": "python",
   "name": "python3"
  },
  "language_info": {
   "codemirror_mode": {
    "name": "ipython",
    "version": 3
   },
   "file_extension": ".py",
   "mimetype": "text/x-python",
   "name": "python",
   "nbconvert_exporter": "python",
   "pygments_lexer": "ipython3",
   "version": "3.6.3"
  }
 },
 "nbformat": 4,
 "nbformat_minor": 2
}
