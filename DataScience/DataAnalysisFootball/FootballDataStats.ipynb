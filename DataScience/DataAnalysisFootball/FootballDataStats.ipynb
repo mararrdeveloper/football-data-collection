{
 "cells": [
  {
   "cell_type": "code",
   "execution_count": 2,
   "metadata": {},
   "outputs": [],
   "source": [
    "#DB Connection \n",
    "import pymssql\n",
    "import pandas as pd\n",
    "import pyodbc\n",
    "import numpy as np\n",
    "conn = pyodbc.connect(\"Driver={SQL Server Native Client 11.0};\"\n",
    "                     \"Server=Martin-PC\\SQLEXPRESS;\"\n",
    "                     \"Database=FootballData;\"\n",
    "                     \"Trusted_Connection=yes;\")\n",
    "#conn = pymssql.connect(server=\"localhost\", user=\"\",password=\"\", port=63642)  # You can lookup the port number inside SQL server. \n",
    "\n",
    "data_folder = 'data/'"
   ]
  },
  {
   "cell_type": "code",
   "execution_count": 3,
   "metadata": {
    "scrolled": false
   },
   "outputs": [
    {
     "name": "stdout",
     "output_type": "stream",
     "text": [
      "(7750, 12)\n"
     ]
    },
    {
     "data": {
      "text/html": [
       "<div>\n",
       "<style scoped>\n",
       "    .dataframe tbody tr th:only-of-type {\n",
       "        vertical-align: middle;\n",
       "    }\n",
       "\n",
       "    .dataframe tbody tr th {\n",
       "        vertical-align: top;\n",
       "    }\n",
       "\n",
       "    .dataframe thead th {\n",
       "        text-align: right;\n",
       "    }\n",
       "</style>\n",
       "<table border=\"1\" class=\"dataframe\">\n",
       "  <thead>\n",
       "    <tr style=\"text-align: right;\">\n",
       "      <th></th>\n",
       "      <th>HomeTeam</th>\n",
       "      <th>AwayTeam</th>\n",
       "      <th>HomeTeamId</th>\n",
       "      <th>AwayTeamId</th>\n",
       "      <th>ExternalId</th>\n",
       "      <th>Date</th>\n",
       "      <th>Country</th>\n",
       "      <th>League</th>\n",
       "      <th>Season</th>\n",
       "      <th>Stage</th>\n",
       "      <th>AwayTeam_Id</th>\n",
       "      <th>HomeTeam_Id</th>\n",
       "    </tr>\n",
       "  </thead>\n",
       "  <tbody>\n",
       "    <tr>\n",
       "      <th>0</th>\n",
       "      <td>Leicester</td>\n",
       "      <td>Everton</td>\n",
       "      <td>8197</td>\n",
       "      <td>8668</td>\n",
       "      <td>1723984</td>\n",
       "      <td>2014-08-18 15:00:00</td>\n",
       "      <td>England</td>\n",
       "      <td>Premier League</td>\n",
       "      <td>2014/2015</td>\n",
       "      <td>1</td>\n",
       "      <td>13</td>\n",
       "      <td>9</td>\n",
       "    </tr>\n",
       "    <tr>\n",
       "      <th>1</th>\n",
       "      <td>Burnley</td>\n",
       "      <td>Chelsea</td>\n",
       "      <td>8191</td>\n",
       "      <td>8455</td>\n",
       "      <td>1723983</td>\n",
       "      <td>2014-08-18 15:00:00</td>\n",
       "      <td>England</td>\n",
       "      <td>Premier League</td>\n",
       "      <td>2014/2015</td>\n",
       "      <td>1</td>\n",
       "      <td>14</td>\n",
       "      <td>10</td>\n",
       "    </tr>\n",
       "    <tr>\n",
       "      <th>2</th>\n",
       "      <td>Liverpool</td>\n",
       "      <td>Southampton</td>\n",
       "      <td>8650</td>\n",
       "      <td>8466</td>\n",
       "      <td>1723985</td>\n",
       "      <td>2014-08-18 15:00:00</td>\n",
       "      <td>England</td>\n",
       "      <td>Premier League</td>\n",
       "      <td>2014/2015</td>\n",
       "      <td>1</td>\n",
       "      <td>15</td>\n",
       "      <td>12</td>\n",
       "    </tr>\n",
       "  </tbody>\n",
       "</table>\n",
       "</div>"
      ],
      "text/plain": [
       "    HomeTeam     AwayTeam HomeTeamId AwayTeamId ExternalId  \\\n",
       "0  Leicester      Everton       8197       8668    1723984   \n",
       "1    Burnley      Chelsea       8191       8455    1723983   \n",
       "2  Liverpool  Southampton       8650       8466    1723985   \n",
       "\n",
       "                 Date  Country          League     Season Stage  AwayTeam_Id  \\\n",
       "0 2014-08-18 15:00:00  England  Premier League  2014/2015     1           13   \n",
       "1 2014-08-18 15:00:00  England  Premier League  2014/2015     1           14   \n",
       "2 2014-08-18 15:00:00  England  Premier League  2014/2015     1           15   \n",
       "\n",
       "   HomeTeam_Id  \n",
       "0            9  \n",
       "1           10  \n",
       "2           12  "
      ]
     },
     "execution_count": 3,
     "metadata": {},
     "output_type": "execute_result"
    }
   ],
   "source": [
    "#Matches select\n",
    "stmt = \"\"\"SELECT Teams.FullName as HomeTeam, Teams2.FullName as AwayTeam, \n",
    "        Teams.ExternalId as HomeTeamId, Teams2.ExternalId as AwayTeamId\n",
    "\t  ,[Matches].ExternalId as ExternalId\n",
    "      ,[Date]\n",
    "      ,[Country]\n",
    "      ,[League]\n",
    "      ,[Season]\n",
    "      ,[Stage]\n",
    "      ,[AwayTeam_Id]\n",
    "      ,[HomeTeam_Id]\n",
    "FROM  [FootballData].[dbo].[Matches]\n",
    "LEFT JOIN [Teams] ON Matches.HomeTeam_Id = Teams.Id\n",
    "LEFT JOIN [Teams] as Teams2 ON Matches.AwayTeam_Id = Teams2.Id\"\"\"\n",
    "# Excute Query here\n",
    "df_matches = pd.read_sql(stmt,conn)\n",
    "df_matches.drop_duplicates(['ExternalId'], inplace=True)\n",
    "df_matches['Date']=pd.to_datetime(df_matches['Date'])\n",
    "print(df_matches.shape)\n",
    "df_matches.head(3)"
   ]
  },
  {
   "cell_type": "code",
   "execution_count": 4,
   "metadata": {},
   "outputs": [
    {
     "data": {
      "text/plain": [
       "Timestamp('2014-08-10 15:00:00')"
      ]
     },
     "execution_count": 4,
     "metadata": {},
     "output_type": "execute_result"
    }
   ],
   "source": [
    "df_matches['Date'].min()"
   ]
  },
  {
   "cell_type": "code",
   "execution_count": 5,
   "metadata": {},
   "outputs": [
    {
     "data": {
      "text/plain": [
       "Timestamp('2019-05-12 14:00:00')"
      ]
     },
     "execution_count": 5,
     "metadata": {},
     "output_type": "execute_result"
    }
   ],
   "source": [
    "df_matches['Date'].max()"
   ]
  },
  {
   "cell_type": "code",
   "execution_count": null,
   "metadata": {},
   "outputs": [],
   "source": []
  },
  {
   "cell_type": "code",
   "execution_count": 6,
   "metadata": {},
   "outputs": [
    {
     "name": "stdout",
     "output_type": "stream",
     "text": [
      "(83999, 6)\n",
      "(82698, 6)\n",
      "(104795, 7)\n"
     ]
    },
    {
     "data": {
      "text/html": [
       "<div>\n",
       "<style scoped>\n",
       "    .dataframe tbody tr th:only-of-type {\n",
       "        vertical-align: middle;\n",
       "    }\n",
       "\n",
       "    .dataframe tbody tr th {\n",
       "        vertical-align: top;\n",
       "    }\n",
       "\n",
       "    .dataframe thead th {\n",
       "        text-align: right;\n",
       "    }\n",
       "</style>\n",
       "<table border=\"1\" class=\"dataframe\">\n",
       "  <thead>\n",
       "    <tr style=\"text-align: right;\">\n",
       "      <th></th>\n",
       "      <th>Id</th>\n",
       "      <th>ExternalId</th>\n",
       "      <th>MatchId</th>\n",
       "      <th>Minute</th>\n",
       "      <th>HomePossession</th>\n",
       "      <th>AwayPossession</th>\n",
       "      <th>TeamId</th>\n",
       "    </tr>\n",
       "  </thead>\n",
       "  <tbody>\n",
       "    <tr>\n",
       "      <th>104309</th>\n",
       "      <td>104310</td>\n",
       "      <td>8535572</td>\n",
       "      <td>2782029</td>\n",
       "      <td>70</td>\n",
       "      <td>49</td>\n",
       "      <td>51</td>\n",
       "      <td>0</td>\n",
       "    </tr>\n",
       "    <tr>\n",
       "      <th>24325</th>\n",
       "      <td>24326</td>\n",
       "      <td>6068295</td>\n",
       "      <td>2241434</td>\n",
       "      <td>30</td>\n",
       "      <td>52</td>\n",
       "      <td>48</td>\n",
       "      <td>0</td>\n",
       "    </tr>\n",
       "    <tr>\n",
       "      <th>100172</th>\n",
       "      <td>100173</td>\n",
       "      <td>9457971</td>\n",
       "      <td>2782261</td>\n",
       "      <td>30</td>\n",
       "      <td>56</td>\n",
       "      <td>44</td>\n",
       "      <td>0</td>\n",
       "    </tr>\n",
       "    <tr>\n",
       "      <th>61947</th>\n",
       "      <td>61948</td>\n",
       "      <td>6651755</td>\n",
       "      <td>2319992</td>\n",
       "      <td>50</td>\n",
       "      <td>58</td>\n",
       "      <td>42</td>\n",
       "      <td>0</td>\n",
       "    </tr>\n",
       "    <tr>\n",
       "      <th>43507</th>\n",
       "      <td>43508</td>\n",
       "      <td>6321812</td>\n",
       "      <td>2272453</td>\n",
       "      <td>55</td>\n",
       "      <td>37</td>\n",
       "      <td>63</td>\n",
       "      <td>0</td>\n",
       "    </tr>\n",
       "  </tbody>\n",
       "</table>\n",
       "</div>"
      ],
      "text/plain": [
       "            Id ExternalId  MatchId  Minute  HomePossession  AwayPossession  \\\n",
       "104309  104310    8535572  2782029      70              49              51   \n",
       "24325    24326    6068295  2241434      30              52              48   \n",
       "100172  100173    9457971  2782261      30              56              44   \n",
       "61947    61948    6651755  2319992      50              58              42   \n",
       "43507    43508    6321812  2272453      55              37              63   \n",
       "\n",
       "        TeamId  \n",
       "104309       0  \n",
       "24325        0  \n",
       "100172       0  \n",
       "61947        0  \n",
       "43507        0  "
      ]
     },
     "execution_count": 6,
     "metadata": {},
     "output_type": "execute_result"
    }
   ],
   "source": [
    "#Shots on select\n",
    "stmt = \"SELECT * FROM ShotOns\"\n",
    "# Excute Query here\n",
    "df_shots_on = pd.read_sql(stmt,conn)\n",
    "#df_corners = df_corners['Minute'].notnull()\n",
    "print(df_shots_on.shape)\n",
    "df_shots_on.drop_duplicates(['ExternalId'], inplace=True)\n",
    "\n",
    "#Shots off select\n",
    "stmt = \"SELECT * FROM ShotOffs\"\n",
    "# Excute Query here\n",
    "df_shots_off = pd.read_sql(stmt,conn)\n",
    "#df_corners = df_corners['Minute'].notnull()\n",
    "print(df_shots_off.shape)\n",
    "df_shots_off.drop_duplicates(['ExternalId'], inplace=True)\n",
    "\n",
    "#Possessions select\n",
    "stmt = \"SELECT * FROM Possessions\"\n",
    "# Excute Query here\n",
    "df_possessions = pd.read_sql(stmt,conn)\n",
    "#df_corners = df_corners['Minute'].notnull()\n",
    "print(df_possessions.shape)\n",
    "df_possessions.drop_duplicates(['ExternalId'], inplace=True)\n",
    "df_possessions.replace('', np.nan, inplace=True)\n",
    "df_possessions.dropna(axis=0, how='any', inplace=True)\n",
    "\n",
    "df_possessions['HomePossession'] = df_possessions['HomePossession'].astype(int)\n",
    "df_possessions['AwayPossession'] = df_possessions['AwayPossession'].astype(int)\n",
    "df_possessions['Minute'] = df_possessions['Minute'].astype(int)\n",
    "#df_possessions['TeamId'] = df_possessions['TeamId'].astype(str)\n",
    "df_possessions.sample(5)\n"
   ]
  },
  {
   "cell_type": "code",
   "execution_count": 7,
   "metadata": {},
   "outputs": [
    {
     "name": "stdout",
     "output_type": "stream",
     "text": [
      "(22244, 8)\n"
     ]
    }
   ],
   "source": [
    "#Goals select\n",
    "stmt = \"SELECT * FROM Goals\"\n",
    "# Excute Query here\n",
    "df_goals = pd.read_sql(stmt,conn)\n",
    "print(df_goals.shape)\n",
    "df_goals.drop('Id', inplace=True, axis=1)\n",
    "df_goals.drop_duplicates(inplace=True)"
   ]
  },
  {
   "cell_type": "code",
   "execution_count": 8,
   "metadata": {},
   "outputs": [
    {
     "name": "stdout",
     "output_type": "stream",
     "text": [
      "(78204, 6)\n"
     ]
    },
    {
     "data": {
      "text/html": [
       "<div>\n",
       "<style scoped>\n",
       "    .dataframe tbody tr th:only-of-type {\n",
       "        vertical-align: middle;\n",
       "    }\n",
       "\n",
       "    .dataframe tbody tr th {\n",
       "        vertical-align: top;\n",
       "    }\n",
       "\n",
       "    .dataframe thead th {\n",
       "        text-align: right;\n",
       "    }\n",
       "</style>\n",
       "<table border=\"1\" class=\"dataframe\">\n",
       "  <thead>\n",
       "    <tr style=\"text-align: right;\">\n",
       "      <th></th>\n",
       "      <th>Id</th>\n",
       "      <th>ExternalId</th>\n",
       "      <th>MatchId</th>\n",
       "      <th>Minute</th>\n",
       "      <th>Player1</th>\n",
       "      <th>TeamId</th>\n",
       "    </tr>\n",
       "  </thead>\n",
       "  <tbody>\n",
       "    <tr>\n",
       "      <th>36574</th>\n",
       "      <td>36575</td>\n",
       "      <td>4769043</td>\n",
       "      <td>2002122</td>\n",
       "      <td>56</td>\n",
       "      <td>34267</td>\n",
       "      <td>8226</td>\n",
       "    </tr>\n",
       "    <tr>\n",
       "      <th>61064</th>\n",
       "      <td>61065</td>\n",
       "      <td>4334987</td>\n",
       "      <td>1778326</td>\n",
       "      <td>41</td>\n",
       "      <td>279173</td>\n",
       "      <td>10268</td>\n",
       "    </tr>\n",
       "    <tr>\n",
       "      <th>68515</th>\n",
       "      <td>68516</td>\n",
       "      <td>6532613</td>\n",
       "      <td>2300794</td>\n",
       "      <td>88</td>\n",
       "      <td>26181</td>\n",
       "      <td>8302</td>\n",
       "    </tr>\n",
       "  </tbody>\n",
       "</table>\n",
       "</div>"
      ],
      "text/plain": [
       "          Id ExternalId  MatchId Minute Player1 TeamId\n",
       "36574  36575    4769043  2002122     56   34267   8226\n",
       "61064  61065    4334987  1778326     41  279173  10268\n",
       "68515  68516    6532613  2300794     88   26181   8302"
      ]
     },
     "execution_count": 8,
     "metadata": {},
     "output_type": "execute_result"
    }
   ],
   "source": [
    "#Corners select\n",
    "stmt = \"SELECT * FROM Corners\"\n",
    "# Excute Query here\n",
    "df_corners = pd.read_sql(stmt,conn)\n",
    "#df_corners = df_corners['Minute'].notnull()\n",
    "print(df_corners.shape)\n",
    "df_corners.drop_duplicates(['ExternalId'], inplace=True)\n",
    "df_corners.sample(3)"
   ]
  },
  {
   "cell_type": "code",
   "execution_count": 9,
   "metadata": {},
   "outputs": [
    {
     "name": "stdout",
     "output_type": "stream",
     "text": [
      "(135, 1)\n"
     ]
    },
    {
     "data": {
      "text/html": [
       "<div>\n",
       "<style scoped>\n",
       "    .dataframe tbody tr th:only-of-type {\n",
       "        vertical-align: middle;\n",
       "    }\n",
       "\n",
       "    .dataframe tbody tr th {\n",
       "        vertical-align: top;\n",
       "    }\n",
       "\n",
       "    .dataframe thead th {\n",
       "        text-align: right;\n",
       "    }\n",
       "</style>\n",
       "<table border=\"1\" class=\"dataframe\">\n",
       "  <thead>\n",
       "    <tr style=\"text-align: right;\">\n",
       "      <th></th>\n",
       "      <th>ExternalId</th>\n",
       "    </tr>\n",
       "  </thead>\n",
       "  <tbody>\n",
       "    <tr>\n",
       "      <th>0</th>\n",
       "      <td>10242</td>\n",
       "    </tr>\n",
       "    <tr>\n",
       "      <th>1</th>\n",
       "      <td>9941</td>\n",
       "    </tr>\n",
       "  </tbody>\n",
       "</table>\n",
       "</div>"
      ],
      "text/plain": [
       "  ExternalId\n",
       "0      10242\n",
       "1       9941"
      ]
     },
     "execution_count": 9,
     "metadata": {},
     "output_type": "execute_result"
    }
   ],
   "source": [
    "#Teams select\n",
    "stmt = \"SELECT DISTINCT ExternalId FROM Teams\"\n",
    "# Excute Query here\n",
    "df_teams = pd.read_sql(stmt,conn)\n",
    "print(df_teams.shape)\n",
    "df_teams.head(2)\n",
    "#df_teams.count"
   ]
  },
  {
   "cell_type": "code",
   "execution_count": 10,
   "metadata": {},
   "outputs": [
    {
     "name": "stdout",
     "output_type": "stream",
     "text": [
      "(77384, 7)\n"
     ]
    },
    {
     "data": {
      "text/html": [
       "<div>\n",
       "<style scoped>\n",
       "    .dataframe tbody tr th:only-of-type {\n",
       "        vertical-align: middle;\n",
       "    }\n",
       "\n",
       "    .dataframe tbody tr th {\n",
       "        vertical-align: top;\n",
       "    }\n",
       "\n",
       "    .dataframe thead th {\n",
       "        text-align: right;\n",
       "    }\n",
       "</style>\n",
       "<table border=\"1\" class=\"dataframe\">\n",
       "  <thead>\n",
       "    <tr style=\"text-align: right;\">\n",
       "      <th></th>\n",
       "      <th>MatchId</th>\n",
       "      <th>ExternalId</th>\n",
       "      <th>Minute</th>\n",
       "      <th>TeamId</th>\n",
       "      <th>FullName</th>\n",
       "      <th>Acronym</th>\n",
       "      <th>Season</th>\n",
       "    </tr>\n",
       "  </thead>\n",
       "  <tbody>\n",
       "    <tr>\n",
       "      <th>68831</th>\n",
       "      <td>NaN</td>\n",
       "      <td>7427146</td>\n",
       "      <td>83</td>\n",
       "      <td>8177</td>\n",
       "      <td>Hertha Berlin</td>\n",
       "      <td>HBE</td>\n",
       "      <td>None</td>\n",
       "    </tr>\n",
       "    <tr>\n",
       "      <th>67789</th>\n",
       "      <td>NaN</td>\n",
       "      <td>7386931</td>\n",
       "      <td>53</td>\n",
       "      <td>9851</td>\n",
       "      <td>Rennes</td>\n",
       "      <td>REN</td>\n",
       "      <td>None</td>\n",
       "    </tr>\n",
       "    <tr>\n",
       "      <th>85313</th>\n",
       "      <td>7655.0</td>\n",
       "      <td>9136866</td>\n",
       "      <td>61</td>\n",
       "      <td>10261</td>\n",
       "      <td>Newcastle United</td>\n",
       "      <td>NCU</td>\n",
       "      <td>2018/2019</td>\n",
       "    </tr>\n",
       "  </tbody>\n",
       "</table>\n",
       "</div>"
      ],
      "text/plain": [
       "       MatchId ExternalId  Minute TeamId          FullName Acronym     Season\n",
       "68831      NaN    7427146      83   8177     Hertha Berlin     HBE       None\n",
       "67789      NaN    7386931      53   9851            Rennes     REN       None\n",
       "85313   7655.0    9136866      61  10261  Newcastle United     NCU  2018/2019"
      ]
     },
     "execution_count": 10,
     "metadata": {},
     "output_type": "execute_result"
    }
   ],
   "source": [
    "# Group by corners teams matches not working\n",
    "# stmt = \"\"\"SELECT  Corners.TeamId, convert (bigint, minute  ) as Minute, count(*) as count\n",
    "#   FROM [FootballData].[dbo].[Corners] \n",
    "#   LEFT JOIN [Teams] ON Corners.TeamId = Teams.ExternalId\n",
    "#   LEFT JOIN [Matches] ON MatchId = Corners.MatchId\n",
    "#   group by convert (bigint, minute  ),TeamId\n",
    "#   order by 1,2\"\"\"\n",
    "# # Excute Query here\n",
    "\n",
    "#Corners select\n",
    "stmt = \"\"\"SELECT DISTINCT  Matches.Id as MatchId, Corners.ExternalId, convert (bigint,  Corners.Minute) as Minute, Teams.ExternalId as TeamId,\n",
    "    Teams.FullName, Teams.Acronym,Matches.Season\n",
    " FROM [FootballData].[dbo].[Teams]\n",
    "RIGHT JOIN [Corners] ON Corners.TeamId = Teams.ExternalId\n",
    "LEFT JOIN [Matches] ON [Matches].ExternalId = Corners.MatchId\n",
    "\n",
    "AND Matches.Season = '2018/2019'\n",
    "\"\"\"\n",
    "#WHERE League like 'Premier League'\n",
    "df_corners_per_team = pd.read_sql(stmt,conn)\n",
    "#df_corners = df_corners['Minute'].notnull()\n",
    "\n",
    "df_corners_per_team.drop_duplicates(['ExternalId'], inplace=True)\n",
    "print(df_corners_per_team.shape)\n",
    "df_corners_per_team.sample(3)"
   ]
  },
  {
   "cell_type": "code",
   "execution_count": 11,
   "metadata": {},
   "outputs": [
    {
     "data": {
      "text/html": [
       "<div>\n",
       "<style scoped>\n",
       "    .dataframe tbody tr th:only-of-type {\n",
       "        vertical-align: middle;\n",
       "    }\n",
       "\n",
       "    .dataframe tbody tr th {\n",
       "        vertical-align: top;\n",
       "    }\n",
       "\n",
       "    .dataframe thead th {\n",
       "        text-align: right;\n",
       "    }\n",
       "</style>\n",
       "<table border=\"1\" class=\"dataframe\">\n",
       "  <thead>\n",
       "    <tr style=\"text-align: right;\">\n",
       "      <th></th>\n",
       "      <th>MatchId</th>\n",
       "      <th>CornerMatchId</th>\n",
       "      <th>Minute</th>\n",
       "      <th>TeamId</th>\n",
       "      <th>FullName</th>\n",
       "      <th>Season</th>\n",
       "    </tr>\n",
       "  </thead>\n",
       "  <tbody>\n",
       "    <tr>\n",
       "      <th>0</th>\n",
       "      <td>1709697</td>\n",
       "      <td>1709697.0</td>\n",
       "      <td>15.0</td>\n",
       "      <td>9837</td>\n",
       "      <td>Reims</td>\n",
       "      <td>2014/2015</td>\n",
       "    </tr>\n",
       "    <tr>\n",
       "      <th>1</th>\n",
       "      <td>1709697</td>\n",
       "      <td>1709697.0</td>\n",
       "      <td>15.0</td>\n",
       "      <td>9847</td>\n",
       "      <td>Paris Saint Germain</td>\n",
       "      <td>2014/2015</td>\n",
       "    </tr>\n",
       "    <tr>\n",
       "      <th>2</th>\n",
       "      <td>1709697</td>\n",
       "      <td>1709697.0</td>\n",
       "      <td>52.0</td>\n",
       "      <td>9837</td>\n",
       "      <td>Reims</td>\n",
       "      <td>2014/2015</td>\n",
       "    </tr>\n",
       "    <tr>\n",
       "      <th>3</th>\n",
       "      <td>1709697</td>\n",
       "      <td>1709697.0</td>\n",
       "      <td>52.0</td>\n",
       "      <td>9847</td>\n",
       "      <td>Paris Saint Germain</td>\n",
       "      <td>2014/2015</td>\n",
       "    </tr>\n",
       "    <tr>\n",
       "      <th>4</th>\n",
       "      <td>1709698</td>\n",
       "      <td>1709698.0</td>\n",
       "      <td>20.0</td>\n",
       "      <td>7794</td>\n",
       "      <td>SC Bastia</td>\n",
       "      <td>2014/2015</td>\n",
       "    </tr>\n",
       "  </tbody>\n",
       "</table>\n",
       "</div>"
      ],
      "text/plain": [
       "   MatchId  CornerMatchId  Minute TeamId             FullName     Season\n",
       "0  1709697      1709697.0    15.0   9837                Reims  2014/2015\n",
       "1  1709697      1709697.0    15.0   9847  Paris Saint Germain  2014/2015\n",
       "2  1709697      1709697.0    52.0   9837                Reims  2014/2015\n",
       "3  1709697      1709697.0    52.0   9847  Paris Saint Germain  2014/2015\n",
       "4  1709698      1709698.0    20.0   7794            SC Bastia  2014/2015"
      ]
     },
     "execution_count": 11,
     "metadata": {},
     "output_type": "execute_result"
    }
   ],
   "source": [
    "stmt = \"\"\"SELECT DISTINCT  Matches.EXTERNALID as MatchId, Corners.MatchId as CornerMatchId, convert (bigint,  Corners.Minute) as Minute, Teams.ExternalId as TeamId,\n",
    "    Teams.FullName,Matches.Season\n",
    "From MAtches \n",
    " LEFT Join \n",
    "\t(SELECT MatchId, TeamId, Min(Minute) as Minute\n",
    "            FROM Corners\n",
    "            GROUP BY MatchId, TeamId) Corners\n",
    "ON Corners.MatchID= MAtches.eXTERNALId\n",
    "LEFT JOIN [FootballData].[dbo].[Teams]\n",
    "on Matches.HomeTeam_Id = Teams.Id OR Matches.AwayTeam_Id = Teams.ID\n",
    "\"\"\"\n",
    "#WHERE CORNERS.MATCHID IS NULL \n",
    "#WHERE League like 'Premier League'\n",
    "\n",
    "df_first_corner = pd.read_sql(stmt,conn)\n",
    "#df_corners = df_corners['Minute'].notnull()\n",
    "\n",
    "df_first_corner.head(5)"
   ]
  },
  {
   "cell_type": "code",
   "execution_count": 12,
   "metadata": {},
   "outputs": [
    {
     "data": {
      "text/html": [
       "<div>\n",
       "<style scoped>\n",
       "    .dataframe tbody tr th:only-of-type {\n",
       "        vertical-align: middle;\n",
       "    }\n",
       "\n",
       "    .dataframe tbody tr th {\n",
       "        vertical-align: top;\n",
       "    }\n",
       "\n",
       "    .dataframe thead th {\n",
       "        text-align: right;\n",
       "    }\n",
       "</style>\n",
       "<table border=\"1\" class=\"dataframe\">\n",
       "  <thead>\n",
       "    <tr style=\"text-align: right;\">\n",
       "      <th></th>\n",
       "      <th>MatchId</th>\n",
       "      <th>CornerMatchId</th>\n",
       "      <th>Minute</th>\n",
       "      <th>TeamId</th>\n",
       "      <th>FullName</th>\n",
       "      <th>FullName</th>\n",
       "      <th>Season</th>\n",
       "    </tr>\n",
       "  </thead>\n",
       "  <tbody>\n",
       "    <tr>\n",
       "      <th>0</th>\n",
       "      <td>1709697</td>\n",
       "      <td>1709697.0</td>\n",
       "      <td>19.0</td>\n",
       "      <td>9837</td>\n",
       "      <td>Paris Saint Germain</td>\n",
       "      <td>Reims</td>\n",
       "      <td>2014/2015</td>\n",
       "    </tr>\n",
       "    <tr>\n",
       "      <th>1</th>\n",
       "      <td>1709697</td>\n",
       "      <td>1709697.0</td>\n",
       "      <td>22.0</td>\n",
       "      <td>9837</td>\n",
       "      <td>Paris Saint Germain</td>\n",
       "      <td>Reims</td>\n",
       "      <td>2014/2015</td>\n",
       "    </tr>\n",
       "    <tr>\n",
       "      <th>2</th>\n",
       "      <td>1709698</td>\n",
       "      <td>1709698.0</td>\n",
       "      <td>12.0</td>\n",
       "      <td>7794</td>\n",
       "      <td>Marseille</td>\n",
       "      <td>SC Bastia</td>\n",
       "      <td>2014/2015</td>\n",
       "    </tr>\n",
       "    <tr>\n",
       "      <th>3</th>\n",
       "      <td>1709698</td>\n",
       "      <td>1709698.0</td>\n",
       "      <td>17.0</td>\n",
       "      <td>7794</td>\n",
       "      <td>Marseille</td>\n",
       "      <td>SC Bastia</td>\n",
       "      <td>2014/2015</td>\n",
       "    </tr>\n",
       "    <tr>\n",
       "      <th>4</th>\n",
       "      <td>1709699</td>\n",
       "      <td>1709699.0</td>\n",
       "      <td>12.0</td>\n",
       "      <td>4087</td>\n",
       "      <td>Caen</td>\n",
       "      <td>Evian Thonon Gaillard</td>\n",
       "      <td>2014/2015</td>\n",
       "    </tr>\n",
       "    <tr>\n",
       "      <th>5</th>\n",
       "      <td>1709700</td>\n",
       "      <td>1709700.0</td>\n",
       "      <td>39.0</td>\n",
       "      <td>9747</td>\n",
       "      <td>Saint-Etienne</td>\n",
       "      <td>Guingamp</td>\n",
       "      <td>2014/2015</td>\n",
       "    </tr>\n",
       "    <tr>\n",
       "      <th>6</th>\n",
       "      <td>1709701</td>\n",
       "      <td>NaN</td>\n",
       "      <td>NaN</td>\n",
       "      <td>8639</td>\n",
       "      <td>Metz</td>\n",
       "      <td>Lille</td>\n",
       "      <td>2014/2015</td>\n",
       "    </tr>\n",
       "    <tr>\n",
       "      <th>7</th>\n",
       "      <td>1709702</td>\n",
       "      <td>1709702.0</td>\n",
       "      <td>64.0</td>\n",
       "      <td>9748</td>\n",
       "      <td>Rennes</td>\n",
       "      <td>Lyon</td>\n",
       "      <td>2014/2015</td>\n",
       "    </tr>\n",
       "    <tr>\n",
       "      <th>8</th>\n",
       "      <td>1709703</td>\n",
       "      <td>1709703.0</td>\n",
       "      <td>10.0</td>\n",
       "      <td>9829</td>\n",
       "      <td>Lorient</td>\n",
       "      <td>Monaco</td>\n",
       "      <td>2014/2015</td>\n",
       "    </tr>\n",
       "    <tr>\n",
       "      <th>9</th>\n",
       "      <td>1709703</td>\n",
       "      <td>1709703.0</td>\n",
       "      <td>78.0</td>\n",
       "      <td>9829</td>\n",
       "      <td>Lorient</td>\n",
       "      <td>Monaco</td>\n",
       "      <td>2014/2015</td>\n",
       "    </tr>\n",
       "    <tr>\n",
       "      <th>10</th>\n",
       "      <td>1709704</td>\n",
       "      <td>1709704.0</td>\n",
       "      <td>17.0</td>\n",
       "      <td>10249</td>\n",
       "      <td>Bordeaux</td>\n",
       "      <td>Montpellier</td>\n",
       "      <td>2014/2015</td>\n",
       "    </tr>\n",
       "    <tr>\n",
       "      <th>11</th>\n",
       "      <td>1709705</td>\n",
       "      <td>1709705.0</td>\n",
       "      <td>65.0</td>\n",
       "      <td>9830</td>\n",
       "      <td>Lens</td>\n",
       "      <td>Nantes</td>\n",
       "      <td>2014/2015</td>\n",
       "    </tr>\n",
       "    <tr>\n",
       "      <th>12</th>\n",
       "      <td>1709706</td>\n",
       "      <td>1709706.0</td>\n",
       "      <td>23.0</td>\n",
       "      <td>9831</td>\n",
       "      <td>Toulouse</td>\n",
       "      <td>Nice</td>\n",
       "      <td>2014/2015</td>\n",
       "    </tr>\n",
       "    <tr>\n",
       "      <th>13</th>\n",
       "      <td>1709706</td>\n",
       "      <td>1709706.0</td>\n",
       "      <td>45.0</td>\n",
       "      <td>9831</td>\n",
       "      <td>Toulouse</td>\n",
       "      <td>Nice</td>\n",
       "      <td>2014/2015</td>\n",
       "    </tr>\n",
       "    <tr>\n",
       "      <th>14</th>\n",
       "      <td>1709707</td>\n",
       "      <td>1709707.0</td>\n",
       "      <td>45.0</td>\n",
       "      <td>9827</td>\n",
       "      <td>Monaco</td>\n",
       "      <td>Bordeaux</td>\n",
       "      <td>2014/2015</td>\n",
       "    </tr>\n",
       "    <tr>\n",
       "      <th>15</th>\n",
       "      <td>1709707</td>\n",
       "      <td>1709707.0</td>\n",
       "      <td>48.0</td>\n",
       "      <td>9827</td>\n",
       "      <td>Monaco</td>\n",
       "      <td>Bordeaux</td>\n",
       "      <td>2014/2015</td>\n",
       "    </tr>\n",
       "    <tr>\n",
       "      <th>16</th>\n",
       "      <td>1709708</td>\n",
       "      <td>1709708.0</td>\n",
       "      <td>69.0</td>\n",
       "      <td>7819</td>\n",
       "      <td>Lille</td>\n",
       "      <td>Caen</td>\n",
       "      <td>2014/2015</td>\n",
       "    </tr>\n",
       "    <tr>\n",
       "      <th>17</th>\n",
       "      <td>1709709</td>\n",
       "      <td>1709709.0</td>\n",
       "      <td>90.0</td>\n",
       "      <td>8588</td>\n",
       "      <td>Guingamp</td>\n",
       "      <td>Lens</td>\n",
       "      <td>2014/2015</td>\n",
       "    </tr>\n",
       "    <tr>\n",
       "      <th>18</th>\n",
       "      <td>1709710</td>\n",
       "      <td>NaN</td>\n",
       "      <td>NaN</td>\n",
       "      <td>8689</td>\n",
       "      <td>Nice</td>\n",
       "      <td>Lorient</td>\n",
       "      <td>2014/2015</td>\n",
       "    </tr>\n",
       "    <tr>\n",
       "      <th>19</th>\n",
       "      <td>1709711</td>\n",
       "      <td>1709711.0</td>\n",
       "      <td>19.0</td>\n",
       "      <td>8592</td>\n",
       "      <td>Montpellier</td>\n",
       "      <td>Marseille</td>\n",
       "      <td>2014/2015</td>\n",
       "    </tr>\n",
       "  </tbody>\n",
       "</table>\n",
       "</div>"
      ],
      "text/plain": [
       "    MatchId  CornerMatchId  Minute TeamId             FullName  \\\n",
       "0   1709697      1709697.0    19.0   9837  Paris Saint Germain   \n",
       "1   1709697      1709697.0    22.0   9837  Paris Saint Germain   \n",
       "2   1709698      1709698.0    12.0   7794            Marseille   \n",
       "3   1709698      1709698.0    17.0   7794            Marseille   \n",
       "4   1709699      1709699.0    12.0   4087                 Caen   \n",
       "5   1709700      1709700.0    39.0   9747        Saint-Etienne   \n",
       "6   1709701            NaN     NaN   8639                 Metz   \n",
       "7   1709702      1709702.0    64.0   9748               Rennes   \n",
       "8   1709703      1709703.0    10.0   9829              Lorient   \n",
       "9   1709703      1709703.0    78.0   9829              Lorient   \n",
       "10  1709704      1709704.0    17.0  10249             Bordeaux   \n",
       "11  1709705      1709705.0    65.0   9830                 Lens   \n",
       "12  1709706      1709706.0    23.0   9831             Toulouse   \n",
       "13  1709706      1709706.0    45.0   9831             Toulouse   \n",
       "14  1709707      1709707.0    45.0   9827               Monaco   \n",
       "15  1709707      1709707.0    48.0   9827               Monaco   \n",
       "16  1709708      1709708.0    69.0   7819                Lille   \n",
       "17  1709709      1709709.0    90.0   8588             Guingamp   \n",
       "18  1709710            NaN     NaN   8689                 Nice   \n",
       "19  1709711      1709711.0    19.0   8592          Montpellier   \n",
       "\n",
       "                 FullName     Season  \n",
       "0                   Reims  2014/2015  \n",
       "1                   Reims  2014/2015  \n",
       "2               SC Bastia  2014/2015  \n",
       "3               SC Bastia  2014/2015  \n",
       "4   Evian Thonon Gaillard  2014/2015  \n",
       "5                Guingamp  2014/2015  \n",
       "6                   Lille  2014/2015  \n",
       "7                    Lyon  2014/2015  \n",
       "8                  Monaco  2014/2015  \n",
       "9                  Monaco  2014/2015  \n",
       "10            Montpellier  2014/2015  \n",
       "11                 Nantes  2014/2015  \n",
       "12                   Nice  2014/2015  \n",
       "13                   Nice  2014/2015  \n",
       "14               Bordeaux  2014/2015  \n",
       "15               Bordeaux  2014/2015  \n",
       "16                   Caen  2014/2015  \n",
       "17                   Lens  2014/2015  \n",
       "18                Lorient  2014/2015  \n",
       "19              Marseille  2014/2015  "
      ]
     },
     "execution_count": 12,
     "metadata": {},
     "output_type": "execute_result"
    }
   ],
   "source": [
    "stmt = \"\"\"\n",
    "SELECT DISTINCT  Matches.EXTERNALID as MatchId, Goals.MatchId as CornerMatchId, convert (bigint,  Goals.Minute) as Minute, Teams.ExternalId as TeamId, Teams2.FullName,\n",
    "    Teams.FullName,Matches.Season\n",
    "From MAtches \n",
    " left Join \n",
    "\t(SELECT MatchId, TeamId, Min(Minute) as Minute\n",
    "            FROM Goals\n",
    "            GROUP BY MatchId, TeamId) Goals\n",
    "ON Goals.MatchID= MAtches.eXTERNALId\n",
    "LEFT JOIN [Teams] ON Matches.HomeTeam_Id = Teams.Id\n",
    "LEFT JOIN [Teams] as Teams2 ON Matches.AwayTeam_Id = Teams2.Id\n",
    "\"\"\"\n",
    "#WHERE CORNERS.MATCHID IS NULL \n",
    "#WHERE League like 'Premier League'\n",
    "\n",
    "df_first_goal = pd.read_sql(stmt,conn)\n",
    "#df_corners = df_corners['Minute'].notnull()\n",
    "\n",
    "df_first_goal.head(20)"
   ]
  },
  {
   "cell_type": "code",
   "execution_count": 13,
   "metadata": {},
   "outputs": [
    {
     "data": {
      "text/plain": [
       "(6, 1)"
      ]
     },
     "execution_count": 13,
     "metadata": {},
     "output_type": "execute_result"
    }
   ],
   "source": [
    "stmt = \"\"\"SELECT EXTERNALID FROM MATCHES \n",
    "EXCEPT \n",
    "SELECT MATCHID FROM CORNERS\n",
    "\"\"\"\n",
    "#WHERE CORNERS.MATCHID IS NULL \n",
    "#WHERE League like 'Premier League'\n",
    "\n",
    "df_matches_no_corner = pd.read_sql(stmt,conn)\n",
    "#df_corners = df_corners['Minute'].notnull()\n",
    "df_matches_no_corner.shape"
   ]
  },
  {
   "cell_type": "code",
   "execution_count": 14,
   "metadata": {},
   "outputs": [
    {
     "data": {
      "text/plain": [
       "(513, 1)"
      ]
     },
     "execution_count": 14,
     "metadata": {},
     "output_type": "execute_result"
    }
   ],
   "source": [
    "stmt = \"\"\"SELECT EXTERNALID FROM MATCHES \n",
    "EXCEPT \n",
    "SELECT MATCHID FROM GOALS\n",
    "\"\"\"\n",
    "#WHERE CORNERS.MATCHID IS NULL \n",
    "#WHERE League like 'Premier League'\n",
    "\n",
    "df_matches_no_goals = pd.read_sql(stmt,conn)\n",
    "#df_corners = df_corners['Minute'].notnull()\n",
    "df_matches_no_goals.shape"
   ]
  },
  {
   "cell_type": "code",
   "execution_count": 15,
   "metadata": {},
   "outputs": [
    {
     "name": "stdout",
     "output_type": "stream",
     "text": [
      "       MatchId ExternalId  Minute  TeamId                 FullName Acronym  \\\n",
      "0          NaN    3631175      15    9847      Paris Saint Germain     PSG   \n",
      "1          NaN    3631254      44    9847      Paris Saint Germain     PSG   \n",
      "2          NaN    3631293      51    9847      Paris Saint Germain     PSG   \n",
      "3          NaN    3631297      52    9837                    Reims     REI   \n",
      "4          NaN    3631347      73    9847      Paris Saint Germain     PSG   \n",
      "5          NaN    3631409      90    9847      Paris Saint Germain     PSG   \n",
      "6          NaN    3633517       3    None                     None    None   \n",
      "7          NaN    3633530       4    9831                     Nice     NIC   \n",
      "8          NaN    3633536       5    9831                     Nice     NIC   \n",
      "9          NaN    3633540       5    9831                     Nice     NIC   \n",
      "10         NaN    3633542       5    9831                     Nice     NIC   \n",
      "11         NaN    3633590       9    8639                    Lille     LIL   \n",
      "12         NaN    3633629      11    8639                    Lille     LIL   \n",
      "13         NaN    3633634      12    8550                     Metz     MET   \n",
      "14         NaN    3633661      13    9827                 Bordeaux     BOR   \n",
      "15         NaN    3633682      15    9941                 Toulouse     TOU   \n",
      "16         NaN    3633745      19    7819                     Caen     CAE   \n",
      "17         NaN    3633747      19    9941                 Toulouse     TOU   \n",
      "18         NaN    3633758      20    9830                   Nantes     NAN   \n",
      "19         NaN    3633760      20    9853            Saint-Etienne     ETI   \n",
      "20         NaN    3633773      20    8592                Marseille     MAR   \n",
      "21         NaN    3633777      21    4087    Evian Thonon Gaillard     ETG   \n",
      "22         NaN    3633779      20    8592                Marseille     MAR   \n",
      "23         NaN    3633804      23    9853            Saint-Etienne     ETI   \n",
      "24         NaN    3633823      24    9747                 Guingamp     GUI   \n",
      "25         NaN    3633849      26    8639                    Lille     LIL   \n",
      "26         NaN    3633866      27    9831                     Nice     NIC   \n",
      "27         NaN    3633896      29    9941                 Toulouse     TOU   \n",
      "28         NaN    3633901      29    9941                 Toulouse     TOU   \n",
      "29         NaN    3633909      30    7819                     Caen     CAE   \n",
      "...        ...        ...     ...     ...                      ...     ...   \n",
      "80176   1521.0    8227483      60    8344                  Cardiff     CAC   \n",
      "80178   1521.0    8227500      61    8344                  Cardiff     CAC   \n",
      "80180   1521.0    8227595      65    8344                  Cardiff     CAC   \n",
      "80182   1521.0    8227754      73    8344                  Cardiff     CAC   \n",
      "80208   1523.0    8226402       4    9879                   Fulham     FUL   \n",
      "80209   1523.0    8226543      13    9879                   Fulham     FUL   \n",
      "80212   1523.0    8227065      45    9879                   Fulham     FUL   \n",
      "80217   1523.0    8227407      58    9879                   Fulham     FUL   \n",
      "80220   1523.0    8227751      73    9879                   Fulham     FUL   \n",
      "80271   1528.0    8228498       6    8602  Wolverhampton Wanderers     WOL   \n",
      "80283   1528.0    8229526      73    8602  Wolverhampton Wanderers     WOL   \n",
      "80285   1528.0    8229664      78    8602  Wolverhampton Wanderers     WOL   \n",
      "80318   1531.0    8255138      10    8344                  Cardiff     CAC   \n",
      "80352   1533.0    8257174       6    8602  Wolverhampton Wanderers     WOL   \n",
      "80354   1533.0    8257186       6    8602  Wolverhampton Wanderers     WOL   \n",
      "80874   3087.0    8231209      67    6394                    Nimes     NIM   \n",
      "81020   3103.0    8272075       8    6394                    Nimes     NIM   \n",
      "81021   3103.0    8272213      13    6394                    Nimes     NIM   \n",
      "81022   3103.0    8272224      13    6394                    Nimes     NIM   \n",
      "81025   3103.0    8273481      54    6394                    Nimes     NIM   \n",
      "81190   5866.0    8271496      11  674792        Parma Calcio 1913     PAR   \n",
      "81193   5866.0    8271923      30  674792        Parma Calcio 1913     PAR   \n",
      "81194   5866.0    8271952      31  674792        Parma Calcio 1913     PAR   \n",
      "81198   5866.0    8273487      82  674792        Parma Calcio 1913     PAR   \n",
      "81264   5876.0    8303927       4  674792        Parma Calcio 1913     PAR   \n",
      "81342   7402.0    8252895      26   10281          Real Valladolid     VAL   \n",
      "81343   7402.0    8253086      43   10281          Real Valladolid     VAL   \n",
      "81398   7409.0    8298558       8   10281          Real Valladolid     VAL   \n",
      "81403   7409.0    8298855      30   10281          Real Valladolid     VAL   \n",
      "81409   7409.0    8298966      54   10281          Real Valladolid     VAL   \n",
      "\n",
      "          Season  \n",
      "0           None  \n",
      "1           None  \n",
      "2           None  \n",
      "3           None  \n",
      "4           None  \n",
      "5           None  \n",
      "6           None  \n",
      "7           None  \n",
      "8           None  \n",
      "9           None  \n",
      "10          None  \n",
      "11          None  \n",
      "12          None  \n",
      "13          None  \n",
      "14          None  \n",
      "15          None  \n",
      "16          None  \n",
      "17          None  \n",
      "18          None  \n",
      "19          None  \n",
      "20          None  \n",
      "21          None  \n",
      "22          None  \n",
      "23          None  \n",
      "24          None  \n",
      "25          None  \n",
      "26          None  \n",
      "27          None  \n",
      "28          None  \n",
      "29          None  \n",
      "...          ...  \n",
      "80176  2018/2019  \n",
      "80178  2018/2019  \n",
      "80180  2018/2019  \n",
      "80182  2018/2019  \n",
      "80208  2018/2019  \n",
      "80209  2018/2019  \n",
      "80212  2018/2019  \n",
      "80217  2018/2019  \n",
      "80220  2018/2019  \n",
      "80271  2018/2019  \n",
      "80283  2018/2019  \n",
      "80285  2018/2019  \n",
      "80318  2018/2019  \n",
      "80352  2018/2019  \n",
      "80354  2018/2019  \n",
      "80874  2018/2019  \n",
      "81020  2018/2019  \n",
      "81021  2018/2019  \n",
      "81022  2018/2019  \n",
      "81025  2018/2019  \n",
      "81190  2018/2019  \n",
      "81193  2018/2019  \n",
      "81194  2018/2019  \n",
      "81198  2018/2019  \n",
      "81264  2018/2019  \n",
      "81342  2018/2019  \n",
      "81343  2018/2019  \n",
      "81398  2018/2019  \n",
      "81403  2018/2019  \n",
      "81409  2018/2019  \n",
      "\n",
      "[675 rows x 7 columns]\n",
      "AC Milan\n"
     ]
    },
    {
     "data": {
      "text/plain": [
       "<Figure size 640x480 with 1 Axes>"
      ]
     },
     "metadata": {},
     "output_type": "display_data"
    },
    {
     "name": "stdout",
     "output_type": "stream",
     "text": [
      "Almeria\n"
     ]
    },
    {
     "data": {
      "text/plain": [
       "<Figure size 640x480 with 1 Axes>"
      ]
     },
     "metadata": {},
     "output_type": "display_data"
    },
    {
     "name": "stdout",
     "output_type": "stream",
     "text": [
      "Amiens\n"
     ]
    },
    {
     "data": {
      "text/plain": [
       "<Figure size 640x480 with 1 Axes>"
      ]
     },
     "metadata": {},
     "output_type": "display_data"
    },
    {
     "name": "stdout",
     "output_type": "stream",
     "text": [
      "Angers\n"
     ]
    },
    {
     "data": {
      "text/plain": [
       "<Figure size 640x480 with 1 Axes>"
      ]
     },
     "metadata": {},
     "output_type": "display_data"
    },
    {
     "name": "stdout",
     "output_type": "stream",
     "text": [
      "Arsenal\n"
     ]
    },
    {
     "data": {
      "text/plain": [
       "<Figure size 640x480 with 1 Axes>"
      ]
     },
     "metadata": {},
     "output_type": "display_data"
    },
    {
     "name": "stdout",
     "output_type": "stream",
     "text": [
      "Aston Villa\n"
     ]
    },
    {
     "data": {
      "text/plain": [
       "<Figure size 640x480 with 1 Axes>"
      ]
     },
     "metadata": {},
     "output_type": "display_data"
    },
    {
     "name": "stdout",
     "output_type": "stream",
     "text": [
      "Atalanta\n"
     ]
    },
    {
     "data": {
      "text/plain": [
       "<Figure size 640x480 with 1 Axes>"
      ]
     },
     "metadata": {},
     "output_type": "display_data"
    },
    {
     "name": "stdout",
     "output_type": "stream",
     "text": [
      "Athletic Bilbao\n"
     ]
    },
    {
     "data": {
      "text/plain": [
       "<Figure size 640x480 with 1 Axes>"
      ]
     },
     "metadata": {},
     "output_type": "display_data"
    },
    {
     "name": "stdout",
     "output_type": "stream",
     "text": [
      "Atletico Madrid\n"
     ]
    },
    {
     "data": {
      "text/plain": [
       "<Figure size 640x480 with 1 Axes>"
      ]
     },
     "metadata": {},
     "output_type": "display_data"
    },
    {
     "name": "stdout",
     "output_type": "stream",
     "text": [
      "Augsburg\n"
     ]
    },
    {
     "data": {
      "text/plain": [
       "<Figure size 640x480 with 1 Axes>"
      ]
     },
     "metadata": {},
     "output_type": "display_data"
    },
    {
     "name": "stdout",
     "output_type": "stream",
     "text": [
      "Barcelona\n"
     ]
    },
    {
     "data": {
      "text/plain": [
       "<Figure size 640x480 with 1 Axes>"
      ]
     },
     "metadata": {},
     "output_type": "display_data"
    },
    {
     "name": "stdout",
     "output_type": "stream",
     "text": [
      "Bayer Leverkusen\n"
     ]
    },
    {
     "data": {
      "text/plain": [
       "<Figure size 640x480 with 1 Axes>"
      ]
     },
     "metadata": {},
     "output_type": "display_data"
    },
    {
     "name": "stdout",
     "output_type": "stream",
     "text": [
      "Bayern Munich\n"
     ]
    },
    {
     "data": {
      "text/plain": [
       "<Figure size 640x480 with 1 Axes>"
      ]
     },
     "metadata": {},
     "output_type": "display_data"
    },
    {
     "name": "stdout",
     "output_type": "stream",
     "text": [
      "Benevento\n"
     ]
    },
    {
     "data": {
      "text/plain": [
       "<Figure size 640x480 with 1 Axes>"
      ]
     },
     "metadata": {},
     "output_type": "display_data"
    },
    {
     "name": "stdout",
     "output_type": "stream",
     "text": [
      "Bologna\n"
     ]
    },
    {
     "data": {
      "text/plain": [
       "<Figure size 640x480 with 1 Axes>"
      ]
     },
     "metadata": {},
     "output_type": "display_data"
    },
    {
     "name": "stdout",
     "output_type": "stream",
     "text": [
      "Bordeaux\n"
     ]
    },
    {
     "data": {
      "text/plain": [
       "<Figure size 640x480 with 1 Axes>"
      ]
     },
     "metadata": {},
     "output_type": "display_data"
    },
    {
     "name": "stdout",
     "output_type": "stream",
     "text": [
      "Borussia Dortmund\n"
     ]
    },
    {
     "data": {
      "text/plain": [
       "<Figure size 640x480 with 1 Axes>"
      ]
     },
     "metadata": {},
     "output_type": "display_data"
    },
    {
     "name": "stdout",
     "output_type": "stream",
     "text": [
      "Borussia Moenchengladbach\n"
     ]
    },
    {
     "data": {
      "text/plain": [
       "<Figure size 640x480 with 1 Axes>"
      ]
     },
     "metadata": {},
     "output_type": "display_data"
    },
    {
     "name": "stdout",
     "output_type": "stream",
     "text": [
      "Bournemouth\n"
     ]
    },
    {
     "data": {
      "text/plain": [
       "<Figure size 640x480 with 1 Axes>"
      ]
     },
     "metadata": {},
     "output_type": "display_data"
    },
    {
     "name": "stdout",
     "output_type": "stream",
     "text": [
      "Brighton\n"
     ]
    },
    {
     "data": {
      "text/plain": [
       "<Figure size 640x480 with 1 Axes>"
      ]
     },
     "metadata": {},
     "output_type": "display_data"
    },
    {
     "name": "stdout",
     "output_type": "stream",
     "text": [
      "Burnley\n"
     ]
    },
    {
     "data": {
      "text/plain": [
       "<Figure size 640x480 with 1 Axes>"
      ]
     },
     "metadata": {},
     "output_type": "display_data"
    },
    {
     "name": "stdout",
     "output_type": "stream",
     "text": [
      "Caen\n"
     ]
    },
    {
     "data": {
      "text/plain": [
       "<Figure size 640x480 with 1 Axes>"
      ]
     },
     "metadata": {},
     "output_type": "display_data"
    },
    {
     "name": "stdout",
     "output_type": "stream",
     "text": [
      "Cagliari\n"
     ]
    },
    {
     "data": {
      "text/plain": [
       "<Figure size 640x480 with 1 Axes>"
      ]
     },
     "metadata": {},
     "output_type": "display_data"
    },
    {
     "name": "stdout",
     "output_type": "stream",
     "text": [
      "Cardiff\n"
     ]
    },
    {
     "data": {
      "text/plain": [
       "<Figure size 640x480 with 1 Axes>"
      ]
     },
     "metadata": {},
     "output_type": "display_data"
    },
    {
     "name": "stdout",
     "output_type": "stream",
     "text": [
      "Carpi\n"
     ]
    },
    {
     "data": {
      "text/plain": [
       "<Figure size 640x480 with 1 Axes>"
      ]
     },
     "metadata": {},
     "output_type": "display_data"
    },
    {
     "name": "stdout",
     "output_type": "stream",
     "text": [
      "Celta Vigo\n"
     ]
    },
    {
     "data": {
      "text/plain": [
       "<Figure size 640x480 with 1 Axes>"
      ]
     },
     "metadata": {},
     "output_type": "display_data"
    },
    {
     "name": "stdout",
     "output_type": "stream",
     "text": [
      "Cesena\n"
     ]
    },
    {
     "data": {
      "text/plain": [
       "<Figure size 640x480 with 1 Axes>"
      ]
     },
     "metadata": {},
     "output_type": "display_data"
    },
    {
     "name": "stdout",
     "output_type": "stream",
     "text": [
      "Chelsea\n"
     ]
    },
    {
     "data": {
      "text/plain": [
       "<Figure size 640x480 with 1 Axes>"
      ]
     },
     "metadata": {},
     "output_type": "display_data"
    },
    {
     "name": "stdout",
     "output_type": "stream",
     "text": [
      "Chievo\n"
     ]
    },
    {
     "data": {
      "text/plain": [
       "<Figure size 640x480 with 1 Axes>"
      ]
     },
     "metadata": {},
     "output_type": "display_data"
    },
    {
     "name": "stdout",
     "output_type": "stream",
     "text": [
      "Cordoba\n"
     ]
    },
    {
     "data": {
      "text/plain": [
       "<Figure size 640x480 with 1 Axes>"
      ]
     },
     "metadata": {},
     "output_type": "display_data"
    },
    {
     "name": "stdout",
     "output_type": "stream",
     "text": [
      "Crotone\n"
     ]
    },
    {
     "data": {
      "text/plain": [
       "<Figure size 640x480 with 1 Axes>"
      ]
     },
     "metadata": {},
     "output_type": "display_data"
    },
    {
     "name": "stdout",
     "output_type": "stream",
     "text": [
      "Crystal Palace\n"
     ]
    },
    {
     "data": {
      "text/plain": [
       "<Figure size 640x480 with 1 Axes>"
      ]
     },
     "metadata": {},
     "output_type": "display_data"
    },
    {
     "name": "stdout",
     "output_type": "stream",
     "text": [
      "Darmstadt\n"
     ]
    },
    {
     "data": {
      "text/plain": [
       "<Figure size 640x480 with 1 Axes>"
      ]
     },
     "metadata": {},
     "output_type": "display_data"
    },
    {
     "name": "stdout",
     "output_type": "stream",
     "text": [
      "Deportivo Alaves\n"
     ]
    },
    {
     "data": {
      "text/plain": [
       "<Figure size 640x480 with 1 Axes>"
      ]
     },
     "metadata": {},
     "output_type": "display_data"
    },
    {
     "name": "stdout",
     "output_type": "stream",
     "text": [
      "Deportivo La Coruna\n"
     ]
    },
    {
     "ename": "KeyboardInterrupt",
     "evalue": "",
     "output_type": "error",
     "traceback": [
      "\u001b[1;31m---------------------------------------------------------------------------\u001b[0m",
      "\u001b[1;31mKeyboardInterrupt\u001b[0m                         Traceback (most recent call last)",
      "\u001b[1;32m<ipython-input-15-6e1369594e93>\u001b[0m in \u001b[0;36m<module>\u001b[1;34m\u001b[0m\n\u001b[0;32m     14\u001b[0m     \u001b[1;31m#plt.\u001b[0m\u001b[1;33m\u001b[0m\u001b[1;33m\u001b[0m\u001b[0m\n\u001b[0;32m     15\u001b[0m     \u001b[0mprint\u001b[0m\u001b[1;33m(\u001b[0m\u001b[0mgroup\u001b[0m\u001b[1;33m[\u001b[0m\u001b[1;36m1\u001b[0m\u001b[1;33m]\u001b[0m\u001b[1;33m.\u001b[0m\u001b[0mFullName\u001b[0m\u001b[1;33m.\u001b[0m\u001b[0mvalues\u001b[0m\u001b[1;33m[\u001b[0m\u001b[1;36m0\u001b[0m\u001b[1;33m]\u001b[0m\u001b[1;33m)\u001b[0m\u001b[1;33m\u001b[0m\u001b[0m\n\u001b[1;32m---> 16\u001b[1;33m     \u001b[0mplt\u001b[0m\u001b[1;33m.\u001b[0m\u001b[0mhist\u001b[0m\u001b[1;33m(\u001b[0m\u001b[0mgroup\u001b[0m\u001b[1;33m[\u001b[0m\u001b[1;36m1\u001b[0m\u001b[1;33m]\u001b[0m\u001b[1;33m.\u001b[0m\u001b[0mMinute\u001b[0m\u001b[1;33m,\u001b[0m \u001b[0mbins\u001b[0m\u001b[1;33m=\u001b[0m\u001b[1;36m45\u001b[0m\u001b[1;33m)\u001b[0m\u001b[1;33m\u001b[0m\u001b[0m\n\u001b[0m\u001b[0;32m     17\u001b[0m     \u001b[1;31m#cumulative=1, density=True, histtype='step'\u001b[0m\u001b[1;33m\u001b[0m\u001b[1;33m\u001b[0m\u001b[0m\n\u001b[0;32m     18\u001b[0m     \u001b[0maxes\u001b[0m \u001b[1;33m=\u001b[0m \u001b[0mplt\u001b[0m\u001b[1;33m.\u001b[0m\u001b[0mgca\u001b[0m\u001b[1;33m(\u001b[0m\u001b[1;33m)\u001b[0m\u001b[1;33m\u001b[0m\u001b[0m\n",
      "\u001b[1;32mc:\\users\\martin\\anaconda3\\envs\\tensorflow\\lib\\site-packages\\matplotlib\\pyplot.py\u001b[0m in \u001b[0;36mhist\u001b[1;34m(x, bins, range, density, weights, cumulative, bottom, histtype, align, orientation, rwidth, log, color, label, stacked, normed, data, **kwargs)\u001b[0m\n\u001b[0;32m   2652\u001b[0m         \u001b[0mlabel\u001b[0m\u001b[1;33m=\u001b[0m\u001b[1;32mNone\u001b[0m\u001b[1;33m,\u001b[0m \u001b[0mstacked\u001b[0m\u001b[1;33m=\u001b[0m\u001b[1;32mFalse\u001b[0m\u001b[1;33m,\u001b[0m \u001b[0mnormed\u001b[0m\u001b[1;33m=\u001b[0m\u001b[1;32mNone\u001b[0m\u001b[1;33m,\u001b[0m \u001b[1;33m*\u001b[0m\u001b[1;33m,\u001b[0m \u001b[0mdata\u001b[0m\u001b[1;33m=\u001b[0m\u001b[1;32mNone\u001b[0m\u001b[1;33m,\u001b[0m\u001b[1;33m\u001b[0m\u001b[0m\n\u001b[0;32m   2653\u001b[0m         **kwargs):\n\u001b[1;32m-> 2654\u001b[1;33m     return gca().hist(\n\u001b[0m\u001b[0;32m   2655\u001b[0m         \u001b[0mx\u001b[0m\u001b[1;33m,\u001b[0m \u001b[0mbins\u001b[0m\u001b[1;33m=\u001b[0m\u001b[0mbins\u001b[0m\u001b[1;33m,\u001b[0m \u001b[0mrange\u001b[0m\u001b[1;33m=\u001b[0m\u001b[0mrange\u001b[0m\u001b[1;33m,\u001b[0m \u001b[0mdensity\u001b[0m\u001b[1;33m=\u001b[0m\u001b[0mdensity\u001b[0m\u001b[1;33m,\u001b[0m \u001b[0mweights\u001b[0m\u001b[1;33m=\u001b[0m\u001b[0mweights\u001b[0m\u001b[1;33m,\u001b[0m\u001b[1;33m\u001b[0m\u001b[0m\n\u001b[0;32m   2656\u001b[0m         \u001b[0mcumulative\u001b[0m\u001b[1;33m=\u001b[0m\u001b[0mcumulative\u001b[0m\u001b[1;33m,\u001b[0m \u001b[0mbottom\u001b[0m\u001b[1;33m=\u001b[0m\u001b[0mbottom\u001b[0m\u001b[1;33m,\u001b[0m \u001b[0mhisttype\u001b[0m\u001b[1;33m=\u001b[0m\u001b[0mhisttype\u001b[0m\u001b[1;33m,\u001b[0m\u001b[1;33m\u001b[0m\u001b[0m\n",
      "\u001b[1;32mc:\\users\\martin\\anaconda3\\envs\\tensorflow\\lib\\site-packages\\matplotlib\\pyplot.py\u001b[0m in \u001b[0;36mgca\u001b[1;34m(**kwargs)\u001b[0m\n\u001b[0;32m    933\u001b[0m     \u001b[0mmatplotlib\u001b[0m\u001b[1;33m.\u001b[0m\u001b[0mfigure\u001b[0m\u001b[1;33m.\u001b[0m\u001b[0mFigure\u001b[0m\u001b[1;33m.\u001b[0m\u001b[0mgca\u001b[0m \u001b[1;33m:\u001b[0m \u001b[0mThe\u001b[0m \u001b[0mfigure\u001b[0m\u001b[0;31m'\u001b[0m\u001b[0ms\u001b[0m \u001b[0mgca\u001b[0m \u001b[0mmethod\u001b[0m\u001b[1;33m.\u001b[0m\u001b[1;33m\u001b[0m\u001b[0m\n\u001b[0;32m    934\u001b[0m     \"\"\"\n\u001b[1;32m--> 935\u001b[1;33m     \u001b[1;32mreturn\u001b[0m \u001b[0mgcf\u001b[0m\u001b[1;33m(\u001b[0m\u001b[1;33m)\u001b[0m\u001b[1;33m.\u001b[0m\u001b[0mgca\u001b[0m\u001b[1;33m(\u001b[0m\u001b[1;33m**\u001b[0m\u001b[0mkwargs\u001b[0m\u001b[1;33m)\u001b[0m\u001b[1;33m\u001b[0m\u001b[0m\n\u001b[0m\u001b[0;32m    936\u001b[0m \u001b[1;33m\u001b[0m\u001b[0m\n\u001b[0;32m    937\u001b[0m \u001b[1;33m\u001b[0m\u001b[0m\n",
      "\u001b[1;32mc:\\users\\martin\\anaconda3\\envs\\tensorflow\\lib\\site-packages\\matplotlib\\figure.py\u001b[0m in \u001b[0;36mgca\u001b[1;34m(self, **kwargs)\u001b[0m\n\u001b[0;32m   1861\u001b[0m \u001b[1;33m\u001b[0m\u001b[0m\n\u001b[0;32m   1862\u001b[0m         \u001b[1;31m# no axes found, so create one which spans the figure\u001b[0m\u001b[1;33m\u001b[0m\u001b[1;33m\u001b[0m\u001b[0m\n\u001b[1;32m-> 1863\u001b[1;33m         \u001b[1;32mreturn\u001b[0m \u001b[0mself\u001b[0m\u001b[1;33m.\u001b[0m\u001b[0madd_subplot\u001b[0m\u001b[1;33m(\u001b[0m\u001b[1;36m1\u001b[0m\u001b[1;33m,\u001b[0m \u001b[1;36m1\u001b[0m\u001b[1;33m,\u001b[0m \u001b[1;36m1\u001b[0m\u001b[1;33m,\u001b[0m \u001b[1;33m**\u001b[0m\u001b[0mkwargs\u001b[0m\u001b[1;33m)\u001b[0m\u001b[1;33m\u001b[0m\u001b[0m\n\u001b[0m\u001b[0;32m   1864\u001b[0m \u001b[1;33m\u001b[0m\u001b[0m\n\u001b[0;32m   1865\u001b[0m     \u001b[1;32mdef\u001b[0m \u001b[0msca\u001b[0m\u001b[1;33m(\u001b[0m\u001b[0mself\u001b[0m\u001b[1;33m,\u001b[0m \u001b[0ma\u001b[0m\u001b[1;33m)\u001b[0m\u001b[1;33m:\u001b[0m\u001b[1;33m\u001b[0m\u001b[0m\n",
      "\u001b[1;32mc:\\users\\martin\\anaconda3\\envs\\tensorflow\\lib\\site-packages\\matplotlib\\figure.py\u001b[0m in \u001b[0;36madd_subplot\u001b[1;34m(self, *args, **kwargs)\u001b[0m\n\u001b[0;32m   1365\u001b[0m                     \u001b[0mself\u001b[0m\u001b[1;33m.\u001b[0m\u001b[0m_axstack\u001b[0m\u001b[1;33m.\u001b[0m\u001b[0mremove\u001b[0m\u001b[1;33m(\u001b[0m\u001b[0max\u001b[0m\u001b[1;33m)\u001b[0m\u001b[1;33m\u001b[0m\u001b[0m\n\u001b[0;32m   1366\u001b[0m \u001b[1;33m\u001b[0m\u001b[0m\n\u001b[1;32m-> 1367\u001b[1;33m             \u001b[0ma\u001b[0m \u001b[1;33m=\u001b[0m \u001b[0msubplot_class_factory\u001b[0m\u001b[1;33m(\u001b[0m\u001b[0mprojection_class\u001b[0m\u001b[1;33m)\u001b[0m\u001b[1;33m(\u001b[0m\u001b[0mself\u001b[0m\u001b[1;33m,\u001b[0m \u001b[1;33m*\u001b[0m\u001b[0margs\u001b[0m\u001b[1;33m,\u001b[0m \u001b[1;33m**\u001b[0m\u001b[0mkwargs\u001b[0m\u001b[1;33m)\u001b[0m\u001b[1;33m\u001b[0m\u001b[0m\n\u001b[0m\u001b[0;32m   1368\u001b[0m         \u001b[0mself\u001b[0m\u001b[1;33m.\u001b[0m\u001b[0m_axstack\u001b[0m\u001b[1;33m.\u001b[0m\u001b[0madd\u001b[0m\u001b[1;33m(\u001b[0m\u001b[0mkey\u001b[0m\u001b[1;33m,\u001b[0m \u001b[0ma\u001b[0m\u001b[1;33m)\u001b[0m\u001b[1;33m\u001b[0m\u001b[0m\n\u001b[0;32m   1369\u001b[0m         \u001b[0mself\u001b[0m\u001b[1;33m.\u001b[0m\u001b[0msca\u001b[0m\u001b[1;33m(\u001b[0m\u001b[0ma\u001b[0m\u001b[1;33m)\u001b[0m\u001b[1;33m\u001b[0m\u001b[0m\n",
      "\u001b[1;32mc:\\users\\martin\\anaconda3\\envs\\tensorflow\\lib\\site-packages\\matplotlib\\axes\\_subplots.py\u001b[0m in \u001b[0;36m__init__\u001b[1;34m(self, fig, *args, **kwargs)\u001b[0m\n\u001b[0;32m     68\u001b[0m \u001b[1;33m\u001b[0m\u001b[0m\n\u001b[0;32m     69\u001b[0m         \u001b[1;31m# _axes_class is set in the subplot_class_factory\u001b[0m\u001b[1;33m\u001b[0m\u001b[1;33m\u001b[0m\u001b[0m\n\u001b[1;32m---> 70\u001b[1;33m         \u001b[0mself\u001b[0m\u001b[1;33m.\u001b[0m\u001b[0m_axes_class\u001b[0m\u001b[1;33m.\u001b[0m\u001b[0m__init__\u001b[0m\u001b[1;33m(\u001b[0m\u001b[0mself\u001b[0m\u001b[1;33m,\u001b[0m \u001b[0mfig\u001b[0m\u001b[1;33m,\u001b[0m \u001b[0mself\u001b[0m\u001b[1;33m.\u001b[0m\u001b[0mfigbox\u001b[0m\u001b[1;33m,\u001b[0m \u001b[1;33m**\u001b[0m\u001b[0mkwargs\u001b[0m\u001b[1;33m)\u001b[0m\u001b[1;33m\u001b[0m\u001b[0m\n\u001b[0m\u001b[0;32m     71\u001b[0m         \u001b[1;31m# add a layout box to this, for both the full axis, and the poss\u001b[0m\u001b[1;33m\u001b[0m\u001b[1;33m\u001b[0m\u001b[0m\n\u001b[0;32m     72\u001b[0m         \u001b[1;31m# of the axis.  We need both because the axes may become smaller\u001b[0m\u001b[1;33m\u001b[0m\u001b[1;33m\u001b[0m\u001b[0m\n",
      "\u001b[1;32mc:\\users\\martin\\anaconda3\\envs\\tensorflow\\lib\\site-packages\\matplotlib\\axes\\_base.py\u001b[0m in \u001b[0;36m__init__\u001b[1;34m(self, fig, rect, facecolor, frameon, sharex, sharey, label, xscale, yscale, **kwargs)\u001b[0m\n\u001b[0;32m    489\u001b[0m         \u001b[0mself\u001b[0m\u001b[1;33m.\u001b[0m\u001b[0m_rasterization_zorder\u001b[0m \u001b[1;33m=\u001b[0m \u001b[1;32mNone\u001b[0m\u001b[1;33m\u001b[0m\u001b[0m\n\u001b[0;32m    490\u001b[0m         \u001b[0mself\u001b[0m\u001b[1;33m.\u001b[0m\u001b[0m_connected\u001b[0m \u001b[1;33m=\u001b[0m \u001b[1;33m{\u001b[0m\u001b[1;33m}\u001b[0m  \u001b[1;31m# a dict from events to (id, func)\u001b[0m\u001b[1;33m\u001b[0m\u001b[0m\n\u001b[1;32m--> 491\u001b[1;33m         \u001b[0mself\u001b[0m\u001b[1;33m.\u001b[0m\u001b[0mcla\u001b[0m\u001b[1;33m(\u001b[0m\u001b[1;33m)\u001b[0m\u001b[1;33m\u001b[0m\u001b[0m\n\u001b[0m\u001b[0;32m    492\u001b[0m \u001b[1;33m\u001b[0m\u001b[0m\n\u001b[0;32m    493\u001b[0m         \u001b[1;31m# funcs used to format x and y - fall back on major formatters\u001b[0m\u001b[1;33m\u001b[0m\u001b[1;33m\u001b[0m\u001b[0m\n",
      "\u001b[1;32mc:\\users\\martin\\anaconda3\\envs\\tensorflow\\lib\\site-packages\\matplotlib\\axes\\_base.py\u001b[0m in \u001b[0;36mcla\u001b[1;34m(self)\u001b[0m\n\u001b[0;32m   1048\u001b[0m         \u001b[0mself\u001b[0m\u001b[1;33m.\u001b[0m\u001b[0mcontainers\u001b[0m \u001b[1;33m=\u001b[0m \u001b[1;33m[\u001b[0m\u001b[1;33m]\u001b[0m\u001b[1;33m\u001b[0m\u001b[0m\n\u001b[0;32m   1049\u001b[0m \u001b[1;33m\u001b[0m\u001b[0m\n\u001b[1;32m-> 1050\u001b[1;33m         \u001b[0mself\u001b[0m\u001b[1;33m.\u001b[0m\u001b[0mgrid\u001b[0m\u001b[1;33m(\u001b[0m\u001b[1;32mFalse\u001b[0m\u001b[1;33m)\u001b[0m  \u001b[1;31m# Disable grid on init to use rcParameter\u001b[0m\u001b[1;33m\u001b[0m\u001b[0m\n\u001b[0m\u001b[0;32m   1051\u001b[0m         self.grid(self._gridOn, which=rcParams['axes.grid.which'],\n\u001b[0;32m   1052\u001b[0m                   axis=rcParams['axes.grid.axis'])\n",
      "\u001b[1;32mc:\\users\\martin\\anaconda3\\envs\\tensorflow\\lib\\site-packages\\matplotlib\\axes\\_base.py\u001b[0m in \u001b[0;36mgrid\u001b[1;34m(self, b, which, axis, **kwargs)\u001b[0m\n\u001b[0;32m   2764\u001b[0m             \u001b[0mself\u001b[0m\u001b[1;33m.\u001b[0m\u001b[0mxaxis\u001b[0m\u001b[1;33m.\u001b[0m\u001b[0mgrid\u001b[0m\u001b[1;33m(\u001b[0m\u001b[0mb\u001b[0m\u001b[1;33m,\u001b[0m \u001b[0mwhich\u001b[0m\u001b[1;33m=\u001b[0m\u001b[0mwhich\u001b[0m\u001b[1;33m,\u001b[0m \u001b[1;33m**\u001b[0m\u001b[0mkwargs\u001b[0m\u001b[1;33m)\u001b[0m\u001b[1;33m\u001b[0m\u001b[0m\n\u001b[0;32m   2765\u001b[0m         \u001b[1;32mif\u001b[0m \u001b[0maxis\u001b[0m \u001b[1;33m==\u001b[0m \u001b[1;34m'y'\u001b[0m \u001b[1;32mor\u001b[0m \u001b[0maxis\u001b[0m \u001b[1;33m==\u001b[0m \u001b[1;34m'both'\u001b[0m\u001b[1;33m:\u001b[0m\u001b[1;33m\u001b[0m\u001b[0m\n\u001b[1;32m-> 2766\u001b[1;33m             \u001b[0mself\u001b[0m\u001b[1;33m.\u001b[0m\u001b[0myaxis\u001b[0m\u001b[1;33m.\u001b[0m\u001b[0mgrid\u001b[0m\u001b[1;33m(\u001b[0m\u001b[0mb\u001b[0m\u001b[1;33m,\u001b[0m \u001b[0mwhich\u001b[0m\u001b[1;33m=\u001b[0m\u001b[0mwhich\u001b[0m\u001b[1;33m,\u001b[0m \u001b[1;33m**\u001b[0m\u001b[0mkwargs\u001b[0m\u001b[1;33m)\u001b[0m\u001b[1;33m\u001b[0m\u001b[0m\n\u001b[0m\u001b[0;32m   2767\u001b[0m \u001b[1;33m\u001b[0m\u001b[0m\n\u001b[0;32m   2768\u001b[0m     def ticklabel_format(self, *, axis='both', style='', scilimits=None,\n",
      "\u001b[1;32mc:\\users\\martin\\anaconda3\\envs\\tensorflow\\lib\\site-packages\\matplotlib\\axis.py\u001b[0m in \u001b[0;36mgrid\u001b[1;34m(self, b, which, **kwargs)\u001b[0m\n\u001b[0;32m   1455\u001b[0m                 \u001b[0mself\u001b[0m\u001b[1;33m.\u001b[0m\u001b[0m_gridOnMajor\u001b[0m \u001b[1;33m=\u001b[0m \u001b[0mb\u001b[0m\u001b[1;33m\u001b[0m\u001b[0m\n\u001b[0;32m   1456\u001b[0m             self.set_tick_params(which='major', gridOn=self._gridOnMajor,\n\u001b[1;32m-> 1457\u001b[1;33m                                  **gridkw)\n\u001b[0m\u001b[0;32m   1458\u001b[0m         \u001b[0mself\u001b[0m\u001b[1;33m.\u001b[0m\u001b[0mstale\u001b[0m \u001b[1;33m=\u001b[0m \u001b[1;32mTrue\u001b[0m\u001b[1;33m\u001b[0m\u001b[0m\n\u001b[0;32m   1459\u001b[0m \u001b[1;33m\u001b[0m\u001b[0m\n",
      "\u001b[1;32mc:\\users\\martin\\anaconda3\\envs\\tensorflow\\lib\\site-packages\\matplotlib\\axis.py\u001b[0m in \u001b[0;36mset_tick_params\u001b[1;34m(self, which, reset, **kw)\u001b[0m\n\u001b[0;32m    860\u001b[0m         \u001b[1;32melse\u001b[0m\u001b[1;33m:\u001b[0m\u001b[1;33m\u001b[0m\u001b[0m\n\u001b[0;32m    861\u001b[0m             \u001b[1;32mif\u001b[0m \u001b[0mwhich\u001b[0m \u001b[1;33m==\u001b[0m \u001b[1;34m'major'\u001b[0m \u001b[1;32mor\u001b[0m \u001b[0mwhich\u001b[0m \u001b[1;33m==\u001b[0m \u001b[1;34m'both'\u001b[0m\u001b[1;33m:\u001b[0m\u001b[1;33m\u001b[0m\u001b[0m\n\u001b[1;32m--> 862\u001b[1;33m                 \u001b[1;32mfor\u001b[0m \u001b[0mtick\u001b[0m \u001b[1;32min\u001b[0m \u001b[0mself\u001b[0m\u001b[1;33m.\u001b[0m\u001b[0mmajorTicks\u001b[0m\u001b[1;33m:\u001b[0m\u001b[1;33m\u001b[0m\u001b[0m\n\u001b[0m\u001b[0;32m    863\u001b[0m                     \u001b[0mtick\u001b[0m\u001b[1;33m.\u001b[0m\u001b[0m_apply_params\u001b[0m\u001b[1;33m(\u001b[0m\u001b[1;33m**\u001b[0m\u001b[0mself\u001b[0m\u001b[1;33m.\u001b[0m\u001b[0m_major_tick_kw\u001b[0m\u001b[1;33m)\u001b[0m\u001b[1;33m\u001b[0m\u001b[0m\n\u001b[0;32m    864\u001b[0m             \u001b[1;32mif\u001b[0m \u001b[0mwhich\u001b[0m \u001b[1;33m==\u001b[0m \u001b[1;34m'minor'\u001b[0m \u001b[1;32mor\u001b[0m \u001b[0mwhich\u001b[0m \u001b[1;33m==\u001b[0m \u001b[1;34m'both'\u001b[0m\u001b[1;33m:\u001b[0m\u001b[1;33m\u001b[0m\u001b[0m\n",
      "\u001b[1;32mc:\\users\\martin\\anaconda3\\envs\\tensorflow\\lib\\site-packages\\matplotlib\\axis.py\u001b[0m in \u001b[0;36m__get__\u001b[1;34m(self, instance, cls)\u001b[0m\n\u001b[0;32m    676\u001b[0m                 \u001b[0minstance\u001b[0m\u001b[1;33m.\u001b[0m\u001b[0mmajorTicks\u001b[0m \u001b[1;33m=\u001b[0m \u001b[1;33m[\u001b[0m\u001b[1;33m]\u001b[0m\u001b[1;33m\u001b[0m\u001b[0m\n\u001b[0;32m    677\u001b[0m                 \u001b[0mtick\u001b[0m \u001b[1;33m=\u001b[0m \u001b[0minstance\u001b[0m\u001b[1;33m.\u001b[0m\u001b[0m_get_tick\u001b[0m\u001b[1;33m(\u001b[0m\u001b[0mmajor\u001b[0m\u001b[1;33m=\u001b[0m\u001b[1;32mTrue\u001b[0m\u001b[1;33m)\u001b[0m\u001b[1;33m\u001b[0m\u001b[0m\n\u001b[1;32m--> 678\u001b[1;33m                 \u001b[0minstance\u001b[0m\u001b[1;33m.\u001b[0m\u001b[0mmajorTicks\u001b[0m\u001b[1;33m.\u001b[0m\u001b[0mappend\u001b[0m\u001b[1;33m(\u001b[0m\u001b[0mtick\u001b[0m\u001b[1;33m)\u001b[0m\u001b[1;33m\u001b[0m\u001b[0m\n\u001b[0m\u001b[0;32m    679\u001b[0m                 \u001b[1;32mreturn\u001b[0m \u001b[0minstance\u001b[0m\u001b[1;33m.\u001b[0m\u001b[0mmajorTicks\u001b[0m\u001b[1;33m\u001b[0m\u001b[0m\n\u001b[0;32m    680\u001b[0m             \u001b[1;32melse\u001b[0m\u001b[1;33m:\u001b[0m\u001b[1;33m\u001b[0m\u001b[0m\n",
      "\u001b[1;32mc:\\users\\martin\\anaconda3\\envs\\tensorflow\\lib\\site-packages\\matplotlib\\axis.py\u001b[0m in \u001b[0;36m__get__\u001b[1;34m(self, instance, cls)\u001b[0m\n\u001b[0;32m    675\u001b[0m             \u001b[1;32mif\u001b[0m \u001b[0mself\u001b[0m\u001b[1;33m.\u001b[0m\u001b[0m_major\u001b[0m\u001b[1;33m:\u001b[0m\u001b[1;33m\u001b[0m\u001b[0m\n\u001b[0;32m    676\u001b[0m                 \u001b[0minstance\u001b[0m\u001b[1;33m.\u001b[0m\u001b[0mmajorTicks\u001b[0m \u001b[1;33m=\u001b[0m \u001b[1;33m[\u001b[0m\u001b[1;33m]\u001b[0m\u001b[1;33m\u001b[0m\u001b[0m\n\u001b[1;32m--> 677\u001b[1;33m                 \u001b[0mtick\u001b[0m \u001b[1;33m=\u001b[0m \u001b[0minstance\u001b[0m\u001b[1;33m.\u001b[0m\u001b[0m_get_tick\u001b[0m\u001b[1;33m(\u001b[0m\u001b[0mmajor\u001b[0m\u001b[1;33m=\u001b[0m\u001b[1;32mTrue\u001b[0m\u001b[1;33m)\u001b[0m\u001b[1;33m\u001b[0m\u001b[0m\n\u001b[0m\u001b[0;32m    678\u001b[0m                 \u001b[0minstance\u001b[0m\u001b[1;33m.\u001b[0m\u001b[0mmajorTicks\u001b[0m\u001b[1;33m.\u001b[0m\u001b[0mappend\u001b[0m\u001b[1;33m(\u001b[0m\u001b[0mtick\u001b[0m\u001b[1;33m)\u001b[0m\u001b[1;33m\u001b[0m\u001b[0m\n\u001b[0;32m    679\u001b[0m                 \u001b[1;32mreturn\u001b[0m \u001b[0minstance\u001b[0m\u001b[1;33m.\u001b[0m\u001b[0mmajorTicks\u001b[0m\u001b[1;33m\u001b[0m\u001b[0m\n",
      "\u001b[1;32mc:\\users\\martin\\anaconda3\\envs\\tensorflow\\lib\\site-packages\\matplotlib\\axis.py\u001b[0m in \u001b[0;36m_get_tick\u001b[1;34m(self, major)\u001b[0m\n\u001b[0;32m   2192\u001b[0m         \u001b[1;32melse\u001b[0m\u001b[1;33m:\u001b[0m\u001b[1;33m\u001b[0m\u001b[0m\n\u001b[0;32m   2193\u001b[0m             \u001b[0mtick_kw\u001b[0m \u001b[1;33m=\u001b[0m \u001b[0mself\u001b[0m\u001b[1;33m.\u001b[0m\u001b[0m_minor_tick_kw\u001b[0m\u001b[1;33m\u001b[0m\u001b[0m\n\u001b[1;32m-> 2194\u001b[1;33m         \u001b[1;32mreturn\u001b[0m \u001b[0mYTick\u001b[0m\u001b[1;33m(\u001b[0m\u001b[0mself\u001b[0m\u001b[1;33m.\u001b[0m\u001b[0maxes\u001b[0m\u001b[1;33m,\u001b[0m \u001b[1;36m0\u001b[0m\u001b[1;33m,\u001b[0m \u001b[1;34m''\u001b[0m\u001b[1;33m,\u001b[0m \u001b[0mmajor\u001b[0m\u001b[1;33m=\u001b[0m\u001b[0mmajor\u001b[0m\u001b[1;33m,\u001b[0m \u001b[1;33m**\u001b[0m\u001b[0mtick_kw\u001b[0m\u001b[1;33m)\u001b[0m\u001b[1;33m\u001b[0m\u001b[0m\n\u001b[0m\u001b[0;32m   2195\u001b[0m \u001b[1;33m\u001b[0m\u001b[0m\n\u001b[0;32m   2196\u001b[0m     \u001b[1;32mdef\u001b[0m \u001b[0m_get_label\u001b[0m\u001b[1;33m(\u001b[0m\u001b[0mself\u001b[0m\u001b[1;33m)\u001b[0m\u001b[1;33m:\u001b[0m\u001b[1;33m\u001b[0m\u001b[0m\n",
      "\u001b[1;32mc:\\users\\martin\\anaconda3\\envs\\tensorflow\\lib\\site-packages\\matplotlib\\axis.py\u001b[0m in \u001b[0;36m__init__\u001b[1;34m(self, axes, loc, label, size, width, color, tickdir, pad, labelsize, labelcolor, zorder, gridOn, tick1On, tick2On, label1On, label2On, major, labelrotation, grid_color, grid_linestyle, grid_linewidth, grid_alpha, **kw)\u001b[0m\n\u001b[0;32m    172\u001b[0m         \u001b[0mself\u001b[0m\u001b[1;33m.\u001b[0m\u001b[0mapply_tickdir\u001b[0m\u001b[1;33m(\u001b[0m\u001b[0mtickdir\u001b[0m\u001b[1;33m)\u001b[0m\u001b[1;33m\u001b[0m\u001b[0m\n\u001b[0;32m    173\u001b[0m \u001b[1;33m\u001b[0m\u001b[0m\n\u001b[1;32m--> 174\u001b[1;33m         \u001b[0mself\u001b[0m\u001b[1;33m.\u001b[0m\u001b[0mtick1line\u001b[0m \u001b[1;33m=\u001b[0m \u001b[0mself\u001b[0m\u001b[1;33m.\u001b[0m\u001b[0m_get_tick1line\u001b[0m\u001b[1;33m(\u001b[0m\u001b[1;33m)\u001b[0m\u001b[1;33m\u001b[0m\u001b[0m\n\u001b[0m\u001b[0;32m    175\u001b[0m         \u001b[0mself\u001b[0m\u001b[1;33m.\u001b[0m\u001b[0mtick2line\u001b[0m \u001b[1;33m=\u001b[0m \u001b[0mself\u001b[0m\u001b[1;33m.\u001b[0m\u001b[0m_get_tick2line\u001b[0m\u001b[1;33m(\u001b[0m\u001b[1;33m)\u001b[0m\u001b[1;33m\u001b[0m\u001b[0m\n\u001b[0;32m    176\u001b[0m         \u001b[0mself\u001b[0m\u001b[1;33m.\u001b[0m\u001b[0mgridline\u001b[0m \u001b[1;33m=\u001b[0m \u001b[0mself\u001b[0m\u001b[1;33m.\u001b[0m\u001b[0m_get_gridline\u001b[0m\u001b[1;33m(\u001b[0m\u001b[1;33m)\u001b[0m\u001b[1;33m\u001b[0m\u001b[0m\n",
      "\u001b[1;32mc:\\users\\martin\\anaconda3\\envs\\tensorflow\\lib\\site-packages\\matplotlib\\axis.py\u001b[0m in \u001b[0;36m_get_tick1line\u001b[1;34m(self)\u001b[0m\n\u001b[0;32m    593\u001b[0m                           \u001b[0mmarkersize\u001b[0m\u001b[1;33m=\u001b[0m\u001b[0mself\u001b[0m\u001b[1;33m.\u001b[0m\u001b[0m_size\u001b[0m\u001b[1;33m,\u001b[0m\u001b[1;33m\u001b[0m\u001b[0m\n\u001b[0;32m    594\u001b[0m                           \u001b[0mmarkeredgewidth\u001b[0m\u001b[1;33m=\u001b[0m\u001b[0mself\u001b[0m\u001b[1;33m.\u001b[0m\u001b[0m_width\u001b[0m\u001b[1;33m,\u001b[0m\u001b[1;33m\u001b[0m\u001b[0m\n\u001b[1;32m--> 595\u001b[1;33m                           zorder=self._zorder)\n\u001b[0m\u001b[0;32m    596\u001b[0m         \u001b[0ml\u001b[0m\u001b[1;33m.\u001b[0m\u001b[0mset_transform\u001b[0m\u001b[1;33m(\u001b[0m\u001b[0mself\u001b[0m\u001b[1;33m.\u001b[0m\u001b[0maxes\u001b[0m\u001b[1;33m.\u001b[0m\u001b[0mget_yaxis_transform\u001b[0m\u001b[1;33m(\u001b[0m\u001b[0mwhich\u001b[0m\u001b[1;33m=\u001b[0m\u001b[1;34m'tick1'\u001b[0m\u001b[1;33m)\u001b[0m\u001b[1;33m)\u001b[0m\u001b[1;33m\u001b[0m\u001b[0m\n\u001b[0;32m    597\u001b[0m         \u001b[0mself\u001b[0m\u001b[1;33m.\u001b[0m\u001b[0m_set_artist_props\u001b[0m\u001b[1;33m(\u001b[0m\u001b[0ml\u001b[0m\u001b[1;33m)\u001b[0m\u001b[1;33m\u001b[0m\u001b[0m\n",
      "\u001b[1;32mc:\\users\\martin\\anaconda3\\envs\\tensorflow\\lib\\site-packages\\matplotlib\\lines.py\u001b[0m in \u001b[0;36m__init__\u001b[1;34m(self, xdata, ydata, linewidth, linestyle, color, marker, markersize, markeredgewidth, markeredgecolor, markerfacecolor, markerfacecoloralt, fillstyle, antialiased, dash_capstyle, solid_capstyle, dash_joinstyle, solid_joinstyle, pickradius, drawstyle, markevery, **kwargs)\u001b[0m\n\u001b[0;32m    384\u001b[0m         \u001b[0mself\u001b[0m\u001b[1;33m.\u001b[0m\u001b[0m_color\u001b[0m \u001b[1;33m=\u001b[0m \u001b[1;32mNone\u001b[0m\u001b[1;33m\u001b[0m\u001b[0m\n\u001b[0;32m    385\u001b[0m         \u001b[0mself\u001b[0m\u001b[1;33m.\u001b[0m\u001b[0mset_color\u001b[0m\u001b[1;33m(\u001b[0m\u001b[0mcolor\u001b[0m\u001b[1;33m)\u001b[0m\u001b[1;33m\u001b[0m\u001b[0m\n\u001b[1;32m--> 386\u001b[1;33m         \u001b[0mself\u001b[0m\u001b[1;33m.\u001b[0m\u001b[0m_marker\u001b[0m \u001b[1;33m=\u001b[0m \u001b[0mMarkerStyle\u001b[0m\u001b[1;33m(\u001b[0m\u001b[0mmarker\u001b[0m\u001b[1;33m,\u001b[0m \u001b[0mfillstyle\u001b[0m\u001b[1;33m)\u001b[0m\u001b[1;33m\u001b[0m\u001b[0m\n\u001b[0m\u001b[0;32m    387\u001b[0m \u001b[1;33m\u001b[0m\u001b[0m\n\u001b[0;32m    388\u001b[0m         \u001b[0mself\u001b[0m\u001b[1;33m.\u001b[0m\u001b[0m_markevery\u001b[0m \u001b[1;33m=\u001b[0m \u001b[1;32mNone\u001b[0m\u001b[1;33m\u001b[0m\u001b[0m\n",
      "\u001b[1;32mc:\\users\\martin\\anaconda3\\envs\\tensorflow\\lib\\site-packages\\matplotlib\\markers.py\u001b[0m in \u001b[0;36m__init__\u001b[1;34m(self, marker, fillstyle)\u001b[0m\n\u001b[0;32m    243\u001b[0m         \u001b[0mself\u001b[0m\u001b[1;33m.\u001b[0m\u001b[0m_marker_function\u001b[0m \u001b[1;33m=\u001b[0m \u001b[1;32mNone\u001b[0m\u001b[1;33m\u001b[0m\u001b[0m\n\u001b[0;32m    244\u001b[0m         \u001b[0mself\u001b[0m\u001b[1;33m.\u001b[0m\u001b[0mset_fillstyle\u001b[0m\u001b[1;33m(\u001b[0m\u001b[0mfillstyle\u001b[0m\u001b[1;33m)\u001b[0m\u001b[1;33m\u001b[0m\u001b[0m\n\u001b[1;32m--> 245\u001b[1;33m         \u001b[0mself\u001b[0m\u001b[1;33m.\u001b[0m\u001b[0mset_marker\u001b[0m\u001b[1;33m(\u001b[0m\u001b[0mmarker\u001b[0m\u001b[1;33m)\u001b[0m\u001b[1;33m\u001b[0m\u001b[0m\n\u001b[0m\u001b[0;32m    246\u001b[0m \u001b[1;33m\u001b[0m\u001b[0m\n\u001b[0;32m    247\u001b[0m     \u001b[1;32mdef\u001b[0m \u001b[0m_recache\u001b[0m\u001b[1;33m(\u001b[0m\u001b[0mself\u001b[0m\u001b[1;33m)\u001b[0m\u001b[1;33m:\u001b[0m\u001b[1;33m\u001b[0m\u001b[0m\n",
      "\u001b[1;32mc:\\users\\martin\\anaconda3\\envs\\tensorflow\\lib\\site-packages\\matplotlib\\markers.py\u001b[0m in \u001b[0;36mset_marker\u001b[1;34m(self, marker)\u001b[0m\n\u001b[0;32m    316\u001b[0m \u001b[1;33m\u001b[0m\u001b[0m\n\u001b[0;32m    317\u001b[0m         \u001b[0mself\u001b[0m\u001b[1;33m.\u001b[0m\u001b[0m_marker\u001b[0m \u001b[1;33m=\u001b[0m \u001b[0mmarker\u001b[0m\u001b[1;33m\u001b[0m\u001b[0m\n\u001b[1;32m--> 318\u001b[1;33m         \u001b[0mself\u001b[0m\u001b[1;33m.\u001b[0m\u001b[0m_recache\u001b[0m\u001b[1;33m(\u001b[0m\u001b[1;33m)\u001b[0m\u001b[1;33m\u001b[0m\u001b[0m\n\u001b[0m\u001b[0;32m    319\u001b[0m \u001b[1;33m\u001b[0m\u001b[0m\n\u001b[0;32m    320\u001b[0m     \u001b[1;32mdef\u001b[0m \u001b[0mget_path\u001b[0m\u001b[1;33m(\u001b[0m\u001b[0mself\u001b[0m\u001b[1;33m)\u001b[0m\u001b[1;33m:\u001b[0m\u001b[1;33m\u001b[0m\u001b[0m\n",
      "\u001b[1;32mc:\\users\\martin\\anaconda3\\envs\\tensorflow\\lib\\site-packages\\matplotlib\\markers.py\u001b[0m in \u001b[0;36m_recache\u001b[1;34m(self)\u001b[0m\n\u001b[0;32m    256\u001b[0m         \u001b[0mself\u001b[0m\u001b[1;33m.\u001b[0m\u001b[0m_capstyle\u001b[0m \u001b[1;33m=\u001b[0m \u001b[1;34m'butt'\u001b[0m\u001b[1;33m\u001b[0m\u001b[0m\n\u001b[0;32m    257\u001b[0m         \u001b[0mself\u001b[0m\u001b[1;33m.\u001b[0m\u001b[0m_filled\u001b[0m \u001b[1;33m=\u001b[0m \u001b[1;32mTrue\u001b[0m\u001b[1;33m\u001b[0m\u001b[0m\n\u001b[1;32m--> 258\u001b[1;33m         \u001b[0mself\u001b[0m\u001b[1;33m.\u001b[0m\u001b[0m_marker_function\u001b[0m\u001b[1;33m(\u001b[0m\u001b[1;33m)\u001b[0m\u001b[1;33m\u001b[0m\u001b[0m\n\u001b[0m\u001b[0;32m    259\u001b[0m \u001b[1;33m\u001b[0m\u001b[0m\n\u001b[0;32m    260\u001b[0m     \u001b[1;32mdef\u001b[0m \u001b[0m__bool__\u001b[0m\u001b[1;33m(\u001b[0m\u001b[0mself\u001b[0m\u001b[1;33m)\u001b[0m\u001b[1;33m:\u001b[0m\u001b[1;33m\u001b[0m\u001b[0m\n",
      "\u001b[1;32mc:\\users\\martin\\anaconda3\\envs\\tensorflow\\lib\\site-packages\\matplotlib\\markers.py\u001b[0m in \u001b[0;36m_set_tickleft\u001b[1;34m(self)\u001b[0m\n\u001b[0;32m    752\u001b[0m \u001b[1;33m\u001b[0m\u001b[0m\n\u001b[0;32m    753\u001b[0m     \u001b[1;32mdef\u001b[0m \u001b[0m_set_tickleft\u001b[0m\u001b[1;33m(\u001b[0m\u001b[0mself\u001b[0m\u001b[1;33m)\u001b[0m\u001b[1;33m:\u001b[0m\u001b[1;33m\u001b[0m\u001b[0m\n\u001b[1;32m--> 754\u001b[1;33m         \u001b[0mself\u001b[0m\u001b[1;33m.\u001b[0m\u001b[0m_transform\u001b[0m \u001b[1;33m=\u001b[0m \u001b[0mAffine2D\u001b[0m\u001b[1;33m(\u001b[0m\u001b[1;33m)\u001b[0m\u001b[1;33m.\u001b[0m\u001b[0mscale\u001b[0m\u001b[1;33m(\u001b[0m\u001b[1;33m-\u001b[0m\u001b[1;36m1.0\u001b[0m\u001b[1;33m,\u001b[0m \u001b[1;36m1.0\u001b[0m\u001b[1;33m)\u001b[0m\u001b[1;33m\u001b[0m\u001b[0m\n\u001b[0m\u001b[0;32m    755\u001b[0m         \u001b[0mself\u001b[0m\u001b[1;33m.\u001b[0m\u001b[0m_snap_threshold\u001b[0m \u001b[1;33m=\u001b[0m \u001b[1;36m1.0\u001b[0m\u001b[1;33m\u001b[0m\u001b[0m\n\u001b[0;32m    756\u001b[0m         \u001b[0mself\u001b[0m\u001b[1;33m.\u001b[0m\u001b[0m_filled\u001b[0m \u001b[1;33m=\u001b[0m \u001b[1;32mFalse\u001b[0m\u001b[1;33m\u001b[0m\u001b[0m\n",
      "\u001b[1;32mc:\\users\\martin\\anaconda3\\envs\\tensorflow\\lib\\site-packages\\matplotlib\\transforms.py\u001b[0m in \u001b[0;36m__init__\u001b[1;34m(self, matrix, **kwargs)\u001b[0m\n\u001b[0;32m   1881\u001b[0m         \u001b[1;32mif\u001b[0m \u001b[0mmatrix\u001b[0m \u001b[1;32mis\u001b[0m \u001b[1;32mNone\u001b[0m\u001b[1;33m:\u001b[0m\u001b[1;33m\u001b[0m\u001b[0m\n\u001b[0;32m   1882\u001b[0m             \u001b[1;31m# A bit faster than np.identity(3).\u001b[0m\u001b[1;33m\u001b[0m\u001b[1;33m\u001b[0m\u001b[0m\n\u001b[1;32m-> 1883\u001b[1;33m             \u001b[0mmatrix\u001b[0m \u001b[1;33m=\u001b[0m \u001b[0mIdentityTransform\u001b[0m\u001b[1;33m.\u001b[0m\u001b[0m_mtx\u001b[0m\u001b[1;33m.\u001b[0m\u001b[0mcopy\u001b[0m\u001b[1;33m(\u001b[0m\u001b[1;33m)\u001b[0m\u001b[1;33m\u001b[0m\u001b[0m\n\u001b[0m\u001b[0;32m   1884\u001b[0m         \u001b[0mself\u001b[0m\u001b[1;33m.\u001b[0m\u001b[0m_mtx\u001b[0m \u001b[1;33m=\u001b[0m \u001b[0mmatrix\u001b[0m\u001b[1;33m\u001b[0m\u001b[0m\n\u001b[0;32m   1885\u001b[0m         \u001b[0mself\u001b[0m\u001b[1;33m.\u001b[0m\u001b[0m_invalid\u001b[0m \u001b[1;33m=\u001b[0m \u001b[1;36m0\u001b[0m\u001b[1;33m\u001b[0m\u001b[0m\n",
      "\u001b[1;31mKeyboardInterrupt\u001b[0m: "
     ]
    }
   ],
   "source": [
    "#df_teams_corners_per_minute['Season'] == '2016/2017'\n",
    "#df_teams_corners_per_minute = df_teams_corners_per_minute[(df_teams_corners_per_minute['League'] == 'Premier League') ]\n",
    "\n",
    "#print(df_teams_corners_per_minute.head(5))\n",
    "#df_teams_corners_per_minute.head()\n",
    "\n",
    "groups = df_corners_per_team.groupby(['FullName'])\n",
    "\n",
    "print(groups.head())\n",
    "groups.describe()\n",
    "import matplotlib.pyplot as plt\n",
    "for group in groups:\n",
    "    #figure()\n",
    "    #plt.\n",
    "    print(group[1].FullName.values[0])\n",
    "    plt.hist(group[1].Minute, bins=45)\n",
    "    #cumulative=1, density=True, histtype='step'\n",
    "    axes = plt.gca()\n",
    "    axes.set_xlim([0,90])\n",
    "    #axes.set_ylim([0,50])\n",
    "    plt.show()\n",
    "   \n",
    "#df_teams_corners_per_minute['Minute'].hist(by=df_teams_corners_per_minute['count'])"
   ]
  },
  {
   "cell_type": "code",
   "execution_count": null,
   "metadata": {},
   "outputs": [],
   "source": [
    "stmt = \"\"\"SELECT DISTINCT  Matches.Id as MatchId, Goals.ExternalId, convert (bigint,  Goals.Minute) as Minute, Teams.ExternalId as TeamId,\n",
    "    Teams.FullName, Teams.Acronym,Matches.Season\n",
    " FROM [FootballData].[dbo].[Teams]\n",
    "RIGHT JOIN [Goals] ON Goals.TeamId = Teams.ExternalId\n",
    "LEFT JOIN [Matches] ON [Matches].ExternalId = Goals.MatchId\n",
    "AND Matches.Season = '2018/2019'\n",
    "\"\"\"\n",
    "#WHERE League like 'Premier League'\n",
    "\n",
    "df_goals_per_team = pd.read_sql(stmt,conn)\n",
    "#df_goals_per_team = df_goals_per_team['Minute'].notnull()\n",
    "\n",
    "df_goals_per_team.drop_duplicates(['ExternalId'], inplace=True)\n",
    "print(df_goals_per_team.shape)\n",
    "df_goals_per_team.sample(10)"
   ]
  },
  {
   "cell_type": "code",
   "execution_count": null,
   "metadata": {},
   "outputs": [],
   "source": [
    "groups = df_goals_per_team.groupby(['FullName'])\n",
    "\n",
    "print(groups.head())\n",
    "groups.describe()\n",
    "import matplotlib.pyplot as plt\n",
    "for group in groups:\n",
    "    #figure()\n",
    "    #plt.\n",
    "    print(group[1].FullName.values[0])\n",
    "    plt.hist(group[1].Minute, bins=45)\n",
    "    #cumulative=1, density=True, histtype='step'\n",
    "    axes = plt.gca()\n",
    "    axes.set_xlim([0,90])\n",
    "    #axes.set_ylim([0,50])\n",
    "    plt.show()"
   ]
  },
  {
   "cell_type": "code",
   "execution_count": null,
   "metadata": {},
   "outputs": [],
   "source": [
    "stmt = \"SELECT * FROM Corners\"\n",
    "df_corners = pd.read_sql(stmt,conn)\n",
    "#df_corners = df_corners['Minute'].notnull()\n",
    "print(df_corners.shape)\n",
    "df_corners.head()\n",
    "\n",
    "stmt = \"SELECT * FROM Matches\"\n",
    "df_matches = pd.read_sql(stmt,conn)\n",
    "print(df_matches.shape)\n",
    "df_matches.head()\n",
    "\n",
    "result = pd.merge(df_corners.set_index(\"MatchId\"),df_matches.set_index(\"ExternalId\"), how='left')\n",
    "#result_1718 = result[result.Season == '2017/2018']\n",
    "\n",
    "#premier_league = result[(result['Season']  == '2017/2018') & (result['League']  == 'Premier League')]\n",
    "premier_league = result[ (result['Season'] == '2017/2018') & (result['League'] == 'Ligue 1')]\n",
    "\n",
    "print(result.shape)\n",
    "\n",
    "#groups = premier_league.groupby(['MatchId'])\n",
    "#groups.groups.keys()\n",
    "#df_goals.head()\n",
    "#groups = df_corners.groupby(['MatchId'])\n",
    "#groups.groups.keys()\n",
    "df_goals.head()\n",
    "\n",
    "minutes_sum = df_corners.groupby(['MatchId', 'TeamId']).apply(\n",
    "    lambda x: \"{%s}\" % ', '.join(x.Minute + ' '))\n",
    "#minutes_sum = df_corners.groupby('MatchId')['MatchId', 'TeamId','Minute']\n",
    "#print(premier_league[:10].head())\n",
    "#print(result_premier_league_1718)\n",
    "premier_league_minutes = premier_league[premier_league['Minute'].notnull()]\n",
    "print(premier_league_minutes.shape)\n",
    "minutes_sum\n",
    "#print(list(premier_league_minutes.columns.values))"
   ]
  },
  {
   "cell_type": "code",
   "execution_count": null,
   "metadata": {},
   "outputs": [],
   "source": [
    "stmt = \"SELECT * FROM Goals\"\n",
    "# Excute Query here\n",
    "df_goals = pd.read_sql(stmt,conn)\n",
    "print(df_goals.shape)\n",
    "df_goals.head()\n"
   ]
  },
  {
   "cell_type": "code",
   "execution_count": null,
   "metadata": {
    "scrolled": false
   },
   "outputs": [],
   "source": [
    "print(df_matches.shape)\n",
    "print(df_goals.shape)\n",
    "goals = pd.merge(df_matches.set_index(\"ExternalId\"), df_goals.set_index(\"MatchId\"),  how='left')\n",
    "#result = goals[goals['Minute'].notnull()]\n",
    "print(goals.shape)\n",
    "#group by season\n",
    "premier_league = goals[(goals['League'] == 'Premier League') & (goals['Season'] == '2016/2017')]\n",
    "premier_league.head()\n",
    "\n",
    "premier_league['Minute'] = premier_league['Minute'].astype(int)\n",
    "#premier_league.loc[premier_league['Minute']] = premier_league['Minute'].astype(int)\n",
    "\n",
    "for number in range(0, 90, 10):\n",
    "    from_minute = number\n",
    "    to_minute = number + 10\n",
    "    goals_by_minute = premier_league.groupby(['TeamId'])['Minute'].apply(\n",
    "        lambda x: len(x.where(\n",
    "            lambda y : y > from_minute).where(lambda z:z < to_minute).dropna()))   \n",
    "    #print(goals)\n",
    "    #with pd.option_context('display.max_rows', None, 'display.max_columns', 3):\n",
    "       # print(goals)\n",
    "#goals_teams = goa\n",
    "#len(teams.groups)\n",
    "premier_league.head(2)"
   ]
  },
  {
   "cell_type": "code",
   "execution_count": null,
   "metadata": {},
   "outputs": [],
   "source": [
    "result = pd.merge(df_matches.set_index(\"ExternalId\"), df_corners.set_index(\"MatchId\"),  how='left')\n",
    "#premier_league = result[(result['Season']  == '2017/2018') & (result['League']  == 'Premier League')]\n",
    "premier_league = result[ (result['Season'] == '2017/2018') & (result['League'] == 'Ligue 1')]\n",
    "#print(result.shape)\n",
    "\n",
    "\n",
    "#teams_coreners = df_corners.groupby('TeamId')\n",
    "goal_matches = pd.merge(df_corners.set_index(\"MatchId\"), df_matches.set_index(\"ExternalId\"), how='right')\n",
    "\n",
    "#goal_matches_home_team = pd.merge(goal_matches.set_index(\"HomeTeam_Id\"), df_teams.set_index(\"ExternalId\"), how='left')\n",
    "#goal_matches_home_team.rename(columns={'Ful': 'FullNameHome'}, inplace=True)\n",
    "#goal_matches_home_team.rename(columns={'Acronym': 'AcronymHome'}, inplace=True)\n",
    "#goal_matches_home_team.rename(columns={'TeamId': 'HomeTeamId'}, inplace=True)\n",
    "#goal_matches_home_team_away_team = pd.merge(goal_matches_home_team.set_index(\"AwayTeam_Id\"), df_teams.set_index(\"ExternalId\"), how='left')\n",
    "#goal_matches_home_team_away_team\n",
    "#goal_matches_home_team\n",
    "result.head(2)\n",
    "#goal_matches_home_team_away_team\n",
    "#['Minute','TeamId'].apply(\n",
    "#    lambda x: \"{%s}\" % ', '.join(x.Minute + ' ' + x.TeamId))\n",
    "#minutes_sum = result.groupby(['TeamId'], as_index=True)['Minute']hg\n",
    "#minutes_sum\n",
    "#['Minute']\n",
    "#minutes_sum = df_corners.groupby('MatchId')['MatchId', 'TeamId','Minute']\n",
    "#print(premier_league[:10].head())\n",
    "#print(result_premier_league_1718)\n",
    "#premier_league_minutes = premier_league[premier_league['Minute'].notnull()]\n",
    "#print(premier_league_minutes.shape)\n",
    "#minutes_sum.first()\n",
    "#print(list(premier_league_minutes.columns.values))"
   ]
  },
  {
   "cell_type": "markdown",
   "metadata": {},
   "source": []
  },
  {
   "cell_type": "code",
   "execution_count": null,
   "metadata": {
    "scrolled": false
   },
   "outputs": [],
   "source": [
    "goals = pd.merge( df_matches.set_index(\"ExternalId\"), df_goals.set_index(\"MatchId\"), how='left')\n",
    "#result = goals[goals['Minute'].notnull()]\n",
    "print(result.shape)\n",
    "premier_league = goals[(goals['League'] == 'Premier League') & (goals['Season'] == '2016/2017')]\n",
    "premier_league.head(2)\n",
    "\n",
    "#premier_league['Minute'] = premier_league['Minute'].astype(int)\n",
    "#premier_league.loc[premier_league['Minute']] = premier_league['Minute'].astype(int)\n",
    "\n",
    "#premier_league['TeamId'].hist(by=premier_league['Minute'])\n",
    "\n",
    "# for number in range(0, 90, 10):\n",
    "#     from_minute = number\n",
    "#     to_minute = number + 10\n",
    "#     goals = premier_league.groupby(['TeamId'])['Minute'].apply(lambda x: len(x.where(lambda y : y > from_minute).where(lambda z:z < to_minute).dropna()))   \n",
    "#     print(goals)\n",
    "# #goals_teams = goa\n",
    "# #len(teams.groups)\n",
    "\n",
    "#print(teams.groups.keys())"
   ]
  },
  {
   "cell_type": "code",
   "execution_count": null,
   "metadata": {},
   "outputs": [],
   "source": [
    "#groups = df_goals.groupby(['MatchId'])\n",
    "#groups.groups.keys()\n",
    "#df_goals.head()\n",
    "minutes_sum = df_goals.groupby(['MatchId', 'TeamId',], as_index=True, sort=True)\n",
    "#minutes_sum.last()\n",
    "minutes_sum.count()\n",
    "#print(minutes_sum.shape)\n",
    "#df_goals.head(10)\n",
    "#groups.groups['1709877']\n",
    "#minutes_sum.groups\n",
    "#result = minutes_sum.get_group(('1709702','9748'))"
   ]
  },
  {
   "cell_type": "code",
   "execution_count": null,
   "metadata": {},
   "outputs": [],
   "source": [
    "# def get_last_matches(date, team, x = 10):\n",
    "#     ''' Get the last x matches of a given team. '''\n",
    "    \n",
    "#     #Filter team matches from matches\n",
    "#     team_matches = df_matches[(df_matches['HomeTeam'] == team) | (df_matches['AwayTeam'] == team)].drop_duplicates(['ExternalId'])\n",
    "#     team_matches['ExternalId'] = team_matches['ExternalId'].astype(int)\n",
    "#     #Filter x last matches from team matches\n",
    "#     last_matches = team_matches[team_matches.Date < date].sort_values(by = 'Date', ascending = False).iloc[0:x,:]\n",
    "\n",
    "#     #Return last matches\n",
    "#     return last_matches\n",
    "\n",
    "# last_matches = get_last_matches(\"2018-08-27 15:00:00\", \"Arsenal\")\n",
    "# last_matches.head()"
   ]
  },
  {
   "cell_type": "code",
   "execution_count": null,
   "metadata": {
    "collapsed": true
   },
   "outputs": [],
   "source": []
  },
  {
   "cell_type": "code",
   "execution_count": null,
   "metadata": {
    "collapsed": true
   },
   "outputs": [],
   "source": []
  }
 ],
 "metadata": {
  "kernelspec": {
   "display_name": "Python 3",
   "language": "python",
   "name": "python3"
  },
  "language_info": {
   "codemirror_mode": {
    "name": "ipython",
    "version": 3
   },
   "file_extension": ".py",
   "mimetype": "text/x-python",
   "name": "python",
   "nbconvert_exporter": "python",
   "pygments_lexer": "ipython3",
   "version": "3.6.5"
  }
 },
 "nbformat": 4,
 "nbformat_minor": 2
}
